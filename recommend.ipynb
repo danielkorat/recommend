{
 "cells": [
  {
   "cell_type": "code",
   "execution_count": 1,
   "metadata": {},
   "outputs": [],
   "source": [
    "import sys\n",
    "!{sys.executable} -m pip install -q -q -r requirements.txt"
   ]
  },
  {
   "cell_type": "code",
   "execution_count": 2,
   "metadata": {},
   "outputs": [],
   "source": [
    "import datetime, os, random, shutil, urllib.request, zipfile, time, warnings\n",
    "warnings.filterwarnings('ignore')\n",
    "from functools import wraps\n",
    "from math import trunc\n",
    "import numpy as np\n",
    "import pandas as pd\n",
    "from pathlib import Path\n",
    "from urllib.request import urlopen\n",
    "from zipfile import ZipFile\n",
    "from scipy.sparse.linalg import norm\n",
    "import scipy.sparse as ss\n",
    "from scipy.sparse.linalg import svds\n",
    "from tqdm import tqdm\n",
    "from numba import njit\n",
    "from sklearn.metrics import mean_squared_error as mse\n",
    "import plotly.express as px\n",
    "\n",
    "SEED = 123\n",
    "def seed_everything(seed=SEED):\n",
    "    random.seed(seed)\n",
    "    os.environ['PYTHONHASHSEED'] = str(seed)\n",
    "    np.random.seed(seed)\n",
    "seed_everything()"
   ]
  },
  {
   "cell_type": "markdown",
   "metadata": {
    "id": "8mktkcXOFQrw"
   },
   "source": [
    "# Preprocessing"
   ]
  },
  {
   "cell_type": "code",
   "execution_count": 3,
   "metadata": {
    "id": "lj_Na91f60Vw"
   },
   "outputs": [],
   "source": [
    "def get_dataset():\n",
    "    path = Path(\"m1.zip\")\n",
    "    if not path.exists():\n",
    "        with path.open(\"wb\") as f:\n",
    "            print(\"Downloading dataset...\")\n",
    "            f.write(urlopen(\"http://files.grouplens.org/datasets/movielens/ml-1m.zip\").read())\n",
    "    if not Path(\"ml-1m\").is_dir():\n",
    "        print(\"unzipping...\")\n",
    "        with ZipFile(\"m1.zip\") as zf:\n",
    "            zf.extractall()\n",
    "    ratings_list = [i.strip().split(\"::\") for i in open('ml-1m/ratings.dat', 'r').readlines()]\n",
    "    ratings_df = pd.DataFrame(ratings_list, columns = ['UserID', 'MovieID', 'Rating', 'Timestamp'], dtype = int)\n",
    "    ratings_df['Rating'] = ratings_df['Rating'].apply(pd.to_numeric)\n",
    "    return ratings_df"
   ]
  },
  {
   "cell_type": "code",
   "execution_count": 6,
   "metadata": {
    "id": "iI9441n7DltF"
   },
   "outputs": [],
   "source": [
    "def split(df):\n",
    "    R_df = ratings_df.pivot(index = 'UserID', columns ='MovieID', values = 'Rating').fillna(0)\n",
    "    seed_everything()\n",
    "    test_indices = np.array(random.sample(list(np.argwhere(R_df.values>0)), 2500))\n",
    "\n",
    "    x_indices = test_indices[:,0]\n",
    "    y_indices = test_indices[:,1]\n",
    "    u_ids = R_df.index[x_indices].astype(np.int32)\n",
    "    i_ids = R_df.columns[y_indices].astype(np.int32)\n",
    "    \n",
    "    df['UserID'] = df['UserID'].astype(np.int32)\n",
    "    df['MovieID'] = df['MovieID'].astype(np.int32)\n",
    "    df['Rating'] = df['Rating'].astype(np.float64)\n",
    "    \n",
    "    df= df.drop(columns=['Timestamp'], errors='ignore')\n",
    "    \n",
    "    test = []\n",
    "    for u_id, i_id in zip(u_ids, i_ids):\n",
    "        test.append(df.loc[(df['UserID'] == u_id) & (df['MovieID'] == i_id)])\n",
    "    test_df = pd.concat(test)\n",
    "    train_df= df.drop(test_df.index.tolist())\n",
    "    \n",
    "    return train_df, test_df"
   ]
  },
  {
   "cell_type": "code",
   "execution_count": 7,
   "metadata": {
    "colab": {
     "base_uri": "https://localhost:8080/",
     "height": 204
    },
    "id": "-6PSReAzrbvQ",
    "outputId": "539848f5-c47e-4a7d-8558-02545f03bbc0"
   },
   "outputs": [],
   "source": [
    "ratings_df = get_dataset()\n",
    "train_df, test_df = split(ratings_df)"
   ]
  },
  {
   "cell_type": "markdown",
   "metadata": {
    "id": "oQh7Ixoyycky"
   },
   "source": [
    "# Funk-SVD"
   ]
  },
  {
   "cell_type": "markdown",
   "metadata": {},
   "source": [
    "## Numba Methods"
   ]
  },
  {
   "cell_type": "code",
   "execution_count": 15,
   "metadata": {},
   "outputs": [],
   "source": [
    "@njit\n",
    "def _shuffle(X):\n",
    "    np.random.shuffle(X)\n",
    "    return X\n",
    "\n",
    "@njit\n",
    "def _initialization(n_users, n_items, n_factors):\n",
    "    bu = np.zeros(n_users)\n",
    "    bi = np.zeros(n_items)\n",
    "    pu = np.random.normal(0, .1, (n_users, n_factors))\n",
    "    qi = np.random.normal(0, .1, (n_items, n_factors))\n",
    "    return bu, bi, pu, qi\n",
    "\n",
    "@njit\n",
    "def _run_epoch(X, bu, bi, pu, qi, global_mean, n_factors, lr, reg):\n",
    "    for i in range(X.shape[0]):\n",
    "        user, item, rating = int(X[i, 0]), int(X[i, 1]), X[i, 2]\n",
    "\n",
    "        # Predict current rating\n",
    "        pred = global_mean + bu[user] + bi[item]\n",
    "\n",
    "        for factor in range(n_factors):\n",
    "            pred += pu[user, factor] * qi[item, factor]\n",
    "        err = rating - pred\n",
    "\n",
    "        # Update biases\n",
    "        bu[user] += lr * (err - reg * bu[user])\n",
    "        bi[item] += lr * (err - reg * bi[item])\n",
    "\n",
    "        # Update latent factors\n",
    "        for factor in range(n_factors):\n",
    "            puf = pu[user, factor]\n",
    "            qif = qi[item, factor]\n",
    "            pu[user, factor] += lr * (err * qif - reg * puf)\n",
    "            qi[item, factor] += lr * (err * puf - reg * qif)\n",
    "    return bu, bi, pu, qi\n",
    "\n",
    "@njit\n",
    "def _compute_metrics(X_val, bu, bi, pu, qi, global_mean, n_factors):\n",
    "    residuals = []\n",
    "    for i in range(X_val.shape[0]):\n",
    "        user, item, rating = int(X_val[i, 0]), int(X_val[i, 1]), X_val[i, 2]\n",
    "        pred = global_mean\n",
    "        if user > -1:\n",
    "            pred += bu[user]\n",
    "        if item > -1:\n",
    "            pred += bi[item]\n",
    "        if (user > -1) and (item > -1):\n",
    "            for factor in range(n_factors):\n",
    "                pred += pu[user, factor] * qi[item, factor]\n",
    "        residuals.append(rating - pred)\n",
    "    residuals = np.array(residuals)\n",
    "    loss = np.square(residuals).mean()\n",
    "    rmse = np.sqrt(loss)\n",
    "    mae = np.absolute(residuals).mean()\n",
    "    return loss, rmse, mae"
   ]
  },
  {
   "cell_type": "markdown",
   "metadata": {},
   "source": [
    "## Funk SVD Class"
   ]
  },
  {
   "cell_type": "code",
   "execution_count": 35,
   "metadata": {},
   "outputs": [],
   "source": [
    "class SVD:\n",
    "    def __init__(self, lr=.005, reg=.02, n_epochs=20, n_factors=100,\n",
    "                 early_stopping=False, shuffle=False, min_delta=.001,\n",
    "                 min_rating=1, max_rating=5):\n",
    "\n",
    "        self.lr = lr\n",
    "        self.reg = reg\n",
    "        self.n_epochs = n_epochs\n",
    "        self.n_factors = n_factors\n",
    "        self.early_stopping = early_stopping\n",
    "        self.shuffle = shuffle\n",
    "        self.min_delta = min_delta\n",
    "        self.min_rating = min_rating\n",
    "        self.max_rating = max_rating\n",
    "\n",
    "    def fit(self, X, X_val=None):\n",
    "        X = self._preprocess_data(X)\n",
    "\n",
    "        if X_val is not None:\n",
    "            X_val = self._preprocess_data(X_val, train=False, verbose=False)\n",
    "            self._init_metrics()\n",
    "        self.global_mean_ = np.mean(X[:, 2])\n",
    "        return self._run_sgd(X, X_val)\n",
    "\n",
    "    def _preprocess_data(self, X, train=True, verbose=True):\n",
    "        X = X.copy()\n",
    "\n",
    "        if train:  # Mappings have to be created\n",
    "            user_ids = X['UserID'].unique().tolist()\n",
    "            item_ids = X['MovieID'].unique().tolist()\n",
    "            n_users = len(user_ids)\n",
    "            n_items = len(item_ids)\n",
    "            user_idx = range(n_users)\n",
    "            item_idx = range(n_items)\n",
    "            self.user_mapping_ = dict(zip(user_ids, user_idx))\n",
    "            self.item_mapping_ = dict(zip(item_ids, item_idx))\n",
    "        X['UserID'] = X['UserID'].map(self.user_mapping_)\n",
    "        X['MovieID'] = X['MovieID'].map(self.item_mapping_)\n",
    "\n",
    "        # Tag validation set unknown users/items with -1 (enables\n",
    "        # `fast_methods._compute_val_metrics` detecting them)\n",
    "        X.fillna(-1, inplace=True)\n",
    "        \n",
    "        X['UserID'] = X['UserID'].astype(np.int32)\n",
    "        X['MovieID'] = X['MovieID'].astype(np.int32)\n",
    "        return X[['UserID', 'MovieID', 'Rating']].values\n",
    "\n",
    "    def _init_metrics(self):\n",
    "        metrics = np.zeros((self.n_epochs, 3), dtype=np.float)\n",
    "        self.metrics_ = pd.DataFrame(metrics, columns=['Loss', 'RMSE', 'MAE'])\n",
    "\n",
    "    def _run_sgd(self, X, X_val):\n",
    "        metric_names = 'Loss', 'RMSE', 'MAE'\n",
    "        n_users, n_items = len(np.unique(X[:, 0])), len(np.unique(X[:, 1]))\n",
    "        val_loss, val_rmse = '', ''\n",
    "        bu, bi, pu, qi = _initialization(n_users, n_items, self.n_factors)\n",
    "\n",
    "        # Run SGD\n",
    "        pbar = tqdm(range(self.n_epochs), desc='Epoch', ncols=110)\n",
    "        for epoch_ix in pbar:\n",
    "            bu, bi, pu, qi = \\\n",
    "                _run_epoch(X, bu, bi, pu, qi, self.global_mean_, self.n_factors, self.lr, self.reg)\n",
    "            \n",
    "            if X_val is not None:\n",
    "                self.metrics_.loc[epoch_ix, :] = _compute_metrics(\n",
    "                                                     X_val, bu, bi, pu, qi,\n",
    "                                                     self.global_mean_,\n",
    "                                                     self.n_factors)\n",
    "                \n",
    "                f = lambda x: f\"{self.metrics_.loc[epoch_ix, x]:.3f}\"\n",
    "                pbar.set_postfix({f'val_{m.lower()}': f(m) for m in metric_names})\n",
    "                if self._early_stopping(epoch_ix, self.min_delta):\n",
    "                    break\n",
    "\n",
    "        self.bu_, self.bi_, self.pu_, self.qi_ = bu, bi, pu, qi\n",
    "        return {f\"val_{m.lower()}\": self.metrics_[m].tolist() for m in metric_names}\n",
    "\n",
    "    def predict(self, X, clip=True):\n",
    "        return [self.predict_pair(u_id, i_id, clip)\\\n",
    "                for u_id, i_id in zip(X['UserID'], X['MovieID'])]\n",
    "\n",
    "    def predict_pair(self, u_id, i_id, clip=True):\n",
    "        user_known, item_known = False, False\n",
    "        pred = self.global_mean_\n",
    "\n",
    "        if u_id in self.user_mapping_:\n",
    "            user_known = True\n",
    "            u_ix = self.user_mapping_[u_id]\n",
    "            pred += self.bu_[u_ix]\n",
    "        if i_id in self.item_mapping_:\n",
    "            item_known = True\n",
    "            i_ix = self.item_mapping_[i_id]\n",
    "            pred += self.bi_[i_ix]\n",
    "        if user_known and item_known:\n",
    "            pred += np.dot(self.pu_[u_ix], self.qi_[i_ix])\n",
    "        if clip:\n",
    "            pred = self.max_rating if pred > self.max_rating else pred\n",
    "            pred = self.min_rating if pred < self.min_rating else pred\n",
    "        return pred\n",
    "\n",
    "    def _early_stopping(self, epoch_idx, min_delta):\n",
    "        val_rmse = self.metrics_['RMSE'].tolist()\n",
    "        if self.early_stopping and epoch_idx > 0:\n",
    "            if val_rmse[epoch_idx] + min_delta > val_rmse[epoch_idx-1]:\n",
    "                self.metrics_ = self.metrics_.loc[:(epoch_idx+1), :]\n",
    "                return True\n",
    "        return False"
   ]
  },
  {
   "cell_type": "code",
   "execution_count": 62,
   "metadata": {
    "cellView": "code",
    "id": "vfXchdoCr7Z5"
   },
   "outputs": [
    {
     "name": "stderr",
     "output_type": "stream",
     "text": [
      "Epoch:  72%|████████████▏    | 215/300 [00:15<00:06, 14.15it/s, val_loss=0.732, val_rmse=0.856, val_mae=0.671]\n"
     ]
    },
    {
     "name": "stdout",
     "output_type": "stream",
     "text": [
      "Test RMSE: 0.8552\n",
      "\n",
      "Hyperparams: \n",
      "('shuffle', False)\n",
      "('min_rating', 1)\n",
      "('max_rating', 5)\n",
      "('early_stopping', True)\n",
      "('min_delta', 1e-05)\n",
      "('lr', 0.0006)\n",
      "('reg', 0.015)\n",
      "('n_epochs', 300)\n",
      "('n_factors', 25)\n"
     ]
    }
   ],
   "source": [
    "def rmse(y_true, y_pred):\n",
    "    return mse(y_true, y_pred, squared=False)\n",
    "\n",
    "def funk(train, test, **kw):\n",
    "    hparams = '\\n'.join(map(str, kw.items()))\n",
    "    seed_everything()\n",
    "    svd = SVD(**kw)\n",
    "    hist = svd.fit(X=train, X_val=test)\n",
    "    y_true, y_pred = test['Rating'], svd.predict(test)\n",
    "    print(f\"Test RMSE: {rmse(y_true, y_pred):.4f}\\n\\nHyperparams: \\n{hparams}\")\n",
    "    return hist\n",
    "\n",
    "hist = funk(train=train_df, test=test_df,\n",
    "                shuffle=False, min_rating=1, max_rating=5, early_stopping=True,\n",
    "                min_delta=.00001,\n",
    "                lr=.0006,\n",
    "                reg=.015,\n",
    "                n_epochs=300,\n",
    "                n_factors=25)"
   ]
  },
  {
   "cell_type": "code",
   "execution_count": 63,
   "metadata": {},
   "outputs": [
    {
     "data": {
      "application/vnd.plotly.v1+json": {
       "config": {
        "plotlyServerURL": "https://plot.ly"
       },
       "data": [
        {
         "hovertemplate": "variable=val_loss<br>Epoch=%{x}<br>value=%{y}<extra></extra>",
         "legendgroup": "val_loss",
         "line": {
          "color": "#636efa",
          "dash": "solid"
         },
         "mode": "lines",
         "name": "val_loss",
         "orientation": "v",
         "showlegend": true,
         "type": "scatter",
         "x": [
          0,
          1,
          2,
          3,
          4,
          5,
          6,
          7,
          8,
          9,
          10,
          11,
          12,
          13,
          14,
          15,
          16,
          17,
          18,
          19,
          20,
          21,
          22,
          23,
          24,
          25,
          26,
          27,
          28,
          29,
          30,
          31,
          32,
          33,
          34,
          35,
          36,
          37,
          38,
          39,
          40,
          41,
          42,
          43,
          44,
          45,
          46,
          47,
          48,
          49,
          50,
          51,
          52,
          53,
          54,
          55,
          56,
          57,
          58,
          59,
          60,
          61,
          62,
          63,
          64,
          65,
          66,
          67,
          68,
          69,
          70,
          71,
          72,
          73,
          74,
          75,
          76,
          77,
          78,
          79,
          80,
          81,
          82,
          83,
          84,
          85,
          86,
          87,
          88,
          89,
          90,
          91,
          92,
          93,
          94,
          95,
          96,
          97,
          98,
          99,
          100,
          101,
          102,
          103,
          104,
          105,
          106,
          107,
          108,
          109,
          110,
          111,
          112,
          113,
          114,
          115,
          116,
          117,
          118,
          119,
          120,
          121,
          122,
          123,
          124,
          125,
          126,
          127,
          128,
          129,
          130,
          131,
          132,
          133,
          134,
          135,
          136,
          137,
          138,
          139,
          140,
          141,
          142,
          143,
          144,
          145,
          146,
          147,
          148,
          149,
          150,
          151,
          152,
          153,
          154,
          155,
          156,
          157,
          158,
          159,
          160,
          161,
          162,
          163,
          164,
          165,
          166,
          167,
          168,
          169,
          170,
          171,
          172,
          173,
          174,
          175,
          176,
          177,
          178,
          179,
          180,
          181,
          182,
          183,
          184,
          185,
          186,
          187,
          188,
          189,
          190,
          191,
          192,
          193,
          194,
          195,
          196,
          197,
          198,
          199,
          200,
          201,
          202,
          203,
          204,
          205,
          206,
          207,
          208,
          209,
          210,
          211,
          212,
          213,
          214,
          215,
          216
         ],
         "xaxis": "x",
         "y": [
          1.0438398860332998,
          0.9698822825321762,
          0.9305699725768168,
          0.9063781026726552,
          0.8900652521996739,
          0.8783447401598694,
          0.8695335493978155,
          0.8626874289890657,
          0.8572356613872256,
          0.8528114860155646,
          0.8491671034993306,
          0.846128162166322,
          0.8435679164552375,
          0.8413917694514075,
          0.8395275903082913,
          0.8379193991276285,
          0.8365231017318397,
          0.8353035215068221,
          0.8342322807342861,
          0.8332862554057514,
          0.8324464275428356,
          0.8316970193970464,
          0.831024831484823,
          0.8304187305141378,
          0.8298692491336278,
          0.8293682701478002,
          0.8289087752302424,
          0.8284846433618764,
          0.8280904879382375,
          0.8277215241902223,
          0.827373460552381,
          0.8270424090976414,
          0.8267248112787698,
          0.8264173760739537,
          0.8261170282966827,
          0.825820865348685,
          0.8255261211058686,
          0.8252301359570764,
          0.8249303322835653,
          0.8246241948869054,
          0.8243092560544688,
          0.8239830851002509,
          0.8236432823386273,
          0.8232874775393558,
          0.8229133329735591,
          0.8225185511880738,
          0.8221008876354424,
          0.8216581682327391,
          0.8211883118185735,
          0.8206893573189935,
          0.8201594952166579,
          0.8195971026453551,
          0.8190007811106118,
          0.818369395482325,
          0.8177021125418348,
          0.8169984370281181,
          0.8162582428602239,
          0.8154817970655446,
          0.8146697739677038,
          0.8138232574278481,
          0.8129437294177998,
          0.8120330439352353,
          0.8110933862186577,
          0.8101272183144403,
          0.8091372131858257,
          0.80812618060503,
          0.8070969888987771,
          0.8060524871025138,
          0.804995432136098,
          0.8039284252159719,
          0.8028538609030966,
          0.8017738910503245,
          0.8006904046014436,
          0.7996050228705294,
          0.79851910875155,
          0.7974337873976313,
          0.7963499753417346,
          0.7952684148239872,
          0.7941897102140091,
          0.7931143638000525,
          0.7920428087712841,
          0.7909754378530839,
          0.789912626686118,
          0.7888547516064806,
          0.7878022019471654,
          0.7867553873234728,
          0.7857147405871003,
          0.7846807172486961,
          0.7836537921967952,
          0.7826344545046644,
          0.7816232010375229,
          0.7806205294694081,
          0.7796269312065761,
          0.7786428846032215,
          0.7776688487525714,
          0.7767052580461005,
          0.7757525176171657,
          0.7748109997231301,
          0.7738810410709355,
          0.7729629410537696,
          0.7720569608392661,
          0.7711633232308966,
          0.7702822132123944,
          0.7694137790786979,
          0.7685581340550565,
          0.7677153583073972,
          0.7668855012512307,
          0.7660685840723551,
          0.7652646023801132,
          0.7644735289222208,
          0.7636953162991291,
          0.7629298996248229,
          0.7621771990900056,
          0.7614371223922524,
          0.760709567005836,
          0.7599944222715493,
          0.7592915712936279,
          0.7586008926369302,
          0.7579222618227724,
          0.7572555526262319,
          0.7566006381813655,
          0.7559573919037073,
          0.7553256882414758,
          0.7547054032687387,
          0.7540964151344689,
          0.7534986043822786,
          0.7529118541554898,
          0.7523360503021758,
          0.7517710813942206,
          0.7512168386738219,
          0.7506732159400027,
          0.7501401093867821,
          0.7496174174036196,
          0.7491050403477504,
          0.7486028802969784,
          0.7481108407904714,
          0.7476288265641358,
          0.7471567432862548,
          0.7466944972980953,
          0.7462419953635573,
          0.7457991444310524,
          0.745365851410182,
          0.7449420229652569,
          0.7445275653270375,
          0.7441223841237468,
          0.743726384231877,
          0.7433394696470337,
          0.7429615433747716,
          0.7425925073410402,
          0.7422322623217374,
          0.741880707890659,
          0.7415377423849839,
          0.741203262887339,
          0.7408771652234161,
          0.7405593439740729,
          0.7402496925007479,
          0.7399481029830672,
          0.7396544664675223,
          0.7393686729260202,
          0.7390906113232497,
          0.7388201696917478,
          0.7385572352136024,
          0.7383016943078071,
          0.7380534327222933,
          0.7378123356297267,
          0.7375782877262067,
          0.7373511733320536,
          0.7371308764939654,
          0.7369172810877831,
          0.7367102709213136,
          0.7365097298365114,
          0.7363155418105917,
          0.7361275910555176,
          0.7359457621154437,
          0.7357699399617688,
          0.7356000100854108,
          0.7354358585860078,
          0.7352773722578528,
          0.7351244386722708,
          0.7349769462562972,
          0.7348347843675425,
          0.7346978433650607,
          0.7345660146762182,
          0.7344391908594717,
          0.7343172656630059,
          0.7342001340792945,
          0.7340876923955452,
          0.7339798382400554,
          0.7338764706246262,
          0.7337774899829694,
          0.733682798205297,
          0.7335922986691449,
          0.7335058962665308,
          0.7334234974275667,
          0.7333450101406688,
          0.7332703439694481,
          0.7331994100664375,
          0.7331321211838273,
          0.7330683916812389,
          0.7330081375308083,
          0.7329512763196233,
          0.7328977272497013,
          0.73284741113562,
          0.7328002503999557,
          0.7327561690666664,
          0.7327150927525499,
          0.7326769486568855,
          0.7326416655494311,
          0.7326091737568533,
          0.7325794051477554,
          0.7325522931163765,
          0.732527772565108,
          0.7325057798859137,
          0.7324862529407578,
          0.7324691310411878,
          0.7324543549270655,
          0
         ],
         "yaxis": "y"
        },
        {
         "hovertemplate": "variable=val_rmse<br>Epoch=%{x}<br>value=%{y}<extra></extra>",
         "legendgroup": "val_rmse",
         "line": {
          "color": "#EF553B",
          "dash": "solid"
         },
         "mode": "lines",
         "name": "val_rmse",
         "orientation": "v",
         "showlegend": true,
         "type": "scatter",
         "x": [
          0,
          1,
          2,
          3,
          4,
          5,
          6,
          7,
          8,
          9,
          10,
          11,
          12,
          13,
          14,
          15,
          16,
          17,
          18,
          19,
          20,
          21,
          22,
          23,
          24,
          25,
          26,
          27,
          28,
          29,
          30,
          31,
          32,
          33,
          34,
          35,
          36,
          37,
          38,
          39,
          40,
          41,
          42,
          43,
          44,
          45,
          46,
          47,
          48,
          49,
          50,
          51,
          52,
          53,
          54,
          55,
          56,
          57,
          58,
          59,
          60,
          61,
          62,
          63,
          64,
          65,
          66,
          67,
          68,
          69,
          70,
          71,
          72,
          73,
          74,
          75,
          76,
          77,
          78,
          79,
          80,
          81,
          82,
          83,
          84,
          85,
          86,
          87,
          88,
          89,
          90,
          91,
          92,
          93,
          94,
          95,
          96,
          97,
          98,
          99,
          100,
          101,
          102,
          103,
          104,
          105,
          106,
          107,
          108,
          109,
          110,
          111,
          112,
          113,
          114,
          115,
          116,
          117,
          118,
          119,
          120,
          121,
          122,
          123,
          124,
          125,
          126,
          127,
          128,
          129,
          130,
          131,
          132,
          133,
          134,
          135,
          136,
          137,
          138,
          139,
          140,
          141,
          142,
          143,
          144,
          145,
          146,
          147,
          148,
          149,
          150,
          151,
          152,
          153,
          154,
          155,
          156,
          157,
          158,
          159,
          160,
          161,
          162,
          163,
          164,
          165,
          166,
          167,
          168,
          169,
          170,
          171,
          172,
          173,
          174,
          175,
          176,
          177,
          178,
          179,
          180,
          181,
          182,
          183,
          184,
          185,
          186,
          187,
          188,
          189,
          190,
          191,
          192,
          193,
          194,
          195,
          196,
          197,
          198,
          199,
          200,
          201,
          202,
          203,
          204,
          205,
          206,
          207,
          208,
          209,
          210,
          211,
          212,
          213,
          214,
          215,
          216
         ],
         "xaxis": "x",
         "y": [
          1.0216848271523364,
          0.9848260163765863,
          0.9646605478492509,
          0.9520389186754159,
          0.9434326961684516,
          0.9372004802388171,
          0.9324878280159026,
          0.9288096839444913,
          0.9258702184362696,
          0.9234779293602877,
          0.9215026334738987,
          0.919852250182779,
          0.9184595344680339,
          0.9172740972312515,
          0.9162573821303113,
          0.9153793744276897,
          0.9146163686113647,
          0.9139494086145152,
          0.9133631702309253,
          0.912845143168189,
          0.9123850215467347,
          0.9119742427267595,
          0.911605633750046,
          0.9112731371625841,
          0.9109715962276913,
          0.9106965851192154,
          0.9104442735446483,
          0.9102113179706548,
          0.9099947735774296,
          0.9097920224920761,
          0.9096007149031827,
          0.9094187204460008,
          0.9092440878437262,
          0.9090750112471213,
          0.9089098020687656,
          0.9087468653858923,
          0.9085846802064564,
          0.9084217830705494,
          0.9082567546038759,
          0.9080882087588767,
          0.9079147845775334,
          0.90773514039077,
          0.9075479504349218,
          0.9073519039156505,
          0.9071457065838757,
          0.9069280849042408,
          0.9066977928921204,
          0.9064536216667343,
          0.9061944117122845,
          0.9059190677532919,
          0.9056265760326703,
          0.9053160236322757,
          0.9049866192992092,
          0.9046377150452688,
          0.904268827584936,
          0.9038796584878532,
          0.9034701117691851,
          0.9030403075530707,
          0.9025905904493486,
          0.9021215314068544,
          0.9016339220647146,
          0.9011287610187766,
          0.9006072319377952,
          0.9000706740664537,
          0.8995205462833107,
          0.898958386470158,
          0.8983857684195454,
          0.8978042587905861,
          0.8972153766716763,
          0.8966205581046934,
          0.8960211274870122,
          0.8954182771477944,
          0.8948130556722134,
          0.8942063648121329,
          0.8935989641620843,
          0.8929914822648821,
          0.8923844324850891,
          0.8917782318626012,
          0.8911732212168457,
          0.890569684977011,
          0.889967869516245,
          0.8893679991168357,
          0.8887702890433039,
          0.8881749555163557,
          0.8875822226403396,
          0.886992326530209,
          0.886405517010753,
          0.8858220573279354,
          0.8852422223305864,
          0.8846662955627191,
          0.8840945656645125,
          0.8835273224238218,
          0.8829648527583508,
          0.8824074368471866,
          0.881855344573344,
          0.8813088323885677,
          0.8807681406687947,
          0.8802334915936396,
          0.8797050875554463,
          0.8791831100821772,
          0.8786677192427557,
          0.8781590534925303,
          0.8776572299094871,
          0.8771623447678872,
          0.8766744743946048,
          0.8761936762539417,
          0.87571999020876,
          0.8752534399088958,
          0.8747940342618445,
          0.8743417689451995,
          0.8738966279252536,
          0.8734585849511257,
          0.8730276049988371,
          0.8726036456446032,
          0.8721866583512018,
          0.8717765896556006,
          0.8713733822498986,
          0.8709769759511041,
          0.870587308558293,
          0.8702043165982526,
          0.8698279359628348,
          0.8694581024429568,
          0.8690947521654218,
          0.8687378219398179,
          0.8683872495232002,
          0.8680429738107892,
          0.8677049349608943,
          0.8673730744622961,
          0.8670473351520207,
          0.866727661191116,
          0.866413998005574,
          0.8661062921990477,
          0.8658044914434319,
          0.8655085443528275,
          0.8652184003458193,
          0.8649340095004193,
          0.8646553224054865,
          0.8643822900119222,
          0.8641148634863859,
          0.8638529940699154,
          0.8635966329433276,
          0.8633457311009199,
          0.8631002392336923,
          0.8628601076229202,
          0.8626252860447268,
          0.8623957236859868,
          0.8621713690717372,
          0.861952170004097,
          0.8617380735125031,
          0.8615290258149968,
          0.8613249722901681,
          0.8611258574592822,
          0.8609316249780461,
          0.8607422176374389,
          0.8605575773729919,
          0.8603776452818541,
          0.8602023616469948,
          0.8600316659679005,
          0.8598654969970712,
          0.8597037927817055,
          0.8595464907099254,
          0.8593935275609204,
          0.8592448395584388,
          0.8591003624270527,
          0.8589600314506646,
          0.8588237815327465,
          0.8586915472578344,
          0.8585632629538521,
          0.8584388627548167,
          0.8583182806635972,
          0.8582014506143132,
          0.8580883065341187,
          0.8579787824040391,
          0.8578728123186116,
          0.8577703305441199,
          0.8576712715751943,
          0.8575755701895943,
          0.85748316150106,
          0.8573939810100552,
          0.8573079646523163,
          0.8572250488451341,
          0.8571451705312588,
          0.8570682672204228,
          0.8569942770284243,
          0.8569231387137389,
          0.8568547917116963,
          0.8567891761661939,
          0.856726232958963,
          0.856665903736472,
          0.8566081309344252,
          0.8565528577999708,
          0.8565000284116427,
          0.856449587697099,
          0.8564014814487226,
          0.856355656337172,
          0.8563120599229279,
          0.8562706406659273,
          0.8562313479333884,
          0.856194132005843,
          0.8561589440815346,
          0.8561257362792123,
          0.8560944616394275,
          0.8560650741244032,
          0.8560375286165646,
          0.8560117809158156,
          0.855987787735637,
          0.855965506698071,
          0.8559448963276965,
          0.8559259160446383,
          0.8559085261567123,
          0.8558926878507471,
          0.8558783631831733,
          0.8558655150699284,
          0.8558541072757423,
          0.8558441044028917,
          0.8558354718794177,
          0
         ],
         "yaxis": "y"
        },
        {
         "hovertemplate": "variable=val_mae<br>Epoch=%{x}<br>value=%{y}<extra></extra>",
         "legendgroup": "val_mae",
         "line": {
          "color": "#00cc96",
          "dash": "solid"
         },
         "mode": "lines",
         "name": "val_mae",
         "orientation": "v",
         "showlegend": true,
         "type": "scatter",
         "x": [
          0,
          1,
          2,
          3,
          4,
          5,
          6,
          7,
          8,
          9,
          10,
          11,
          12,
          13,
          14,
          15,
          16,
          17,
          18,
          19,
          20,
          21,
          22,
          23,
          24,
          25,
          26,
          27,
          28,
          29,
          30,
          31,
          32,
          33,
          34,
          35,
          36,
          37,
          38,
          39,
          40,
          41,
          42,
          43,
          44,
          45,
          46,
          47,
          48,
          49,
          50,
          51,
          52,
          53,
          54,
          55,
          56,
          57,
          58,
          59,
          60,
          61,
          62,
          63,
          64,
          65,
          66,
          67,
          68,
          69,
          70,
          71,
          72,
          73,
          74,
          75,
          76,
          77,
          78,
          79,
          80,
          81,
          82,
          83,
          84,
          85,
          86,
          87,
          88,
          89,
          90,
          91,
          92,
          93,
          94,
          95,
          96,
          97,
          98,
          99,
          100,
          101,
          102,
          103,
          104,
          105,
          106,
          107,
          108,
          109,
          110,
          111,
          112,
          113,
          114,
          115,
          116,
          117,
          118,
          119,
          120,
          121,
          122,
          123,
          124,
          125,
          126,
          127,
          128,
          129,
          130,
          131,
          132,
          133,
          134,
          135,
          136,
          137,
          138,
          139,
          140,
          141,
          142,
          143,
          144,
          145,
          146,
          147,
          148,
          149,
          150,
          151,
          152,
          153,
          154,
          155,
          156,
          157,
          158,
          159,
          160,
          161,
          162,
          163,
          164,
          165,
          166,
          167,
          168,
          169,
          170,
          171,
          172,
          173,
          174,
          175,
          176,
          177,
          178,
          179,
          180,
          181,
          182,
          183,
          184,
          185,
          186,
          187,
          188,
          189,
          190,
          191,
          192,
          193,
          194,
          195,
          196,
          197,
          198,
          199,
          200,
          201,
          202,
          203,
          204,
          205,
          206,
          207,
          208,
          209,
          210,
          211,
          212,
          213,
          214,
          215,
          216
         ],
         "xaxis": "x",
         "y": [
          0.8381660823238499,
          0.7973053725242712,
          0.7762642711412963,
          0.7635305631042991,
          0.7547677731426208,
          0.7482806961527495,
          0.7433382923838321,
          0.7394903839673037,
          0.7363348648186299,
          0.7336445159733774,
          0.7314324307249459,
          0.7296510688780955,
          0.7280983027057826,
          0.7267165085385029,
          0.7255403630538665,
          0.7245160823211464,
          0.7236196022092817,
          0.7228438199164766,
          0.7221399391917114,
          0.721517026803257,
          0.7209576108700557,
          0.7204388311853611,
          0.7199655150657727,
          0.7195391672552174,
          0.7191552026504315,
          0.7188214728817,
          0.7185177923260713,
          0.7182404413393889,
          0.7179811417790545,
          0.7177312588055905,
          0.717498054059793,
          0.7172860904210534,
          0.7170899509027562,
          0.7168980510670337,
          0.7167096411935703,
          0.7165273243777989,
          0.7163475613427499,
          0.7161696846271587,
          0.7159938431671844,
          0.7158265374720532,
          0.7156614058174978,
          0.7154934127341855,
          0.715316283201591,
          0.7151288995951305,
          0.7149309666159648,
          0.7147204119570176,
          0.7144959861670667,
          0.7142564001340794,
          0.7140004324913447,
          0.7137276729536334,
          0.7134365876790191,
          0.7131330441444785,
          0.7128140072895376,
          0.7124753785665342,
          0.7121319836868729,
          0.7117789841423219,
          0.7114137428075745,
          0.7110371871343251,
          0.7106367313811152,
          0.7102298402919957,
          0.7098156830137407,
          0.7093965202334176,
          0.7089805390634872,
          0.7085525750942105,
          0.7081194486258922,
          0.7076634802511202,
          0.7072138332272414,
          0.7067695069189446,
          0.706323992174101,
          0.7058776546577007,
          0.7054305435055805,
          0.7049781325621007,
          0.704510011573963,
          0.7040247847881683,
          0.7035229199505447,
          0.7030058527123161,
          0.7024754494787632,
          0.7019468209091725,
          0.7014085658480589,
          0.7008697752263352,
          0.7003357562133169,
          0.6998027070242812,
          0.699277044100265,
          0.6987620663930362,
          0.6982412707936344,
          0.6977262745317212,
          0.6972063584174439,
          0.696705488601088,
          0.696210008773548,
          0.6957129104396195,
          0.6952158097273761,
          0.6947246234962452,
          0.6942321287638386,
          0.6937327019150422,
          0.6932319655984612,
          0.6927293991348562,
          0.6922297255141729,
          0.6917396258447788,
          0.691261921473654,
          0.6907879476746193,
          0.690310607919364,
          0.6898404375229772,
          0.6893863339302028,
          0.6889291235815296,
          0.6884711365786211,
          0.6880201354054597,
          0.6875743508873494,
          0.6871380304206922,
          0.6867152604184397,
          0.6863029112431567,
          0.6858898789041443,
          0.6854841347207844,
          0.6850831376930858,
          0.6846831646198479,
          0.6842868324216275,
          0.683898804063628,
          0.6835214184172527,
          0.6831459681389715,
          0.6827750670367705,
          0.6824104183395521,
          0.682061168571387,
          0.6817337638883265,
          0.6814167557695343,
          0.6811114434695461,
          0.6808077762093925,
          0.6805111423252616,
          0.6802149103199026,
          0.6799257332832097,
          0.6796483037541231,
          0.6793716565072015,
          0.6790952990008111,
          0.6788301291986736,
          0.6785738811026297,
          0.6783172819801466,
          0.6780598348238779,
          0.6778041949222982,
          0.6775487072171246,
          0.6772987814023359,
          0.6770570277292262,
          0.6768285498071633,
          0.6766026822756935,
          0.6763806036811563,
          0.6761766947826022,
          0.6759776647034381,
          0.6757924481105133,
          0.6756199562115434,
          0.675453505391886,
          0.6752922584326682,
          0.675131027169681,
          0.6749714222217118,
          0.67481439218692,
          0.6746595926527772,
          0.674508613742691,
          0.6743626722428655,
          0.6742226657124953,
          0.6740814998814242,
          0.6739410734477951,
          0.6738058017068087,
          0.6736705589255227,
          0.6735372829693123,
          0.6734111089701192,
          0.6732882209725098,
          0.6731680306438717,
          0.6730498403979296,
          0.672937221529418,
          0.6728286114529326,
          0.6727284854947683,
          0.672631077403206,
          0.6725375220945663,
          0.6724511379851187,
          0.6723700356603588,
          0.6722919894659286,
          0.6722171970624395,
          0.672147972067458,
          0.672088722062609,
          0.6720321446433976,
          0.6719787685733715,
          0.6719308917543855,
          0.6718952560308423,
          0.6718612178798007,
          0.6718261816394779,
          0.6717932460092665,
          0.671761797428556,
          0.671729605897846,
          0.6716971573387444,
          0.6716684724276815,
          0.6716383373761632,
          0.6716074010838009,
          0.6715774965857055,
          0.6715487070340357,
          0.6715206121145926,
          0.6714911360336936,
          0.6714639055699496,
          0.6714376034796439,
          0.6714135006901358,
          0.6713944447841365,
          0.6713801219890921,
          0.6713703011572375,
          0.6713605322936527,
          0.6713498263008519,
          0.671338991073763,
          0.6713265434288459,
          0.6713139331198665,
          0.6713020856161072,
          0.6712896251824546,
          0.6712773713525453,
          0.6712635837122847,
          0.671250591814086,
          0.6712381720326516,
          0.6712250100321351,
          0.671212017424062,
          0.6712013669908149,
          0.6711904914693583,
          0.6711783395472094,
          0.671172208485056,
          0.6711683785061531,
          0
         ],
         "yaxis": "y"
        }
       ],
       "layout": {
        "font": {
         "family": "Courier New, monospace",
         "size": 18
        },
        "hoverlabel": {
         "font": {
          "family": "Rockwell",
          "size": 12
         }
        },
        "legend": {
         "title": {
          "text": "variable"
         },
         "tracegroupgap": 0
        },
        "margin": {
         "t": 60
        },
        "template": {
         "data": {
          "bar": [
           {
            "error_x": {
             "color": "#2a3f5f"
            },
            "error_y": {
             "color": "#2a3f5f"
            },
            "marker": {
             "line": {
              "color": "#E5ECF6",
              "width": 0.5
             }
            },
            "type": "bar"
           }
          ],
          "barpolar": [
           {
            "marker": {
             "line": {
              "color": "#E5ECF6",
              "width": 0.5
             }
            },
            "type": "barpolar"
           }
          ],
          "carpet": [
           {
            "aaxis": {
             "endlinecolor": "#2a3f5f",
             "gridcolor": "white",
             "linecolor": "white",
             "minorgridcolor": "white",
             "startlinecolor": "#2a3f5f"
            },
            "baxis": {
             "endlinecolor": "#2a3f5f",
             "gridcolor": "white",
             "linecolor": "white",
             "minorgridcolor": "white",
             "startlinecolor": "#2a3f5f"
            },
            "type": "carpet"
           }
          ],
          "choropleth": [
           {
            "colorbar": {
             "outlinewidth": 0,
             "ticks": ""
            },
            "type": "choropleth"
           }
          ],
          "contour": [
           {
            "colorbar": {
             "outlinewidth": 0,
             "ticks": ""
            },
            "colorscale": [
             [
              0,
              "#0d0887"
             ],
             [
              0.1111111111111111,
              "#46039f"
             ],
             [
              0.2222222222222222,
              "#7201a8"
             ],
             [
              0.3333333333333333,
              "#9c179e"
             ],
             [
              0.4444444444444444,
              "#bd3786"
             ],
             [
              0.5555555555555556,
              "#d8576b"
             ],
             [
              0.6666666666666666,
              "#ed7953"
             ],
             [
              0.7777777777777778,
              "#fb9f3a"
             ],
             [
              0.8888888888888888,
              "#fdca26"
             ],
             [
              1,
              "#f0f921"
             ]
            ],
            "type": "contour"
           }
          ],
          "contourcarpet": [
           {
            "colorbar": {
             "outlinewidth": 0,
             "ticks": ""
            },
            "type": "contourcarpet"
           }
          ],
          "heatmap": [
           {
            "colorbar": {
             "outlinewidth": 0,
             "ticks": ""
            },
            "colorscale": [
             [
              0,
              "#0d0887"
             ],
             [
              0.1111111111111111,
              "#46039f"
             ],
             [
              0.2222222222222222,
              "#7201a8"
             ],
             [
              0.3333333333333333,
              "#9c179e"
             ],
             [
              0.4444444444444444,
              "#bd3786"
             ],
             [
              0.5555555555555556,
              "#d8576b"
             ],
             [
              0.6666666666666666,
              "#ed7953"
             ],
             [
              0.7777777777777778,
              "#fb9f3a"
             ],
             [
              0.8888888888888888,
              "#fdca26"
             ],
             [
              1,
              "#f0f921"
             ]
            ],
            "type": "heatmap"
           }
          ],
          "heatmapgl": [
           {
            "colorbar": {
             "outlinewidth": 0,
             "ticks": ""
            },
            "colorscale": [
             [
              0,
              "#0d0887"
             ],
             [
              0.1111111111111111,
              "#46039f"
             ],
             [
              0.2222222222222222,
              "#7201a8"
             ],
             [
              0.3333333333333333,
              "#9c179e"
             ],
             [
              0.4444444444444444,
              "#bd3786"
             ],
             [
              0.5555555555555556,
              "#d8576b"
             ],
             [
              0.6666666666666666,
              "#ed7953"
             ],
             [
              0.7777777777777778,
              "#fb9f3a"
             ],
             [
              0.8888888888888888,
              "#fdca26"
             ],
             [
              1,
              "#f0f921"
             ]
            ],
            "type": "heatmapgl"
           }
          ],
          "histogram": [
           {
            "marker": {
             "colorbar": {
              "outlinewidth": 0,
              "ticks": ""
             }
            },
            "type": "histogram"
           }
          ],
          "histogram2d": [
           {
            "colorbar": {
             "outlinewidth": 0,
             "ticks": ""
            },
            "colorscale": [
             [
              0,
              "#0d0887"
             ],
             [
              0.1111111111111111,
              "#46039f"
             ],
             [
              0.2222222222222222,
              "#7201a8"
             ],
             [
              0.3333333333333333,
              "#9c179e"
             ],
             [
              0.4444444444444444,
              "#bd3786"
             ],
             [
              0.5555555555555556,
              "#d8576b"
             ],
             [
              0.6666666666666666,
              "#ed7953"
             ],
             [
              0.7777777777777778,
              "#fb9f3a"
             ],
             [
              0.8888888888888888,
              "#fdca26"
             ],
             [
              1,
              "#f0f921"
             ]
            ],
            "type": "histogram2d"
           }
          ],
          "histogram2dcontour": [
           {
            "colorbar": {
             "outlinewidth": 0,
             "ticks": ""
            },
            "colorscale": [
             [
              0,
              "#0d0887"
             ],
             [
              0.1111111111111111,
              "#46039f"
             ],
             [
              0.2222222222222222,
              "#7201a8"
             ],
             [
              0.3333333333333333,
              "#9c179e"
             ],
             [
              0.4444444444444444,
              "#bd3786"
             ],
             [
              0.5555555555555556,
              "#d8576b"
             ],
             [
              0.6666666666666666,
              "#ed7953"
             ],
             [
              0.7777777777777778,
              "#fb9f3a"
             ],
             [
              0.8888888888888888,
              "#fdca26"
             ],
             [
              1,
              "#f0f921"
             ]
            ],
            "type": "histogram2dcontour"
           }
          ],
          "mesh3d": [
           {
            "colorbar": {
             "outlinewidth": 0,
             "ticks": ""
            },
            "type": "mesh3d"
           }
          ],
          "parcoords": [
           {
            "line": {
             "colorbar": {
              "outlinewidth": 0,
              "ticks": ""
             }
            },
            "type": "parcoords"
           }
          ],
          "pie": [
           {
            "automargin": true,
            "type": "pie"
           }
          ],
          "scatter": [
           {
            "marker": {
             "colorbar": {
              "outlinewidth": 0,
              "ticks": ""
             }
            },
            "type": "scatter"
           }
          ],
          "scatter3d": [
           {
            "line": {
             "colorbar": {
              "outlinewidth": 0,
              "ticks": ""
             }
            },
            "marker": {
             "colorbar": {
              "outlinewidth": 0,
              "ticks": ""
             }
            },
            "type": "scatter3d"
           }
          ],
          "scattercarpet": [
           {
            "marker": {
             "colorbar": {
              "outlinewidth": 0,
              "ticks": ""
             }
            },
            "type": "scattercarpet"
           }
          ],
          "scattergeo": [
           {
            "marker": {
             "colorbar": {
              "outlinewidth": 0,
              "ticks": ""
             }
            },
            "type": "scattergeo"
           }
          ],
          "scattergl": [
           {
            "marker": {
             "colorbar": {
              "outlinewidth": 0,
              "ticks": ""
             }
            },
            "type": "scattergl"
           }
          ],
          "scattermapbox": [
           {
            "marker": {
             "colorbar": {
              "outlinewidth": 0,
              "ticks": ""
             }
            },
            "type": "scattermapbox"
           }
          ],
          "scatterpolar": [
           {
            "marker": {
             "colorbar": {
              "outlinewidth": 0,
              "ticks": ""
             }
            },
            "type": "scatterpolar"
           }
          ],
          "scatterpolargl": [
           {
            "marker": {
             "colorbar": {
              "outlinewidth": 0,
              "ticks": ""
             }
            },
            "type": "scatterpolargl"
           }
          ],
          "scatterternary": [
           {
            "marker": {
             "colorbar": {
              "outlinewidth": 0,
              "ticks": ""
             }
            },
            "type": "scatterternary"
           }
          ],
          "surface": [
           {
            "colorbar": {
             "outlinewidth": 0,
             "ticks": ""
            },
            "colorscale": [
             [
              0,
              "#0d0887"
             ],
             [
              0.1111111111111111,
              "#46039f"
             ],
             [
              0.2222222222222222,
              "#7201a8"
             ],
             [
              0.3333333333333333,
              "#9c179e"
             ],
             [
              0.4444444444444444,
              "#bd3786"
             ],
             [
              0.5555555555555556,
              "#d8576b"
             ],
             [
              0.6666666666666666,
              "#ed7953"
             ],
             [
              0.7777777777777778,
              "#fb9f3a"
             ],
             [
              0.8888888888888888,
              "#fdca26"
             ],
             [
              1,
              "#f0f921"
             ]
            ],
            "type": "surface"
           }
          ],
          "table": [
           {
            "cells": {
             "fill": {
              "color": "#EBF0F8"
             },
             "line": {
              "color": "white"
             }
            },
            "header": {
             "fill": {
              "color": "#C8D4E3"
             },
             "line": {
              "color": "white"
             }
            },
            "type": "table"
           }
          ]
         },
         "layout": {
          "annotationdefaults": {
           "arrowcolor": "#2a3f5f",
           "arrowhead": 0,
           "arrowwidth": 1
          },
          "autotypenumbers": "strict",
          "coloraxis": {
           "colorbar": {
            "outlinewidth": 0,
            "ticks": ""
           }
          },
          "colorscale": {
           "diverging": [
            [
             0,
             "#8e0152"
            ],
            [
             0.1,
             "#c51b7d"
            ],
            [
             0.2,
             "#de77ae"
            ],
            [
             0.3,
             "#f1b6da"
            ],
            [
             0.4,
             "#fde0ef"
            ],
            [
             0.5,
             "#f7f7f7"
            ],
            [
             0.6,
             "#e6f5d0"
            ],
            [
             0.7,
             "#b8e186"
            ],
            [
             0.8,
             "#7fbc41"
            ],
            [
             0.9,
             "#4d9221"
            ],
            [
             1,
             "#276419"
            ]
           ],
           "sequential": [
            [
             0,
             "#0d0887"
            ],
            [
             0.1111111111111111,
             "#46039f"
            ],
            [
             0.2222222222222222,
             "#7201a8"
            ],
            [
             0.3333333333333333,
             "#9c179e"
            ],
            [
             0.4444444444444444,
             "#bd3786"
            ],
            [
             0.5555555555555556,
             "#d8576b"
            ],
            [
             0.6666666666666666,
             "#ed7953"
            ],
            [
             0.7777777777777778,
             "#fb9f3a"
            ],
            [
             0.8888888888888888,
             "#fdca26"
            ],
            [
             1,
             "#f0f921"
            ]
           ],
           "sequentialminus": [
            [
             0,
             "#0d0887"
            ],
            [
             0.1111111111111111,
             "#46039f"
            ],
            [
             0.2222222222222222,
             "#7201a8"
            ],
            [
             0.3333333333333333,
             "#9c179e"
            ],
            [
             0.4444444444444444,
             "#bd3786"
            ],
            [
             0.5555555555555556,
             "#d8576b"
            ],
            [
             0.6666666666666666,
             "#ed7953"
            ],
            [
             0.7777777777777778,
             "#fb9f3a"
            ],
            [
             0.8888888888888888,
             "#fdca26"
            ],
            [
             1,
             "#f0f921"
            ]
           ]
          },
          "colorway": [
           "#636efa",
           "#EF553B",
           "#00cc96",
           "#ab63fa",
           "#FFA15A",
           "#19d3f3",
           "#FF6692",
           "#B6E880",
           "#FF97FF",
           "#FECB52"
          ],
          "font": {
           "color": "#2a3f5f"
          },
          "geo": {
           "bgcolor": "white",
           "lakecolor": "white",
           "landcolor": "#E5ECF6",
           "showlakes": true,
           "showland": true,
           "subunitcolor": "white"
          },
          "hoverlabel": {
           "align": "left"
          },
          "hovermode": "closest",
          "mapbox": {
           "style": "light"
          },
          "paper_bgcolor": "white",
          "plot_bgcolor": "#E5ECF6",
          "polar": {
           "angularaxis": {
            "gridcolor": "white",
            "linecolor": "white",
            "ticks": ""
           },
           "bgcolor": "#E5ECF6",
           "radialaxis": {
            "gridcolor": "white",
            "linecolor": "white",
            "ticks": ""
           }
          },
          "scene": {
           "xaxis": {
            "backgroundcolor": "#E5ECF6",
            "gridcolor": "white",
            "gridwidth": 2,
            "linecolor": "white",
            "showbackground": true,
            "ticks": "",
            "zerolinecolor": "white"
           },
           "yaxis": {
            "backgroundcolor": "#E5ECF6",
            "gridcolor": "white",
            "gridwidth": 2,
            "linecolor": "white",
            "showbackground": true,
            "ticks": "",
            "zerolinecolor": "white"
           },
           "zaxis": {
            "backgroundcolor": "#E5ECF6",
            "gridcolor": "white",
            "gridwidth": 2,
            "linecolor": "white",
            "showbackground": true,
            "ticks": "",
            "zerolinecolor": "white"
           }
          },
          "shapedefaults": {
           "line": {
            "color": "#2a3f5f"
           }
          },
          "ternary": {
           "aaxis": {
            "gridcolor": "white",
            "linecolor": "white",
            "ticks": ""
           },
           "baxis": {
            "gridcolor": "white",
            "linecolor": "white",
            "ticks": ""
           },
           "bgcolor": "#E5ECF6",
           "caxis": {
            "gridcolor": "white",
            "linecolor": "white",
            "ticks": ""
           }
          },
          "title": {
           "x": 0.05
          },
          "xaxis": {
           "automargin": true,
           "gridcolor": "white",
           "linecolor": "white",
           "ticks": "",
           "title": {
            "standoff": 15
           },
           "zerolinecolor": "white",
           "zerolinewidth": 2
          },
          "yaxis": {
           "automargin": true,
           "gridcolor": "white",
           "linecolor": "white",
           "ticks": "",
           "title": {
            "standoff": 15
           },
           "zerolinecolor": "white",
           "zerolinewidth": 2
          }
         }
        },
        "xaxis": {
         "anchor": "y",
         "domain": [
          0,
          1
         ],
         "showgrid": false,
         "showspikes": true,
         "title": {
          "text": "Epoch"
         }
        },
        "yaxis": {
         "anchor": "x",
         "domain": [
          0,
          1
         ],
         "title": {
          "text": "value"
         }
        }
       }
      },
      "text/html": [
       "<div>                            <div id=\"52e4512b-99c9-4a8f-be21-42f94448ca20\" class=\"plotly-graph-div\" style=\"height:525px; width:100%;\"></div>            <script type=\"text/javascript\">                require([\"plotly\"], function(Plotly) {                    window.PLOTLYENV=window.PLOTLYENV || {};                                    if (document.getElementById(\"52e4512b-99c9-4a8f-be21-42f94448ca20\")) {                    Plotly.newPlot(                        \"52e4512b-99c9-4a8f-be21-42f94448ca20\",                        [{\"hovertemplate\": \"variable=val_loss<br>Epoch=%{x}<br>value=%{y}<extra></extra>\", \"legendgroup\": \"val_loss\", \"line\": {\"color\": \"#636efa\", \"dash\": \"solid\"}, \"mode\": \"lines\", \"name\": \"val_loss\", \"orientation\": \"v\", \"showlegend\": true, \"type\": \"scatter\", \"x\": [0, 1, 2, 3, 4, 5, 6, 7, 8, 9, 10, 11, 12, 13, 14, 15, 16, 17, 18, 19, 20, 21, 22, 23, 24, 25, 26, 27, 28, 29, 30, 31, 32, 33, 34, 35, 36, 37, 38, 39, 40, 41, 42, 43, 44, 45, 46, 47, 48, 49, 50, 51, 52, 53, 54, 55, 56, 57, 58, 59, 60, 61, 62, 63, 64, 65, 66, 67, 68, 69, 70, 71, 72, 73, 74, 75, 76, 77, 78, 79, 80, 81, 82, 83, 84, 85, 86, 87, 88, 89, 90, 91, 92, 93, 94, 95, 96, 97, 98, 99, 100, 101, 102, 103, 104, 105, 106, 107, 108, 109, 110, 111, 112, 113, 114, 115, 116, 117, 118, 119, 120, 121, 122, 123, 124, 125, 126, 127, 128, 129, 130, 131, 132, 133, 134, 135, 136, 137, 138, 139, 140, 141, 142, 143, 144, 145, 146, 147, 148, 149, 150, 151, 152, 153, 154, 155, 156, 157, 158, 159, 160, 161, 162, 163, 164, 165, 166, 167, 168, 169, 170, 171, 172, 173, 174, 175, 176, 177, 178, 179, 180, 181, 182, 183, 184, 185, 186, 187, 188, 189, 190, 191, 192, 193, 194, 195, 196, 197, 198, 199, 200, 201, 202, 203, 204, 205, 206, 207, 208, 209, 210, 211, 212, 213, 214, 215, 216], \"xaxis\": \"x\", \"y\": [1.0438398860332998, 0.9698822825321762, 0.9305699725768168, 0.9063781026726552, 0.8900652521996739, 0.8783447401598694, 0.8695335493978155, 0.8626874289890657, 0.8572356613872256, 0.8528114860155646, 0.8491671034993306, 0.846128162166322, 0.8435679164552375, 0.8413917694514075, 0.8395275903082913, 0.8379193991276285, 0.8365231017318397, 0.8353035215068221, 0.8342322807342861, 0.8332862554057514, 0.8324464275428356, 0.8316970193970464, 0.831024831484823, 0.8304187305141378, 0.8298692491336278, 0.8293682701478002, 0.8289087752302424, 0.8284846433618764, 0.8280904879382375, 0.8277215241902223, 0.827373460552381, 0.8270424090976414, 0.8267248112787698, 0.8264173760739537, 0.8261170282966827, 0.825820865348685, 0.8255261211058686, 0.8252301359570764, 0.8249303322835653, 0.8246241948869054, 0.8243092560544688, 0.8239830851002509, 0.8236432823386273, 0.8232874775393558, 0.8229133329735591, 0.8225185511880738, 0.8221008876354424, 0.8216581682327391, 0.8211883118185735, 0.8206893573189935, 0.8201594952166579, 0.8195971026453551, 0.8190007811106118, 0.818369395482325, 0.8177021125418348, 0.8169984370281181, 0.8162582428602239, 0.8154817970655446, 0.8146697739677038, 0.8138232574278481, 0.8129437294177998, 0.8120330439352353, 0.8110933862186577, 0.8101272183144403, 0.8091372131858257, 0.80812618060503, 0.8070969888987771, 0.8060524871025138, 0.804995432136098, 0.8039284252159719, 0.8028538609030966, 0.8017738910503245, 0.8006904046014436, 0.7996050228705294, 0.79851910875155, 0.7974337873976313, 0.7963499753417346, 0.7952684148239872, 0.7941897102140091, 0.7931143638000525, 0.7920428087712841, 0.7909754378530839, 0.789912626686118, 0.7888547516064806, 0.7878022019471654, 0.7867553873234728, 0.7857147405871003, 0.7846807172486961, 0.7836537921967952, 0.7826344545046644, 0.7816232010375229, 0.7806205294694081, 0.7796269312065761, 0.7786428846032215, 0.7776688487525714, 0.7767052580461005, 0.7757525176171657, 0.7748109997231301, 0.7738810410709355, 0.7729629410537696, 0.7720569608392661, 0.7711633232308966, 0.7702822132123944, 0.7694137790786979, 0.7685581340550565, 0.7677153583073972, 0.7668855012512307, 0.7660685840723551, 0.7652646023801132, 0.7644735289222208, 0.7636953162991291, 0.7629298996248229, 0.7621771990900056, 0.7614371223922524, 0.760709567005836, 0.7599944222715493, 0.7592915712936279, 0.7586008926369302, 0.7579222618227724, 0.7572555526262319, 0.7566006381813655, 0.7559573919037073, 0.7553256882414758, 0.7547054032687387, 0.7540964151344689, 0.7534986043822786, 0.7529118541554898, 0.7523360503021758, 0.7517710813942206, 0.7512168386738219, 0.7506732159400027, 0.7501401093867821, 0.7496174174036196, 0.7491050403477504, 0.7486028802969784, 0.7481108407904714, 0.7476288265641358, 0.7471567432862548, 0.7466944972980953, 0.7462419953635573, 0.7457991444310524, 0.745365851410182, 0.7449420229652569, 0.7445275653270375, 0.7441223841237468, 0.743726384231877, 0.7433394696470337, 0.7429615433747716, 0.7425925073410402, 0.7422322623217374, 0.741880707890659, 0.7415377423849839, 0.741203262887339, 0.7408771652234161, 0.7405593439740729, 0.7402496925007479, 0.7399481029830672, 0.7396544664675223, 0.7393686729260202, 0.7390906113232497, 0.7388201696917478, 0.7385572352136024, 0.7383016943078071, 0.7380534327222933, 0.7378123356297267, 0.7375782877262067, 0.7373511733320536, 0.7371308764939654, 0.7369172810877831, 0.7367102709213136, 0.7365097298365114, 0.7363155418105917, 0.7361275910555176, 0.7359457621154437, 0.7357699399617688, 0.7356000100854108, 0.7354358585860078, 0.7352773722578528, 0.7351244386722708, 0.7349769462562972, 0.7348347843675425, 0.7346978433650607, 0.7345660146762182, 0.7344391908594717, 0.7343172656630059, 0.7342001340792945, 0.7340876923955452, 0.7339798382400554, 0.7338764706246262, 0.7337774899829694, 0.733682798205297, 0.7335922986691449, 0.7335058962665308, 0.7334234974275667, 0.7333450101406688, 0.7332703439694481, 0.7331994100664375, 0.7331321211838273, 0.7330683916812389, 0.7330081375308083, 0.7329512763196233, 0.7328977272497013, 0.73284741113562, 0.7328002503999557, 0.7327561690666664, 0.7327150927525499, 0.7326769486568855, 0.7326416655494311, 0.7326091737568533, 0.7325794051477554, 0.7325522931163765, 0.732527772565108, 0.7325057798859137, 0.7324862529407578, 0.7324691310411878, 0.7324543549270655, 0.0], \"yaxis\": \"y\"}, {\"hovertemplate\": \"variable=val_rmse<br>Epoch=%{x}<br>value=%{y}<extra></extra>\", \"legendgroup\": \"val_rmse\", \"line\": {\"color\": \"#EF553B\", \"dash\": \"solid\"}, \"mode\": \"lines\", \"name\": \"val_rmse\", \"orientation\": \"v\", \"showlegend\": true, \"type\": \"scatter\", \"x\": [0, 1, 2, 3, 4, 5, 6, 7, 8, 9, 10, 11, 12, 13, 14, 15, 16, 17, 18, 19, 20, 21, 22, 23, 24, 25, 26, 27, 28, 29, 30, 31, 32, 33, 34, 35, 36, 37, 38, 39, 40, 41, 42, 43, 44, 45, 46, 47, 48, 49, 50, 51, 52, 53, 54, 55, 56, 57, 58, 59, 60, 61, 62, 63, 64, 65, 66, 67, 68, 69, 70, 71, 72, 73, 74, 75, 76, 77, 78, 79, 80, 81, 82, 83, 84, 85, 86, 87, 88, 89, 90, 91, 92, 93, 94, 95, 96, 97, 98, 99, 100, 101, 102, 103, 104, 105, 106, 107, 108, 109, 110, 111, 112, 113, 114, 115, 116, 117, 118, 119, 120, 121, 122, 123, 124, 125, 126, 127, 128, 129, 130, 131, 132, 133, 134, 135, 136, 137, 138, 139, 140, 141, 142, 143, 144, 145, 146, 147, 148, 149, 150, 151, 152, 153, 154, 155, 156, 157, 158, 159, 160, 161, 162, 163, 164, 165, 166, 167, 168, 169, 170, 171, 172, 173, 174, 175, 176, 177, 178, 179, 180, 181, 182, 183, 184, 185, 186, 187, 188, 189, 190, 191, 192, 193, 194, 195, 196, 197, 198, 199, 200, 201, 202, 203, 204, 205, 206, 207, 208, 209, 210, 211, 212, 213, 214, 215, 216], \"xaxis\": \"x\", \"y\": [1.0216848271523364, 0.9848260163765863, 0.9646605478492509, 0.9520389186754159, 0.9434326961684516, 0.9372004802388171, 0.9324878280159026, 0.9288096839444913, 0.9258702184362696, 0.9234779293602877, 0.9215026334738987, 0.919852250182779, 0.9184595344680339, 0.9172740972312515, 0.9162573821303113, 0.9153793744276897, 0.9146163686113647, 0.9139494086145152, 0.9133631702309253, 0.912845143168189, 0.9123850215467347, 0.9119742427267595, 0.911605633750046, 0.9112731371625841, 0.9109715962276913, 0.9106965851192154, 0.9104442735446483, 0.9102113179706548, 0.9099947735774296, 0.9097920224920761, 0.9096007149031827, 0.9094187204460008, 0.9092440878437262, 0.9090750112471213, 0.9089098020687656, 0.9087468653858923, 0.9085846802064564, 0.9084217830705494, 0.9082567546038759, 0.9080882087588767, 0.9079147845775334, 0.90773514039077, 0.9075479504349218, 0.9073519039156505, 0.9071457065838757, 0.9069280849042408, 0.9066977928921204, 0.9064536216667343, 0.9061944117122845, 0.9059190677532919, 0.9056265760326703, 0.9053160236322757, 0.9049866192992092, 0.9046377150452688, 0.904268827584936, 0.9038796584878532, 0.9034701117691851, 0.9030403075530707, 0.9025905904493486, 0.9021215314068544, 0.9016339220647146, 0.9011287610187766, 0.9006072319377952, 0.9000706740664537, 0.8995205462833107, 0.898958386470158, 0.8983857684195454, 0.8978042587905861, 0.8972153766716763, 0.8966205581046934, 0.8960211274870122, 0.8954182771477944, 0.8948130556722134, 0.8942063648121329, 0.8935989641620843, 0.8929914822648821, 0.8923844324850891, 0.8917782318626012, 0.8911732212168457, 0.890569684977011, 0.889967869516245, 0.8893679991168357, 0.8887702890433039, 0.8881749555163557, 0.8875822226403396, 0.886992326530209, 0.886405517010753, 0.8858220573279354, 0.8852422223305864, 0.8846662955627191, 0.8840945656645125, 0.8835273224238218, 0.8829648527583508, 0.8824074368471866, 0.881855344573344, 0.8813088323885677, 0.8807681406687947, 0.8802334915936396, 0.8797050875554463, 0.8791831100821772, 0.8786677192427557, 0.8781590534925303, 0.8776572299094871, 0.8771623447678872, 0.8766744743946048, 0.8761936762539417, 0.87571999020876, 0.8752534399088958, 0.8747940342618445, 0.8743417689451995, 0.8738966279252536, 0.8734585849511257, 0.8730276049988371, 0.8726036456446032, 0.8721866583512018, 0.8717765896556006, 0.8713733822498986, 0.8709769759511041, 0.870587308558293, 0.8702043165982526, 0.8698279359628348, 0.8694581024429568, 0.8690947521654218, 0.8687378219398179, 0.8683872495232002, 0.8680429738107892, 0.8677049349608943, 0.8673730744622961, 0.8670473351520207, 0.866727661191116, 0.866413998005574, 0.8661062921990477, 0.8658044914434319, 0.8655085443528275, 0.8652184003458193, 0.8649340095004193, 0.8646553224054865, 0.8643822900119222, 0.8641148634863859, 0.8638529940699154, 0.8635966329433276, 0.8633457311009199, 0.8631002392336923, 0.8628601076229202, 0.8626252860447268, 0.8623957236859868, 0.8621713690717372, 0.861952170004097, 0.8617380735125031, 0.8615290258149968, 0.8613249722901681, 0.8611258574592822, 0.8609316249780461, 0.8607422176374389, 0.8605575773729919, 0.8603776452818541, 0.8602023616469948, 0.8600316659679005, 0.8598654969970712, 0.8597037927817055, 0.8595464907099254, 0.8593935275609204, 0.8592448395584388, 0.8591003624270527, 0.8589600314506646, 0.8588237815327465, 0.8586915472578344, 0.8585632629538521, 0.8584388627548167, 0.8583182806635972, 0.8582014506143132, 0.8580883065341187, 0.8579787824040391, 0.8578728123186116, 0.8577703305441199, 0.8576712715751943, 0.8575755701895943, 0.85748316150106, 0.8573939810100552, 0.8573079646523163, 0.8572250488451341, 0.8571451705312588, 0.8570682672204228, 0.8569942770284243, 0.8569231387137389, 0.8568547917116963, 0.8567891761661939, 0.856726232958963, 0.856665903736472, 0.8566081309344252, 0.8565528577999708, 0.8565000284116427, 0.856449587697099, 0.8564014814487226, 0.856355656337172, 0.8563120599229279, 0.8562706406659273, 0.8562313479333884, 0.856194132005843, 0.8561589440815346, 0.8561257362792123, 0.8560944616394275, 0.8560650741244032, 0.8560375286165646, 0.8560117809158156, 0.855987787735637, 0.855965506698071, 0.8559448963276965, 0.8559259160446383, 0.8559085261567123, 0.8558926878507471, 0.8558783631831733, 0.8558655150699284, 0.8558541072757423, 0.8558441044028917, 0.8558354718794177, 0.0], \"yaxis\": \"y\"}, {\"hovertemplate\": \"variable=val_mae<br>Epoch=%{x}<br>value=%{y}<extra></extra>\", \"legendgroup\": \"val_mae\", \"line\": {\"color\": \"#00cc96\", \"dash\": \"solid\"}, \"mode\": \"lines\", \"name\": \"val_mae\", \"orientation\": \"v\", \"showlegend\": true, \"type\": \"scatter\", \"x\": [0, 1, 2, 3, 4, 5, 6, 7, 8, 9, 10, 11, 12, 13, 14, 15, 16, 17, 18, 19, 20, 21, 22, 23, 24, 25, 26, 27, 28, 29, 30, 31, 32, 33, 34, 35, 36, 37, 38, 39, 40, 41, 42, 43, 44, 45, 46, 47, 48, 49, 50, 51, 52, 53, 54, 55, 56, 57, 58, 59, 60, 61, 62, 63, 64, 65, 66, 67, 68, 69, 70, 71, 72, 73, 74, 75, 76, 77, 78, 79, 80, 81, 82, 83, 84, 85, 86, 87, 88, 89, 90, 91, 92, 93, 94, 95, 96, 97, 98, 99, 100, 101, 102, 103, 104, 105, 106, 107, 108, 109, 110, 111, 112, 113, 114, 115, 116, 117, 118, 119, 120, 121, 122, 123, 124, 125, 126, 127, 128, 129, 130, 131, 132, 133, 134, 135, 136, 137, 138, 139, 140, 141, 142, 143, 144, 145, 146, 147, 148, 149, 150, 151, 152, 153, 154, 155, 156, 157, 158, 159, 160, 161, 162, 163, 164, 165, 166, 167, 168, 169, 170, 171, 172, 173, 174, 175, 176, 177, 178, 179, 180, 181, 182, 183, 184, 185, 186, 187, 188, 189, 190, 191, 192, 193, 194, 195, 196, 197, 198, 199, 200, 201, 202, 203, 204, 205, 206, 207, 208, 209, 210, 211, 212, 213, 214, 215, 216], \"xaxis\": \"x\", \"y\": [0.8381660823238499, 0.7973053725242712, 0.7762642711412963, 0.7635305631042991, 0.7547677731426208, 0.7482806961527495, 0.7433382923838321, 0.7394903839673037, 0.7363348648186299, 0.7336445159733774, 0.7314324307249459, 0.7296510688780955, 0.7280983027057826, 0.7267165085385029, 0.7255403630538665, 0.7245160823211464, 0.7236196022092817, 0.7228438199164766, 0.7221399391917114, 0.721517026803257, 0.7209576108700557, 0.7204388311853611, 0.7199655150657727, 0.7195391672552174, 0.7191552026504315, 0.7188214728817, 0.7185177923260713, 0.7182404413393889, 0.7179811417790545, 0.7177312588055905, 0.717498054059793, 0.7172860904210534, 0.7170899509027562, 0.7168980510670337, 0.7167096411935703, 0.7165273243777989, 0.7163475613427499, 0.7161696846271587, 0.7159938431671844, 0.7158265374720532, 0.7156614058174978, 0.7154934127341855, 0.715316283201591, 0.7151288995951305, 0.7149309666159648, 0.7147204119570176, 0.7144959861670667, 0.7142564001340794, 0.7140004324913447, 0.7137276729536334, 0.7134365876790191, 0.7131330441444785, 0.7128140072895376, 0.7124753785665342, 0.7121319836868729, 0.7117789841423219, 0.7114137428075745, 0.7110371871343251, 0.7106367313811152, 0.7102298402919957, 0.7098156830137407, 0.7093965202334176, 0.7089805390634872, 0.7085525750942105, 0.7081194486258922, 0.7076634802511202, 0.7072138332272414, 0.7067695069189446, 0.706323992174101, 0.7058776546577007, 0.7054305435055805, 0.7049781325621007, 0.704510011573963, 0.7040247847881683, 0.7035229199505447, 0.7030058527123161, 0.7024754494787632, 0.7019468209091725, 0.7014085658480589, 0.7008697752263352, 0.7003357562133169, 0.6998027070242812, 0.699277044100265, 0.6987620663930362, 0.6982412707936344, 0.6977262745317212, 0.6972063584174439, 0.696705488601088, 0.696210008773548, 0.6957129104396195, 0.6952158097273761, 0.6947246234962452, 0.6942321287638386, 0.6937327019150422, 0.6932319655984612, 0.6927293991348562, 0.6922297255141729, 0.6917396258447788, 0.691261921473654, 0.6907879476746193, 0.690310607919364, 0.6898404375229772, 0.6893863339302028, 0.6889291235815296, 0.6884711365786211, 0.6880201354054597, 0.6875743508873494, 0.6871380304206922, 0.6867152604184397, 0.6863029112431567, 0.6858898789041443, 0.6854841347207844, 0.6850831376930858, 0.6846831646198479, 0.6842868324216275, 0.683898804063628, 0.6835214184172527, 0.6831459681389715, 0.6827750670367705, 0.6824104183395521, 0.682061168571387, 0.6817337638883265, 0.6814167557695343, 0.6811114434695461, 0.6808077762093925, 0.6805111423252616, 0.6802149103199026, 0.6799257332832097, 0.6796483037541231, 0.6793716565072015, 0.6790952990008111, 0.6788301291986736, 0.6785738811026297, 0.6783172819801466, 0.6780598348238779, 0.6778041949222982, 0.6775487072171246, 0.6772987814023359, 0.6770570277292262, 0.6768285498071633, 0.6766026822756935, 0.6763806036811563, 0.6761766947826022, 0.6759776647034381, 0.6757924481105133, 0.6756199562115434, 0.675453505391886, 0.6752922584326682, 0.675131027169681, 0.6749714222217118, 0.67481439218692, 0.6746595926527772, 0.674508613742691, 0.6743626722428655, 0.6742226657124953, 0.6740814998814242, 0.6739410734477951, 0.6738058017068087, 0.6736705589255227, 0.6735372829693123, 0.6734111089701192, 0.6732882209725098, 0.6731680306438717, 0.6730498403979296, 0.672937221529418, 0.6728286114529326, 0.6727284854947683, 0.672631077403206, 0.6725375220945663, 0.6724511379851187, 0.6723700356603588, 0.6722919894659286, 0.6722171970624395, 0.672147972067458, 0.672088722062609, 0.6720321446433976, 0.6719787685733715, 0.6719308917543855, 0.6718952560308423, 0.6718612178798007, 0.6718261816394779, 0.6717932460092665, 0.671761797428556, 0.671729605897846, 0.6716971573387444, 0.6716684724276815, 0.6716383373761632, 0.6716074010838009, 0.6715774965857055, 0.6715487070340357, 0.6715206121145926, 0.6714911360336936, 0.6714639055699496, 0.6714376034796439, 0.6714135006901358, 0.6713944447841365, 0.6713801219890921, 0.6713703011572375, 0.6713605322936527, 0.6713498263008519, 0.671338991073763, 0.6713265434288459, 0.6713139331198665, 0.6713020856161072, 0.6712896251824546, 0.6712773713525453, 0.6712635837122847, 0.671250591814086, 0.6712381720326516, 0.6712250100321351, 0.671212017424062, 0.6712013669908149, 0.6711904914693583, 0.6711783395472094, 0.671172208485056, 0.6711683785061531, 0.0], \"yaxis\": \"y\"}],                        {\"font\": {\"family\": \"Courier New, monospace\", \"size\": 18}, \"hoverlabel\": {\"font\": {\"family\": \"Rockwell\", \"size\": 12}}, \"legend\": {\"title\": {\"text\": \"variable\"}, \"tracegroupgap\": 0}, \"margin\": {\"t\": 60}, \"template\": {\"data\": {\"bar\": [{\"error_x\": {\"color\": \"#2a3f5f\"}, \"error_y\": {\"color\": \"#2a3f5f\"}, \"marker\": {\"line\": {\"color\": \"#E5ECF6\", \"width\": 0.5}}, \"type\": \"bar\"}], \"barpolar\": [{\"marker\": {\"line\": {\"color\": \"#E5ECF6\", \"width\": 0.5}}, \"type\": \"barpolar\"}], \"carpet\": [{\"aaxis\": {\"endlinecolor\": \"#2a3f5f\", \"gridcolor\": \"white\", \"linecolor\": \"white\", \"minorgridcolor\": \"white\", \"startlinecolor\": \"#2a3f5f\"}, \"baxis\": {\"endlinecolor\": \"#2a3f5f\", \"gridcolor\": \"white\", \"linecolor\": \"white\", \"minorgridcolor\": \"white\", \"startlinecolor\": \"#2a3f5f\"}, \"type\": \"carpet\"}], \"choropleth\": [{\"colorbar\": {\"outlinewidth\": 0, \"ticks\": \"\"}, \"type\": \"choropleth\"}], \"contour\": [{\"colorbar\": {\"outlinewidth\": 0, \"ticks\": \"\"}, \"colorscale\": [[0.0, \"#0d0887\"], [0.1111111111111111, \"#46039f\"], [0.2222222222222222, \"#7201a8\"], [0.3333333333333333, \"#9c179e\"], [0.4444444444444444, \"#bd3786\"], [0.5555555555555556, \"#d8576b\"], [0.6666666666666666, \"#ed7953\"], [0.7777777777777778, \"#fb9f3a\"], [0.8888888888888888, \"#fdca26\"], [1.0, \"#f0f921\"]], \"type\": \"contour\"}], \"contourcarpet\": [{\"colorbar\": {\"outlinewidth\": 0, \"ticks\": \"\"}, \"type\": \"contourcarpet\"}], \"heatmap\": [{\"colorbar\": {\"outlinewidth\": 0, \"ticks\": \"\"}, \"colorscale\": [[0.0, \"#0d0887\"], [0.1111111111111111, \"#46039f\"], [0.2222222222222222, \"#7201a8\"], [0.3333333333333333, \"#9c179e\"], [0.4444444444444444, \"#bd3786\"], [0.5555555555555556, \"#d8576b\"], [0.6666666666666666, \"#ed7953\"], [0.7777777777777778, \"#fb9f3a\"], [0.8888888888888888, \"#fdca26\"], [1.0, \"#f0f921\"]], \"type\": \"heatmap\"}], \"heatmapgl\": [{\"colorbar\": {\"outlinewidth\": 0, \"ticks\": \"\"}, \"colorscale\": [[0.0, \"#0d0887\"], [0.1111111111111111, \"#46039f\"], [0.2222222222222222, \"#7201a8\"], [0.3333333333333333, \"#9c179e\"], [0.4444444444444444, \"#bd3786\"], [0.5555555555555556, \"#d8576b\"], [0.6666666666666666, \"#ed7953\"], [0.7777777777777778, \"#fb9f3a\"], [0.8888888888888888, \"#fdca26\"], [1.0, \"#f0f921\"]], \"type\": \"heatmapgl\"}], \"histogram\": [{\"marker\": {\"colorbar\": {\"outlinewidth\": 0, \"ticks\": \"\"}}, \"type\": \"histogram\"}], \"histogram2d\": [{\"colorbar\": {\"outlinewidth\": 0, \"ticks\": \"\"}, \"colorscale\": [[0.0, \"#0d0887\"], [0.1111111111111111, \"#46039f\"], [0.2222222222222222, \"#7201a8\"], [0.3333333333333333, \"#9c179e\"], [0.4444444444444444, \"#bd3786\"], [0.5555555555555556, \"#d8576b\"], [0.6666666666666666, \"#ed7953\"], [0.7777777777777778, \"#fb9f3a\"], [0.8888888888888888, \"#fdca26\"], [1.0, \"#f0f921\"]], \"type\": \"histogram2d\"}], \"histogram2dcontour\": [{\"colorbar\": {\"outlinewidth\": 0, \"ticks\": \"\"}, \"colorscale\": [[0.0, \"#0d0887\"], [0.1111111111111111, \"#46039f\"], [0.2222222222222222, \"#7201a8\"], [0.3333333333333333, \"#9c179e\"], [0.4444444444444444, \"#bd3786\"], [0.5555555555555556, \"#d8576b\"], [0.6666666666666666, \"#ed7953\"], [0.7777777777777778, \"#fb9f3a\"], [0.8888888888888888, \"#fdca26\"], [1.0, \"#f0f921\"]], \"type\": \"histogram2dcontour\"}], \"mesh3d\": [{\"colorbar\": {\"outlinewidth\": 0, \"ticks\": \"\"}, \"type\": \"mesh3d\"}], \"parcoords\": [{\"line\": {\"colorbar\": {\"outlinewidth\": 0, \"ticks\": \"\"}}, \"type\": \"parcoords\"}], \"pie\": [{\"automargin\": true, \"type\": \"pie\"}], \"scatter\": [{\"marker\": {\"colorbar\": {\"outlinewidth\": 0, \"ticks\": \"\"}}, \"type\": \"scatter\"}], \"scatter3d\": [{\"line\": {\"colorbar\": {\"outlinewidth\": 0, \"ticks\": \"\"}}, \"marker\": {\"colorbar\": {\"outlinewidth\": 0, \"ticks\": \"\"}}, \"type\": \"scatter3d\"}], \"scattercarpet\": [{\"marker\": {\"colorbar\": {\"outlinewidth\": 0, \"ticks\": \"\"}}, \"type\": \"scattercarpet\"}], \"scattergeo\": [{\"marker\": {\"colorbar\": {\"outlinewidth\": 0, \"ticks\": \"\"}}, \"type\": \"scattergeo\"}], \"scattergl\": [{\"marker\": {\"colorbar\": {\"outlinewidth\": 0, \"ticks\": \"\"}}, \"type\": \"scattergl\"}], \"scattermapbox\": [{\"marker\": {\"colorbar\": {\"outlinewidth\": 0, \"ticks\": \"\"}}, \"type\": \"scattermapbox\"}], \"scatterpolar\": [{\"marker\": {\"colorbar\": {\"outlinewidth\": 0, \"ticks\": \"\"}}, \"type\": \"scatterpolar\"}], \"scatterpolargl\": [{\"marker\": {\"colorbar\": {\"outlinewidth\": 0, \"ticks\": \"\"}}, \"type\": \"scatterpolargl\"}], \"scatterternary\": [{\"marker\": {\"colorbar\": {\"outlinewidth\": 0, \"ticks\": \"\"}}, \"type\": \"scatterternary\"}], \"surface\": [{\"colorbar\": {\"outlinewidth\": 0, \"ticks\": \"\"}, \"colorscale\": [[0.0, \"#0d0887\"], [0.1111111111111111, \"#46039f\"], [0.2222222222222222, \"#7201a8\"], [0.3333333333333333, \"#9c179e\"], [0.4444444444444444, \"#bd3786\"], [0.5555555555555556, \"#d8576b\"], [0.6666666666666666, \"#ed7953\"], [0.7777777777777778, \"#fb9f3a\"], [0.8888888888888888, \"#fdca26\"], [1.0, \"#f0f921\"]], \"type\": \"surface\"}], \"table\": [{\"cells\": {\"fill\": {\"color\": \"#EBF0F8\"}, \"line\": {\"color\": \"white\"}}, \"header\": {\"fill\": {\"color\": \"#C8D4E3\"}, \"line\": {\"color\": \"white\"}}, \"type\": \"table\"}]}, \"layout\": {\"annotationdefaults\": {\"arrowcolor\": \"#2a3f5f\", \"arrowhead\": 0, \"arrowwidth\": 1}, \"autotypenumbers\": \"strict\", \"coloraxis\": {\"colorbar\": {\"outlinewidth\": 0, \"ticks\": \"\"}}, \"colorscale\": {\"diverging\": [[0, \"#8e0152\"], [0.1, \"#c51b7d\"], [0.2, \"#de77ae\"], [0.3, \"#f1b6da\"], [0.4, \"#fde0ef\"], [0.5, \"#f7f7f7\"], [0.6, \"#e6f5d0\"], [0.7, \"#b8e186\"], [0.8, \"#7fbc41\"], [0.9, \"#4d9221\"], [1, \"#276419\"]], \"sequential\": [[0.0, \"#0d0887\"], [0.1111111111111111, \"#46039f\"], [0.2222222222222222, \"#7201a8\"], [0.3333333333333333, \"#9c179e\"], [0.4444444444444444, \"#bd3786\"], [0.5555555555555556, \"#d8576b\"], [0.6666666666666666, \"#ed7953\"], [0.7777777777777778, \"#fb9f3a\"], [0.8888888888888888, \"#fdca26\"], [1.0, \"#f0f921\"]], \"sequentialminus\": [[0.0, \"#0d0887\"], [0.1111111111111111, \"#46039f\"], [0.2222222222222222, \"#7201a8\"], [0.3333333333333333, \"#9c179e\"], [0.4444444444444444, \"#bd3786\"], [0.5555555555555556, \"#d8576b\"], [0.6666666666666666, \"#ed7953\"], [0.7777777777777778, \"#fb9f3a\"], [0.8888888888888888, \"#fdca26\"], [1.0, \"#f0f921\"]]}, \"colorway\": [\"#636efa\", \"#EF553B\", \"#00cc96\", \"#ab63fa\", \"#FFA15A\", \"#19d3f3\", \"#FF6692\", \"#B6E880\", \"#FF97FF\", \"#FECB52\"], \"font\": {\"color\": \"#2a3f5f\"}, \"geo\": {\"bgcolor\": \"white\", \"lakecolor\": \"white\", \"landcolor\": \"#E5ECF6\", \"showlakes\": true, \"showland\": true, \"subunitcolor\": \"white\"}, \"hoverlabel\": {\"align\": \"left\"}, \"hovermode\": \"closest\", \"mapbox\": {\"style\": \"light\"}, \"paper_bgcolor\": \"white\", \"plot_bgcolor\": \"#E5ECF6\", \"polar\": {\"angularaxis\": {\"gridcolor\": \"white\", \"linecolor\": \"white\", \"ticks\": \"\"}, \"bgcolor\": \"#E5ECF6\", \"radialaxis\": {\"gridcolor\": \"white\", \"linecolor\": \"white\", \"ticks\": \"\"}}, \"scene\": {\"xaxis\": {\"backgroundcolor\": \"#E5ECF6\", \"gridcolor\": \"white\", \"gridwidth\": 2, \"linecolor\": \"white\", \"showbackground\": true, \"ticks\": \"\", \"zerolinecolor\": \"white\"}, \"yaxis\": {\"backgroundcolor\": \"#E5ECF6\", \"gridcolor\": \"white\", \"gridwidth\": 2, \"linecolor\": \"white\", \"showbackground\": true, \"ticks\": \"\", \"zerolinecolor\": \"white\"}, \"zaxis\": {\"backgroundcolor\": \"#E5ECF6\", \"gridcolor\": \"white\", \"gridwidth\": 2, \"linecolor\": \"white\", \"showbackground\": true, \"ticks\": \"\", \"zerolinecolor\": \"white\"}}, \"shapedefaults\": {\"line\": {\"color\": \"#2a3f5f\"}}, \"ternary\": {\"aaxis\": {\"gridcolor\": \"white\", \"linecolor\": \"white\", \"ticks\": \"\"}, \"baxis\": {\"gridcolor\": \"white\", \"linecolor\": \"white\", \"ticks\": \"\"}, \"bgcolor\": \"#E5ECF6\", \"caxis\": {\"gridcolor\": \"white\", \"linecolor\": \"white\", \"ticks\": \"\"}}, \"title\": {\"x\": 0.05}, \"xaxis\": {\"automargin\": true, \"gridcolor\": \"white\", \"linecolor\": \"white\", \"ticks\": \"\", \"title\": {\"standoff\": 15}, \"zerolinecolor\": \"white\", \"zerolinewidth\": 2}, \"yaxis\": {\"automargin\": true, \"gridcolor\": \"white\", \"linecolor\": \"white\", \"ticks\": \"\", \"title\": {\"standoff\": 15}, \"zerolinecolor\": \"white\", \"zerolinewidth\": 2}}}, \"xaxis\": {\"anchor\": \"y\", \"domain\": [0.0, 1.0], \"showgrid\": false, \"showspikes\": true, \"title\": {\"text\": \"Epoch\"}}, \"yaxis\": {\"anchor\": \"x\", \"domain\": [0.0, 1.0], \"title\": {\"text\": \"value\"}}},                        {\"responsive\": true}                    ).then(function(){\n",
       "                            \n",
       "var gd = document.getElementById('52e4512b-99c9-4a8f-be21-42f94448ca20');\n",
       "var x = new MutationObserver(function (mutations, observer) {{\n",
       "        var display = window.getComputedStyle(gd).display;\n",
       "        if (!display || display === 'none') {{\n",
       "            console.log([gd, 'removed!']);\n",
       "            Plotly.purge(gd);\n",
       "            observer.disconnect();\n",
       "        }}\n",
       "}});\n",
       "\n",
       "// Listen for the removal of the full notebook cells\n",
       "var notebookContainer = gd.closest('#notebook-container');\n",
       "if (notebookContainer) {{\n",
       "    x.observe(notebookContainer, {childList: true});\n",
       "}}\n",
       "\n",
       "// Listen for the clearing of the current output cell\n",
       "var outputEl = gd.closest('.output');\n",
       "if (outputEl) {{\n",
       "    x.observe(outputEl, {childList: true});\n",
       "}}\n",
       "\n",
       "                        })                };                });            </script>        </div>"
      ]
     },
     "metadata": {},
     "output_type": "display_data"
    }
   ],
   "source": [
    "px.line(pd.DataFrame(hist).rename_axis('Epoch'))\\\n",
    "    .update_layout(hoverlabel=dict(font_size=12, font_family=\"Rockwell\"),\n",
    "                   font=dict(family=\"Courier New, monospace\", size=18))\\\n",
    "    .update_xaxes(showgrid=False, showspikes=True)\n",
    "\n",
    "\n",
    "#     fig = px.line(data, x=hparam, y='score', facet_col='domain', \n",
    "#             line_dash='Lemmatized', color='Metric', line_shape='spline', hover_data={\n",
    "#                 'Lemmatized': False,\n",
    "#                 hparam: False,\n",
    "#                 'domain': False,\n",
    "#                 'Metric': True,\n",
    "#                 'score': \":.3f\"}).update_layout(title_text=f\"Effect of '{hparam}' Value\", title_x=0.5, hoverlabel=dict(\n",
    "#                     font_size=12,\n",
    "#                     font_family=\"Rockwell\"),\n",
    "#                     font=dict(family=\"Courier New, monospace\", size=18))\\\n",
    "#             .update_traces(mode=\"markers+lines\", hovertemplate=\"%{customdata[2]}=%{y:.3f}<extra></extra>\")\\\n",
    "#             .update_xaxes(showgrid=False, showspikes=True)"
   ]
  },
  {
   "cell_type": "code",
   "execution_count": 9,
   "metadata": {},
   "outputs": [],
   "source": [
    "# Training took 16 sec\n",
    "# Test RMSE: 0.8416\n",
    "\n",
    "# Hyperparams: \n",
    "# ('shuffle', False)\n",
    "# ('min_rating', 1)\n",
    "# ('max_rating', 5)\n",
    "# ('early_stopping', False)\n",
    "# ('min_delta', 1e-05)\n",
    "# ('lr', 0.0007)\n",
    "# ('reg', 0.02)\n",
    "# ('n_epochs', 300)\n",
    "# ('n_factors', 20)\n",
    "\n",
    "######################\n",
    "# Training took 20 sec\n",
    "# Test RMSE: 0.8412\n",
    "\n",
    "# Hyperparams: \n",
    "# ('shuffle', False)\n",
    "# ('min_rating', 1)\n",
    "# ('max_rating', 5)\n",
    "# ('early_stopping', True)\n",
    "# ('min_delta', 1e-05)\n",
    "# ('lr', 0.0006)\n",
    "# ('reg', 0.015)\n",
    "# ('n_epochs', 1000)\n",
    "# ('n_factors', 25)"
   ]
  }
 ],
 "metadata": {
  "colab": {
   "collapsed_sections": [],
   "name": "Ex3.ipynb",
   "provenance": [],
   "toc_visible": true
  },
  "kernelspec": {
   "display_name": "mf",
   "language": "python",
   "name": "mf"
  },
  "language_info": {
   "codemirror_mode": {
    "name": "ipython",
    "version": 3
   },
   "file_extension": ".py",
   "mimetype": "text/x-python",
   "name": "python",
   "nbconvert_exporter": "python",
   "pygments_lexer": "ipython3",
   "version": "3.6.8"
  }
 },
 "nbformat": 4,
 "nbformat_minor": 1
}
