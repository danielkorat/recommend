{
 "cells": [
  {
   "cell_type": "code",
   "execution_count": 50,
   "metadata": {
    "colab": {
     "base_uri": "https://localhost:8080/"
    },
    "id": "IfDjK8Pvvukz",
    "outputId": "389d696b-f0d3-4789-e124-6bbb170813e0"
   },
   "outputs": [
    {
     "name": "stdout",
     "output_type": "stream",
     "text": [
      "Requirement already satisfied: pip in /data/home/daniel_nlp/mf/lib/python3.6/site-packages (21.0.1)\r\n"
     ]
    }
   ],
   "source": [
    "import sys\n",
    "\n",
    "!{sys.executable} -m pip install -q -q -U pip tqdm scikit-learn pandas sparsesvd plotly pandas matplotlib\n",
    "\n",
    "# install plotting dependencies\n",
    "!wget -q https://github.com/plotly/orca/releases/download/v1.2.1/orca-1.2.1-x86_64.AppImage -O /usr/local/bin/orca\n",
    "!chmod +x /usr/local/bin/orca\n",
    "!apt-get -qq install xvfb libgtk2.0-0 libgconf-2-4"
   ]
  },
  {
   "cell_type": "code",
   "execution_count": 70,
   "metadata": {
    "id": "YjlXMCUXvuk5"
   },
   "outputs": [],
   "source": [
    "import datetime, os, random, shutil, urllib.request, zipfile, time, warnings\n",
    "warnings.filterwarnings('ignore')\n",
    "from functools import wraps\n",
    "from math import trunc\n",
    "from itertools import product\n",
    "import numpy as np\n",
    "import pandas as pd\n",
    "from pathlib import Path\n",
    "from urllib.request import urlopen\n",
    "from zipfile import ZipFile\n",
    "from scipy.sparse.linalg import norm\n",
    "import scipy.sparse as ss\n",
    "from scipy.sparse.linalg import svds\n",
    "from sparsesvd import sparsesvd\n",
    "from sklearn.metrics import mean_squared_error as mse\n",
    "import plotly.express as px\n",
    "import json\n",
    "from sys import stdout\n",
    "import matplotlib.pyplot as plt\n",
    "from matplotlib import colors\n",
    "\n",
    "from tqdm import tqdm\n",
    "\n",
    "SEED = 123\n",
    "def seed_everything(seed=SEED):\n",
    "    random.seed(seed)\n",
    "    os.environ['PYTHONHASHSEED'] = str(seed)\n",
    "    np.random.seed(seed)\n",
    "seed_everything()\n",
    "\n",
    "def rmse(y_true, y_pred):\n",
    "    return mse(y_true, y_pred, squared=False)"
   ]
  },
  {
   "cell_type": "markdown",
   "metadata": {
    "id": "8mktkcXOFQrw"
   },
   "source": [
    "# Preprocessing"
   ]
  },
  {
   "cell_type": "code",
   "execution_count": 3,
   "metadata": {
    "id": "lj_Na91f60Vw"
   },
   "outputs": [],
   "source": [
    "def get_dataset():\n",
    "    path = Path(\"m1.zip\")\n",
    "    if not path.exists():\n",
    "        with path.open(\"wb\") as f:\n",
    "            print(\"Downloading dataset...\")\n",
    "            f.write(urlopen(\"http://files.grouplens.org/datasets/movielens/ml-1m.zip\").read())\n",
    "    if not Path(\"ml-1m\").is_dir():\n",
    "        print(\"unzipping...\")\n",
    "        with ZipFile(\"m1.zip\") as zf:\n",
    "            zf.extractall()\n",
    "    ratings_list = [i.strip().split(\"::\") for i in open('ml-1m/ratings.dat', 'r').readlines()]\n",
    "    ratings_df = pd.DataFrame(ratings_list, columns = ['UserID', 'MovieID', 'Rating', 'Timestamp'], dtype = int)\n",
    "    ratings_df['Rating'] = ratings_df['Rating'].apply(pd.to_numeric)\n",
    "    return ratings_df"
   ]
  },
  {
   "cell_type": "code",
   "execution_count": 4,
   "metadata": {
    "id": "iI9441n7DltF"
   },
   "outputs": [],
   "source": [
    "def split(df):\n",
    "    R_df = ratings_df.pivot(index = 'UserID', columns ='MovieID', values = 'Rating').fillna(0)\n",
    "    seed_everything()\n",
    "    test_indices = np.array(random.sample(list(np.argwhere(R_df.values>0)), 2500))\n",
    "\n",
    "    x_indices = test_indices[:,0]\n",
    "    y_indices = test_indices[:,1]\n",
    "    u_ids = R_df.index[x_indices].astype(np.int32)\n",
    "    i_ids = R_df.columns[y_indices].astype(np.int32)\n",
    "    \n",
    "    df['UserID'] = df['UserID'].astype(np.int32)\n",
    "    df['MovieID'] = df['MovieID'].astype(np.int32)\n",
    "    df['Rating'] = df['Rating'].astype(np.float64)\n",
    "    \n",
    "    df= df.drop(columns=['Timestamp'], errors='ignore')\n",
    "    \n",
    "    test = []\n",
    "    for u_id, i_id in zip(u_ids, i_ids):\n",
    "        test.append(df.loc[(df['UserID'] == u_id) & (df['MovieID'] == i_id)])\n",
    "    test_df = pd.concat(test)\n",
    "    train_df= df.drop(test_df.index.tolist())\n",
    "    \n",
    "    \n",
    "    matrix_only_with_test = np.zeros(R_df.shape, dtype=np.float64) \n",
    "    matrix_only_with_test[x_indices, y_indices] =  R_df.values[x_indices, y_indices]\n",
    "    M_test_df = pd.DataFrame(matrix_only_with_test, index=R_df.index.astype(np.int32), columns=R_df.columns.astype(np.int32))\n",
    "    \n",
    "    matrix_without_test = R_df.copy().values\n",
    "    matrix_without_test[x_indices,y_indices] = 0.0\n",
    "    M_train_df = pd.DataFrame(matrix_without_test, index=R_df.index.astype(np.int32), columns=R_df.columns.astype(np.int32))\n",
    "    \n",
    "    return train_df, test_df, M_train_df, M_test_df\n",
    "    "
   ]
  },
  {
   "cell_type": "code",
   "execution_count": 5,
   "metadata": {
    "colab": {
     "base_uri": "https://localhost:8080/"
    },
    "id": "-6PSReAzrbvQ",
    "outputId": "100fb7d9-0e5a-4eae-d4e2-8e933536152f"
   },
   "outputs": [],
   "source": [
    "ratings_df = get_dataset()\n",
    "train_df, test_df, M_train_df, M_test_df = split(ratings_df)"
   ]
  },
  {
   "cell_type": "code",
   "execution_count": 6,
   "metadata": {
    "colab": {
     "base_uri": "https://localhost:8080/",
     "height": 197
    },
    "id": "iOfa3VEpvuk7",
    "outputId": "76e46892-a737-4c40-8248-5b5c8e1f8be0"
   },
   "outputs": [
    {
     "data": {
      "text/html": [
       "<div>\n",
       "<style scoped>\n",
       "    .dataframe tbody tr th:only-of-type {\n",
       "        vertical-align: middle;\n",
       "    }\n",
       "\n",
       "    .dataframe tbody tr th {\n",
       "        vertical-align: top;\n",
       "    }\n",
       "\n",
       "    .dataframe thead th {\n",
       "        text-align: right;\n",
       "    }\n",
       "</style>\n",
       "<table border=\"1\" class=\"dataframe\">\n",
       "  <thead>\n",
       "    <tr style=\"text-align: right;\">\n",
       "      <th></th>\n",
       "      <th>UserID</th>\n",
       "      <th>MovieID</th>\n",
       "      <th>Rating</th>\n",
       "    </tr>\n",
       "  </thead>\n",
       "  <tbody>\n",
       "    <tr>\n",
       "      <th>206405</th>\n",
       "      <td>1265</td>\n",
       "      <td>1732</td>\n",
       "      <td>4.0</td>\n",
       "    </tr>\n",
       "    <tr>\n",
       "      <th>409183</th>\n",
       "      <td>2456</td>\n",
       "      <td>2105</td>\n",
       "      <td>3.0</td>\n",
       "    </tr>\n",
       "    <tr>\n",
       "      <th>240650</th>\n",
       "      <td>1449</td>\n",
       "      <td>2959</td>\n",
       "      <td>4.0</td>\n",
       "    </tr>\n",
       "    <tr>\n",
       "      <th>886005</th>\n",
       "      <td>5350</td>\n",
       "      <td>2640</td>\n",
       "      <td>2.0</td>\n",
       "    </tr>\n",
       "    <tr>\n",
       "      <th>540360</th>\n",
       "      <td>3323</td>\n",
       "      <td>3468</td>\n",
       "      <td>4.0</td>\n",
       "    </tr>\n",
       "  </tbody>\n",
       "</table>\n",
       "</div>"
      ],
      "text/plain": [
       "        UserID  MovieID  Rating\n",
       "206405    1265     1732     4.0\n",
       "409183    2456     2105     3.0\n",
       "240650    1449     2959     4.0\n",
       "886005    5350     2640     2.0\n",
       "540360    3323     3468     4.0"
      ]
     },
     "execution_count": 6,
     "metadata": {},
     "output_type": "execute_result"
    }
   ],
   "source": [
    "test_df.head()"
   ]
  },
  {
   "cell_type": "code",
   "execution_count": 7,
   "metadata": {
    "colab": {
     "base_uri": "https://localhost:8080/",
     "height": 276
    },
    "id": "kF_se-_Gvuk8",
    "outputId": "152a5e4b-afb4-4a08-8be1-294782ff9d61"
   },
   "outputs": [
    {
     "data": {
      "text/html": [
       "<div>\n",
       "<style scoped>\n",
       "    .dataframe tbody tr th:only-of-type {\n",
       "        vertical-align: middle;\n",
       "    }\n",
       "\n",
       "    .dataframe tbody tr th {\n",
       "        vertical-align: top;\n",
       "    }\n",
       "\n",
       "    .dataframe thead th {\n",
       "        text-align: right;\n",
       "    }\n",
       "</style>\n",
       "<table border=\"1\" class=\"dataframe\">\n",
       "  <thead>\n",
       "    <tr style=\"text-align: right;\">\n",
       "      <th>MovieID</th>\n",
       "      <th>1</th>\n",
       "      <th>10</th>\n",
       "      <th>100</th>\n",
       "      <th>1000</th>\n",
       "      <th>1002</th>\n",
       "      <th>1003</th>\n",
       "      <th>1004</th>\n",
       "      <th>1005</th>\n",
       "      <th>1006</th>\n",
       "      <th>1007</th>\n",
       "      <th>...</th>\n",
       "      <th>99</th>\n",
       "      <th>990</th>\n",
       "      <th>991</th>\n",
       "      <th>992</th>\n",
       "      <th>993</th>\n",
       "      <th>994</th>\n",
       "      <th>996</th>\n",
       "      <th>997</th>\n",
       "      <th>998</th>\n",
       "      <th>999</th>\n",
       "    </tr>\n",
       "    <tr>\n",
       "      <th>UserID</th>\n",
       "      <th></th>\n",
       "      <th></th>\n",
       "      <th></th>\n",
       "      <th></th>\n",
       "      <th></th>\n",
       "      <th></th>\n",
       "      <th></th>\n",
       "      <th></th>\n",
       "      <th></th>\n",
       "      <th></th>\n",
       "      <th></th>\n",
       "      <th></th>\n",
       "      <th></th>\n",
       "      <th></th>\n",
       "      <th></th>\n",
       "      <th></th>\n",
       "      <th></th>\n",
       "      <th></th>\n",
       "      <th></th>\n",
       "      <th></th>\n",
       "      <th></th>\n",
       "    </tr>\n",
       "  </thead>\n",
       "  <tbody>\n",
       "    <tr>\n",
       "      <th>1</th>\n",
       "      <td>5.0</td>\n",
       "      <td>0.0</td>\n",
       "      <td>0.0</td>\n",
       "      <td>0.0</td>\n",
       "      <td>0.0</td>\n",
       "      <td>0.0</td>\n",
       "      <td>0.0</td>\n",
       "      <td>0.0</td>\n",
       "      <td>0.0</td>\n",
       "      <td>0.0</td>\n",
       "      <td>...</td>\n",
       "      <td>0.0</td>\n",
       "      <td>0.0</td>\n",
       "      <td>0.0</td>\n",
       "      <td>0.0</td>\n",
       "      <td>0.0</td>\n",
       "      <td>0.0</td>\n",
       "      <td>0.0</td>\n",
       "      <td>0.0</td>\n",
       "      <td>0.0</td>\n",
       "      <td>0.0</td>\n",
       "    </tr>\n",
       "    <tr>\n",
       "      <th>10</th>\n",
       "      <td>5.0</td>\n",
       "      <td>0.0</td>\n",
       "      <td>0.0</td>\n",
       "      <td>0.0</td>\n",
       "      <td>0.0</td>\n",
       "      <td>0.0</td>\n",
       "      <td>0.0</td>\n",
       "      <td>0.0</td>\n",
       "      <td>0.0</td>\n",
       "      <td>0.0</td>\n",
       "      <td>...</td>\n",
       "      <td>0.0</td>\n",
       "      <td>0.0</td>\n",
       "      <td>0.0</td>\n",
       "      <td>0.0</td>\n",
       "      <td>0.0</td>\n",
       "      <td>0.0</td>\n",
       "      <td>0.0</td>\n",
       "      <td>0.0</td>\n",
       "      <td>0.0</td>\n",
       "      <td>0.0</td>\n",
       "    </tr>\n",
       "    <tr>\n",
       "      <th>100</th>\n",
       "      <td>0.0</td>\n",
       "      <td>0.0</td>\n",
       "      <td>0.0</td>\n",
       "      <td>0.0</td>\n",
       "      <td>0.0</td>\n",
       "      <td>0.0</td>\n",
       "      <td>0.0</td>\n",
       "      <td>0.0</td>\n",
       "      <td>0.0</td>\n",
       "      <td>0.0</td>\n",
       "      <td>...</td>\n",
       "      <td>0.0</td>\n",
       "      <td>0.0</td>\n",
       "      <td>0.0</td>\n",
       "      <td>0.0</td>\n",
       "      <td>0.0</td>\n",
       "      <td>0.0</td>\n",
       "      <td>0.0</td>\n",
       "      <td>0.0</td>\n",
       "      <td>0.0</td>\n",
       "      <td>0.0</td>\n",
       "    </tr>\n",
       "    <tr>\n",
       "      <th>1000</th>\n",
       "      <td>5.0</td>\n",
       "      <td>0.0</td>\n",
       "      <td>0.0</td>\n",
       "      <td>0.0</td>\n",
       "      <td>0.0</td>\n",
       "      <td>0.0</td>\n",
       "      <td>0.0</td>\n",
       "      <td>0.0</td>\n",
       "      <td>0.0</td>\n",
       "      <td>0.0</td>\n",
       "      <td>...</td>\n",
       "      <td>0.0</td>\n",
       "      <td>0.0</td>\n",
       "      <td>0.0</td>\n",
       "      <td>0.0</td>\n",
       "      <td>0.0</td>\n",
       "      <td>0.0</td>\n",
       "      <td>0.0</td>\n",
       "      <td>0.0</td>\n",
       "      <td>0.0</td>\n",
       "      <td>0.0</td>\n",
       "    </tr>\n",
       "    <tr>\n",
       "      <th>1001</th>\n",
       "      <td>4.0</td>\n",
       "      <td>0.0</td>\n",
       "      <td>0.0</td>\n",
       "      <td>0.0</td>\n",
       "      <td>0.0</td>\n",
       "      <td>0.0</td>\n",
       "      <td>0.0</td>\n",
       "      <td>0.0</td>\n",
       "      <td>0.0</td>\n",
       "      <td>0.0</td>\n",
       "      <td>...</td>\n",
       "      <td>0.0</td>\n",
       "      <td>0.0</td>\n",
       "      <td>0.0</td>\n",
       "      <td>0.0</td>\n",
       "      <td>0.0</td>\n",
       "      <td>0.0</td>\n",
       "      <td>0.0</td>\n",
       "      <td>0.0</td>\n",
       "      <td>0.0</td>\n",
       "      <td>0.0</td>\n",
       "    </tr>\n",
       "  </tbody>\n",
       "</table>\n",
       "<p>5 rows × 3706 columns</p>\n",
       "</div>"
      ],
      "text/plain": [
       "MovieID  1     10    100   1000  1002  1003  1004  1005  1006  1007  ...  \\\n",
       "UserID                                                               ...   \n",
       "1         5.0   0.0   0.0   0.0   0.0   0.0   0.0   0.0   0.0   0.0  ...   \n",
       "10        5.0   0.0   0.0   0.0   0.0   0.0   0.0   0.0   0.0   0.0  ...   \n",
       "100       0.0   0.0   0.0   0.0   0.0   0.0   0.0   0.0   0.0   0.0  ...   \n",
       "1000      5.0   0.0   0.0   0.0   0.0   0.0   0.0   0.0   0.0   0.0  ...   \n",
       "1001      4.0   0.0   0.0   0.0   0.0   0.0   0.0   0.0   0.0   0.0  ...   \n",
       "\n",
       "MovieID  99    990   991   992   993   994   996   997   998   999   \n",
       "UserID                                                               \n",
       "1         0.0   0.0   0.0   0.0   0.0   0.0   0.0   0.0   0.0   0.0  \n",
       "10        0.0   0.0   0.0   0.0   0.0   0.0   0.0   0.0   0.0   0.0  \n",
       "100       0.0   0.0   0.0   0.0   0.0   0.0   0.0   0.0   0.0   0.0  \n",
       "1000      0.0   0.0   0.0   0.0   0.0   0.0   0.0   0.0   0.0   0.0  \n",
       "1001      0.0   0.0   0.0   0.0   0.0   0.0   0.0   0.0   0.0   0.0  \n",
       "\n",
       "[5 rows x 3706 columns]"
      ]
     },
     "execution_count": 7,
     "metadata": {},
     "output_type": "execute_result"
    }
   ],
   "source": [
    "M_train_df.head()"
   ]
  },
  {
   "cell_type": "markdown",
   "metadata": {
    "id": "e2rW5teNvuk8"
   },
   "source": [
    "\n",
    "\n",
    "# Funk-SVD"
   ]
  },
  {
   "cell_type": "code",
   "execution_count": 9,
   "metadata": {
    "id": "dACU8JFUvuk9"
   },
   "outputs": [],
   "source": [
    "class FunkSVD:\n",
    "    def __init__(self, lr=.005, reg=.02, n_epochs=20, n_factors=100,\n",
    "                 min_delta=.001,\n",
    "                 min_rating=1, max_rating=5):\n",
    "\n",
    "        self.lr = lr\n",
    "        self.reg = reg\n",
    "        self.n_epochs = n_epochs\n",
    "        self.n_factors = n_factors\n",
    "        self.min_rating = min_rating\n",
    "        self.max_rating = max_rating\n",
    "\n",
    "    def fit(self, X, X_test):\n",
    "        X = self._preprocess_data(X)\n",
    "\n",
    "        \n",
    "        X_test = self._preprocess_data(X_test, train=False)\n",
    "        self._init_metrics()\n",
    "        self.global_mean_ = np.mean(X[:, 2])\n",
    "        return self._run_sgd(X, X_test)\n",
    "\n",
    "    def _preprocess_data(self, X, train=True):\n",
    "        X = X.copy()\n",
    "        if train:  # Mappings have to be created\n",
    "            #assumed that train data includes all possible users and movies (not necessarily ratings)\n",
    "            user_ids = X['UserID'].unique().tolist()\n",
    "            item_ids = X['MovieID'].unique().tolist()\n",
    "            n_users = len(user_ids)\n",
    "            n_items = len(item_ids)\n",
    "            user_idx = range(n_users)\n",
    "            item_idx = range(n_items)\n",
    "            self.user_mapping_ = dict(zip(user_ids, user_idx))\n",
    "            self.item_mapping_ = dict(zip(item_ids, item_idx))\n",
    "        X['UserID'] = X['UserID'].map(self.user_mapping_)\n",
    "        X['MovieID'] = X['MovieID'].map(self.item_mapping_)\n",
    "        \n",
    "        X['UserID'] = X['UserID'].astype(np.int32)\n",
    "        X['MovieID'] = X['MovieID'].astype(np.int32)\n",
    "        return X[['UserID', 'MovieID', 'Rating']].values\n",
    "\n",
    "    def _init_metrics(self):\n",
    "        metrics = np.zeros((self.n_epochs, 3), dtype=np.float)\n",
    "        self.metrics_ = pd.DataFrame(metrics, columns=['Loss', 'RMSE', 'MAE'])\n",
    "\n",
    "    def _run_sgd(self, X, X_test):\n",
    "        reg,lr,global_mean,n_factors = self.reg,self.lr,self.global_mean_,self.n_factors\n",
    "        \n",
    "        n_users = len(np.unique(X[:, 0]))\n",
    "        n_items = len(np.unique(X[:, 1]))\n",
    "        bu = np.zeros(n_users)\n",
    "        bi = np.zeros(n_items)\n",
    "        pu = np.random.normal(0, .1, (n_users, n_factors))\n",
    "        qi = np.random.normal(0, .1, (n_items, n_factors))\n",
    "        \n",
    "        indices = (X_test[:,0].astype(int), X_test[:,1].astype(int))\n",
    "        true = X_test[:,2]\n",
    "        \n",
    "        # Run SGD\n",
    "        pbar = tqdm(range(self.n_epochs), desc='Epoch',\n",
    "                             ncols=110)\n",
    "        \n",
    "        #stochastic sgd\n",
    "        for epoch_ix in pbar:\n",
    "            \n",
    "            #with batch size 1\n",
    "            for row in X:\n",
    "                user, item, rating = int(row[0]), int(row[1]), row[2]\n",
    "\n",
    "                pred= np.dot(pu[user,:], qi[item,:])+ global_mean + bu[user]+bi[item]\n",
    "                err = rating - pred\n",
    "\n",
    "                # Update biases\n",
    "                bu[user] += lr * (err - reg * bu[user])\n",
    "                bi[item] += lr * (err - reg * bi[item])\n",
    "\n",
    "                # Update latent factors\n",
    "                pu_update= lr * (err * qi[item, :] - reg * pu[user, :])\n",
    "                qi_update= lr * (err * pu[user, :] - reg * qi[item, :])\n",
    "                pu[user, :] = pu[user, :] + pu_update\n",
    "                qi[item, :] = qi[item, :] + qi_update\n",
    "            \n",
    "            #compute test error\n",
    "            pred = global_mean + np.matmul(pu, qi.T) + bu.reshape(-1, 1) + bi.reshape(1, -1)\n",
    "            pred = np.clip(pred, self.min_rating, self.max_rating)\n",
    "            residual = (pred[indices] - true).ravel()\n",
    "            mse_score = np.square(residual).mean()\n",
    "            rmse_score = rmse(true, pred[indices])\n",
    "            mae_score = np.absolute(residual).mean()\n",
    "\n",
    "            #save results in df\n",
    "            self.metrics_.loc[epoch_ix, :] = (mse_score, rmse_score, mae_score)\n",
    "            f = lambda x: f\"{self.metrics_.loc[epoch_ix, x]:.3f}\"\n",
    "            pbar.set_postfix({f'test_{m}': f(m) for m in self.metrics_.columns})\n",
    "\n",
    "        self.bu_,self.bi_,self.pu_,self.qi_ = bu, bi, pu, qi\n",
    "        return {f\"test_{m}\": np.trim_zeros(self.metrics_[m]) for m in self.metrics_.columns}\n",
    "\n",
    "    def predict(self, X):\n",
    "        return [\n",
    "            self.predict_pair(u_id, i_id)\n",
    "            for u_id, i_id in zip(X['UserID'], X['MovieID'])\n",
    "        ]\n",
    "\n",
    "    def predict_pair(self, u_id, i_id):\n",
    "        assert u_id in self.user_mapping_ and i_id in self.item_mapping_, f\"user {u_id} or movie {i_id} not in train data\"\n",
    "        \n",
    "        i_ix = self.item_mapping_[i_id]\n",
    "        u_ix = self.user_mapping_[u_id]\n",
    "        pred = self.global_mean_ + self.bi_[i_ix] + self.bu_[u_ix] + np.dot(self.pu_[u_ix], self.qi_[i_ix])\n",
    "        pred = np.clip(pred, self.min_rating, self.max_rating)\n",
    "        return pred\n"
   ]
  },
  {
   "cell_type": "code",
   "execution_count": 64,
   "metadata": {
    "id": "I0prSFvWvuk9"
   },
   "outputs": [],
   "source": [
    "class SVT:\n",
    "    def __init__(self, tau, delta, n_epochs, min_rating=1, max_rating=5):\n",
    "        self.tau = tau\n",
    "        self.delta = delta\n",
    "        self.n_epochs = n_epochs\n",
    "        self.min_rating = min_rating\n",
    "        self.max_rating = max_rating\n",
    "        self.tol = 0.001\n",
    "        self.increment = 5\n",
    "    \n",
    "    def _init_metrics(self):\n",
    "        metrics = np.zeros((self.n_epochs, 3), dtype=np.float)\n",
    "        self.metrics_ = pd.DataFrame(metrics, columns=['Loss', 'RMSE', 'MAE'])\n",
    "    \n",
    "    def fit(self, M, M_test):\n",
    "        ### preprocessing -->\n",
    "        \n",
    "        self._init_metrics()\n",
    "        M = M.copy()\n",
    "        M_test = M_test.copy()\n",
    "        \n",
    "        self.user_mapping_ = dict(zip(M.index, range(len(M.index))))\n",
    "        self.item_mapping_ = dict(zip(M.columns, range(len(M.columns))))\n",
    "        self.users_mean = np.mean(M.values, axis = 1).reshape(-1, 1)\n",
    "        \n",
    "        M = M.values\n",
    "        M_test= M_test.values\n",
    "        \n",
    "        \n",
    "        Omega = M.astype(np.int32).nonzero()\n",
    "        test_indices= M_test.astype(np.int32).nonzero()\n",
    "        \n",
    "        M = M- self.users_mean\n",
    "        M_test= M_test - self.users_mean\n",
    "        \n",
    "        test_true = M_test[test_indices].ravel()\n",
    "        \n",
    "        tol = self.tol\n",
    "        incre = self.increment\n",
    "        tau = self.tau\n",
    "        iterations= self.n_epochs\n",
    "        delta = self.delta\n",
    "        ### --> preprocessing\n",
    "\n",
    "        # SVT\n",
    "        r = 0\n",
    "        P_Omega_M = ss.csr_matrix((np.ravel(M[Omega]), Omega), shape=M.shape)\n",
    "        normProjM = norm(P_Omega_M)\n",
    "        k0 = np.ceil(tau / (delta * normProjM))\n",
    "        Y = k0 * delta * P_Omega_M\n",
    "\n",
    "        pbar = tqdm(range(iterations))\n",
    "\n",
    "        for epoch_ix in pbar:\n",
    "            s = r + 1\n",
    "            sparse_Y = ss.csc_matrix(Y)\n",
    "            \n",
    "            #find s largest eigen values. keep increasing s until the s'th largest value is smaller than tau\n",
    "            u1, s1, v1 = sparsesvd(sparse_Y, s)\n",
    "            while np.min(s1) > tau and s >= min(*M.shape):\n",
    "                u1, s1, v1 = sparsesvd(sparse_Y, s)\n",
    "                s+=incre\n",
    "                if s>90: \n",
    "                    break\n",
    "            \n",
    "            if s>90: \n",
    "                print(f'number of singular values requested was {s}. this takes too much time!')\n",
    "                break\n",
    "            \n",
    "            #reconstruct x from svd decomposition\n",
    "            r = np.sum(s1 > tau)\n",
    "            U = u1.T[:, :r]\n",
    "            V = v1[:r, :]\n",
    "            S = s1[:r] - tau\n",
    "            x = (U * S).dot(V)\n",
    "\n",
    "            x_omega = ss.csr_matrix((x[Omega], Omega), shape=M.shape)\n",
    "            \n",
    "            #if there is no reconstruction error, stop\n",
    "            if norm(x_omega - P_Omega_M) / norm(P_Omega_M) < tol:\n",
    "                break\n",
    "            \n",
    "            #update Y with values from constructed matrix\n",
    "            diff = P_Omega_M - x_omega\n",
    "            Y += delta * diff\n",
    "                \n",
    "            #compute test error\n",
    "            \n",
    "            M_pred = np.clip((x + self.users_mean), self.min_rating, self.max_rating)-self.users_mean\n",
    "            test_pred = M_pred[test_indices].ravel()\n",
    "            \n",
    "            residual = (test_pred - test_true).ravel()\n",
    "            mse_score = np.square(residual).mean()\n",
    "            rmse_score = rmse(test_true, test_pred)\n",
    "            mae_score = np.absolute(residual).mean()\n",
    "\n",
    "            #save results in df\n",
    "            self.metrics_.loc[epoch_ix, :] = (mse_score, rmse_score, mae_score)\n",
    "            f = lambda x: f\"{self.metrics_.loc[epoch_ix, x]:.3f}\"\n",
    "            pbar.set_postfix({f'test_{m}': f(m) for m in self.metrics_.columns})\n",
    "                \n",
    "        self.x = x + self.users_mean\n",
    "        return {f\"test_{m}\": np.trim_zeros(self.metrics_[m].tolist()) for m in self.metrics_.columns}\n",
    "    \n",
    "    \n",
    "    def predict(self, X):\n",
    "        return [self.predict_pair(u_id, i_id) for u_id, i_id in zip(X['UserID'], X['MovieID'])]\n",
    "\n",
    "    def predict_pair(self, u_id, i_id):\n",
    "        assert u_id in self.user_mapping_ and i_id in self.item_mapping_, f\"user {u_id} or movie {i_id} not in train data\"\n",
    "        \n",
    "        i_ix = self.item_mapping_[i_id]\n",
    "        u_ix = self.user_mapping_[u_id]\n",
    "        \n",
    "        pred= self.x[u_ix,i_ix]\n",
    "        pred = np.clip(pred, self.min_rating, self.max_rating)\n",
    "        return pred"
   ]
  },
  {
   "cell_type": "markdown",
   "metadata": {},
   "source": [
    "## Ensemble Model\n",
    "#### A simple model averaging two given MF models."
   ]
  },
  {
   "cell_type": "code",
   "execution_count": 11,
   "metadata": {},
   "outputs": [],
   "source": [
    "class Ensemble:\n",
    "    def __init__(self, models):\n",
    "        self.models = models\n",
    "    \n",
    "    def predict(self, X):\n",
    "        return [self.predict_pair(u_id, i_id) for u_id, i_id in zip(X['UserID'], X['MovieID'])]\n",
    "    \n",
    "    def predict_pair(self, u_id, i_id):\n",
    "        return sum([m.predict_pair(u_id, i_id) for m in self.models]) / len(self.models)"
   ]
  },
  {
   "cell_type": "markdown",
   "metadata": {
    "id": "NbSnEbZlvuk-"
   },
   "source": [
    "## Experimental Setup"
   ]
  },
  {
   "cell_type": "code",
   "execution_count": 15,
   "metadata": {
    "cellView": "code",
    "id": "vfXchdoCr7Z5"
   },
   "outputs": [],
   "source": [
    "def to_sparse(df):\n",
    "    users =[]\n",
    "    movies =[]\n",
    "    ratings =[]\n",
    "    indices = df.values.astype(np.int32).nonzero()\n",
    "    x_indices,y_indices = indices[0],indices[1]\n",
    "    \n",
    "    for i,j in zip(x_indices,y_indices):\n",
    "        users.append(df.index[i])\n",
    "        movies.append(df.columns[j])\n",
    "        ratings.append(df.iloc[i,j])\n",
    "    \n",
    "    df = pd.DataFrame(dict(zip(['UserID', 'MovieID', 'Rating'], [users, movies, ratings])))\n",
    "    return df\n",
    "\n",
    "def run_funk(train, test, **kw):\n",
    "    seed_everything()\n",
    "    svd = FunkSVD(**kw)\n",
    "    hist = svd.fit(X=train, X_test=test)\n",
    "    y_true, y_pred = test['Rating'].values.ravel(), np.array(svd.predict(test)).ravel()\n",
    "    score = rmse(y_true, y_pred)\n",
    "    best_epoch = np.argmin(hist['test_RMSE'])\n",
    "    score = hist['test_RMSE'].iloc[best_epoch]\n",
    "    return hist, svd, score, best_epoch\n",
    "    \n",
    "def run_svt(train, test, **kw):\n",
    "    seed_everything()\n",
    "    model = SVT(**kw)\n",
    "    hist = model.fit(M=train, M_test=test)\n",
    "    \n",
    "    sparse_test = to_sparse(test)\n",
    "    y_true, y_pred = sparse_test['Rating'].values.ravel(), np.array(model.predict(sparse_test)).ravel()\n",
    "    \n",
    "    print(f\"\\n\\nTest RMSE: {rmse(y_true, y_pred):.3f}\\n\\n\")\n",
    "    print_hparams(kw, 'SVT')\n",
    "    return hist, model\n",
    "\n",
    "def print_hparams(h, name):\n",
    "    print(\"Hyperparameters:\\n\")\n",
    "    print(f\"hist = {name}(train_df, test_df,\\n\\t\" + \", \".join([f\"{k}={h[k]}\" for k in h]) + ')')\n",
    "    \n",
    "def plot_experiment(hist):\n",
    "    fig = px.line(pd.DataFrame(hist).rename_axis('Epoch'))\\\n",
    "        .update_layout(hoverlabel=dict(font_size=12, font_family=\"Rockwell\"),\n",
    "                       font=dict(family=\"Courier New, monospace\", size=18))\\\n",
    "        .update_xaxes(showspikes=True)\n",
    "    fig.show()\n",
    "    fig.show(\"svg\")"
   ]
  },
  {
   "cell_type": "markdown",
   "metadata": {
    "id": "3gX6d_1ivuk_"
   },
   "source": [
    "## SVT Grid Search"
   ]
  },
  {
   "cell_type": "code",
   "execution_count": 25,
   "metadata": {
    "colab": {
     "base_uri": "https://localhost:8080/"
    },
    "id": "4ebGMzw4vulA",
    "outputId": "09671f63-9ddf-413e-cf28-2ff908b8e580"
   },
   "outputs": [
    {
     "name": "stdout",
     "output_type": "stream",
     "text": [
      "tau: 20000, delta: 1\n",
      "100%|██████████| 50/50 [00:23<00:00,  2.15it/s, test_Loss=2.044, test_RMSE=1.430, test_MAE=1.115]\n",
      "\n",
      "\n",
      "Test RMSE: 1.430\n",
      "\n",
      "\n",
      "Hyperparameters:\n",
      "\n",
      "hist = SVT(train_df, test_df,\n",
      "\ttau=20000, delta=1, n_epochs=50)\n",
      "tau: 20000, delta: 2\n",
      "100%|██████████| 25/25 [00:12<00:00,  2.05it/s, test_Loss=2.101, test_RMSE=1.450, test_MAE=1.135]\n",
      "\n",
      "\n",
      "Test RMSE: 1.450\n",
      "\n",
      "\n",
      "Hyperparameters:\n",
      "\n",
      "hist = SVT(train_df, test_df,\n",
      "\ttau=20000, delta=2, n_epochs=25)\n",
      "tau: 20000, delta: 5\n",
      "100%|██████████| 10/10 [00:05<00:00,  1.86it/s, test_Loss=1.950, test_RMSE=1.396, test_MAE=1.077]\n",
      "\n",
      "\n",
      "Test RMSE: 1.396\n",
      "\n",
      "\n",
      "Hyperparameters:\n",
      "\n",
      "hist = SVT(train_df, test_df,\n",
      "\ttau=20000, delta=5, n_epochs=10)\n",
      "tau: 20000, delta: 7\n",
      "100%|██████████| 7/7 [00:03<00:00,  1.87it/s, test_Loss=2.154, test_RMSE=1.468, test_MAE=1.144]\n",
      "\n",
      "\n",
      "Test RMSE: 1.468\n",
      "\n",
      "\n",
      "Hyperparameters:\n",
      "\n",
      "hist = SVT(train_df, test_df,\n",
      "\ttau=20000, delta=7, n_epochs=7)\n",
      "tau: 10000, delta: 1\n",
      "100%|██████████| 50/50 [00:28<00:00,  1.78it/s, test_Loss=1.515, test_RMSE=1.231, test_MAE=0.943]\n",
      "\n",
      "\n",
      "Test RMSE: 1.231\n",
      "\n",
      "\n",
      "Hyperparameters:\n",
      "\n",
      "hist = SVT(train_df, test_df,\n",
      "\ttau=10000, delta=1, n_epochs=50)\n",
      "tau: 10000, delta: 2\n",
      "100%|██████████| 25/25 [00:14<00:00,  1.78it/s, test_Loss=1.509, test_RMSE=1.229, test_MAE=0.941]\n",
      "\n",
      "\n",
      "Test RMSE: 1.229\n",
      "\n",
      "\n",
      "Hyperparameters:\n",
      "\n",
      "hist = SVT(train_df, test_df,\n",
      "\ttau=10000, delta=2, n_epochs=25)\n",
      "tau: 10000, delta: 5\n",
      "100%|██████████| 10/10 [00:05<00:00,  1.86it/s, test_Loss=1.651, test_RMSE=1.285, test_MAE=0.987]\n",
      "\n",
      "\n",
      "Test RMSE: 1.285\n",
      "\n",
      "\n",
      "Hyperparameters:\n",
      "\n",
      "hist = SVT(train_df, test_df,\n",
      "\ttau=10000, delta=5, n_epochs=10)\n",
      "tau: 10000, delta: 7\n",
      "100%|██████████| 7/7 [00:03<00:00,  1.83it/s, test_Loss=4.573, test_RMSE=2.138, test_MAE=1.781]\n",
      "\n",
      "\n",
      "Test RMSE: 2.138\n",
      "\n",
      "\n",
      "Hyperparameters:\n",
      "\n",
      "hist = SVT(train_df, test_df,\n",
      "\ttau=10000, delta=7, n_epochs=7)\n",
      "tau: 30000, delta: 1\n",
      "100%|██████████| 50/50 [00:25<00:00,  1.96it/s, test_Loss=2.492, test_RMSE=1.579, test_MAE=1.250]\n",
      "\n",
      "\n",
      "Test RMSE: 1.579\n",
      "\n",
      "\n",
      "Hyperparameters:\n",
      "\n",
      "hist = SVT(train_df, test_df,\n",
      "\ttau=30000, delta=1, n_epochs=50)\n",
      "tau: 30000, delta: 2\n",
      "100%|██████████| 25/25 [00:12<00:00,  1.95it/s, test_Loss=2.483, test_RMSE=1.576, test_MAE=1.247]\n",
      "\n",
      "\n",
      "Test RMSE: 1.576\n",
      "\n",
      "\n",
      "Hyperparameters:\n",
      "\n",
      "hist = SVT(train_df, test_df,\n",
      "\ttau=30000, delta=2, n_epochs=25)\n",
      "tau: 30000, delta: 5\n",
      "100%|██████████| 10/10 [00:05<00:00,  2.00it/s, test_Loss=2.540, test_RMSE=1.594, test_MAE=1.263]\n",
      "\n",
      "\n",
      "Test RMSE: 1.594\n",
      "\n",
      "\n",
      "Hyperparameters:\n",
      "\n",
      "hist = SVT(train_df, test_df,\n",
      "\ttau=30000, delta=5, n_epochs=10)\n",
      "tau: 30000, delta: 7\n",
      "100%|██████████| 7/7 [00:03<00:00,  2.01it/s, test_Loss=5.533, test_RMSE=2.352, test_MAE=2.114]\n",
      "\n",
      "\n",
      "Test RMSE: 2.352\n",
      "\n",
      "\n",
      "Hyperparameters:\n",
      "\n",
      "hist = SVT(train_df, test_df,\n",
      "\ttau=30000, delta=7, n_epochs=7)\n"
     ]
    }
   ],
   "source": [
    "taus= [20000, 10000, 30000]\n",
    "deltas=[1, 2, 5, 7]\n",
    "\n",
    "hists = []\n",
    "for tau, delta in product(taus,deltas):\n",
    "    print(f\"tau: {tau}, delta: {delta}\\n\")\n",
    "    try:\n",
    "        hist,model = run_svt(train=M_train_df, test=M_test_df,\n",
    "                tau=tau,\n",
    "                delta=delta,\n",
    "                n_epochs=int(500 / delta),\n",
    "                )\n",
    "    except Exception as e:\n",
    "        print('encountered a problem {}. happens when SVT diverges'.format(e))\n",
    "        continue\n",
    "    hists.append({'tau':tau, 'delta':delta, 'hist': hist})\n",
    "    with open('results.json', 'w') as f:\n",
    "        json.dump(hists, f)"
   ]
  },
  {
   "cell_type": "markdown",
   "metadata": {},
   "source": [
    "### SVT Analysis"
   ]
  },
  {
   "cell_type": "code",
   "execution_count": 65,
   "metadata": {
    "colab": {
     "base_uri": "https://localhost:8080/",
     "height": 996
    },
    "id": "HX6ndzgpfNCi",
    "outputId": "8bc76351-2494-4509-9a68-9f9d20980aab"
   },
   "outputs": [
    {
     "data": {
      "application/vnd.plotly.v1+json": {
       "config": {
        "plotlyServerURL": "https://plot.ly"
       },
       "data": [
        {
         "hovertemplate": "variable=test_Loss<br>Epoch=%{x}<br>value=%{y}<extra></extra>",
         "legendgroup": "test_Loss",
         "line": {
          "color": "#636efa",
          "dash": "solid"
         },
         "mode": "lines",
         "name": "test_Loss",
         "orientation": "v",
         "showlegend": true,
         "type": "scatter",
         "x": [
          0,
          1,
          2,
          3,
          4,
          5,
          6,
          7,
          8,
          9,
          10,
          11,
          12,
          13,
          14,
          15,
          16,
          17,
          18,
          19,
          20,
          21,
          22,
          23,
          24
         ],
         "xaxis": "x",
         "y": [
          7.895072786214156,
          7.895072786214156,
          4.750671841755689,
          4.357027495987252,
          3.962722722791406,
          3.634700701145219,
          3.3629272122695255,
          3.134933013559587,
          2.9416608628209513,
          2.7757653878946456,
          2.6309246539777047,
          2.420942537075432,
          2.2360556997980767,
          2.140250766081255,
          2.0578138999922366,
          1.9848040870158554,
          1.8794480204249187,
          1.8080697505820889,
          1.750517667040557,
          1.7003992793555314,
          1.6555811530745415,
          1.614489491368777,
          1.5767317936729193,
          1.5417392922868138,
          1.5094631737010569
         ],
         "yaxis": "y"
        },
        {
         "hovertemplate": "variable=test_RMSE<br>Epoch=%{x}<br>value=%{y}<extra></extra>",
         "legendgroup": "test_RMSE",
         "line": {
          "color": "#EF553B",
          "dash": "solid"
         },
         "mode": "lines",
         "name": "test_RMSE",
         "orientation": "v",
         "showlegend": true,
         "type": "scatter",
         "x": [
          0,
          1,
          2,
          3,
          4,
          5,
          6,
          7,
          8,
          9,
          10,
          11,
          12,
          13,
          14,
          15,
          16,
          17,
          18,
          19,
          20,
          21,
          22,
          23,
          24
         ],
         "xaxis": "x",
         "y": [
          2.80981721580144,
          2.80981721580144,
          2.1796035973900594,
          2.087349394803671,
          1.9906588665041045,
          1.9064891033376559,
          1.8338285667612242,
          1.7705742044770636,
          1.7151270690012888,
          1.6660628403198499,
          1.6220125320039005,
          1.5559378320085389,
          1.4953446759185913,
          1.4629595914041011,
          1.4345082432639544,
          1.4088307517284875,
          1.370929619063254,
          1.3446448418010195,
          1.3230713008150985,
          1.303993588694182,
          1.286693884758353,
          1.2706256299039371,
          1.2556798133572584,
          1.241667947676356,
          1.2286021218039047
         ],
         "yaxis": "y"
        },
        {
         "hovertemplate": "variable=test_MAE<br>Epoch=%{x}<br>value=%{y}<extra></extra>",
         "legendgroup": "test_MAE",
         "line": {
          "color": "#00cc96",
          "dash": "solid"
         },
         "mode": "lines",
         "name": "test_MAE",
         "orientation": "v",
         "showlegend": true,
         "type": "scatter",
         "x": [
          0,
          1,
          2,
          3,
          4,
          5,
          6,
          7,
          8,
          9,
          10,
          11,
          12,
          13,
          14,
          15,
          16,
          17,
          18,
          19,
          20,
          21,
          22,
          23,
          24
         ],
         "xaxis": "x",
         "y": [
          2.580265515380464,
          2.580265515380464,
          1.8487830463627835,
          1.7521759361885816,
          1.6514318089670443,
          1.565182968870632,
          1.491666647707664,
          1.43043810360793,
          1.377561440256598,
          1.3317934071127984,
          1.2913451900097797,
          1.2263761363943493,
          1.1667823401439306,
          1.1374431990728664,
          1.1127577159162751,
          1.0905404584843208,
          1.0547760778374065,
          1.032065012710741,
          1.0138869017826038,
          0.9983707918591246,
          0.984757976151251,
          0.9725329051007761,
          0.9612321981347943,
          0.9508386850658807,
          0.9411341208713633
         ],
         "yaxis": "y"
        }
       ],
       "layout": {
        "font": {
         "family": "Courier New, monospace",
         "size": 18
        },
        "hoverlabel": {
         "font": {
          "family": "Rockwell",
          "size": 12
         }
        },
        "legend": {
         "title": {
          "text": "variable"
         },
         "tracegroupgap": 0
        },
        "margin": {
         "t": 60
        },
        "template": {
         "data": {
          "bar": [
           {
            "error_x": {
             "color": "#2a3f5f"
            },
            "error_y": {
             "color": "#2a3f5f"
            },
            "marker": {
             "line": {
              "color": "#E5ECF6",
              "width": 0.5
             }
            },
            "type": "bar"
           }
          ],
          "barpolar": [
           {
            "marker": {
             "line": {
              "color": "#E5ECF6",
              "width": 0.5
             }
            },
            "type": "barpolar"
           }
          ],
          "carpet": [
           {
            "aaxis": {
             "endlinecolor": "#2a3f5f",
             "gridcolor": "white",
             "linecolor": "white",
             "minorgridcolor": "white",
             "startlinecolor": "#2a3f5f"
            },
            "baxis": {
             "endlinecolor": "#2a3f5f",
             "gridcolor": "white",
             "linecolor": "white",
             "minorgridcolor": "white",
             "startlinecolor": "#2a3f5f"
            },
            "type": "carpet"
           }
          ],
          "choropleth": [
           {
            "colorbar": {
             "outlinewidth": 0,
             "ticks": ""
            },
            "type": "choropleth"
           }
          ],
          "contour": [
           {
            "colorbar": {
             "outlinewidth": 0,
             "ticks": ""
            },
            "colorscale": [
             [
              0,
              "#0d0887"
             ],
             [
              0.1111111111111111,
              "#46039f"
             ],
             [
              0.2222222222222222,
              "#7201a8"
             ],
             [
              0.3333333333333333,
              "#9c179e"
             ],
             [
              0.4444444444444444,
              "#bd3786"
             ],
             [
              0.5555555555555556,
              "#d8576b"
             ],
             [
              0.6666666666666666,
              "#ed7953"
             ],
             [
              0.7777777777777778,
              "#fb9f3a"
             ],
             [
              0.8888888888888888,
              "#fdca26"
             ],
             [
              1,
              "#f0f921"
             ]
            ],
            "type": "contour"
           }
          ],
          "contourcarpet": [
           {
            "colorbar": {
             "outlinewidth": 0,
             "ticks": ""
            },
            "type": "contourcarpet"
           }
          ],
          "heatmap": [
           {
            "colorbar": {
             "outlinewidth": 0,
             "ticks": ""
            },
            "colorscale": [
             [
              0,
              "#0d0887"
             ],
             [
              0.1111111111111111,
              "#46039f"
             ],
             [
              0.2222222222222222,
              "#7201a8"
             ],
             [
              0.3333333333333333,
              "#9c179e"
             ],
             [
              0.4444444444444444,
              "#bd3786"
             ],
             [
              0.5555555555555556,
              "#d8576b"
             ],
             [
              0.6666666666666666,
              "#ed7953"
             ],
             [
              0.7777777777777778,
              "#fb9f3a"
             ],
             [
              0.8888888888888888,
              "#fdca26"
             ],
             [
              1,
              "#f0f921"
             ]
            ],
            "type": "heatmap"
           }
          ],
          "heatmapgl": [
           {
            "colorbar": {
             "outlinewidth": 0,
             "ticks": ""
            },
            "colorscale": [
             [
              0,
              "#0d0887"
             ],
             [
              0.1111111111111111,
              "#46039f"
             ],
             [
              0.2222222222222222,
              "#7201a8"
             ],
             [
              0.3333333333333333,
              "#9c179e"
             ],
             [
              0.4444444444444444,
              "#bd3786"
             ],
             [
              0.5555555555555556,
              "#d8576b"
             ],
             [
              0.6666666666666666,
              "#ed7953"
             ],
             [
              0.7777777777777778,
              "#fb9f3a"
             ],
             [
              0.8888888888888888,
              "#fdca26"
             ],
             [
              1,
              "#f0f921"
             ]
            ],
            "type": "heatmapgl"
           }
          ],
          "histogram": [
           {
            "marker": {
             "colorbar": {
              "outlinewidth": 0,
              "ticks": ""
             }
            },
            "type": "histogram"
           }
          ],
          "histogram2d": [
           {
            "colorbar": {
             "outlinewidth": 0,
             "ticks": ""
            },
            "colorscale": [
             [
              0,
              "#0d0887"
             ],
             [
              0.1111111111111111,
              "#46039f"
             ],
             [
              0.2222222222222222,
              "#7201a8"
             ],
             [
              0.3333333333333333,
              "#9c179e"
             ],
             [
              0.4444444444444444,
              "#bd3786"
             ],
             [
              0.5555555555555556,
              "#d8576b"
             ],
             [
              0.6666666666666666,
              "#ed7953"
             ],
             [
              0.7777777777777778,
              "#fb9f3a"
             ],
             [
              0.8888888888888888,
              "#fdca26"
             ],
             [
              1,
              "#f0f921"
             ]
            ],
            "type": "histogram2d"
           }
          ],
          "histogram2dcontour": [
           {
            "colorbar": {
             "outlinewidth": 0,
             "ticks": ""
            },
            "colorscale": [
             [
              0,
              "#0d0887"
             ],
             [
              0.1111111111111111,
              "#46039f"
             ],
             [
              0.2222222222222222,
              "#7201a8"
             ],
             [
              0.3333333333333333,
              "#9c179e"
             ],
             [
              0.4444444444444444,
              "#bd3786"
             ],
             [
              0.5555555555555556,
              "#d8576b"
             ],
             [
              0.6666666666666666,
              "#ed7953"
             ],
             [
              0.7777777777777778,
              "#fb9f3a"
             ],
             [
              0.8888888888888888,
              "#fdca26"
             ],
             [
              1,
              "#f0f921"
             ]
            ],
            "type": "histogram2dcontour"
           }
          ],
          "mesh3d": [
           {
            "colorbar": {
             "outlinewidth": 0,
             "ticks": ""
            },
            "type": "mesh3d"
           }
          ],
          "parcoords": [
           {
            "line": {
             "colorbar": {
              "outlinewidth": 0,
              "ticks": ""
             }
            },
            "type": "parcoords"
           }
          ],
          "pie": [
           {
            "automargin": true,
            "type": "pie"
           }
          ],
          "scatter": [
           {
            "marker": {
             "colorbar": {
              "outlinewidth": 0,
              "ticks": ""
             }
            },
            "type": "scatter"
           }
          ],
          "scatter3d": [
           {
            "line": {
             "colorbar": {
              "outlinewidth": 0,
              "ticks": ""
             }
            },
            "marker": {
             "colorbar": {
              "outlinewidth": 0,
              "ticks": ""
             }
            },
            "type": "scatter3d"
           }
          ],
          "scattercarpet": [
           {
            "marker": {
             "colorbar": {
              "outlinewidth": 0,
              "ticks": ""
             }
            },
            "type": "scattercarpet"
           }
          ],
          "scattergeo": [
           {
            "marker": {
             "colorbar": {
              "outlinewidth": 0,
              "ticks": ""
             }
            },
            "type": "scattergeo"
           }
          ],
          "scattergl": [
           {
            "marker": {
             "colorbar": {
              "outlinewidth": 0,
              "ticks": ""
             }
            },
            "type": "scattergl"
           }
          ],
          "scattermapbox": [
           {
            "marker": {
             "colorbar": {
              "outlinewidth": 0,
              "ticks": ""
             }
            },
            "type": "scattermapbox"
           }
          ],
          "scatterpolar": [
           {
            "marker": {
             "colorbar": {
              "outlinewidth": 0,
              "ticks": ""
             }
            },
            "type": "scatterpolar"
           }
          ],
          "scatterpolargl": [
           {
            "marker": {
             "colorbar": {
              "outlinewidth": 0,
              "ticks": ""
             }
            },
            "type": "scatterpolargl"
           }
          ],
          "scatterternary": [
           {
            "marker": {
             "colorbar": {
              "outlinewidth": 0,
              "ticks": ""
             }
            },
            "type": "scatterternary"
           }
          ],
          "surface": [
           {
            "colorbar": {
             "outlinewidth": 0,
             "ticks": ""
            },
            "colorscale": [
             [
              0,
              "#0d0887"
             ],
             [
              0.1111111111111111,
              "#46039f"
             ],
             [
              0.2222222222222222,
              "#7201a8"
             ],
             [
              0.3333333333333333,
              "#9c179e"
             ],
             [
              0.4444444444444444,
              "#bd3786"
             ],
             [
              0.5555555555555556,
              "#d8576b"
             ],
             [
              0.6666666666666666,
              "#ed7953"
             ],
             [
              0.7777777777777778,
              "#fb9f3a"
             ],
             [
              0.8888888888888888,
              "#fdca26"
             ],
             [
              1,
              "#f0f921"
             ]
            ],
            "type": "surface"
           }
          ],
          "table": [
           {
            "cells": {
             "fill": {
              "color": "#EBF0F8"
             },
             "line": {
              "color": "white"
             }
            },
            "header": {
             "fill": {
              "color": "#C8D4E3"
             },
             "line": {
              "color": "white"
             }
            },
            "type": "table"
           }
          ]
         },
         "layout": {
          "annotationdefaults": {
           "arrowcolor": "#2a3f5f",
           "arrowhead": 0,
           "arrowwidth": 1
          },
          "autotypenumbers": "strict",
          "coloraxis": {
           "colorbar": {
            "outlinewidth": 0,
            "ticks": ""
           }
          },
          "colorscale": {
           "diverging": [
            [
             0,
             "#8e0152"
            ],
            [
             0.1,
             "#c51b7d"
            ],
            [
             0.2,
             "#de77ae"
            ],
            [
             0.3,
             "#f1b6da"
            ],
            [
             0.4,
             "#fde0ef"
            ],
            [
             0.5,
             "#f7f7f7"
            ],
            [
             0.6,
             "#e6f5d0"
            ],
            [
             0.7,
             "#b8e186"
            ],
            [
             0.8,
             "#7fbc41"
            ],
            [
             0.9,
             "#4d9221"
            ],
            [
             1,
             "#276419"
            ]
           ],
           "sequential": [
            [
             0,
             "#0d0887"
            ],
            [
             0.1111111111111111,
             "#46039f"
            ],
            [
             0.2222222222222222,
             "#7201a8"
            ],
            [
             0.3333333333333333,
             "#9c179e"
            ],
            [
             0.4444444444444444,
             "#bd3786"
            ],
            [
             0.5555555555555556,
             "#d8576b"
            ],
            [
             0.6666666666666666,
             "#ed7953"
            ],
            [
             0.7777777777777778,
             "#fb9f3a"
            ],
            [
             0.8888888888888888,
             "#fdca26"
            ],
            [
             1,
             "#f0f921"
            ]
           ],
           "sequentialminus": [
            [
             0,
             "#0d0887"
            ],
            [
             0.1111111111111111,
             "#46039f"
            ],
            [
             0.2222222222222222,
             "#7201a8"
            ],
            [
             0.3333333333333333,
             "#9c179e"
            ],
            [
             0.4444444444444444,
             "#bd3786"
            ],
            [
             0.5555555555555556,
             "#d8576b"
            ],
            [
             0.6666666666666666,
             "#ed7953"
            ],
            [
             0.7777777777777778,
             "#fb9f3a"
            ],
            [
             0.8888888888888888,
             "#fdca26"
            ],
            [
             1,
             "#f0f921"
            ]
           ]
          },
          "colorway": [
           "#636efa",
           "#EF553B",
           "#00cc96",
           "#ab63fa",
           "#FFA15A",
           "#19d3f3",
           "#FF6692",
           "#B6E880",
           "#FF97FF",
           "#FECB52"
          ],
          "font": {
           "color": "#2a3f5f"
          },
          "geo": {
           "bgcolor": "white",
           "lakecolor": "white",
           "landcolor": "#E5ECF6",
           "showlakes": true,
           "showland": true,
           "subunitcolor": "white"
          },
          "hoverlabel": {
           "align": "left"
          },
          "hovermode": "closest",
          "mapbox": {
           "style": "light"
          },
          "paper_bgcolor": "white",
          "plot_bgcolor": "#E5ECF6",
          "polar": {
           "angularaxis": {
            "gridcolor": "white",
            "linecolor": "white",
            "ticks": ""
           },
           "bgcolor": "#E5ECF6",
           "radialaxis": {
            "gridcolor": "white",
            "linecolor": "white",
            "ticks": ""
           }
          },
          "scene": {
           "xaxis": {
            "backgroundcolor": "#E5ECF6",
            "gridcolor": "white",
            "gridwidth": 2,
            "linecolor": "white",
            "showbackground": true,
            "ticks": "",
            "zerolinecolor": "white"
           },
           "yaxis": {
            "backgroundcolor": "#E5ECF6",
            "gridcolor": "white",
            "gridwidth": 2,
            "linecolor": "white",
            "showbackground": true,
            "ticks": "",
            "zerolinecolor": "white"
           },
           "zaxis": {
            "backgroundcolor": "#E5ECF6",
            "gridcolor": "white",
            "gridwidth": 2,
            "linecolor": "white",
            "showbackground": true,
            "ticks": "",
            "zerolinecolor": "white"
           }
          },
          "shapedefaults": {
           "line": {
            "color": "#2a3f5f"
           }
          },
          "ternary": {
           "aaxis": {
            "gridcolor": "white",
            "linecolor": "white",
            "ticks": ""
           },
           "baxis": {
            "gridcolor": "white",
            "linecolor": "white",
            "ticks": ""
           },
           "bgcolor": "#E5ECF6",
           "caxis": {
            "gridcolor": "white",
            "linecolor": "white",
            "ticks": ""
           }
          },
          "title": {
           "x": 0.05
          },
          "xaxis": {
           "automargin": true,
           "gridcolor": "white",
           "linecolor": "white",
           "ticks": "",
           "title": {
            "standoff": 15
           },
           "zerolinecolor": "white",
           "zerolinewidth": 2
          },
          "yaxis": {
           "automargin": true,
           "gridcolor": "white",
           "linecolor": "white",
           "ticks": "",
           "title": {
            "standoff": 15
           },
           "zerolinecolor": "white",
           "zerolinewidth": 2
          }
         }
        },
        "xaxis": {
         "anchor": "y",
         "domain": [
          0,
          1
         ],
         "showspikes": true,
         "title": {
          "text": "Epoch"
         }
        },
        "yaxis": {
         "anchor": "x",
         "domain": [
          0,
          1
         ],
         "title": {
          "text": "value"
         }
        }
       }
      },
      "text/html": [
       "<div>                            <div id=\"9257d801-6878-45a4-9e08-844a9f38ccb4\" class=\"plotly-graph-div\" style=\"height:525px; width:100%;\"></div>            <script type=\"text/javascript\">                require([\"plotly\"], function(Plotly) {                    window.PLOTLYENV=window.PLOTLYENV || {};                                    if (document.getElementById(\"9257d801-6878-45a4-9e08-844a9f38ccb4\")) {                    Plotly.newPlot(                        \"9257d801-6878-45a4-9e08-844a9f38ccb4\",                        [{\"hovertemplate\": \"variable=test_Loss<br>Epoch=%{x}<br>value=%{y}<extra></extra>\", \"legendgroup\": \"test_Loss\", \"line\": {\"color\": \"#636efa\", \"dash\": \"solid\"}, \"mode\": \"lines\", \"name\": \"test_Loss\", \"orientation\": \"v\", \"showlegend\": true, \"type\": \"scatter\", \"x\": [0, 1, 2, 3, 4, 5, 6, 7, 8, 9, 10, 11, 12, 13, 14, 15, 16, 17, 18, 19, 20, 21, 22, 23, 24], \"xaxis\": \"x\", \"y\": [7.895072786214156, 7.895072786214156, 4.750671841755689, 4.357027495987252, 3.962722722791406, 3.634700701145219, 3.3629272122695255, 3.134933013559587, 2.9416608628209513, 2.7757653878946456, 2.6309246539777047, 2.420942537075432, 2.2360556997980767, 2.140250766081255, 2.0578138999922366, 1.9848040870158554, 1.8794480204249187, 1.8080697505820889, 1.750517667040557, 1.7003992793555314, 1.6555811530745415, 1.614489491368777, 1.5767317936729193, 1.5417392922868138, 1.5094631737010569], \"yaxis\": \"y\"}, {\"hovertemplate\": \"variable=test_RMSE<br>Epoch=%{x}<br>value=%{y}<extra></extra>\", \"legendgroup\": \"test_RMSE\", \"line\": {\"color\": \"#EF553B\", \"dash\": \"solid\"}, \"mode\": \"lines\", \"name\": \"test_RMSE\", \"orientation\": \"v\", \"showlegend\": true, \"type\": \"scatter\", \"x\": [0, 1, 2, 3, 4, 5, 6, 7, 8, 9, 10, 11, 12, 13, 14, 15, 16, 17, 18, 19, 20, 21, 22, 23, 24], \"xaxis\": \"x\", \"y\": [2.80981721580144, 2.80981721580144, 2.1796035973900594, 2.087349394803671, 1.9906588665041045, 1.9064891033376559, 1.8338285667612242, 1.7705742044770636, 1.7151270690012888, 1.6660628403198499, 1.6220125320039005, 1.5559378320085389, 1.4953446759185913, 1.4629595914041011, 1.4345082432639544, 1.4088307517284875, 1.370929619063254, 1.3446448418010195, 1.3230713008150985, 1.303993588694182, 1.286693884758353, 1.2706256299039371, 1.2556798133572584, 1.241667947676356, 1.2286021218039047], \"yaxis\": \"y\"}, {\"hovertemplate\": \"variable=test_MAE<br>Epoch=%{x}<br>value=%{y}<extra></extra>\", \"legendgroup\": \"test_MAE\", \"line\": {\"color\": \"#00cc96\", \"dash\": \"solid\"}, \"mode\": \"lines\", \"name\": \"test_MAE\", \"orientation\": \"v\", \"showlegend\": true, \"type\": \"scatter\", \"x\": [0, 1, 2, 3, 4, 5, 6, 7, 8, 9, 10, 11, 12, 13, 14, 15, 16, 17, 18, 19, 20, 21, 22, 23, 24], \"xaxis\": \"x\", \"y\": [2.580265515380464, 2.580265515380464, 1.8487830463627835, 1.7521759361885816, 1.6514318089670443, 1.565182968870632, 1.491666647707664, 1.43043810360793, 1.377561440256598, 1.3317934071127984, 1.2913451900097797, 1.2263761363943493, 1.1667823401439306, 1.1374431990728664, 1.1127577159162751, 1.0905404584843208, 1.0547760778374065, 1.032065012710741, 1.0138869017826038, 0.9983707918591246, 0.984757976151251, 0.9725329051007761, 0.9612321981347943, 0.9508386850658807, 0.9411341208713633], \"yaxis\": \"y\"}],                        {\"font\": {\"family\": \"Courier New, monospace\", \"size\": 18}, \"hoverlabel\": {\"font\": {\"family\": \"Rockwell\", \"size\": 12}}, \"legend\": {\"title\": {\"text\": \"variable\"}, \"tracegroupgap\": 0}, \"margin\": {\"t\": 60}, \"template\": {\"data\": {\"bar\": [{\"error_x\": {\"color\": \"#2a3f5f\"}, \"error_y\": {\"color\": \"#2a3f5f\"}, \"marker\": {\"line\": {\"color\": \"#E5ECF6\", \"width\": 0.5}}, \"type\": \"bar\"}], \"barpolar\": [{\"marker\": {\"line\": {\"color\": \"#E5ECF6\", \"width\": 0.5}}, \"type\": \"barpolar\"}], \"carpet\": [{\"aaxis\": {\"endlinecolor\": \"#2a3f5f\", \"gridcolor\": \"white\", \"linecolor\": \"white\", \"minorgridcolor\": \"white\", \"startlinecolor\": \"#2a3f5f\"}, \"baxis\": {\"endlinecolor\": \"#2a3f5f\", \"gridcolor\": \"white\", \"linecolor\": \"white\", \"minorgridcolor\": \"white\", \"startlinecolor\": \"#2a3f5f\"}, \"type\": \"carpet\"}], \"choropleth\": [{\"colorbar\": {\"outlinewidth\": 0, \"ticks\": \"\"}, \"type\": \"choropleth\"}], \"contour\": [{\"colorbar\": {\"outlinewidth\": 0, \"ticks\": \"\"}, \"colorscale\": [[0.0, \"#0d0887\"], [0.1111111111111111, \"#46039f\"], [0.2222222222222222, \"#7201a8\"], [0.3333333333333333, \"#9c179e\"], [0.4444444444444444, \"#bd3786\"], [0.5555555555555556, \"#d8576b\"], [0.6666666666666666, \"#ed7953\"], [0.7777777777777778, \"#fb9f3a\"], [0.8888888888888888, \"#fdca26\"], [1.0, \"#f0f921\"]], \"type\": \"contour\"}], \"contourcarpet\": [{\"colorbar\": {\"outlinewidth\": 0, \"ticks\": \"\"}, \"type\": \"contourcarpet\"}], \"heatmap\": [{\"colorbar\": {\"outlinewidth\": 0, \"ticks\": \"\"}, \"colorscale\": [[0.0, \"#0d0887\"], [0.1111111111111111, \"#46039f\"], [0.2222222222222222, \"#7201a8\"], [0.3333333333333333, \"#9c179e\"], [0.4444444444444444, \"#bd3786\"], [0.5555555555555556, \"#d8576b\"], [0.6666666666666666, \"#ed7953\"], [0.7777777777777778, \"#fb9f3a\"], [0.8888888888888888, \"#fdca26\"], [1.0, \"#f0f921\"]], \"type\": \"heatmap\"}], \"heatmapgl\": [{\"colorbar\": {\"outlinewidth\": 0, \"ticks\": \"\"}, \"colorscale\": [[0.0, \"#0d0887\"], [0.1111111111111111, \"#46039f\"], [0.2222222222222222, \"#7201a8\"], [0.3333333333333333, \"#9c179e\"], [0.4444444444444444, \"#bd3786\"], [0.5555555555555556, \"#d8576b\"], [0.6666666666666666, \"#ed7953\"], [0.7777777777777778, \"#fb9f3a\"], [0.8888888888888888, \"#fdca26\"], [1.0, \"#f0f921\"]], \"type\": \"heatmapgl\"}], \"histogram\": [{\"marker\": {\"colorbar\": {\"outlinewidth\": 0, \"ticks\": \"\"}}, \"type\": \"histogram\"}], \"histogram2d\": [{\"colorbar\": {\"outlinewidth\": 0, \"ticks\": \"\"}, \"colorscale\": [[0.0, \"#0d0887\"], [0.1111111111111111, \"#46039f\"], [0.2222222222222222, \"#7201a8\"], [0.3333333333333333, \"#9c179e\"], [0.4444444444444444, \"#bd3786\"], [0.5555555555555556, \"#d8576b\"], [0.6666666666666666, \"#ed7953\"], [0.7777777777777778, \"#fb9f3a\"], [0.8888888888888888, \"#fdca26\"], [1.0, \"#f0f921\"]], \"type\": \"histogram2d\"}], \"histogram2dcontour\": [{\"colorbar\": {\"outlinewidth\": 0, \"ticks\": \"\"}, \"colorscale\": [[0.0, \"#0d0887\"], [0.1111111111111111, \"#46039f\"], [0.2222222222222222, \"#7201a8\"], [0.3333333333333333, \"#9c179e\"], [0.4444444444444444, \"#bd3786\"], [0.5555555555555556, \"#d8576b\"], [0.6666666666666666, \"#ed7953\"], [0.7777777777777778, \"#fb9f3a\"], [0.8888888888888888, \"#fdca26\"], [1.0, \"#f0f921\"]], \"type\": \"histogram2dcontour\"}], \"mesh3d\": [{\"colorbar\": {\"outlinewidth\": 0, \"ticks\": \"\"}, \"type\": \"mesh3d\"}], \"parcoords\": [{\"line\": {\"colorbar\": {\"outlinewidth\": 0, \"ticks\": \"\"}}, \"type\": \"parcoords\"}], \"pie\": [{\"automargin\": true, \"type\": \"pie\"}], \"scatter\": [{\"marker\": {\"colorbar\": {\"outlinewidth\": 0, \"ticks\": \"\"}}, \"type\": \"scatter\"}], \"scatter3d\": [{\"line\": {\"colorbar\": {\"outlinewidth\": 0, \"ticks\": \"\"}}, \"marker\": {\"colorbar\": {\"outlinewidth\": 0, \"ticks\": \"\"}}, \"type\": \"scatter3d\"}], \"scattercarpet\": [{\"marker\": {\"colorbar\": {\"outlinewidth\": 0, \"ticks\": \"\"}}, \"type\": \"scattercarpet\"}], \"scattergeo\": [{\"marker\": {\"colorbar\": {\"outlinewidth\": 0, \"ticks\": \"\"}}, \"type\": \"scattergeo\"}], \"scattergl\": [{\"marker\": {\"colorbar\": {\"outlinewidth\": 0, \"ticks\": \"\"}}, \"type\": \"scattergl\"}], \"scattermapbox\": [{\"marker\": {\"colorbar\": {\"outlinewidth\": 0, \"ticks\": \"\"}}, \"type\": \"scattermapbox\"}], \"scatterpolar\": [{\"marker\": {\"colorbar\": {\"outlinewidth\": 0, \"ticks\": \"\"}}, \"type\": \"scatterpolar\"}], \"scatterpolargl\": [{\"marker\": {\"colorbar\": {\"outlinewidth\": 0, \"ticks\": \"\"}}, \"type\": \"scatterpolargl\"}], \"scatterternary\": [{\"marker\": {\"colorbar\": {\"outlinewidth\": 0, \"ticks\": \"\"}}, \"type\": \"scatterternary\"}], \"surface\": [{\"colorbar\": {\"outlinewidth\": 0, \"ticks\": \"\"}, \"colorscale\": [[0.0, \"#0d0887\"], [0.1111111111111111, \"#46039f\"], [0.2222222222222222, \"#7201a8\"], [0.3333333333333333, \"#9c179e\"], [0.4444444444444444, \"#bd3786\"], [0.5555555555555556, \"#d8576b\"], [0.6666666666666666, \"#ed7953\"], [0.7777777777777778, \"#fb9f3a\"], [0.8888888888888888, \"#fdca26\"], [1.0, \"#f0f921\"]], \"type\": \"surface\"}], \"table\": [{\"cells\": {\"fill\": {\"color\": \"#EBF0F8\"}, \"line\": {\"color\": \"white\"}}, \"header\": {\"fill\": {\"color\": \"#C8D4E3\"}, \"line\": {\"color\": \"white\"}}, \"type\": \"table\"}]}, \"layout\": {\"annotationdefaults\": {\"arrowcolor\": \"#2a3f5f\", \"arrowhead\": 0, \"arrowwidth\": 1}, \"autotypenumbers\": \"strict\", \"coloraxis\": {\"colorbar\": {\"outlinewidth\": 0, \"ticks\": \"\"}}, \"colorscale\": {\"diverging\": [[0, \"#8e0152\"], [0.1, \"#c51b7d\"], [0.2, \"#de77ae\"], [0.3, \"#f1b6da\"], [0.4, \"#fde0ef\"], [0.5, \"#f7f7f7\"], [0.6, \"#e6f5d0\"], [0.7, \"#b8e186\"], [0.8, \"#7fbc41\"], [0.9, \"#4d9221\"], [1, \"#276419\"]], \"sequential\": [[0.0, \"#0d0887\"], [0.1111111111111111, \"#46039f\"], [0.2222222222222222, \"#7201a8\"], [0.3333333333333333, \"#9c179e\"], [0.4444444444444444, \"#bd3786\"], [0.5555555555555556, \"#d8576b\"], [0.6666666666666666, \"#ed7953\"], [0.7777777777777778, \"#fb9f3a\"], [0.8888888888888888, \"#fdca26\"], [1.0, \"#f0f921\"]], \"sequentialminus\": [[0.0, \"#0d0887\"], [0.1111111111111111, \"#46039f\"], [0.2222222222222222, \"#7201a8\"], [0.3333333333333333, \"#9c179e\"], [0.4444444444444444, \"#bd3786\"], [0.5555555555555556, \"#d8576b\"], [0.6666666666666666, \"#ed7953\"], [0.7777777777777778, \"#fb9f3a\"], [0.8888888888888888, \"#fdca26\"], [1.0, \"#f0f921\"]]}, \"colorway\": [\"#636efa\", \"#EF553B\", \"#00cc96\", \"#ab63fa\", \"#FFA15A\", \"#19d3f3\", \"#FF6692\", \"#B6E880\", \"#FF97FF\", \"#FECB52\"], \"font\": {\"color\": \"#2a3f5f\"}, \"geo\": {\"bgcolor\": \"white\", \"lakecolor\": \"white\", \"landcolor\": \"#E5ECF6\", \"showlakes\": true, \"showland\": true, \"subunitcolor\": \"white\"}, \"hoverlabel\": {\"align\": \"left\"}, \"hovermode\": \"closest\", \"mapbox\": {\"style\": \"light\"}, \"paper_bgcolor\": \"white\", \"plot_bgcolor\": \"#E5ECF6\", \"polar\": {\"angularaxis\": {\"gridcolor\": \"white\", \"linecolor\": \"white\", \"ticks\": \"\"}, \"bgcolor\": \"#E5ECF6\", \"radialaxis\": {\"gridcolor\": \"white\", \"linecolor\": \"white\", \"ticks\": \"\"}}, \"scene\": {\"xaxis\": {\"backgroundcolor\": \"#E5ECF6\", \"gridcolor\": \"white\", \"gridwidth\": 2, \"linecolor\": \"white\", \"showbackground\": true, \"ticks\": \"\", \"zerolinecolor\": \"white\"}, \"yaxis\": {\"backgroundcolor\": \"#E5ECF6\", \"gridcolor\": \"white\", \"gridwidth\": 2, \"linecolor\": \"white\", \"showbackground\": true, \"ticks\": \"\", \"zerolinecolor\": \"white\"}, \"zaxis\": {\"backgroundcolor\": \"#E5ECF6\", \"gridcolor\": \"white\", \"gridwidth\": 2, \"linecolor\": \"white\", \"showbackground\": true, \"ticks\": \"\", \"zerolinecolor\": \"white\"}}, \"shapedefaults\": {\"line\": {\"color\": \"#2a3f5f\"}}, \"ternary\": {\"aaxis\": {\"gridcolor\": \"white\", \"linecolor\": \"white\", \"ticks\": \"\"}, \"baxis\": {\"gridcolor\": \"white\", \"linecolor\": \"white\", \"ticks\": \"\"}, \"bgcolor\": \"#E5ECF6\", \"caxis\": {\"gridcolor\": \"white\", \"linecolor\": \"white\", \"ticks\": \"\"}}, \"title\": {\"x\": 0.05}, \"xaxis\": {\"automargin\": true, \"gridcolor\": \"white\", \"linecolor\": \"white\", \"ticks\": \"\", \"title\": {\"standoff\": 15}, \"zerolinecolor\": \"white\", \"zerolinewidth\": 2}, \"yaxis\": {\"automargin\": true, \"gridcolor\": \"white\", \"linecolor\": \"white\", \"ticks\": \"\", \"title\": {\"standoff\": 15}, \"zerolinecolor\": \"white\", \"zerolinewidth\": 2}}}, \"xaxis\": {\"anchor\": \"y\", \"domain\": [0.0, 1.0], \"showspikes\": true, \"title\": {\"text\": \"Epoch\"}}, \"yaxis\": {\"anchor\": \"x\", \"domain\": [0.0, 1.0], \"title\": {\"text\": \"value\"}}},                        {\"responsive\": true}                    ).then(function(){\n",
       "                            \n",
       "var gd = document.getElementById('9257d801-6878-45a4-9e08-844a9f38ccb4');\n",
       "var x = new MutationObserver(function (mutations, observer) {{\n",
       "        var display = window.getComputedStyle(gd).display;\n",
       "        if (!display || display === 'none') {{\n",
       "            console.log([gd, 'removed!']);\n",
       "            Plotly.purge(gd);\n",
       "            observer.disconnect();\n",
       "        }}\n",
       "}});\n",
       "\n",
       "// Listen for the removal of the full notebook cells\n",
       "var notebookContainer = gd.closest('#notebook-container');\n",
       "if (notebookContainer) {{\n",
       "    x.observe(notebookContainer, {childList: true});\n",
       "}}\n",
       "\n",
       "// Listen for the clearing of the current output cell\n",
       "var outputEl = gd.closest('.output');\n",
       "if (outputEl) {{\n",
       "    x.observe(outputEl, {childList: true});\n",
       "}}\n",
       "\n",
       "                        })                };                });            </script>        </div>"
      ]
     },
     "metadata": {},
     "output_type": "display_data"
    },
    {
     "data": {
      "image/svg+xml": [
       "<svg class=\"main-svg\" xmlns=\"http://www.w3.org/2000/svg\" xmlns:xlink=\"http://www.w3.org/1999/xlink\" width=\"700\" height=\"450\" style=\"\" viewBox=\"0 0 700 450\"><rect x=\"0\" y=\"0\" width=\"700\" height=\"450\" style=\"fill: rgb(255, 255, 255); fill-opacity: 1;\"/><defs id=\"defs-1ed2ca\"><g class=\"clips\"><clipPath id=\"clip1ed2caxyplot\" class=\"plotclip\"><rect width=\"456\" height=\"310\"/></clipPath><clipPath class=\"axesclip\" id=\"clip1ed2cax\"><rect x=\"80\" y=\"0\" width=\"456\" height=\"450\"/></clipPath><clipPath class=\"axesclip\" id=\"clip1ed2cay\"><rect x=\"0\" y=\"60\" width=\"700\" height=\"310\"/></clipPath><clipPath class=\"axesclip\" id=\"clip1ed2caxy\"><rect x=\"80\" y=\"60\" width=\"456\" height=\"310\"/></clipPath></g><g class=\"gradients\"/></defs><g class=\"bglayer\"><rect class=\"bg\" x=\"80\" y=\"60\" width=\"456\" height=\"310\" style=\"fill: rgb(229, 236, 246); fill-opacity: 1; stroke-width: 0;\"/></g><g class=\"layer-below\"><g class=\"imagelayer\"/><g class=\"shapelayer\"/></g><g class=\"cartesianlayer\"><g class=\"subplot xy\"><g class=\"layer-subplot\"><g class=\"shapelayer\"/><g class=\"imagelayer\"/></g><g class=\"gridlayer\"><g class=\"x\"><path class=\"xgrid crisp\" transform=\"translate(175,0)\" d=\"M0,60v310\" style=\"stroke: rgb(255, 255, 255); stroke-opacity: 1; stroke-width: 1px;\"/><path class=\"xgrid crisp\" transform=\"translate(270,0)\" d=\"M0,60v310\" style=\"stroke: rgb(255, 255, 255); stroke-opacity: 1; stroke-width: 1px;\"/><path class=\"xgrid crisp\" transform=\"translate(365,0)\" d=\"M0,60v310\" style=\"stroke: rgb(255, 255, 255); stroke-opacity: 1; stroke-width: 1px;\"/><path class=\"xgrid crisp\" transform=\"translate(460,0)\" d=\"M0,60v310\" style=\"stroke: rgb(255, 255, 255); stroke-opacity: 1; stroke-width: 1px;\"/></g><g class=\"y\"><path class=\"ygrid crisp\" transform=\"translate(0,352.14)\" d=\"M80,0h456\" style=\"stroke: rgb(255, 255, 255); stroke-opacity: 1; stroke-width: 1px;\"/><path class=\"ygrid crisp\" transform=\"translate(0,312.02)\" d=\"M80,0h456\" style=\"stroke: rgb(255, 255, 255); stroke-opacity: 1; stroke-width: 1px;\"/><path class=\"ygrid crisp\" transform=\"translate(0,271.9)\" d=\"M80,0h456\" style=\"stroke: rgb(255, 255, 255); stroke-opacity: 1; stroke-width: 1px;\"/><path class=\"ygrid crisp\" transform=\"translate(0,231.77)\" d=\"M80,0h456\" style=\"stroke: rgb(255, 255, 255); stroke-opacity: 1; stroke-width: 1px;\"/><path class=\"ygrid crisp\" transform=\"translate(0,191.65)\" d=\"M80,0h456\" style=\"stroke: rgb(255, 255, 255); stroke-opacity: 1; stroke-width: 1px;\"/><path class=\"ygrid crisp\" transform=\"translate(0,151.53)\" d=\"M80,0h456\" style=\"stroke: rgb(255, 255, 255); stroke-opacity: 1; stroke-width: 1px;\"/><path class=\"ygrid crisp\" transform=\"translate(0,111.41)\" d=\"M80,0h456\" style=\"stroke: rgb(255, 255, 255); stroke-opacity: 1; stroke-width: 1px;\"/><path class=\"ygrid crisp\" transform=\"translate(0,71.28999999999999)\" d=\"M80,0h456\" style=\"stroke: rgb(255, 255, 255); stroke-opacity: 1; stroke-width: 1px;\"/></g></g><g class=\"zerolinelayer\"><path class=\"xzl zl crisp\" transform=\"translate(80,0)\" d=\"M0,60v310\" style=\"stroke: rgb(255, 255, 255); stroke-opacity: 1; stroke-width: 2px;\"/></g><path class=\"xlines-below\"/><path class=\"ylines-below\"/><g class=\"overlines-below\"/><g class=\"xaxislayer-below\"/><g class=\"yaxislayer-below\"/><g class=\"overaxes-below\"/><g class=\"plot\" transform=\"translate(80,60)\" clip-path=\"url('#clip1ed2caxyplot')\"><g class=\"scatterlayer mlayer\"><g class=\"trace scatter trace77f23f\" style=\"stroke-miterlimit: 2; opacity: 1;\"><g class=\"fills\"/><g class=\"errorbars\"/><g class=\"lines\"><path class=\"js-line\" d=\"M0,15.5L19,15.5L38,141.66L76,173.27L95,186.43L114,197.33L133,206.48L152,214.24L171,220.89L190,226.7L209,235.13L228,242.55L247,246.39L285,252.63L304,256.85L342,262.03L361,264.04L418,269L437,270.4L456,271.7\" style=\"vector-effect: non-scaling-stroke; fill: none; stroke: rgb(99, 110, 250); stroke-opacity: 1; stroke-width: 2px; opacity: 1;\"/></g><g class=\"points\"/><g class=\"text\"/></g><g class=\"trace scatter trace4ccc92\" style=\"stroke-miterlimit: 2; opacity: 1;\"><g class=\"fills\"/><g class=\"errorbars\"/><g class=\"lines\"><path class=\"js-line\" d=\"M0,219.53L19,219.53L38,244.81L95,255.77L114,258.68L152,263.45L171,265.42L190,267.18L209,269.83L228,272.26L247,273.56L342,279.18L361,279.94L456,282.97\" style=\"vector-effect: non-scaling-stroke; fill: none; stroke: rgb(239, 85, 59); stroke-opacity: 1; stroke-width: 2px; opacity: 1;\"/></g><g class=\"points\"/><g class=\"text\"/></g><g class=\"trace scatter tracefe1e52\" style=\"stroke-miterlimit: 2; opacity: 1;\"><g class=\"fills\"/><g class=\"errorbars\"/><g class=\"lines\"><path class=\"js-line\" d=\"M0,228.74L19,228.74L38,258.08L95,269.46L114,272.41L152,276.99L171,278.83L190,280.45L209,283.06L228,285.45L247,286.62L361,292.2L380,292.75L456,294.5\" style=\"vector-effect: non-scaling-stroke; fill: none; stroke: rgb(0, 204, 150); stroke-opacity: 1; stroke-width: 2px; opacity: 1;\"/></g><g class=\"points\"/><g class=\"text\"/></g></g></g><g class=\"overplot\"/><path class=\"xlines-above crisp\" d=\"M0,0\" style=\"fill: none;\"/><path class=\"ylines-above crisp\" d=\"M0,0\" style=\"fill: none;\"/><g class=\"overlines-above\"/><g class=\"xaxislayer-above\"><g class=\"xtick\"><text text-anchor=\"middle\" x=\"0\" y=\"389\" transform=\"translate(80,0)\" style=\"font-family: 'Courier New', monospace; font-size: 18px; fill: rgb(42, 63, 95); fill-opacity: 1; white-space: pre;\">0</text></g><g class=\"xtick\"><text text-anchor=\"middle\" x=\"0\" y=\"389\" transform=\"translate(175,0)\" style=\"font-family: 'Courier New', monospace; font-size: 18px; fill: rgb(42, 63, 95); fill-opacity: 1; white-space: pre;\">5</text></g><g class=\"xtick\"><text text-anchor=\"middle\" x=\"0\" y=\"389\" transform=\"translate(270,0)\" style=\"font-family: 'Courier New', monospace; font-size: 18px; fill: rgb(42, 63, 95); fill-opacity: 1; white-space: pre;\">10</text></g><g class=\"xtick\"><text text-anchor=\"middle\" x=\"0\" y=\"389\" transform=\"translate(365,0)\" style=\"font-family: 'Courier New', monospace; font-size: 18px; fill: rgb(42, 63, 95); fill-opacity: 1; white-space: pre;\">15</text></g><g class=\"xtick\"><text text-anchor=\"middle\" x=\"0\" y=\"389\" transform=\"translate(460,0)\" style=\"font-family: 'Courier New', monospace; font-size: 18px; fill: rgb(42, 63, 95); fill-opacity: 1; white-space: pre;\">20</text></g></g><g class=\"yaxislayer-above\"><g class=\"ytick\"><text text-anchor=\"end\" x=\"79\" y=\"6.3\" transform=\"translate(0,352.14)\" style=\"font-family: 'Courier New', monospace; font-size: 18px; fill: rgb(42, 63, 95); fill-opacity: 1; white-space: pre;\">1</text></g><g class=\"ytick\"><text text-anchor=\"end\" x=\"79\" y=\"6.3\" transform=\"translate(0,312.02)\" style=\"font-family: 'Courier New', monospace; font-size: 18px; fill: rgb(42, 63, 95); fill-opacity: 1; white-space: pre;\">2</text></g><g class=\"ytick\"><text text-anchor=\"end\" x=\"79\" y=\"6.3\" transform=\"translate(0,271.9)\" style=\"font-family: 'Courier New', monospace; font-size: 18px; fill: rgb(42, 63, 95); fill-opacity: 1; white-space: pre;\">3</text></g><g class=\"ytick\"><text text-anchor=\"end\" x=\"79\" y=\"6.3\" transform=\"translate(0,231.77)\" style=\"font-family: 'Courier New', monospace; font-size: 18px; fill: rgb(42, 63, 95); fill-opacity: 1; white-space: pre;\">4</text></g><g class=\"ytick\"><text text-anchor=\"end\" x=\"79\" y=\"6.3\" transform=\"translate(0,191.65)\" style=\"font-family: 'Courier New', monospace; font-size: 18px; fill: rgb(42, 63, 95); fill-opacity: 1; white-space: pre;\">5</text></g><g class=\"ytick\"><text text-anchor=\"end\" x=\"79\" y=\"6.3\" transform=\"translate(0,151.53)\" style=\"font-family: 'Courier New', monospace; font-size: 18px; fill: rgb(42, 63, 95); fill-opacity: 1; white-space: pre;\">6</text></g><g class=\"ytick\"><text text-anchor=\"end\" x=\"79\" y=\"6.3\" transform=\"translate(0,111.41)\" style=\"font-family: 'Courier New', monospace; font-size: 18px; fill: rgb(42, 63, 95); fill-opacity: 1; white-space: pre;\">7</text></g><g class=\"ytick\"><text text-anchor=\"end\" x=\"79\" y=\"6.3\" transform=\"translate(0,71.28999999999999)\" style=\"font-family: 'Courier New', monospace; font-size: 18px; fill: rgb(42, 63, 95); fill-opacity: 1; white-space: pre;\">8</text></g></g><g class=\"overaxes-above\"/></g></g><g class=\"polarlayer\"/><g class=\"ternarylayer\"/><g class=\"geolayer\"/><g class=\"funnelarealayer\"/><g class=\"pielayer\"/><g class=\"treemaplayer\"/><g class=\"sunburstlayer\"/><g class=\"glimages\"/><defs id=\"topdefs-1ed2ca\"><g class=\"clips\"/><clipPath id=\"legend1ed2ca\"><rect width=\"143\" height=\"113\" x=\"0\" y=\"0\"/></clipPath></defs><g class=\"layer-above\"><g class=\"imagelayer\"/><g class=\"shapelayer\"/></g><g class=\"infolayer\"><g class=\"legend\" pointer-events=\"all\" transform=\"translate(545.12,60)\"><rect class=\"bg\" shape-rendering=\"crispEdges\" width=\"143\" height=\"113\" x=\"0\" y=\"0\" style=\"stroke: rgb(68, 68, 68); stroke-opacity: 1; fill: rgb(255, 255, 255); fill-opacity: 1; stroke-width: 0px;\"/><g class=\"scrollbox\" transform=\"\" clip-path=\"url('#legend1ed2ca')\"><text class=\"legendtitletext\" text-anchor=\"start\" x=\"2\" y=\"23.400000000000002\" style=\"font-family: 'Courier New', monospace; font-size: 18px; fill: rgb(42, 63, 95); fill-opacity: 1; white-space: pre;\">variable</text><g class=\"groups\" transform=\"\"><g class=\"traces\" transform=\"translate(0,41.6)\" style=\"opacity: 1;\"><text class=\"legendtext\" text-anchor=\"start\" x=\"40\" y=\"7.0200000000000005\" style=\"font-family: 'Courier New', monospace; font-size: 18px; fill: rgb(42, 63, 95); fill-opacity: 1; white-space: pre;\">test_Loss</text><g class=\"layers\" style=\"opacity: 1;\"><g class=\"legendfill\"/><g class=\"legendlines\"><path class=\"js-line\" d=\"M5,0h30\" style=\"fill: none; stroke: rgb(99, 110, 250); stroke-opacity: 1; stroke-width: 2px;\"/></g><g class=\"legendsymbols\"><g class=\"legendpoints\"/></g></g><rect class=\"legendtoggle\" x=\"0\" y=\"-13.200000000000001\" width=\"137.21875\" height=\"26.400000000000002\" style=\"fill: rgb(0, 0, 0); fill-opacity: 0;\"/></g></g><g class=\"groups\" transform=\"\"><g class=\"traces\" transform=\"translate(0,68)\" style=\"opacity: 1;\"><text class=\"legendtext\" text-anchor=\"start\" x=\"40\" y=\"7.0200000000000005\" style=\"font-family: 'Courier New', monospace; font-size: 18px; fill: rgb(42, 63, 95); fill-opacity: 1; white-space: pre;\">test_RMSE</text><g class=\"layers\" style=\"opacity: 1;\"><g class=\"legendfill\"/><g class=\"legendlines\"><path class=\"js-line\" d=\"M5,0h30\" style=\"fill: none; stroke: rgb(239, 85, 59); stroke-opacity: 1; stroke-width: 2px;\"/></g><g class=\"legendsymbols\"><g class=\"legendpoints\"/></g></g><rect class=\"legendtoggle\" x=\"0\" y=\"-13.200000000000001\" width=\"137.21875\" height=\"26.400000000000002\" style=\"fill: rgb(0, 0, 0); fill-opacity: 0;\"/></g></g><g class=\"groups\" transform=\"\"><g class=\"traces\" transform=\"translate(0,94.4)\" style=\"opacity: 1;\"><text class=\"legendtext\" text-anchor=\"start\" x=\"40\" y=\"7.0200000000000005\" style=\"font-family: 'Courier New', monospace; font-size: 18px; fill: rgb(42, 63, 95); fill-opacity: 1; white-space: pre;\">test_MAE</text><g class=\"layers\" style=\"opacity: 1;\"><g class=\"legendfill\"/><g class=\"legendlines\"><path class=\"js-line\" d=\"M5,0h30\" style=\"fill: none; stroke: rgb(0, 204, 150); stroke-opacity: 1; stroke-width: 2px;\"/></g><g class=\"legendsymbols\"><g class=\"legendpoints\"/></g></g><rect class=\"legendtoggle\" x=\"0\" y=\"-13.200000000000001\" width=\"137.21875\" height=\"26.400000000000002\" style=\"fill: rgb(0, 0, 0); fill-opacity: 0;\"/></g></g></g><rect class=\"scrollbar\" rx=\"20\" ry=\"3\" width=\"0\" height=\"0\" x=\"0\" y=\"0\" style=\"fill: rgb(128, 139, 164); fill-opacity: 1;\"/></g><g class=\"g-gtitle\"/><g class=\"g-xtitle\"><text class=\"xtitle\" x=\"308\" y=\"424.4\" text-anchor=\"middle\" style=\"font-family: 'Courier New', monospace; font-size: 22px; fill: rgb(42, 63, 95); opacity: 1; font-weight: normal; white-space: pre;\">Epoch</text></g><g class=\"g-ytitle\"><text class=\"ytitle\" transform=\"rotate(-90,37.7875,215)\" x=\"37.7875\" y=\"215\" text-anchor=\"middle\" style=\"font-family: 'Courier New', monospace; font-size: 22px; fill: rgb(42, 63, 95); opacity: 1; font-weight: normal; white-space: pre;\">value</text></g></g></svg>"
      ]
     },
     "metadata": {},
     "output_type": "display_data"
    },
    {
     "data": {
      "text/html": [
       "<style  type=\"text/css\" >\n",
       "#T_22cdd978_6c50_11eb_b3d3_ac1f6b2d260crow0_col0,#T_22cdd978_6c50_11eb_b3d3_ac1f6b2d260crow0_col1,#T_22cdd978_6c50_11eb_b3d3_ac1f6b2d260crow0_col2,#T_22cdd978_6c50_11eb_b3d3_ac1f6b2d260crow1_col0,#T_22cdd978_6c50_11eb_b3d3_ac1f6b2d260crow1_col1,#T_22cdd978_6c50_11eb_b3d3_ac1f6b2d260crow1_col2,#T_22cdd978_6c50_11eb_b3d3_ac1f6b2d260crow2_col0,#T_22cdd978_6c50_11eb_b3d3_ac1f6b2d260crow2_col1,#T_22cdd978_6c50_11eb_b3d3_ac1f6b2d260crow2_col2,#T_22cdd978_6c50_11eb_b3d3_ac1f6b2d260crow3_col0,#T_22cdd978_6c50_11eb_b3d3_ac1f6b2d260crow3_col1,#T_22cdd978_6c50_11eb_b3d3_ac1f6b2d260crow3_col2{\n",
       "            background-color:  #fff7fb;\n",
       "        }</style><table id=\"T_22cdd978_6c50_11eb_b3d3_ac1f6b2d260c\" ><thead>    <tr>        <th class=\"index_name level0\" >taus</th>        <th class=\"col_heading level0 col0\" >10000</th>        <th class=\"col_heading level0 col1\" >20000</th>        <th class=\"col_heading level0 col2\" >30000</th>    </tr>    <tr>        <th class=\"index_name level0\" >deltas</th>        <th class=\"blank\" ></th>        <th class=\"blank\" ></th>        <th class=\"blank\" ></th>    </tr></thead><tbody>\n",
       "                <tr>\n",
       "                        <th id=\"T_22cdd978_6c50_11eb_b3d3_ac1f6b2d260clevel0_row0\" class=\"row_heading level0 row0\" >1</th>\n",
       "                        <td id=\"T_22cdd978_6c50_11eb_b3d3_ac1f6b2d260crow0_col0\" class=\"data row0 col0\" >1.2310</td>\n",
       "                        <td id=\"T_22cdd978_6c50_11eb_b3d3_ac1f6b2d260crow0_col1\" class=\"data row0 col1\" >1.2286</td>\n",
       "                        <td id=\"T_22cdd978_6c50_11eb_b3d3_ac1f6b2d260crow0_col2\" class=\"data row0 col2\" >1.2848</td>\n",
       "            </tr>\n",
       "            <tr>\n",
       "                        <th id=\"T_22cdd978_6c50_11eb_b3d3_ac1f6b2d260clevel0_row1\" class=\"row_heading level0 row1\" >2</th>\n",
       "                        <td id=\"T_22cdd978_6c50_11eb_b3d3_ac1f6b2d260crow1_col0\" class=\"data row1 col0\" >2.1385</td>\n",
       "                        <td id=\"T_22cdd978_6c50_11eb_b3d3_ac1f6b2d260crow1_col1\" class=\"data row1 col1\" >1.4296</td>\n",
       "                        <td id=\"T_22cdd978_6c50_11eb_b3d3_ac1f6b2d260crow1_col2\" class=\"data row1 col2\" >1.4496</td>\n",
       "            </tr>\n",
       "            <tr>\n",
       "                        <th id=\"T_22cdd978_6c50_11eb_b3d3_ac1f6b2d260clevel0_row2\" class=\"row_heading level0 row2\" >5</th>\n",
       "                        <td id=\"T_22cdd978_6c50_11eb_b3d3_ac1f6b2d260crow2_col0\" class=\"data row2 col0\" >1.3963</td>\n",
       "                        <td id=\"T_22cdd978_6c50_11eb_b3d3_ac1f6b2d260crow2_col1\" class=\"data row2 col1\" >1.4675</td>\n",
       "                        <td id=\"T_22cdd978_6c50_11eb_b3d3_ac1f6b2d260crow2_col2\" class=\"data row2 col2\" >1.5786</td>\n",
       "            </tr>\n",
       "            <tr>\n",
       "                        <th id=\"T_22cdd978_6c50_11eb_b3d3_ac1f6b2d260clevel0_row3\" class=\"row_heading level0 row3\" >7</th>\n",
       "                        <td id=\"T_22cdd978_6c50_11eb_b3d3_ac1f6b2d260crow3_col0\" class=\"data row3 col0\" >1.5757</td>\n",
       "                        <td id=\"T_22cdd978_6c50_11eb_b3d3_ac1f6b2d260crow3_col1\" class=\"data row3 col1\" >1.5938</td>\n",
       "                        <td id=\"T_22cdd978_6c50_11eb_b3d3_ac1f6b2d260crow3_col2\" class=\"data row3 col2\" >2.3523</td>\n",
       "            </tr>\n",
       "    </tbody></table>"
      ],
      "text/plain": [
       "<pandas.io.formats.style.Styler at 0x7f615a1fb1d0>"
      ]
     },
     "execution_count": 65,
     "metadata": {},
     "output_type": "execute_result"
    }
   ],
   "source": [
    "with open('results.json') as f:\n",
    "    hists = json.load(f)\n",
    "\n",
    "best = min(hists, key= lambda x: min(x.get('hist',{}).get('test_RMSE', [float('inf')])))\n",
    "svt_best_tau = best['tau']\n",
    "svt_best_delta = best['delta']\n",
    "svt_best_n_epochs = np.argmin(best['hist']['test_RMSE'])\n",
    "best_hist = best['hist']\n",
    "plot_experiment(best_hist)\n",
    "\n",
    "taus = np.unique([hist['tau'] for hist in hists])\n",
    "deltas = np.unique([hist['delta'] for hist in hists])\n",
    "rmses = []\n",
    "for tau, delta in product(taus,deltas):\n",
    "    rmse = [hist.get('hist',{}).get('test_RMSE', [np.nan])[-1] \\\n",
    "            for hist in hists if hist['tau']==tau and hist['delta']==delta]\n",
    "    if rmse:\n",
    "        rmses.append(rmse[0])\n",
    "    else:\n",
    "        rmses.append(np.nan)\n",
    "rmses = np.array(rmses).reshape(len(deltas), len(taus))\n",
    "df = pd.DataFrame(rmses,index=deltas,columns=taus )\n",
    "\n",
    "df.index.name = 'deltas'\n",
    "df.columns.name = 'taus'\n",
    "\n",
    "\n",
    "def background_gradient(s, m, M, cmap='PuBu', low=0, high=0):\n",
    "    s = M-s\n",
    "    rng = M - m\n",
    "    norm = colors.Normalize(m - (rng * low),\n",
    "                            M + (rng * high))\n",
    "    normed = norm(s.values)\n",
    "    c = [colors.rgb2hex(x) for x in plt.cm.get_cmap(cmap)(normed)]\n",
    "    return ['background-color: %s' % color for color in c]\n",
    "\n",
    "df.style.apply(background_gradient,\n",
    "               cmap='PuBu',\n",
    "               m=df.min().min(),\n",
    "               M=df.max().max(),\n",
    "               low=0,\n",
    "               high=0.2).format(\"{:.4f}\")"
   ]
  },
  {
   "cell_type": "markdown",
   "metadata": {},
   "source": [
    "## Funk-SVD Grid Search"
   ]
  },
  {
   "cell_type": "code",
   "execution_count": 74,
   "metadata": {},
   "outputs": [
    {
     "name": "stderr",
     "output_type": "stream",
     "text": [
      "  0%|          | 0/1 [00:00<?, ?it/s]\n",
      "Epoch:   0%|                                                                            | 0/2 [00:00<?, ?it/s]\u001b[A"
     ]
    },
    {
     "name": "stdout",
     "output_type": "stream",
     "text": [
      "lr_list: [0.005 0.01  0.015 0.02 ]\n",
      "reg_list: [0.02 0.03 0.04]\n",
      "n_factors_list: [9, 10, 11]\n"
     ]
    },
    {
     "name": "stderr",
     "output_type": "stream",
     "text": [
      "\n",
      "Epoch:   0%|                          | 0/2 [00:17<?, ?it/s, test_Loss=0.864, test_RMSE=0.929, test_MAE=0.741]\u001b[A\n",
      "Epoch:  50%|█████████         | 1/2 [00:17<00:17, 17.36s/it, test_Loss=0.864, test_RMSE=0.929, test_MAE=0.741]\u001b[A\n",
      "Epoch:  50%|█████████         | 1/2 [00:34<00:17, 17.36s/it, test_Loss=0.838, test_RMSE=0.915, test_MAE=0.726]\u001b[A\n",
      "Epoch: 100%|██████████████████| 2/2 [00:34<00:00, 17.33s/it, test_Loss=0.838, test_RMSE=0.915, test_MAE=0.726]\u001b[A\n",
      "100%|██████████| 1/1 [00:34<00:00, 34.93s/it]\n"
     ]
    }
   ],
   "source": [
    "funk_best_score = 999.0\n",
    "funk_best_lr, funk_best_reg, funk_best_n_factors, funk_best_n_epochs = None, None, None, None\n",
    "\n",
    "lr_list = np.linspace(0.005, 0.02, 4)\n",
    "print(f\"lr_list: {lr_list}\")\n",
    "reg_list = np.linspace(0.02, 0.04, 3)\n",
    "print(f\"reg_list: {reg_list}\")\n",
    "n_epochs_list = [35] #range(3, 31, 5)\n",
    "n_factors_list = range(9, 12)\n",
    "print(f\"n_factors_list: {list(n_factors_list)}\")\n",
    "grid_space = list(product(lr_list, reg_list, n_epochs_list, n_factors_list))\n",
    "\n",
    "pbar = tqdm(grid_space, position=0, leave=True)\n",
    "open('log.txt', 'w')\n",
    "open('log_best.txt', 'w')\n",
    "for lr, reg, n_epochs, n_factors in pbar:\n",
    "    with open('log.txt', 'a+') as f:\n",
    "        hp = f\"lr: {lr}    reg: {reg}    n_epochs: {n_epochs}    n_factors: {n_factors}\\n\"\n",
    "        f.write(hp)\n",
    "        _, _, score, best_epoch = run_funk(train=train_df, test=test_df, lr=lr, reg=reg,\n",
    "                               n_epochs=n_epochs, n_factors=n_factors)\n",
    "        score_str = f\"RMSE: {score}\\n\" + \"=\" * 60 + \"\\n\\n\"\n",
    "        if score < funk_best_score:\n",
    "            funk_best_score = score\n",
    "            funk_best_lr, funk_best_reg, funk_best_n_factors, funk_best_n_epochs = \\\n",
    "                lr, reg, n_factors, best_epoch\n",
    "            \n",
    "            new = f\"~~~~~~~~~~NEW BEST at EPOCH {best_epoch + 1}~~~~~~~~~~\\n\"\n",
    "            f.write(new)\n",
    "            with open('log_best.txt', 'a+') as f_best:\n",
    "                f_best.write(hp)\n",
    "                f_best.write(new)\n",
    "                f_best.write(score_str)\n",
    "        f.write(score_str)"
   ]
  },
  {
   "cell_type": "markdown",
   "metadata": {},
   "source": [
    "## TODO: PLOT BEST FUNK"
   ]
  },
  {
   "cell_type": "markdown",
   "metadata": {},
   "source": [
    "## Run Ensemble"
   ]
  },
  {
   "cell_type": "code",
   "execution_count": 76,
   "metadata": {
    "colab": {
     "base_uri": "https://localhost:8080/"
    },
    "id": "mSqEPw0RvulF",
    "outputId": "cb835b42-7cbc-4d3e-c6e0-9fff95753014"
   },
   "outputs": [
    {
     "name": "stderr",
     "output_type": "stream",
     "text": [
      "Epoch: 100%|██████████████████| 1/1 [00:16<00:00, 16.87s/it, test_Loss=0.864, test_RMSE=0.929, test_MAE=0.741]\n"
     ]
    },
    {
     "name": "stdout",
     "output_type": "stream",
     "text": [
      "Running svt with \n"
     ]
    },
    {
     "name": "stderr",
     "output_type": "stream",
     "text": [
      "100%|██████████| 24/24 [00:12<00:00,  1.89it/s, test_Loss=1.542, test_RMSE=1.242, test_MAE=0.951]\n"
     ]
    },
    {
     "name": "stdout",
     "output_type": "stream",
     "text": [
      "\n",
      "\n",
      "Test RMSE: 1.242\n",
      "\n",
      "\n",
      "Hyperparameters:\n",
      "\n",
      "hist = SVT(train_df, test_df,\n",
      "\ttau=10000, delta=2, n_epochs=24)\n"
     ]
    }
   ],
   "source": [
    "print(f\"Running SVT with best found parameters...\")\n",
    "hist, model1 = run_svt(train=M_train_df, test=M_test_df,\n",
    "                tau=svt_best_tau,\n",
    "                delta=svt_best_delta,\n",
    "                n_epochs=svt_best_n_epochs,\n",
    "                )\n",
    "\n",
    "print(f\"Running Funk-SVD with best found parameters...\")\n",
    "hist, model2, *_ = run_funk(train=train_df, test=test_df,\n",
    "\t\tlr=funk_best_lr,\n",
    "\t\treg=funk_best_reg,\n",
    "\t\tn_epochs=funk_best_n_epochs,\n",
    "\t\tn_factors=funk_best_n_factors)"
   ]
  },
  {
   "cell_type": "code",
   "execution_count": null,
   "metadata": {},
   "outputs": [],
   "source": [
    "## TODO: \n",
    "## --Consistent printing\n",
    "## --json dump funk hist"
   ]
  },
  {
   "cell_type": "code",
   "execution_count": 77,
   "metadata": {
    "colab": {
     "base_uri": "https://localhost:8080/",
     "height": 996
    },
    "id": "v6tkVLuYdfw6",
    "outputId": "c04a53fb-c2e0-4cab-c192-a13ba991cd9c"
   },
   "outputs": [
    {
     "name": "stdout",
     "output_type": "stream",
     "text": [
      "Test RMSE with SVT: 1.242\n",
      "Test RMSE with FunkSVD: 0.929\n",
      "Test RMSE with Ensemble: 0.994\n"
     ]
    }
   ],
   "source": [
    "ensemble = Ensemble(models=[model1, model2])\n",
    "\n",
    "model1_test_pred = model1.predict(test_df)\n",
    "model2_test_pred = model2.predict(test_df)\n",
    "\n",
    "ensemble_test_pred = ensemble.predict(test_df)\n",
    "test_true = test_df['Rating'].values.ravel()\n",
    "\n",
    "print(f\"Test RMSE with SVT: {rmse(model1_test_pred,test_true):.3f}\")\n",
    "print(f\"Test RMSE with FunkSVD: {rmse(model2_test_pred,test_true):.3f}\")\n",
    "print(f\"Test RMSE with Ensemble: {rmse(ensemble_test_pred,test_true):.3f}\")"
   ]
  }
 ],
 "metadata": {
  "accelerator": "GPU",
  "colab": {
   "collapsed_sections": [],
   "name": "Ex3.ipynb",
   "provenance": []
  },
  "kernelspec": {
   "display_name": "mf",
   "language": "python",
   "name": "mf"
  },
  "language_info": {
   "codemirror_mode": {
    "name": "ipython",
    "version": 3
   },
   "file_extension": ".py",
   "mimetype": "text/x-python",
   "name": "python",
   "nbconvert_exporter": "python",
   "pygments_lexer": "ipython3",
   "version": "3.6.8"
  }
 },
 "nbformat": 4,
 "nbformat_minor": 1
}
