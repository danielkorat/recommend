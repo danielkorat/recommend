{
 "cells": [
  {
   "cell_type": "code",
   "execution_count": 1,
   "metadata": {},
   "outputs": [],
   "source": [
    "from sys import executable as python"
   ]
  },
  {
   "cell_type": "code",
   "execution_count": 2,
   "metadata": {
    "colab": {
     "base_uri": "https://localhost:8080/"
    },
    "id": "IfDjK8Pvvukz",
    "outputId": "389d696b-f0d3-4789-e124-6bbb170813e0"
   },
   "outputs": [],
   "source": [
    "!{python} -m pip install -q -q -U pip tqdm scikit-learn pandas sparsesvd plotly pandas matplotlib\n",
    "\n",
    "# install plotting dependencies\n",
    "# !wget -q https://github.com/plotly/orca/releases/download/v1.2.1/orca-1.2.1-x86_64.AppImage -O /usr/local/bin/orca\n",
    "# !chmod +x /usr/local/bin/orca\n",
    "# !apt-get -qq install xvfb libgtk2.0-0 libgconf-2-4"
   ]
  },
  {
   "cell_type": "code",
   "execution_count": 3,
   "metadata": {
    "id": "YjlXMCUXvuk5"
   },
   "outputs": [],
   "source": [
    "import datetime, os, random, shutil, urllib.request, zipfile, time, warnings\n",
    "warnings.filterwarnings('ignore')\n",
    "from functools import wraps\n",
    "from math import trunc\n",
    "from itertools import product\n",
    "import numpy as np\n",
    "import pandas as pd\n",
    "from pathlib import Path\n",
    "from urllib.request import urlopen\n",
    "from zipfile import ZipFile\n",
    "from scipy.sparse.linalg import norm\n",
    "import scipy.sparse as ss\n",
    "from scipy.sparse.linalg import svds\n",
    "from sparsesvd import sparsesvd\n",
    "from sklearn.metrics import mean_squared_error as mse\n",
    "import plotly.express as px\n",
    "import json\n",
    "from sys import stdout\n",
    "import matplotlib.pyplot as plt\n",
    "from matplotlib import colors\n",
    "from IPython.display import display\n",
    "\n",
    "from tqdm import tqdm\n",
    "\n",
    "SEED = 123\n",
    "def seed_everything(seed=SEED):\n",
    "    random.seed(seed)\n",
    "    os.environ['PYTHONHASHSEED'] = str(seed)\n",
    "    np.random.seed(seed)\n",
    "seed_everything()\n",
    "\n",
    "def rmse(y_true, y_pred):\n",
    "    return mse(y_true, y_pred, squared=False)"
   ]
  },
  {
   "cell_type": "markdown",
   "metadata": {
    "id": "8mktkcXOFQrw"
   },
   "source": [
    "# Preprocessing"
   ]
  },
  {
   "cell_type": "code",
   "execution_count": 3,
   "metadata": {
    "id": "lj_Na91f60Vw"
   },
   "outputs": [],
   "source": [
    "def get_dataset():\n",
    "    path = Path(\"m1.zip\")\n",
    "    if not path.exists():\n",
    "        with path.open(\"wb\") as f:\n",
    "            print(\"Downloading dataset...\")\n",
    "            f.write(urlopen(\"http://files.grouplens.org/datasets/movielens/ml-1m.zip\").read())\n",
    "    if not Path(\"ml-1m\").is_dir():\n",
    "        print(\"unzipping...\")\n",
    "        with ZipFile(\"m1.zip\") as zf:\n",
    "            zf.extractall()\n",
    "    ratings_list = [i.strip().split(\"::\") for i in open('ml-1m/ratings.dat', 'r').readlines()]\n",
    "    ratings_df = pd.DataFrame(ratings_list, columns = ['UserID', 'MovieID', 'Rating', 'Timestamp'], dtype = int)\n",
    "    ratings_df['Rating'] = ratings_df['Rating'].apply(pd.to_numeric)\n",
    "    return ratings_df"
   ]
  },
  {
   "cell_type": "code",
   "execution_count": 4,
   "metadata": {
    "id": "iI9441n7DltF"
   },
   "outputs": [],
   "source": [
    "def split(df, test_size=2500, validation_size=2500):\n",
    "    R_df = df.pivot(index = 'UserID', columns ='MovieID', values = 'Rating').fillna(0)\n",
    "    seed_everything()\n",
    "    test_indices = np.array(random.sample(list(np.argwhere(R_df.values>0)), test_size))\n",
    "\n",
    "    x_indices = test_indices[:,0]\n",
    "    y_indices = test_indices[:,1]\n",
    "    u_ids = R_df.index[x_indices].astype(np.int32)\n",
    "    i_ids = R_df.columns[y_indices].astype(np.int32)\n",
    "    \n",
    "    df['UserID'] = df['UserID'].astype(np.int32)\n",
    "    df['MovieID'] = df['MovieID'].astype(np.int32)\n",
    "    df['Rating'] = df['Rating'].astype(np.float64)\n",
    "    \n",
    "    df= df.drop(columns=['Timestamp'], errors='ignore')\n",
    "    \n",
    "    test = []\n",
    "    for u_id, i_id in zip(u_ids, i_ids):\n",
    "        test.append(df.loc[(df['UserID'] == u_id) & (df['MovieID'] == i_id)])\n",
    "    test_df = pd.concat(test)\n",
    "    train_df= df.drop(test_df.index.tolist())\n",
    "    \n",
    "    matrix_only_with_test = np.zeros(R_df.shape, dtype=np.float64) \n",
    "    matrix_only_with_test[x_indices, y_indices] =  R_df.values[x_indices, y_indices]\n",
    "    M_test_df = pd.DataFrame(matrix_only_with_test, index=R_df.index.astype(np.int32), columns=R_df.columns.astype(np.int32))\n",
    "    \n",
    "    matrix_without_test = R_df.copy().values\n",
    "    matrix_without_test[x_indices,y_indices] = 0.0\n",
    "    M_train_df = pd.DataFrame(matrix_without_test, index=R_df.index.astype(np.int32), columns=R_df.columns.astype(np.int32))\n",
    "    \n",
    "    \n",
    "    validation_indices = np.array(random.sample(list(np.argwhere(M_train_df.values>0)), validation_size))\n",
    "\n",
    "    x_indices = validation_indices[:,0]\n",
    "    y_indices = validation_indices[:,1]\n",
    "    u_ids = R_df.index[x_indices].astype(np.int32)\n",
    "    i_ids = R_df.columns[y_indices].astype(np.int32)\n",
    "    \n",
    "    df= df.drop(columns=['Timestamp'], errors='ignore')\n",
    "    \n",
    "    validation = []\n",
    "    for u_id, i_id in zip(u_ids, i_ids):\n",
    "        validation.append(df.loc[(df['UserID'] == u_id) & (df['MovieID'] == i_id)])\n",
    "    validation_df = pd.concat(validation)\n",
    "    train_df= train_df.drop(validation_df.index.tolist())\n",
    "    \n",
    "    matrix_only_with_validation = np.zeros(R_df.shape, dtype=np.float64) \n",
    "    matrix_only_with_validation[x_indices, y_indices] =  R_df.values[x_indices, y_indices]\n",
    "    M_validation_df = pd.DataFrame(matrix_only_with_validation, index=R_df.index.astype(np.int32), columns=R_df.columns.astype(np.int32))\n",
    "    \n",
    "    matrix_with_train = R_df.copy().values\n",
    "    matrix_with_train[test_indices[:,0],test_indices[:,1]] = 0.0\n",
    "    matrix_with_train[validation_indices[:,0],validation_indices[:,1]] = 0.0\n",
    "    \n",
    "    M_train_df = pd.DataFrame(matrix_with_train, index=R_df.index.astype(np.int32), columns=R_df.columns.astype(np.int32))\n",
    "    \n",
    "    return train_df, test_df,validation_df, M_train_df, M_test_df, M_validation_df"
   ]
  },
  {
   "cell_type": "code",
   "execution_count": 5,
   "metadata": {
    "colab": {
     "base_uri": "https://localhost:8080/"
    },
    "id": "-6PSReAzrbvQ",
    "outputId": "100fb7d9-0e5a-4eae-d4e2-8e933536152f"
   },
   "outputs": [],
   "source": [
    "ratings_df = get_dataset()\n",
    "train_df, test_df,validation_df, M_train_df, M_test_df, M_validation_df = split(ratings_df)"
   ]
  },
  {
   "cell_type": "code",
   "execution_count": 6,
   "metadata": {
    "colab": {
     "base_uri": "https://localhost:8080/",
     "height": 197
    },
    "id": "iOfa3VEpvuk7",
    "outputId": "76e46892-a737-4c40-8248-5b5c8e1f8be0"
   },
   "outputs": [
    {
     "data": {
      "text/html": [
       "<div>\n",
       "<style scoped>\n",
       "    .dataframe tbody tr th:only-of-type {\n",
       "        vertical-align: middle;\n",
       "    }\n",
       "\n",
       "    .dataframe tbody tr th {\n",
       "        vertical-align: top;\n",
       "    }\n",
       "\n",
       "    .dataframe thead th {\n",
       "        text-align: right;\n",
       "    }\n",
       "</style>\n",
       "<table border=\"1\" class=\"dataframe\">\n",
       "  <thead>\n",
       "    <tr style=\"text-align: right;\">\n",
       "      <th></th>\n",
       "      <th>UserID</th>\n",
       "      <th>MovieID</th>\n",
       "      <th>Rating</th>\n",
       "    </tr>\n",
       "  </thead>\n",
       "  <tbody>\n",
       "    <tr>\n",
       "      <th>206405</th>\n",
       "      <td>1265</td>\n",
       "      <td>1732</td>\n",
       "      <td>4.0</td>\n",
       "    </tr>\n",
       "    <tr>\n",
       "      <th>409183</th>\n",
       "      <td>2456</td>\n",
       "      <td>2105</td>\n",
       "      <td>3.0</td>\n",
       "    </tr>\n",
       "    <tr>\n",
       "      <th>240650</th>\n",
       "      <td>1449</td>\n",
       "      <td>2959</td>\n",
       "      <td>4.0</td>\n",
       "    </tr>\n",
       "    <tr>\n",
       "      <th>886005</th>\n",
       "      <td>5350</td>\n",
       "      <td>2640</td>\n",
       "      <td>2.0</td>\n",
       "    </tr>\n",
       "    <tr>\n",
       "      <th>540360</th>\n",
       "      <td>3323</td>\n",
       "      <td>3468</td>\n",
       "      <td>4.0</td>\n",
       "    </tr>\n",
       "  </tbody>\n",
       "</table>\n",
       "</div>"
      ],
      "text/plain": [
       "        UserID  MovieID  Rating\n",
       "206405    1265     1732     4.0\n",
       "409183    2456     2105     3.0\n",
       "240650    1449     2959     4.0\n",
       "886005    5350     2640     2.0\n",
       "540360    3323     3468     4.0"
      ]
     },
     "execution_count": 6,
     "metadata": {},
     "output_type": "execute_result"
    }
   ],
   "source": [
    "test_df.head()"
   ]
  },
  {
   "cell_type": "code",
   "execution_count": 7,
   "metadata": {
    "colab": {
     "base_uri": "https://localhost:8080/",
     "height": 276
    },
    "id": "kF_se-_Gvuk8",
    "outputId": "152a5e4b-afb4-4a08-8be1-294782ff9d61"
   },
   "outputs": [
    {
     "data": {
      "text/html": [
       "<div>\n",
       "<style scoped>\n",
       "    .dataframe tbody tr th:only-of-type {\n",
       "        vertical-align: middle;\n",
       "    }\n",
       "\n",
       "    .dataframe tbody tr th {\n",
       "        vertical-align: top;\n",
       "    }\n",
       "\n",
       "    .dataframe thead th {\n",
       "        text-align: right;\n",
       "    }\n",
       "</style>\n",
       "<table border=\"1\" class=\"dataframe\">\n",
       "  <thead>\n",
       "    <tr style=\"text-align: right;\">\n",
       "      <th>MovieID</th>\n",
       "      <th>1</th>\n",
       "      <th>10</th>\n",
       "      <th>100</th>\n",
       "      <th>1000</th>\n",
       "      <th>1002</th>\n",
       "      <th>1003</th>\n",
       "      <th>1004</th>\n",
       "      <th>1005</th>\n",
       "      <th>1006</th>\n",
       "      <th>1007</th>\n",
       "      <th>...</th>\n",
       "      <th>99</th>\n",
       "      <th>990</th>\n",
       "      <th>991</th>\n",
       "      <th>992</th>\n",
       "      <th>993</th>\n",
       "      <th>994</th>\n",
       "      <th>996</th>\n",
       "      <th>997</th>\n",
       "      <th>998</th>\n",
       "      <th>999</th>\n",
       "    </tr>\n",
       "    <tr>\n",
       "      <th>UserID</th>\n",
       "      <th></th>\n",
       "      <th></th>\n",
       "      <th></th>\n",
       "      <th></th>\n",
       "      <th></th>\n",
       "      <th></th>\n",
       "      <th></th>\n",
       "      <th></th>\n",
       "      <th></th>\n",
       "      <th></th>\n",
       "      <th></th>\n",
       "      <th></th>\n",
       "      <th></th>\n",
       "      <th></th>\n",
       "      <th></th>\n",
       "      <th></th>\n",
       "      <th></th>\n",
       "      <th></th>\n",
       "      <th></th>\n",
       "      <th></th>\n",
       "      <th></th>\n",
       "    </tr>\n",
       "  </thead>\n",
       "  <tbody>\n",
       "    <tr>\n",
       "      <th>1</th>\n",
       "      <td>5.0</td>\n",
       "      <td>0.0</td>\n",
       "      <td>0.0</td>\n",
       "      <td>0.0</td>\n",
       "      <td>0.0</td>\n",
       "      <td>0.0</td>\n",
       "      <td>0.0</td>\n",
       "      <td>0.0</td>\n",
       "      <td>0.0</td>\n",
       "      <td>0.0</td>\n",
       "      <td>...</td>\n",
       "      <td>0.0</td>\n",
       "      <td>0.0</td>\n",
       "      <td>0.0</td>\n",
       "      <td>0.0</td>\n",
       "      <td>0.0</td>\n",
       "      <td>0.0</td>\n",
       "      <td>0.0</td>\n",
       "      <td>0.0</td>\n",
       "      <td>0.0</td>\n",
       "      <td>0.0</td>\n",
       "    </tr>\n",
       "    <tr>\n",
       "      <th>10</th>\n",
       "      <td>5.0</td>\n",
       "      <td>0.0</td>\n",
       "      <td>0.0</td>\n",
       "      <td>0.0</td>\n",
       "      <td>0.0</td>\n",
       "      <td>0.0</td>\n",
       "      <td>0.0</td>\n",
       "      <td>0.0</td>\n",
       "      <td>0.0</td>\n",
       "      <td>0.0</td>\n",
       "      <td>...</td>\n",
       "      <td>0.0</td>\n",
       "      <td>0.0</td>\n",
       "      <td>0.0</td>\n",
       "      <td>0.0</td>\n",
       "      <td>0.0</td>\n",
       "      <td>0.0</td>\n",
       "      <td>0.0</td>\n",
       "      <td>0.0</td>\n",
       "      <td>0.0</td>\n",
       "      <td>0.0</td>\n",
       "    </tr>\n",
       "    <tr>\n",
       "      <th>100</th>\n",
       "      <td>0.0</td>\n",
       "      <td>0.0</td>\n",
       "      <td>0.0</td>\n",
       "      <td>0.0</td>\n",
       "      <td>0.0</td>\n",
       "      <td>0.0</td>\n",
       "      <td>0.0</td>\n",
       "      <td>0.0</td>\n",
       "      <td>0.0</td>\n",
       "      <td>0.0</td>\n",
       "      <td>...</td>\n",
       "      <td>0.0</td>\n",
       "      <td>0.0</td>\n",
       "      <td>0.0</td>\n",
       "      <td>0.0</td>\n",
       "      <td>0.0</td>\n",
       "      <td>0.0</td>\n",
       "      <td>0.0</td>\n",
       "      <td>0.0</td>\n",
       "      <td>0.0</td>\n",
       "      <td>0.0</td>\n",
       "    </tr>\n",
       "    <tr>\n",
       "      <th>1000</th>\n",
       "      <td>5.0</td>\n",
       "      <td>0.0</td>\n",
       "      <td>0.0</td>\n",
       "      <td>0.0</td>\n",
       "      <td>0.0</td>\n",
       "      <td>0.0</td>\n",
       "      <td>0.0</td>\n",
       "      <td>0.0</td>\n",
       "      <td>0.0</td>\n",
       "      <td>0.0</td>\n",
       "      <td>...</td>\n",
       "      <td>0.0</td>\n",
       "      <td>0.0</td>\n",
       "      <td>0.0</td>\n",
       "      <td>0.0</td>\n",
       "      <td>0.0</td>\n",
       "      <td>0.0</td>\n",
       "      <td>0.0</td>\n",
       "      <td>0.0</td>\n",
       "      <td>0.0</td>\n",
       "      <td>0.0</td>\n",
       "    </tr>\n",
       "    <tr>\n",
       "      <th>1001</th>\n",
       "      <td>4.0</td>\n",
       "      <td>0.0</td>\n",
       "      <td>0.0</td>\n",
       "      <td>0.0</td>\n",
       "      <td>0.0</td>\n",
       "      <td>0.0</td>\n",
       "      <td>0.0</td>\n",
       "      <td>0.0</td>\n",
       "      <td>0.0</td>\n",
       "      <td>0.0</td>\n",
       "      <td>...</td>\n",
       "      <td>0.0</td>\n",
       "      <td>0.0</td>\n",
       "      <td>0.0</td>\n",
       "      <td>0.0</td>\n",
       "      <td>0.0</td>\n",
       "      <td>0.0</td>\n",
       "      <td>0.0</td>\n",
       "      <td>0.0</td>\n",
       "      <td>0.0</td>\n",
       "      <td>0.0</td>\n",
       "    </tr>\n",
       "  </tbody>\n",
       "</table>\n",
       "<p>5 rows × 3706 columns</p>\n",
       "</div>"
      ],
      "text/plain": [
       "MovieID  1     10    100   1000  1002  1003  1004  1005  1006  1007  ...  \\\n",
       "UserID                                                               ...   \n",
       "1         5.0   0.0   0.0   0.0   0.0   0.0   0.0   0.0   0.0   0.0  ...   \n",
       "10        5.0   0.0   0.0   0.0   0.0   0.0   0.0   0.0   0.0   0.0  ...   \n",
       "100       0.0   0.0   0.0   0.0   0.0   0.0   0.0   0.0   0.0   0.0  ...   \n",
       "1000      5.0   0.0   0.0   0.0   0.0   0.0   0.0   0.0   0.0   0.0  ...   \n",
       "1001      4.0   0.0   0.0   0.0   0.0   0.0   0.0   0.0   0.0   0.0  ...   \n",
       "\n",
       "MovieID  99    990   991   992   993   994   996   997   998   999   \n",
       "UserID                                                               \n",
       "1         0.0   0.0   0.0   0.0   0.0   0.0   0.0   0.0   0.0   0.0  \n",
       "10        0.0   0.0   0.0   0.0   0.0   0.0   0.0   0.0   0.0   0.0  \n",
       "100       0.0   0.0   0.0   0.0   0.0   0.0   0.0   0.0   0.0   0.0  \n",
       "1000      0.0   0.0   0.0   0.0   0.0   0.0   0.0   0.0   0.0   0.0  \n",
       "1001      0.0   0.0   0.0   0.0   0.0   0.0   0.0   0.0   0.0   0.0  \n",
       "\n",
       "[5 rows x 3706 columns]"
      ]
     },
     "execution_count": 7,
     "metadata": {},
     "output_type": "execute_result"
    }
   ],
   "source": [
    "M_train_df.head()"
   ]
  },
  {
   "cell_type": "markdown",
   "metadata": {
    "id": "e2rW5teNvuk8"
   },
   "source": [
    "\n",
    "\n",
    "# Funk-SVD"
   ]
  },
  {
   "cell_type": "code",
   "execution_count": 8,
   "metadata": {
    "id": "dACU8JFUvuk9"
   },
   "outputs": [],
   "source": [
    "class FunkSVD:\n",
    "    def __init__(self, lr=.005, reg=.02, n_epochs=20, n_factors=100,\n",
    "                 min_delta=.001,\n",
    "                 min_rating=1, max_rating=5):\n",
    "\n",
    "        self.lr = lr\n",
    "        self.reg = reg\n",
    "        self.n_epochs = n_epochs\n",
    "        self.n_factors = n_factors\n",
    "        self.min_rating = min_rating\n",
    "        self.max_rating = max_rating\n",
    "\n",
    "    def fit(self, X, X_test):\n",
    "        X = self._preprocess_data(X)\n",
    "\n",
    "        \n",
    "        X_test = self._preprocess_data(X_test, train=False)\n",
    "        self._init_metrics()\n",
    "        self.global_mean_ = np.mean(X[:, 2])\n",
    "        return self._run_sgd(X, X_test)\n",
    "\n",
    "    def _preprocess_data(self, X, train=True):\n",
    "        X = X.copy()\n",
    "        if train:  # Mappings have to be created\n",
    "            #assumed that train data includes all possible users and movies (not necessarily ratings)\n",
    "            user_ids = X['UserID'].unique().tolist()\n",
    "            item_ids = X['MovieID'].unique().tolist()\n",
    "            n_users = len(user_ids)\n",
    "            n_items = len(item_ids)\n",
    "            user_idx = range(n_users)\n",
    "            item_idx = range(n_items)\n",
    "            self.user_mapping_ = dict(zip(user_ids, user_idx))\n",
    "            self.item_mapping_ = dict(zip(item_ids, item_idx))\n",
    "        X['UserID'] = X['UserID'].map(self.user_mapping_)\n",
    "        X['MovieID'] = X['MovieID'].map(self.item_mapping_)\n",
    "        \n",
    "        X['UserID'] = X['UserID'].astype(np.int32)\n",
    "        X['MovieID'] = X['MovieID'].astype(np.int32)\n",
    "        return X[['UserID', 'MovieID', 'Rating']].values\n",
    "\n",
    "    def _init_metrics(self):\n",
    "        metrics = np.zeros((self.n_epochs, 3), dtype=np.float)\n",
    "        self.metrics_ = pd.DataFrame(metrics, columns=['Loss', 'RMSE', 'MAE'])\n",
    "\n",
    "    def _run_sgd(self, X, X_test):\n",
    "        reg,lr,global_mean,n_factors = self.reg,self.lr,self.global_mean_,self.n_factors\n",
    "        \n",
    "        n_users = len(np.unique(X[:, 0]))\n",
    "        n_items = len(np.unique(X[:, 1]))\n",
    "        bu = np.zeros(n_users)\n",
    "        bi = np.zeros(n_items)\n",
    "        pu = np.random.normal(0, .1, (n_users, n_factors))\n",
    "        qi = np.random.normal(0, .1, (n_items, n_factors))\n",
    "        \n",
    "        indices = (X_test[:,0].astype(int), X_test[:,1].astype(int))\n",
    "        true = X_test[:,2]\n",
    "        \n",
    "        # Run SGD\n",
    "        pbar = tqdm(range(self.n_epochs), desc='Epoch', ncols=110, position=0, leave=True)\n",
    "    \n",
    "        #stochastic sgd\n",
    "        for epoch_ix in pbar:\n",
    "            \n",
    "            #with batch size 1\n",
    "            for row in X:\n",
    "                user, item, rating = int(row[0]), int(row[1]), row[2]\n",
    "\n",
    "                pred= np.dot(pu[user,:], qi[item,:])+ global_mean + bu[user]+bi[item]\n",
    "                err = rating - pred\n",
    "\n",
    "                # Update biases\n",
    "                bu[user] += lr * (err - reg * bu[user])\n",
    "                bi[item] += lr * (err - reg * bi[item])\n",
    "\n",
    "                # Update latent factors\n",
    "                pu_update= lr * (err * qi[item, :] - reg * pu[user, :])\n",
    "                qi_update= lr * (err * pu[user, :] - reg * qi[item, :])\n",
    "                pu[user, :] = pu[user, :] + pu_update\n",
    "                qi[item, :] = qi[item, :] + qi_update\n",
    "            \n",
    "            #compute test error\n",
    "            pred = global_mean + np.matmul(pu, qi.T) + bu.reshape(-1, 1) + bi.reshape(1, -1)\n",
    "            pred = np.clip(pred, self.min_rating, self.max_rating)\n",
    "            residual = (pred[indices] - true).ravel()\n",
    "            mse_score = np.square(residual).mean()\n",
    "            rmse_score = rmse(true, pred[indices])\n",
    "            mae_score = np.absolute(residual).mean()\n",
    "\n",
    "            #save results in df\n",
    "            self.metrics_.loc[epoch_ix, :] = (mse_score, rmse_score, mae_score)\n",
    "            f = lambda x: f\"{self.metrics_.loc[epoch_ix, x]:.3f}\"\n",
    "            pbar.set_postfix({f'test_{m}': f(m) for m in self.metrics_.columns})\n",
    "\n",
    "        self.bu_, self.bi_, self.pu_, self.qi_ = bu, bi, pu, qi\n",
    "        return {f\"test_{m}\": np.trim_zeros(self.metrics_[m]).tolist() for m in self.metrics_.columns}\n",
    "\n",
    "    def predict(self, X):\n",
    "        return [\n",
    "            self.predict_pair(u_id, i_id)\n",
    "            for u_id, i_id in zip(X['UserID'], X['MovieID'])\n",
    "        ]\n",
    "\n",
    "    def predict_pair(self, u_id, i_id):\n",
    "        assert u_id in self.user_mapping_ and i_id in self.item_mapping_, f\"user {u_id} or movie {i_id} not in train data\"\n",
    "        \n",
    "        i_ix = self.item_mapping_[i_id]\n",
    "        u_ix = self.user_mapping_[u_id]\n",
    "        pred = self.global_mean_ + self.bi_[i_ix] + self.bu_[u_ix] + np.dot(self.pu_[u_ix], self.qi_[i_ix])\n",
    "        pred = np.clip(pred, self.min_rating, self.max_rating)\n",
    "        return pred"
   ]
  },
  {
   "cell_type": "code",
   "execution_count": 9,
   "metadata": {
    "id": "I0prSFvWvuk9"
   },
   "outputs": [],
   "source": [
    "class SVT:\n",
    "    def __init__(self, tau, delta, n_epochs, min_rating=1, max_rating=5):\n",
    "        self.tau = tau\n",
    "        self.delta = delta\n",
    "        self.n_epochs = n_epochs\n",
    "        self.min_rating = min_rating\n",
    "        self.max_rating = max_rating\n",
    "        self.tol = 0.001\n",
    "        self.increment = 5\n",
    "    \n",
    "    def _init_metrics(self):\n",
    "        metrics = np.zeros((self.n_epochs, 3), dtype=np.float)\n",
    "        self.metrics_ = pd.DataFrame(metrics, columns=['Loss', 'RMSE', 'MAE'])\n",
    "    \n",
    "    def fit(self, M, M_test):\n",
    "        ### preprocessing -->\n",
    "        \n",
    "        self._init_metrics()\n",
    "        M = M.copy()\n",
    "        M_test = M_test.copy()\n",
    "        \n",
    "        self.user_mapping_ = dict(zip(M.index, range(len(M.index))))\n",
    "        self.item_mapping_ = dict(zip(M.columns, range(len(M.columns))))\n",
    "        self.users_mean = np.mean(M.values, axis = 1).reshape(-1, 1)\n",
    "        \n",
    "        M = M.values\n",
    "        M_test= M_test.values\n",
    "        \n",
    "        \n",
    "        Omega = M.astype(np.int32).nonzero()\n",
    "        test_indices= M_test.astype(np.int32).nonzero()\n",
    "        \n",
    "        M = M- self.users_mean\n",
    "        M_test= M_test - self.users_mean\n",
    "        \n",
    "        test_true = M_test[test_indices].ravel()\n",
    "        \n",
    "        tol = self.tol\n",
    "        incre = self.increment\n",
    "        tau = self.tau\n",
    "        iterations= self.n_epochs\n",
    "        delta = self.delta\n",
    "        ### --> preprocessing\n",
    "\n",
    "        # SVT\n",
    "        r = 0\n",
    "        P_Omega_M = ss.csr_matrix((np.ravel(M[Omega]), Omega), shape=M.shape)\n",
    "        normProjM = norm(P_Omega_M)\n",
    "        k0 = np.ceil(tau / (delta * normProjM))\n",
    "        Y = k0 * delta * P_Omega_M\n",
    "\n",
    "        pbar = tqdm(range(iterations), position=0, leave=True, desc='Iteration', ncols=110)\n",
    "\n",
    "        for epoch_ix in pbar:\n",
    "            s = r + 1\n",
    "            sparse_Y = ss.csc_matrix(Y)\n",
    "            \n",
    "            #find s largest eigen values. keep increasing s until the s'th largest value is smaller than tau\n",
    "            u1, s1, v1 = sparsesvd(sparse_Y, s)\n",
    "            while np.min(s1) > tau and s >= min(*M.shape):\n",
    "                u1, s1, v1 = sparsesvd(sparse_Y, s)\n",
    "                s+=incre\n",
    "                if s>90: \n",
    "                    break\n",
    "            \n",
    "            if s>90: \n",
    "                print(f'number of singular values requested was {s}. this takes too much time!')\n",
    "                break\n",
    "            \n",
    "            #reconstruct x from svd decomposition\n",
    "            r = np.sum(s1 > tau)\n",
    "            U = u1.T[:, :r]\n",
    "            V = v1[:r, :]\n",
    "            S = s1[:r] - tau\n",
    "            x = (U * S).dot(V)\n",
    "\n",
    "            x_omega = ss.csr_matrix((x[Omega], Omega), shape=M.shape)\n",
    "            \n",
    "            #if there is no reconstruction error, stop\n",
    "            if norm(x_omega - P_Omega_M) / norm(P_Omega_M) < tol:\n",
    "                break\n",
    "            \n",
    "            #update Y with values from constructed matrix\n",
    "            diff = P_Omega_M - x_omega\n",
    "            Y += delta * diff\n",
    "                \n",
    "            #compute test error\n",
    "            \n",
    "            M_pred = np.clip((x + self.users_mean), self.min_rating, self.max_rating)-self.users_mean\n",
    "            test_pred = M_pred[test_indices].ravel()\n",
    "            \n",
    "            residual = (test_pred - test_true).ravel()\n",
    "            mse_score = np.square(residual).mean()\n",
    "            rmse_score = rmse(test_true, test_pred)\n",
    "            mae_score = np.absolute(residual).mean()\n",
    "\n",
    "            #save results in df\n",
    "            self.metrics_.loc[epoch_ix, :] = (mse_score, rmse_score, mae_score)\n",
    "            f = lambda x: f\"{self.metrics_.loc[epoch_ix, x]:.3f}\"\n",
    "            pbar.set_postfix({f'test_{m}': f(m) for m in self.metrics_.columns})\n",
    "                \n",
    "        self.x = x + self.users_mean\n",
    "        return {f\"test_{m}\": np.trim_zeros(self.metrics_[m].tolist()) for m in self.metrics_.columns}\n",
    "    \n",
    "    \n",
    "    def predict(self, X):\n",
    "        return [self.predict_pair(u_id, i_id) for u_id, i_id in zip(X['UserID'], X['MovieID'])]\n",
    "\n",
    "    def predict_pair(self, u_id, i_id):\n",
    "        assert u_id in self.user_mapping_ and i_id in self.item_mapping_, f\"user {u_id} or movie {i_id} not in train data\"\n",
    "        \n",
    "        i_ix = self.item_mapping_[i_id]\n",
    "        u_ix = self.user_mapping_[u_id]\n",
    "        \n",
    "        pred= self.x[u_ix,i_ix]\n",
    "        pred = np.clip(pred, self.min_rating, self.max_rating)\n",
    "        return pred"
   ]
  },
  {
   "cell_type": "markdown",
   "metadata": {},
   "source": [
    "## Ensemble Model\n",
    "#### A simple model averaging two given MF models according to weights"
   ]
  },
  {
   "cell_type": "code",
   "execution_count": 10,
   "metadata": {},
   "outputs": [],
   "source": [
    "class Ensemble:\n",
    "    def __init__(self, models, weights=None):\n",
    "        self.models = models\n",
    "        self.weights = weights\n",
    "    \n",
    "    def predict(self, X):\n",
    "        return [self.predict_pair(u_id, i_id) for u_id, i_id in zip(X['UserID'], X['MovieID'])]\n",
    "    \n",
    "    def predict_pair(self, u_id, i_id):\n",
    "        preds = np.array([m.predict_pair(u_id, i_id) for m in self.models])\n",
    "        if self.weights is None:\n",
    "            return np.average(preds)\n",
    "        return np.dot(preds, np.array(self.weights))"
   ]
  },
  {
   "cell_type": "markdown",
   "metadata": {
    "id": "NbSnEbZlvuk-"
   },
   "source": [
    "## Experimental Setup"
   ]
  },
  {
   "cell_type": "code",
   "execution_count": 15,
   "metadata": {
    "cellView": "code",
    "id": "vfXchdoCr7Z5"
   },
   "outputs": [],
   "source": [
    "def to_sparse(df):\n",
    "    users =[]\n",
    "    movies =[]\n",
    "    ratings =[]\n",
    "    indices = df.values.astype(np.int32).nonzero()\n",
    "    x_indices,y_indices = indices[0], indices[1]\n",
    "    \n",
    "    for i,j in zip(x_indices,y_indices):\n",
    "        users.append(df.index[i])\n",
    "        movies.append(df.columns[j])\n",
    "        ratings.append(df.iloc[i,j])\n",
    "    \n",
    "    df = pd.DataFrame(dict(zip(['UserID', 'MovieID', 'Rating'], [users, movies, ratings])))\n",
    "    return df\n",
    "\n",
    "def run_funk(train, test, verbose=False, **kw):\n",
    "    seed_everything()\n",
    "    svd = FunkSVD(**kw)\n",
    "    hist = svd.fit(X=train, X_test=test)\n",
    "\n",
    "    if verbose:\n",
    "        y_true, y_pred = test['Rating'].values.ravel(), np.array(svd.predict(test)).ravel()\n",
    "        print(f\"\\n\\nTest RMSE: {rmse(y_true, y_pred):.3f}\\n\\n\")\n",
    "        print_hparams(kw, 'Funk-SVD')\n",
    "    return hist, svd # score, best_epoch\n",
    "    \n",
    "def run_svt(train, test, verbose=False, **kw):\n",
    "    seed_everything()\n",
    "    model = SVT(**kw)\n",
    "    hist = model.fit(M=train, M_test=test)\n",
    "    \n",
    "    sparse_test = to_sparse(test)\n",
    "    \n",
    "    if verbose:\n",
    "        y_true, y_pred = sparse_test['Rating'].values.ravel(), np.array(model.predict(sparse_test)).ravel()\n",
    "        print(f\"\\n\\nTest RMSE: {rmse(y_true, y_pred):.3f}\\n\\n\")\n",
    "        print_hparams(kw, 'SVT')\n",
    "    return hist, model\n",
    "\n",
    "def print_hparams(h, name):\n",
    "    print(\"Hyperparameters:\\n\")\n",
    "    print(f\"hist = {name}(train_df, test_df,\\n\\t\" + \", \".join([f\"{k}={h[k]}\" for k in h]) + ')')\n",
    "    \n",
    "def plot_experiment(hist):\n",
    "    fig = px.line(pd.DataFrame(hist).rename_axis('Epoch'))\\\n",
    "        .update_layout(hoverlabel=dict(font_size=12, font_family=\"Rockwell\"),\n",
    "                       font=dict(family=\"Courier New, monospace\", size=18))\\\n",
    "        .update_xaxes(showspikes=True)\n",
    "    fig.show()\n",
    "    fig.show(\"svg\")\n",
    "\n",
    "    \n",
    "def background_gradient(s, m, M, cmap='PuBu', low=0, high=0):\n",
    "    s = M-s\n",
    "    rng = M - m\n",
    "    norm = colors.Normalize(m - (rng * low),\n",
    "                            M + (rng * high))\n",
    "    normed = norm(s.values)\n",
    "    c = [colors.rgb2hex(x) for x in plt.cm.get_cmap(cmap)(normed)]\n",
    "    return ['background-color: %s' % color for color in c]\n",
    "\n",
    "def plot_color_map(hists, a, b):\n",
    "    regs = np.unique([hist[a] for hist in hists])\n",
    "    lrs = np.unique([hist[b] for hist in hists])\n",
    "    rmses = []\n",
    "    for reg, lr in product(regs, lrs):\n",
    "        rmse_score = [hist.get('hist',{}).get('test_RMSE', [np.nan])[-1] \\\n",
    "                for hist in hists if hist[a] == reg and hist[b] == lr]\n",
    "        if rmse_score:\n",
    "            rmses.append(rmse_score[0])\n",
    "        else:\n",
    "            rmses.append(np.nan)\n",
    "    rmses = np.array(rmses).reshape(len(lrs), len(regs))\n",
    "    df = pd.DataFrame(rmses, index=lrs, columns=regs)\n",
    "\n",
    "    df.index.name = b + 's'\n",
    "    df.columns.name = a + 's'\n",
    "    \n",
    "    df.index = np.around(df.index, decimals=5, out=None)\n",
    "    \n",
    "    return df.style.apply(background_gradient,\n",
    "                cmap='PuBu',\n",
    "                m=df.min().min(),\n",
    "                M=df.max().max(),\n",
    "                low=0.1,\n",
    "                high=0.2).format(\"{:.4f}\")"
   ]
  },
  {
   "cell_type": "markdown",
   "metadata": {
    "id": "3gX6d_1ivuk_"
   },
   "source": [
    "## SVT Grid Search"
   ]
  },
  {
   "cell_type": "code",
   "execution_count": null,
   "metadata": {
    "colab": {
     "base_uri": "https://localhost:8080/"
    },
    "id": "4ebGMzw4vulA",
    "outputId": "09671f63-9ddf-413e-cf28-2ff908b8e580"
   },
   "outputs": [
    {
     "name": "stderr",
     "output_type": "stream",
     "text": [
      "\r",
      "Grid Search Progress:   0%|          | 0/12 [00:00<?, ?it/s]"
     ]
    },
    {
     "name": "stdout",
     "output_type": "stream",
     "text": [
      "tau: 20000, delta: 1\n",
      "\n"
     ]
    },
    {
     "name": "stderr",
     "output_type": "stream",
     "text": [
      "Iteration: 100%|██████████| 460/460 [13:48<00:00,  1.80s/it, test_Loss=0.765, test_RMSE=0.875, test_MAE=0.680]\n",
      "Grid Search Progress:   8%|▊         | 1/12 [13:49<2:32:08, 829.89s/it]"
     ]
    },
    {
     "name": "stdout",
     "output_type": "stream",
     "text": [
      "\n",
      "\n",
      "Test RMSE: 0.875\n",
      "\n",
      "\n",
      "Hyperparameters:\n",
      "\n",
      "hist = SVT(train_df, test_df,\n",
      "\ttau=20000, delta=1, n_epochs=460)\n",
      "tau: 20000, delta: 2\n",
      "\n"
     ]
    },
    {
     "name": "stderr",
     "output_type": "stream",
     "text": [
      "Iteration: 100%|██████████| 230/230 [06:48<00:00,  1.78s/it, test_Loss=0.765, test_RMSE=0.875, test_MAE=0.680]\n",
      "Grid Search Progress:  17%|█▋        | 2/12 [20:40<1:37:09, 582.97s/it]"
     ]
    },
    {
     "name": "stdout",
     "output_type": "stream",
     "text": [
      "\n",
      "\n",
      "Test RMSE: 0.875\n",
      "\n",
      "\n",
      "Hyperparameters:\n",
      "\n",
      "hist = SVT(train_df, test_df,\n",
      "\ttau=20000, delta=2, n_epochs=230)\n",
      "tau: 20000, delta: 5\n",
      "\n"
     ]
    },
    {
     "name": "stderr",
     "output_type": "stream",
     "text": [
      "Iteration: 100%|████████████| 92/92 [02:30<00:00,  1.63s/it, test_Loss=0.802, test_RMSE=0.896, test_MAE=0.689]\n",
      "Grid Search Progress:  25%|██▌       | 3/12 [23:11<57:52, 385.89s/it]  "
     ]
    },
    {
     "name": "stdout",
     "output_type": "stream",
     "text": [
      "\n",
      "\n",
      "Test RMSE: 0.896\n",
      "\n",
      "\n",
      "Hyperparameters:\n",
      "\n",
      "hist = SVT(train_df, test_df,\n",
      "\ttau=20000, delta=5, n_epochs=92)\n",
      "tau: 20000, delta: 7\n",
      "\n"
     ]
    },
    {
     "name": "stderr",
     "output_type": "stream",
     "text": [
      "Iteration: 100%|████████████| 65/65 [00:42<00:00,  1.53it/s, test_Loss=5.171, test_RMSE=2.274, test_MAE=1.902]\n",
      "Grid Search Progress:  33%|███▎      | 4/12 [23:55<33:26, 250.83s/it]"
     ]
    },
    {
     "name": "stdout",
     "output_type": "stream",
     "text": [
      "\n",
      "\n",
      "Test RMSE: 2.274\n",
      "\n",
      "\n",
      "Hyperparameters:\n",
      "\n",
      "hist = SVT(train_df, test_df,\n",
      "\ttau=20000, delta=7, n_epochs=65)\n",
      "tau: 10000, delta: 1\n",
      "\n"
     ]
    },
    {
     "name": "stderr",
     "output_type": "stream",
     "text": [
      "Iteration:  60%|█████▉    | 275/460 [15:46<10:36,  3.44s/it, test_Loss=0.798, test_RMSE=0.893, test_MAE=0.694]"
     ]
    },
    {
     "name": "stdout",
     "output_type": "stream",
     "text": [
      "number of singular values requested was 91. this takes too much time!\n"
     ]
    },
    {
     "name": "stderr",
     "output_type": "stream",
     "text": [
      "\n",
      "Grid Search Progress:  42%|████▏     | 5/12 [39:42<58:34, 502.14s/it]"
     ]
    },
    {
     "name": "stdout",
     "output_type": "stream",
     "text": [
      "\n",
      "\n",
      "Test RMSE: 0.893\n",
      "\n",
      "\n",
      "Hyperparameters:\n",
      "\n",
      "hist = SVT(train_df, test_df,\n",
      "\ttau=10000, delta=1, n_epochs=460)\n",
      "tau: 10000, delta: 2\n",
      "\n"
     ]
    },
    {
     "name": "stderr",
     "output_type": "stream",
     "text": [
      "Iteration:  71%|███████▏  | 164/230 [16:00<06:26,  5.85s/it, test_Loss=0.909, test_RMSE=0.953, test_MAE=0.735]"
     ]
    },
    {
     "name": "stdout",
     "output_type": "stream",
     "text": [
      "number of singular values requested was 91. this takes too much time!\n"
     ]
    },
    {
     "name": "stderr",
     "output_type": "stream",
     "text": [
      "\n",
      "Grid Search Progress:  50%|█████     | 6/12 [55:44<1:05:49, 658.26s/it]"
     ]
    },
    {
     "name": "stdout",
     "output_type": "stream",
     "text": [
      "\n",
      "\n",
      "Test RMSE: 0.953\n",
      "\n",
      "\n",
      "Hyperparameters:\n",
      "\n",
      "hist = SVT(train_df, test_df,\n",
      "\ttau=10000, delta=2, n_epochs=230)\n",
      "tau: 10000, delta: 5\n",
      "\n"
     ]
    },
    {
     "name": "stderr",
     "output_type": "stream",
     "text": [
      "Iteration:  66%|███████▉    | 61/92 [01:00<00:25,  1.20it/s, test_Loss=5.700, test_RMSE=2.388, test_MAE=2.046]"
     ]
    }
   ],
   "source": [
    "taus = [20000, 10000, 30000]\n",
    "deltas = [1, 2, 5, 7]\n",
    "\n",
    "grid_space = list(product(taus, deltas))\n",
    "hists = []\n",
    "for tau, delta in tqdm(grid_space, position=0, leave=True, desc='Grid Search Progress'):\n",
    "    print(f\"tau: {tau}, delta: {delta}\\n\")\n",
    "    try:\n",
    "        hist, _ = run_svt(train=M_train_df, test=M_test_df, verbose=True,\n",
    "                tau=tau,\n",
    "                delta=delta,\n",
    "                n_epochs=int(500 / delta))\n",
    "    except Exception as e:\n",
    "        print('encountered a problem {}. Happens when SVT diverges'.format(e))\n",
    "        continue\n",
    "    hists.append({'tau':tau, 'delta': delta, 'hist': hist})\n",
    "    with open('results.json', 'w') as f:\n",
    "        json.dump(hists, f)"
   ]
  },
  {
   "cell_type": "markdown",
   "metadata": {},
   "source": [
    "### SVT Analysis"
   ]
  },
  {
   "cell_type": "code",
   "execution_count": 7,
   "metadata": {
    "colab": {
     "base_uri": "https://localhost:8080/",
     "height": 996
    },
    "id": "HX6ndzgpfNCi",
    "outputId": "8bc76351-2494-4509-9a68-9f9d20980aab"
   },
   "outputs": [
    {
     "data": {
      "application/vnd.plotly.v1+json": {
       "config": {
        "plotlyServerURL": "https://plot.ly"
       },
       "data": [
        {
         "hovertemplate": "variable=test_Loss<br>Epoch=%{x}<br>value=%{y}<extra></extra>",
         "legendgroup": "test_Loss",
         "line": {
          "color": "#636efa",
          "dash": "solid"
         },
         "mode": "lines",
         "name": "test_Loss",
         "showlegend": true,
         "type": "scattergl",
         "x": [
          0,
          1,
          2,
          3,
          4,
          5,
          6,
          7,
          8,
          9,
          10,
          11,
          12,
          13,
          14,
          15,
          16,
          17,
          18,
          19,
          20,
          21,
          22,
          23,
          24,
          25,
          26,
          27,
          28,
          29,
          30,
          31,
          32,
          33,
          34,
          35,
          36,
          37,
          38,
          39,
          40,
          41,
          42,
          43,
          44,
          45,
          46,
          47,
          48,
          49,
          50,
          51,
          52,
          53,
          54,
          55,
          56,
          57,
          58,
          59,
          60,
          61,
          62,
          63,
          64,
          65,
          66,
          67,
          68,
          69,
          70,
          71,
          72,
          73,
          74,
          75,
          76,
          77,
          78,
          79,
          80,
          81,
          82,
          83,
          84,
          85,
          86,
          87,
          88,
          89,
          90,
          91,
          92,
          93,
          94,
          95,
          96,
          97,
          98,
          99,
          100,
          101,
          102,
          103,
          104,
          105,
          106,
          107,
          108,
          109,
          110,
          111,
          112,
          113,
          114,
          115,
          116,
          117,
          118,
          119,
          120,
          121,
          122,
          123,
          124,
          125,
          126,
          127,
          128,
          129,
          130,
          131,
          132,
          133,
          134,
          135,
          136,
          137,
          138,
          139,
          140,
          141,
          142,
          143,
          144,
          145,
          146,
          147,
          148,
          149,
          150,
          151,
          152,
          153,
          154,
          155,
          156,
          157,
          158,
          159,
          160,
          161,
          162,
          163,
          164,
          165,
          166,
          167,
          168,
          169,
          170,
          171,
          172,
          173,
          174,
          175,
          176,
          177,
          178,
          179,
          180,
          181,
          182,
          183,
          184,
          185,
          186,
          187,
          188,
          189,
          190,
          191,
          192,
          193,
          194,
          195,
          196,
          197,
          198,
          199,
          200,
          201,
          202,
          203,
          204,
          205,
          206,
          207,
          208,
          209,
          210,
          211,
          212,
          213,
          214,
          215,
          216,
          217,
          218,
          219,
          220,
          221,
          222,
          223,
          224,
          225,
          226,
          227,
          228,
          229,
          230,
          231,
          232,
          233,
          234,
          235,
          236,
          237,
          238,
          239,
          240,
          241,
          242,
          243,
          244,
          245,
          246,
          247,
          248,
          249,
          250,
          251,
          252,
          253,
          254,
          255,
          256,
          257,
          258,
          259,
          260,
          261,
          262,
          263,
          264,
          265,
          266,
          267,
          268,
          269,
          270,
          271,
          272,
          273,
          274,
          275,
          276,
          277,
          278,
          279,
          280,
          281,
          282,
          283,
          284,
          285,
          286,
          287,
          288,
          289,
          290,
          291,
          292,
          293,
          294,
          295,
          296,
          297,
          298,
          299,
          300,
          301,
          302,
          303,
          304,
          305,
          306,
          307,
          308,
          309,
          310,
          311,
          312,
          313,
          314,
          315,
          316,
          317,
          318,
          319,
          320,
          321,
          322,
          323,
          324,
          325,
          326,
          327,
          328,
          329,
          330,
          331,
          332,
          333,
          334,
          335,
          336,
          337,
          338,
          339,
          340,
          341,
          342,
          343,
          344,
          345,
          346,
          347,
          348,
          349,
          350,
          351,
          352,
          353,
          354,
          355,
          356,
          357,
          358,
          359,
          360,
          361,
          362,
          363,
          364,
          365,
          366,
          367,
          368,
          369,
          370,
          371,
          372,
          373,
          374,
          375,
          376,
          377,
          378,
          379,
          380,
          381,
          382,
          383,
          384,
          385,
          386,
          387,
          388,
          389,
          390,
          391,
          392,
          393,
          394,
          395,
          396,
          397,
          398,
          399,
          400,
          401,
          402,
          403,
          404,
          405,
          406,
          407,
          408,
          409,
          410,
          411,
          412,
          413,
          414,
          415,
          416,
          417,
          418,
          419,
          420,
          421,
          422,
          423,
          424,
          425,
          426,
          427,
          428,
          429,
          430,
          431,
          432,
          433,
          434,
          435,
          436,
          437,
          438,
          439,
          440,
          441,
          442,
          443,
          444,
          445,
          446,
          447,
          448,
          449,
          450,
          451,
          452,
          453,
          454,
          455,
          456,
          457,
          458,
          459
         ],
         "xaxis": "x",
         "y": [
          7.895594965646932,
          7.895594965646932,
          7.895594965646932,
          7.895594965646932,
          7.895594965646932,
          7.895594965646932,
          7.895594965646932,
          6.406120079246127,
          5.364762454291043,
          4.89673673462827,
          4.624041831673876,
          4.428705969293725,
          4.271342850860949,
          4.134176318391769,
          4.009916445064556,
          3.894509043639669,
          3.786879064208467,
          3.6859630045858167,
          3.5911224718513863,
          3.501521895178911,
          3.4174786354081395,
          3.338366641344131,
          3.263407244451526,
          3.191392223119935,
          3.122766924625198,
          3.0575431838641633,
          2.9956652913609076,
          2.936711835195365,
          2.880354259448571,
          2.826575926947941,
          2.7749162811654635,
          2.725453952568808,
          2.6780720718859308,
          2.632699338123296,
          2.5893755674513863,
          2.547825263902682,
          2.5078807373087417,
          2.4694418800232723,
          2.4322609606542285,
          2.3963711091942783,
          2.3616368664551874,
          2.3282249257910537,
          2.296132284710763,
          2.2650319357637376,
          2.2349496357557332,
          2.2058772280368792,
          2.177732117854615,
          2.1504798014016835,
          2.1241059508200255,
          2.059079739115376,
          1.978536133152138,
          1.9376338386791507,
          1.9101251949159144,
          1.887366580681591,
          1.8665328819410134,
          1.846857989478259,
          1.8281352172094245,
          1.8102122940774228,
          1.792817590627097,
          1.7759614383410014,
          1.7596630146151164,
          1.7439069531464462,
          1.7286404733636453,
          1.7138059025079222,
          1.6994248474724187,
          1.6854183848855235,
          1.6717486599392948,
          1.6584398444589616,
          1.6454890402169189,
          1.6328969760781666,
          1.6206078292041453,
          1.608604438941424,
          1.5969226701696524,
          1.585527734003863,
          1.5743887871189342,
          1.5634482244148402,
          1.5527445413890009,
          1.5422698273172106,
          1.532033421331516,
          1.522047578856519,
          1.5123019607549868,
          1.502770747769598,
          1.4934525062725068,
          1.4843349275629887,
          1.475430928822923,
          1.46673486325478,
          1.4582266937376178,
          1.4470838195443696,
          1.427113577119565,
          1.4121327040494842,
          1.4000705373136675,
          1.3898688334313998,
          1.3808078748582986,
          1.37250010987663,
          1.3647518761860769,
          1.3573995105496786,
          1.3503357765539532,
          1.34351815225606,
          1.3369218669764582,
          1.3305146261059444,
          1.3242757111113184,
          1.3181778789855427,
          1.3122237882689023,
          1.3063969734703162,
          1.3006862164279882,
          1.295063866747302,
          1.2895543987640339,
          1.2841484268392012,
          1.2788455712278233,
          1.2736203610137196,
          1.2684921303772951,
          1.2634621803428616,
          1.2585219803170875,
          1.2536599051490562,
          1.2488361398414505,
          1.2440615779936728,
          1.2393700994863137,
          1.2347512485962473,
          1.2302110597663283,
          1.2257498803133964,
          1.2213556957907965,
          1.2170085408777243,
          1.2127317219621776,
          1.2084999263981016,
          1.20433694188726,
          1.2002324785234786,
          1.1961946836500092,
          1.1922164981383456,
          1.188288924507998,
          1.1844234432573466,
          1.1806159585290226,
          1.1768640418803362,
          1.1731633031587283,
          1.1695193793801095,
          1.165931942389112,
          1.1623838883597535,
          1.1588852811922334,
          1.1554374499803073,
          1.1520400394017816,
          1.148690643844078,
          1.1453907991238566,
          1.142139383931491,
          1.1389352876259877,
          1.135777403956701,
          1.1258586734441707,
          1.1181104651308722,
          1.112263556813504,
          1.1075295127568325,
          1.103466151666189,
          1.0998004553174419,
          1.0963887090376987,
          1.0931588314644247,
          1.0900630602156522,
          1.0870700456734104,
          1.0841598149240814,
          1.0813268275836683,
          1.0785621686863867,
          1.0758590225041977,
          1.073209852254617,
          1.0706122096910666,
          1.0680632755472266,
          1.0655593841551712,
          1.063098205134355,
          1.060678626414715,
          1.0582993001671166,
          1.0559591297317634,
          1.0536525121573634,
          1.05137176369287,
          1.0454920677405375,
          1.0407566158972361,
          1.0371361431396606,
          1.0341153319390244,
          1.0314088526419727,
          1.0289442202859516,
          1.0266354039198098,
          1.0244300365627685,
          1.0222963260405338,
          1.0202194224618673,
          1.0181755274184094,
          1.0161725413567673,
          1.0142067753755037,
          1.0122762656935465,
          1.0103803175987494,
          1.008519415625821,
          1.0066954730942828,
          1.004907291269083,
          1.0012758401036377,
          0.9938373274940905,
          0.9897064356169216,
          0.9869103755474357,
          0.9846559669139613,
          0.9826643246689475,
          0.9808084135971596,
          0.9790336525114395,
          0.9773031548972718,
          0.9756187083245325,
          0.973971629174485,
          0.9723562548064687,
          0.9707696781761032,
          0.9692094157422932,
          0.9676740247060843,
          0.9661618444597927,
          0.964671377247343,
          0.9632013660101253,
          0.9617507314037209,
          0.9603185164638464,
          0.9589038264405557,
          0.9575057381927414,
          0.9538400210154058,
          0.9512358148625412,
          0.9495167454209579,
          0.9481614041621413,
          0.9469249291915719,
          0.9456940005222947,
          0.9444633096871555,
          0.9432147230459915,
          0.941962265623032,
          0.9407059542409847,
          0.9394382347510088,
          0.9381742977809597,
          0.9369172046246452,
          0.9356691098423638,
          0.9344314346496367,
          0.9332050443259557,
          0.9319903998742906,
          0.9307876771109559,
          0.9295968612038369,
          0.9284152024893748,
          0.9272437985396352,
          0.9260834683546308,
          0.9249280892060288,
          0.9237823933299558,
          0.9226450230609619,
          0.9215167005446326,
          0.9203960558075487,
          0.9192845108077039,
          0.9181815689896065,
          0.9170866734054433,
          0.9159875197803107,
          0.9148917179970198,
          0.9137984953212154,
          0.9086557510538107,
          0.9039834460180091,
          0.9007644399642449,
          0.8983916722275459,
          0.8964868442034387,
          0.8948555301487547,
          0.8922051265999998,
          0.8885275470156561,
          0.886385716928906,
          0.8848822233122099,
          0.883623696243469,
          0.8824895222208423,
          0.8814196061799463,
          0.8803869470895374,
          0.8793757366692982,
          0.8783832921502864,
          0.8774061545741151,
          0.8764414403277813,
          0.8754886873503503,
          0.8745470886164441,
          0.873616073080906,
          0.8726936420293412,
          0.8717805046743864,
          0.8708752618526109,
          0.8699790311007666,
          0.8690915735318915,
          0.8682125794088362,
          0.8673417622257868,
          0.8664779927448865,
          0.86562131961481,
          0.8625399082698341,
          0.8607967615037855,
          0.8597045970509102,
          0.8588421998249945,
          0.8580537163279092,
          0.8572910794868459,
          0.8565380973198524,
          0.8557897624113284,
          0.8550455348213539,
          0.8543061651960666,
          0.853572605519462,
          0.8528456793870642,
          0.852124481734478,
          0.8514087622868146,
          0.8507012203481983,
          0.8500022006593279,
          0.8493120585892054,
          0.8486312125908513,
          0.8479602047227192,
          0.8472997826525208,
          0.8466510264628181,
          0.8460155696523849,
          0.8453960470497499,
          0.8442473465219856,
          0.8417370221500214,
          0.8401590065769152,
          0.8390273842768172,
          0.8381303217085555,
          0.8373596317458101,
          0.8366439124840698,
          0.8359712776618666,
          0.8353236999867187,
          0.8346927600718221,
          0.8340731557573101,
          0.8334619118157869,
          0.8328573450749253,
          0.8322584875199373,
          0.8316647789850266,
          0.8310759242649756,
          0.8304917599556276,
          0.8299111983291808,
          0.8293339970738894,
          0.8287613518737508,
          0.8281931208393726,
          0.8276288146439834,
          0.8270689344319009,
          0.8265133691237195,
          0.8259619303129477,
          0.8254142883175692,
          0.8248698322989211,
          0.8243273179281844,
          0.8229476227029338,
          0.8210456727070501,
          0.820288200027361,
          0.819829376758228,
          0.81943096941571,
          0.8190310260569353,
          0.8186183238021714,
          0.8181959499059832,
          0.8177603663127764,
          0.8162620189243428,
          0.8157367481248615,
          0.8154762591363546,
          0.8152525774112047,
          0.8149920848048428,
          0.8146831433224144,
          0.8139567414480949,
          0.8132797082873967,
          0.8129796700755821,
          0.8127170013753399,
          0.8124096353805693,
          0.8120498243765216,
          0.8116514965004865,
          0.8112298385745272,
          0.8107967503225085,
          0.8103571611379582,
          0.8099218397708874,
          0.8075030095769051,
          0.8062179207462045,
          0.8054629702316718,
          0.8049332208766017,
          0.8044776638794964,
          0.8040480722273704,
          0.8036296389467061,
          0.803217906661739,
          0.80281167537979,
          0.8024106890679726,
          0.8020150085526165,
          0.8016248867719032,
          0.8012407984724247,
          0.8008635614086301,
          0.800494599492821,
          0.8001359148820442,
          0.7997442044359928,
          0.7986097360123694,
          0.7981823571363924,
          0.7975900572799883,
          0.7963662240599744,
          0.7958594846875381,
          0.7955610124947984,
          0.7953141280009625,
          0.7946810085561414,
          0.792787091965238,
          0.791901323496962,
          0.7913586181485691,
          0.7909308651905435,
          0.7905353202570151,
          0.7901398185343605,
          0.7897297137143414,
          0.7889959063288148,
          0.7877157722150424,
          0.7869523041433214,
          0.7863552399714928,
          0.785902937506118,
          0.7855078024052694,
          0.7851316783905847,
          0.7847593138580357,
          0.7848435039000765,
          0.7851298480977708,
          0.7853401381443884,
          0.785473830233668,
          0.785566665601598,
          0.784201556510119,
          0.7826300177289283,
          0.7811828251420606,
          0.7804901607601853,
          0.7800861855231375,
          0.7797742512614266,
          0.7794886063402323,
          0.7792079328629102,
          0.7789257128928111,
          0.7782732704153127,
          0.7775172325254369,
          0.7771570999802501,
          0.776608143543697,
          0.7760718691269507,
          0.7756423065905074,
          0.7753587277411347,
          0.7754932384204214,
          0.7756718702853849,
          0.7756222701523966,
          0.7757402328064925,
          0.775837135131778,
          0.7758779780202338,
          0.7758717744943251,
          0.7758415311684148,
          0.7756078249645935,
          0.774399833495894,
          0.7739403336477035,
          0.7734982932851397,
          0.7729078975318349,
          0.7719633794263444,
          0.7713160185462284,
          0.7710369810256432,
          0.770875817678125,
          0.7707501329147305,
          0.7706469642249882,
          0.7693807264115524,
          0.7685081625365199,
          0.7683527354517271,
          0.7683332163993211,
          0.7683582499327302,
          0.7677678799239794,
          0.7676752587125824,
          0.7675978411911853,
          0.7677848066933987,
          0.7683043753411146,
          0.7686677940631826,
          0.7683050163819602,
          0.7677830524640425,
          0.7675946992999974,
          0.7674662064928606,
          0.7662130073491197,
          0.7645671005234164,
          0.7638657712135838,
          0.763752372188051,
          0.7637093909160698,
          0.7635706261454257,
          0.7634107089405054,
          0.7634848852245295,
          0.7638802294919473,
          0.7650545262104499,
          0.7654437277599887,
          0.7653282514126265,
          0.7653938639417686,
          0.7656984369021963,
          0.7650578208189757,
          0.7648839089607504,
          0.7648335961665014
         ],
         "yaxis": "y"
        },
        {
         "hovertemplate": "variable=test_RMSE<br>Epoch=%{x}<br>value=%{y}<extra></extra>",
         "legendgroup": "test_RMSE",
         "line": {
          "color": "#EF553B",
          "dash": "solid"
         },
         "mode": "lines",
         "name": "test_RMSE",
         "showlegend": true,
         "type": "scattergl",
         "x": [
          0,
          1,
          2,
          3,
          4,
          5,
          6,
          7,
          8,
          9,
          10,
          11,
          12,
          13,
          14,
          15,
          16,
          17,
          18,
          19,
          20,
          21,
          22,
          23,
          24,
          25,
          26,
          27,
          28,
          29,
          30,
          31,
          32,
          33,
          34,
          35,
          36,
          37,
          38,
          39,
          40,
          41,
          42,
          43,
          44,
          45,
          46,
          47,
          48,
          49,
          50,
          51,
          52,
          53,
          54,
          55,
          56,
          57,
          58,
          59,
          60,
          61,
          62,
          63,
          64,
          65,
          66,
          67,
          68,
          69,
          70,
          71,
          72,
          73,
          74,
          75,
          76,
          77,
          78,
          79,
          80,
          81,
          82,
          83,
          84,
          85,
          86,
          87,
          88,
          89,
          90,
          91,
          92,
          93,
          94,
          95,
          96,
          97,
          98,
          99,
          100,
          101,
          102,
          103,
          104,
          105,
          106,
          107,
          108,
          109,
          110,
          111,
          112,
          113,
          114,
          115,
          116,
          117,
          118,
          119,
          120,
          121,
          122,
          123,
          124,
          125,
          126,
          127,
          128,
          129,
          130,
          131,
          132,
          133,
          134,
          135,
          136,
          137,
          138,
          139,
          140,
          141,
          142,
          143,
          144,
          145,
          146,
          147,
          148,
          149,
          150,
          151,
          152,
          153,
          154,
          155,
          156,
          157,
          158,
          159,
          160,
          161,
          162,
          163,
          164,
          165,
          166,
          167,
          168,
          169,
          170,
          171,
          172,
          173,
          174,
          175,
          176,
          177,
          178,
          179,
          180,
          181,
          182,
          183,
          184,
          185,
          186,
          187,
          188,
          189,
          190,
          191,
          192,
          193,
          194,
          195,
          196,
          197,
          198,
          199,
          200,
          201,
          202,
          203,
          204,
          205,
          206,
          207,
          208,
          209,
          210,
          211,
          212,
          213,
          214,
          215,
          216,
          217,
          218,
          219,
          220,
          221,
          222,
          223,
          224,
          225,
          226,
          227,
          228,
          229,
          230,
          231,
          232,
          233,
          234,
          235,
          236,
          237,
          238,
          239,
          240,
          241,
          242,
          243,
          244,
          245,
          246,
          247,
          248,
          249,
          250,
          251,
          252,
          253,
          254,
          255,
          256,
          257,
          258,
          259,
          260,
          261,
          262,
          263,
          264,
          265,
          266,
          267,
          268,
          269,
          270,
          271,
          272,
          273,
          274,
          275,
          276,
          277,
          278,
          279,
          280,
          281,
          282,
          283,
          284,
          285,
          286,
          287,
          288,
          289,
          290,
          291,
          292,
          293,
          294,
          295,
          296,
          297,
          298,
          299,
          300,
          301,
          302,
          303,
          304,
          305,
          306,
          307,
          308,
          309,
          310,
          311,
          312,
          313,
          314,
          315,
          316,
          317,
          318,
          319,
          320,
          321,
          322,
          323,
          324,
          325,
          326,
          327,
          328,
          329,
          330,
          331,
          332,
          333,
          334,
          335,
          336,
          337,
          338,
          339,
          340,
          341,
          342,
          343,
          344,
          345,
          346,
          347,
          348,
          349,
          350,
          351,
          352,
          353,
          354,
          355,
          356,
          357,
          358,
          359,
          360,
          361,
          362,
          363,
          364,
          365,
          366,
          367,
          368,
          369,
          370,
          371,
          372,
          373,
          374,
          375,
          376,
          377,
          378,
          379,
          380,
          381,
          382,
          383,
          384,
          385,
          386,
          387,
          388,
          389,
          390,
          391,
          392,
          393,
          394,
          395,
          396,
          397,
          398,
          399,
          400,
          401,
          402,
          403,
          404,
          405,
          406,
          407,
          408,
          409,
          410,
          411,
          412,
          413,
          414,
          415,
          416,
          417,
          418,
          419,
          420,
          421,
          422,
          423,
          424,
          425,
          426,
          427,
          428,
          429,
          430,
          431,
          432,
          433,
          434,
          435,
          436,
          437,
          438,
          439,
          440,
          441,
          442,
          443,
          444,
          445,
          446,
          447,
          448,
          449,
          450,
          451,
          452,
          453,
          454,
          455,
          456,
          457,
          458,
          459
         ],
         "xaxis": "x",
         "y": [
          2.809910134799142,
          2.809910134799142,
          2.809910134799142,
          2.809910134799142,
          2.809910134799142,
          2.809910134799142,
          2.809910134799142,
          2.531031425969683,
          2.316195685664543,
          2.2128571428423185,
          2.150358535610719,
          2.10444908926154,
          2.0667227319746955,
          2.033267399628433,
          2.002477576669601,
          1.9734510492129438,
          1.9459905097940398,
          1.9198861957381268,
          1.8950257179920769,
          1.8712353927763634,
          1.848642376288107,
          1.8271197665572256,
          1.8064903111978006,
          1.7864468150829274,
          1.7671352309954091,
          1.7485831932922618,
          1.7307990326323006,
          1.7136837033698387,
          1.6971606463292068,
          1.6812423760267112,
          1.66580799648863,
          1.6508948944644564,
          1.636481613671822,
          1.6225595021826769,
          1.6091536804952429,
          1.5961908607377384,
          1.5836289771624987,
          1.5714457929000518,
          1.55957076166945,
          1.548021675944584,
          1.536761811880809,
          1.5258521965744434,
          1.515299404312812,
          1.5050023042386804,
          1.4949747943546516,
          1.485219589164134,
          1.4757141043761204,
          1.4664514316545514,
          1.4574312851109055,
          1.4349493855587299,
          1.4066044693346236,
          1.391989166150064,
          1.3820727892972622,
          1.3738146092837966,
          1.3662111410543443,
          1.358991533998008,
          1.3520855066190987,
          1.345441300866531,
          1.338961385039575,
          1.332652031980217,
          1.3265229039165198,
          1.3205706922184992,
          1.314777727740946,
          1.3091240974437535,
          1.3036199014561027,
          1.2982366444086855,
          1.2929611981568878,
          1.2878042725736554,
          1.2827661673964272,
          1.2778485732191303,
          1.2730309616046835,
          1.2683077067263386,
          1.263694057186965,
          1.2591774037060317,
          1.2547465031307854,
          1.2503792322390996,
          1.2460917066528454,
          1.2418815673473902,
          1.237753376618911,
          1.2337129240048186,
          1.229756870586616,
          1.22587550255709,
          1.2220689449750808,
          1.2183328476089728,
          1.2146731777819593,
          1.211088297051367,
          1.207570575054567,
          1.202947970422815,
          1.1946185906470588,
          1.188331899786202,
          1.183245763699861,
          1.1789269839270793,
          1.1750778165118676,
          1.1715374982802003,
          1.168225952539181,
          1.1650748948242249,
          1.1620394901008972,
          1.1591023044822488,
          1.1562533749038133,
          1.153479356601558,
          1.150771789327197,
          1.1481192790758035,
          1.1455233687135773,
          1.1429772410115244,
          1.1404763112086056,
          1.1380087287658658,
          1.1355854872109075,
          1.133202729805749,
          1.1308605445534932,
          1.1285478992996796,
          1.126273559299558,
          1.1240383357976993,
          1.1218386605555575,
          1.119669551764741,
          1.1175133734508282,
          1.1153750839935743,
          1.1132700029580935,
          1.111193614360813,
          1.1091487996505827,
          1.1071358906265285,
          1.1051496259741467,
          1.1031811006710206,
          1.1012409917734527,
          1.0993179369036519,
          1.0974228637527377,
          1.0955512213144023,
          1.0937068545318755,
          1.0918866690908657,
          1.0900866591734797,
          1.088312199351522,
          1.0865615300244265,
          1.0848336471000226,
          1.0831266330206861,
          1.0814431928585568,
          1.0797832849183728,
          1.0781390858139563,
          1.076515341828547,
          1.0749127638931018,
          1.0733312812928641,
          1.0717698651502001,
          1.0702293208111318,
          1.0687092139265437,
          1.0672091114800266,
          1.0657285789340085,
          1.0610648771136337,
          1.0574074262699653,
          1.0546390647105313,
          1.0523922808329755,
          1.0504599714725873,
          1.0487137146606988,
          1.0470858174178936,
          1.04554236234809,
          1.0440608508203209,
          1.0426265130301504,
          1.0412299529518354,
          1.0398686588140198,
          1.038538477229605,
          1.0372362423788506,
          1.035958422068481,
          1.0347039236859337,
          1.0334714681824684,
          1.0322593589574138,
          1.0310665376853014,
          1.0298925314879777,
          1.0287367496921245,
          1.0275987201878773,
          1.0264757728058482,
          1.0253642102652452,
          1.0224930648862796,
          1.02017479673693,
          1.01839881340252,
          1.0169146138880218,
          1.0155830112019266,
          1.0143688778181001,
          1.0132301830876387,
          1.012141312546212,
          1.0110867055008357,
          1.0100591183004424,
          1.009046841042778,
          1.008053838520923,
          1.0070783362656073,
          1.006119409261916,
          1.0051767593805327,
          1.004250673699461,
          1.003342151558621,
          1.0024506428094517,
          1.0006377167105174,
          0.9969139017458281,
          0.9948399045157575,
          0.9934336291607183,
          0.9922983255624094,
          0.9912942674448125,
          0.990357720016944,
          0.9894612940946399,
          0.9885864428047109,
          0.9877341283587059,
          0.9869000097145024,
          0.9860812617662241,
          0.9852764475902706,
          0.9844843400188208,
          0.9837042363973454,
          0.9829353205881823,
          0.9821768563997744,
          0.9814282276407813,
          0.9806889065364821,
          0.9799584258854283,
          0.9792363486107711,
          0.9785222216141755,
          0.9766473370748552,
          0.975313188090134,
          0.9744314985779954,
          0.9737357979257727,
          0.9731006778291607,
          0.9724679946004879,
          0.9718350218463808,
          0.9711924232848975,
          0.9705474051395079,
          0.9698999712552757,
          0.9692462198796593,
          0.9685939798393132,
          0.9679448355276479,
          0.9672999068760235,
          0.9666599374390338,
          0.9660253849283443,
          0.9653964987891196,
          0.9647733812201474,
          0.9641560357140523,
          0.9635430465160209,
          0.9629349918554394,
          0.962332306614836,
          0.9617318177153279,
          0.9611359910699192,
          0.9605441286380142,
          0.959956613886603,
          0.9593727408090917,
          0.9587932575939945,
          0.9582179131020284,
          0.9576464240028484,
          0.9570723691447323,
          0.9564997219011723,
          0.9559280806217669,
          0.9532343631310249,
          0.9507804404898162,
          0.9490861077711784,
          0.9478352558475265,
          0.9468298919042631,
          0.9459680386507542,
          0.9445661049391937,
          0.9426173916365304,
          0.9414805982753474,
          0.9406817864252555,
          0.9400126043003195,
          0.9394091346271028,
          0.9388394996909463,
          0.9382893727894063,
          0.9377503594610339,
          0.9372210476457976,
          0.9366996074377928,
          0.9361845119033861,
          0.9356755246079436,
          0.9351722240402802,
          0.9346743139088107,
          0.9341807330647219,
          0.9336918681633606,
          0.9332069769631016,
          0.9327266647312955,
          0.9322508104216867,
          0.9317792546568292,
          0.9313118501478368,
          0.9308479965842363,
          0.9303877254214019,
          0.9287302666920219,
          0.9277913351092397,
          0.9272025652741208,
          0.9267373952878963,
          0.9263118893374462,
          0.9259001455269601,
          0.9254934345093175,
          0.925089056475823,
          0.9246867225289622,
          0.9242868414058845,
          0.9238899314958801,
          0.9234964425416398,
          0.9231058886901751,
          0.9227181380501928,
          0.9223346574580173,
          0.921955639203605,
          0.9215812815965857,
          0.9212118174398607,
          0.9208475469493955,
          0.920488882416578,
          0.9201364173114865,
          0.9197910467341943,
          0.9194542115025358,
          0.9188293348179442,
          0.9174622728755779,
          0.9166018800858502,
          0.9159843799305845,
          0.9154945776510943,
          0.9150735663026279,
          0.9146824107219236,
          0.9143146491563321,
          0.9139604477146255,
          0.9136152144485238,
          0.9132760567086549,
          0.9129413517941812,
          0.912610182430004,
          0.9122820219208188,
          0.9119565663917479,
          0.911633656829856,
          0.9113132062883911,
          0.9109946203623712,
          0.9106777679694884,
          0.9103633076270983,
          0.9100511638580396,
          0.9097410701095029,
          0.9094333040041479,
          0.9091278068147072,
          0.9088244771752947,
          0.9085231358185488,
          0.9082234484414731,
          0.9079247314222608,
          0.9071646061784674,
          0.9061157060260296,
          0.905697631678123,
          0.9054442979875835,
          0.905224264707763,
          0.9050033293071,
          0.9047752891199955,
          0.9045418453040098,
          0.9043010374387372,
          0.903472201522738,
          0.9031814591347973,
          0.9030372412787606,
          0.9029133831166779,
          0.902769120431599,
          0.9025979965202751,
          0.9021955117645482,
          0.9018202194935511,
          0.9016538526926962,
          0.9015081815354422,
          0.9013376922000818,
          0.9011380717606606,
          0.9009170308638229,
          0.9006829845037194,
          0.9004425302719261,
          0.9001984009861149,
          0.8999565766029423,
          0.8986117123523959,
          0.8978963864200615,
          0.8974758883845693,
          0.897180706923974,
          0.8969267884724462,
          0.8966872767176807,
          0.8964539246089038,
          0.8962242502084726,
          0.8959975867042221,
          0.8957737934701889,
          0.8955529066183732,
          0.8953350695532389,
          0.8951205496872612,
          0.8949098062981711,
          0.8947036378001494,
          0.8945031665019662,
          0.8942841855003323,
          0.8936496718582564,
          0.8934105199382826,
          0.8930789759478096,
          0.8923935365408998,
          0.8921095698890008,
          0.891942269709648,
          0.8918038618446112,
          0.8914488255397174,
          0.8903859230497965,
          0.8898883769872276,
          0.8895833958368204,
          0.8893429401476932,
          0.8891205319061163,
          0.8888980923223767,
          0.8886673808092325,
          0.8882544153162509,
          0.8875335330087774,
          0.8871033221352073,
          0.8867667336856366,
          0.8865116680033703,
          0.8862887804803068,
          0.8860765646323036,
          0.8858664198726779,
          0.8859139370729396,
          0.8860755318243309,
          0.8861941876047192,
          0.886269614865402,
          0.8863219875426752,
          0.8855515549701887,
          0.8846637879606739,
          0.8838454758282471,
          0.8834535419365216,
          0.8832248782292862,
          0.8830482723279779,
          0.8828865195143895,
          0.882727553021265,
          0.8825676817631671,
          0.8821979768823508,
          0.8817693760419654,
          0.8815651422216342,
          0.8812537339175914,
          0.8809494134891916,
          0.8807055731574016,
          0.8805445631773186,
          0.880620939122175,
          0.8807223570940985,
          0.8806941978646144,
          0.8807611667225642,
          0.8808161755620625,
          0.8808393599404115,
          0.8808358385614911,
          0.8808186709921713,
          0.8806859968028296,
          0.8799999053953893,
          0.8797387871679317,
          0.8794875174129192,
          0.8791518057376865,
          0.8786144657506753,
          0.8782459897695113,
          0.8780871147133655,
          0.8779953403510322,
          0.8779237625868949,
          0.8778650034173753,
          0.8771435038872216,
          0.8766459733190588,
          0.8765573201175877,
          0.876546186118747,
          0.8765604656455425,
          0.8762236472065676,
          0.8761707931177473,
          0.8761266125345043,
          0.8762333060854276,
          0.8765297344306778,
          0.8767370153376568,
          0.8765301001003675,
          0.8762323050789913,
          0.8761248194749407,
          0.8760514862112047,
          0.875335939710646,
          0.8743952770477528,
          0.8739941482719342,
          0.873929271845297,
          0.8739046806809481,
          0.8738252835352304,
          0.8737337746364767,
          0.8737762214803797,
          0.8740024196144696,
          0.8746739542312038,
          0.8748964097308828,
          0.8748304129444898,
          0.8748679122826306,
          0.8750419629378904,
          0.8746758375643948,
          0.8745764168789085,
          0.8745476523131838
         ],
         "yaxis": "y"
        },
        {
         "hovertemplate": "variable=test_MAE<br>Epoch=%{x}<br>value=%{y}<extra></extra>",
         "legendgroup": "test_MAE",
         "line": {
          "color": "#00cc96",
          "dash": "solid"
         },
         "mode": "lines",
         "name": "test_MAE",
         "showlegend": true,
         "type": "scattergl",
         "x": [
          0,
          1,
          2,
          3,
          4,
          5,
          6,
          7,
          8,
          9,
          10,
          11,
          12,
          13,
          14,
          15,
          16,
          17,
          18,
          19,
          20,
          21,
          22,
          23,
          24,
          25,
          26,
          27,
          28,
          29,
          30,
          31,
          32,
          33,
          34,
          35,
          36,
          37,
          38,
          39,
          40,
          41,
          42,
          43,
          44,
          45,
          46,
          47,
          48,
          49,
          50,
          51,
          52,
          53,
          54,
          55,
          56,
          57,
          58,
          59,
          60,
          61,
          62,
          63,
          64,
          65,
          66,
          67,
          68,
          69,
          70,
          71,
          72,
          73,
          74,
          75,
          76,
          77,
          78,
          79,
          80,
          81,
          82,
          83,
          84,
          85,
          86,
          87,
          88,
          89,
          90,
          91,
          92,
          93,
          94,
          95,
          96,
          97,
          98,
          99,
          100,
          101,
          102,
          103,
          104,
          105,
          106,
          107,
          108,
          109,
          110,
          111,
          112,
          113,
          114,
          115,
          116,
          117,
          118,
          119,
          120,
          121,
          122,
          123,
          124,
          125,
          126,
          127,
          128,
          129,
          130,
          131,
          132,
          133,
          134,
          135,
          136,
          137,
          138,
          139,
          140,
          141,
          142,
          143,
          144,
          145,
          146,
          147,
          148,
          149,
          150,
          151,
          152,
          153,
          154,
          155,
          156,
          157,
          158,
          159,
          160,
          161,
          162,
          163,
          164,
          165,
          166,
          167,
          168,
          169,
          170,
          171,
          172,
          173,
          174,
          175,
          176,
          177,
          178,
          179,
          180,
          181,
          182,
          183,
          184,
          185,
          186,
          187,
          188,
          189,
          190,
          191,
          192,
          193,
          194,
          195,
          196,
          197,
          198,
          199,
          200,
          201,
          202,
          203,
          204,
          205,
          206,
          207,
          208,
          209,
          210,
          211,
          212,
          213,
          214,
          215,
          216,
          217,
          218,
          219,
          220,
          221,
          222,
          223,
          224,
          225,
          226,
          227,
          228,
          229,
          230,
          231,
          232,
          233,
          234,
          235,
          236,
          237,
          238,
          239,
          240,
          241,
          242,
          243,
          244,
          245,
          246,
          247,
          248,
          249,
          250,
          251,
          252,
          253,
          254,
          255,
          256,
          257,
          258,
          259,
          260,
          261,
          262,
          263,
          264,
          265,
          266,
          267,
          268,
          269,
          270,
          271,
          272,
          273,
          274,
          275,
          276,
          277,
          278,
          279,
          280,
          281,
          282,
          283,
          284,
          285,
          286,
          287,
          288,
          289,
          290,
          291,
          292,
          293,
          294,
          295,
          296,
          297,
          298,
          299,
          300,
          301,
          302,
          303,
          304,
          305,
          306,
          307,
          308,
          309,
          310,
          311,
          312,
          313,
          314,
          315,
          316,
          317,
          318,
          319,
          320,
          321,
          322,
          323,
          324,
          325,
          326,
          327,
          328,
          329,
          330,
          331,
          332,
          333,
          334,
          335,
          336,
          337,
          338,
          339,
          340,
          341,
          342,
          343,
          344,
          345,
          346,
          347,
          348,
          349,
          350,
          351,
          352,
          353,
          354,
          355,
          356,
          357,
          358,
          359,
          360,
          361,
          362,
          363,
          364,
          365,
          366,
          367,
          368,
          369,
          370,
          371,
          372,
          373,
          374,
          375,
          376,
          377,
          378,
          379,
          380,
          381,
          382,
          383,
          384,
          385,
          386,
          387,
          388,
          389,
          390,
          391,
          392,
          393,
          394,
          395,
          396,
          397,
          398,
          399,
          400,
          401,
          402,
          403,
          404,
          405,
          406,
          407,
          408,
          409,
          410,
          411,
          412,
          413,
          414,
          415,
          416,
          417,
          418,
          419,
          420,
          421,
          422,
          423,
          424,
          425,
          426,
          427,
          428,
          429,
          430,
          431,
          432,
          433,
          434,
          435,
          436,
          437,
          438,
          439,
          440,
          441,
          442,
          443,
          444,
          445,
          446,
          447,
          448,
          449,
          450,
          451,
          452,
          453,
          454,
          455,
          456,
          457,
          458,
          459
         ],
         "xaxis": "x",
         "y": [
          2.580359848893686,
          2.580359848893686,
          2.580359848893686,
          2.580359848893686,
          2.580359848893686,
          2.580359848893686,
          2.580359848893686,
          2.2639916468481025,
          2.009827807987145,
          1.8912121359923075,
          1.8210959987158346,
          1.770545165696935,
          1.7298036114405073,
          1.6944821780244994,
          1.6623734993764199,
          1.632370811001019,
          1.6042506415849778,
          1.5775669176917766,
          1.5522285245305674,
          1.5278381986282392,
          1.5050497025461802,
          1.4836681765693138,
          1.4634940581526272,
          1.4441297736804564,
          1.4257229814044552,
          1.4081041286619527,
          1.3911996581985484,
          1.3749306677005226,
          1.3593886915845943,
          1.3445880989079735,
          1.3302826463843591,
          1.316573534302631,
          1.303426528168874,
          1.2907799210203,
          1.2786155486766266,
          1.266805326655004,
          1.2553327790921611,
          1.2442217574261267,
          1.2334957800411626,
          1.2231033066260009,
          1.2129756559789333,
          1.2031665575833932,
          1.1937025582212604,
          1.1845517411377562,
          1.1757078738327778,
          1.1670780790746085,
          1.1586575061638906,
          1.1505147256385828,
          1.142565960279043,
          1.120459487628999,
          1.093388840339001,
          1.0782956807585984,
          1.068451087483783,
          1.0607369305157452,
          1.0539750271848656,
          1.0477102176054955,
          1.0418322182861322,
          1.0363094366766639,
          1.0310155537505759,
          1.0258623303479835,
          1.0208651818813679,
          1.0160233530718152,
          1.0113316360194509,
          1.0067962435979025,
          1.002390148649352,
          0.9980696519711942,
          0.9938295698325954,
          0.9896759917218951,
          0.9856335302891069,
          0.981711318454449,
          0.9778825587529011,
          0.974175154965588,
          0.9705460416155179,
          0.9670830046024923,
          0.9637325520305272,
          0.9604382182383026,
          0.9571772199483392,
          0.9539806092107851,
          0.950867757061566,
          0.9478097496441508,
          0.9448073841037913,
          0.9418864285505828,
          0.9390494136919108,
          0.9362661688546836,
          0.9335266113069305,
          0.9308367439125781,
          0.9281984125040479,
          0.9242901001276661,
          0.9162077349123255,
          0.9110738242243186,
          0.9074470439138588,
          0.9043556201974632,
          0.9017029174874984,
          0.8992661970287001,
          0.8969151912209269,
          0.8946447903791289,
          0.8924421772424125,
          0.8903114681203852,
          0.8882300553874939,
          0.8861837079571436,
          0.884199776251171,
          0.8822658995862981,
          0.8803830194650254,
          0.8785495128952407,
          0.8767453667379513,
          0.8749714848913923,
          0.8732323847756522,
          0.871536152016143,
          0.8698696163303928,
          0.8682287307068393,
          0.8666033384757357,
          0.8650038936163535,
          0.8634360131499837,
          0.8618856448219913,
          0.8603499815693125,
          0.8588234250098187,
          0.8573155596538276,
          0.8558282996066526,
          0.8543562974958175,
          0.8529020853107706,
          0.8514668080971339,
          0.8500651185156876,
          0.8486865996044646,
          0.8473338236218105,
          0.8460102450741902,
          0.8447002484771592,
          0.8434044124860124,
          0.8421272153235677,
          0.8408664441811088,
          0.8396168927090113,
          0.8383772225293072,
          0.8371549006963833,
          0.8359423815155668,
          0.834749629670191,
          0.8335763099801816,
          0.8324184122407305,
          0.831275531206085,
          0.8301436779976071,
          0.8290228739714177,
          0.8279130086385849,
          0.8268178446769571,
          0.8257331817066904,
          0.8246637268986898,
          0.8236162730667193,
          0.8198346535965069,
          0.8169403711063894,
          0.8147628292144667,
          0.8129749122051635,
          0.8114834214470182,
          0.810191857982683,
          0.8090063770643656,
          0.807869980951553,
          0.806785036675321,
          0.8057346394680153,
          0.8047091310658123,
          0.803708716659442,
          0.802729611436714,
          0.801771429801593,
          0.8008247781173242,
          0.7998899045504986,
          0.7989851681634069,
          0.7980928791446317,
          0.7972173316558163,
          0.7963525327645843,
          0.7954970388103572,
          0.7946533646355011,
          0.7938239869294327,
          0.792999596594554,
          0.7909522100024787,
          0.7894374197417768,
          0.7882715702631501,
          0.7873049312828028,
          0.7864768890674985,
          0.7857480971573093,
          0.7850591625966713,
          0.7843802826417681,
          0.7837102562376395,
          0.7830506646154545,
          0.7823911260003702,
          0.7817394410931555,
          0.7810955598238642,
          0.7804553328796655,
          0.7798197989931864,
          0.7791958119083019,
          0.7785902413192453,
          0.7780010930078233,
          0.7767319128106944,
          0.774086559875156,
          0.7725680818220766,
          0.7714168016471535,
          0.7704899327062605,
          0.7696789970664885,
          0.7689371911935564,
          0.7682623521582777,
          0.7676197663638561,
          0.7670100553944998,
          0.7664261895246389,
          0.765853426903801,
          0.7652924221187758,
          0.7647418477119742,
          0.7642019325957825,
          0.7636683240465008,
          0.7631399736302589,
          0.7626176822636974,
          0.7620998634582999,
          0.7615868602216926,
          0.761077632113346,
          0.7605706387362081,
          0.7587461234923619,
          0.7574083009349787,
          0.7565088925132454,
          0.7558038512534454,
          0.7551873467398077,
          0.754627322085097,
          0.7541332326751604,
          0.7536609003740937,
          0.753187460540456,
          0.7527241187046897,
          0.7522586964261282,
          0.7517932058970693,
          0.751325498050597,
          0.7508578080831455,
          0.7503966384099279,
          0.7499387790072313,
          0.7494845763128892,
          0.7490351514549469,
          0.7485938174900415,
          0.7481557149608883,
          0.7477224019521082,
          0.7472902971205052,
          0.7468594448248661,
          0.7464319786072583,
          0.7460094667359707,
          0.7455894443668126,
          0.745171011947099,
          0.7447530422715996,
          0.7443375861745642,
          0.7439255580024107,
          0.743514131315967,
          0.743101467642825,
          0.7426869881402468,
          0.7404671928344828,
          0.7385806838737033,
          0.7373381331097124,
          0.7364482435449796,
          0.735759812415792,
          0.735164908110406,
          0.7337930822046299,
          0.7314988640696318,
          0.7304374009335322,
          0.7298266651243773,
          0.7293558346101012,
          0.7289426564756328,
          0.7285665389664852,
          0.7282029685230702,
          0.7278439099314254,
          0.7274893382313766,
          0.727137927489751,
          0.7267948611590763,
          0.7264526512440005,
          0.7261116642422943,
          0.7257698498755344,
          0.7254277613464488,
          0.7250870139286502,
          0.7247480311299972,
          0.7244235156077053,
          0.7241035332045797,
          0.7237854472225885,
          0.7234654150718378,
          0.7231421654740947,
          0.7228133971338843,
          0.7211309121520251,
          0.7202175851507674,
          0.7197408803932325,
          0.7193846467208912,
          0.7190659942372564,
          0.718757071088384,
          0.7184504846081523,
          0.7181480239392584,
          0.7178534635244358,
          0.7175700235237861,
          0.7172914827925729,
          0.7170169772240804,
          0.7167455351579866,
          0.716478040463238,
          0.7162147583155134,
          0.7159590666111393,
          0.7157095767856703,
          0.715463947523692,
          0.71522318836997,
          0.7149877629371684,
          0.714761344502682,
          0.7145442216594076,
          0.7143323705463357,
          0.7138178668757361,
          0.7124958990832612,
          0.7116911008791911,
          0.7111781581707938,
          0.710770291094536,
          0.7104214994100416,
          0.7101054155400216,
          0.7098216789660912,
          0.7095654558268907,
          0.7093405656993871,
          0.7091300034358564,
          0.7089226499608163,
          0.7087162491608071,
          0.708511460861082,
          0.7083062095233992,
          0.708099922256181,
          0.7078927544993446,
          0.7076864722517027,
          0.7074808736468714,
          0.7072756997771389,
          0.7070719130822739,
          0.706867982039528,
          0.7066645686317029,
          0.706461459427483,
          0.7062609756574688,
          0.7060616117932779,
          0.7058628253013353,
          0.7056692080918366,
          0.7052075551205716,
          0.7045853550599213,
          0.7044246731203896,
          0.7043018147995185,
          0.7041961637096795,
          0.7040862741687041,
          0.7039611832018445,
          0.7038272322293737,
          0.7036897005507539,
          0.7028390425223652,
          0.7024630228974842,
          0.7022206899520718,
          0.7020438706213159,
          0.7019035101855782,
          0.7017542962433072,
          0.7013370287589598,
          0.7011774288289027,
          0.7011236187758147,
          0.7010807759705261,
          0.7009973660502703,
          0.7008784940989522,
          0.7007331690729248,
          0.7005749878363339,
          0.7004071018514595,
          0.7002344980972882,
          0.7000591189119304,
          0.6985785762249929,
          0.6977198529854468,
          0.6971680566358602,
          0.6968462497613083,
          0.696619444880609,
          0.6964249382445427,
          0.69624886308081,
          0.6960826132031379,
          0.6959200124905421,
          0.6957614345965146,
          0.6956053827299871,
          0.6954514698113113,
          0.6952983056858557,
          0.695145631027383,
          0.6949935579877174,
          0.6948413795829219,
          0.694673201688878,
          0.6944780139708969,
          0.6944466813151894,
          0.6941816101862862,
          0.6934088120693618,
          0.6930589492633953,
          0.6929058154305094,
          0.6928150391359432,
          0.6925966697547452,
          0.6921551686378056,
          0.691941483482693,
          0.6918128292287181,
          0.6917445711227501,
          0.6916706643971002,
          0.6915872404330328,
          0.691491043625911,
          0.6913223403324631,
          0.6910541381892422,
          0.6908910651250758,
          0.6907451623743577,
          0.6906228755594604,
          0.6905141374900181,
          0.6904043958903948,
          0.6903161929879832,
          0.6906838566306799,
          0.6910603421761667,
          0.6913142650202909,
          0.6914767886106045,
          0.6916067135523998,
          0.6911714889589237,
          0.6905849750049424,
          0.6898138004940974,
          0.6894495844077493,
          0.6892606192174757,
          0.6891068822624953,
          0.688965636609473,
          0.6888255660272163,
          0.6886885763979537,
          0.6884061115785959,
          0.688351915160757,
          0.6883512277682563,
          0.6883014224404462,
          0.6882048681926486,
          0.6880972920406204,
          0.6880570068727943,
          0.6882526107899505,
          0.6883882839674296,
          0.6884695133191037,
          0.688590460859882,
          0.6886545980595294,
          0.688699668549064,
          0.6887239090680307,
          0.6887335822987976,
          0.688671832246225,
          0.6882919221939127,
          0.6880610767027585,
          0.6877625321763299,
          0.6873229037729408,
          0.6867201422677209,
          0.6863299205216358,
          0.6861210599421945,
          0.6859896278523981,
          0.6859044738318576,
          0.6858351234389868,
          0.6853933751321369,
          0.6850994925072786,
          0.6850597065507421,
          0.6851187614518937,
          0.6851749190453765,
          0.6845885156206046,
          0.6842794423400084,
          0.6840436493822676,
          0.683995421367876,
          0.6840107603392719,
          0.6840417938237888,
          0.6837994733119911,
          0.6835917922560393,
          0.6834310446821643,
          0.6833039895580694,
          0.6827304796503199,
          0.6819741957549809,
          0.681362988231526,
          0.6810391862607946,
          0.6808802448242374,
          0.680788397533136,
          0.6808520080696153,
          0.680870675896755,
          0.6809079663561236,
          0.6809720683000962,
          0.6808990535558802,
          0.6807322294227701,
          0.6806061527466271,
          0.6803660845896644,
          0.6799694844090298,
          0.6798088613444851,
          0.6797379133227863
         ],
         "yaxis": "y"
        }
       ],
       "layout": {
        "font": {
         "family": "Courier New, monospace",
         "size": 18
        },
        "hoverlabel": {
         "font": {
          "family": "Rockwell",
          "size": 12
         }
        },
        "legend": {
         "title": {
          "text": "variable"
         },
         "tracegroupgap": 0
        },
        "margin": {
         "t": 60
        },
        "template": {
         "data": {
          "bar": [
           {
            "error_x": {
             "color": "#2a3f5f"
            },
            "error_y": {
             "color": "#2a3f5f"
            },
            "marker": {
             "line": {
              "color": "#E5ECF6",
              "width": 0.5
             }
            },
            "type": "bar"
           }
          ],
          "barpolar": [
           {
            "marker": {
             "line": {
              "color": "#E5ECF6",
              "width": 0.5
             }
            },
            "type": "barpolar"
           }
          ],
          "carpet": [
           {
            "aaxis": {
             "endlinecolor": "#2a3f5f",
             "gridcolor": "white",
             "linecolor": "white",
             "minorgridcolor": "white",
             "startlinecolor": "#2a3f5f"
            },
            "baxis": {
             "endlinecolor": "#2a3f5f",
             "gridcolor": "white",
             "linecolor": "white",
             "minorgridcolor": "white",
             "startlinecolor": "#2a3f5f"
            },
            "type": "carpet"
           }
          ],
          "choropleth": [
           {
            "colorbar": {
             "outlinewidth": 0,
             "ticks": ""
            },
            "type": "choropleth"
           }
          ],
          "contour": [
           {
            "colorbar": {
             "outlinewidth": 0,
             "ticks": ""
            },
            "colorscale": [
             [
              0,
              "#0d0887"
             ],
             [
              0.1111111111111111,
              "#46039f"
             ],
             [
              0.2222222222222222,
              "#7201a8"
             ],
             [
              0.3333333333333333,
              "#9c179e"
             ],
             [
              0.4444444444444444,
              "#bd3786"
             ],
             [
              0.5555555555555556,
              "#d8576b"
             ],
             [
              0.6666666666666666,
              "#ed7953"
             ],
             [
              0.7777777777777778,
              "#fb9f3a"
             ],
             [
              0.8888888888888888,
              "#fdca26"
             ],
             [
              1,
              "#f0f921"
             ]
            ],
            "type": "contour"
           }
          ],
          "contourcarpet": [
           {
            "colorbar": {
             "outlinewidth": 0,
             "ticks": ""
            },
            "type": "contourcarpet"
           }
          ],
          "heatmap": [
           {
            "colorbar": {
             "outlinewidth": 0,
             "ticks": ""
            },
            "colorscale": [
             [
              0,
              "#0d0887"
             ],
             [
              0.1111111111111111,
              "#46039f"
             ],
             [
              0.2222222222222222,
              "#7201a8"
             ],
             [
              0.3333333333333333,
              "#9c179e"
             ],
             [
              0.4444444444444444,
              "#bd3786"
             ],
             [
              0.5555555555555556,
              "#d8576b"
             ],
             [
              0.6666666666666666,
              "#ed7953"
             ],
             [
              0.7777777777777778,
              "#fb9f3a"
             ],
             [
              0.8888888888888888,
              "#fdca26"
             ],
             [
              1,
              "#f0f921"
             ]
            ],
            "type": "heatmap"
           }
          ],
          "heatmapgl": [
           {
            "colorbar": {
             "outlinewidth": 0,
             "ticks": ""
            },
            "colorscale": [
             [
              0,
              "#0d0887"
             ],
             [
              0.1111111111111111,
              "#46039f"
             ],
             [
              0.2222222222222222,
              "#7201a8"
             ],
             [
              0.3333333333333333,
              "#9c179e"
             ],
             [
              0.4444444444444444,
              "#bd3786"
             ],
             [
              0.5555555555555556,
              "#d8576b"
             ],
             [
              0.6666666666666666,
              "#ed7953"
             ],
             [
              0.7777777777777778,
              "#fb9f3a"
             ],
             [
              0.8888888888888888,
              "#fdca26"
             ],
             [
              1,
              "#f0f921"
             ]
            ],
            "type": "heatmapgl"
           }
          ],
          "histogram": [
           {
            "marker": {
             "colorbar": {
              "outlinewidth": 0,
              "ticks": ""
             }
            },
            "type": "histogram"
           }
          ],
          "histogram2d": [
           {
            "colorbar": {
             "outlinewidth": 0,
             "ticks": ""
            },
            "colorscale": [
             [
              0,
              "#0d0887"
             ],
             [
              0.1111111111111111,
              "#46039f"
             ],
             [
              0.2222222222222222,
              "#7201a8"
             ],
             [
              0.3333333333333333,
              "#9c179e"
             ],
             [
              0.4444444444444444,
              "#bd3786"
             ],
             [
              0.5555555555555556,
              "#d8576b"
             ],
             [
              0.6666666666666666,
              "#ed7953"
             ],
             [
              0.7777777777777778,
              "#fb9f3a"
             ],
             [
              0.8888888888888888,
              "#fdca26"
             ],
             [
              1,
              "#f0f921"
             ]
            ],
            "type": "histogram2d"
           }
          ],
          "histogram2dcontour": [
           {
            "colorbar": {
             "outlinewidth": 0,
             "ticks": ""
            },
            "colorscale": [
             [
              0,
              "#0d0887"
             ],
             [
              0.1111111111111111,
              "#46039f"
             ],
             [
              0.2222222222222222,
              "#7201a8"
             ],
             [
              0.3333333333333333,
              "#9c179e"
             ],
             [
              0.4444444444444444,
              "#bd3786"
             ],
             [
              0.5555555555555556,
              "#d8576b"
             ],
             [
              0.6666666666666666,
              "#ed7953"
             ],
             [
              0.7777777777777778,
              "#fb9f3a"
             ],
             [
              0.8888888888888888,
              "#fdca26"
             ],
             [
              1,
              "#f0f921"
             ]
            ],
            "type": "histogram2dcontour"
           }
          ],
          "mesh3d": [
           {
            "colorbar": {
             "outlinewidth": 0,
             "ticks": ""
            },
            "type": "mesh3d"
           }
          ],
          "parcoords": [
           {
            "line": {
             "colorbar": {
              "outlinewidth": 0,
              "ticks": ""
             }
            },
            "type": "parcoords"
           }
          ],
          "pie": [
           {
            "automargin": true,
            "type": "pie"
           }
          ],
          "scatter": [
           {
            "marker": {
             "colorbar": {
              "outlinewidth": 0,
              "ticks": ""
             }
            },
            "type": "scatter"
           }
          ],
          "scatter3d": [
           {
            "line": {
             "colorbar": {
              "outlinewidth": 0,
              "ticks": ""
             }
            },
            "marker": {
             "colorbar": {
              "outlinewidth": 0,
              "ticks": ""
             }
            },
            "type": "scatter3d"
           }
          ],
          "scattercarpet": [
           {
            "marker": {
             "colorbar": {
              "outlinewidth": 0,
              "ticks": ""
             }
            },
            "type": "scattercarpet"
           }
          ],
          "scattergeo": [
           {
            "marker": {
             "colorbar": {
              "outlinewidth": 0,
              "ticks": ""
             }
            },
            "type": "scattergeo"
           }
          ],
          "scattergl": [
           {
            "marker": {
             "colorbar": {
              "outlinewidth": 0,
              "ticks": ""
             }
            },
            "type": "scattergl"
           }
          ],
          "scattermapbox": [
           {
            "marker": {
             "colorbar": {
              "outlinewidth": 0,
              "ticks": ""
             }
            },
            "type": "scattermapbox"
           }
          ],
          "scatterpolar": [
           {
            "marker": {
             "colorbar": {
              "outlinewidth": 0,
              "ticks": ""
             }
            },
            "type": "scatterpolar"
           }
          ],
          "scatterpolargl": [
           {
            "marker": {
             "colorbar": {
              "outlinewidth": 0,
              "ticks": ""
             }
            },
            "type": "scatterpolargl"
           }
          ],
          "scatterternary": [
           {
            "marker": {
             "colorbar": {
              "outlinewidth": 0,
              "ticks": ""
             }
            },
            "type": "scatterternary"
           }
          ],
          "surface": [
           {
            "colorbar": {
             "outlinewidth": 0,
             "ticks": ""
            },
            "colorscale": [
             [
              0,
              "#0d0887"
             ],
             [
              0.1111111111111111,
              "#46039f"
             ],
             [
              0.2222222222222222,
              "#7201a8"
             ],
             [
              0.3333333333333333,
              "#9c179e"
             ],
             [
              0.4444444444444444,
              "#bd3786"
             ],
             [
              0.5555555555555556,
              "#d8576b"
             ],
             [
              0.6666666666666666,
              "#ed7953"
             ],
             [
              0.7777777777777778,
              "#fb9f3a"
             ],
             [
              0.8888888888888888,
              "#fdca26"
             ],
             [
              1,
              "#f0f921"
             ]
            ],
            "type": "surface"
           }
          ],
          "table": [
           {
            "cells": {
             "fill": {
              "color": "#EBF0F8"
             },
             "line": {
              "color": "white"
             }
            },
            "header": {
             "fill": {
              "color": "#C8D4E3"
             },
             "line": {
              "color": "white"
             }
            },
            "type": "table"
           }
          ]
         },
         "layout": {
          "annotationdefaults": {
           "arrowcolor": "#2a3f5f",
           "arrowhead": 0,
           "arrowwidth": 1
          },
          "autotypenumbers": "strict",
          "coloraxis": {
           "colorbar": {
            "outlinewidth": 0,
            "ticks": ""
           }
          },
          "colorscale": {
           "diverging": [
            [
             0,
             "#8e0152"
            ],
            [
             0.1,
             "#c51b7d"
            ],
            [
             0.2,
             "#de77ae"
            ],
            [
             0.3,
             "#f1b6da"
            ],
            [
             0.4,
             "#fde0ef"
            ],
            [
             0.5,
             "#f7f7f7"
            ],
            [
             0.6,
             "#e6f5d0"
            ],
            [
             0.7,
             "#b8e186"
            ],
            [
             0.8,
             "#7fbc41"
            ],
            [
             0.9,
             "#4d9221"
            ],
            [
             1,
             "#276419"
            ]
           ],
           "sequential": [
            [
             0,
             "#0d0887"
            ],
            [
             0.1111111111111111,
             "#46039f"
            ],
            [
             0.2222222222222222,
             "#7201a8"
            ],
            [
             0.3333333333333333,
             "#9c179e"
            ],
            [
             0.4444444444444444,
             "#bd3786"
            ],
            [
             0.5555555555555556,
             "#d8576b"
            ],
            [
             0.6666666666666666,
             "#ed7953"
            ],
            [
             0.7777777777777778,
             "#fb9f3a"
            ],
            [
             0.8888888888888888,
             "#fdca26"
            ],
            [
             1,
             "#f0f921"
            ]
           ],
           "sequentialminus": [
            [
             0,
             "#0d0887"
            ],
            [
             0.1111111111111111,
             "#46039f"
            ],
            [
             0.2222222222222222,
             "#7201a8"
            ],
            [
             0.3333333333333333,
             "#9c179e"
            ],
            [
             0.4444444444444444,
             "#bd3786"
            ],
            [
             0.5555555555555556,
             "#d8576b"
            ],
            [
             0.6666666666666666,
             "#ed7953"
            ],
            [
             0.7777777777777778,
             "#fb9f3a"
            ],
            [
             0.8888888888888888,
             "#fdca26"
            ],
            [
             1,
             "#f0f921"
            ]
           ]
          },
          "colorway": [
           "#636efa",
           "#EF553B",
           "#00cc96",
           "#ab63fa",
           "#FFA15A",
           "#19d3f3",
           "#FF6692",
           "#B6E880",
           "#FF97FF",
           "#FECB52"
          ],
          "font": {
           "color": "#2a3f5f"
          },
          "geo": {
           "bgcolor": "white",
           "lakecolor": "white",
           "landcolor": "#E5ECF6",
           "showlakes": true,
           "showland": true,
           "subunitcolor": "white"
          },
          "hoverlabel": {
           "align": "left"
          },
          "hovermode": "closest",
          "mapbox": {
           "style": "light"
          },
          "paper_bgcolor": "white",
          "plot_bgcolor": "#E5ECF6",
          "polar": {
           "angularaxis": {
            "gridcolor": "white",
            "linecolor": "white",
            "ticks": ""
           },
           "bgcolor": "#E5ECF6",
           "radialaxis": {
            "gridcolor": "white",
            "linecolor": "white",
            "ticks": ""
           }
          },
          "scene": {
           "xaxis": {
            "backgroundcolor": "#E5ECF6",
            "gridcolor": "white",
            "gridwidth": 2,
            "linecolor": "white",
            "showbackground": true,
            "ticks": "",
            "zerolinecolor": "white"
           },
           "yaxis": {
            "backgroundcolor": "#E5ECF6",
            "gridcolor": "white",
            "gridwidth": 2,
            "linecolor": "white",
            "showbackground": true,
            "ticks": "",
            "zerolinecolor": "white"
           },
           "zaxis": {
            "backgroundcolor": "#E5ECF6",
            "gridcolor": "white",
            "gridwidth": 2,
            "linecolor": "white",
            "showbackground": true,
            "ticks": "",
            "zerolinecolor": "white"
           }
          },
          "shapedefaults": {
           "line": {
            "color": "#2a3f5f"
           }
          },
          "ternary": {
           "aaxis": {
            "gridcolor": "white",
            "linecolor": "white",
            "ticks": ""
           },
           "baxis": {
            "gridcolor": "white",
            "linecolor": "white",
            "ticks": ""
           },
           "bgcolor": "#E5ECF6",
           "caxis": {
            "gridcolor": "white",
            "linecolor": "white",
            "ticks": ""
           }
          },
          "title": {
           "x": 0.05
          },
          "xaxis": {
           "automargin": true,
           "gridcolor": "white",
           "linecolor": "white",
           "ticks": "",
           "title": {
            "standoff": 15
           },
           "zerolinecolor": "white",
           "zerolinewidth": 2
          },
          "yaxis": {
           "automargin": true,
           "gridcolor": "white",
           "linecolor": "white",
           "ticks": "",
           "title": {
            "standoff": 15
           },
           "zerolinecolor": "white",
           "zerolinewidth": 2
          }
         }
        },
        "xaxis": {
         "anchor": "y",
         "domain": [
          0,
          1
         ],
         "showspikes": true,
         "title": {
          "text": "Epoch"
         }
        },
        "yaxis": {
         "anchor": "x",
         "domain": [
          0,
          1
         ],
         "title": {
          "text": "value"
         }
        }
       }
      },
      "text/html": [
       "<div>                            <div id=\"f02a699d-18bc-4d70-a070-9faa15c46996\" class=\"plotly-graph-div\" style=\"height:525px; width:100%;\"></div>            <script type=\"text/javascript\">                require([\"plotly\"], function(Plotly) {                    window.PLOTLYENV=window.PLOTLYENV || {};                                    if (document.getElementById(\"f02a699d-18bc-4d70-a070-9faa15c46996\")) {                    Plotly.newPlot(                        \"f02a699d-18bc-4d70-a070-9faa15c46996\",                        [{\"hovertemplate\": \"variable=test_Loss<br>Epoch=%{x}<br>value=%{y}<extra></extra>\", \"legendgroup\": \"test_Loss\", \"line\": {\"color\": \"#636efa\", \"dash\": \"solid\"}, \"mode\": \"lines\", \"name\": \"test_Loss\", \"showlegend\": true, \"type\": \"scattergl\", \"x\": [0, 1, 2, 3, 4, 5, 6, 7, 8, 9, 10, 11, 12, 13, 14, 15, 16, 17, 18, 19, 20, 21, 22, 23, 24, 25, 26, 27, 28, 29, 30, 31, 32, 33, 34, 35, 36, 37, 38, 39, 40, 41, 42, 43, 44, 45, 46, 47, 48, 49, 50, 51, 52, 53, 54, 55, 56, 57, 58, 59, 60, 61, 62, 63, 64, 65, 66, 67, 68, 69, 70, 71, 72, 73, 74, 75, 76, 77, 78, 79, 80, 81, 82, 83, 84, 85, 86, 87, 88, 89, 90, 91, 92, 93, 94, 95, 96, 97, 98, 99, 100, 101, 102, 103, 104, 105, 106, 107, 108, 109, 110, 111, 112, 113, 114, 115, 116, 117, 118, 119, 120, 121, 122, 123, 124, 125, 126, 127, 128, 129, 130, 131, 132, 133, 134, 135, 136, 137, 138, 139, 140, 141, 142, 143, 144, 145, 146, 147, 148, 149, 150, 151, 152, 153, 154, 155, 156, 157, 158, 159, 160, 161, 162, 163, 164, 165, 166, 167, 168, 169, 170, 171, 172, 173, 174, 175, 176, 177, 178, 179, 180, 181, 182, 183, 184, 185, 186, 187, 188, 189, 190, 191, 192, 193, 194, 195, 196, 197, 198, 199, 200, 201, 202, 203, 204, 205, 206, 207, 208, 209, 210, 211, 212, 213, 214, 215, 216, 217, 218, 219, 220, 221, 222, 223, 224, 225, 226, 227, 228, 229, 230, 231, 232, 233, 234, 235, 236, 237, 238, 239, 240, 241, 242, 243, 244, 245, 246, 247, 248, 249, 250, 251, 252, 253, 254, 255, 256, 257, 258, 259, 260, 261, 262, 263, 264, 265, 266, 267, 268, 269, 270, 271, 272, 273, 274, 275, 276, 277, 278, 279, 280, 281, 282, 283, 284, 285, 286, 287, 288, 289, 290, 291, 292, 293, 294, 295, 296, 297, 298, 299, 300, 301, 302, 303, 304, 305, 306, 307, 308, 309, 310, 311, 312, 313, 314, 315, 316, 317, 318, 319, 320, 321, 322, 323, 324, 325, 326, 327, 328, 329, 330, 331, 332, 333, 334, 335, 336, 337, 338, 339, 340, 341, 342, 343, 344, 345, 346, 347, 348, 349, 350, 351, 352, 353, 354, 355, 356, 357, 358, 359, 360, 361, 362, 363, 364, 365, 366, 367, 368, 369, 370, 371, 372, 373, 374, 375, 376, 377, 378, 379, 380, 381, 382, 383, 384, 385, 386, 387, 388, 389, 390, 391, 392, 393, 394, 395, 396, 397, 398, 399, 400, 401, 402, 403, 404, 405, 406, 407, 408, 409, 410, 411, 412, 413, 414, 415, 416, 417, 418, 419, 420, 421, 422, 423, 424, 425, 426, 427, 428, 429, 430, 431, 432, 433, 434, 435, 436, 437, 438, 439, 440, 441, 442, 443, 444, 445, 446, 447, 448, 449, 450, 451, 452, 453, 454, 455, 456, 457, 458, 459], \"xaxis\": \"x\", \"y\": [7.895594965646932, 7.895594965646932, 7.895594965646932, 7.895594965646932, 7.895594965646932, 7.895594965646932, 7.895594965646932, 6.406120079246127, 5.364762454291043, 4.89673673462827, 4.624041831673876, 4.428705969293725, 4.271342850860949, 4.134176318391769, 4.009916445064556, 3.894509043639669, 3.786879064208467, 3.6859630045858167, 3.5911224718513863, 3.501521895178911, 3.4174786354081395, 3.338366641344131, 3.263407244451526, 3.191392223119935, 3.122766924625198, 3.0575431838641633, 2.9956652913609076, 2.936711835195365, 2.880354259448571, 2.826575926947941, 2.7749162811654635, 2.725453952568808, 2.6780720718859308, 2.632699338123296, 2.5893755674513863, 2.547825263902682, 2.5078807373087417, 2.4694418800232723, 2.4322609606542285, 2.3963711091942783, 2.3616368664551874, 2.3282249257910537, 2.296132284710763, 2.2650319357637376, 2.2349496357557332, 2.2058772280368792, 2.177732117854615, 2.1504798014016835, 2.1241059508200255, 2.059079739115376, 1.978536133152138, 1.9376338386791507, 1.9101251949159144, 1.887366580681591, 1.8665328819410134, 1.846857989478259, 1.8281352172094245, 1.8102122940774228, 1.792817590627097, 1.7759614383410014, 1.7596630146151164, 1.7439069531464462, 1.7286404733636453, 1.7138059025079222, 1.6994248474724187, 1.6854183848855235, 1.6717486599392948, 1.6584398444589616, 1.6454890402169189, 1.6328969760781666, 1.6206078292041453, 1.608604438941424, 1.5969226701696524, 1.585527734003863, 1.5743887871189342, 1.5634482244148402, 1.5527445413890009, 1.5422698273172106, 1.532033421331516, 1.522047578856519, 1.5123019607549868, 1.502770747769598, 1.4934525062725068, 1.4843349275629887, 1.475430928822923, 1.46673486325478, 1.4582266937376178, 1.4470838195443696, 1.427113577119565, 1.4121327040494842, 1.4000705373136675, 1.3898688334313998, 1.3808078748582986, 1.37250010987663, 1.3647518761860769, 1.3573995105496786, 1.3503357765539532, 1.34351815225606, 1.3369218669764582, 1.3305146261059444, 1.3242757111113184, 1.3181778789855427, 1.3122237882689023, 1.3063969734703162, 1.3006862164279882, 1.295063866747302, 1.2895543987640339, 1.2841484268392012, 1.2788455712278233, 1.2736203610137196, 1.2684921303772951, 1.2634621803428616, 1.2585219803170875, 1.2536599051490562, 1.2488361398414505, 1.2440615779936728, 1.2393700994863137, 1.2347512485962473, 1.2302110597663283, 1.2257498803133964, 1.2213556957907965, 1.2170085408777243, 1.2127317219621776, 1.2084999263981016, 1.20433694188726, 1.2002324785234786, 1.1961946836500092, 1.1922164981383456, 1.188288924507998, 1.1844234432573466, 1.1806159585290226, 1.1768640418803362, 1.1731633031587283, 1.1695193793801095, 1.165931942389112, 1.1623838883597535, 1.1588852811922334, 1.1554374499803073, 1.1520400394017816, 1.148690643844078, 1.1453907991238566, 1.142139383931491, 1.1389352876259877, 1.135777403956701, 1.1258586734441707, 1.1181104651308722, 1.112263556813504, 1.1075295127568325, 1.103466151666189, 1.0998004553174419, 1.0963887090376987, 1.0931588314644247, 1.0900630602156522, 1.0870700456734104, 1.0841598149240814, 1.0813268275836683, 1.0785621686863867, 1.0758590225041977, 1.073209852254617, 1.0706122096910666, 1.0680632755472266, 1.0655593841551712, 1.063098205134355, 1.060678626414715, 1.0582993001671166, 1.0559591297317634, 1.0536525121573634, 1.05137176369287, 1.0454920677405375, 1.0407566158972361, 1.0371361431396606, 1.0341153319390244, 1.0314088526419727, 1.0289442202859516, 1.0266354039198098, 1.0244300365627685, 1.0222963260405338, 1.0202194224618673, 1.0181755274184094, 1.0161725413567673, 1.0142067753755037, 1.0122762656935465, 1.0103803175987494, 1.008519415625821, 1.0066954730942828, 1.004907291269083, 1.0012758401036377, 0.9938373274940905, 0.9897064356169216, 0.9869103755474357, 0.9846559669139613, 0.9826643246689475, 0.9808084135971596, 0.9790336525114395, 0.9773031548972718, 0.9756187083245325, 0.973971629174485, 0.9723562548064687, 0.9707696781761032, 0.9692094157422932, 0.9676740247060843, 0.9661618444597927, 0.964671377247343, 0.9632013660101253, 0.9617507314037209, 0.9603185164638464, 0.9589038264405557, 0.9575057381927414, 0.9538400210154058, 0.9512358148625412, 0.9495167454209579, 0.9481614041621413, 0.9469249291915719, 0.9456940005222947, 0.9444633096871555, 0.9432147230459915, 0.941962265623032, 0.9407059542409847, 0.9394382347510088, 0.9381742977809597, 0.9369172046246452, 0.9356691098423638, 0.9344314346496367, 0.9332050443259557, 0.9319903998742906, 0.9307876771109559, 0.9295968612038369, 0.9284152024893748, 0.9272437985396352, 0.9260834683546308, 0.9249280892060288, 0.9237823933299558, 0.9226450230609619, 0.9215167005446326, 0.9203960558075487, 0.9192845108077039, 0.9181815689896065, 0.9170866734054433, 0.9159875197803107, 0.9148917179970198, 0.9137984953212154, 0.9086557510538107, 0.9039834460180091, 0.9007644399642449, 0.8983916722275459, 0.8964868442034387, 0.8948555301487547, 0.8922051265999998, 0.8885275470156561, 0.886385716928906, 0.8848822233122099, 0.883623696243469, 0.8824895222208423, 0.8814196061799463, 0.8803869470895374, 0.8793757366692982, 0.8783832921502864, 0.8774061545741151, 0.8764414403277813, 0.8754886873503503, 0.8745470886164441, 0.873616073080906, 0.8726936420293412, 0.8717805046743864, 0.8708752618526109, 0.8699790311007666, 0.8690915735318915, 0.8682125794088362, 0.8673417622257868, 0.8664779927448865, 0.86562131961481, 0.8625399082698341, 0.8607967615037855, 0.8597045970509102, 0.8588421998249945, 0.8580537163279092, 0.8572910794868459, 0.8565380973198524, 0.8557897624113284, 0.8550455348213539, 0.8543061651960666, 0.853572605519462, 0.8528456793870642, 0.852124481734478, 0.8514087622868146, 0.8507012203481983, 0.8500022006593279, 0.8493120585892054, 0.8486312125908513, 0.8479602047227192, 0.8472997826525208, 0.8466510264628181, 0.8460155696523849, 0.8453960470497499, 0.8442473465219856, 0.8417370221500214, 0.8401590065769152, 0.8390273842768172, 0.8381303217085555, 0.8373596317458101, 0.8366439124840698, 0.8359712776618666, 0.8353236999867187, 0.8346927600718221, 0.8340731557573101, 0.8334619118157869, 0.8328573450749253, 0.8322584875199373, 0.8316647789850266, 0.8310759242649756, 0.8304917599556276, 0.8299111983291808, 0.8293339970738894, 0.8287613518737508, 0.8281931208393726, 0.8276288146439834, 0.8270689344319009, 0.8265133691237195, 0.8259619303129477, 0.8254142883175692, 0.8248698322989211, 0.8243273179281844, 0.8229476227029338, 0.8210456727070501, 0.820288200027361, 0.819829376758228, 0.81943096941571, 0.8190310260569353, 0.8186183238021714, 0.8181959499059832, 0.8177603663127764, 0.8162620189243428, 0.8157367481248615, 0.8154762591363546, 0.8152525774112047, 0.8149920848048428, 0.8146831433224144, 0.8139567414480949, 0.8132797082873967, 0.8129796700755821, 0.8127170013753399, 0.8124096353805693, 0.8120498243765216, 0.8116514965004865, 0.8112298385745272, 0.8107967503225085, 0.8103571611379582, 0.8099218397708874, 0.8075030095769051, 0.8062179207462045, 0.8054629702316718, 0.8049332208766017, 0.8044776638794964, 0.8040480722273704, 0.8036296389467061, 0.803217906661739, 0.80281167537979, 0.8024106890679726, 0.8020150085526165, 0.8016248867719032, 0.8012407984724247, 0.8008635614086301, 0.800494599492821, 0.8001359148820442, 0.7997442044359928, 0.7986097360123694, 0.7981823571363924, 0.7975900572799883, 0.7963662240599744, 0.7958594846875381, 0.7955610124947984, 0.7953141280009625, 0.7946810085561414, 0.792787091965238, 0.791901323496962, 0.7913586181485691, 0.7909308651905435, 0.7905353202570151, 0.7901398185343605, 0.7897297137143414, 0.7889959063288148, 0.7877157722150424, 0.7869523041433214, 0.7863552399714928, 0.785902937506118, 0.7855078024052694, 0.7851316783905847, 0.7847593138580357, 0.7848435039000765, 0.7851298480977708, 0.7853401381443884, 0.785473830233668, 0.785566665601598, 0.784201556510119, 0.7826300177289283, 0.7811828251420606, 0.7804901607601853, 0.7800861855231375, 0.7797742512614266, 0.7794886063402323, 0.7792079328629102, 0.7789257128928111, 0.7782732704153127, 0.7775172325254369, 0.7771570999802501, 0.776608143543697, 0.7760718691269507, 0.7756423065905074, 0.7753587277411347, 0.7754932384204214, 0.7756718702853849, 0.7756222701523966, 0.7757402328064925, 0.775837135131778, 0.7758779780202338, 0.7758717744943251, 0.7758415311684148, 0.7756078249645935, 0.774399833495894, 0.7739403336477035, 0.7734982932851397, 0.7729078975318349, 0.7719633794263444, 0.7713160185462284, 0.7710369810256432, 0.770875817678125, 0.7707501329147305, 0.7706469642249882, 0.7693807264115524, 0.7685081625365199, 0.7683527354517271, 0.7683332163993211, 0.7683582499327302, 0.7677678799239794, 0.7676752587125824, 0.7675978411911853, 0.7677848066933987, 0.7683043753411146, 0.7686677940631826, 0.7683050163819602, 0.7677830524640425, 0.7675946992999974, 0.7674662064928606, 0.7662130073491197, 0.7645671005234164, 0.7638657712135838, 0.763752372188051, 0.7637093909160698, 0.7635706261454257, 0.7634107089405054, 0.7634848852245295, 0.7638802294919473, 0.7650545262104499, 0.7654437277599887, 0.7653282514126265, 0.7653938639417686, 0.7656984369021963, 0.7650578208189757, 0.7648839089607504, 0.7648335961665014], \"yaxis\": \"y\"}, {\"hovertemplate\": \"variable=test_RMSE<br>Epoch=%{x}<br>value=%{y}<extra></extra>\", \"legendgroup\": \"test_RMSE\", \"line\": {\"color\": \"#EF553B\", \"dash\": \"solid\"}, \"mode\": \"lines\", \"name\": \"test_RMSE\", \"showlegend\": true, \"type\": \"scattergl\", \"x\": [0, 1, 2, 3, 4, 5, 6, 7, 8, 9, 10, 11, 12, 13, 14, 15, 16, 17, 18, 19, 20, 21, 22, 23, 24, 25, 26, 27, 28, 29, 30, 31, 32, 33, 34, 35, 36, 37, 38, 39, 40, 41, 42, 43, 44, 45, 46, 47, 48, 49, 50, 51, 52, 53, 54, 55, 56, 57, 58, 59, 60, 61, 62, 63, 64, 65, 66, 67, 68, 69, 70, 71, 72, 73, 74, 75, 76, 77, 78, 79, 80, 81, 82, 83, 84, 85, 86, 87, 88, 89, 90, 91, 92, 93, 94, 95, 96, 97, 98, 99, 100, 101, 102, 103, 104, 105, 106, 107, 108, 109, 110, 111, 112, 113, 114, 115, 116, 117, 118, 119, 120, 121, 122, 123, 124, 125, 126, 127, 128, 129, 130, 131, 132, 133, 134, 135, 136, 137, 138, 139, 140, 141, 142, 143, 144, 145, 146, 147, 148, 149, 150, 151, 152, 153, 154, 155, 156, 157, 158, 159, 160, 161, 162, 163, 164, 165, 166, 167, 168, 169, 170, 171, 172, 173, 174, 175, 176, 177, 178, 179, 180, 181, 182, 183, 184, 185, 186, 187, 188, 189, 190, 191, 192, 193, 194, 195, 196, 197, 198, 199, 200, 201, 202, 203, 204, 205, 206, 207, 208, 209, 210, 211, 212, 213, 214, 215, 216, 217, 218, 219, 220, 221, 222, 223, 224, 225, 226, 227, 228, 229, 230, 231, 232, 233, 234, 235, 236, 237, 238, 239, 240, 241, 242, 243, 244, 245, 246, 247, 248, 249, 250, 251, 252, 253, 254, 255, 256, 257, 258, 259, 260, 261, 262, 263, 264, 265, 266, 267, 268, 269, 270, 271, 272, 273, 274, 275, 276, 277, 278, 279, 280, 281, 282, 283, 284, 285, 286, 287, 288, 289, 290, 291, 292, 293, 294, 295, 296, 297, 298, 299, 300, 301, 302, 303, 304, 305, 306, 307, 308, 309, 310, 311, 312, 313, 314, 315, 316, 317, 318, 319, 320, 321, 322, 323, 324, 325, 326, 327, 328, 329, 330, 331, 332, 333, 334, 335, 336, 337, 338, 339, 340, 341, 342, 343, 344, 345, 346, 347, 348, 349, 350, 351, 352, 353, 354, 355, 356, 357, 358, 359, 360, 361, 362, 363, 364, 365, 366, 367, 368, 369, 370, 371, 372, 373, 374, 375, 376, 377, 378, 379, 380, 381, 382, 383, 384, 385, 386, 387, 388, 389, 390, 391, 392, 393, 394, 395, 396, 397, 398, 399, 400, 401, 402, 403, 404, 405, 406, 407, 408, 409, 410, 411, 412, 413, 414, 415, 416, 417, 418, 419, 420, 421, 422, 423, 424, 425, 426, 427, 428, 429, 430, 431, 432, 433, 434, 435, 436, 437, 438, 439, 440, 441, 442, 443, 444, 445, 446, 447, 448, 449, 450, 451, 452, 453, 454, 455, 456, 457, 458, 459], \"xaxis\": \"x\", \"y\": [2.809910134799142, 2.809910134799142, 2.809910134799142, 2.809910134799142, 2.809910134799142, 2.809910134799142, 2.809910134799142, 2.531031425969683, 2.316195685664543, 2.2128571428423185, 2.150358535610719, 2.10444908926154, 2.0667227319746955, 2.033267399628433, 2.002477576669601, 1.9734510492129438, 1.9459905097940398, 1.9198861957381268, 1.8950257179920769, 1.8712353927763634, 1.848642376288107, 1.8271197665572256, 1.8064903111978006, 1.7864468150829274, 1.7671352309954091, 1.7485831932922618, 1.7307990326323006, 1.7136837033698387, 1.6971606463292068, 1.6812423760267112, 1.66580799648863, 1.6508948944644564, 1.636481613671822, 1.6225595021826769, 1.6091536804952429, 1.5961908607377384, 1.5836289771624987, 1.5714457929000518, 1.55957076166945, 1.548021675944584, 1.536761811880809, 1.5258521965744434, 1.515299404312812, 1.5050023042386804, 1.4949747943546516, 1.485219589164134, 1.4757141043761204, 1.4664514316545514, 1.4574312851109055, 1.4349493855587299, 1.4066044693346236, 1.391989166150064, 1.3820727892972622, 1.3738146092837966, 1.3662111410543443, 1.358991533998008, 1.3520855066190987, 1.345441300866531, 1.338961385039575, 1.332652031980217, 1.3265229039165198, 1.3205706922184992, 1.314777727740946, 1.3091240974437535, 1.3036199014561027, 1.2982366444086855, 1.2929611981568878, 1.2878042725736554, 1.2827661673964272, 1.2778485732191303, 1.2730309616046835, 1.2683077067263386, 1.263694057186965, 1.2591774037060317, 1.2547465031307854, 1.2503792322390996, 1.2460917066528454, 1.2418815673473902, 1.237753376618911, 1.2337129240048186, 1.229756870586616, 1.22587550255709, 1.2220689449750808, 1.2183328476089728, 1.2146731777819593, 1.211088297051367, 1.207570575054567, 1.202947970422815, 1.1946185906470588, 1.188331899786202, 1.183245763699861, 1.1789269839270793, 1.1750778165118676, 1.1715374982802003, 1.168225952539181, 1.1650748948242249, 1.1620394901008972, 1.1591023044822488, 1.1562533749038133, 1.153479356601558, 1.150771789327197, 1.1481192790758035, 1.1455233687135773, 1.1429772410115244, 1.1404763112086056, 1.1380087287658658, 1.1355854872109075, 1.133202729805749, 1.1308605445534932, 1.1285478992996796, 1.126273559299558, 1.1240383357976993, 1.1218386605555575, 1.119669551764741, 1.1175133734508282, 1.1153750839935743, 1.1132700029580935, 1.111193614360813, 1.1091487996505827, 1.1071358906265285, 1.1051496259741467, 1.1031811006710206, 1.1012409917734527, 1.0993179369036519, 1.0974228637527377, 1.0955512213144023, 1.0937068545318755, 1.0918866690908657, 1.0900866591734797, 1.088312199351522, 1.0865615300244265, 1.0848336471000226, 1.0831266330206861, 1.0814431928585568, 1.0797832849183728, 1.0781390858139563, 1.076515341828547, 1.0749127638931018, 1.0733312812928641, 1.0717698651502001, 1.0702293208111318, 1.0687092139265437, 1.0672091114800266, 1.0657285789340085, 1.0610648771136337, 1.0574074262699653, 1.0546390647105313, 1.0523922808329755, 1.0504599714725873, 1.0487137146606988, 1.0470858174178936, 1.04554236234809, 1.0440608508203209, 1.0426265130301504, 1.0412299529518354, 1.0398686588140198, 1.038538477229605, 1.0372362423788506, 1.035958422068481, 1.0347039236859337, 1.0334714681824684, 1.0322593589574138, 1.0310665376853014, 1.0298925314879777, 1.0287367496921245, 1.0275987201878773, 1.0264757728058482, 1.0253642102652452, 1.0224930648862796, 1.02017479673693, 1.01839881340252, 1.0169146138880218, 1.0155830112019266, 1.0143688778181001, 1.0132301830876387, 1.012141312546212, 1.0110867055008357, 1.0100591183004424, 1.009046841042778, 1.008053838520923, 1.0070783362656073, 1.006119409261916, 1.0051767593805327, 1.004250673699461, 1.003342151558621, 1.0024506428094517, 1.0006377167105174, 0.9969139017458281, 0.9948399045157575, 0.9934336291607183, 0.9922983255624094, 0.9912942674448125, 0.990357720016944, 0.9894612940946399, 0.9885864428047109, 0.9877341283587059, 0.9869000097145024, 0.9860812617662241, 0.9852764475902706, 0.9844843400188208, 0.9837042363973454, 0.9829353205881823, 0.9821768563997744, 0.9814282276407813, 0.9806889065364821, 0.9799584258854283, 0.9792363486107711, 0.9785222216141755, 0.9766473370748552, 0.975313188090134, 0.9744314985779954, 0.9737357979257727, 0.9731006778291607, 0.9724679946004879, 0.9718350218463808, 0.9711924232848975, 0.9705474051395079, 0.9698999712552757, 0.9692462198796593, 0.9685939798393132, 0.9679448355276479, 0.9672999068760235, 0.9666599374390338, 0.9660253849283443, 0.9653964987891196, 0.9647733812201474, 0.9641560357140523, 0.9635430465160209, 0.9629349918554394, 0.962332306614836, 0.9617318177153279, 0.9611359910699192, 0.9605441286380142, 0.959956613886603, 0.9593727408090917, 0.9587932575939945, 0.9582179131020284, 0.9576464240028484, 0.9570723691447323, 0.9564997219011723, 0.9559280806217669, 0.9532343631310249, 0.9507804404898162, 0.9490861077711784, 0.9478352558475265, 0.9468298919042631, 0.9459680386507542, 0.9445661049391937, 0.9426173916365304, 0.9414805982753474, 0.9406817864252555, 0.9400126043003195, 0.9394091346271028, 0.9388394996909463, 0.9382893727894063, 0.9377503594610339, 0.9372210476457976, 0.9366996074377928, 0.9361845119033861, 0.9356755246079436, 0.9351722240402802, 0.9346743139088107, 0.9341807330647219, 0.9336918681633606, 0.9332069769631016, 0.9327266647312955, 0.9322508104216867, 0.9317792546568292, 0.9313118501478368, 0.9308479965842363, 0.9303877254214019, 0.9287302666920219, 0.9277913351092397, 0.9272025652741208, 0.9267373952878963, 0.9263118893374462, 0.9259001455269601, 0.9254934345093175, 0.925089056475823, 0.9246867225289622, 0.9242868414058845, 0.9238899314958801, 0.9234964425416398, 0.9231058886901751, 0.9227181380501928, 0.9223346574580173, 0.921955639203605, 0.9215812815965857, 0.9212118174398607, 0.9208475469493955, 0.920488882416578, 0.9201364173114865, 0.9197910467341943, 0.9194542115025358, 0.9188293348179442, 0.9174622728755779, 0.9166018800858502, 0.9159843799305845, 0.9154945776510943, 0.9150735663026279, 0.9146824107219236, 0.9143146491563321, 0.9139604477146255, 0.9136152144485238, 0.9132760567086549, 0.9129413517941812, 0.912610182430004, 0.9122820219208188, 0.9119565663917479, 0.911633656829856, 0.9113132062883911, 0.9109946203623712, 0.9106777679694884, 0.9103633076270983, 0.9100511638580396, 0.9097410701095029, 0.9094333040041479, 0.9091278068147072, 0.9088244771752947, 0.9085231358185488, 0.9082234484414731, 0.9079247314222608, 0.9071646061784674, 0.9061157060260296, 0.905697631678123, 0.9054442979875835, 0.905224264707763, 0.9050033293071, 0.9047752891199955, 0.9045418453040098, 0.9043010374387372, 0.903472201522738, 0.9031814591347973, 0.9030372412787606, 0.9029133831166779, 0.902769120431599, 0.9025979965202751, 0.9021955117645482, 0.9018202194935511, 0.9016538526926962, 0.9015081815354422, 0.9013376922000818, 0.9011380717606606, 0.9009170308638229, 0.9006829845037194, 0.9004425302719261, 0.9001984009861149, 0.8999565766029423, 0.8986117123523959, 0.8978963864200615, 0.8974758883845693, 0.897180706923974, 0.8969267884724462, 0.8966872767176807, 0.8964539246089038, 0.8962242502084726, 0.8959975867042221, 0.8957737934701889, 0.8955529066183732, 0.8953350695532389, 0.8951205496872612, 0.8949098062981711, 0.8947036378001494, 0.8945031665019662, 0.8942841855003323, 0.8936496718582564, 0.8934105199382826, 0.8930789759478096, 0.8923935365408998, 0.8921095698890008, 0.891942269709648, 0.8918038618446112, 0.8914488255397174, 0.8903859230497965, 0.8898883769872276, 0.8895833958368204, 0.8893429401476932, 0.8891205319061163, 0.8888980923223767, 0.8886673808092325, 0.8882544153162509, 0.8875335330087774, 0.8871033221352073, 0.8867667336856366, 0.8865116680033703, 0.8862887804803068, 0.8860765646323036, 0.8858664198726779, 0.8859139370729396, 0.8860755318243309, 0.8861941876047192, 0.886269614865402, 0.8863219875426752, 0.8855515549701887, 0.8846637879606739, 0.8838454758282471, 0.8834535419365216, 0.8832248782292862, 0.8830482723279779, 0.8828865195143895, 0.882727553021265, 0.8825676817631671, 0.8821979768823508, 0.8817693760419654, 0.8815651422216342, 0.8812537339175914, 0.8809494134891916, 0.8807055731574016, 0.8805445631773186, 0.880620939122175, 0.8807223570940985, 0.8806941978646144, 0.8807611667225642, 0.8808161755620625, 0.8808393599404115, 0.8808358385614911, 0.8808186709921713, 0.8806859968028296, 0.8799999053953893, 0.8797387871679317, 0.8794875174129192, 0.8791518057376865, 0.8786144657506753, 0.8782459897695113, 0.8780871147133655, 0.8779953403510322, 0.8779237625868949, 0.8778650034173753, 0.8771435038872216, 0.8766459733190588, 0.8765573201175877, 0.876546186118747, 0.8765604656455425, 0.8762236472065676, 0.8761707931177473, 0.8761266125345043, 0.8762333060854276, 0.8765297344306778, 0.8767370153376568, 0.8765301001003675, 0.8762323050789913, 0.8761248194749407, 0.8760514862112047, 0.875335939710646, 0.8743952770477528, 0.8739941482719342, 0.873929271845297, 0.8739046806809481, 0.8738252835352304, 0.8737337746364767, 0.8737762214803797, 0.8740024196144696, 0.8746739542312038, 0.8748964097308828, 0.8748304129444898, 0.8748679122826306, 0.8750419629378904, 0.8746758375643948, 0.8745764168789085, 0.8745476523131838], \"yaxis\": \"y\"}, {\"hovertemplate\": \"variable=test_MAE<br>Epoch=%{x}<br>value=%{y}<extra></extra>\", \"legendgroup\": \"test_MAE\", \"line\": {\"color\": \"#00cc96\", \"dash\": \"solid\"}, \"mode\": \"lines\", \"name\": \"test_MAE\", \"showlegend\": true, \"type\": \"scattergl\", \"x\": [0, 1, 2, 3, 4, 5, 6, 7, 8, 9, 10, 11, 12, 13, 14, 15, 16, 17, 18, 19, 20, 21, 22, 23, 24, 25, 26, 27, 28, 29, 30, 31, 32, 33, 34, 35, 36, 37, 38, 39, 40, 41, 42, 43, 44, 45, 46, 47, 48, 49, 50, 51, 52, 53, 54, 55, 56, 57, 58, 59, 60, 61, 62, 63, 64, 65, 66, 67, 68, 69, 70, 71, 72, 73, 74, 75, 76, 77, 78, 79, 80, 81, 82, 83, 84, 85, 86, 87, 88, 89, 90, 91, 92, 93, 94, 95, 96, 97, 98, 99, 100, 101, 102, 103, 104, 105, 106, 107, 108, 109, 110, 111, 112, 113, 114, 115, 116, 117, 118, 119, 120, 121, 122, 123, 124, 125, 126, 127, 128, 129, 130, 131, 132, 133, 134, 135, 136, 137, 138, 139, 140, 141, 142, 143, 144, 145, 146, 147, 148, 149, 150, 151, 152, 153, 154, 155, 156, 157, 158, 159, 160, 161, 162, 163, 164, 165, 166, 167, 168, 169, 170, 171, 172, 173, 174, 175, 176, 177, 178, 179, 180, 181, 182, 183, 184, 185, 186, 187, 188, 189, 190, 191, 192, 193, 194, 195, 196, 197, 198, 199, 200, 201, 202, 203, 204, 205, 206, 207, 208, 209, 210, 211, 212, 213, 214, 215, 216, 217, 218, 219, 220, 221, 222, 223, 224, 225, 226, 227, 228, 229, 230, 231, 232, 233, 234, 235, 236, 237, 238, 239, 240, 241, 242, 243, 244, 245, 246, 247, 248, 249, 250, 251, 252, 253, 254, 255, 256, 257, 258, 259, 260, 261, 262, 263, 264, 265, 266, 267, 268, 269, 270, 271, 272, 273, 274, 275, 276, 277, 278, 279, 280, 281, 282, 283, 284, 285, 286, 287, 288, 289, 290, 291, 292, 293, 294, 295, 296, 297, 298, 299, 300, 301, 302, 303, 304, 305, 306, 307, 308, 309, 310, 311, 312, 313, 314, 315, 316, 317, 318, 319, 320, 321, 322, 323, 324, 325, 326, 327, 328, 329, 330, 331, 332, 333, 334, 335, 336, 337, 338, 339, 340, 341, 342, 343, 344, 345, 346, 347, 348, 349, 350, 351, 352, 353, 354, 355, 356, 357, 358, 359, 360, 361, 362, 363, 364, 365, 366, 367, 368, 369, 370, 371, 372, 373, 374, 375, 376, 377, 378, 379, 380, 381, 382, 383, 384, 385, 386, 387, 388, 389, 390, 391, 392, 393, 394, 395, 396, 397, 398, 399, 400, 401, 402, 403, 404, 405, 406, 407, 408, 409, 410, 411, 412, 413, 414, 415, 416, 417, 418, 419, 420, 421, 422, 423, 424, 425, 426, 427, 428, 429, 430, 431, 432, 433, 434, 435, 436, 437, 438, 439, 440, 441, 442, 443, 444, 445, 446, 447, 448, 449, 450, 451, 452, 453, 454, 455, 456, 457, 458, 459], \"xaxis\": \"x\", \"y\": [2.580359848893686, 2.580359848893686, 2.580359848893686, 2.580359848893686, 2.580359848893686, 2.580359848893686, 2.580359848893686, 2.2639916468481025, 2.009827807987145, 1.8912121359923075, 1.8210959987158346, 1.770545165696935, 1.7298036114405073, 1.6944821780244994, 1.6623734993764199, 1.632370811001019, 1.6042506415849778, 1.5775669176917766, 1.5522285245305674, 1.5278381986282392, 1.5050497025461802, 1.4836681765693138, 1.4634940581526272, 1.4441297736804564, 1.4257229814044552, 1.4081041286619527, 1.3911996581985484, 1.3749306677005226, 1.3593886915845943, 1.3445880989079735, 1.3302826463843591, 1.316573534302631, 1.303426528168874, 1.2907799210203, 1.2786155486766266, 1.266805326655004, 1.2553327790921611, 1.2442217574261267, 1.2334957800411626, 1.2231033066260009, 1.2129756559789333, 1.2031665575833932, 1.1937025582212604, 1.1845517411377562, 1.1757078738327778, 1.1670780790746085, 1.1586575061638906, 1.1505147256385828, 1.142565960279043, 1.120459487628999, 1.093388840339001, 1.0782956807585984, 1.068451087483783, 1.0607369305157452, 1.0539750271848656, 1.0477102176054955, 1.0418322182861322, 1.0363094366766639, 1.0310155537505759, 1.0258623303479835, 1.0208651818813679, 1.0160233530718152, 1.0113316360194509, 1.0067962435979025, 1.002390148649352, 0.9980696519711942, 0.9938295698325954, 0.9896759917218951, 0.9856335302891069, 0.981711318454449, 0.9778825587529011, 0.974175154965588, 0.9705460416155179, 0.9670830046024923, 0.9637325520305272, 0.9604382182383026, 0.9571772199483392, 0.9539806092107851, 0.950867757061566, 0.9478097496441508, 0.9448073841037913, 0.9418864285505828, 0.9390494136919108, 0.9362661688546836, 0.9335266113069305, 0.9308367439125781, 0.9281984125040479, 0.9242901001276661, 0.9162077349123255, 0.9110738242243186, 0.9074470439138588, 0.9043556201974632, 0.9017029174874984, 0.8992661970287001, 0.8969151912209269, 0.8946447903791289, 0.8924421772424125, 0.8903114681203852, 0.8882300553874939, 0.8861837079571436, 0.884199776251171, 0.8822658995862981, 0.8803830194650254, 0.8785495128952407, 0.8767453667379513, 0.8749714848913923, 0.8732323847756522, 0.871536152016143, 0.8698696163303928, 0.8682287307068393, 0.8666033384757357, 0.8650038936163535, 0.8634360131499837, 0.8618856448219913, 0.8603499815693125, 0.8588234250098187, 0.8573155596538276, 0.8558282996066526, 0.8543562974958175, 0.8529020853107706, 0.8514668080971339, 0.8500651185156876, 0.8486865996044646, 0.8473338236218105, 0.8460102450741902, 0.8447002484771592, 0.8434044124860124, 0.8421272153235677, 0.8408664441811088, 0.8396168927090113, 0.8383772225293072, 0.8371549006963833, 0.8359423815155668, 0.834749629670191, 0.8335763099801816, 0.8324184122407305, 0.831275531206085, 0.8301436779976071, 0.8290228739714177, 0.8279130086385849, 0.8268178446769571, 0.8257331817066904, 0.8246637268986898, 0.8236162730667193, 0.8198346535965069, 0.8169403711063894, 0.8147628292144667, 0.8129749122051635, 0.8114834214470182, 0.810191857982683, 0.8090063770643656, 0.807869980951553, 0.806785036675321, 0.8057346394680153, 0.8047091310658123, 0.803708716659442, 0.802729611436714, 0.801771429801593, 0.8008247781173242, 0.7998899045504986, 0.7989851681634069, 0.7980928791446317, 0.7972173316558163, 0.7963525327645843, 0.7954970388103572, 0.7946533646355011, 0.7938239869294327, 0.792999596594554, 0.7909522100024787, 0.7894374197417768, 0.7882715702631501, 0.7873049312828028, 0.7864768890674985, 0.7857480971573093, 0.7850591625966713, 0.7843802826417681, 0.7837102562376395, 0.7830506646154545, 0.7823911260003702, 0.7817394410931555, 0.7810955598238642, 0.7804553328796655, 0.7798197989931864, 0.7791958119083019, 0.7785902413192453, 0.7780010930078233, 0.7767319128106944, 0.774086559875156, 0.7725680818220766, 0.7714168016471535, 0.7704899327062605, 0.7696789970664885, 0.7689371911935564, 0.7682623521582777, 0.7676197663638561, 0.7670100553944998, 0.7664261895246389, 0.765853426903801, 0.7652924221187758, 0.7647418477119742, 0.7642019325957825, 0.7636683240465008, 0.7631399736302589, 0.7626176822636974, 0.7620998634582999, 0.7615868602216926, 0.761077632113346, 0.7605706387362081, 0.7587461234923619, 0.7574083009349787, 0.7565088925132454, 0.7558038512534454, 0.7551873467398077, 0.754627322085097, 0.7541332326751604, 0.7536609003740937, 0.753187460540456, 0.7527241187046897, 0.7522586964261282, 0.7517932058970693, 0.751325498050597, 0.7508578080831455, 0.7503966384099279, 0.7499387790072313, 0.7494845763128892, 0.7490351514549469, 0.7485938174900415, 0.7481557149608883, 0.7477224019521082, 0.7472902971205052, 0.7468594448248661, 0.7464319786072583, 0.7460094667359707, 0.7455894443668126, 0.745171011947099, 0.7447530422715996, 0.7443375861745642, 0.7439255580024107, 0.743514131315967, 0.743101467642825, 0.7426869881402468, 0.7404671928344828, 0.7385806838737033, 0.7373381331097124, 0.7364482435449796, 0.735759812415792, 0.735164908110406, 0.7337930822046299, 0.7314988640696318, 0.7304374009335322, 0.7298266651243773, 0.7293558346101012, 0.7289426564756328, 0.7285665389664852, 0.7282029685230702, 0.7278439099314254, 0.7274893382313766, 0.727137927489751, 0.7267948611590763, 0.7264526512440005, 0.7261116642422943, 0.7257698498755344, 0.7254277613464488, 0.7250870139286502, 0.7247480311299972, 0.7244235156077053, 0.7241035332045797, 0.7237854472225885, 0.7234654150718378, 0.7231421654740947, 0.7228133971338843, 0.7211309121520251, 0.7202175851507674, 0.7197408803932325, 0.7193846467208912, 0.7190659942372564, 0.718757071088384, 0.7184504846081523, 0.7181480239392584, 0.7178534635244358, 0.7175700235237861, 0.7172914827925729, 0.7170169772240804, 0.7167455351579866, 0.716478040463238, 0.7162147583155134, 0.7159590666111393, 0.7157095767856703, 0.715463947523692, 0.71522318836997, 0.7149877629371684, 0.714761344502682, 0.7145442216594076, 0.7143323705463357, 0.7138178668757361, 0.7124958990832612, 0.7116911008791911, 0.7111781581707938, 0.710770291094536, 0.7104214994100416, 0.7101054155400216, 0.7098216789660912, 0.7095654558268907, 0.7093405656993871, 0.7091300034358564, 0.7089226499608163, 0.7087162491608071, 0.708511460861082, 0.7083062095233992, 0.708099922256181, 0.7078927544993446, 0.7076864722517027, 0.7074808736468714, 0.7072756997771389, 0.7070719130822739, 0.706867982039528, 0.7066645686317029, 0.706461459427483, 0.7062609756574688, 0.7060616117932779, 0.7058628253013353, 0.7056692080918366, 0.7052075551205716, 0.7045853550599213, 0.7044246731203896, 0.7043018147995185, 0.7041961637096795, 0.7040862741687041, 0.7039611832018445, 0.7038272322293737, 0.7036897005507539, 0.7028390425223652, 0.7024630228974842, 0.7022206899520718, 0.7020438706213159, 0.7019035101855782, 0.7017542962433072, 0.7013370287589598, 0.7011774288289027, 0.7011236187758147, 0.7010807759705261, 0.7009973660502703, 0.7008784940989522, 0.7007331690729248, 0.7005749878363339, 0.7004071018514595, 0.7002344980972882, 0.7000591189119304, 0.6985785762249929, 0.6977198529854468, 0.6971680566358602, 0.6968462497613083, 0.696619444880609, 0.6964249382445427, 0.69624886308081, 0.6960826132031379, 0.6959200124905421, 0.6957614345965146, 0.6956053827299871, 0.6954514698113113, 0.6952983056858557, 0.695145631027383, 0.6949935579877174, 0.6948413795829219, 0.694673201688878, 0.6944780139708969, 0.6944466813151894, 0.6941816101862862, 0.6934088120693618, 0.6930589492633953, 0.6929058154305094, 0.6928150391359432, 0.6925966697547452, 0.6921551686378056, 0.691941483482693, 0.6918128292287181, 0.6917445711227501, 0.6916706643971002, 0.6915872404330328, 0.691491043625911, 0.6913223403324631, 0.6910541381892422, 0.6908910651250758, 0.6907451623743577, 0.6906228755594604, 0.6905141374900181, 0.6904043958903948, 0.6903161929879832, 0.6906838566306799, 0.6910603421761667, 0.6913142650202909, 0.6914767886106045, 0.6916067135523998, 0.6911714889589237, 0.6905849750049424, 0.6898138004940974, 0.6894495844077493, 0.6892606192174757, 0.6891068822624953, 0.688965636609473, 0.6888255660272163, 0.6886885763979537, 0.6884061115785959, 0.688351915160757, 0.6883512277682563, 0.6883014224404462, 0.6882048681926486, 0.6880972920406204, 0.6880570068727943, 0.6882526107899505, 0.6883882839674296, 0.6884695133191037, 0.688590460859882, 0.6886545980595294, 0.688699668549064, 0.6887239090680307, 0.6887335822987976, 0.688671832246225, 0.6882919221939127, 0.6880610767027585, 0.6877625321763299, 0.6873229037729408, 0.6867201422677209, 0.6863299205216358, 0.6861210599421945, 0.6859896278523981, 0.6859044738318576, 0.6858351234389868, 0.6853933751321369, 0.6850994925072786, 0.6850597065507421, 0.6851187614518937, 0.6851749190453765, 0.6845885156206046, 0.6842794423400084, 0.6840436493822676, 0.683995421367876, 0.6840107603392719, 0.6840417938237888, 0.6837994733119911, 0.6835917922560393, 0.6834310446821643, 0.6833039895580694, 0.6827304796503199, 0.6819741957549809, 0.681362988231526, 0.6810391862607946, 0.6808802448242374, 0.680788397533136, 0.6808520080696153, 0.680870675896755, 0.6809079663561236, 0.6809720683000962, 0.6808990535558802, 0.6807322294227701, 0.6806061527466271, 0.6803660845896644, 0.6799694844090298, 0.6798088613444851, 0.6797379133227863], \"yaxis\": \"y\"}],                        {\"font\": {\"family\": \"Courier New, monospace\", \"size\": 18}, \"hoverlabel\": {\"font\": {\"family\": \"Rockwell\", \"size\": 12}}, \"legend\": {\"title\": {\"text\": \"variable\"}, \"tracegroupgap\": 0}, \"margin\": {\"t\": 60}, \"template\": {\"data\": {\"bar\": [{\"error_x\": {\"color\": \"#2a3f5f\"}, \"error_y\": {\"color\": \"#2a3f5f\"}, \"marker\": {\"line\": {\"color\": \"#E5ECF6\", \"width\": 0.5}}, \"type\": \"bar\"}], \"barpolar\": [{\"marker\": {\"line\": {\"color\": \"#E5ECF6\", \"width\": 0.5}}, \"type\": \"barpolar\"}], \"carpet\": [{\"aaxis\": {\"endlinecolor\": \"#2a3f5f\", \"gridcolor\": \"white\", \"linecolor\": \"white\", \"minorgridcolor\": \"white\", \"startlinecolor\": \"#2a3f5f\"}, \"baxis\": {\"endlinecolor\": \"#2a3f5f\", \"gridcolor\": \"white\", \"linecolor\": \"white\", \"minorgridcolor\": \"white\", \"startlinecolor\": \"#2a3f5f\"}, \"type\": \"carpet\"}], \"choropleth\": [{\"colorbar\": {\"outlinewidth\": 0, \"ticks\": \"\"}, \"type\": \"choropleth\"}], \"contour\": [{\"colorbar\": {\"outlinewidth\": 0, \"ticks\": \"\"}, \"colorscale\": [[0.0, \"#0d0887\"], [0.1111111111111111, \"#46039f\"], [0.2222222222222222, \"#7201a8\"], [0.3333333333333333, \"#9c179e\"], [0.4444444444444444, \"#bd3786\"], [0.5555555555555556, \"#d8576b\"], [0.6666666666666666, \"#ed7953\"], [0.7777777777777778, \"#fb9f3a\"], [0.8888888888888888, \"#fdca26\"], [1.0, \"#f0f921\"]], \"type\": \"contour\"}], \"contourcarpet\": [{\"colorbar\": {\"outlinewidth\": 0, \"ticks\": \"\"}, \"type\": \"contourcarpet\"}], \"heatmap\": [{\"colorbar\": {\"outlinewidth\": 0, \"ticks\": \"\"}, \"colorscale\": [[0.0, \"#0d0887\"], [0.1111111111111111, \"#46039f\"], [0.2222222222222222, \"#7201a8\"], [0.3333333333333333, \"#9c179e\"], [0.4444444444444444, \"#bd3786\"], [0.5555555555555556, \"#d8576b\"], [0.6666666666666666, \"#ed7953\"], [0.7777777777777778, \"#fb9f3a\"], [0.8888888888888888, \"#fdca26\"], [1.0, \"#f0f921\"]], \"type\": \"heatmap\"}], \"heatmapgl\": [{\"colorbar\": {\"outlinewidth\": 0, \"ticks\": \"\"}, \"colorscale\": [[0.0, \"#0d0887\"], [0.1111111111111111, \"#46039f\"], [0.2222222222222222, \"#7201a8\"], [0.3333333333333333, \"#9c179e\"], [0.4444444444444444, \"#bd3786\"], [0.5555555555555556, \"#d8576b\"], [0.6666666666666666, \"#ed7953\"], [0.7777777777777778, \"#fb9f3a\"], [0.8888888888888888, \"#fdca26\"], [1.0, \"#f0f921\"]], \"type\": \"heatmapgl\"}], \"histogram\": [{\"marker\": {\"colorbar\": {\"outlinewidth\": 0, \"ticks\": \"\"}}, \"type\": \"histogram\"}], \"histogram2d\": [{\"colorbar\": {\"outlinewidth\": 0, \"ticks\": \"\"}, \"colorscale\": [[0.0, \"#0d0887\"], [0.1111111111111111, \"#46039f\"], [0.2222222222222222, \"#7201a8\"], [0.3333333333333333, \"#9c179e\"], [0.4444444444444444, \"#bd3786\"], [0.5555555555555556, \"#d8576b\"], [0.6666666666666666, \"#ed7953\"], [0.7777777777777778, \"#fb9f3a\"], [0.8888888888888888, \"#fdca26\"], [1.0, \"#f0f921\"]], \"type\": \"histogram2d\"}], \"histogram2dcontour\": [{\"colorbar\": {\"outlinewidth\": 0, \"ticks\": \"\"}, \"colorscale\": [[0.0, \"#0d0887\"], [0.1111111111111111, \"#46039f\"], [0.2222222222222222, \"#7201a8\"], [0.3333333333333333, \"#9c179e\"], [0.4444444444444444, \"#bd3786\"], [0.5555555555555556, \"#d8576b\"], [0.6666666666666666, \"#ed7953\"], [0.7777777777777778, \"#fb9f3a\"], [0.8888888888888888, \"#fdca26\"], [1.0, \"#f0f921\"]], \"type\": \"histogram2dcontour\"}], \"mesh3d\": [{\"colorbar\": {\"outlinewidth\": 0, \"ticks\": \"\"}, \"type\": \"mesh3d\"}], \"parcoords\": [{\"line\": {\"colorbar\": {\"outlinewidth\": 0, \"ticks\": \"\"}}, \"type\": \"parcoords\"}], \"pie\": [{\"automargin\": true, \"type\": \"pie\"}], \"scatter\": [{\"marker\": {\"colorbar\": {\"outlinewidth\": 0, \"ticks\": \"\"}}, \"type\": \"scatter\"}], \"scatter3d\": [{\"line\": {\"colorbar\": {\"outlinewidth\": 0, \"ticks\": \"\"}}, \"marker\": {\"colorbar\": {\"outlinewidth\": 0, \"ticks\": \"\"}}, \"type\": \"scatter3d\"}], \"scattercarpet\": [{\"marker\": {\"colorbar\": {\"outlinewidth\": 0, \"ticks\": \"\"}}, \"type\": \"scattercarpet\"}], \"scattergeo\": [{\"marker\": {\"colorbar\": {\"outlinewidth\": 0, \"ticks\": \"\"}}, \"type\": \"scattergeo\"}], \"scattergl\": [{\"marker\": {\"colorbar\": {\"outlinewidth\": 0, \"ticks\": \"\"}}, \"type\": \"scattergl\"}], \"scattermapbox\": [{\"marker\": {\"colorbar\": {\"outlinewidth\": 0, \"ticks\": \"\"}}, \"type\": \"scattermapbox\"}], \"scatterpolar\": [{\"marker\": {\"colorbar\": {\"outlinewidth\": 0, \"ticks\": \"\"}}, \"type\": \"scatterpolar\"}], \"scatterpolargl\": [{\"marker\": {\"colorbar\": {\"outlinewidth\": 0, \"ticks\": \"\"}}, \"type\": \"scatterpolargl\"}], \"scatterternary\": [{\"marker\": {\"colorbar\": {\"outlinewidth\": 0, \"ticks\": \"\"}}, \"type\": \"scatterternary\"}], \"surface\": [{\"colorbar\": {\"outlinewidth\": 0, \"ticks\": \"\"}, \"colorscale\": [[0.0, \"#0d0887\"], [0.1111111111111111, \"#46039f\"], [0.2222222222222222, \"#7201a8\"], [0.3333333333333333, \"#9c179e\"], [0.4444444444444444, \"#bd3786\"], [0.5555555555555556, \"#d8576b\"], [0.6666666666666666, \"#ed7953\"], [0.7777777777777778, \"#fb9f3a\"], [0.8888888888888888, \"#fdca26\"], [1.0, \"#f0f921\"]], \"type\": \"surface\"}], \"table\": [{\"cells\": {\"fill\": {\"color\": \"#EBF0F8\"}, \"line\": {\"color\": \"white\"}}, \"header\": {\"fill\": {\"color\": \"#C8D4E3\"}, \"line\": {\"color\": \"white\"}}, \"type\": \"table\"}]}, \"layout\": {\"annotationdefaults\": {\"arrowcolor\": \"#2a3f5f\", \"arrowhead\": 0, \"arrowwidth\": 1}, \"autotypenumbers\": \"strict\", \"coloraxis\": {\"colorbar\": {\"outlinewidth\": 0, \"ticks\": \"\"}}, \"colorscale\": {\"diverging\": [[0, \"#8e0152\"], [0.1, \"#c51b7d\"], [0.2, \"#de77ae\"], [0.3, \"#f1b6da\"], [0.4, \"#fde0ef\"], [0.5, \"#f7f7f7\"], [0.6, \"#e6f5d0\"], [0.7, \"#b8e186\"], [0.8, \"#7fbc41\"], [0.9, \"#4d9221\"], [1, \"#276419\"]], \"sequential\": [[0.0, \"#0d0887\"], [0.1111111111111111, \"#46039f\"], [0.2222222222222222, \"#7201a8\"], [0.3333333333333333, \"#9c179e\"], [0.4444444444444444, \"#bd3786\"], [0.5555555555555556, \"#d8576b\"], [0.6666666666666666, \"#ed7953\"], [0.7777777777777778, \"#fb9f3a\"], [0.8888888888888888, \"#fdca26\"], [1.0, \"#f0f921\"]], \"sequentialminus\": [[0.0, \"#0d0887\"], [0.1111111111111111, \"#46039f\"], [0.2222222222222222, \"#7201a8\"], [0.3333333333333333, \"#9c179e\"], [0.4444444444444444, \"#bd3786\"], [0.5555555555555556, \"#d8576b\"], [0.6666666666666666, \"#ed7953\"], [0.7777777777777778, \"#fb9f3a\"], [0.8888888888888888, \"#fdca26\"], [1.0, \"#f0f921\"]]}, \"colorway\": [\"#636efa\", \"#EF553B\", \"#00cc96\", \"#ab63fa\", \"#FFA15A\", \"#19d3f3\", \"#FF6692\", \"#B6E880\", \"#FF97FF\", \"#FECB52\"], \"font\": {\"color\": \"#2a3f5f\"}, \"geo\": {\"bgcolor\": \"white\", \"lakecolor\": \"white\", \"landcolor\": \"#E5ECF6\", \"showlakes\": true, \"showland\": true, \"subunitcolor\": \"white\"}, \"hoverlabel\": {\"align\": \"left\"}, \"hovermode\": \"closest\", \"mapbox\": {\"style\": \"light\"}, \"paper_bgcolor\": \"white\", \"plot_bgcolor\": \"#E5ECF6\", \"polar\": {\"angularaxis\": {\"gridcolor\": \"white\", \"linecolor\": \"white\", \"ticks\": \"\"}, \"bgcolor\": \"#E5ECF6\", \"radialaxis\": {\"gridcolor\": \"white\", \"linecolor\": \"white\", \"ticks\": \"\"}}, \"scene\": {\"xaxis\": {\"backgroundcolor\": \"#E5ECF6\", \"gridcolor\": \"white\", \"gridwidth\": 2, \"linecolor\": \"white\", \"showbackground\": true, \"ticks\": \"\", \"zerolinecolor\": \"white\"}, \"yaxis\": {\"backgroundcolor\": \"#E5ECF6\", \"gridcolor\": \"white\", \"gridwidth\": 2, \"linecolor\": \"white\", \"showbackground\": true, \"ticks\": \"\", \"zerolinecolor\": \"white\"}, \"zaxis\": {\"backgroundcolor\": \"#E5ECF6\", \"gridcolor\": \"white\", \"gridwidth\": 2, \"linecolor\": \"white\", \"showbackground\": true, \"ticks\": \"\", \"zerolinecolor\": \"white\"}}, \"shapedefaults\": {\"line\": {\"color\": \"#2a3f5f\"}}, \"ternary\": {\"aaxis\": {\"gridcolor\": \"white\", \"linecolor\": \"white\", \"ticks\": \"\"}, \"baxis\": {\"gridcolor\": \"white\", \"linecolor\": \"white\", \"ticks\": \"\"}, \"bgcolor\": \"#E5ECF6\", \"caxis\": {\"gridcolor\": \"white\", \"linecolor\": \"white\", \"ticks\": \"\"}}, \"title\": {\"x\": 0.05}, \"xaxis\": {\"automargin\": true, \"gridcolor\": \"white\", \"linecolor\": \"white\", \"ticks\": \"\", \"title\": {\"standoff\": 15}, \"zerolinecolor\": \"white\", \"zerolinewidth\": 2}, \"yaxis\": {\"automargin\": true, \"gridcolor\": \"white\", \"linecolor\": \"white\", \"ticks\": \"\", \"title\": {\"standoff\": 15}, \"zerolinecolor\": \"white\", \"zerolinewidth\": 2}}}, \"xaxis\": {\"anchor\": \"y\", \"domain\": [0.0, 1.0], \"showspikes\": true, \"title\": {\"text\": \"Epoch\"}}, \"yaxis\": {\"anchor\": \"x\", \"domain\": [0.0, 1.0], \"title\": {\"text\": \"value\"}}},                        {\"responsive\": true}                    ).then(function(){\n",
       "                            \n",
       "var gd = document.getElementById('f02a699d-18bc-4d70-a070-9faa15c46996');\n",
       "var x = new MutationObserver(function (mutations, observer) {{\n",
       "        var display = window.getComputedStyle(gd).display;\n",
       "        if (!display || display === 'none') {{\n",
       "            console.log([gd, 'removed!']);\n",
       "            Plotly.purge(gd);\n",
       "            observer.disconnect();\n",
       "        }}\n",
       "}});\n",
       "\n",
       "// Listen for the removal of the full notebook cells\n",
       "var notebookContainer = gd.closest('#notebook-container');\n",
       "if (notebookContainer) {{\n",
       "    x.observe(notebookContainer, {childList: true});\n",
       "}}\n",
       "\n",
       "// Listen for the clearing of the current output cell\n",
       "var outputEl = gd.closest('.output');\n",
       "if (outputEl) {{\n",
       "    x.observe(outputEl, {childList: true});\n",
       "}}\n",
       "\n",
       "                        })                };                });            </script>        </div>"
      ]
     },
     "metadata": {},
     "output_type": "display_data"
    },
    {
     "data": {
      "image/svg+xml": [
       "<svg class=\"main-svg\" xmlns=\"http://www.w3.org/2000/svg\" xmlns:xlink=\"http://www.w3.org/1999/xlink\" width=\"700\" height=\"450\" style=\"\" viewBox=\"0 0 700 450\"><rect x=\"0\" y=\"0\" width=\"700\" height=\"450\" style=\"fill: rgb(255, 255, 255); fill-opacity: 1;\"/><defs id=\"defs-1f0807\"><g class=\"clips\"><clipPath id=\"clip1f0807xyplot\" class=\"plotclip\"><rect width=\"456\" height=\"310\"/></clipPath><clipPath class=\"axesclip\" id=\"clip1f0807x\"><rect x=\"80\" y=\"0\" width=\"456\" height=\"450\"/></clipPath><clipPath class=\"axesclip\" id=\"clip1f0807y\"><rect x=\"0\" y=\"60\" width=\"700\" height=\"310\"/></clipPath><clipPath class=\"axesclip\" id=\"clip1f0807xy\"><rect x=\"80\" y=\"60\" width=\"456\" height=\"310\"/></clipPath></g><g class=\"gradients\"/></defs><g class=\"bglayer\"><rect class=\"bg\" x=\"80\" y=\"60\" width=\"456\" height=\"310\" style=\"fill: rgb(229, 236, 246); fill-opacity: 1; stroke-width: 0;\"/></g><g class=\"layer-below\"><g class=\"imagelayer\"/><g class=\"shapelayer\"/></g><g class=\"cartesianlayer\"><g class=\"subplot xy\"><g class=\"layer-subplot\"><g class=\"shapelayer\"/><g class=\"imagelayer\"/></g><g class=\"gridlayer\"><g class=\"x\"><path class=\"xgrid crisp\" transform=\"translate(179.35,0)\" d=\"M0,60v310\" style=\"stroke: rgb(255, 255, 255); stroke-opacity: 1; stroke-width: 1px;\"/><path class=\"xgrid crisp\" transform=\"translate(278.69,0)\" d=\"M0,60v310\" style=\"stroke: rgb(255, 255, 255); stroke-opacity: 1; stroke-width: 1px;\"/><path class=\"xgrid crisp\" transform=\"translate(378.04,0)\" d=\"M0,60v310\" style=\"stroke: rgb(255, 255, 255); stroke-opacity: 1; stroke-width: 1px;\"/><path class=\"xgrid crisp\" transform=\"translate(477.39,0)\" d=\"M0,60v310\" style=\"stroke: rgb(255, 255, 255); stroke-opacity: 1; stroke-width: 1px;\"/></g><g class=\"y\"><path class=\"ygrid crisp\" transform=\"translate(0,342.12)\" d=\"M80,0h456\" style=\"stroke: rgb(255, 255, 255); stroke-opacity: 1; stroke-width: 1px;\"/><path class=\"ygrid crisp\" transform=\"translate(0,303.45)\" d=\"M80,0h456\" style=\"stroke: rgb(255, 255, 255); stroke-opacity: 1; stroke-width: 1px;\"/><path class=\"ygrid crisp\" transform=\"translate(0,264.78999999999996)\" d=\"M80,0h456\" style=\"stroke: rgb(255, 255, 255); stroke-opacity: 1; stroke-width: 1px;\"/><path class=\"ygrid crisp\" transform=\"translate(0,226.12)\" d=\"M80,0h456\" style=\"stroke: rgb(255, 255, 255); stroke-opacity: 1; stroke-width: 1px;\"/><path class=\"ygrid crisp\" transform=\"translate(0,187.45999999999998)\" d=\"M80,0h456\" style=\"stroke: rgb(255, 255, 255); stroke-opacity: 1; stroke-width: 1px;\"/><path class=\"ygrid crisp\" transform=\"translate(0,148.79000000000002)\" d=\"M80,0h456\" style=\"stroke: rgb(255, 255, 255); stroke-opacity: 1; stroke-width: 1px;\"/><path class=\"ygrid crisp\" transform=\"translate(0,110.13)\" d=\"M80,0h456\" style=\"stroke: rgb(255, 255, 255); stroke-opacity: 1; stroke-width: 1px;\"/><path class=\"ygrid crisp\" transform=\"translate(0,71.46000000000001)\" d=\"M80,0h456\" style=\"stroke: rgb(255, 255, 255); stroke-opacity: 1; stroke-width: 1px;\"/></g></g><g class=\"zerolinelayer\"><path class=\"xzl zl crisp\" transform=\"translate(80,0)\" d=\"M0,60v310\" style=\"stroke: rgb(255, 255, 255); stroke-opacity: 1; stroke-width: 2px;\"/></g><path class=\"xlines-below\"/><path class=\"ylines-below\"/><g class=\"overlines-below\"/><g class=\"xaxislayer-below\"/><g class=\"yaxislayer-below\"/><g class=\"overaxes-below\"/><g class=\"plot\" transform=\"translate(80,60)\" clip-path=\"url('#clip1f0807xyplot')\"/><g class=\"overplot\"/><path class=\"xlines-above crisp\" d=\"M0,0\" style=\"fill: none;\"/><path class=\"ylines-above crisp\" d=\"M0,0\" style=\"fill: none;\"/><g class=\"overlines-above\"/><g class=\"xaxislayer-above\"><g class=\"xtick\"><text text-anchor=\"middle\" x=\"0\" y=\"389\" transform=\"translate(80,0)\" style=\"font-family: 'Courier New', monospace; font-size: 18px; fill: rgb(42, 63, 95); fill-opacity: 1; white-space: pre;\">0</text></g><g class=\"xtick\"><text text-anchor=\"middle\" x=\"0\" y=\"389\" transform=\"translate(179.35,0)\" style=\"font-family: 'Courier New', monospace; font-size: 18px; fill: rgb(42, 63, 95); fill-opacity: 1; white-space: pre;\">100</text></g><g class=\"xtick\"><text text-anchor=\"middle\" x=\"0\" y=\"389\" transform=\"translate(278.69,0)\" style=\"font-family: 'Courier New', monospace; font-size: 18px; fill: rgb(42, 63, 95); fill-opacity: 1; white-space: pre;\">200</text></g><g class=\"xtick\"><text text-anchor=\"middle\" x=\"0\" y=\"389\" transform=\"translate(378.04,0)\" style=\"font-family: 'Courier New', monospace; font-size: 18px; fill: rgb(42, 63, 95); fill-opacity: 1; white-space: pre;\">300</text></g><g class=\"xtick\"><text text-anchor=\"middle\" x=\"0\" y=\"389\" transform=\"translate(477.39,0)\" style=\"font-family: 'Courier New', monospace; font-size: 18px; fill: rgb(42, 63, 95); fill-opacity: 1; white-space: pre;\">400</text></g></g><g class=\"yaxislayer-above\"><g class=\"ytick\"><text text-anchor=\"end\" x=\"79\" y=\"6.3\" transform=\"translate(0,342.12)\" style=\"font-family: 'Courier New', monospace; font-size: 18px; fill: rgb(42, 63, 95); fill-opacity: 1; white-space: pre;\">1</text></g><g class=\"ytick\"><text text-anchor=\"end\" x=\"79\" y=\"6.3\" transform=\"translate(0,303.45)\" style=\"font-family: 'Courier New', monospace; font-size: 18px; fill: rgb(42, 63, 95); fill-opacity: 1; white-space: pre;\">2</text></g><g class=\"ytick\"><text text-anchor=\"end\" x=\"79\" y=\"6.3\" transform=\"translate(0,264.78999999999996)\" style=\"font-family: 'Courier New', monospace; font-size: 18px; fill: rgb(42, 63, 95); fill-opacity: 1; white-space: pre;\">3</text></g><g class=\"ytick\"><text text-anchor=\"end\" x=\"79\" y=\"6.3\" transform=\"translate(0,226.12)\" style=\"font-family: 'Courier New', monospace; font-size: 18px; fill: rgb(42, 63, 95); fill-opacity: 1; white-space: pre;\">4</text></g><g class=\"ytick\"><text text-anchor=\"end\" x=\"79\" y=\"6.3\" transform=\"translate(0,187.45999999999998)\" style=\"font-family: 'Courier New', monospace; font-size: 18px; fill: rgb(42, 63, 95); fill-opacity: 1; white-space: pre;\">5</text></g><g class=\"ytick\"><text text-anchor=\"end\" x=\"79\" y=\"6.3\" transform=\"translate(0,148.79000000000002)\" style=\"font-family: 'Courier New', monospace; font-size: 18px; fill: rgb(42, 63, 95); fill-opacity: 1; white-space: pre;\">6</text></g><g class=\"ytick\"><text text-anchor=\"end\" x=\"79\" y=\"6.3\" transform=\"translate(0,110.13)\" style=\"font-family: 'Courier New', monospace; font-size: 18px; fill: rgb(42, 63, 95); fill-opacity: 1; white-space: pre;\">7</text></g><g class=\"ytick\"><text text-anchor=\"end\" x=\"79\" y=\"6.3\" transform=\"translate(0,71.46000000000001)\" style=\"font-family: 'Courier New', monospace; font-size: 18px; fill: rgb(42, 63, 95); fill-opacity: 1; white-space: pre;\">8</text></g></g><g class=\"overaxes-above\"/></g></g><g class=\"polarlayer\"/><g class=\"ternarylayer\"/><g class=\"geolayer\"/><g class=\"funnelarealayer\"/><g class=\"pielayer\"/><g class=\"treemaplayer\"/><g class=\"sunburstlayer\"/><g class=\"glimages\"><image xmlns=\"http://www.w3.org/2000/svg\" xlink:href=\"data:image/png;base64,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\" preserveAspectRatio=\"none\" x=\"0\" y=\"0\" width=\"700\" height=\"450\"/><image xmlns=\"http://www.w3.org/2000/svg\" xlink:href=\"data:image/png;base64,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\" preserveAspectRatio=\"none\" x=\"0\" y=\"0\" width=\"700\" height=\"450\"/></g><defs id=\"topdefs-1f0807\"><g class=\"clips\"/><clipPath id=\"legend1f0807\"><rect width=\"143\" height=\"113\" x=\"0\" y=\"0\"/></clipPath></defs><g class=\"layer-above\"><g class=\"imagelayer\"/><g class=\"shapelayer\"/></g><g class=\"infolayer\"><g class=\"legend\" pointer-events=\"all\" transform=\"translate(545.12,60)\"><rect class=\"bg\" shape-rendering=\"crispEdges\" width=\"143\" height=\"113\" x=\"0\" y=\"0\" style=\"stroke: rgb(68, 68, 68); stroke-opacity: 1; fill: rgb(255, 255, 255); fill-opacity: 1; stroke-width: 0px;\"/><g class=\"scrollbox\" transform=\"\" clip-path=\"url('#legend1f0807')\"><text class=\"legendtitletext\" text-anchor=\"start\" x=\"2\" y=\"23.400000000000002\" style=\"font-family: 'Courier New', monospace; font-size: 18px; fill: rgb(42, 63, 95); fill-opacity: 1; white-space: pre;\">variable</text><g class=\"groups\" transform=\"\"><g class=\"traces\" transform=\"translate(0,41.6)\" style=\"opacity: 1;\"><text class=\"legendtext\" text-anchor=\"start\" x=\"40\" y=\"7.0200000000000005\" style=\"font-family: 'Courier New', monospace; font-size: 18px; fill: rgb(42, 63, 95); fill-opacity: 1; white-space: pre;\">test_Loss</text><g class=\"layers\" style=\"opacity: 1;\"><g class=\"legendfill\"/><g class=\"legendlines\"><path class=\"js-line\" d=\"M5,0h30\" style=\"fill: none; stroke: rgb(99, 110, 250); stroke-opacity: 1; stroke-width: 2px;\"/></g><g class=\"legendsymbols\"><g class=\"legendpoints\"/></g></g><rect class=\"legendtoggle\" x=\"0\" y=\"-13.200000000000001\" width=\"137.21875\" height=\"26.400000000000002\" style=\"fill: rgb(0, 0, 0); fill-opacity: 0;\"/></g></g><g class=\"groups\" transform=\"\"><g class=\"traces\" transform=\"translate(0,68)\" style=\"opacity: 1;\"><text class=\"legendtext\" text-anchor=\"start\" x=\"40\" y=\"7.0200000000000005\" style=\"font-family: 'Courier New', monospace; font-size: 18px; fill: rgb(42, 63, 95); fill-opacity: 1; white-space: pre;\">test_RMSE</text><g class=\"layers\" style=\"opacity: 1;\"><g class=\"legendfill\"/><g class=\"legendlines\"><path class=\"js-line\" d=\"M5,0h30\" style=\"fill: none; stroke: rgb(239, 85, 59); stroke-opacity: 1; stroke-width: 2px;\"/></g><g class=\"legendsymbols\"><g class=\"legendpoints\"/></g></g><rect class=\"legendtoggle\" x=\"0\" y=\"-13.200000000000001\" width=\"137.21875\" height=\"26.400000000000002\" style=\"fill: rgb(0, 0, 0); fill-opacity: 0;\"/></g></g><g class=\"groups\" transform=\"\"><g class=\"traces\" transform=\"translate(0,94.4)\" style=\"opacity: 1;\"><text class=\"legendtext\" text-anchor=\"start\" x=\"40\" y=\"7.0200000000000005\" style=\"font-family: 'Courier New', monospace; font-size: 18px; fill: rgb(42, 63, 95); fill-opacity: 1; white-space: pre;\">test_MAE</text><g class=\"layers\" style=\"opacity: 1;\"><g class=\"legendfill\"/><g class=\"legendlines\"><path class=\"js-line\" d=\"M5,0h30\" style=\"fill: none; stroke: rgb(0, 204, 150); stroke-opacity: 1; stroke-width: 2px;\"/></g><g class=\"legendsymbols\"><g class=\"legendpoints\"/></g></g><rect class=\"legendtoggle\" x=\"0\" y=\"-13.200000000000001\" width=\"137.21875\" height=\"26.400000000000002\" style=\"fill: rgb(0, 0, 0); fill-opacity: 0;\"/></g></g></g><rect class=\"scrollbar\" rx=\"20\" ry=\"3\" width=\"0\" height=\"0\" x=\"0\" y=\"0\" style=\"fill: rgb(128, 139, 164); fill-opacity: 1;\"/></g><g class=\"g-gtitle\"/><g class=\"g-xtitle\"><text class=\"xtitle\" x=\"308\" y=\"424.4\" text-anchor=\"middle\" style=\"font-family: 'Courier New', monospace; font-size: 22px; fill: rgb(42, 63, 95); opacity: 1; font-weight: normal; white-space: pre;\">Epoch</text></g><g class=\"g-ytitle\"><text class=\"ytitle\" transform=\"rotate(-90,37.7875,215)\" x=\"37.7875\" y=\"215\" text-anchor=\"middle\" style=\"font-family: 'Courier New', monospace; font-size: 22px; fill: rgb(42, 63, 95); opacity: 1; font-weight: normal; white-space: pre;\">value</text></g></g></svg>"
      ]
     },
     "metadata": {},
     "output_type": "display_data"
    },
    {
     "data": {
      "text/html": [
       "<style  type=\"text/css\" >\n",
       "#T_74799b84_6d51_11eb_b3d3_ac1f6b2d260crow0_col0,#T_74799b84_6d51_11eb_b3d3_ac1f6b2d260crow1_col1{\n",
       "            background-color:  #adc1dd;\n",
       "        }#T_74799b84_6d51_11eb_b3d3_ac1f6b2d260crow0_col1,#T_74799b84_6d51_11eb_b3d3_ac1f6b2d260crow0_col3{\n",
       "            background-color:  #a9bfdc;\n",
       "        }#T_74799b84_6d51_11eb_b3d3_ac1f6b2d260crow0_col2{\n",
       "            background-color:  #b8c6e0;\n",
       "        }#T_74799b84_6d51_11eb_b3d3_ac1f6b2d260crow1_col0,#T_74799b84_6d51_11eb_b3d3_ac1f6b2d260crow1_col2{\n",
       "            background-color:  #000000;\n",
       "        }#T_74799b84_6d51_11eb_b3d3_ac1f6b2d260crow1_col3{\n",
       "            background-color:  #fff7fb;\n",
       "        }</style><table id=\"T_74799b84_6d51_11eb_b3d3_ac1f6b2d260c\" ><thead>    <tr>        <th class=\"index_name level0\" >deltas</th>        <th class=\"col_heading level0 col0\" >1</th>        <th class=\"col_heading level0 col1\" >2</th>        <th class=\"col_heading level0 col2\" >5</th>        <th class=\"col_heading level0 col3\" >7</th>    </tr>    <tr>        <th class=\"index_name level0\" >taus</th>        <th class=\"blank\" ></th>        <th class=\"blank\" ></th>        <th class=\"blank\" ></th>        <th class=\"blank\" ></th>    </tr></thead><tbody>\n",
       "                <tr>\n",
       "                        <th id=\"T_74799b84_6d51_11eb_b3d3_ac1f6b2d260clevel0_row0\" class=\"row_heading level0 row0\" >10000</th>\n",
       "                        <td id=\"T_74799b84_6d51_11eb_b3d3_ac1f6b2d260crow0_col0\" class=\"data row0 col0\" >0.8932</td>\n",
       "                        <td id=\"T_74799b84_6d51_11eb_b3d3_ac1f6b2d260crow0_col1\" class=\"data row0 col1\" >0.8745</td>\n",
       "                        <td id=\"T_74799b84_6d51_11eb_b3d3_ac1f6b2d260crow0_col2\" class=\"data row0 col2\" >0.9534</td>\n",
       "                        <td id=\"T_74799b84_6d51_11eb_b3d3_ac1f6b2d260crow0_col3\" class=\"data row0 col3\" >0.8747</td>\n",
       "            </tr>\n",
       "            <tr>\n",
       "                        <th id=\"T_74799b84_6d51_11eb_b3d3_ac1f6b2d260clevel0_row1\" class=\"row_heading level0 row1\" >20000</th>\n",
       "                        <td id=\"T_74799b84_6d51_11eb_b3d3_ac1f6b2d260crow1_col0\" class=\"data row1 col0\" >nan</td>\n",
       "                        <td id=\"T_74799b84_6d51_11eb_b3d3_ac1f6b2d260crow1_col1\" class=\"data row1 col1\" >0.8958</td>\n",
       "                        <td id=\"T_74799b84_6d51_11eb_b3d3_ac1f6b2d260crow1_col2\" class=\"data row1 col2\" >nan</td>\n",
       "                        <td id=\"T_74799b84_6d51_11eb_b3d3_ac1f6b2d260crow1_col3\" class=\"data row1 col3\" >2.2740</td>\n",
       "            </tr>\n",
       "    </tbody></table>"
      ],
      "text/plain": [
       "<pandas.io.formats.style.Styler at 0x7fab2b2f5438>"
      ]
     },
     "execution_count": 7,
     "metadata": {},
     "output_type": "execute_result"
    }
   ],
   "source": [
    "with open('results.json') as f:\n",
    "    hists = json.load(f)\n",
    "\n",
    "best = min(hists, key= lambda x: min(x.get('hist',{}).get('test_RMSE', [float('inf')])))\n",
    "svt_best_tau = best['tau']\n",
    "svt_best_delta = best['delta']\n",
    "svt_best_n_epochs = np.argmin(best['hist']['test_RMSE'])\n",
    "best_hist = best['hist']\n",
    "plot_experiment(best_hist)\n",
    "\n",
    "plot_color_map(hists, 'delta', 'tau')"
   ]
  },
  {
   "cell_type": "markdown",
   "metadata": {},
   "source": [
    "## Funk-SVD Grid Search"
   ]
  },
  {
   "cell_type": "code",
   "execution_count": 14,
   "metadata": {},
   "outputs": [
    {
     "name": "stderr",
     "output_type": "stream",
     "text": [
      "\r",
      "Grid Search Progress:   0%|          | 0/45 [00:00<?, ?it/s]"
     ]
    },
    {
     "name": "stdout",
     "output_type": "stream",
     "text": [
      "lr: 0.005    reg: 0.02    n_epochs: 20    n_factors: 10\n"
     ]
    },
    {
     "name": "stderr",
     "output_type": "stream",
     "text": [
      "Epoch: 100%|████████████████| 20/20 [06:02<00:00, 18.10s/it, test_Loss=0.756, test_RMSE=0.869, test_MAE=0.682]\n",
      "Epoch:   0%|                                                                           | 0/20 [00:00<?, ?it/s]"
     ]
    },
    {
     "name": "stdout",
     "output_type": "stream",
     "text": [
      "lr: 0.005    reg: 0.02    n_epochs: 20    n_factors: 15\n"
     ]
    },
    {
     "name": "stderr",
     "output_type": "stream",
     "text": [
      "Epoch: 100%|████████████████| 20/20 [06:03<00:00, 18.19s/it, test_Loss=0.727, test_RMSE=0.853, test_MAE=0.667]\n",
      "Epoch:   0%|                                                                           | 0/20 [00:00<?, ?it/s]"
     ]
    },
    {
     "name": "stdout",
     "output_type": "stream",
     "text": [
      "lr: 0.005    reg: 0.02    n_epochs: 20    n_factors: 20\n"
     ]
    },
    {
     "name": "stderr",
     "output_type": "stream",
     "text": [
      "Epoch: 100%|████████████████| 20/20 [06:03<00:00, 18.16s/it, test_Loss=0.740, test_RMSE=0.860, test_MAE=0.674]\n",
      "Epoch:   0%|                                                                           | 0/20 [00:00<?, ?it/s]"
     ]
    },
    {
     "name": "stdout",
     "output_type": "stream",
     "text": [
      "lr: 0.005    reg: 0.03    n_epochs: 20    n_factors: 10\n"
     ]
    },
    {
     "name": "stderr",
     "output_type": "stream",
     "text": [
      "Epoch: 100%|████████████████| 20/20 [05:59<00:00, 17.97s/it, test_Loss=0.735, test_RMSE=0.858, test_MAE=0.673]\n",
      "Epoch:   0%|                                                                           | 0/20 [00:00<?, ?it/s]"
     ]
    },
    {
     "name": "stdout",
     "output_type": "stream",
     "text": [
      "lr: 0.005    reg: 0.03    n_epochs: 20    n_factors: 20\n"
     ]
    },
    {
     "name": "stderr",
     "output_type": "stream",
     "text": [
      "Epoch: 100%|████████████████| 20/20 [06:00<00:00, 18.03s/it, test_Loss=0.743, test_RMSE=0.862, test_MAE=0.678]\n",
      "Epoch:   0%|                                                                           | 0/20 [00:00<?, ?it/s]"
     ]
    },
    {
     "name": "stdout",
     "output_type": "stream",
     "text": [
      "lr: 0.005    reg: 0.04    n_epochs: 20    n_factors: 10\n"
     ]
    },
    {
     "name": "stderr",
     "output_type": "stream",
     "text": [
      "Epoch: 100%|████████████████| 20/20 [06:01<00:00, 18.06s/it, test_Loss=0.765, test_RMSE=0.875, test_MAE=0.688]\n",
      "Epoch:   0%|                                                                           | 0/20 [00:00<?, ?it/s]"
     ]
    },
    {
     "name": "stdout",
     "output_type": "stream",
     "text": [
      "lr: 0.005    reg: 0.04    n_epochs: 20    n_factors: 15\n"
     ]
    },
    {
     "name": "stderr",
     "output_type": "stream",
     "text": [
      "Epoch: 100%|████████████████| 20/20 [06:01<00:00, 18.07s/it, test_Loss=0.747, test_RMSE=0.864, test_MAE=0.680]\n",
      "Epoch:   0%|                                                                           | 0/20 [00:00<?, ?it/s]"
     ]
    },
    {
     "name": "stdout",
     "output_type": "stream",
     "text": [
      "lr: 0.005    reg: 0.04    n_epochs: 20    n_factors: 20\n"
     ]
    },
    {
     "name": "stderr",
     "output_type": "stream",
     "text": [
      "Epoch: 100%|████████████████| 20/20 [05:59<00:00, 17.98s/it, test_Loss=0.751, test_RMSE=0.867, test_MAE=0.683]\n",
      "Epoch:   0%|                                                                           | 0/20 [00:00<?, ?it/s]"
     ]
    },
    {
     "name": "stdout",
     "output_type": "stream",
     "text": [
      "lr: 0.0075    reg: 0.02    n_epochs: 20    n_factors: 10\n"
     ]
    },
    {
     "name": "stderr",
     "output_type": "stream",
     "text": [
      "Epoch: 100%|████████████████| 20/20 [05:58<00:00, 17.95s/it, test_Loss=0.735, test_RMSE=0.858, test_MAE=0.670]\n",
      "Epoch:   0%|                                                                           | 0/20 [00:00<?, ?it/s]"
     ]
    },
    {
     "name": "stdout",
     "output_type": "stream",
     "text": [
      "lr: 0.0075    reg: 0.02    n_epochs: 20    n_factors: 15\n"
     ]
    },
    {
     "name": "stderr",
     "output_type": "stream",
     "text": [
      "Epoch: 100%|████████████████| 20/20 [05:59<00:00, 17.97s/it, test_Loss=0.708, test_RMSE=0.842, test_MAE=0.657]\n",
      "Epoch:   0%|                                                                           | 0/20 [00:00<?, ?it/s]"
     ]
    },
    {
     "name": "stdout",
     "output_type": "stream",
     "text": [
      "lr: 0.0075    reg: 0.02    n_epochs: 20    n_factors: 20\n"
     ]
    },
    {
     "name": "stderr",
     "output_type": "stream",
     "text": [
      "Epoch: 100%|████████████████| 20/20 [05:59<00:00, 17.98s/it, test_Loss=0.729, test_RMSE=0.854, test_MAE=0.670]\n",
      "Grid Search Progress:  27%|██▋       | 12/45 [1:12:12<3:17:59, 360.00s/it]"
     ]
    },
    {
     "name": "stdout",
     "output_type": "stream",
     "text": [
      "lr: 0.0075    reg: 0.03    n_epochs: 20    n_factors: 10\n"
     ]
    },
    {
     "name": "stderr",
     "output_type": "stream",
     "text": [
      "Epoch: 100%|████████████████| 20/20 [06:07<00:00, 18.35s/it, test_Loss=0.738, test_RMSE=0.859, test_MAE=0.673]\n",
      "Epoch:   0%|                                                                           | 0/20 [00:00<?, ?it/s]"
     ]
    },
    {
     "name": "stdout",
     "output_type": "stream",
     "text": [
      "lr: 0.0075    reg: 0.03    n_epochs: 20    n_factors: 15\n"
     ]
    },
    {
     "name": "stderr",
     "output_type": "stream",
     "text": [
      "Epoch: 100%|████████████████| 20/20 [06:05<00:00, 18.28s/it, test_Loss=0.710, test_RMSE=0.843, test_MAE=0.660]\n",
      "Epoch:   0%|                                                                           | 0/20 [00:00<?, ?it/s]"
     ]
    },
    {
     "name": "stdout",
     "output_type": "stream",
     "text": [
      "lr: 0.0075    reg: 0.03    n_epochs: 20    n_factors: 20\n"
     ]
    },
    {
     "name": "stderr",
     "output_type": "stream",
     "text": [
      "Epoch: 100%|████████████████| 20/20 [06:00<00:00, 18.02s/it, test_Loss=0.725, test_RMSE=0.852, test_MAE=0.669]\n",
      "Epoch:   0%|                                                                           | 0/20 [00:00<?, ?it/s]"
     ]
    },
    {
     "name": "stdout",
     "output_type": "stream",
     "text": [
      "lr: 0.0075    reg: 0.04    n_epochs: 20    n_factors: 10\n"
     ]
    },
    {
     "name": "stderr",
     "output_type": "stream",
     "text": [
      "Epoch: 100%|████████████████| 20/20 [06:05<00:00, 18.26s/it, test_Loss=0.743, test_RMSE=0.862, test_MAE=0.676]\n",
      "Epoch:   0%|                                                                           | 0/20 [00:00<?, ?it/s]"
     ]
    },
    {
     "name": "stdout",
     "output_type": "stream",
     "text": [
      "lr: 0.0075    reg: 0.04    n_epochs: 20    n_factors: 15\n"
     ]
    },
    {
     "name": "stderr",
     "output_type": "stream",
     "text": [
      "Epoch: 100%|████████████████| 20/20 [06:02<00:00, 18.11s/it, test_Loss=0.718, test_RMSE=0.847, test_MAE=0.665]\n",
      "Epoch:   0%|                                                                           | 0/20 [00:00<?, ?it/s]"
     ]
    },
    {
     "name": "stdout",
     "output_type": "stream",
     "text": [
      "lr: 0.0075    reg: 0.04    n_epochs: 20    n_factors: 20\n"
     ]
    },
    {
     "name": "stderr",
     "output_type": "stream",
     "text": [
      "Epoch: 100%|████████████████| 20/20 [06:06<00:00, 18.31s/it, test_Loss=0.728, test_RMSE=0.853, test_MAE=0.671]\n",
      "Epoch:   0%|                                                                           | 0/20 [00:00<?, ?it/s]"
     ]
    },
    {
     "name": "stdout",
     "output_type": "stream",
     "text": [
      "lr: 0.009999999999999998    reg: 0.02    n_epochs: 20    n_factors: 10\n"
     ]
    },
    {
     "name": "stderr",
     "output_type": "stream",
     "text": [
      "Epoch: 100%|████████████████| 20/20 [06:08<00:00, 18.44s/it, test_Loss=0.727, test_RMSE=0.853, test_MAE=0.666]\n",
      "Epoch:   0%|                                                                           | 0/20 [00:00<?, ?it/s]"
     ]
    },
    {
     "name": "stdout",
     "output_type": "stream",
     "text": [
      "lr: 0.009999999999999998    reg: 0.02    n_epochs: 20    n_factors: 15\n"
     ]
    },
    {
     "name": "stderr",
     "output_type": "stream",
     "text": [
      "Epoch: 100%|████████████████| 20/20 [06:15<00:00, 18.76s/it, test_Loss=0.707, test_RMSE=0.841, test_MAE=0.657]\n",
      "Epoch:   0%|                                                                           | 0/20 [00:00<?, ?it/s]"
     ]
    },
    {
     "name": "stdout",
     "output_type": "stream",
     "text": [
      "lr: 0.009999999999999998    reg: 0.02    n_epochs: 20    n_factors: 20\n"
     ]
    },
    {
     "name": "stderr",
     "output_type": "stream",
     "text": [
      "Epoch: 100%|████████████████| 20/20 [06:08<00:00, 18.43s/it, test_Loss=0.731, test_RMSE=0.855, test_MAE=0.672]\n",
      "Epoch:   0%|                                                                           | 0/20 [00:00<?, ?it/s]"
     ]
    },
    {
     "name": "stdout",
     "output_type": "stream",
     "text": [
      "lr: 0.009999999999999998    reg: 0.03    n_epochs: 20    n_factors: 10\n"
     ]
    },
    {
     "name": "stderr",
     "output_type": "stream",
     "text": [
      "Epoch: 100%|████████████████| 20/20 [06:09<00:00, 18.49s/it, test_Loss=0.728, test_RMSE=0.853, test_MAE=0.668]\n",
      "Grid Search Progress:  49%|████▉     | 22/45 [2:13:23<2:21:26, 369.00s/it]"
     ]
    },
    {
     "name": "stdout",
     "output_type": "stream",
     "text": [
      "lr: 0.009999999999999998    reg: 0.03    n_epochs: 20    n_factors: 15\n"
     ]
    },
    {
     "name": "stderr",
     "output_type": "stream",
     "text": [
      "Epoch: 100%|████████████████| 20/20 [06:12<00:00, 18.63s/it, test_Loss=0.706, test_RMSE=0.840, test_MAE=0.658]\n",
      "Epoch:   0%|                                                                           | 0/20 [00:00<?, ?it/s]"
     ]
    },
    {
     "name": "stdout",
     "output_type": "stream",
     "text": [
      "lr: 0.009999999999999998    reg: 0.03    n_epochs: 20    n_factors: 20\n"
     ]
    },
    {
     "name": "stderr",
     "output_type": "stream",
     "text": [
      "Epoch: 100%|████████████████| 20/20 [06:13<00:00, 18.67s/it, test_Loss=0.722, test_RMSE=0.850, test_MAE=0.669]\n",
      "Epoch:   0%|                                                                           | 0/20 [00:00<?, ?it/s]"
     ]
    },
    {
     "name": "stdout",
     "output_type": "stream",
     "text": [
      "lr: 0.009999999999999998    reg: 0.04    n_epochs: 20    n_factors: 10\n"
     ]
    },
    {
     "name": "stderr",
     "output_type": "stream",
     "text": [
      "Epoch: 100%|████████████████| 20/20 [06:10<00:00, 18.51s/it, test_Loss=0.731, test_RMSE=0.855, test_MAE=0.670]\n",
      "Epoch:   0%|                                                                           | 0/20 [00:00<?, ?it/s]"
     ]
    },
    {
     "name": "stdout",
     "output_type": "stream",
     "text": [
      "lr: 0.009999999999999998    reg: 0.04    n_epochs: 20    n_factors: 15\n"
     ]
    },
    {
     "name": "stderr",
     "output_type": "stream",
     "text": [
      "Epoch: 100%|████████████████| 20/20 [06:09<00:00, 18.47s/it, test_Loss=0.709, test_RMSE=0.842, test_MAE=0.661]\n",
      "Epoch:   0%|                                                                           | 0/20 [00:00<?, ?it/s]"
     ]
    },
    {
     "name": "stdout",
     "output_type": "stream",
     "text": [
      "lr: 0.009999999999999998    reg: 0.04    n_epochs: 20    n_factors: 20\n"
     ]
    },
    {
     "name": "stderr",
     "output_type": "stream",
     "text": [
      "Epoch: 100%|████████████████| 20/20 [06:14<00:00, 18.72s/it, test_Loss=0.720, test_RMSE=0.849, test_MAE=0.668]\n",
      "Epoch:   0%|                                                                           | 0/20 [00:00<?, ?it/s]"
     ]
    },
    {
     "name": "stdout",
     "output_type": "stream",
     "text": [
      "lr: 0.012499999999999999    reg: 0.02    n_epochs: 20    n_factors: 10\n"
     ]
    },
    {
     "name": "stderr",
     "output_type": "stream",
     "text": [
      "Epoch: 100%|████████████████| 20/20 [06:10<00:00, 18.55s/it, test_Loss=0.725, test_RMSE=0.851, test_MAE=0.665]\n",
      "Epoch:   0%|                                                                           | 0/20 [00:00<?, ?it/s]"
     ]
    },
    {
     "name": "stdout",
     "output_type": "stream",
     "text": [
      "lr: 0.012499999999999999    reg: 0.02    n_epochs: 20    n_factors: 15\n"
     ]
    },
    {
     "name": "stderr",
     "output_type": "stream",
     "text": [
      "Epoch: 100%|████████████████| 20/20 [06:09<00:00, 18.48s/it, test_Loss=0.709, test_RMSE=0.842, test_MAE=0.657]\n",
      "Epoch:   0%|                                                                           | 0/20 [00:00<?, ?it/s]"
     ]
    },
    {
     "name": "stdout",
     "output_type": "stream",
     "text": [
      "lr: 0.012499999999999999    reg: 0.02    n_epochs: 20    n_factors: 20\n"
     ]
    },
    {
     "name": "stderr",
     "output_type": "stream",
     "text": [
      "Epoch: 100%|████████████████| 20/20 [06:12<00:00, 18.61s/it, test_Loss=0.734, test_RMSE=0.857, test_MAE=0.673]\n",
      "Epoch:   0%|                                                                           | 0/20 [00:00<?, ?it/s]"
     ]
    },
    {
     "name": "stdout",
     "output_type": "stream",
     "text": [
      "lr: 0.012499999999999999    reg: 0.03    n_epochs: 20    n_factors: 10\n"
     ]
    },
    {
     "name": "stderr",
     "output_type": "stream",
     "text": [
      "Epoch: 100%|████████████████| 20/20 [06:11<00:00, 18.59s/it, test_Loss=0.725, test_RMSE=0.851, test_MAE=0.666]\n",
      "Epoch:   0%|                                                                           | 0/20 [00:00<?, ?it/s]"
     ]
    },
    {
     "name": "stdout",
     "output_type": "stream",
     "text": [
      "lr: 0.012499999999999999    reg: 0.03    n_epochs: 20    n_factors: 15\n"
     ]
    },
    {
     "name": "stderr",
     "output_type": "stream",
     "text": [
      "Epoch: 100%|████████████████| 20/20 [06:05<00:00, 18.28s/it, test_Loss=0.707, test_RMSE=0.841, test_MAE=0.658]\n",
      "Epoch:   0%|                                                                           | 0/20 [00:00<?, ?it/s]"
     ]
    },
    {
     "name": "stdout",
     "output_type": "stream",
     "text": [
      "lr: 0.012499999999999999    reg: 0.03    n_epochs: 20    n_factors: 20\n"
     ]
    },
    {
     "name": "stderr",
     "output_type": "stream",
     "text": [
      "Epoch: 100%|████████████████| 20/20 [06:09<00:00, 18.45s/it, test_Loss=0.724, test_RMSE=0.851, test_MAE=0.670]\n",
      "Epoch:   0%|                                                                           | 0/20 [00:00<?, ?it/s]"
     ]
    },
    {
     "name": "stdout",
     "output_type": "stream",
     "text": [
      "lr: 0.012499999999999999    reg: 0.04    n_epochs: 20    n_factors: 10\n"
     ]
    },
    {
     "name": "stderr",
     "output_type": "stream",
     "text": [
      "Epoch: 100%|████████████████| 20/20 [06:17<00:00, 18.87s/it, test_Loss=0.727, test_RMSE=0.853, test_MAE=0.669]\n",
      "Grid Search Progress:  76%|███████▌  | 34/45 [3:27:41<1:08:12, 372.05s/it]"
     ]
    },
    {
     "name": "stdout",
     "output_type": "stream",
     "text": [
      "lr: 0.012499999999999999    reg: 0.04    n_epochs: 20    n_factors: 15\n"
     ]
    },
    {
     "name": "stderr",
     "output_type": "stream",
     "text": [
      "Epoch: 100%|████████████████| 20/20 [06:09<00:00, 18.49s/it, test_Loss=0.708, test_RMSE=0.841, test_MAE=0.661]\n",
      "Epoch:   0%|                                                                           | 0/20 [00:00<?, ?it/s]"
     ]
    },
    {
     "name": "stdout",
     "output_type": "stream",
     "text": [
      "lr: 0.012499999999999999    reg: 0.04    n_epochs: 20    n_factors: 20\n"
     ]
    },
    {
     "name": "stderr",
     "output_type": "stream",
     "text": [
      "Epoch: 100%|████████████████| 20/20 [06:18<00:00, 18.92s/it, test_Loss=0.719, test_RMSE=0.848, test_MAE=0.668]\n",
      "Epoch:   0%|                                                                           | 0/20 [00:00<?, ?it/s]"
     ]
    },
    {
     "name": "stdout",
     "output_type": "stream",
     "text": [
      "lr: 0.015    reg: 0.02    n_epochs: 20    n_factors: 10\n"
     ]
    },
    {
     "name": "stderr",
     "output_type": "stream",
     "text": [
      "Epoch: 100%|████████████████| 20/20 [06:11<00:00, 18.58s/it, test_Loss=0.726, test_RMSE=0.852, test_MAE=0.665]\n",
      "Epoch:   0%|                                                                           | 0/20 [00:00<?, ?it/s]"
     ]
    },
    {
     "name": "stdout",
     "output_type": "stream",
     "text": [
      "lr: 0.015    reg: 0.02    n_epochs: 20    n_factors: 15\n"
     ]
    },
    {
     "name": "stderr",
     "output_type": "stream",
     "text": [
      "Epoch: 100%|████████████████| 20/20 [06:12<00:00, 18.63s/it, test_Loss=0.713, test_RMSE=0.844, test_MAE=0.659]\n",
      "Epoch:   0%|                                                                           | 0/20 [00:00<?, ?it/s]"
     ]
    },
    {
     "name": "stdout",
     "output_type": "stream",
     "text": [
      "lr: 0.015    reg: 0.02    n_epochs: 20    n_factors: 20\n"
     ]
    },
    {
     "name": "stderr",
     "output_type": "stream",
     "text": [
      "Epoch: 100%|████████████████| 20/20 [06:14<00:00, 18.73s/it, test_Loss=0.738, test_RMSE=0.859, test_MAE=0.673]\n",
      "Epoch:   0%|                                                                           | 0/20 [00:00<?, ?it/s]"
     ]
    },
    {
     "name": "stdout",
     "output_type": "stream",
     "text": [
      "lr: 0.015    reg: 0.03    n_epochs: 20    n_factors: 10\n"
     ]
    },
    {
     "name": "stderr",
     "output_type": "stream",
     "text": [
      "Epoch: 100%|████████████████| 20/20 [06:10<00:00, 18.55s/it, test_Loss=0.725, test_RMSE=0.852, test_MAE=0.666]\n",
      "Epoch:   0%|                                                                           | 0/20 [00:00<?, ?it/s]"
     ]
    },
    {
     "name": "stdout",
     "output_type": "stream",
     "text": [
      "lr: 0.015    reg: 0.03    n_epochs: 20    n_factors: 15\n"
     ]
    },
    {
     "name": "stderr",
     "output_type": "stream",
     "text": [
      "Epoch: 100%|████████████████| 20/20 [06:14<00:00, 18.72s/it, test_Loss=0.709, test_RMSE=0.842, test_MAE=0.659]\n",
      "Epoch:   0%|                                                                           | 0/20 [00:00<?, ?it/s]"
     ]
    },
    {
     "name": "stdout",
     "output_type": "stream",
     "text": [
      "lr: 0.015    reg: 0.03    n_epochs: 20    n_factors: 20\n"
     ]
    },
    {
     "name": "stderr",
     "output_type": "stream",
     "text": [
      "Epoch: 100%|████████████████| 20/20 [06:12<00:00, 18.62s/it, test_Loss=0.727, test_RMSE=0.853, test_MAE=0.670]\n",
      "Epoch:   0%|                                                                           | 0/20 [00:00<?, ?it/s]"
     ]
    },
    {
     "name": "stdout",
     "output_type": "stream",
     "text": [
      "lr: 0.015    reg: 0.04    n_epochs: 20    n_factors: 10\n"
     ]
    },
    {
     "name": "stderr",
     "output_type": "stream",
     "text": [
      "Epoch: 100%|████████████████| 20/20 [06:09<00:00, 18.45s/it, test_Loss=0.727, test_RMSE=0.853, test_MAE=0.669]\n",
      "Epoch:   0%|                                                                           | 0/20 [00:00<?, ?it/s]"
     ]
    },
    {
     "name": "stdout",
     "output_type": "stream",
     "text": [
      "lr: 0.015    reg: 0.04    n_epochs: 20    n_factors: 15\n"
     ]
    },
    {
     "name": "stderr",
     "output_type": "stream",
     "text": [
      "Epoch: 100%|████████████████| 20/20 [06:11<00:00, 18.58s/it, test_Loss=0.710, test_RMSE=0.842, test_MAE=0.662]\n",
      "Epoch:   0%|                                                                           | 0/20 [00:00<?, ?it/s]"
     ]
    },
    {
     "name": "stdout",
     "output_type": "stream",
     "text": [
      "lr: 0.015    reg: 0.04    n_epochs: 20    n_factors: 20\n"
     ]
    },
    {
     "name": "stderr",
     "output_type": "stream",
     "text": [
      "Epoch: 100%|████████████████| 20/20 [06:11<00:00, 18.56s/it, test_Loss=0.720, test_RMSE=0.849, test_MAE=0.669]\n",
      "Grid Search Progress: 100%|██████████| 45/45 [4:35:59<00:00, 368.00s/it]\n"
     ]
    }
   ],
   "source": [
    "lr_list = np.linspace(0.005, 0.015, 5)\n",
    "reg_list = np.linspace(0.02, 0.04, 3)\n",
    "n_epochs_list = [20]\n",
    "n_factors_list = range(10, 21, 5)\n",
    "grid_space = list(product(lr_list, reg_list, n_epochs_list, n_factors_list))\n",
    "\n",
    "hists = []\n",
    "for lr, reg, n_epochs, n_factors in tqdm(grid_space, position=0, leave=True, desc='Grid Search Progress'):\n",
    "    print(f\"lr: {lr}    reg: {reg}    n_epochs: {n_epochs}    n_factors: {n_factors}\")\n",
    "    hist, _ = run_funk(train=train_df, test=test_df, lr=lr, reg=reg,\n",
    "                     n_epochs=n_epochs, n_factors=n_factors)\n",
    "    \n",
    "    hists.append({'lr': lr, 'reg': reg, 'n_epochs': n_epochs, 'n_factors': n_factors, 'hist': hist})\n",
    "    with open('funk_results.json', 'w') as f:\n",
    "        json.dump(hists, f)"
   ]
  },
  {
   "cell_type": "markdown",
   "metadata": {},
   "source": [
    "### Funk-SVD Analysis"
   ]
  },
  {
   "cell_type": "code",
   "execution_count": 16,
   "metadata": {},
   "outputs": [
    {
     "data": {
      "application/vnd.plotly.v1+json": {
       "config": {
        "plotlyServerURL": "https://plot.ly"
       },
       "data": [
        {
         "hovertemplate": "variable=test_Loss<br>Epoch=%{x}<br>value=%{y}<extra></extra>",
         "legendgroup": "test_Loss",
         "line": {
          "color": "#636efa",
          "dash": "solid"
         },
         "mode": "lines",
         "name": "test_Loss",
         "orientation": "v",
         "showlegend": true,
         "type": "scatter",
         "x": [
          0,
          1,
          2,
          3,
          4,
          5,
          6,
          7,
          8,
          9,
          10,
          11,
          12,
          13,
          14,
          15,
          16,
          17,
          18,
          19
         ],
         "xaxis": "x",
         "y": [
          0.8469879632222787,
          0.8314655313955173,
          0.8260087154403649,
          0.8164645146734665,
          0.8019261342696166,
          0.7876677358846904,
          0.7742161415756512,
          0.7615363674654475,
          0.7501813120705126,
          0.7403117857319552,
          0.7319071651357658,
          0.7249911418259928,
          0.7195096674737937,
          0.7153054681373882,
          0.7121618870406,
          0.7098549407339592,
          0.7081890342036025,
          0.7070057006400239,
          0.7061828945449439,
          0.7056295957552483
         ],
         "yaxis": "y"
        },
        {
         "hovertemplate": "variable=test_RMSE<br>Epoch=%{x}<br>value=%{y}<extra></extra>",
         "legendgroup": "test_RMSE",
         "line": {
          "color": "#EF553B",
          "dash": "solid"
         },
         "mode": "lines",
         "name": "test_RMSE",
         "orientation": "v",
         "showlegend": true,
         "type": "scatter",
         "x": [
          0,
          1,
          2,
          3,
          4,
          5,
          6,
          7,
          8,
          9,
          10,
          11,
          12,
          13,
          14,
          15,
          16,
          17,
          18,
          19
         ],
         "xaxis": "x",
         "y": [
          0.9203194897546605,
          0.9118473180283623,
          0.9088502161744613,
          0.9035842598637199,
          0.8955032854599789,
          0.8875064708973622,
          0.8798955287848957,
          0.8726605110038196,
          0.8661300780313039,
          0.8604137293953155,
          0.8555157305016465,
          0.8514641165815461,
          0.8482391570033735,
          0.8457573340724798,
          0.8438968462084688,
          0.842528896082478,
          0.8415396807065026,
          0.840836310253086,
          0.8403468894123092,
          0.8400176163362577
         ],
         "yaxis": "y"
        },
        {
         "hovertemplate": "variable=test_MAE<br>Epoch=%{x}<br>value=%{y}<extra></extra>",
         "legendgroup": "test_MAE",
         "line": {
          "color": "#00cc96",
          "dash": "solid"
         },
         "mode": "lines",
         "name": "test_MAE",
         "orientation": "v",
         "showlegend": true,
         "type": "scatter",
         "x": [
          0,
          1,
          2,
          3,
          4,
          5,
          6,
          7,
          8,
          9,
          10,
          11,
          12,
          13,
          14,
          15,
          16,
          17,
          18,
          19
         ],
         "xaxis": "x",
         "y": [
          0.7315838614523991,
          0.7217607567982874,
          0.7184795636965838,
          0.7136693730367176,
          0.706023779010804,
          0.6992529663502787,
          0.6926635524371524,
          0.686519074596674,
          0.6808056787907569,
          0.6757925680495936,
          0.6713698122223897,
          0.6677215443043737,
          0.664834666307334,
          0.6625420394428759,
          0.6608612614874456,
          0.6596846238555627,
          0.6588718447299777,
          0.6584113277058946,
          0.6580791109804311,
          0.6578097725137796
         ],
         "yaxis": "y"
        }
       ],
       "layout": {
        "font": {
         "family": "Courier New, monospace",
         "size": 18
        },
        "hoverlabel": {
         "font": {
          "family": "Rockwell",
          "size": 12
         }
        },
        "legend": {
         "title": {
          "text": "variable"
         },
         "tracegroupgap": 0
        },
        "margin": {
         "t": 60
        },
        "template": {
         "data": {
          "bar": [
           {
            "error_x": {
             "color": "#2a3f5f"
            },
            "error_y": {
             "color": "#2a3f5f"
            },
            "marker": {
             "line": {
              "color": "#E5ECF6",
              "width": 0.5
             }
            },
            "type": "bar"
           }
          ],
          "barpolar": [
           {
            "marker": {
             "line": {
              "color": "#E5ECF6",
              "width": 0.5
             }
            },
            "type": "barpolar"
           }
          ],
          "carpet": [
           {
            "aaxis": {
             "endlinecolor": "#2a3f5f",
             "gridcolor": "white",
             "linecolor": "white",
             "minorgridcolor": "white",
             "startlinecolor": "#2a3f5f"
            },
            "baxis": {
             "endlinecolor": "#2a3f5f",
             "gridcolor": "white",
             "linecolor": "white",
             "minorgridcolor": "white",
             "startlinecolor": "#2a3f5f"
            },
            "type": "carpet"
           }
          ],
          "choropleth": [
           {
            "colorbar": {
             "outlinewidth": 0,
             "ticks": ""
            },
            "type": "choropleth"
           }
          ],
          "contour": [
           {
            "colorbar": {
             "outlinewidth": 0,
             "ticks": ""
            },
            "colorscale": [
             [
              0,
              "#0d0887"
             ],
             [
              0.1111111111111111,
              "#46039f"
             ],
             [
              0.2222222222222222,
              "#7201a8"
             ],
             [
              0.3333333333333333,
              "#9c179e"
             ],
             [
              0.4444444444444444,
              "#bd3786"
             ],
             [
              0.5555555555555556,
              "#d8576b"
             ],
             [
              0.6666666666666666,
              "#ed7953"
             ],
             [
              0.7777777777777778,
              "#fb9f3a"
             ],
             [
              0.8888888888888888,
              "#fdca26"
             ],
             [
              1,
              "#f0f921"
             ]
            ],
            "type": "contour"
           }
          ],
          "contourcarpet": [
           {
            "colorbar": {
             "outlinewidth": 0,
             "ticks": ""
            },
            "type": "contourcarpet"
           }
          ],
          "heatmap": [
           {
            "colorbar": {
             "outlinewidth": 0,
             "ticks": ""
            },
            "colorscale": [
             [
              0,
              "#0d0887"
             ],
             [
              0.1111111111111111,
              "#46039f"
             ],
             [
              0.2222222222222222,
              "#7201a8"
             ],
             [
              0.3333333333333333,
              "#9c179e"
             ],
             [
              0.4444444444444444,
              "#bd3786"
             ],
             [
              0.5555555555555556,
              "#d8576b"
             ],
             [
              0.6666666666666666,
              "#ed7953"
             ],
             [
              0.7777777777777778,
              "#fb9f3a"
             ],
             [
              0.8888888888888888,
              "#fdca26"
             ],
             [
              1,
              "#f0f921"
             ]
            ],
            "type": "heatmap"
           }
          ],
          "heatmapgl": [
           {
            "colorbar": {
             "outlinewidth": 0,
             "ticks": ""
            },
            "colorscale": [
             [
              0,
              "#0d0887"
             ],
             [
              0.1111111111111111,
              "#46039f"
             ],
             [
              0.2222222222222222,
              "#7201a8"
             ],
             [
              0.3333333333333333,
              "#9c179e"
             ],
             [
              0.4444444444444444,
              "#bd3786"
             ],
             [
              0.5555555555555556,
              "#d8576b"
             ],
             [
              0.6666666666666666,
              "#ed7953"
             ],
             [
              0.7777777777777778,
              "#fb9f3a"
             ],
             [
              0.8888888888888888,
              "#fdca26"
             ],
             [
              1,
              "#f0f921"
             ]
            ],
            "type": "heatmapgl"
           }
          ],
          "histogram": [
           {
            "marker": {
             "colorbar": {
              "outlinewidth": 0,
              "ticks": ""
             }
            },
            "type": "histogram"
           }
          ],
          "histogram2d": [
           {
            "colorbar": {
             "outlinewidth": 0,
             "ticks": ""
            },
            "colorscale": [
             [
              0,
              "#0d0887"
             ],
             [
              0.1111111111111111,
              "#46039f"
             ],
             [
              0.2222222222222222,
              "#7201a8"
             ],
             [
              0.3333333333333333,
              "#9c179e"
             ],
             [
              0.4444444444444444,
              "#bd3786"
             ],
             [
              0.5555555555555556,
              "#d8576b"
             ],
             [
              0.6666666666666666,
              "#ed7953"
             ],
             [
              0.7777777777777778,
              "#fb9f3a"
             ],
             [
              0.8888888888888888,
              "#fdca26"
             ],
             [
              1,
              "#f0f921"
             ]
            ],
            "type": "histogram2d"
           }
          ],
          "histogram2dcontour": [
           {
            "colorbar": {
             "outlinewidth": 0,
             "ticks": ""
            },
            "colorscale": [
             [
              0,
              "#0d0887"
             ],
             [
              0.1111111111111111,
              "#46039f"
             ],
             [
              0.2222222222222222,
              "#7201a8"
             ],
             [
              0.3333333333333333,
              "#9c179e"
             ],
             [
              0.4444444444444444,
              "#bd3786"
             ],
             [
              0.5555555555555556,
              "#d8576b"
             ],
             [
              0.6666666666666666,
              "#ed7953"
             ],
             [
              0.7777777777777778,
              "#fb9f3a"
             ],
             [
              0.8888888888888888,
              "#fdca26"
             ],
             [
              1,
              "#f0f921"
             ]
            ],
            "type": "histogram2dcontour"
           }
          ],
          "mesh3d": [
           {
            "colorbar": {
             "outlinewidth": 0,
             "ticks": ""
            },
            "type": "mesh3d"
           }
          ],
          "parcoords": [
           {
            "line": {
             "colorbar": {
              "outlinewidth": 0,
              "ticks": ""
             }
            },
            "type": "parcoords"
           }
          ],
          "pie": [
           {
            "automargin": true,
            "type": "pie"
           }
          ],
          "scatter": [
           {
            "marker": {
             "colorbar": {
              "outlinewidth": 0,
              "ticks": ""
             }
            },
            "type": "scatter"
           }
          ],
          "scatter3d": [
           {
            "line": {
             "colorbar": {
              "outlinewidth": 0,
              "ticks": ""
             }
            },
            "marker": {
             "colorbar": {
              "outlinewidth": 0,
              "ticks": ""
             }
            },
            "type": "scatter3d"
           }
          ],
          "scattercarpet": [
           {
            "marker": {
             "colorbar": {
              "outlinewidth": 0,
              "ticks": ""
             }
            },
            "type": "scattercarpet"
           }
          ],
          "scattergeo": [
           {
            "marker": {
             "colorbar": {
              "outlinewidth": 0,
              "ticks": ""
             }
            },
            "type": "scattergeo"
           }
          ],
          "scattergl": [
           {
            "marker": {
             "colorbar": {
              "outlinewidth": 0,
              "ticks": ""
             }
            },
            "type": "scattergl"
           }
          ],
          "scattermapbox": [
           {
            "marker": {
             "colorbar": {
              "outlinewidth": 0,
              "ticks": ""
             }
            },
            "type": "scattermapbox"
           }
          ],
          "scatterpolar": [
           {
            "marker": {
             "colorbar": {
              "outlinewidth": 0,
              "ticks": ""
             }
            },
            "type": "scatterpolar"
           }
          ],
          "scatterpolargl": [
           {
            "marker": {
             "colorbar": {
              "outlinewidth": 0,
              "ticks": ""
             }
            },
            "type": "scatterpolargl"
           }
          ],
          "scatterternary": [
           {
            "marker": {
             "colorbar": {
              "outlinewidth": 0,
              "ticks": ""
             }
            },
            "type": "scatterternary"
           }
          ],
          "surface": [
           {
            "colorbar": {
             "outlinewidth": 0,
             "ticks": ""
            },
            "colorscale": [
             [
              0,
              "#0d0887"
             ],
             [
              0.1111111111111111,
              "#46039f"
             ],
             [
              0.2222222222222222,
              "#7201a8"
             ],
             [
              0.3333333333333333,
              "#9c179e"
             ],
             [
              0.4444444444444444,
              "#bd3786"
             ],
             [
              0.5555555555555556,
              "#d8576b"
             ],
             [
              0.6666666666666666,
              "#ed7953"
             ],
             [
              0.7777777777777778,
              "#fb9f3a"
             ],
             [
              0.8888888888888888,
              "#fdca26"
             ],
             [
              1,
              "#f0f921"
             ]
            ],
            "type": "surface"
           }
          ],
          "table": [
           {
            "cells": {
             "fill": {
              "color": "#EBF0F8"
             },
             "line": {
              "color": "white"
             }
            },
            "header": {
             "fill": {
              "color": "#C8D4E3"
             },
             "line": {
              "color": "white"
             }
            },
            "type": "table"
           }
          ]
         },
         "layout": {
          "annotationdefaults": {
           "arrowcolor": "#2a3f5f",
           "arrowhead": 0,
           "arrowwidth": 1
          },
          "autotypenumbers": "strict",
          "coloraxis": {
           "colorbar": {
            "outlinewidth": 0,
            "ticks": ""
           }
          },
          "colorscale": {
           "diverging": [
            [
             0,
             "#8e0152"
            ],
            [
             0.1,
             "#c51b7d"
            ],
            [
             0.2,
             "#de77ae"
            ],
            [
             0.3,
             "#f1b6da"
            ],
            [
             0.4,
             "#fde0ef"
            ],
            [
             0.5,
             "#f7f7f7"
            ],
            [
             0.6,
             "#e6f5d0"
            ],
            [
             0.7,
             "#b8e186"
            ],
            [
             0.8,
             "#7fbc41"
            ],
            [
             0.9,
             "#4d9221"
            ],
            [
             1,
             "#276419"
            ]
           ],
           "sequential": [
            [
             0,
             "#0d0887"
            ],
            [
             0.1111111111111111,
             "#46039f"
            ],
            [
             0.2222222222222222,
             "#7201a8"
            ],
            [
             0.3333333333333333,
             "#9c179e"
            ],
            [
             0.4444444444444444,
             "#bd3786"
            ],
            [
             0.5555555555555556,
             "#d8576b"
            ],
            [
             0.6666666666666666,
             "#ed7953"
            ],
            [
             0.7777777777777778,
             "#fb9f3a"
            ],
            [
             0.8888888888888888,
             "#fdca26"
            ],
            [
             1,
             "#f0f921"
            ]
           ],
           "sequentialminus": [
            [
             0,
             "#0d0887"
            ],
            [
             0.1111111111111111,
             "#46039f"
            ],
            [
             0.2222222222222222,
             "#7201a8"
            ],
            [
             0.3333333333333333,
             "#9c179e"
            ],
            [
             0.4444444444444444,
             "#bd3786"
            ],
            [
             0.5555555555555556,
             "#d8576b"
            ],
            [
             0.6666666666666666,
             "#ed7953"
            ],
            [
             0.7777777777777778,
             "#fb9f3a"
            ],
            [
             0.8888888888888888,
             "#fdca26"
            ],
            [
             1,
             "#f0f921"
            ]
           ]
          },
          "colorway": [
           "#636efa",
           "#EF553B",
           "#00cc96",
           "#ab63fa",
           "#FFA15A",
           "#19d3f3",
           "#FF6692",
           "#B6E880",
           "#FF97FF",
           "#FECB52"
          ],
          "font": {
           "color": "#2a3f5f"
          },
          "geo": {
           "bgcolor": "white",
           "lakecolor": "white",
           "landcolor": "#E5ECF6",
           "showlakes": true,
           "showland": true,
           "subunitcolor": "white"
          },
          "hoverlabel": {
           "align": "left"
          },
          "hovermode": "closest",
          "mapbox": {
           "style": "light"
          },
          "paper_bgcolor": "white",
          "plot_bgcolor": "#E5ECF6",
          "polar": {
           "angularaxis": {
            "gridcolor": "white",
            "linecolor": "white",
            "ticks": ""
           },
           "bgcolor": "#E5ECF6",
           "radialaxis": {
            "gridcolor": "white",
            "linecolor": "white",
            "ticks": ""
           }
          },
          "scene": {
           "xaxis": {
            "backgroundcolor": "#E5ECF6",
            "gridcolor": "white",
            "gridwidth": 2,
            "linecolor": "white",
            "showbackground": true,
            "ticks": "",
            "zerolinecolor": "white"
           },
           "yaxis": {
            "backgroundcolor": "#E5ECF6",
            "gridcolor": "white",
            "gridwidth": 2,
            "linecolor": "white",
            "showbackground": true,
            "ticks": "",
            "zerolinecolor": "white"
           },
           "zaxis": {
            "backgroundcolor": "#E5ECF6",
            "gridcolor": "white",
            "gridwidth": 2,
            "linecolor": "white",
            "showbackground": true,
            "ticks": "",
            "zerolinecolor": "white"
           }
          },
          "shapedefaults": {
           "line": {
            "color": "#2a3f5f"
           }
          },
          "ternary": {
           "aaxis": {
            "gridcolor": "white",
            "linecolor": "white",
            "ticks": ""
           },
           "baxis": {
            "gridcolor": "white",
            "linecolor": "white",
            "ticks": ""
           },
           "bgcolor": "#E5ECF6",
           "caxis": {
            "gridcolor": "white",
            "linecolor": "white",
            "ticks": ""
           }
          },
          "title": {
           "x": 0.05
          },
          "xaxis": {
           "automargin": true,
           "gridcolor": "white",
           "linecolor": "white",
           "ticks": "",
           "title": {
            "standoff": 15
           },
           "zerolinecolor": "white",
           "zerolinewidth": 2
          },
          "yaxis": {
           "automargin": true,
           "gridcolor": "white",
           "linecolor": "white",
           "ticks": "",
           "title": {
            "standoff": 15
           },
           "zerolinecolor": "white",
           "zerolinewidth": 2
          }
         }
        },
        "xaxis": {
         "anchor": "y",
         "domain": [
          0,
          1
         ],
         "showspikes": true,
         "title": {
          "text": "Epoch"
         }
        },
        "yaxis": {
         "anchor": "x",
         "domain": [
          0,
          1
         ],
         "title": {
          "text": "value"
         }
        }
       }
      },
      "text/html": [
       "<div>                            <div id=\"912fb47c-ae1d-44e7-8a2a-e9b961003a9e\" class=\"plotly-graph-div\" style=\"height:525px; width:100%;\"></div>            <script type=\"text/javascript\">                require([\"plotly\"], function(Plotly) {                    window.PLOTLYENV=window.PLOTLYENV || {};                                    if (document.getElementById(\"912fb47c-ae1d-44e7-8a2a-e9b961003a9e\")) {                    Plotly.newPlot(                        \"912fb47c-ae1d-44e7-8a2a-e9b961003a9e\",                        [{\"hovertemplate\": \"variable=test_Loss<br>Epoch=%{x}<br>value=%{y}<extra></extra>\", \"legendgroup\": \"test_Loss\", \"line\": {\"color\": \"#636efa\", \"dash\": \"solid\"}, \"mode\": \"lines\", \"name\": \"test_Loss\", \"orientation\": \"v\", \"showlegend\": true, \"type\": \"scatter\", \"x\": [0, 1, 2, 3, 4, 5, 6, 7, 8, 9, 10, 11, 12, 13, 14, 15, 16, 17, 18, 19], \"xaxis\": \"x\", \"y\": [0.8469879632222787, 0.8314655313955173, 0.8260087154403649, 0.8164645146734665, 0.8019261342696166, 0.7876677358846904, 0.7742161415756512, 0.7615363674654475, 0.7501813120705126, 0.7403117857319552, 0.7319071651357658, 0.7249911418259928, 0.7195096674737937, 0.7153054681373882, 0.7121618870406, 0.7098549407339592, 0.7081890342036025, 0.7070057006400239, 0.7061828945449439, 0.7056295957552483], \"yaxis\": \"y\"}, {\"hovertemplate\": \"variable=test_RMSE<br>Epoch=%{x}<br>value=%{y}<extra></extra>\", \"legendgroup\": \"test_RMSE\", \"line\": {\"color\": \"#EF553B\", \"dash\": \"solid\"}, \"mode\": \"lines\", \"name\": \"test_RMSE\", \"orientation\": \"v\", \"showlegend\": true, \"type\": \"scatter\", \"x\": [0, 1, 2, 3, 4, 5, 6, 7, 8, 9, 10, 11, 12, 13, 14, 15, 16, 17, 18, 19], \"xaxis\": \"x\", \"y\": [0.9203194897546605, 0.9118473180283623, 0.9088502161744613, 0.9035842598637199, 0.8955032854599789, 0.8875064708973622, 0.8798955287848957, 0.8726605110038196, 0.8661300780313039, 0.8604137293953155, 0.8555157305016465, 0.8514641165815461, 0.8482391570033735, 0.8457573340724798, 0.8438968462084688, 0.842528896082478, 0.8415396807065026, 0.840836310253086, 0.8403468894123092, 0.8400176163362577], \"yaxis\": \"y\"}, {\"hovertemplate\": \"variable=test_MAE<br>Epoch=%{x}<br>value=%{y}<extra></extra>\", \"legendgroup\": \"test_MAE\", \"line\": {\"color\": \"#00cc96\", \"dash\": \"solid\"}, \"mode\": \"lines\", \"name\": \"test_MAE\", \"orientation\": \"v\", \"showlegend\": true, \"type\": \"scatter\", \"x\": [0, 1, 2, 3, 4, 5, 6, 7, 8, 9, 10, 11, 12, 13, 14, 15, 16, 17, 18, 19], \"xaxis\": \"x\", \"y\": [0.7315838614523991, 0.7217607567982874, 0.7184795636965838, 0.7136693730367176, 0.706023779010804, 0.6992529663502787, 0.6926635524371524, 0.686519074596674, 0.6808056787907569, 0.6757925680495936, 0.6713698122223897, 0.6677215443043737, 0.664834666307334, 0.6625420394428759, 0.6608612614874456, 0.6596846238555627, 0.6588718447299777, 0.6584113277058946, 0.6580791109804311, 0.6578097725137796], \"yaxis\": \"y\"}],                        {\"font\": {\"family\": \"Courier New, monospace\", \"size\": 18}, \"hoverlabel\": {\"font\": {\"family\": \"Rockwell\", \"size\": 12}}, \"legend\": {\"title\": {\"text\": \"variable\"}, \"tracegroupgap\": 0}, \"margin\": {\"t\": 60}, \"template\": {\"data\": {\"bar\": [{\"error_x\": {\"color\": \"#2a3f5f\"}, \"error_y\": {\"color\": \"#2a3f5f\"}, \"marker\": {\"line\": {\"color\": \"#E5ECF6\", \"width\": 0.5}}, \"type\": \"bar\"}], \"barpolar\": [{\"marker\": {\"line\": {\"color\": \"#E5ECF6\", \"width\": 0.5}}, \"type\": \"barpolar\"}], \"carpet\": [{\"aaxis\": {\"endlinecolor\": \"#2a3f5f\", \"gridcolor\": \"white\", \"linecolor\": \"white\", \"minorgridcolor\": \"white\", \"startlinecolor\": \"#2a3f5f\"}, \"baxis\": {\"endlinecolor\": \"#2a3f5f\", \"gridcolor\": \"white\", \"linecolor\": \"white\", \"minorgridcolor\": \"white\", \"startlinecolor\": \"#2a3f5f\"}, \"type\": \"carpet\"}], \"choropleth\": [{\"colorbar\": {\"outlinewidth\": 0, \"ticks\": \"\"}, \"type\": \"choropleth\"}], \"contour\": [{\"colorbar\": {\"outlinewidth\": 0, \"ticks\": \"\"}, \"colorscale\": [[0.0, \"#0d0887\"], [0.1111111111111111, \"#46039f\"], [0.2222222222222222, \"#7201a8\"], [0.3333333333333333, \"#9c179e\"], [0.4444444444444444, \"#bd3786\"], [0.5555555555555556, \"#d8576b\"], [0.6666666666666666, \"#ed7953\"], [0.7777777777777778, \"#fb9f3a\"], [0.8888888888888888, \"#fdca26\"], [1.0, \"#f0f921\"]], \"type\": \"contour\"}], \"contourcarpet\": [{\"colorbar\": {\"outlinewidth\": 0, \"ticks\": \"\"}, \"type\": \"contourcarpet\"}], \"heatmap\": [{\"colorbar\": {\"outlinewidth\": 0, \"ticks\": \"\"}, \"colorscale\": [[0.0, \"#0d0887\"], [0.1111111111111111, \"#46039f\"], [0.2222222222222222, \"#7201a8\"], [0.3333333333333333, \"#9c179e\"], [0.4444444444444444, \"#bd3786\"], [0.5555555555555556, \"#d8576b\"], [0.6666666666666666, \"#ed7953\"], [0.7777777777777778, \"#fb9f3a\"], [0.8888888888888888, \"#fdca26\"], [1.0, \"#f0f921\"]], \"type\": \"heatmap\"}], \"heatmapgl\": [{\"colorbar\": {\"outlinewidth\": 0, \"ticks\": \"\"}, \"colorscale\": [[0.0, \"#0d0887\"], [0.1111111111111111, \"#46039f\"], [0.2222222222222222, \"#7201a8\"], [0.3333333333333333, \"#9c179e\"], [0.4444444444444444, \"#bd3786\"], [0.5555555555555556, \"#d8576b\"], [0.6666666666666666, \"#ed7953\"], [0.7777777777777778, \"#fb9f3a\"], [0.8888888888888888, \"#fdca26\"], [1.0, \"#f0f921\"]], \"type\": \"heatmapgl\"}], \"histogram\": [{\"marker\": {\"colorbar\": {\"outlinewidth\": 0, \"ticks\": \"\"}}, \"type\": \"histogram\"}], \"histogram2d\": [{\"colorbar\": {\"outlinewidth\": 0, \"ticks\": \"\"}, \"colorscale\": [[0.0, \"#0d0887\"], [0.1111111111111111, \"#46039f\"], [0.2222222222222222, \"#7201a8\"], [0.3333333333333333, \"#9c179e\"], [0.4444444444444444, \"#bd3786\"], [0.5555555555555556, \"#d8576b\"], [0.6666666666666666, \"#ed7953\"], [0.7777777777777778, \"#fb9f3a\"], [0.8888888888888888, \"#fdca26\"], [1.0, \"#f0f921\"]], \"type\": \"histogram2d\"}], \"histogram2dcontour\": [{\"colorbar\": {\"outlinewidth\": 0, \"ticks\": \"\"}, \"colorscale\": [[0.0, \"#0d0887\"], [0.1111111111111111, \"#46039f\"], [0.2222222222222222, \"#7201a8\"], [0.3333333333333333, \"#9c179e\"], [0.4444444444444444, \"#bd3786\"], [0.5555555555555556, \"#d8576b\"], [0.6666666666666666, \"#ed7953\"], [0.7777777777777778, \"#fb9f3a\"], [0.8888888888888888, \"#fdca26\"], [1.0, \"#f0f921\"]], \"type\": \"histogram2dcontour\"}], \"mesh3d\": [{\"colorbar\": {\"outlinewidth\": 0, \"ticks\": \"\"}, \"type\": \"mesh3d\"}], \"parcoords\": [{\"line\": {\"colorbar\": {\"outlinewidth\": 0, \"ticks\": \"\"}}, \"type\": \"parcoords\"}], \"pie\": [{\"automargin\": true, \"type\": \"pie\"}], \"scatter\": [{\"marker\": {\"colorbar\": {\"outlinewidth\": 0, \"ticks\": \"\"}}, \"type\": \"scatter\"}], \"scatter3d\": [{\"line\": {\"colorbar\": {\"outlinewidth\": 0, \"ticks\": \"\"}}, \"marker\": {\"colorbar\": {\"outlinewidth\": 0, \"ticks\": \"\"}}, \"type\": \"scatter3d\"}], \"scattercarpet\": [{\"marker\": {\"colorbar\": {\"outlinewidth\": 0, \"ticks\": \"\"}}, \"type\": \"scattercarpet\"}], \"scattergeo\": [{\"marker\": {\"colorbar\": {\"outlinewidth\": 0, \"ticks\": \"\"}}, \"type\": \"scattergeo\"}], \"scattergl\": [{\"marker\": {\"colorbar\": {\"outlinewidth\": 0, \"ticks\": \"\"}}, \"type\": \"scattergl\"}], \"scattermapbox\": [{\"marker\": {\"colorbar\": {\"outlinewidth\": 0, \"ticks\": \"\"}}, \"type\": \"scattermapbox\"}], \"scatterpolar\": [{\"marker\": {\"colorbar\": {\"outlinewidth\": 0, \"ticks\": \"\"}}, \"type\": \"scatterpolar\"}], \"scatterpolargl\": [{\"marker\": {\"colorbar\": {\"outlinewidth\": 0, \"ticks\": \"\"}}, \"type\": \"scatterpolargl\"}], \"scatterternary\": [{\"marker\": {\"colorbar\": {\"outlinewidth\": 0, \"ticks\": \"\"}}, \"type\": \"scatterternary\"}], \"surface\": [{\"colorbar\": {\"outlinewidth\": 0, \"ticks\": \"\"}, \"colorscale\": [[0.0, \"#0d0887\"], [0.1111111111111111, \"#46039f\"], [0.2222222222222222, \"#7201a8\"], [0.3333333333333333, \"#9c179e\"], [0.4444444444444444, \"#bd3786\"], [0.5555555555555556, \"#d8576b\"], [0.6666666666666666, \"#ed7953\"], [0.7777777777777778, \"#fb9f3a\"], [0.8888888888888888, \"#fdca26\"], [1.0, \"#f0f921\"]], \"type\": \"surface\"}], \"table\": [{\"cells\": {\"fill\": {\"color\": \"#EBF0F8\"}, \"line\": {\"color\": \"white\"}}, \"header\": {\"fill\": {\"color\": \"#C8D4E3\"}, \"line\": {\"color\": \"white\"}}, \"type\": \"table\"}]}, \"layout\": {\"annotationdefaults\": {\"arrowcolor\": \"#2a3f5f\", \"arrowhead\": 0, \"arrowwidth\": 1}, \"autotypenumbers\": \"strict\", \"coloraxis\": {\"colorbar\": {\"outlinewidth\": 0, \"ticks\": \"\"}}, \"colorscale\": {\"diverging\": [[0, \"#8e0152\"], [0.1, \"#c51b7d\"], [0.2, \"#de77ae\"], [0.3, \"#f1b6da\"], [0.4, \"#fde0ef\"], [0.5, \"#f7f7f7\"], [0.6, \"#e6f5d0\"], [0.7, \"#b8e186\"], [0.8, \"#7fbc41\"], [0.9, \"#4d9221\"], [1, \"#276419\"]], \"sequential\": [[0.0, \"#0d0887\"], [0.1111111111111111, \"#46039f\"], [0.2222222222222222, \"#7201a8\"], [0.3333333333333333, \"#9c179e\"], [0.4444444444444444, \"#bd3786\"], [0.5555555555555556, \"#d8576b\"], [0.6666666666666666, \"#ed7953\"], [0.7777777777777778, \"#fb9f3a\"], [0.8888888888888888, \"#fdca26\"], [1.0, \"#f0f921\"]], \"sequentialminus\": [[0.0, \"#0d0887\"], [0.1111111111111111, \"#46039f\"], [0.2222222222222222, \"#7201a8\"], [0.3333333333333333, \"#9c179e\"], [0.4444444444444444, \"#bd3786\"], [0.5555555555555556, \"#d8576b\"], [0.6666666666666666, \"#ed7953\"], [0.7777777777777778, \"#fb9f3a\"], [0.8888888888888888, \"#fdca26\"], [1.0, \"#f0f921\"]]}, \"colorway\": [\"#636efa\", \"#EF553B\", \"#00cc96\", \"#ab63fa\", \"#FFA15A\", \"#19d3f3\", \"#FF6692\", \"#B6E880\", \"#FF97FF\", \"#FECB52\"], \"font\": {\"color\": \"#2a3f5f\"}, \"geo\": {\"bgcolor\": \"white\", \"lakecolor\": \"white\", \"landcolor\": \"#E5ECF6\", \"showlakes\": true, \"showland\": true, \"subunitcolor\": \"white\"}, \"hoverlabel\": {\"align\": \"left\"}, \"hovermode\": \"closest\", \"mapbox\": {\"style\": \"light\"}, \"paper_bgcolor\": \"white\", \"plot_bgcolor\": \"#E5ECF6\", \"polar\": {\"angularaxis\": {\"gridcolor\": \"white\", \"linecolor\": \"white\", \"ticks\": \"\"}, \"bgcolor\": \"#E5ECF6\", \"radialaxis\": {\"gridcolor\": \"white\", \"linecolor\": \"white\", \"ticks\": \"\"}}, \"scene\": {\"xaxis\": {\"backgroundcolor\": \"#E5ECF6\", \"gridcolor\": \"white\", \"gridwidth\": 2, \"linecolor\": \"white\", \"showbackground\": true, \"ticks\": \"\", \"zerolinecolor\": \"white\"}, \"yaxis\": {\"backgroundcolor\": \"#E5ECF6\", \"gridcolor\": \"white\", \"gridwidth\": 2, \"linecolor\": \"white\", \"showbackground\": true, \"ticks\": \"\", \"zerolinecolor\": \"white\"}, \"zaxis\": {\"backgroundcolor\": \"#E5ECF6\", \"gridcolor\": \"white\", \"gridwidth\": 2, \"linecolor\": \"white\", \"showbackground\": true, \"ticks\": \"\", \"zerolinecolor\": \"white\"}}, \"shapedefaults\": {\"line\": {\"color\": \"#2a3f5f\"}}, \"ternary\": {\"aaxis\": {\"gridcolor\": \"white\", \"linecolor\": \"white\", \"ticks\": \"\"}, \"baxis\": {\"gridcolor\": \"white\", \"linecolor\": \"white\", \"ticks\": \"\"}, \"bgcolor\": \"#E5ECF6\", \"caxis\": {\"gridcolor\": \"white\", \"linecolor\": \"white\", \"ticks\": \"\"}}, \"title\": {\"x\": 0.05}, \"xaxis\": {\"automargin\": true, \"gridcolor\": \"white\", \"linecolor\": \"white\", \"ticks\": \"\", \"title\": {\"standoff\": 15}, \"zerolinecolor\": \"white\", \"zerolinewidth\": 2}, \"yaxis\": {\"automargin\": true, \"gridcolor\": \"white\", \"linecolor\": \"white\", \"ticks\": \"\", \"title\": {\"standoff\": 15}, \"zerolinecolor\": \"white\", \"zerolinewidth\": 2}}}, \"xaxis\": {\"anchor\": \"y\", \"domain\": [0.0, 1.0], \"showspikes\": true, \"title\": {\"text\": \"Epoch\"}}, \"yaxis\": {\"anchor\": \"x\", \"domain\": [0.0, 1.0], \"title\": {\"text\": \"value\"}}},                        {\"responsive\": true}                    ).then(function(){\n",
       "                            \n",
       "var gd = document.getElementById('912fb47c-ae1d-44e7-8a2a-e9b961003a9e');\n",
       "var x = new MutationObserver(function (mutations, observer) {{\n",
       "        var display = window.getComputedStyle(gd).display;\n",
       "        if (!display || display === 'none') {{\n",
       "            console.log([gd, 'removed!']);\n",
       "            Plotly.purge(gd);\n",
       "            observer.disconnect();\n",
       "        }}\n",
       "}});\n",
       "\n",
       "// Listen for the removal of the full notebook cells\n",
       "var notebookContainer = gd.closest('#notebook-container');\n",
       "if (notebookContainer) {{\n",
       "    x.observe(notebookContainer, {childList: true});\n",
       "}}\n",
       "\n",
       "// Listen for the clearing of the current output cell\n",
       "var outputEl = gd.closest('.output');\n",
       "if (outputEl) {{\n",
       "    x.observe(outputEl, {childList: true});\n",
       "}}\n",
       "\n",
       "                        })                };                });            </script>        </div>"
      ]
     },
     "metadata": {},
     "output_type": "display_data"
    },
    {
     "data": {
      "image/svg+xml": [
       "<svg class=\"main-svg\" xmlns=\"http://www.w3.org/2000/svg\" xmlns:xlink=\"http://www.w3.org/1999/xlink\" width=\"700\" height=\"450\" style=\"\" viewBox=\"0 0 700 450\"><rect x=\"0\" y=\"0\" width=\"700\" height=\"450\" style=\"fill: rgb(255, 255, 255); fill-opacity: 1;\"/><defs id=\"defs-661ec3\"><g class=\"clips\"><clipPath id=\"clip661ec3xyplot\" class=\"plotclip\"><rect width=\"449\" height=\"310\"/></clipPath><clipPath class=\"axesclip\" id=\"clip661ec3x\"><rect x=\"87\" y=\"0\" width=\"449\" height=\"450\"/></clipPath><clipPath class=\"axesclip\" id=\"clip661ec3y\"><rect x=\"0\" y=\"60\" width=\"700\" height=\"310\"/></clipPath><clipPath class=\"axesclip\" id=\"clip661ec3xy\"><rect x=\"87\" y=\"60\" width=\"449\" height=\"310\"/></clipPath></g><g class=\"gradients\"/></defs><g class=\"bglayer\"><rect class=\"bg\" x=\"87\" y=\"60\" width=\"449\" height=\"310\" style=\"fill: rgb(229, 236, 246); fill-opacity: 1; stroke-width: 0;\"/></g><g class=\"layer-below\"><g class=\"imagelayer\"/><g class=\"shapelayer\"/></g><g class=\"cartesianlayer\"><g class=\"subplot xy\"><g class=\"layer-subplot\"><g class=\"shapelayer\"/><g class=\"imagelayer\"/></g><g class=\"gridlayer\"><g class=\"x\"><path class=\"xgrid crisp\" transform=\"translate(205.16,0)\" d=\"M0,60v310\" style=\"stroke: rgb(255, 255, 255); stroke-opacity: 1; stroke-width: 1px;\"/><path class=\"xgrid crisp\" transform=\"translate(323.32,0)\" d=\"M0,60v310\" style=\"stroke: rgb(255, 255, 255); stroke-opacity: 1; stroke-width: 1px;\"/><path class=\"xgrid crisp\" transform=\"translate(441.47,0)\" d=\"M0,60v310\" style=\"stroke: rgb(255, 255, 255); stroke-opacity: 1; stroke-width: 1px;\"/></g><g class=\"y\"><path class=\"ygrid crisp\" transform=\"translate(0,362.8)\" d=\"M87,0h449\" style=\"stroke: rgb(255, 255, 255); stroke-opacity: 1; stroke-width: 1px;\"/><path class=\"ygrid crisp\" transform=\"translate(0,309.65999999999997)\" d=\"M87,0h449\" style=\"stroke: rgb(255, 255, 255); stroke-opacity: 1; stroke-width: 1px;\"/><path class=\"ygrid crisp\" transform=\"translate(0,256.52)\" d=\"M87,0h449\" style=\"stroke: rgb(255, 255, 255); stroke-opacity: 1; stroke-width: 1px;\"/><path class=\"ygrid crisp\" transform=\"translate(0,203.38)\" d=\"M87,0h449\" style=\"stroke: rgb(255, 255, 255); stroke-opacity: 1; stroke-width: 1px;\"/><path class=\"ygrid crisp\" transform=\"translate(0,150.24)\" d=\"M87,0h449\" style=\"stroke: rgb(255, 255, 255); stroke-opacity: 1; stroke-width: 1px;\"/><path class=\"ygrid crisp\" transform=\"translate(0,97.1)\" d=\"M87,0h449\" style=\"stroke: rgb(255, 255, 255); stroke-opacity: 1; stroke-width: 1px;\"/></g></g><g class=\"zerolinelayer\"><path class=\"xzl zl crisp\" transform=\"translate(87,0)\" d=\"M0,60v310\" style=\"stroke: rgb(255, 255, 255); stroke-opacity: 1; stroke-width: 2px;\"/></g><path class=\"xlines-below\"/><path class=\"ylines-below\"/><g class=\"overlines-below\"/><g class=\"xaxislayer-below\"/><g class=\"yaxislayer-below\"/><g class=\"overaxes-below\"/><g class=\"plot\" transform=\"translate(87,60)\" clip-path=\"url('#clip661ec3xyplot')\"><g class=\"scatterlayer mlayer\"><g class=\"trace scatter traceed966c\" style=\"stroke-miterlimit: 2; opacity: 1;\"><g class=\"fills\"/><g class=\"errorbars\"/><g class=\"lines\"><path class=\"js-line\" d=\"M0,93.44L23.63,109.94L47.26,115.74L70.89,125.88L94.53,141.33L141.79,170.78L165.42,184.26L189.05,196.33L212.68,206.82L236.32,215.75L259.95,223.1L283.58,228.92L307.21,233.39L330.84,236.73L354.47,239.19L401.74,242.21L425.37,243.09L449,243.68\" style=\"vector-effect: non-scaling-stroke; fill: none; stroke: rgb(99, 110, 250); stroke-opacity: 1; stroke-width: 2px; opacity: 1;\"/></g><g class=\"points\"/><g class=\"text\"/></g><g class=\"trace scatter tracefc091c\" style=\"stroke-miterlimit: 2; opacity: 1;\"><g class=\"fills\"/><g class=\"errorbars\"/><g class=\"lines\"><path class=\"js-line\" d=\"M0,15.5L23.63,24.5L47.26,27.69L70.89,33.29L94.53,41.88L141.79,58.46L165.42,66.15L189.05,73.09L212.68,79.17L236.32,84.37L259.95,88.68L283.58,92.11L307.21,94.75L354.47,98.18L378.11,99.23L449,100.85\" style=\"vector-effect: non-scaling-stroke; fill: none; stroke: rgb(239, 85, 59); stroke-opacity: 1; stroke-width: 2px; opacity: 1;\"/></g><g class=\"points\"/><g class=\"text\"/></g><g class=\"trace scatter traceb3f60e\" style=\"stroke-miterlimit: 2; opacity: 1;\"><g class=\"fills\"/><g class=\"errorbars\"/><g class=\"lines\"><path class=\"js-line\" d=\"M0,216.09L23.63,226.53L47.26,230.02L70.89,235.13L94.53,243.26L141.79,257.46L165.42,263.99L212.68,275.39L236.32,280.09L259.95,283.97L283.58,287.03L330.84,291.26L354.47,292.51L401.74,293.86L425.37,294.21L449,294.5\" style=\"vector-effect: non-scaling-stroke; fill: none; stroke: rgb(0, 204, 150); stroke-opacity: 1; stroke-width: 2px; opacity: 1;\"/></g><g class=\"points\"/><g class=\"text\"/></g></g></g><g class=\"overplot\"/><path class=\"xlines-above crisp\" d=\"M0,0\" style=\"fill: none;\"/><path class=\"ylines-above crisp\" d=\"M0,0\" style=\"fill: none;\"/><g class=\"overlines-above\"/><g class=\"xaxislayer-above\"><g class=\"xtick\"><text text-anchor=\"middle\" x=\"0\" y=\"389\" transform=\"translate(87,0)\" style=\"font-family: 'Courier New', monospace; font-size: 18px; fill: rgb(42, 63, 95); fill-opacity: 1; white-space: pre;\">0</text></g><g class=\"xtick\"><text text-anchor=\"middle\" x=\"0\" y=\"389\" transform=\"translate(205.16,0)\" style=\"font-family: 'Courier New', monospace; font-size: 18px; fill: rgb(42, 63, 95); fill-opacity: 1; white-space: pre;\">5</text></g><g class=\"xtick\"><text text-anchor=\"middle\" x=\"0\" y=\"389\" transform=\"translate(323.32,0)\" style=\"font-family: 'Courier New', monospace; font-size: 18px; fill: rgb(42, 63, 95); fill-opacity: 1; white-space: pre;\">10</text></g><g class=\"xtick\"><text text-anchor=\"middle\" x=\"0\" y=\"389\" transform=\"translate(441.47,0)\" style=\"font-family: 'Courier New', monospace; font-size: 18px; fill: rgb(42, 63, 95); fill-opacity: 1; white-space: pre;\">15</text></g></g><g class=\"yaxislayer-above\"><g class=\"ytick\"><text text-anchor=\"end\" x=\"86\" y=\"6.3\" transform=\"translate(0,362.8)\" style=\"font-family: 'Courier New', monospace; font-size: 18px; fill: rgb(42, 63, 95); fill-opacity: 1; white-space: pre;\">0.65</text></g><g class=\"ytick\"><text text-anchor=\"end\" x=\"86\" y=\"6.3\" transform=\"translate(0,309.65999999999997)\" style=\"font-family: 'Courier New', monospace; font-size: 18px; fill: rgb(42, 63, 95); fill-opacity: 1; white-space: pre;\">0.7</text></g><g class=\"ytick\"><text text-anchor=\"end\" x=\"86\" y=\"6.3\" transform=\"translate(0,256.52)\" style=\"font-family: 'Courier New', monospace; font-size: 18px; fill: rgb(42, 63, 95); fill-opacity: 1; white-space: pre;\">0.75</text></g><g class=\"ytick\"><text text-anchor=\"end\" x=\"86\" y=\"6.3\" transform=\"translate(0,203.38)\" style=\"font-family: 'Courier New', monospace; font-size: 18px; fill: rgb(42, 63, 95); fill-opacity: 1; white-space: pre;\">0.8</text></g><g class=\"ytick\"><text text-anchor=\"end\" x=\"86\" y=\"6.3\" transform=\"translate(0,150.24)\" style=\"font-family: 'Courier New', monospace; font-size: 18px; fill: rgb(42, 63, 95); fill-opacity: 1; white-space: pre;\">0.85</text></g><g class=\"ytick\"><text text-anchor=\"end\" x=\"86\" y=\"6.3\" transform=\"translate(0,97.1)\" style=\"font-family: 'Courier New', monospace; font-size: 18px; fill: rgb(42, 63, 95); fill-opacity: 1; white-space: pre;\">0.9</text></g></g><g class=\"overaxes-above\"/></g></g><g class=\"polarlayer\"/><g class=\"ternarylayer\"/><g class=\"geolayer\"/><g class=\"funnelarealayer\"/><g class=\"pielayer\"/><g class=\"treemaplayer\"/><g class=\"sunburstlayer\"/><g class=\"glimages\"/><defs id=\"topdefs-661ec3\"><g class=\"clips\"/><clipPath id=\"legend661ec3\"><rect width=\"143\" height=\"113\" x=\"0\" y=\"0\"/></clipPath></defs><g class=\"layer-above\"><g class=\"imagelayer\"/><g class=\"shapelayer\"/></g><g class=\"infolayer\"><g class=\"legend\" pointer-events=\"all\" transform=\"translate(544.98,60)\"><rect class=\"bg\" shape-rendering=\"crispEdges\" width=\"143\" height=\"113\" x=\"0\" y=\"0\" style=\"stroke: rgb(68, 68, 68); stroke-opacity: 1; fill: rgb(255, 255, 255); fill-opacity: 1; stroke-width: 0px;\"/><g class=\"scrollbox\" transform=\"\" clip-path=\"url('#legend661ec3')\"><text class=\"legendtitletext\" text-anchor=\"start\" x=\"2\" y=\"23.400000000000002\" style=\"font-family: 'Courier New', monospace; font-size: 18px; fill: rgb(42, 63, 95); fill-opacity: 1; white-space: pre;\">variable</text><g class=\"groups\" transform=\"\"><g class=\"traces\" transform=\"translate(0,41.6)\" style=\"opacity: 1;\"><text class=\"legendtext\" text-anchor=\"start\" x=\"40\" y=\"7.0200000000000005\" style=\"font-family: 'Courier New', monospace; font-size: 18px; fill: rgb(42, 63, 95); fill-opacity: 1; white-space: pre;\">test_Loss</text><g class=\"layers\" style=\"opacity: 1;\"><g class=\"legendfill\"/><g class=\"legendlines\"><path class=\"js-line\" d=\"M5,0h30\" style=\"fill: none; stroke: rgb(99, 110, 250); stroke-opacity: 1; stroke-width: 2px;\"/></g><g class=\"legendsymbols\"><g class=\"legendpoints\"/></g></g><rect class=\"legendtoggle\" x=\"0\" y=\"-13.200000000000001\" width=\"137.21875\" height=\"26.400000000000002\" style=\"fill: rgb(0, 0, 0); fill-opacity: 0;\"/></g></g><g class=\"groups\" transform=\"\"><g class=\"traces\" transform=\"translate(0,68)\" style=\"opacity: 1;\"><text class=\"legendtext\" text-anchor=\"start\" x=\"40\" y=\"7.0200000000000005\" style=\"font-family: 'Courier New', monospace; font-size: 18px; fill: rgb(42, 63, 95); fill-opacity: 1; white-space: pre;\">test_RMSE</text><g class=\"layers\" style=\"opacity: 1;\"><g class=\"legendfill\"/><g class=\"legendlines\"><path class=\"js-line\" d=\"M5,0h30\" style=\"fill: none; stroke: rgb(239, 85, 59); stroke-opacity: 1; stroke-width: 2px;\"/></g><g class=\"legendsymbols\"><g class=\"legendpoints\"/></g></g><rect class=\"legendtoggle\" x=\"0\" y=\"-13.200000000000001\" width=\"137.21875\" height=\"26.400000000000002\" style=\"fill: rgb(0, 0, 0); fill-opacity: 0;\"/></g></g><g class=\"groups\" transform=\"\"><g class=\"traces\" transform=\"translate(0,94.4)\" style=\"opacity: 1;\"><text class=\"legendtext\" text-anchor=\"start\" x=\"40\" y=\"7.0200000000000005\" style=\"font-family: 'Courier New', monospace; font-size: 18px; fill: rgb(42, 63, 95); fill-opacity: 1; white-space: pre;\">test_MAE</text><g class=\"layers\" style=\"opacity: 1;\"><g class=\"legendfill\"/><g class=\"legendlines\"><path class=\"js-line\" d=\"M5,0h30\" style=\"fill: none; stroke: rgb(0, 204, 150); stroke-opacity: 1; stroke-width: 2px;\"/></g><g class=\"legendsymbols\"><g class=\"legendpoints\"/></g></g><rect class=\"legendtoggle\" x=\"0\" y=\"-13.200000000000001\" width=\"137.21875\" height=\"26.400000000000002\" style=\"fill: rgb(0, 0, 0); fill-opacity: 0;\"/></g></g></g><rect class=\"scrollbar\" rx=\"20\" ry=\"3\" width=\"0\" height=\"0\" x=\"0\" y=\"0\" style=\"fill: rgb(128, 139, 164); fill-opacity: 1;\"/></g><g class=\"g-gtitle\"/><g class=\"g-xtitle\"><text class=\"xtitle\" x=\"311.5\" y=\"424.4\" text-anchor=\"middle\" style=\"font-family: 'Courier New', monospace; font-size: 22px; fill: rgb(42, 63, 95); opacity: 1; font-weight: normal; white-space: pre;\">Epoch</text></g><g class=\"g-ytitle\" transform=\"translate(5.619140625,0)\"><text class=\"ytitle\" transform=\"rotate(-90,12.381249999999994,215)\" x=\"12.381249999999994\" y=\"215\" text-anchor=\"middle\" style=\"font-family: 'Courier New', monospace; font-size: 22px; fill: rgb(42, 63, 95); opacity: 1; font-weight: normal; white-space: pre;\">value</text></g></g></svg>"
      ]
     },
     "metadata": {},
     "output_type": "display_data"
    },
    {
     "data": {
      "text/html": [
       "<style  type=\"text/css\" >\n",
       "#T_036ed318_6d52_11eb_b3d3_ac1f6b2d260crow0_col0,#T_036ed318_6d52_11eb_b3d3_ac1f6b2d260crow0_col1,#T_036ed318_6d52_11eb_b3d3_ac1f6b2d260crow0_col2,#T_036ed318_6d52_11eb_b3d3_ac1f6b2d260crow1_col0,#T_036ed318_6d52_11eb_b3d3_ac1f6b2d260crow1_col1,#T_036ed318_6d52_11eb_b3d3_ac1f6b2d260crow1_col2,#T_036ed318_6d52_11eb_b3d3_ac1f6b2d260crow2_col0,#T_036ed318_6d52_11eb_b3d3_ac1f6b2d260crow2_col1,#T_036ed318_6d52_11eb_b3d3_ac1f6b2d260crow2_col2,#T_036ed318_6d52_11eb_b3d3_ac1f6b2d260crow3_col0,#T_036ed318_6d52_11eb_b3d3_ac1f6b2d260crow3_col1,#T_036ed318_6d52_11eb_b3d3_ac1f6b2d260crow3_col2,#T_036ed318_6d52_11eb_b3d3_ac1f6b2d260crow4_col0,#T_036ed318_6d52_11eb_b3d3_ac1f6b2d260crow4_col1,#T_036ed318_6d52_11eb_b3d3_ac1f6b2d260crow4_col2{\n",
       "            background-color:  #fff7fb;\n",
       "        }</style><table id=\"T_036ed318_6d52_11eb_b3d3_ac1f6b2d260c\" ><thead>    <tr>        <th class=\"index_name level0\" >n_factorss</th>        <th class=\"col_heading level0 col0\" >10</th>        <th class=\"col_heading level0 col1\" >15</th>        <th class=\"col_heading level0 col2\" >20</th>    </tr>    <tr>        <th class=\"index_name level0\" >lrs</th>        <th class=\"blank\" ></th>        <th class=\"blank\" ></th>        <th class=\"blank\" ></th>    </tr></thead><tbody>\n",
       "                <tr>\n",
       "                        <th id=\"T_036ed318_6d52_11eb_b3d3_ac1f6b2d260clevel0_row0\" class=\"row_heading level0 row0\" >0.005</th>\n",
       "                        <td id=\"T_036ed318_6d52_11eb_b3d3_ac1f6b2d260crow0_col0\" class=\"data row0 col0\" >0.8692</td>\n",
       "                        <td id=\"T_036ed318_6d52_11eb_b3d3_ac1f6b2d260crow0_col1\" class=\"data row0 col1\" >0.8576</td>\n",
       "                        <td id=\"T_036ed318_6d52_11eb_b3d3_ac1f6b2d260crow0_col2\" class=\"data row0 col2\" >0.8527</td>\n",
       "            </tr>\n",
       "            <tr>\n",
       "                        <th id=\"T_036ed318_6d52_11eb_b3d3_ac1f6b2d260clevel0_row1\" class=\"row_heading level0 row1\" >0.0075</th>\n",
       "                        <td id=\"T_036ed318_6d52_11eb_b3d3_ac1f6b2d260crow1_col0\" class=\"data row1 col0\" >0.8514</td>\n",
       "                        <td id=\"T_036ed318_6d52_11eb_b3d3_ac1f6b2d260crow1_col1\" class=\"data row1 col1\" >0.8520</td>\n",
       "                        <td id=\"T_036ed318_6d52_11eb_b3d3_ac1f6b2d260crow1_col2\" class=\"data row1 col2\" >0.8525</td>\n",
       "            </tr>\n",
       "            <tr>\n",
       "                        <th id=\"T_036ed318_6d52_11eb_b3d3_ac1f6b2d260clevel0_row2\" class=\"row_heading level0 row2\" >0.01</th>\n",
       "                        <td id=\"T_036ed318_6d52_11eb_b3d3_ac1f6b2d260crow2_col0\" class=\"data row2 col0\" >0.8416</td>\n",
       "                        <td id=\"T_036ed318_6d52_11eb_b3d3_ac1f6b2d260crow2_col1\" class=\"data row2 col1\" >0.8406</td>\n",
       "                        <td id=\"T_036ed318_6d52_11eb_b3d3_ac1f6b2d260crow2_col2\" class=\"data row2 col2\" >0.8421</td>\n",
       "            </tr>\n",
       "            <tr>\n",
       "                        <th id=\"T_036ed318_6d52_11eb_b3d3_ac1f6b2d260clevel0_row3\" class=\"row_heading level0 row3\" >0.0125</th>\n",
       "                        <td id=\"T_036ed318_6d52_11eb_b3d3_ac1f6b2d260crow3_col0\" class=\"data row3 col0\" >0.8444</td>\n",
       "                        <td id=\"T_036ed318_6d52_11eb_b3d3_ac1f6b2d260crow3_col1\" class=\"data row3 col1\" >0.8601</td>\n",
       "                        <td id=\"T_036ed318_6d52_11eb_b3d3_ac1f6b2d260crow3_col2\" class=\"data row3 col2\" >0.8540</td>\n",
       "            </tr>\n",
       "            <tr>\n",
       "                        <th id=\"T_036ed318_6d52_11eb_b3d3_ac1f6b2d260clevel0_row4\" class=\"row_heading level0 row4\" >0.015</th>\n",
       "                        <td id=\"T_036ed318_6d52_11eb_b3d3_ac1f6b2d260crow4_col0\" class=\"data row4 col0\" >0.8549</td>\n",
       "                        <td id=\"T_036ed318_6d52_11eb_b3d3_ac1f6b2d260crow4_col1\" class=\"data row4 col1\" >0.8570</td>\n",
       "                        <td id=\"T_036ed318_6d52_11eb_b3d3_ac1f6b2d260crow4_col2\" class=\"data row4 col2\" >0.8591</td>\n",
       "            </tr>\n",
       "    </tbody></table>"
      ],
      "text/plain": [
       "<pandas.io.formats.style.Styler at 0x7fae08ea8278>"
      ]
     },
     "execution_count": 16,
     "metadata": {},
     "output_type": "execute_result"
    }
   ],
   "source": [
    "with open('funk_results.json') as f:\n",
    "    hists = json.load(f)\n",
    "\n",
    "best = min(hists, key= lambda x: min(x.get('hist', {}).get('test_RMSE', [float('inf')])))\n",
    "funk_best_lr = best['lr']\n",
    "funk_best_reg = best['reg']\n",
    "funk_best_n_factors = best['n_factors']\n",
    "funk_best_n_epochs = np.argmin(best['hist']['test_RMSE'])\n",
    "best_hist = best['hist']\n",
    "plot_experiment(best_hist)\n",
    "\n",
    "plot_color_map(hists, 'n_factors', 'lr')"
   ]
  },
  {
   "cell_type": "code",
   "execution_count": 9,
   "metadata": {},
   "outputs": [
    {
     "data": {
      "text/html": [
       "<style  type=\"text/css\" >\n",
       "#T_8f99dc12_6d51_11eb_b3d3_ac1f6b2d260crow0_col0,#T_8f99dc12_6d51_11eb_b3d3_ac1f6b2d260crow0_col1,#T_8f99dc12_6d51_11eb_b3d3_ac1f6b2d260crow0_col2,#T_8f99dc12_6d51_11eb_b3d3_ac1f6b2d260crow1_col0,#T_8f99dc12_6d51_11eb_b3d3_ac1f6b2d260crow1_col1,#T_8f99dc12_6d51_11eb_b3d3_ac1f6b2d260crow1_col2,#T_8f99dc12_6d51_11eb_b3d3_ac1f6b2d260crow2_col0,#T_8f99dc12_6d51_11eb_b3d3_ac1f6b2d260crow2_col1,#T_8f99dc12_6d51_11eb_b3d3_ac1f6b2d260crow2_col2{\n",
       "            background-color:  #fff7fb;\n",
       "        }</style><table id=\"T_8f99dc12_6d51_11eb_b3d3_ac1f6b2d260c\" ><thead>    <tr>        <th class=\"index_name level0\" >n_factorss</th>        <th class=\"col_heading level0 col0\" >10</th>        <th class=\"col_heading level0 col1\" >15</th>        <th class=\"col_heading level0 col2\" >20</th>    </tr>    <tr>        <th class=\"index_name level0\" >regs</th>        <th class=\"blank\" ></th>        <th class=\"blank\" ></th>        <th class=\"blank\" ></th>    </tr></thead><tbody>\n",
       "                <tr>\n",
       "                        <th id=\"T_8f99dc12_6d51_11eb_b3d3_ac1f6b2d260clevel0_row0\" class=\"row_heading level0 row0\" >0.02</th>\n",
       "                        <td id=\"T_8f99dc12_6d51_11eb_b3d3_ac1f6b2d260crow0_col0\" class=\"data row0 col0\" >0.8692</td>\n",
       "                        <td id=\"T_8f99dc12_6d51_11eb_b3d3_ac1f6b2d260crow0_col1\" class=\"data row0 col1\" >0.8714</td>\n",
       "                        <td id=\"T_8f99dc12_6d51_11eb_b3d3_ac1f6b2d260crow0_col2\" class=\"data row0 col2\" >0.8747</td>\n",
       "            </tr>\n",
       "            <tr>\n",
       "                        <th id=\"T_8f99dc12_6d51_11eb_b3d3_ac1f6b2d260clevel0_row1\" class=\"row_heading level0 row1\" >0.03</th>\n",
       "                        <td id=\"T_8f99dc12_6d51_11eb_b3d3_ac1f6b2d260crow1_col0\" class=\"data row1 col0\" >0.8525</td>\n",
       "                        <td id=\"T_8f99dc12_6d51_11eb_b3d3_ac1f6b2d260crow1_col1\" class=\"data row1 col1\" >0.8576</td>\n",
       "                        <td id=\"T_8f99dc12_6d51_11eb_b3d3_ac1f6b2d260crow1_col2\" class=\"data row1 col2\" >0.8643</td>\n",
       "            </tr>\n",
       "            <tr>\n",
       "                        <th id=\"T_8f99dc12_6d51_11eb_b3d3_ac1f6b2d260clevel0_row2\" class=\"row_heading level0 row2\" >0.04</th>\n",
       "                        <td id=\"T_8f99dc12_6d51_11eb_b3d3_ac1f6b2d260crow2_col0\" class=\"data row2 col0\" >0.8601</td>\n",
       "                        <td id=\"T_8f99dc12_6d51_11eb_b3d3_ac1f6b2d260crow2_col1\" class=\"data row2 col1\" >0.8621</td>\n",
       "                        <td id=\"T_8f99dc12_6d51_11eb_b3d3_ac1f6b2d260crow2_col2\" class=\"data row2 col2\" >0.8666</td>\n",
       "            </tr>\n",
       "    </tbody></table>"
      ],
      "text/plain": [
       "<pandas.io.formats.style.Styler at 0x7fae1815ca20>"
      ]
     },
     "execution_count": 9,
     "metadata": {},
     "output_type": "execute_result"
    }
   ],
   "source": [
    "plot_color_map(hists, 'n_factors', 'reg')"
   ]
  },
  {
   "cell_type": "markdown",
   "metadata": {},
   "source": [
    "## Run Ensemble"
   ]
  },
  {
   "cell_type": "code",
   "execution_count": 16,
   "metadata": {
    "colab": {
     "base_uri": "https://localhost:8080/"
    },
    "id": "mSqEPw0RvulF",
    "outputId": "cb835b42-7cbc-4d3e-c6e0-9fff95753014"
   },
   "outputs": [
    {
     "name": "stdout",
     "output_type": "stream",
     "text": [
      "Running SVT with best found parameters...\n"
     ]
    },
    {
     "name": "stderr",
     "output_type": "stream",
     "text": [
      "Iteration: 100%|██████████| 232/232 [05:04<00:00,  1.31s/it, test_Loss=0.795, test_RMSE=0.891, test_MAE=0.692]\n"
     ]
    }
   ],
   "source": [
    "print(f\"Running SVT with best found parameters...\")\n",
    "hist, model1 = run_svt(train=M_train_df, test=M_test_df,\n",
    "                tau=svt_best_tau,\n",
    "                delta=svt_best_delta,\n",
    "                n_epochs=svt_best_n_epochs)"
   ]
  },
  {
   "cell_type": "code",
   "execution_count": 17,
   "metadata": {},
   "outputs": [
    {
     "name": "stdout",
     "output_type": "stream",
     "text": [
      "Running Funk-SVD with best found parameters...\n"
     ]
    },
    {
     "name": "stderr",
     "output_type": "stream",
     "text": [
      "Epoch: 100%|████████████████| 19/19 [05:07<00:00, 16.21s/it, test_Loss=0.706, test_RMSE=0.840, test_MAE=0.658]\n"
     ]
    }
   ],
   "source": [
    "print(f\"Running Funk-SVD with best found parameters...\")\n",
    "hist, model2 = run_funk(train=train_df, test=test_df,\n",
    "\t\tlr=funk_best_lr,\n",
    "\t\treg=funk_best_reg,\n",
    "\t\tn_epochs=funk_best_n_epochs,\n",
    "\t\tn_factors=funk_best_n_factors)"
   ]
  },
  {
   "cell_type": "code",
   "execution_count": 18,
   "metadata": {
    "colab": {
     "base_uri": "https://localhost:8080/",
     "height": 996
    },
    "id": "v6tkVLuYdfw6",
    "outputId": "c04a53fb-c2e0-4cab-c192-a13ba991cd9c"
   },
   "outputs": [],
   "source": [
    "params = [(1-x, x) for x in [0.01*i for i in range(101)]]\n",
    "validation_true = validation_df['Rating'].values.ravel()\n",
    "\n",
    "best_score = float('inf')\n",
    "best_weight=None\n",
    "best_ensemble = None\n",
    "for weight in params:\n",
    "    ensemble = Ensemble(models=[model1, model2], weights=weight)    \n",
    "    ensemble_validation_pred = np.array(ensemble.predict(validation_df)).ravel()\n",
    "    score = rmse(ensemble_validation_pred,validation_true)\n",
    "    if score < best_score:\n",
    "        best_score = score\n",
    "        best_weight = weight\n",
    "        best_ensemble = ensemble\n",
    "\n",
    "print(f\"Best ensemble weights: {best_weight}\")"
   ]
  },
  {
   "cell_type": "code",
   "execution_count": 19,
   "metadata": {},
   "outputs": [
    {
     "name": "stdout",
     "output_type": "stream",
     "text": [
      "Test RMSE with SVT: 0.891\n",
      "Test RMSE with FunkSVD: 0.840\n",
      "Test RMSE with Ensemble: 0.828\n"
     ]
    }
   ],
   "source": [
    "model1_test_pred = model1.predict(test_df)\n",
    "model2_test_pred = model2.predict(test_df)\n",
    "\n",
    "ensemble_test_pred = best_ensemble.predict(test_df)\n",
    "test_true = test_df['Rating'].values.ravel()\n",
    "\n",
    "print(f\"Test RMSE with SVT: {rmse(model1_test_pred,test_true):.3f}\")\n",
    "print(f\"Test RMSE with FunkSVD: {rmse(model2_test_pred,test_true):.3f}\")\n",
    "print(f\"Test RMSE with Ensemble: {rmse(ensemble_test_pred,test_true):.3f}\")"
   ]
  },
  {
   "cell_type": "code",
   "execution_count": null,
   "metadata": {},
   "outputs": [],
   "source": [
    "test_df['Pred_SVT'] = np.array(model1_test_pred)\n",
    "test_df['Pred_FUNK'] = np.array(model2_test_pred)\n",
    "test_df['Pred_ENSEMBLE'] = np.array(ensemble_test_pred)\n",
    "\n",
    "def analyze_final(test_df, by_col):\n",
    "    dic = {by_col:[], 'RMSE_SVT':[], 'RMSE_FUNK':[], 'RMSE_ENSEMBLE':[]}\n",
    "    for u_id in np.unique(test_df[by_col]):\n",
    "        by_df = test_df.loc[(test_df[by_col] == u_id)]\n",
    "        pred1 = rmse(by_df['Rating'], by_df['Pred_SVT'])\n",
    "        pred2 = rmse(by_df['Rating'], by_df['Pred_FUNK'])\n",
    "        pred3 = rmse(by_df['Rating'], by_df['Pred_ENSEMBLE'])\n",
    "        dic[by_col].append(u_id)\n",
    "        dic['RMSE_SVT'].append(pred1)\n",
    "        dic['RMSE_FUNK'].append(pred2)\n",
    "        dic['RMSE_ENSEMBLE'].append(pred3)\n",
    "\n",
    "    df = pd.DataFrame(dic)\n",
    "    table= df.describe()\n",
    "    table.drop(['count', 'min', 'max'], axis=0, inplace=True)\n",
    "    table.drop([by_col], axis=1, inplace=True)\n",
    "    display(table.style.format(\"{:.4f}\"))\n",
    "    print()\n",
    "\n",
    "    df.plot(kind='scatter', x=by_col, y='RMSE_SVT', alpha=.3)\n",
    "    df.plot(kind='scatter', x=by_col, y='RMSE_FUNK', alpha=.3)\n",
    "    df.plot(kind='scatter', x=by_col, y='RMSE_ENSEMBLE', alpha=.3)\n",
    "\n",
    "    \n",
    "analyze_final(test_df, 'UserID')\n",
    "analyze_final(test_df, 'MovieID')"
   ]
  }
 ],
 "metadata": {
  "accelerator": "GPU",
  "colab": {
   "collapsed_sections": [],
   "name": "Ex3.ipynb",
   "provenance": []
  },
  "kernelspec": {
   "display_name": "mf",
   "language": "python",
   "name": "mf"
  },
  "language_info": {
   "codemirror_mode": {
    "name": "ipython",
    "version": 3
   },
   "file_extension": ".py",
   "mimetype": "text/x-python",
   "name": "python",
   "nbconvert_exporter": "python",
   "pygments_lexer": "ipython3",
   "version": "3.6.8"
  }
 },
 "nbformat": 4,
 "nbformat_minor": 1
}
