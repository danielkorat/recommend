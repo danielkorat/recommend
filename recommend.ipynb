{
 "cells": [
  {
   "cell_type": "code",
   "execution_count": 1,
   "metadata": {},
   "outputs": [],
   "source": [
    "from sys import executable as python"
   ]
  },
  {
   "cell_type": "code",
   "execution_count": 2,
   "metadata": {
    "colab": {
     "base_uri": "https://localhost:8080/"
    },
    "id": "IfDjK8Pvvukz",
    "outputId": "389d696b-f0d3-4789-e124-6bbb170813e0"
   },
   "outputs": [],
   "source": [
    "!{python} -m pip install -q -q -U pip tqdm scikit-learn pandas sparsesvd plotly pandas matplotlib nbformat psutil jinja2\n",
    "\n",
    "# install plotting dependencies\n",
    "# !wget -q https://github.com/plotly/orca/releases/download/v1.2.1/orca-1.2.1-x86_64.AppImage -O /usr/local/bin/orca\n",
    "# !chmod +x /usr/local/bin/orca\n",
    "# !apt-get -qq install xvfb libgtk2.0-0 libgconf-2-4"
   ]
  },
  {
   "cell_type": "code",
   "execution_count": 1,
   "metadata": {
    "id": "YjlXMCUXvuk5"
   },
   "outputs": [],
   "source": [
    "import datetime, os, random, shutil, urllib.request, zipfile, time, warnings\n",
    "warnings.filterwarnings('ignore')\n",
    "from functools import wraps\n",
    "from math import trunc\n",
    "from itertools import product\n",
    "import numpy as np\n",
    "import pandas as pd\n",
    "from pathlib import Path\n",
    "from urllib.request import urlopen\n",
    "from zipfile import ZipFile\n",
    "from scipy.sparse.linalg import norm\n",
    "import scipy.sparse as ss\n",
    "from scipy.sparse.linalg import svds\n",
    "from sparsesvd import sparsesvd\n",
    "from sklearn.metrics import mean_squared_error as mse\n",
    "import plotly.express as px\n",
    "import json\n",
    "from sys import stdout\n",
    "import matplotlib.pyplot as plt\n",
    "from matplotlib import colors\n",
    "from IPython.display import display\n",
    "\n",
    "from tqdm import tqdm\n",
    "\n",
    "SEED = 123\n",
    "def seed_everything(seed=SEED):\n",
    "    random.seed(seed)\n",
    "    os.environ['PYTHONHASHSEED'] = str(seed)\n",
    "    np.random.seed(seed)\n",
    "seed_everything()\n",
    "\n",
    "def rmse(y_true, y_pred):\n",
    "    return mse(y_true, y_pred, squared=False)"
   ]
  },
  {
   "cell_type": "markdown",
   "metadata": {
    "id": "8mktkcXOFQrw"
   },
   "source": [
    "# Preprocessing"
   ]
  },
  {
   "cell_type": "code",
   "execution_count": 2,
   "metadata": {
    "id": "lj_Na91f60Vw"
   },
   "outputs": [],
   "source": [
    "def get_dataset():\n",
    "    path = Path(\"m1.zip\")\n",
    "    if not path.exists():\n",
    "        with path.open(\"wb\") as f:\n",
    "            print(\"Downloading dataset...\")\n",
    "            f.write(urlopen(\"http://files.grouplens.org/datasets/movielens/ml-1m.zip\").read())\n",
    "    if not Path(\"ml-1m\").is_dir():\n",
    "        print(\"unzipping...\")\n",
    "        with ZipFile(\"m1.zip\") as zf:\n",
    "            zf.extractall()\n",
    "    ratings_list = [i.strip().split(\"::\") for i in open('ml-1m/ratings.dat', 'r').readlines()]\n",
    "    ratings_df = pd.DataFrame(ratings_list, columns = ['UserID', 'MovieID', 'Rating', 'Timestamp'], dtype = int)\n",
    "    ratings_df['Rating'] = ratings_df['Rating'].apply(pd.to_numeric)\n",
    "    return ratings_df"
   ]
  },
  {
   "cell_type": "code",
   "execution_count": 3,
   "metadata": {
    "id": "iI9441n7DltF"
   },
   "outputs": [],
   "source": [
    "def split(df, test_size=2500, validation_size=2500):\n",
    "    R_df = df.pivot(index = 'UserID', columns ='MovieID', values = 'Rating').fillna(0)\n",
    "    seed_everything()\n",
    "    test_indices = np.array(random.sample(list(np.argwhere(R_df.values>0)), test_size))\n",
    "\n",
    "    x_indices = test_indices[:,0]\n",
    "    y_indices = test_indices[:,1]\n",
    "    u_ids = R_df.index[x_indices].astype(np.int32)\n",
    "    i_ids = R_df.columns[y_indices].astype(np.int32)\n",
    "    \n",
    "    df['UserID'] = df['UserID'].astype(np.int32)\n",
    "    df['MovieID'] = df['MovieID'].astype(np.int32)\n",
    "    df['Rating'] = df['Rating'].astype(np.float64)\n",
    "    \n",
    "    df= df.drop(columns=['Timestamp'], errors='ignore')\n",
    "    \n",
    "    test = []\n",
    "    for u_id, i_id in zip(u_ids, i_ids):\n",
    "        test.append(df.loc[(df['UserID'] == u_id) & (df['MovieID'] == i_id)])\n",
    "    test_df = pd.concat(test)\n",
    "    train_df= df.drop(test_df.index.tolist())\n",
    "    \n",
    "    matrix_only_with_test = np.zeros(R_df.shape, dtype=np.float64) \n",
    "    matrix_only_with_test[x_indices, y_indices] =  R_df.values[x_indices, y_indices]\n",
    "    M_test_df = pd.DataFrame(matrix_only_with_test, index=R_df.index.astype(np.int32), columns=R_df.columns.astype(np.int32))\n",
    "    \n",
    "    matrix_without_test = R_df.copy().values\n",
    "    matrix_without_test[x_indices,y_indices] = 0.0\n",
    "    M_train_df = pd.DataFrame(matrix_without_test, index=R_df.index.astype(np.int32), columns=R_df.columns.astype(np.int32))\n",
    "    \n",
    "    \n",
    "    validation_indices = np.array(random.sample(list(np.argwhere(M_train_df.values>0)), validation_size))\n",
    "\n",
    "    x_indices = validation_indices[:,0]\n",
    "    y_indices = validation_indices[:,1]\n",
    "    u_ids = R_df.index[x_indices].astype(np.int32)\n",
    "    i_ids = R_df.columns[y_indices].astype(np.int32)\n",
    "    \n",
    "    df= df.drop(columns=['Timestamp'], errors='ignore')\n",
    "    \n",
    "    validation = []\n",
    "    for u_id, i_id in zip(u_ids, i_ids):\n",
    "        validation.append(df.loc[(df['UserID'] == u_id) & (df['MovieID'] == i_id)])\n",
    "    validation_df = pd.concat(validation)\n",
    "    train_df= train_df.drop(validation_df.index.tolist())\n",
    "    \n",
    "    matrix_only_with_validation = np.zeros(R_df.shape, dtype=np.float64) \n",
    "    matrix_only_with_validation[x_indices, y_indices] =  R_df.values[x_indices, y_indices]\n",
    "    M_validation_df = pd.DataFrame(matrix_only_with_validation, index=R_df.index.astype(np.int32), columns=R_df.columns.astype(np.int32))\n",
    "    \n",
    "    matrix_with_train = R_df.copy().values\n",
    "    matrix_with_train[test_indices[:,0],test_indices[:,1]] = 0.0\n",
    "    matrix_with_train[validation_indices[:,0],validation_indices[:,1]] = 0.0\n",
    "    \n",
    "    M_train_df = pd.DataFrame(matrix_with_train, index=R_df.index.astype(np.int32), columns=R_df.columns.astype(np.int32))\n",
    "    \n",
    "    return train_df, test_df,validation_df, M_train_df, M_test_df, M_validation_df"
   ]
  },
  {
   "cell_type": "code",
   "execution_count": 4,
   "metadata": {
    "colab": {
     "base_uri": "https://localhost:8080/"
    },
    "id": "-6PSReAzrbvQ",
    "outputId": "100fb7d9-0e5a-4eae-d4e2-8e933536152f"
   },
   "outputs": [],
   "source": [
    "ratings_df = get_dataset()\n",
    "train_df, test_df,validation_df, M_train_df, M_test_df, M_validation_df = split(ratings_df)"
   ]
  },
  {
   "cell_type": "code",
   "execution_count": 5,
   "metadata": {
    "colab": {
     "base_uri": "https://localhost:8080/",
     "height": 197
    },
    "id": "iOfa3VEpvuk7",
    "outputId": "76e46892-a737-4c40-8248-5b5c8e1f8be0"
   },
   "outputs": [
    {
     "data": {
      "text/html": [
       "<div>\n",
       "<style scoped>\n",
       "    .dataframe tbody tr th:only-of-type {\n",
       "        vertical-align: middle;\n",
       "    }\n",
       "\n",
       "    .dataframe tbody tr th {\n",
       "        vertical-align: top;\n",
       "    }\n",
       "\n",
       "    .dataframe thead th {\n",
       "        text-align: right;\n",
       "    }\n",
       "</style>\n",
       "<table border=\"1\" class=\"dataframe\">\n",
       "  <thead>\n",
       "    <tr style=\"text-align: right;\">\n",
       "      <th></th>\n",
       "      <th>UserID</th>\n",
       "      <th>MovieID</th>\n",
       "      <th>Rating</th>\n",
       "    </tr>\n",
       "  </thead>\n",
       "  <tbody>\n",
       "    <tr>\n",
       "      <th>206405</th>\n",
       "      <td>1265</td>\n",
       "      <td>1732</td>\n",
       "      <td>4.0</td>\n",
       "    </tr>\n",
       "    <tr>\n",
       "      <th>409183</th>\n",
       "      <td>2456</td>\n",
       "      <td>2105</td>\n",
       "      <td>3.0</td>\n",
       "    </tr>\n",
       "    <tr>\n",
       "      <th>240650</th>\n",
       "      <td>1449</td>\n",
       "      <td>2959</td>\n",
       "      <td>4.0</td>\n",
       "    </tr>\n",
       "    <tr>\n",
       "      <th>886005</th>\n",
       "      <td>5350</td>\n",
       "      <td>2640</td>\n",
       "      <td>2.0</td>\n",
       "    </tr>\n",
       "    <tr>\n",
       "      <th>540360</th>\n",
       "      <td>3323</td>\n",
       "      <td>3468</td>\n",
       "      <td>4.0</td>\n",
       "    </tr>\n",
       "  </tbody>\n",
       "</table>\n",
       "</div>"
      ],
      "text/plain": [
       "        UserID  MovieID  Rating\n",
       "206405    1265     1732     4.0\n",
       "409183    2456     2105     3.0\n",
       "240650    1449     2959     4.0\n",
       "886005    5350     2640     2.0\n",
       "540360    3323     3468     4.0"
      ]
     },
     "execution_count": 5,
     "metadata": {},
     "output_type": "execute_result"
    }
   ],
   "source": [
    "test_df.head()"
   ]
  },
  {
   "cell_type": "code",
   "execution_count": 6,
   "metadata": {
    "colab": {
     "base_uri": "https://localhost:8080/",
     "height": 276
    },
    "id": "kF_se-_Gvuk8",
    "outputId": "152a5e4b-afb4-4a08-8be1-294782ff9d61"
   },
   "outputs": [
    {
     "data": {
      "text/html": [
       "<div>\n",
       "<style scoped>\n",
       "    .dataframe tbody tr th:only-of-type {\n",
       "        vertical-align: middle;\n",
       "    }\n",
       "\n",
       "    .dataframe tbody tr th {\n",
       "        vertical-align: top;\n",
       "    }\n",
       "\n",
       "    .dataframe thead th {\n",
       "        text-align: right;\n",
       "    }\n",
       "</style>\n",
       "<table border=\"1\" class=\"dataframe\">\n",
       "  <thead>\n",
       "    <tr style=\"text-align: right;\">\n",
       "      <th>MovieID</th>\n",
       "      <th>1</th>\n",
       "      <th>10</th>\n",
       "      <th>100</th>\n",
       "      <th>1000</th>\n",
       "      <th>1002</th>\n",
       "      <th>1003</th>\n",
       "      <th>1004</th>\n",
       "      <th>1005</th>\n",
       "      <th>1006</th>\n",
       "      <th>1007</th>\n",
       "      <th>...</th>\n",
       "      <th>99</th>\n",
       "      <th>990</th>\n",
       "      <th>991</th>\n",
       "      <th>992</th>\n",
       "      <th>993</th>\n",
       "      <th>994</th>\n",
       "      <th>996</th>\n",
       "      <th>997</th>\n",
       "      <th>998</th>\n",
       "      <th>999</th>\n",
       "    </tr>\n",
       "    <tr>\n",
       "      <th>UserID</th>\n",
       "      <th></th>\n",
       "      <th></th>\n",
       "      <th></th>\n",
       "      <th></th>\n",
       "      <th></th>\n",
       "      <th></th>\n",
       "      <th></th>\n",
       "      <th></th>\n",
       "      <th></th>\n",
       "      <th></th>\n",
       "      <th></th>\n",
       "      <th></th>\n",
       "      <th></th>\n",
       "      <th></th>\n",
       "      <th></th>\n",
       "      <th></th>\n",
       "      <th></th>\n",
       "      <th></th>\n",
       "      <th></th>\n",
       "      <th></th>\n",
       "      <th></th>\n",
       "    </tr>\n",
       "  </thead>\n",
       "  <tbody>\n",
       "    <tr>\n",
       "      <th>1</th>\n",
       "      <td>5.0</td>\n",
       "      <td>0.0</td>\n",
       "      <td>0.0</td>\n",
       "      <td>0.0</td>\n",
       "      <td>0.0</td>\n",
       "      <td>0.0</td>\n",
       "      <td>0.0</td>\n",
       "      <td>0.0</td>\n",
       "      <td>0.0</td>\n",
       "      <td>0.0</td>\n",
       "      <td>...</td>\n",
       "      <td>0.0</td>\n",
       "      <td>0.0</td>\n",
       "      <td>0.0</td>\n",
       "      <td>0.0</td>\n",
       "      <td>0.0</td>\n",
       "      <td>0.0</td>\n",
       "      <td>0.0</td>\n",
       "      <td>0.0</td>\n",
       "      <td>0.0</td>\n",
       "      <td>0.0</td>\n",
       "    </tr>\n",
       "    <tr>\n",
       "      <th>10</th>\n",
       "      <td>5.0</td>\n",
       "      <td>0.0</td>\n",
       "      <td>0.0</td>\n",
       "      <td>0.0</td>\n",
       "      <td>0.0</td>\n",
       "      <td>0.0</td>\n",
       "      <td>0.0</td>\n",
       "      <td>0.0</td>\n",
       "      <td>0.0</td>\n",
       "      <td>0.0</td>\n",
       "      <td>...</td>\n",
       "      <td>0.0</td>\n",
       "      <td>0.0</td>\n",
       "      <td>0.0</td>\n",
       "      <td>0.0</td>\n",
       "      <td>0.0</td>\n",
       "      <td>0.0</td>\n",
       "      <td>0.0</td>\n",
       "      <td>0.0</td>\n",
       "      <td>0.0</td>\n",
       "      <td>0.0</td>\n",
       "    </tr>\n",
       "    <tr>\n",
       "      <th>100</th>\n",
       "      <td>0.0</td>\n",
       "      <td>0.0</td>\n",
       "      <td>0.0</td>\n",
       "      <td>0.0</td>\n",
       "      <td>0.0</td>\n",
       "      <td>0.0</td>\n",
       "      <td>0.0</td>\n",
       "      <td>0.0</td>\n",
       "      <td>0.0</td>\n",
       "      <td>0.0</td>\n",
       "      <td>...</td>\n",
       "      <td>0.0</td>\n",
       "      <td>0.0</td>\n",
       "      <td>0.0</td>\n",
       "      <td>0.0</td>\n",
       "      <td>0.0</td>\n",
       "      <td>0.0</td>\n",
       "      <td>0.0</td>\n",
       "      <td>0.0</td>\n",
       "      <td>0.0</td>\n",
       "      <td>0.0</td>\n",
       "    </tr>\n",
       "    <tr>\n",
       "      <th>1000</th>\n",
       "      <td>5.0</td>\n",
       "      <td>0.0</td>\n",
       "      <td>0.0</td>\n",
       "      <td>0.0</td>\n",
       "      <td>0.0</td>\n",
       "      <td>0.0</td>\n",
       "      <td>0.0</td>\n",
       "      <td>0.0</td>\n",
       "      <td>0.0</td>\n",
       "      <td>0.0</td>\n",
       "      <td>...</td>\n",
       "      <td>0.0</td>\n",
       "      <td>0.0</td>\n",
       "      <td>0.0</td>\n",
       "      <td>0.0</td>\n",
       "      <td>0.0</td>\n",
       "      <td>0.0</td>\n",
       "      <td>0.0</td>\n",
       "      <td>0.0</td>\n",
       "      <td>0.0</td>\n",
       "      <td>0.0</td>\n",
       "    </tr>\n",
       "    <tr>\n",
       "      <th>1001</th>\n",
       "      <td>4.0</td>\n",
       "      <td>0.0</td>\n",
       "      <td>0.0</td>\n",
       "      <td>0.0</td>\n",
       "      <td>0.0</td>\n",
       "      <td>0.0</td>\n",
       "      <td>0.0</td>\n",
       "      <td>0.0</td>\n",
       "      <td>0.0</td>\n",
       "      <td>0.0</td>\n",
       "      <td>...</td>\n",
       "      <td>0.0</td>\n",
       "      <td>0.0</td>\n",
       "      <td>0.0</td>\n",
       "      <td>0.0</td>\n",
       "      <td>0.0</td>\n",
       "      <td>0.0</td>\n",
       "      <td>0.0</td>\n",
       "      <td>0.0</td>\n",
       "      <td>0.0</td>\n",
       "      <td>0.0</td>\n",
       "    </tr>\n",
       "  </tbody>\n",
       "</table>\n",
       "<p>5 rows × 3706 columns</p>\n",
       "</div>"
      ],
      "text/plain": [
       "MovieID  1     10    100   1000  1002  1003  1004  1005  1006  1007  ...  \\\n",
       "UserID                                                               ...   \n",
       "1         5.0   0.0   0.0   0.0   0.0   0.0   0.0   0.0   0.0   0.0  ...   \n",
       "10        5.0   0.0   0.0   0.0   0.0   0.0   0.0   0.0   0.0   0.0  ...   \n",
       "100       0.0   0.0   0.0   0.0   0.0   0.0   0.0   0.0   0.0   0.0  ...   \n",
       "1000      5.0   0.0   0.0   0.0   0.0   0.0   0.0   0.0   0.0   0.0  ...   \n",
       "1001      4.0   0.0   0.0   0.0   0.0   0.0   0.0   0.0   0.0   0.0  ...   \n",
       "\n",
       "MovieID  99    990   991   992   993   994   996   997   998   999   \n",
       "UserID                                                               \n",
       "1         0.0   0.0   0.0   0.0   0.0   0.0   0.0   0.0   0.0   0.0  \n",
       "10        0.0   0.0   0.0   0.0   0.0   0.0   0.0   0.0   0.0   0.0  \n",
       "100       0.0   0.0   0.0   0.0   0.0   0.0   0.0   0.0   0.0   0.0  \n",
       "1000      0.0   0.0   0.0   0.0   0.0   0.0   0.0   0.0   0.0   0.0  \n",
       "1001      0.0   0.0   0.0   0.0   0.0   0.0   0.0   0.0   0.0   0.0  \n",
       "\n",
       "[5 rows x 3706 columns]"
      ]
     },
     "execution_count": 6,
     "metadata": {},
     "output_type": "execute_result"
    }
   ],
   "source": [
    "M_train_df.head()"
   ]
  },
  {
   "cell_type": "markdown",
   "metadata": {
    "id": "e2rW5teNvuk8"
   },
   "source": [
    "\n",
    "\n",
    "# Funk-SVD"
   ]
  },
  {
   "cell_type": "code",
   "execution_count": 16,
   "metadata": {
    "id": "dACU8JFUvuk9"
   },
   "outputs": [],
   "source": [
    "class FunkSVD:\n",
    "    def __init__(self, lr=.005, reg=.02, n_epochs=20, n_factors=100,\n",
    "                 min_delta=.001,\n",
    "                 min_rating=1, max_rating=5):\n",
    "\n",
    "        self.lr = lr\n",
    "        self.reg = reg\n",
    "        self.n_epochs = n_epochs\n",
    "        self.n_factors = n_factors\n",
    "        self.min_rating = min_rating\n",
    "        self.max_rating = max_rating\n",
    "\n",
    "    def fit(self, X, X_test):\n",
    "        X = self._preprocess_data(X)\n",
    "\n",
    "        \n",
    "        X_test = self._preprocess_data(X_test, train=False)\n",
    "        self._init_metrics()\n",
    "        self.global_mean_ = np.mean(X[:, 2])\n",
    "        return self._run_sgd(X, X_test)\n",
    "\n",
    "    def _preprocess_data(self, X, train=True):\n",
    "        X = X.copy()\n",
    "        if train:  # Mappings have to be created\n",
    "            #assumed that train data includes all possible users and movies (not necessarily ratings)\n",
    "            user_ids = X['UserID'].unique().tolist()\n",
    "            item_ids = X['MovieID'].unique().tolist()\n",
    "            n_users = len(user_ids)\n",
    "            n_items = len(item_ids)\n",
    "            user_idx = range(n_users)\n",
    "            item_idx = range(n_items)\n",
    "            self.user_mapping_ = dict(zip(user_ids, user_idx))\n",
    "            self.item_mapping_ = dict(zip(item_ids, item_idx))\n",
    "        X['UserID'] = X['UserID'].map(self.user_mapping_)\n",
    "        X['MovieID'] = X['MovieID'].map(self.item_mapping_)\n",
    "        \n",
    "        X['UserID'] = X['UserID'].astype(np.int32)\n",
    "        X['MovieID'] = X['MovieID'].astype(np.int32)\n",
    "        return X[['UserID', 'MovieID', 'Rating']].values\n",
    "\n",
    "    def _init_metrics(self):\n",
    "        metrics = np.zeros((self.n_epochs, 3), dtype=np.float)\n",
    "        self.metrics_ = pd.DataFrame(metrics, columns=['Loss', 'RMSE', 'MAE'])\n",
    "\n",
    "    def _run_sgd(self, X, X_test):\n",
    "        reg,lr,global_mean,n_factors = self.reg,self.lr,self.global_mean_,self.n_factors\n",
    "        \n",
    "        n_users = len(np.unique(X[:, 0]))\n",
    "        n_items = len(np.unique(X[:, 1]))\n",
    "        bu = np.zeros(n_users)\n",
    "        bi = np.zeros(n_items)\n",
    "        pu = np.random.normal(0, .1, (n_users, n_factors))\n",
    "        qi = np.random.normal(0, .1, (n_items, n_factors))\n",
    "        \n",
    "        indices = (X_test[:,0].astype(int), X_test[:,1].astype(int))\n",
    "        true = X_test[:,2]\n",
    "        \n",
    "        # Run SGD\n",
    "        pbar = tqdm(range(self.n_epochs), desc='Epoch', ncols=110, position=0, leave=True)\n",
    "    \n",
    "        #stochastic sgd\n",
    "        for epoch_ix in pbar:\n",
    "            \n",
    "            #with batch size 1\n",
    "            for row in X:\n",
    "                user, item, rating = int(row[0]), int(row[1]), row[2]\n",
    "\n",
    "                pred= np.dot(pu[user,:], qi[item,:])+ global_mean + bu[user]+bi[item]\n",
    "                err = rating - pred\n",
    "\n",
    "                # Update biases\n",
    "                bu[user] += lr * (err - reg * bu[user])\n",
    "                bi[item] += lr * (err - reg * bi[item])\n",
    "\n",
    "                # Update latent factors\n",
    "                pu_update= lr * (err * qi[item, :] - reg * pu[user, :])\n",
    "                qi_update= lr * (err * pu[user, :] - reg * qi[item, :])\n",
    "                pu[user, :] = pu[user, :] + pu_update\n",
    "                qi[item, :] = qi[item, :] + qi_update\n",
    "            \n",
    "            #compute test error\n",
    "            pred = global_mean + np.matmul(pu, qi.T) + bu.reshape(-1, 1) + bi.reshape(1, -1)\n",
    "            pred = np.clip(pred, self.min_rating, self.max_rating)\n",
    "            residual = (pred[indices] - true).ravel()\n",
    "            mse_score = np.square(residual).mean()\n",
    "            rmse_score = rmse(true, pred[indices])\n",
    "            mae_score = np.absolute(residual).mean()\n",
    "\n",
    "            #save results in df\n",
    "            self.metrics_.loc[epoch_ix, :] = (mse_score, rmse_score, mae_score)\n",
    "            f = lambda x: f\"{self.metrics_.loc[epoch_ix, x]:.3f}\"\n",
    "            pbar.set_postfix({f'test_{m}': f(m) for m in self.metrics_.columns})\n",
    "\n",
    "        self.bu_, self.bi_, self.pu_, self.qi_ = bu, bi, pu, qi\n",
    "        return {f\"test_{m}\": np.trim_zeros(self.metrics_[m]).tolist() for m in self.metrics_.columns}\n",
    "\n",
    "    def predict(self, X):\n",
    "        return [\n",
    "            self.predict_pair(u_id, i_id)\n",
    "            for u_id, i_id in zip(X['UserID'], X['MovieID'])\n",
    "        ]\n",
    "\n",
    "    def predict_pair(self, u_id, i_id):\n",
    "        assert u_id in self.user_mapping_ and i_id in self.item_mapping_, f\"user {u_id} or movie {i_id} not in train data\"\n",
    "        \n",
    "        i_ix = self.item_mapping_[i_id]\n",
    "        u_ix = self.user_mapping_[u_id]\n",
    "        pred = self.global_mean_ + self.bi_[i_ix] + self.bu_[u_ix] + np.dot(self.pu_[u_ix], self.qi_[i_ix])\n",
    "        pred = np.clip(pred, self.min_rating, self.max_rating)\n",
    "        return pred"
   ]
  },
  {
   "cell_type": "code",
   "execution_count": 17,
   "metadata": {
    "id": "I0prSFvWvuk9"
   },
   "outputs": [],
   "source": [
    "class SVT:\n",
    "    def __init__(self, tau, delta, n_epochs, min_rating=1, max_rating=5):\n",
    "        self.tau = tau\n",
    "        self.delta = delta\n",
    "        self.n_epochs = n_epochs\n",
    "        self.min_rating = min_rating\n",
    "        self.max_rating = max_rating\n",
    "        self.tol = 0.001\n",
    "        self.increment = 5\n",
    "    \n",
    "    def _init_metrics(self):\n",
    "        metrics = np.zeros((self.n_epochs, 3), dtype=np.float)\n",
    "        self.metrics_ = pd.DataFrame(metrics, columns=['Loss', 'RMSE', 'MAE'])\n",
    "    \n",
    "    def fit(self, M, M_test):\n",
    "        ### preprocessing -->\n",
    "        \n",
    "        self._init_metrics()\n",
    "        M = M.copy()\n",
    "        M_test = M_test.copy()\n",
    "        \n",
    "        self.user_mapping_ = dict(zip(M.index, range(len(M.index))))\n",
    "        self.item_mapping_ = dict(zip(M.columns, range(len(M.columns))))\n",
    "        self.users_mean = np.mean(M.values, axis = 1).reshape(-1, 1)\n",
    "        \n",
    "        M = M.values\n",
    "        M_test= M_test.values\n",
    "        \n",
    "        \n",
    "        Omega = M.astype(np.int32).nonzero()\n",
    "        test_indices= M_test.astype(np.int32).nonzero()\n",
    "        \n",
    "        M = M- self.users_mean\n",
    "        M_test= M_test - self.users_mean\n",
    "        \n",
    "        test_true = M_test[test_indices].ravel()\n",
    "        \n",
    "        tol = self.tol\n",
    "        incre = self.increment\n",
    "        tau = self.tau\n",
    "        iterations= self.n_epochs\n",
    "        delta = self.delta\n",
    "        ### --> preprocessing\n",
    "\n",
    "        # SVT\n",
    "        r = 0\n",
    "        P_Omega_M = ss.csr_matrix((np.ravel(M[Omega]), Omega), shape=M.shape)\n",
    "        normProjM = norm(P_Omega_M)\n",
    "        k0 = np.ceil(tau / (delta * normProjM))\n",
    "        Y = k0 * delta * P_Omega_M\n",
    "\n",
    "        pbar = tqdm(range(iterations), position=0, leave=True, desc='Iteration', ncols=110)\n",
    "\n",
    "        for epoch_ix in pbar:\n",
    "            s = r + 1\n",
    "            sparse_Y = ss.csc_matrix(Y)\n",
    "            \n",
    "            #find s largest eigen values. keep increasing s until the s'th largest value is smaller than tau\n",
    "            u1, s1, v1 = sparsesvd(sparse_Y, s)\n",
    "            while np.min(s1) > tau and s >= min(*M.shape):\n",
    "                u1, s1, v1 = sparsesvd(sparse_Y, s)\n",
    "                s+=incre\n",
    "                if s>90: \n",
    "                    break\n",
    "            \n",
    "            if s>90: \n",
    "                print(f'number of singular values requested was {s}. this takes too much time!')\n",
    "                break\n",
    "            \n",
    "            #reconstruct x from svd decomposition\n",
    "            r = np.sum(s1 > tau)\n",
    "            U = u1.T[:, :r]\n",
    "            V = v1[:r, :]\n",
    "            S = s1[:r] - tau\n",
    "            x = (U * S).dot(V)\n",
    "\n",
    "            x_omega = ss.csr_matrix((x[Omega], Omega), shape=M.shape)\n",
    "            \n",
    "            #if there is no reconstruction error, stop\n",
    "            if norm(x_omega - P_Omega_M) / norm(P_Omega_M) < tol:\n",
    "                break\n",
    "            \n",
    "            #update Y with values from constructed matrix\n",
    "            diff = P_Omega_M - x_omega\n",
    "            Y += delta * diff\n",
    "                \n",
    "            #compute test error\n",
    "            \n",
    "            M_pred = np.clip((x + self.users_mean), self.min_rating, self.max_rating)-self.users_mean\n",
    "            test_pred = M_pred[test_indices].ravel()\n",
    "            \n",
    "            residual = (test_pred - test_true).ravel()\n",
    "            mse_score = np.square(residual).mean()\n",
    "            rmse_score = rmse(test_true, test_pred)\n",
    "            mae_score = np.absolute(residual).mean()\n",
    "\n",
    "            #save results in df\n",
    "            self.metrics_.loc[epoch_ix, :] = (mse_score, rmse_score, mae_score)\n",
    "            f = lambda x: f\"{self.metrics_.loc[epoch_ix, x]:.3f}\"\n",
    "            pbar.set_postfix({f'test_{m}': f(m) for m in self.metrics_.columns})\n",
    "                \n",
    "        self.x = x + self.users_mean\n",
    "        return {f\"test_{m}\": np.trim_zeros(self.metrics_[m].tolist()) for m in self.metrics_.columns}\n",
    "    \n",
    "    \n",
    "    def predict(self, X):\n",
    "        return [self.predict_pair(u_id, i_id) for u_id, i_id in zip(X['UserID'], X['MovieID'])]\n",
    "\n",
    "    def predict_pair(self, u_id, i_id):\n",
    "        assert u_id in self.user_mapping_ and i_id in self.item_mapping_, f\"user {u_id} or movie {i_id} not in train data\"\n",
    "        \n",
    "        i_ix = self.item_mapping_[i_id]\n",
    "        u_ix = self.user_mapping_[u_id]\n",
    "        \n",
    "        pred= self.x[u_ix,i_ix]\n",
    "        pred = np.clip(pred, self.min_rating, self.max_rating)\n",
    "        return pred"
   ]
  },
  {
   "cell_type": "markdown",
   "metadata": {},
   "source": [
    "## Ensemble Model\n",
    "#### A simple model averaging two given MF models according to weights"
   ]
  },
  {
   "cell_type": "code",
   "execution_count": 18,
   "metadata": {},
   "outputs": [],
   "source": [
    "class Ensemble:\n",
    "    def __init__(self, models, weights=None):\n",
    "        self.models = models\n",
    "        self.weights = weights\n",
    "    \n",
    "    def predict(self, X):\n",
    "        return [self.predict_pair(u_id, i_id) for u_id, i_id in zip(X['UserID'], X['MovieID'])]\n",
    "    \n",
    "    def predict_pair(self, u_id, i_id):\n",
    "        preds = np.array([m.predict_pair(u_id, i_id) for m in self.models])\n",
    "        if self.weights is None:\n",
    "            return np.average(preds)\n",
    "        return np.dot(preds, np.array(self.weights))"
   ]
  },
  {
   "cell_type": "markdown",
   "metadata": {
    "id": "NbSnEbZlvuk-"
   },
   "source": [
    "## Experimental Setup"
   ]
  },
  {
   "cell_type": "code",
   "execution_count": 19,
   "metadata": {
    "cellView": "code",
    "id": "vfXchdoCr7Z5"
   },
   "outputs": [],
   "source": [
    "def to_sparse(df):\n",
    "    users =[]\n",
    "    movies =[]\n",
    "    ratings =[]\n",
    "    indices = df.values.astype(np.int32).nonzero()\n",
    "    x_indices,y_indices = indices[0], indices[1]\n",
    "    \n",
    "    for i,j in zip(x_indices,y_indices):\n",
    "        users.append(df.index[i])\n",
    "        movies.append(df.columns[j])\n",
    "        ratings.append(df.iloc[i,j])\n",
    "    \n",
    "    df = pd.DataFrame(dict(zip(['UserID', 'MovieID', 'Rating'], [users, movies, ratings])))\n",
    "    return df\n",
    "\n",
    "def run_funk(train, test, verbose=False, **kw):\n",
    "    seed_everything()\n",
    "    svd = FunkSVD(**kw)\n",
    "    hist = svd.fit(X=train, X_test=test)\n",
    "\n",
    "    if verbose:\n",
    "        y_true, y_pred = test['Rating'].values.ravel(), np.array(svd.predict(test)).ravel()\n",
    "        print(f\"\\n\\nTest RMSE: {rmse(y_true, y_pred):.3f}\\n\\n\")\n",
    "        print_hparams(kw, 'Funk-SVD')\n",
    "    return hist, svd # score, best_epoch\n",
    "    \n",
    "def run_svt(train, test, verbose=False, **kw):\n",
    "    seed_everything()\n",
    "    model = SVT(**kw)\n",
    "    hist = model.fit(M=train, M_test=test)\n",
    "    \n",
    "    sparse_test = to_sparse(test)\n",
    "    \n",
    "    if verbose:\n",
    "        y_true, y_pred = sparse_test['Rating'].values.ravel(), np.array(model.predict(sparse_test)).ravel()\n",
    "        print(f\"\\n\\nTest RMSE: {rmse(y_true, y_pred):.3f}\\n\\n\")\n",
    "        print_hparams(kw, 'SVT')\n",
    "    return hist, model\n",
    "\n",
    "def print_hparams(h, name):\n",
    "    print(\"Hyperparameters:\\n\")\n",
    "    print(f\"hist = {name}(train_df, test_df,\\n\\t\" + \", \".join([f\"{k}={h[k]}\" for k in h]) + ')')\n",
    "    \n",
    "def plot_experiment(hist):\n",
    "    fig = px.line(pd.DataFrame(hist).rename_axis('Epoch'))\\\n",
    "        .update_layout(hoverlabel=dict(font_size=12, font_family=\"Rockwell\"),\n",
    "                       font=dict(family=\"Courier New, monospace\", size=18))\\\n",
    "        .update_xaxes(showspikes=True)\n",
    "    fig.show()\n",
    "\n",
    "    \n",
    "def background_gradient(s, m, M, cmap='PuBu', low=0, high=0):\n",
    "    s = M-s\n",
    "    rng = M - m\n",
    "    norm = colors.Normalize(m - (rng * low),\n",
    "                            M + (rng * high))\n",
    "    normed = norm(s.values)\n",
    "    c = [colors.rgb2hex(x) for x in plt.cm.get_cmap(cmap)(normed)]\n",
    "    return ['background-color: %s' % color for color in c]\n",
    "\n",
    "def plot_color_map(hists, a, b):\n",
    "    regs = np.unique([hist[a] for hist in hists])\n",
    "    lrs = np.unique([hist[b] for hist in hists])\n",
    "    rmses = []\n",
    "    for reg, lr in product(regs, lrs):\n",
    "        rmse_score = [hist.get('hist',{}).get('test_RMSE', [np.nan])[-1] \\\n",
    "                for hist in hists if hist[a] == reg and hist[b] == lr]\n",
    "        if rmse_score:\n",
    "            rmses.append(rmse_score[0])\n",
    "        else:\n",
    "            rmses.append(np.nan)\n",
    "    rmses = np.array(rmses).reshape(len(lrs), len(regs))\n",
    "    df = pd.DataFrame(rmses, index=lrs, columns=regs)\n",
    "\n",
    "    df.index.name = b + 's'\n",
    "    df.columns.name = a + 's'\n",
    "    \n",
    "    df.index = np.around(df.index, decimals=5, out=None)\n",
    "    \n",
    "    return df.style.apply(background_gradient,\n",
    "                cmap='PuBu',\n",
    "                m=df.min().min(),\n",
    "                M=df.max().max(),\n",
    "                low=0.1,\n",
    "                high=0.2).format(\"{:.4f}\")"
   ]
  },
  {
   "cell_type": "markdown",
   "metadata": {
    "id": "3gX6d_1ivuk_"
   },
   "source": [
    "## SVT Grid Search"
   ]
  },
  {
   "cell_type": "code",
   "execution_count": 10,
   "metadata": {
    "colab": {
     "base_uri": "https://localhost:8080/"
    },
    "id": "4ebGMzw4vulA",
    "outputId": "09671f63-9ddf-413e-cf28-2ff908b8e580"
   },
   "outputs": [
    {
     "name": "stderr",
     "output_type": "stream",
     "text": [
      "\r",
      "Grid Search Progress:   0%|                                                                                                                                                                                                                                                                                                                     | 0/12 [00:00<?, ?it/s]"
     ]
    },
    {
     "name": "stdout",
     "output_type": "stream",
     "text": [
      "tau: 20000, delta: 1\n",
      "\n"
     ]
    },
    {
     "name": "stderr",
     "output_type": "stream",
     "text": [
      "Iteration: 100%|██████████| 500/500 [24:58<00:00,  3.00s/it, test_Loss=0.772, test_RMSE=0.879, test_MAE=0.684]\n",
      "Grid Search Progress:   8%|████████████████████████▊                                                                                                                                                                                                                                                                                | 1/12 [24:59<4:34:58, 1499.85s/it]"
     ]
    },
    {
     "name": "stdout",
     "output_type": "stream",
     "text": [
      "\n",
      "\n",
      "Test RMSE: 0.879\n",
      "\n",
      "\n",
      "Hyperparameters:\n",
      "\n",
      "hist = SVT(train_df, test_df,\n",
      "\ttau=20000, delta=1, n_epochs=500)\n",
      "tau: 20000, delta: 2\n",
      "\n"
     ]
    },
    {
     "name": "stderr",
     "output_type": "stream",
     "text": [
      "Iteration: 100%|██████████| 250/250 [12:16<00:00,  2.95s/it, test_Loss=0.772, test_RMSE=0.879, test_MAE=0.684]\n",
      "Grid Search Progress:  17%|█████████████████████████████████████████████████▌                                                                                                                                                                                                                                                       | 2/12 [37:18<2:55:20, 1052.09s/it]"
     ]
    },
    {
     "name": "stdout",
     "output_type": "stream",
     "text": [
      "\n",
      "\n",
      "Test RMSE: 0.879\n",
      "\n",
      "\n",
      "Hyperparameters:\n",
      "\n",
      "hist = SVT(train_df, test_df,\n",
      "\ttau=20000, delta=2, n_epochs=250)\n",
      "tau: 20000, delta: 5\n",
      "\n"
     ]
    },
    {
     "name": "stderr",
     "output_type": "stream",
     "text": [
      "Iteration: 100%|██████████| 100/100 [03:30<00:00,  2.10s/it, test_Loss=0.837, test_RMSE=0.915, test_MAE=0.704]\n",
      "Grid Search Progress:  25%|██████████████████████████████████████████████████████████████████████████▌                                                                                                                                                                                                                               | 3/12 [40:50<1:40:16, 668.50s/it]"
     ]
    },
    {
     "name": "stdout",
     "output_type": "stream",
     "text": [
      "\n",
      "\n",
      "Test RMSE: 0.915\n",
      "\n",
      "\n",
      "Hyperparameters:\n",
      "\n",
      "hist = SVT(train_df, test_df,\n",
      "\ttau=20000, delta=5, n_epochs=100)\n",
      "tau: 20000, delta: 7\n",
      "\n"
     ]
    },
    {
     "name": "stderr",
     "output_type": "stream",
     "text": [
      "Iteration: 100%|████████████| 71/71 [01:13<00:00,  1.03s/it, test_Loss=5.377, test_RMSE=2.319, test_MAE=1.959]\n",
      "Grid Search Progress:  33%|████████████████████████████████████████████████████████████████████████████████████████████████████                                                                                                                                                                                                        | 4/12 [42:05<57:53, 434.22s/it]"
     ]
    },
    {
     "name": "stdout",
     "output_type": "stream",
     "text": [
      "\n",
      "\n",
      "Test RMSE: 2.319\n",
      "\n",
      "\n",
      "Hyperparameters:\n",
      "\n",
      "hist = SVT(train_df, test_df,\n",
      "\ttau=20000, delta=7, n_epochs=71)\n",
      "tau: 15000, delta: 1\n",
      "\n"
     ]
    },
    {
     "name": "stderr",
     "output_type": "stream",
     "text": [
      "Iteration:  82%|████████▏ | 408/500 [36:56<08:19,  5.43s/it, test_Loss=0.766, test_RMSE=0.875, test_MAE=0.682]"
     ]
    },
    {
     "name": "stdout",
     "output_type": "stream",
     "text": [
      "number of singular values requested was 91. this takes too much time!\n"
     ]
    },
    {
     "name": "stderr",
     "output_type": "stream",
     "text": [
      "\n",
      "Grid Search Progress:  42%|██████████████████████████████████████████████████████████████████████████████████████████████████████████████████████████▉                                                                                                                                                                            | 5/12 [1:19:04<2:05:43, 1077.70s/it]"
     ]
    },
    {
     "name": "stdout",
     "output_type": "stream",
     "text": [
      "\n",
      "\n",
      "Test RMSE: 0.875\n",
      "\n",
      "\n",
      "Hyperparameters:\n",
      "\n",
      "hist = SVT(train_df, test_df,\n",
      "\ttau=15000, delta=1, n_epochs=500)\n",
      "tau: 15000, delta: 2\n",
      "\n"
     ]
    },
    {
     "name": "stderr",
     "output_type": "stream",
     "text": [
      "Iteration:  88%|████████▊ | 220/250 [27:25<03:44,  7.48s/it, test_Loss=0.806, test_RMSE=0.898, test_MAE=0.698]"
     ]
    },
    {
     "name": "stdout",
     "output_type": "stream",
     "text": [
      "number of singular values requested was 91. this takes too much time!\n"
     ]
    },
    {
     "name": "stderr",
     "output_type": "stream",
     "text": [
      "\n",
      "Grid Search Progress:  50%|███████████████████████████████████████████████████████████████████████████████████████████████████████████████████████████████████████████████████▌                                                                                                                                                   | 6/12 [1:46:31<2:07:08, 1271.43s/it]"
     ]
    },
    {
     "name": "stdout",
     "output_type": "stream",
     "text": [
      "\n",
      "\n",
      "Test RMSE: 0.898\n",
      "\n",
      "\n",
      "Hyperparameters:\n",
      "\n",
      "hist = SVT(train_df, test_df,\n",
      "\ttau=15000, delta=2, n_epochs=250)\n",
      "tau: 15000, delta: 5\n",
      "\n"
     ]
    },
    {
     "name": "stderr",
     "output_type": "stream",
     "text": [
      "Iteration: 100%|██████████| 100/100 [06:43<00:00,  4.03s/it, test_Loss=1.227, test_RMSE=1.108, test_MAE=0.847]\n",
      "Grid Search Progress:  58%|████████████████████████████████████████████████████████████████████████████████████████████████████████████████████████████████████████████████████████████████████████████▋                                                                                                                           | 7/12 [1:53:16<1:22:20, 988.16s/it]"
     ]
    },
    {
     "name": "stdout",
     "output_type": "stream",
     "text": [
      "\n",
      "\n",
      "Test RMSE: 1.108\n",
      "\n",
      "\n",
      "Hyperparameters:\n",
      "\n",
      "hist = SVT(train_df, test_df,\n",
      "\ttau=15000, delta=5, n_epochs=100)\n",
      "tau: 15000, delta: 7\n",
      "\n"
     ]
    },
    {
     "name": "stderr",
     "output_type": "stream",
     "text": [
      "Iteration: 100%|████████████| 71/71 [01:14<00:00,  1.05s/it, test_Loss=5.777, test_RMSE=2.404, test_MAE=2.051]\n",
      "Grid Search Progress:  67%|██████████████████████████████████████████████████████████████████████████████████████████████████████████████████████████████████████████████████████████████████████████████████████████████████████▋                                                                                                   | 8/12 [1:54:32<46:31, 697.85s/it]"
     ]
    },
    {
     "name": "stdout",
     "output_type": "stream",
     "text": [
      "\n",
      "\n",
      "Test RMSE: 2.404\n",
      "\n",
      "\n",
      "Hyperparameters:\n",
      "\n",
      "hist = SVT(train_df, test_df,\n",
      "\ttau=15000, delta=7, n_epochs=71)\n",
      "tau: 25000, delta: 1\n",
      "\n"
     ]
    },
    {
     "name": "stderr",
     "output_type": "stream",
     "text": [
      "Iteration: 100%|██████████| 500/500 [13:01<00:00,  1.56s/it, test_Loss=0.771, test_RMSE=0.878, test_MAE=0.686]\n",
      "Grid Search Progress:  75%|███████████████████████████████████████████████████████████████████████████████████████████████████████████████████████████████████████████████████████████████████████████████████████████████████████████████████████████████▌                                                                          | 9/12 [2:07:36<36:13, 724.49s/it]"
     ]
    },
    {
     "name": "stdout",
     "output_type": "stream",
     "text": [
      "\n",
      "\n",
      "Test RMSE: 0.878\n",
      "\n",
      "\n",
      "Hyperparameters:\n",
      "\n",
      "hist = SVT(train_df, test_df,\n",
      "\ttau=25000, delta=1, n_epochs=500)\n",
      "tau: 25000, delta: 2\n",
      "\n"
     ]
    },
    {
     "name": "stderr",
     "output_type": "stream",
     "text": [
      "Iteration: 100%|██████████| 250/250 [06:29<00:00,  1.56s/it, test_Loss=0.772, test_RMSE=0.878, test_MAE=0.686]\n",
      "Grid Search Progress:  83%|███████████████████████████████████████████████████████████████████████████████████████████████████████████████████████████████████████████████████████████████████████████████████████████████████████████████████████████████████████████████████████▌                                                 | 10/12 [2:14:06<20:42, 621.46s/it]"
     ]
    },
    {
     "name": "stdout",
     "output_type": "stream",
     "text": [
      "\n",
      "\n",
      "Test RMSE: 0.878\n",
      "\n",
      "\n",
      "Hyperparameters:\n",
      "\n",
      "hist = SVT(train_df, test_df,\n",
      "\ttau=25000, delta=2, n_epochs=250)\n",
      "tau: 25000, delta: 5\n",
      "\n"
     ]
    },
    {
     "name": "stderr",
     "output_type": "stream",
     "text": [
      "Iteration: 100%|██████████| 100/100 [02:24<00:00,  1.44s/it, test_Loss=0.780, test_RMSE=0.883, test_MAE=0.686]\n",
      "Grid Search Progress:  92%|████████████████████████████████████████████████████████████████████████████████████████████████████████████████████████████████████████████████████████████████████████████████████████████████████████████████████████████████████████████████████████████████████████████████▎                        | 11/12 [2:16:32<07:55, 475.88s/it]"
     ]
    },
    {
     "name": "stdout",
     "output_type": "stream",
     "text": [
      "\n",
      "\n",
      "Test RMSE: 0.883\n",
      "\n",
      "\n",
      "Hyperparameters:\n",
      "\n",
      "hist = SVT(train_df, test_df,\n",
      "\ttau=25000, delta=5, n_epochs=100)\n",
      "tau: 25000, delta: 7\n",
      "\n"
     ]
    },
    {
     "name": "stderr",
     "output_type": "stream",
     "text": [
      "Iteration: 100%|████████████| 71/71 [01:14<00:00,  1.04s/it, test_Loss=1.105, test_RMSE=1.051, test_MAE=0.793]\n",
      "Grid Search Progress: 100%|█████████████████████████████████████████████████████████████████████████████████████████████████████████████████████████████████████████████████████████████████████████████████████████████████████████████████████████████████████████████████████████████████████████████████████████████████████████| 12/12 [2:17:48<00:00, 689.03s/it]"
     ]
    },
    {
     "name": "stdout",
     "output_type": "stream",
     "text": [
      "\n",
      "\n",
      "Test RMSE: 1.051\n",
      "\n",
      "\n",
      "Hyperparameters:\n",
      "\n",
      "hist = SVT(train_df, test_df,\n",
      "\ttau=25000, delta=7, n_epochs=71)\n"
     ]
    },
    {
     "name": "stderr",
     "output_type": "stream",
     "text": [
      "\n"
     ]
    }
   ],
   "source": [
    "taus = [20000, 15000, 25000]\n",
    "deltas = [1, 2, 5, 7]\n",
    "\n",
    "grid_space = list(product(taus, deltas))\n",
    "hists = []\n",
    "for tau, delta in tqdm(grid_space, position=0, leave=True, desc='Grid Search Progress'):\n",
    "    print(f\"tau: {tau}, delta: {delta}\\n\")\n",
    "    try:\n",
    "        hist, _ = run_svt(train=M_train_df, test=M_test_df, verbose=True,\n",
    "                tau=tau,\n",
    "                delta=delta,\n",
    "                n_epochs=int(500 / delta))\n",
    "    except Exception as e:\n",
    "        print('encountered a problem {}. Happens when SVT diverges'.format(e))\n",
    "        continue\n",
    "    hists.append({'tau':tau, 'delta': delta, 'hist': hist})\n",
    "    with open('results.json', 'w') as f:\n",
    "        json.dump(hists, f)"
   ]
  },
  {
   "cell_type": "markdown",
   "metadata": {},
   "source": [
    "### SVT Analysis"
   ]
  },
  {
   "cell_type": "code",
   "execution_count": 14,
   "metadata": {
    "colab": {
     "base_uri": "https://localhost:8080/",
     "height": 996
    },
    "id": "HX6ndzgpfNCi",
    "outputId": "8bc76351-2494-4509-9a68-9f9d20980aab"
   },
   "outputs": [
    {
     "data": {
      "application/vnd.plotly.v1+json": {
       "config": {
        "plotlyServerURL": "https://plot.ly"
       },
       "data": [
        {
         "hovertemplate": "variable=test_Loss<br>Epoch=%{x}<br>value=%{y}<extra></extra>",
         "legendgroup": "test_Loss",
         "line": {
          "color": "#636efa",
          "dash": "solid"
         },
         "mode": "lines",
         "name": "test_Loss",
         "showlegend": true,
         "type": "scattergl",
         "x": [
          0,
          1,
          2,
          3,
          4,
          5,
          6,
          7,
          8,
          9,
          10,
          11,
          12,
          13,
          14,
          15,
          16,
          17,
          18,
          19,
          20,
          21,
          22,
          23,
          24,
          25,
          26,
          27,
          28,
          29,
          30,
          31,
          32,
          33,
          34,
          35,
          36,
          37,
          38,
          39,
          40,
          41,
          42,
          43,
          44,
          45,
          46,
          47,
          48,
          49,
          50,
          51,
          52,
          53,
          54,
          55,
          56,
          57,
          58,
          59,
          60,
          61,
          62,
          63,
          64,
          65,
          66,
          67,
          68,
          69,
          70,
          71,
          72,
          73,
          74,
          75,
          76,
          77,
          78,
          79,
          80,
          81,
          82,
          83,
          84,
          85,
          86,
          87,
          88,
          89,
          90,
          91,
          92,
          93,
          94,
          95,
          96,
          97,
          98,
          99,
          100,
          101,
          102,
          103,
          104,
          105,
          106,
          107,
          108,
          109,
          110,
          111,
          112,
          113,
          114,
          115,
          116,
          117,
          118,
          119,
          120,
          121,
          122,
          123,
          124,
          125,
          126,
          127,
          128,
          129,
          130,
          131,
          132,
          133,
          134,
          135,
          136,
          137,
          138,
          139,
          140,
          141,
          142,
          143,
          144,
          145,
          146,
          147,
          148,
          149,
          150,
          151,
          152,
          153,
          154,
          155,
          156,
          157,
          158,
          159,
          160,
          161,
          162,
          163,
          164,
          165,
          166,
          167,
          168,
          169,
          170,
          171,
          172,
          173,
          174,
          175,
          176,
          177,
          178,
          179,
          180,
          181,
          182,
          183,
          184,
          185,
          186,
          187,
          188,
          189,
          190,
          191,
          192,
          193,
          194,
          195,
          196,
          197,
          198,
          199,
          200,
          201,
          202,
          203,
          204,
          205,
          206,
          207,
          208,
          209,
          210,
          211,
          212,
          213,
          214,
          215,
          216,
          217,
          218,
          219,
          220,
          221,
          222,
          223,
          224,
          225,
          226,
          227,
          228,
          229,
          230,
          231,
          232,
          233,
          234,
          235,
          236,
          237,
          238,
          239,
          240,
          241,
          242,
          243,
          244,
          245,
          246,
          247,
          248,
          249,
          250,
          251,
          252,
          253,
          254,
          255,
          256,
          257,
          258,
          259,
          260,
          261,
          262,
          263,
          264,
          265,
          266,
          267,
          268,
          269,
          270,
          271,
          272,
          273,
          274,
          275,
          276,
          277,
          278,
          279,
          280,
          281,
          282,
          283,
          284,
          285,
          286,
          287,
          288,
          289,
          290,
          291,
          292,
          293,
          294,
          295,
          296,
          297,
          298,
          299,
          300,
          301,
          302,
          303,
          304,
          305,
          306,
          307,
          308,
          309,
          310,
          311,
          312,
          313,
          314,
          315,
          316,
          317,
          318,
          319,
          320,
          321,
          322,
          323,
          324,
          325,
          326,
          327,
          328,
          329,
          330,
          331,
          332,
          333,
          334,
          335,
          336,
          337,
          338,
          339,
          340,
          341,
          342,
          343,
          344,
          345,
          346,
          347,
          348,
          349,
          350,
          351,
          352,
          353,
          354,
          355,
          356,
          357,
          358,
          359,
          360,
          361,
          362,
          363,
          364,
          365,
          366,
          367,
          368,
          369,
          370,
          371,
          372,
          373,
          374,
          375,
          376,
          377,
          378,
          379,
          380,
          381,
          382,
          383,
          384,
          385,
          386,
          387,
          388,
          389,
          390,
          391,
          392,
          393,
          394,
          395,
          396,
          397,
          398,
          399,
          400,
          401,
          402,
          403,
          404,
          405,
          406,
          407,
          408,
          409,
          410,
          411,
          412,
          413,
          414,
          415,
          416,
          417,
          418,
          419,
          420,
          421,
          422,
          423,
          424,
          425,
          426,
          427,
          428,
          429,
          430,
          431,
          432,
          433,
          434,
          435,
          436,
          437,
          438,
          439,
          440,
          441,
          442,
          443,
          444,
          445,
          446,
          447,
          448,
          449,
          450,
          451,
          452,
          453,
          454,
          455,
          456,
          457,
          458,
          459,
          460,
          461,
          462,
          463,
          464,
          465,
          466,
          467,
          468,
          469,
          470,
          471,
          472,
          473,
          474,
          475,
          476,
          477,
          478,
          479,
          480,
          481,
          482,
          483,
          484,
          485,
          486,
          487,
          488,
          489,
          490,
          491,
          492,
          493,
          494,
          495,
          496,
          497,
          498,
          499
         ],
         "xaxis": "x",
         "y": [
          7.895594965646932,
          7.895594965646932,
          7.895594965646932,
          7.895594965646932,
          7.895594965646932,
          7.895594965646932,
          7.895594965646932,
          6.406120079246149,
          5.3647624542910926,
          4.896736734628275,
          4.624041831673884,
          4.428705969293692,
          4.271342850860932,
          4.134176318391812,
          4.009916445064571,
          3.8945090436396343,
          3.7868790642084655,
          3.6859630045858185,
          3.591122471851383,
          3.501521895178918,
          3.4174786354081053,
          3.3383666413441455,
          3.263407244451508,
          3.1913922231199447,
          3.122766924625184,
          3.0575431838641562,
          2.9956652913609236,
          2.936711835195369,
          2.8803542594485663,
          2.826575926947959,
          2.774916281165455,
          2.7254539525688113,
          2.6780720718859237,
          2.632699338123277,
          2.5893755674514027,
          2.5478252639026646,
          2.5078807373087435,
          2.4694418800232594,
          2.4322609606542276,
          2.3963711091942628,
          2.361636866455203,
          2.3282249257910532,
          2.2961322847107795,
          2.26503193576373,
          2.234949635755714,
          2.205877228036881,
          2.1777321178546174,
          2.1504798014017017,
          2.1241059508200117,
          2.059079739115396,
          1.9785361331521454,
          1.9376338386791572,
          1.910125194915904,
          1.8873665806815842,
          1.8665328819410119,
          1.8468579894782535,
          1.8281352172094296,
          1.8102122940774283,
          1.792817590627091,
          1.775961438341,
          1.7596630146151107,
          1.743906953146452,
          1.7286404733636496,
          1.7138059025079198,
          1.6994248474724256,
          1.6854183848855206,
          1.671748659939289,
          1.6584398444589576,
          1.6454890402169244,
          1.63289697607816,
          1.620607829204147,
          1.6086044389414247,
          1.5969226701696488,
          1.5855277340038674,
          1.5743887871189342,
          1.5634482244148373,
          1.5527445413890022,
          1.5422698273172106,
          1.5320334213315236,
          1.5220475788565284,
          1.5123019607549812,
          1.5027707477696004,
          1.4934525062725146,
          1.4843349275629856,
          1.475430928822926,
          1.4667348632547774,
          1.4582266937376118,
          1.4470838195443778,
          1.4271135771195615,
          1.4121327040494893,
          1.4000705373136593,
          1.389868833431405,
          1.380807874858299,
          1.3725001098766314,
          1.3647518761860755,
          1.3573995105496852,
          1.3503357765539525,
          1.3435181522560613,
          1.336921866976452,
          1.3305146261059462,
          1.324275711111323,
          1.3181778789855503,
          1.3122237882689043,
          1.3063969734703198,
          1.300686216427979,
          1.295063866747318,
          1.2895543987640459,
          1.2841484268392103,
          1.2788455712278162,
          1.273620361013717,
          1.2684921303773082,
          1.263462180342867,
          1.2585219803170873,
          1.2536599051490525,
          1.2488361398414214,
          1.2440615779937056,
          1.2393700994862986,
          1.2347512485962633,
          1.2302110597663196,
          1.2257498803133682,
          1.2213556957907858,
          1.2170085408777256,
          1.2127317219621776,
          1.2084999263980765,
          1.2043369418872494,
          1.2002324785234346,
          1.1961946836500381,
          1.1922164981384709,
          1.1882889245080304,
          1.1844234432574259,
          1.1806159585290712,
          1.1768640418804297,
          1.1731633031586886,
          1.1695193793801522,
          1.1659319423891623,
          1.1623838883597652,
          1.1588852811923374,
          1.1554374499804272,
          1.1520400394020391,
          1.148690643844251,
          1.1453907991240173,
          1.1421393839315814,
          1.1389352876261118,
          1.1357774039567627,
          1.125858673443777,
          1.1181104651309182,
          1.112263556813429,
          1.1075295127568263,
          1.103466151666135,
          1.0998004553174068,
          1.0963887090377233,
          1.0931588314644893,
          1.090063060215649,
          1.0870700456735958,
          1.0841598149242144,
          1.0813268275837264,
          1.078562168686273,
          1.0758590225042295,
          1.0732098522544224,
          1.0706122096910196,
          1.0680632755473278,
          1.0655593841552031,
          1.0630982051343023,
          1.060678626414643,
          1.0582993001673315,
          1.0559591297317439,
          1.0536525121572768,
          1.0513717636928877,
          1.045492067740295,
          1.0407566158971617,
          1.037136143139492,
          1.0341153319389873,
          1.031408852642113,
          1.0289442202859034,
          1.026635403919845,
          1.024430036562605,
          1.022296326040555,
          1.0202194224618695,
          1.0181755274184139,
          1.016172541356686,
          1.0142067753754946,
          1.0122762656932975,
          1.0103803175990438,
          1.0085194156256723,
          1.0066954730942423,
          1.0049072912691128,
          1.0012758401033772,
          0.9938373274940563,
          0.9897064356170145,
          0.9869103755472594,
          0.984655966914435,
          0.9826643246688341,
          0.9808084135971491,
          0.9790336525116531,
          0.9773031548974833,
          0.975618708324504,
          0.9739716291744877,
          0.97235625480644,
          0.9707696781760491,
          0.9692094157423263,
          0.9676740247062753,
          0.9661618444598998,
          0.9646713772474094,
          0.9632013660100529,
          0.9617507314037043,
          0.9603185164639239,
          0.958903826440412,
          0.9575057381930843,
          0.9538400210156233,
          0.9512358148624058,
          0.9495167454210779,
          0.9481614041617158,
          0.9469249291918289,
          0.9456940005226603,
          0.9444633096873899,
          0.9432147230458874,
          0.9419622656232006,
          0.940705954240949,
          0.9394382347511291,
          0.9381742977807193,
          0.9369172046246749,
          0.9356691098425209,
          0.9344314346494539,
          0.9332050443260299,
          0.9319903998742464,
          0.9307876771107065,
          0.9295968612037592,
          0.9284152024892628,
          0.9272437985394135,
          0.9260834683546072,
          0.9249280892057558,
          0.9237823933298951,
          0.9226450230610959,
          0.9215167005446266,
          0.9203960558076273,
          0.9192845108078873,
          0.9181815689896466,
          0.9170866734053307,
          0.9159875197802623,
          0.914891717997116,
          0.9137984953212884,
          0.908655751053695,
          0.9039834460182564,
          0.90076443996446,
          0.8983916722274602,
          0.896486844203437,
          0.8948555301488872,
          0.8922051266000292,
          0.8885275470157791,
          0.886385716928661,
          0.8848822233121824,
          0.8836236962433751,
          0.8824895222209205,
          0.88141960618021,
          0.8803869470896372,
          0.8793757366691967,
          0.8783832921500618,
          0.8774061545739321,
          0.8764414403278233,
          0.8754886873501464,
          0.874547088616822,
          0.8736160730809698,
          0.8726936420297067,
          0.8717805046742938,
          0.8708752618525297,
          0.869979031100425,
          0.8690915735320174,
          0.8682125794087675,
          0.8673417622257897,
          0.8664779927446602,
          0.8656213196151313,
          0.862539908269672,
          0.860796761504003,
          0.859704597050778,
          0.8588421998250693,
          0.8580537163278992,
          0.8572910794869193,
          0.8565380973199697,
          0.8557897624114956,
          0.8550455348212718,
          0.8543061651958395,
          0.8535726055193678,
          0.8528456793871666,
          0.8521244817344749,
          0.8514087622870228,
          0.8507012203483754,
          0.8500022006592654,
          0.8493120585892663,
          0.8486312125907037,
          0.8479602047223769,
          0.8472997826527977,
          0.8466510264628822,
          0.8460155696524881,
          0.8453960470497964,
          0.8442473465218785,
          0.84173702215008,
          0.8401590065767055,
          0.8390273842768993,
          0.8381303217085376,
          0.8373596317454863,
          0.8366439124840024,
          0.83597127766179,
          0.8353236999869227,
          0.8346927600719715,
          0.8340731557574429,
          0.8334619118158076,
          0.8328573450749546,
          0.8322584875199238,
          0.8316647789850982,
          0.8310759242649399,
          0.8304917599557367,
          0.8299111983291079,
          0.8293339970738133,
          0.8287613518738901,
          0.8281931208393071,
          0.827628814643966,
          0.8270689344319136,
          0.8265133691236927,
          0.8259619303129099,
          0.8254142883175409,
          0.824869832298907,
          0.8243273179281652,
          0.8229476227028641,
          0.8210456727071185,
          0.8202882000273753,
          0.8198293767582613,
          0.8194309694157266,
          0.8190310260569675,
          0.8186183238020676,
          0.8181959499059014,
          0.8177603663126157,
          0.8162620189242846,
          0.8157367481249584,
          0.815476259136466,
          0.8152525774110881,
          0.8149920848049568,
          0.8146831433224627,
          0.8139567414481994,
          0.8132797082873805,
          0.8129796700755824,
          0.8127170013752566,
          0.812409635380599,
          0.8120498243765213,
          0.8116514965004277,
          0.8112298385744844,
          0.810796750322468,
          0.8103571611379029,
          0.8099218397708768,
          0.8075030095768718,
          0.8062179207462996,
          0.8054629702316832,
          0.8049332208766351,
          0.8044776638796346,
          0.804048072227379,
          0.803629638946666,
          0.8032179066616718,
          0.8028116753797574,
          0.8024106890679377,
          0.8020150085525516,
          0.8016248867718868,
          0.8012407984723222,
          0.800863561408592,
          0.8004945994927606,
          0.8001359148821253,
          0.7997442044360326,
          0.7986097360124433,
          0.7981823571364377,
          0.7975900572799438,
          0.7963662240598984,
          0.7958594846875476,
          0.7955610124947848,
          0.7953141280009912,
          0.7946810085562184,
          0.7927870919652121,
          0.79190132349701,
          0.7913586181485712,
          0.7909308651905463,
          0.7905353202570744,
          0.790139818534359,
          0.7897297137142759,
          0.7889959063287469,
          0.7877157722149879,
          0.7869523041433543,
          0.7863552399714087,
          0.7859029375061722,
          0.7855078024052567,
          0.7851316783906366,
          0.7847593138579709,
          0.7848435038999587,
          0.7851298480978095,
          0.7853401381442976,
          0.7854738302336602,
          0.7855666656016016,
          0.7842015565101415,
          0.7826300177289368,
          0.7811828251421533,
          0.780490160760139,
          0.7800861855230331,
          0.7797742512613391,
          0.7794886063402635,
          0.7792079328629882,
          0.7789257128928759,
          0.7782732704153213,
          0.7775172325253108,
          0.7771570999803016,
          0.7766081435437187,
          0.7760718691269424,
          0.775642306590487,
          0.7753587277411532,
          0.7754932384204919,
          0.7756718702853643,
          0.7756222701523009,
          0.7757402328064412,
          0.7758371351316766,
          0.7758779780201448,
          0.7758717744943661,
          0.7758415311684005,
          0.7756078249645585,
          0.7743998334959029,
          0.7739403336477344,
          0.7734982932851672,
          0.7729078975318238,
          0.7719633794263454,
          0.7713160185463472,
          0.771036981025662,
          0.7708758176781739,
          0.7707501329147322,
          0.7706469642249436,
          0.7693807264115715,
          0.7685081625364998,
          0.7683527354518066,
          0.7683332163993346,
          0.7683582499328191,
          0.76776787992382,
          0.7676752587126533,
          0.7675978411911866,
          0.7677848066934524,
          0.7683043753410477,
          0.7686677940632126,
          0.7683050163819642,
          0.7677830524640818,
          0.7675946992999645,
          0.7674662064929861,
          0.7662130073490973,
          0.7645671005233311,
          0.7638657712136319,
          0.7637523721880852,
          0.7637093909160829,
          0.7635706261453938,
          0.7634107089404679,
          0.763484885224538,
          0.7638802294920354,
          0.7650545262104135,
          0.765443727759993,
          0.7653282514125294,
          0.7653938639417636,
          0.7656984369022298,
          0.7650578208188983,
          0.7648839089606779,
          0.7648335961664827,
          0.7639354056319787,
          0.7633453017063472,
          0.7630537994439083,
          0.7629003051445149,
          0.7628245787631475,
          0.7626254645124775,
          0.7625948586137598,
          0.7624439960793884,
          0.7625254166951722,
          0.7628865949595475,
          0.7630891186095278,
          0.7623101287752143,
          0.761916728399173,
          0.761971931056382,
          0.7622816035290738,
          0.7628049057025128,
          0.7633695126526644,
          0.7638917018863677,
          0.7645727305873709,
          0.7652988876229283,
          0.7654021092897608,
          0.7657112143247381,
          0.7660108115397436,
          0.7661780560981196,
          0.7657766351447626,
          0.7657151547747281,
          0.765898873399934,
          0.7661480198507247,
          0.7663328311619223,
          0.7656512044220503,
          0.7654441374941932,
          0.765473152829529,
          0.7658994996099494,
          0.7670713470206683,
          0.7677764309789895,
          0.7686430298333656,
          0.7697396680633424,
          0.7705342637435854,
          0.7712031941029227,
          0.7720228039702389
         ],
         "yaxis": "y"
        },
        {
         "hovertemplate": "variable=test_RMSE<br>Epoch=%{x}<br>value=%{y}<extra></extra>",
         "legendgroup": "test_RMSE",
         "line": {
          "color": "#EF553B",
          "dash": "solid"
         },
         "mode": "lines",
         "name": "test_RMSE",
         "showlegend": true,
         "type": "scattergl",
         "x": [
          0,
          1,
          2,
          3,
          4,
          5,
          6,
          7,
          8,
          9,
          10,
          11,
          12,
          13,
          14,
          15,
          16,
          17,
          18,
          19,
          20,
          21,
          22,
          23,
          24,
          25,
          26,
          27,
          28,
          29,
          30,
          31,
          32,
          33,
          34,
          35,
          36,
          37,
          38,
          39,
          40,
          41,
          42,
          43,
          44,
          45,
          46,
          47,
          48,
          49,
          50,
          51,
          52,
          53,
          54,
          55,
          56,
          57,
          58,
          59,
          60,
          61,
          62,
          63,
          64,
          65,
          66,
          67,
          68,
          69,
          70,
          71,
          72,
          73,
          74,
          75,
          76,
          77,
          78,
          79,
          80,
          81,
          82,
          83,
          84,
          85,
          86,
          87,
          88,
          89,
          90,
          91,
          92,
          93,
          94,
          95,
          96,
          97,
          98,
          99,
          100,
          101,
          102,
          103,
          104,
          105,
          106,
          107,
          108,
          109,
          110,
          111,
          112,
          113,
          114,
          115,
          116,
          117,
          118,
          119,
          120,
          121,
          122,
          123,
          124,
          125,
          126,
          127,
          128,
          129,
          130,
          131,
          132,
          133,
          134,
          135,
          136,
          137,
          138,
          139,
          140,
          141,
          142,
          143,
          144,
          145,
          146,
          147,
          148,
          149,
          150,
          151,
          152,
          153,
          154,
          155,
          156,
          157,
          158,
          159,
          160,
          161,
          162,
          163,
          164,
          165,
          166,
          167,
          168,
          169,
          170,
          171,
          172,
          173,
          174,
          175,
          176,
          177,
          178,
          179,
          180,
          181,
          182,
          183,
          184,
          185,
          186,
          187,
          188,
          189,
          190,
          191,
          192,
          193,
          194,
          195,
          196,
          197,
          198,
          199,
          200,
          201,
          202,
          203,
          204,
          205,
          206,
          207,
          208,
          209,
          210,
          211,
          212,
          213,
          214,
          215,
          216,
          217,
          218,
          219,
          220,
          221,
          222,
          223,
          224,
          225,
          226,
          227,
          228,
          229,
          230,
          231,
          232,
          233,
          234,
          235,
          236,
          237,
          238,
          239,
          240,
          241,
          242,
          243,
          244,
          245,
          246,
          247,
          248,
          249,
          250,
          251,
          252,
          253,
          254,
          255,
          256,
          257,
          258,
          259,
          260,
          261,
          262,
          263,
          264,
          265,
          266,
          267,
          268,
          269,
          270,
          271,
          272,
          273,
          274,
          275,
          276,
          277,
          278,
          279,
          280,
          281,
          282,
          283,
          284,
          285,
          286,
          287,
          288,
          289,
          290,
          291,
          292,
          293,
          294,
          295,
          296,
          297,
          298,
          299,
          300,
          301,
          302,
          303,
          304,
          305,
          306,
          307,
          308,
          309,
          310,
          311,
          312,
          313,
          314,
          315,
          316,
          317,
          318,
          319,
          320,
          321,
          322,
          323,
          324,
          325,
          326,
          327,
          328,
          329,
          330,
          331,
          332,
          333,
          334,
          335,
          336,
          337,
          338,
          339,
          340,
          341,
          342,
          343,
          344,
          345,
          346,
          347,
          348,
          349,
          350,
          351,
          352,
          353,
          354,
          355,
          356,
          357,
          358,
          359,
          360,
          361,
          362,
          363,
          364,
          365,
          366,
          367,
          368,
          369,
          370,
          371,
          372,
          373,
          374,
          375,
          376,
          377,
          378,
          379,
          380,
          381,
          382,
          383,
          384,
          385,
          386,
          387,
          388,
          389,
          390,
          391,
          392,
          393,
          394,
          395,
          396,
          397,
          398,
          399,
          400,
          401,
          402,
          403,
          404,
          405,
          406,
          407,
          408,
          409,
          410,
          411,
          412,
          413,
          414,
          415,
          416,
          417,
          418,
          419,
          420,
          421,
          422,
          423,
          424,
          425,
          426,
          427,
          428,
          429,
          430,
          431,
          432,
          433,
          434,
          435,
          436,
          437,
          438,
          439,
          440,
          441,
          442,
          443,
          444,
          445,
          446,
          447,
          448,
          449,
          450,
          451,
          452,
          453,
          454,
          455,
          456,
          457,
          458,
          459,
          460,
          461,
          462,
          463,
          464,
          465,
          466,
          467,
          468,
          469,
          470,
          471,
          472,
          473,
          474,
          475,
          476,
          477,
          478,
          479,
          480,
          481,
          482,
          483,
          484,
          485,
          486,
          487,
          488,
          489,
          490,
          491,
          492,
          493,
          494,
          495,
          496,
          497,
          498,
          499
         ],
         "xaxis": "x",
         "y": [
          2.809910134799142,
          2.809910134799142,
          2.809910134799142,
          2.809910134799142,
          2.809910134799142,
          2.809910134799142,
          2.809910134799142,
          2.531031425969687,
          2.316195685664554,
          2.21285714284232,
          2.150358535610721,
          2.104449089261532,
          2.0667227319746915,
          2.033267399628443,
          2.0024775766696044,
          1.9734510492129351,
          1.9459905097940395,
          1.9198861957381272,
          1.895025717992076,
          1.8712353927763652,
          1.848642376288098,
          1.8271197665572296,
          1.8064903111977955,
          1.78644681508293,
          1.7671352309954051,
          1.7485831932922598,
          1.7307990326323053,
          1.7136837033698398,
          1.6971606463292055,
          1.6812423760267163,
          1.6658079964886274,
          1.6508948944644573,
          1.6364816136718199,
          1.6225595021826709,
          1.609153680495248,
          1.5961908607377329,
          1.5836289771624992,
          1.5714457929000476,
          1.5595707616694496,
          1.5480216759445788,
          1.5367618118808142,
          1.5258521965744432,
          1.5152994043128174,
          1.505002304238678,
          1.4949747943546454,
          1.4852195891641347,
          1.475714104376121,
          1.4664514316545576,
          1.4574312851109008,
          1.4349493855587367,
          1.4066044693346262,
          1.3919891661500663,
          1.3820727892972584,
          1.3738146092837942,
          1.3662111410543438,
          1.358991533998006,
          1.3520855066191004,
          1.345441300866533,
          1.3389613850395727,
          1.3326520319802164,
          1.3265229039165176,
          1.3205706922185014,
          1.3147777277409476,
          1.3091240974437526,
          1.3036199014561052,
          1.2982366444086844,
          1.2929611981568856,
          1.2878042725736538,
          1.2827661673964295,
          1.2778485732191276,
          1.2730309616046842,
          1.2683077067263389,
          1.2636940571869637,
          1.2591774037060335,
          1.2547465031307854,
          1.2503792322390985,
          1.2460917066528459,
          1.2418815673473902,
          1.2377533766189142,
          1.2337129240048224,
          1.2297568705866138,
          1.225875502557091,
          1.222068944975084,
          1.2183328476089716,
          1.2146731777819604,
          1.211088297051366,
          1.2075705750545647,
          1.2029479704228183,
          1.1946185906470574,
          1.1883318997862042,
          1.1832457636998577,
          1.1789269839270815,
          1.1750778165118678,
          1.1715374982802007,
          1.1682259525391805,
          1.1650748948242278,
          1.162039490100897,
          1.1591023044822495,
          1.1562533749038106,
          1.1534793566015589,
          1.150771789327199,
          1.1481192790758068,
          1.1455233687135782,
          1.142977241011526,
          1.1404763112086016,
          1.138008728765873,
          1.1355854872109126,
          1.133202729805753,
          1.13086054455349,
          1.1285478992996782,
          1.1262735592995639,
          1.1240383357977017,
          1.1218386605555575,
          1.1196695517647395,
          1.1175133734508154,
          1.115375083993589,
          1.1132700029580869,
          1.1111936143608203,
          1.1091487996505787,
          1.1071358906265156,
          1.105149625974142,
          1.103181100671021,
          1.1012409917734527,
          1.0993179369036405,
          1.097422863752733,
          1.0955512213143823,
          1.0937068545318889,
          1.091886669090923,
          1.0900866591734946,
          1.0883121993515583,
          1.0865615300244489,
          1.0848336471000657,
          1.083126633020668,
          1.0814431928585764,
          1.0797832849183961,
          1.0781390858139617,
          1.0765153418285953,
          1.0749127638931577,
          1.0733312812929843,
          1.0717698651502807,
          1.070229320811207,
          1.0687092139265861,
          1.0672091114800848,
          1.0657285789340374,
          1.0610648771134483,
          1.057407426269987,
          1.0546390647104955,
          1.0523922808329726,
          1.0504599714725618,
          1.0487137146606822,
          1.0470858174179054,
          1.0455423623481208,
          1.0440608508203193,
          1.0426265130302392,
          1.0412299529518994,
          1.0398686588140478,
          1.0385384772295503,
          1.037236242378866,
          1.035958422068387,
          1.034703923685911,
          1.0334714681825172,
          1.0322593589574294,
          1.031066537685276,
          1.0298925314879428,
          1.0287367496922288,
          1.0275987201878678,
          1.026475772805806,
          1.0253642102652538,
          1.022493064886161,
          1.0201747967368935,
          1.018398813402437,
          1.0169146138880036,
          1.0155830112019957,
          1.0143688778180764,
          1.013230183087656,
          1.012141312546131,
          1.0110867055008463,
          1.0100591183004435,
          1.0090468410427802,
          1.0080538385208828,
          1.0070783362656028,
          1.0061194092617922,
          1.005176759380679,
          1.0042506736993868,
          1.0033421515586007,
          1.0024506428094666,
          1.0006377167103873,
          0.9969139017458108,
          0.9948399045158043,
          0.9934336291606296,
          0.9922983255626481,
          0.9912942674447554,
          0.9903577200169387,
          0.9894612940947478,
          0.9885864428048178,
          0.9877341283586915,
          0.9869000097145038,
          0.9860812617662096,
          0.9852764475902431,
          0.9844843400188377,
          0.9837042363974424,
          0.9829353205882367,
          0.9821768563998081,
          0.9814282276407444,
          0.9806889065364736,
          0.9799584258854678,
          0.9792363486106977,
          0.9785222216143507,
          0.9766473370749665,
          0.9753131880900646,
          0.974431498578057,
          0.9737357979255542,
          0.9731006778292927,
          0.9724679946006759,
          0.9718350218465014,
          0.9711924232848439,
          0.9705474051395947,
          0.9698999712552574,
          0.9692462198797214,
          0.968593979839189,
          0.9679448355276632,
          0.9672999068761048,
          0.9666599374389392,
          0.9660253849283826,
          0.9653964987890967,
          0.9647733812200182,
          0.964156035714012,
          0.9635430465159628,
          0.9629349918553243,
          0.9623323066148238,
          0.961731817715186,
          0.9611359910698876,
          0.9605441286380839,
          0.9599566138865999,
          0.9593727408091327,
          0.9587932575940902,
          0.9582179131020494,
          0.9576464240027897,
          0.957072369144707,
          0.9564997219012225,
          0.9559280806218051,
          0.9532343631309642,
          0.9507804404899464,
          0.9490861077712918,
          0.9478352558474812,
          0.9468298919042623,
          0.9459680386508241,
          0.9445661049392092,
          0.9426173916365956,
          0.9414805982752172,
          0.9406817864252408,
          0.9400126043002696,
          0.9394091346271445,
          0.9388394996910867,
          0.9382893727894595,
          0.9377503594609797,
          0.9372210476456778,
          0.9366996074376951,
          0.9361845119034086,
          0.9356755246078345,
          0.9351722240404823,
          0.9346743139088448,
          0.9341807330649176,
          0.9336918681633111,
          0.9332069769630581,
          0.9327266647311124,
          0.9322508104217542,
          0.9317792546567923,
          0.9313118501478383,
          0.9308479965841148,
          0.9303877254215747,
          0.9287302666919346,
          0.9277913351093569,
          0.9272025652740494,
          0.9267373952879366,
          0.9263118893374408,
          0.9259001455269997,
          0.9254934345093808,
          0.9250890564759133,
          0.9246867225289178,
          0.9242868414057616,
          0.9238899314958291,
          0.9234964425416953,
          0.9231058886901734,
          0.9227181380503056,
          0.9223346574581134,
          0.921955639203571,
          0.9215812815966188,
          0.9212118174397806,
          0.9208475469492097,
          0.9204888824167284,
          0.9201364173115213,
          0.9197910467342505,
          0.9194542115025611,
          0.9188293348178858,
          0.9174622728756098,
          0.9166018800857357,
          0.9159843799306292,
          0.9154945776510846,
          0.9150735663024511,
          0.9146824107218868,
          0.9143146491562902,
          0.9139604477147371,
          0.9136152144486055,
          0.9132760567087276,
          0.9129413517941926,
          0.9126101824300201,
          0.9122820219208114,
          0.9119565663917872,
          0.9116336568298364,
          0.9113132062884509,
          0.9109946203623311,
          0.9106777679694467,
          0.9103633076271748,
          0.9100511638580037,
          0.9097410701094932,
          0.9094333040041549,
          0.9091278068146924,
          0.9088244771752738,
          0.9085231358185332,
          0.9082234484414653,
          0.9079247314222502,
          0.907164606178429,
          0.9061157060260673,
          0.905697631678131,
          0.905444297987602,
          0.9052242647077721,
          0.9050033293071178,
          0.9047752891199381,
          0.9045418453039645,
          0.9043010374386484,
          0.9034722015227058,
          0.9031814591348509,
          0.9030372412788223,
          0.9029133831166133,
          0.902769120431662,
          0.9025979965203018,
          0.902195511764606,
          0.9018202194935421,
          0.9016538526926963,
          0.901508181535396,
          0.9013376922000982,
          0.9011380717606605,
          0.9009170308637903,
          0.9006829845036957,
          0.9004425302719036,
          0.9001984009860843,
          0.8999565766029364,
          0.8986117123523774,
          0.8978963864201145,
          0.8974758883845756,
          0.8971807069239927,
          0.8969267884725233,
          0.8966872767176854,
          0.8964539246088814,
          0.8962242502084352,
          0.8959975867042039,
          0.8957737934701694,
          0.8955529066183369,
          0.8953350695532298,
          0.895120549687204,
          0.8949098062981499,
          0.8947036378001156,
          0.8945031665020116,
          0.8942841855003546,
          0.8936496718582978,
          0.8934105199383079,
          0.8930789759477847,
          0.8923935365408573,
          0.8921095698890062,
          0.8919422697096404,
          0.8918038618446273,
          0.8914488255397605,
          0.8903859230497819,
          0.8898883769872545,
          0.8895833958368216,
          0.8893429401476949,
          0.8891205319061496,
          0.8888980923223758,
          0.8886673808091956,
          0.8882544153162127,
          0.8875335330087466,
          0.8871033221352258,
          0.8867667336855892,
          0.886511668003401,
          0.8862887804802997,
          0.8860765646323328,
          0.8858664198726414,
          0.8859139370728731,
          0.8860755318243527,
          0.8861941876046681,
          0.8862696148653977,
          0.8863219875426772,
          0.8855515549702013,
          0.8846637879606788,
          0.8838454758282996,
          0.8834535419364954,
          0.8832248782292271,
          0.8830482723279284,
          0.8828865195144071,
          0.8827275530213091,
          0.8825676817632039,
          0.8821979768823557,
          0.8817693760418939,
          0.8815651422216634,
          0.8812537339176036,
          0.8809494134891869,
          0.8807055731573902,
          0.8805445631773291,
          0.880620939122215,
          0.8807223570940869,
          0.88069419786456,
          0.8807611667225351,
          0.8808161755620049,
          0.880839359940361,
          0.8808358385615143,
          0.8808186709921632,
          0.8806859968028097,
          0.8799999053953943,
          0.8797387871679493,
          0.8794875174129347,
          0.8791518057376801,
          0.8786144657506758,
          0.8782459897695789,
          0.8780871147133763,
          0.8779953403510601,
          0.8779237625868958,
          0.8778650034173499,
          0.8771435038872325,
          0.8766459733190473,
          0.876557320117633,
          0.8765461861187547,
          0.8765604656455932,
          0.8762236472064766,
          0.8761707931177878,
          0.876126612534505,
          0.8762333060854582,
          0.8765297344306396,
          0.8767370153376739,
          0.8765301001003698,
          0.8762323050790137,
          0.8761248194749219,
          0.8760514862112764,
          0.8753359397106332,
          0.874395277047704,
          0.8739941482719618,
          0.8739292718453165,
          0.8739046806809556,
          0.8738252835352122,
          0.8737337746364552,
          0.8737762214803845,
          0.87400241961452,
          0.8746739542311829,
          0.8748964097308852,
          0.8748304129444342,
          0.8748679122826277,
          0.8750419629379095,
          0.8746758375643506,
          0.8745764168788671,
          0.8745476523131731,
          0.8740339842546048,
          0.8736963441072345,
          0.8735295069108474,
          0.8734416438117173,
          0.8733982933136218,
          0.8732842976445171,
          0.8732667740236999,
          0.873180391488144,
          0.8732270132646907,
          0.8734337954072693,
          0.8735497230321396,
          0.8731037331126321,
          0.8728784155878601,
          0.8729100360612094,
          0.8730873974173913,
          0.8733870308760675,
          0.8737101994669997,
          0.8740089827263606,
          0.8743984964461975,
          0.8748136302224196,
          0.8748726246087261,
          0.8750492639416012,
          0.8752204359701296,
          0.8753159750045235,
          0.8750866443642953,
          0.8750515154976466,
          0.8751564850927713,
          0.8752988174621994,
          0.8754043815071537,
          0.8750149738273342,
          0.8748966438924046,
          0.8749132258855897,
          0.875156842863009,
          0.8758260940510212,
          0.8762285266863831,
          0.8767228922717631,
          0.8773480883112144,
          0.8778008109722759,
          0.8781817545946412,
          0.8786482822894716
         ],
         "yaxis": "y"
        },
        {
         "hovertemplate": "variable=test_MAE<br>Epoch=%{x}<br>value=%{y}<extra></extra>",
         "legendgroup": "test_MAE",
         "line": {
          "color": "#00cc96",
          "dash": "solid"
         },
         "mode": "lines",
         "name": "test_MAE",
         "showlegend": true,
         "type": "scattergl",
         "x": [
          0,
          1,
          2,
          3,
          4,
          5,
          6,
          7,
          8,
          9,
          10,
          11,
          12,
          13,
          14,
          15,
          16,
          17,
          18,
          19,
          20,
          21,
          22,
          23,
          24,
          25,
          26,
          27,
          28,
          29,
          30,
          31,
          32,
          33,
          34,
          35,
          36,
          37,
          38,
          39,
          40,
          41,
          42,
          43,
          44,
          45,
          46,
          47,
          48,
          49,
          50,
          51,
          52,
          53,
          54,
          55,
          56,
          57,
          58,
          59,
          60,
          61,
          62,
          63,
          64,
          65,
          66,
          67,
          68,
          69,
          70,
          71,
          72,
          73,
          74,
          75,
          76,
          77,
          78,
          79,
          80,
          81,
          82,
          83,
          84,
          85,
          86,
          87,
          88,
          89,
          90,
          91,
          92,
          93,
          94,
          95,
          96,
          97,
          98,
          99,
          100,
          101,
          102,
          103,
          104,
          105,
          106,
          107,
          108,
          109,
          110,
          111,
          112,
          113,
          114,
          115,
          116,
          117,
          118,
          119,
          120,
          121,
          122,
          123,
          124,
          125,
          126,
          127,
          128,
          129,
          130,
          131,
          132,
          133,
          134,
          135,
          136,
          137,
          138,
          139,
          140,
          141,
          142,
          143,
          144,
          145,
          146,
          147,
          148,
          149,
          150,
          151,
          152,
          153,
          154,
          155,
          156,
          157,
          158,
          159,
          160,
          161,
          162,
          163,
          164,
          165,
          166,
          167,
          168,
          169,
          170,
          171,
          172,
          173,
          174,
          175,
          176,
          177,
          178,
          179,
          180,
          181,
          182,
          183,
          184,
          185,
          186,
          187,
          188,
          189,
          190,
          191,
          192,
          193,
          194,
          195,
          196,
          197,
          198,
          199,
          200,
          201,
          202,
          203,
          204,
          205,
          206,
          207,
          208,
          209,
          210,
          211,
          212,
          213,
          214,
          215,
          216,
          217,
          218,
          219,
          220,
          221,
          222,
          223,
          224,
          225,
          226,
          227,
          228,
          229,
          230,
          231,
          232,
          233,
          234,
          235,
          236,
          237,
          238,
          239,
          240,
          241,
          242,
          243,
          244,
          245,
          246,
          247,
          248,
          249,
          250,
          251,
          252,
          253,
          254,
          255,
          256,
          257,
          258,
          259,
          260,
          261,
          262,
          263,
          264,
          265,
          266,
          267,
          268,
          269,
          270,
          271,
          272,
          273,
          274,
          275,
          276,
          277,
          278,
          279,
          280,
          281,
          282,
          283,
          284,
          285,
          286,
          287,
          288,
          289,
          290,
          291,
          292,
          293,
          294,
          295,
          296,
          297,
          298,
          299,
          300,
          301,
          302,
          303,
          304,
          305,
          306,
          307,
          308,
          309,
          310,
          311,
          312,
          313,
          314,
          315,
          316,
          317,
          318,
          319,
          320,
          321,
          322,
          323,
          324,
          325,
          326,
          327,
          328,
          329,
          330,
          331,
          332,
          333,
          334,
          335,
          336,
          337,
          338,
          339,
          340,
          341,
          342,
          343,
          344,
          345,
          346,
          347,
          348,
          349,
          350,
          351,
          352,
          353,
          354,
          355,
          356,
          357,
          358,
          359,
          360,
          361,
          362,
          363,
          364,
          365,
          366,
          367,
          368,
          369,
          370,
          371,
          372,
          373,
          374,
          375,
          376,
          377,
          378,
          379,
          380,
          381,
          382,
          383,
          384,
          385,
          386,
          387,
          388,
          389,
          390,
          391,
          392,
          393,
          394,
          395,
          396,
          397,
          398,
          399,
          400,
          401,
          402,
          403,
          404,
          405,
          406,
          407,
          408,
          409,
          410,
          411,
          412,
          413,
          414,
          415,
          416,
          417,
          418,
          419,
          420,
          421,
          422,
          423,
          424,
          425,
          426,
          427,
          428,
          429,
          430,
          431,
          432,
          433,
          434,
          435,
          436,
          437,
          438,
          439,
          440,
          441,
          442,
          443,
          444,
          445,
          446,
          447,
          448,
          449,
          450,
          451,
          452,
          453,
          454,
          455,
          456,
          457,
          458,
          459,
          460,
          461,
          462,
          463,
          464,
          465,
          466,
          467,
          468,
          469,
          470,
          471,
          472,
          473,
          474,
          475,
          476,
          477,
          478,
          479,
          480,
          481,
          482,
          483,
          484,
          485,
          486,
          487,
          488,
          489,
          490,
          491,
          492,
          493,
          494,
          495,
          496,
          497,
          498,
          499
         ],
         "xaxis": "x",
         "y": [
          2.580359848893686,
          2.580359848893686,
          2.580359848893686,
          2.580359848893686,
          2.580359848893686,
          2.580359848893686,
          2.580359848893686,
          2.2639916468481087,
          2.009827807987157,
          1.891212135992309,
          1.8210959987158366,
          1.7705451656969264,
          1.7298036114405027,
          1.6944821780245107,
          1.6623734993764236,
          1.6323708110010087,
          1.6042506415849769,
          1.5775669176917773,
          1.5522285245305658,
          1.5278381986282417,
          1.5050497025461704,
          1.483668176569318,
          1.463494058152622,
          1.4441297736804586,
          1.4257229814044512,
          1.4081041286619507,
          1.391199658198553,
          1.3749306677005242,
          1.3593886915845927,
          1.344588098907979,
          1.3302826463843562,
          1.3165735343026321,
          1.303426528168872,
          1.290779921020294,
          1.2786155486766315,
          1.2668053266549988,
          1.255332779092162,
          1.2442217574261227,
          1.2334957800411626,
          1.223103306625996,
          1.2129756559789384,
          1.203166557583393,
          1.193702558221266,
          1.184551741137754,
          1.1757078738327709,
          1.1670780790746091,
          1.1586575061638915,
          1.1505147256385897,
          1.1425659602790377,
          1.1204594876290062,
          1.0933888403390035,
          1.0782956807586013,
          1.0684510874837776,
          1.0607369305157435,
          1.0539750271848651,
          1.0477102176054929,
          1.0418322182861335,
          1.0363094366766654,
          1.0310155537505739,
          1.0258623303479832,
          1.020865181881365,
          1.0160233530718175,
          1.0113316360194529,
          1.0067962435979014,
          1.0023901486493552,
          0.9980696519711928,
          0.9938295698325926,
          0.9896759917218932,
          0.9856335302891097,
          0.9817113184544458,
          0.9778825587529025,
          0.9741751549655885,
          0.9705460416155165,
          0.9670830046024945,
          0.963732552030527,
          0.9604382182383013,
          0.9571772199483399,
          0.9539806092107846,
          0.9508677570615699,
          0.9478097496441562,
          0.9448073841037884,
          0.9418864285505837,
          0.9390494136919147,
          0.9362661688546821,
          0.9335266113069316,
          0.9308367439125769,
          0.9281984125040453,
          0.9242901001276684,
          0.9162077349123244,
          0.9110738242243202,
          0.9074470439138557,
          0.9043556201974641,
          0.9017029174874981,
          0.8992661970287041,
          0.8969151912209244,
          0.8946447903791322,
          0.8924421772424139,
          0.8903114681203896,
          0.8882300553874811,
          0.886183707957148,
          0.8841997762511743,
          0.8822658995862972,
          0.8803830194650171,
          0.8785495128952473,
          0.8767453667379564,
          0.8749714848913825,
          0.8732323847756552,
          0.871536152016154,
          0.8698696163304106,
          0.8682287307068344,
          0.8666033384757182,
          0.8650038936163579,
          0.8634360131499916,
          0.8618856448219867,
          0.8603499815693225,
          0.8588234250098121,
          0.8573155596538254,
          0.8558282996066475,
          0.8543562974958265,
          0.852902085310786,
          0.8514668080971154,
          0.8500651185156581,
          0.8486865996044693,
          0.8473338236218473,
          0.8460102450741928,
          0.8447002484771816,
          0.8434044124858938,
          0.8421272153234106,
          0.8408664441812711,
          0.8396168927089092,
          0.8383772225293673,
          0.8371549006963287,
          0.8359423815157897,
          0.8347496296701469,
          0.833576309980117,
          0.8324184122407727,
          0.8312755312059662,
          0.8301436779975111,
          0.8290228739711692,
          0.827913008638654,
          0.8268178446770078,
          0.8257331817068345,
          0.8246637268987229,
          0.8236162730668224,
          0.819834653597236,
          0.8169403711060425,
          0.814762829214498,
          0.8129749122050782,
          0.8114834214471203,
          0.8101918579826058,
          0.80900637706436,
          0.8078699809514133,
          0.8067850366754539,
          0.8057346394677831,
          0.8047091310657659,
          0.8037087166595206,
          0.8027296114368915,
          0.8017714298016184,
          0.8008247781175197,
          0.7998899045505669,
          0.7989851681633117,
          0.7980928791446216,
          0.7972173316558575,
          0.7963525327645951,
          0.7954970388101392,
          0.7946533646355795,
          0.7938239869295468,
          0.7929995965945145,
          0.7909522100026662,
          0.7894374197417554,
          0.7882715702631978,
          0.7873049312827652,
          0.7864768890673751,
          0.7857480971573301,
          0.7850591625966143,
          0.7843802826418265,
          0.7837102562375754,
          0.7830506646154239,
          0.7823911260003906,
          0.7817394410931549,
          0.7810955598238714,
          0.7804553328797245,
          0.7798197989930522,
          0.7791958119083323,
          0.7785902413192828,
          0.778001093007832,
          0.7767319128107159,
          0.7740865598751321,
          0.7725680818219666,
          0.7714168016472198,
          0.7704899327060468,
          0.7696789970665063,
          0.7689371911935247,
          0.7682623521581643,
          0.7676197663638317,
          0.7670100553945017,
          0.7664261895246394,
          0.7658534269038284,
          0.7652924221188159,
          0.7647418477119697,
          0.7642019325957233,
          0.7636683240464986,
          0.7631399736303341,
          0.7626176822637765,
          0.7620998634583095,
          0.7615868602216924,
          0.7610776321134488,
          0.7605706387361101,
          0.7587461234923459,
          0.7574083009349469,
          0.7565088925132469,
          0.7558038512535842,
          0.7551873467396628,
          0.7546273220850072,
          0.7541332326751843,
          0.7536609003741973,
          0.7531874605403919,
          0.7527241187046994,
          0.7522586964261646,
          0.7517932058972235,
          0.7513254980506602,
          0.7508578080830759,
          0.7503966384100635,
          0.7499387790072201,
          0.7494845763129088,
          0.7490351514550428,
          0.7485938174900021,
          0.7481557149609648,
          0.747722401952146,
          0.7472902971205003,
          0.7468594448248489,
          0.7464319786072274,
          0.7460094667358426,
          0.7455894443668076,
          0.745171011947099,
          0.7447530422716246,
          0.7443375861744927,
          0.7439255580024885,
          0.7435141313157992,
          0.7431014676429354,
          0.7426869881401778,
          0.7404671928344932,
          0.7385806838736465,
          0.7373381331097134,
          0.736448243544976,
          0.7357598124158669,
          0.7351649081103466,
          0.733793082204571,
          0.7314988640695956,
          0.7304374009336229,
          0.7298266651244094,
          0.7293558346101303,
          0.728942656475664,
          0.7285665389664463,
          0.7282029685231342,
          0.7278439099314015,
          0.7274893382314298,
          0.7271379274898125,
          0.7267948611590773,
          0.7264526512440138,
          0.726111664242294,
          0.7257698498754808,
          0.7254277613464774,
          0.7250870139286427,
          0.7247480311300373,
          0.7244235156077804,
          0.7241035332046173,
          0.7237854472225114,
          0.7234654150718562,
          0.7231421654740463,
          0.7228133971338863,
          0.7211309121520181,
          0.7202175851508061,
          0.719740880393174,
          0.7193846467209012,
          0.7190659942373608,
          0.7187570710882865,
          0.7184504846081616,
          0.7181480239391875,
          0.7178534635243825,
          0.7175700235238591,
          0.7172914827926388,
          0.7170169772239673,
          0.7167455351579661,
          0.7164780404632176,
          0.7162147583153986,
          0.7159590666111249,
          0.7157095767856128,
          0.7154639475236799,
          0.7152231883700466,
          0.7149877629372592,
          0.7147613445026916,
          0.7145442216593312,
          0.7143323705463774,
          0.7138178668757997,
          0.7124958990833389,
          0.711691100879229,
          0.7111781581708574,
          0.7107702910945476,
          0.710421499409936,
          0.7101054155400343,
          0.7098216789660999,
          0.7095654558269331,
          0.7093405656992949,
          0.709130003435883,
          0.708922649960895,
          0.7087162491608643,
          0.7085114608611383,
          0.7083062095233212,
          0.7080999222560533,
          0.7078927544993004,
          0.7076864722516905,
          0.707480873646894,
          0.7072756997771945,
          0.7070719130822773,
          0.7068679820395697,
          0.7066645686316392,
          0.7064614594275281,
          0.7062609756574575,
          0.7060616117933527,
          0.7058628253014011,
          0.7056692080918098,
          0.7052075551205859,
          0.7045853550598732,
          0.7044246731204968,
          0.7043018147994236,
          0.7041961637095882,
          0.7040862741687013,
          0.7039611832019629,
          0.7038272322293601,
          0.7036897005506533,
          0.7028390425223033,
          0.702463022897405,
          0.7022206899521896,
          0.7020438706212342,
          0.7019035101856856,
          0.7017542962433144,
          0.7013370287589793,
          0.701177428829051,
          0.7011236187758144,
          0.7010807759704588,
          0.7009973660502454,
          0.7008784940988906,
          0.7007331690729715,
          0.7005749878363862,
          0.700407101851357,
          0.7002344980972431,
          0.7000591189119156,
          0.6985785762249317,
          0.6977198529854737,
          0.6971680566358249,
          0.6968462497614218,
          0.6966194448805721,
          0.6964249382445675,
          0.6962488630807938,
          0.696082613203072,
          0.6959200124905548,
          0.6957614345964547,
          0.6956053827299132,
          0.6954514698113974,
          0.6952983056858979,
          0.6951456310274565,
          0.6949935579877914,
          0.6948413795828685,
          0.6946732016889439,
          0.6944780139708464,
          0.6944466813151461,
          0.6941816101862741,
          0.6934088120694343,
          0.6930589492634058,
          0.6929058154305361,
          0.6928150391358494,
          0.692596669754759,
          0.6921551686378015,
          0.6919414834826848,
          0.691812829228693,
          0.6917445711228254,
          0.6916706643970613,
          0.6915872404329942,
          0.6914910436259755,
          0.6913223403324263,
          0.6910541381892267,
          0.6908910651250713,
          0.6907451623743236,
          0.6906228755594968,
          0.6905141374899335,
          0.6904043958905149,
          0.6903161929879325,
          0.6906838566306278,
          0.691060342176189,
          0.6913142650203389,
          0.6914767886105255,
          0.6916067135524024,
          0.6911714889590299,
          0.6905849750050311,
          0.6898138004941254,
          0.6894495844076779,
          0.6892606192173849,
          0.6891068822625199,
          0.6889656366094825,
          0.6888255660271759,
          0.6886885763980992,
          0.688406111578604,
          0.6883519151608166,
          0.6883512277680452,
          0.6883014224404295,
          0.6882048681927315,
          0.6880972920406611,
          0.68805700687282,
          0.688252610789926,
          0.6883882839673559,
          0.6884695133190147,
          0.6885904608598221,
          0.6886545980593941,
          0.6886996685489774,
          0.6887239090680174,
          0.6887335822988813,
          0.6886718322461624,
          0.688291922193919,
          0.6880610767027392,
          0.6877625321763053,
          0.6873229037728578,
          0.6867201422678888,
          0.6863299205217674,
          0.6861210599420874,
          0.6859896278524719,
          0.6859044738318718,
          0.6858351234390117,
          0.6853933751320801,
          0.6850994925072741,
          0.6850597065507301,
          0.6851187614517817,
          0.6851749190453925,
          0.6845885156206407,
          0.6842794423401056,
          0.6840436493822183,
          0.6839954213679238,
          0.6840107603392005,
          0.6840417938238724,
          0.6837994733119813,
          0.683591792255994,
          0.6834310446821039,
          0.683303989558171,
          0.6827304796503584,
          0.6819741957550515,
          0.6813629882315089,
          0.681039186260786,
          0.6808802448242915,
          0.6807883975330784,
          0.6808520080695184,
          0.6808706758966401,
          0.6809079663562202,
          0.6809720683000088,
          0.6808990535559387,
          0.6807322294227643,
          0.680606152746678,
          0.680366084589722,
          0.6799694844089522,
          0.6798088613445751,
          0.6797379133228642,
          0.6797496524827789,
          0.6798454107267694,
          0.6799509562171202,
          0.6800455058020379,
          0.6801150811524777,
          0.6801256576682815,
          0.680163045180841,
          0.6802270113377448,
          0.6803533382830814,
          0.680460964436707,
          0.6804798776696803,
          0.6799036674441944,
          0.6796333630553351,
          0.6795418638072201,
          0.679667116151621,
          0.6799240688311156,
          0.6800997555280933,
          0.6802627569198962,
          0.6803275357022927,
          0.6804081195786678,
          0.6804534740739313,
          0.680580263960107,
          0.6807057261586273,
          0.6807731808287787,
          0.6804814854917248,
          0.680295555961037,
          0.6805024437133896,
          0.680747405420615,
          0.6809301909387726,
          0.6808008498259672,
          0.6808290157234743,
          0.6809841750901493,
          0.6811713630602226,
          0.6817825726137914,
          0.682444390175242,
          0.6830741826821998,
          0.6836129461933356,
          0.6838225104119532,
          0.6836892364736304,
          0.6835090855272898
         ],
         "yaxis": "y"
        }
       ],
       "layout": {
        "font": {
         "family": "Courier New, monospace",
         "size": 18
        },
        "hoverlabel": {
         "font": {
          "family": "Rockwell",
          "size": 12
         }
        },
        "legend": {
         "title": {
          "text": "variable"
         },
         "tracegroupgap": 0
        },
        "margin": {
         "t": 60
        },
        "template": {
         "data": {
          "bar": [
           {
            "error_x": {
             "color": "#2a3f5f"
            },
            "error_y": {
             "color": "#2a3f5f"
            },
            "marker": {
             "line": {
              "color": "#E5ECF6",
              "width": 0.5
             }
            },
            "type": "bar"
           }
          ],
          "barpolar": [
           {
            "marker": {
             "line": {
              "color": "#E5ECF6",
              "width": 0.5
             }
            },
            "type": "barpolar"
           }
          ],
          "carpet": [
           {
            "aaxis": {
             "endlinecolor": "#2a3f5f",
             "gridcolor": "white",
             "linecolor": "white",
             "minorgridcolor": "white",
             "startlinecolor": "#2a3f5f"
            },
            "baxis": {
             "endlinecolor": "#2a3f5f",
             "gridcolor": "white",
             "linecolor": "white",
             "minorgridcolor": "white",
             "startlinecolor": "#2a3f5f"
            },
            "type": "carpet"
           }
          ],
          "choropleth": [
           {
            "colorbar": {
             "outlinewidth": 0,
             "ticks": ""
            },
            "type": "choropleth"
           }
          ],
          "contour": [
           {
            "colorbar": {
             "outlinewidth": 0,
             "ticks": ""
            },
            "colorscale": [
             [
              0,
              "#0d0887"
             ],
             [
              0.1111111111111111,
              "#46039f"
             ],
             [
              0.2222222222222222,
              "#7201a8"
             ],
             [
              0.3333333333333333,
              "#9c179e"
             ],
             [
              0.4444444444444444,
              "#bd3786"
             ],
             [
              0.5555555555555556,
              "#d8576b"
             ],
             [
              0.6666666666666666,
              "#ed7953"
             ],
             [
              0.7777777777777778,
              "#fb9f3a"
             ],
             [
              0.8888888888888888,
              "#fdca26"
             ],
             [
              1,
              "#f0f921"
             ]
            ],
            "type": "contour"
           }
          ],
          "contourcarpet": [
           {
            "colorbar": {
             "outlinewidth": 0,
             "ticks": ""
            },
            "type": "contourcarpet"
           }
          ],
          "heatmap": [
           {
            "colorbar": {
             "outlinewidth": 0,
             "ticks": ""
            },
            "colorscale": [
             [
              0,
              "#0d0887"
             ],
             [
              0.1111111111111111,
              "#46039f"
             ],
             [
              0.2222222222222222,
              "#7201a8"
             ],
             [
              0.3333333333333333,
              "#9c179e"
             ],
             [
              0.4444444444444444,
              "#bd3786"
             ],
             [
              0.5555555555555556,
              "#d8576b"
             ],
             [
              0.6666666666666666,
              "#ed7953"
             ],
             [
              0.7777777777777778,
              "#fb9f3a"
             ],
             [
              0.8888888888888888,
              "#fdca26"
             ],
             [
              1,
              "#f0f921"
             ]
            ],
            "type": "heatmap"
           }
          ],
          "heatmapgl": [
           {
            "colorbar": {
             "outlinewidth": 0,
             "ticks": ""
            },
            "colorscale": [
             [
              0,
              "#0d0887"
             ],
             [
              0.1111111111111111,
              "#46039f"
             ],
             [
              0.2222222222222222,
              "#7201a8"
             ],
             [
              0.3333333333333333,
              "#9c179e"
             ],
             [
              0.4444444444444444,
              "#bd3786"
             ],
             [
              0.5555555555555556,
              "#d8576b"
             ],
             [
              0.6666666666666666,
              "#ed7953"
             ],
             [
              0.7777777777777778,
              "#fb9f3a"
             ],
             [
              0.8888888888888888,
              "#fdca26"
             ],
             [
              1,
              "#f0f921"
             ]
            ],
            "type": "heatmapgl"
           }
          ],
          "histogram": [
           {
            "marker": {
             "colorbar": {
              "outlinewidth": 0,
              "ticks": ""
             }
            },
            "type": "histogram"
           }
          ],
          "histogram2d": [
           {
            "colorbar": {
             "outlinewidth": 0,
             "ticks": ""
            },
            "colorscale": [
             [
              0,
              "#0d0887"
             ],
             [
              0.1111111111111111,
              "#46039f"
             ],
             [
              0.2222222222222222,
              "#7201a8"
             ],
             [
              0.3333333333333333,
              "#9c179e"
             ],
             [
              0.4444444444444444,
              "#bd3786"
             ],
             [
              0.5555555555555556,
              "#d8576b"
             ],
             [
              0.6666666666666666,
              "#ed7953"
             ],
             [
              0.7777777777777778,
              "#fb9f3a"
             ],
             [
              0.8888888888888888,
              "#fdca26"
             ],
             [
              1,
              "#f0f921"
             ]
            ],
            "type": "histogram2d"
           }
          ],
          "histogram2dcontour": [
           {
            "colorbar": {
             "outlinewidth": 0,
             "ticks": ""
            },
            "colorscale": [
             [
              0,
              "#0d0887"
             ],
             [
              0.1111111111111111,
              "#46039f"
             ],
             [
              0.2222222222222222,
              "#7201a8"
             ],
             [
              0.3333333333333333,
              "#9c179e"
             ],
             [
              0.4444444444444444,
              "#bd3786"
             ],
             [
              0.5555555555555556,
              "#d8576b"
             ],
             [
              0.6666666666666666,
              "#ed7953"
             ],
             [
              0.7777777777777778,
              "#fb9f3a"
             ],
             [
              0.8888888888888888,
              "#fdca26"
             ],
             [
              1,
              "#f0f921"
             ]
            ],
            "type": "histogram2dcontour"
           }
          ],
          "mesh3d": [
           {
            "colorbar": {
             "outlinewidth": 0,
             "ticks": ""
            },
            "type": "mesh3d"
           }
          ],
          "parcoords": [
           {
            "line": {
             "colorbar": {
              "outlinewidth": 0,
              "ticks": ""
             }
            },
            "type": "parcoords"
           }
          ],
          "pie": [
           {
            "automargin": true,
            "type": "pie"
           }
          ],
          "scatter": [
           {
            "marker": {
             "colorbar": {
              "outlinewidth": 0,
              "ticks": ""
             }
            },
            "type": "scatter"
           }
          ],
          "scatter3d": [
           {
            "line": {
             "colorbar": {
              "outlinewidth": 0,
              "ticks": ""
             }
            },
            "marker": {
             "colorbar": {
              "outlinewidth": 0,
              "ticks": ""
             }
            },
            "type": "scatter3d"
           }
          ],
          "scattercarpet": [
           {
            "marker": {
             "colorbar": {
              "outlinewidth": 0,
              "ticks": ""
             }
            },
            "type": "scattercarpet"
           }
          ],
          "scattergeo": [
           {
            "marker": {
             "colorbar": {
              "outlinewidth": 0,
              "ticks": ""
             }
            },
            "type": "scattergeo"
           }
          ],
          "scattergl": [
           {
            "marker": {
             "colorbar": {
              "outlinewidth": 0,
              "ticks": ""
             }
            },
            "type": "scattergl"
           }
          ],
          "scattermapbox": [
           {
            "marker": {
             "colorbar": {
              "outlinewidth": 0,
              "ticks": ""
             }
            },
            "type": "scattermapbox"
           }
          ],
          "scatterpolar": [
           {
            "marker": {
             "colorbar": {
              "outlinewidth": 0,
              "ticks": ""
             }
            },
            "type": "scatterpolar"
           }
          ],
          "scatterpolargl": [
           {
            "marker": {
             "colorbar": {
              "outlinewidth": 0,
              "ticks": ""
             }
            },
            "type": "scatterpolargl"
           }
          ],
          "scatterternary": [
           {
            "marker": {
             "colorbar": {
              "outlinewidth": 0,
              "ticks": ""
             }
            },
            "type": "scatterternary"
           }
          ],
          "surface": [
           {
            "colorbar": {
             "outlinewidth": 0,
             "ticks": ""
            },
            "colorscale": [
             [
              0,
              "#0d0887"
             ],
             [
              0.1111111111111111,
              "#46039f"
             ],
             [
              0.2222222222222222,
              "#7201a8"
             ],
             [
              0.3333333333333333,
              "#9c179e"
             ],
             [
              0.4444444444444444,
              "#bd3786"
             ],
             [
              0.5555555555555556,
              "#d8576b"
             ],
             [
              0.6666666666666666,
              "#ed7953"
             ],
             [
              0.7777777777777778,
              "#fb9f3a"
             ],
             [
              0.8888888888888888,
              "#fdca26"
             ],
             [
              1,
              "#f0f921"
             ]
            ],
            "type": "surface"
           }
          ],
          "table": [
           {
            "cells": {
             "fill": {
              "color": "#EBF0F8"
             },
             "line": {
              "color": "white"
             }
            },
            "header": {
             "fill": {
              "color": "#C8D4E3"
             },
             "line": {
              "color": "white"
             }
            },
            "type": "table"
           }
          ]
         },
         "layout": {
          "annotationdefaults": {
           "arrowcolor": "#2a3f5f",
           "arrowhead": 0,
           "arrowwidth": 1
          },
          "autotypenumbers": "strict",
          "coloraxis": {
           "colorbar": {
            "outlinewidth": 0,
            "ticks": ""
           }
          },
          "colorscale": {
           "diverging": [
            [
             0,
             "#8e0152"
            ],
            [
             0.1,
             "#c51b7d"
            ],
            [
             0.2,
             "#de77ae"
            ],
            [
             0.3,
             "#f1b6da"
            ],
            [
             0.4,
             "#fde0ef"
            ],
            [
             0.5,
             "#f7f7f7"
            ],
            [
             0.6,
             "#e6f5d0"
            ],
            [
             0.7,
             "#b8e186"
            ],
            [
             0.8,
             "#7fbc41"
            ],
            [
             0.9,
             "#4d9221"
            ],
            [
             1,
             "#276419"
            ]
           ],
           "sequential": [
            [
             0,
             "#0d0887"
            ],
            [
             0.1111111111111111,
             "#46039f"
            ],
            [
             0.2222222222222222,
             "#7201a8"
            ],
            [
             0.3333333333333333,
             "#9c179e"
            ],
            [
             0.4444444444444444,
             "#bd3786"
            ],
            [
             0.5555555555555556,
             "#d8576b"
            ],
            [
             0.6666666666666666,
             "#ed7953"
            ],
            [
             0.7777777777777778,
             "#fb9f3a"
            ],
            [
             0.8888888888888888,
             "#fdca26"
            ],
            [
             1,
             "#f0f921"
            ]
           ],
           "sequentialminus": [
            [
             0,
             "#0d0887"
            ],
            [
             0.1111111111111111,
             "#46039f"
            ],
            [
             0.2222222222222222,
             "#7201a8"
            ],
            [
             0.3333333333333333,
             "#9c179e"
            ],
            [
             0.4444444444444444,
             "#bd3786"
            ],
            [
             0.5555555555555556,
             "#d8576b"
            ],
            [
             0.6666666666666666,
             "#ed7953"
            ],
            [
             0.7777777777777778,
             "#fb9f3a"
            ],
            [
             0.8888888888888888,
             "#fdca26"
            ],
            [
             1,
             "#f0f921"
            ]
           ]
          },
          "colorway": [
           "#636efa",
           "#EF553B",
           "#00cc96",
           "#ab63fa",
           "#FFA15A",
           "#19d3f3",
           "#FF6692",
           "#B6E880",
           "#FF97FF",
           "#FECB52"
          ],
          "font": {
           "color": "#2a3f5f"
          },
          "geo": {
           "bgcolor": "white",
           "lakecolor": "white",
           "landcolor": "#E5ECF6",
           "showlakes": true,
           "showland": true,
           "subunitcolor": "white"
          },
          "hoverlabel": {
           "align": "left"
          },
          "hovermode": "closest",
          "mapbox": {
           "style": "light"
          },
          "paper_bgcolor": "white",
          "plot_bgcolor": "#E5ECF6",
          "polar": {
           "angularaxis": {
            "gridcolor": "white",
            "linecolor": "white",
            "ticks": ""
           },
           "bgcolor": "#E5ECF6",
           "radialaxis": {
            "gridcolor": "white",
            "linecolor": "white",
            "ticks": ""
           }
          },
          "scene": {
           "xaxis": {
            "backgroundcolor": "#E5ECF6",
            "gridcolor": "white",
            "gridwidth": 2,
            "linecolor": "white",
            "showbackground": true,
            "ticks": "",
            "zerolinecolor": "white"
           },
           "yaxis": {
            "backgroundcolor": "#E5ECF6",
            "gridcolor": "white",
            "gridwidth": 2,
            "linecolor": "white",
            "showbackground": true,
            "ticks": "",
            "zerolinecolor": "white"
           },
           "zaxis": {
            "backgroundcolor": "#E5ECF6",
            "gridcolor": "white",
            "gridwidth": 2,
            "linecolor": "white",
            "showbackground": true,
            "ticks": "",
            "zerolinecolor": "white"
           }
          },
          "shapedefaults": {
           "line": {
            "color": "#2a3f5f"
           }
          },
          "ternary": {
           "aaxis": {
            "gridcolor": "white",
            "linecolor": "white",
            "ticks": ""
           },
           "baxis": {
            "gridcolor": "white",
            "linecolor": "white",
            "ticks": ""
           },
           "bgcolor": "#E5ECF6",
           "caxis": {
            "gridcolor": "white",
            "linecolor": "white",
            "ticks": ""
           }
          },
          "title": {
           "x": 0.05
          },
          "xaxis": {
           "automargin": true,
           "gridcolor": "white",
           "linecolor": "white",
           "ticks": "",
           "title": {
            "standoff": 15
           },
           "zerolinecolor": "white",
           "zerolinewidth": 2
          },
          "yaxis": {
           "automargin": true,
           "gridcolor": "white",
           "linecolor": "white",
           "ticks": "",
           "title": {
            "standoff": 15
           },
           "zerolinecolor": "white",
           "zerolinewidth": 2
          }
         }
        },
        "xaxis": {
         "anchor": "y",
         "domain": [
          0,
          1
         ],
         "showspikes": true,
         "title": {
          "text": "Epoch"
         }
        },
        "yaxis": {
         "anchor": "x",
         "domain": [
          0,
          1
         ],
         "title": {
          "text": "value"
         }
        }
       }
      },
      "text/html": [
       "<div>                            <div id=\"c6a93183-b7fa-4d2f-8c02-88b578c3ec73\" class=\"plotly-graph-div\" style=\"height:525px; width:100%;\"></div>            <script type=\"text/javascript\">                require([\"plotly\"], function(Plotly) {                    window.PLOTLYENV=window.PLOTLYENV || {};                                    if (document.getElementById(\"c6a93183-b7fa-4d2f-8c02-88b578c3ec73\")) {                    Plotly.newPlot(                        \"c6a93183-b7fa-4d2f-8c02-88b578c3ec73\",                        [{\"hovertemplate\": \"variable=test_Loss<br>Epoch=%{x}<br>value=%{y}<extra></extra>\", \"legendgroup\": \"test_Loss\", \"line\": {\"color\": \"#636efa\", \"dash\": \"solid\"}, \"mode\": \"lines\", \"name\": \"test_Loss\", \"showlegend\": true, \"type\": \"scattergl\", \"x\": [0, 1, 2, 3, 4, 5, 6, 7, 8, 9, 10, 11, 12, 13, 14, 15, 16, 17, 18, 19, 20, 21, 22, 23, 24, 25, 26, 27, 28, 29, 30, 31, 32, 33, 34, 35, 36, 37, 38, 39, 40, 41, 42, 43, 44, 45, 46, 47, 48, 49, 50, 51, 52, 53, 54, 55, 56, 57, 58, 59, 60, 61, 62, 63, 64, 65, 66, 67, 68, 69, 70, 71, 72, 73, 74, 75, 76, 77, 78, 79, 80, 81, 82, 83, 84, 85, 86, 87, 88, 89, 90, 91, 92, 93, 94, 95, 96, 97, 98, 99, 100, 101, 102, 103, 104, 105, 106, 107, 108, 109, 110, 111, 112, 113, 114, 115, 116, 117, 118, 119, 120, 121, 122, 123, 124, 125, 126, 127, 128, 129, 130, 131, 132, 133, 134, 135, 136, 137, 138, 139, 140, 141, 142, 143, 144, 145, 146, 147, 148, 149, 150, 151, 152, 153, 154, 155, 156, 157, 158, 159, 160, 161, 162, 163, 164, 165, 166, 167, 168, 169, 170, 171, 172, 173, 174, 175, 176, 177, 178, 179, 180, 181, 182, 183, 184, 185, 186, 187, 188, 189, 190, 191, 192, 193, 194, 195, 196, 197, 198, 199, 200, 201, 202, 203, 204, 205, 206, 207, 208, 209, 210, 211, 212, 213, 214, 215, 216, 217, 218, 219, 220, 221, 222, 223, 224, 225, 226, 227, 228, 229, 230, 231, 232, 233, 234, 235, 236, 237, 238, 239, 240, 241, 242, 243, 244, 245, 246, 247, 248, 249, 250, 251, 252, 253, 254, 255, 256, 257, 258, 259, 260, 261, 262, 263, 264, 265, 266, 267, 268, 269, 270, 271, 272, 273, 274, 275, 276, 277, 278, 279, 280, 281, 282, 283, 284, 285, 286, 287, 288, 289, 290, 291, 292, 293, 294, 295, 296, 297, 298, 299, 300, 301, 302, 303, 304, 305, 306, 307, 308, 309, 310, 311, 312, 313, 314, 315, 316, 317, 318, 319, 320, 321, 322, 323, 324, 325, 326, 327, 328, 329, 330, 331, 332, 333, 334, 335, 336, 337, 338, 339, 340, 341, 342, 343, 344, 345, 346, 347, 348, 349, 350, 351, 352, 353, 354, 355, 356, 357, 358, 359, 360, 361, 362, 363, 364, 365, 366, 367, 368, 369, 370, 371, 372, 373, 374, 375, 376, 377, 378, 379, 380, 381, 382, 383, 384, 385, 386, 387, 388, 389, 390, 391, 392, 393, 394, 395, 396, 397, 398, 399, 400, 401, 402, 403, 404, 405, 406, 407, 408, 409, 410, 411, 412, 413, 414, 415, 416, 417, 418, 419, 420, 421, 422, 423, 424, 425, 426, 427, 428, 429, 430, 431, 432, 433, 434, 435, 436, 437, 438, 439, 440, 441, 442, 443, 444, 445, 446, 447, 448, 449, 450, 451, 452, 453, 454, 455, 456, 457, 458, 459, 460, 461, 462, 463, 464, 465, 466, 467, 468, 469, 470, 471, 472, 473, 474, 475, 476, 477, 478, 479, 480, 481, 482, 483, 484, 485, 486, 487, 488, 489, 490, 491, 492, 493, 494, 495, 496, 497, 498, 499], \"xaxis\": \"x\", \"y\": [7.895594965646932, 7.895594965646932, 7.895594965646932, 7.895594965646932, 7.895594965646932, 7.895594965646932, 7.895594965646932, 6.406120079246149, 5.3647624542910926, 4.896736734628275, 4.624041831673884, 4.428705969293692, 4.271342850860932, 4.134176318391812, 4.009916445064571, 3.8945090436396343, 3.7868790642084655, 3.6859630045858185, 3.591122471851383, 3.501521895178918, 3.4174786354081053, 3.3383666413441455, 3.263407244451508, 3.1913922231199447, 3.122766924625184, 3.0575431838641562, 2.9956652913609236, 2.936711835195369, 2.8803542594485663, 2.826575926947959, 2.774916281165455, 2.7254539525688113, 2.6780720718859237, 2.632699338123277, 2.5893755674514027, 2.5478252639026646, 2.5078807373087435, 2.4694418800232594, 2.4322609606542276, 2.3963711091942628, 2.361636866455203, 2.3282249257910532, 2.2961322847107795, 2.26503193576373, 2.234949635755714, 2.205877228036881, 2.1777321178546174, 2.1504798014017017, 2.1241059508200117, 2.059079739115396, 1.9785361331521454, 1.9376338386791572, 1.910125194915904, 1.8873665806815842, 1.8665328819410119, 1.8468579894782535, 1.8281352172094296, 1.8102122940774283, 1.792817590627091, 1.775961438341, 1.7596630146151107, 1.743906953146452, 1.7286404733636496, 1.7138059025079198, 1.6994248474724256, 1.6854183848855206, 1.671748659939289, 1.6584398444589576, 1.6454890402169244, 1.63289697607816, 1.620607829204147, 1.6086044389414247, 1.5969226701696488, 1.5855277340038674, 1.5743887871189342, 1.5634482244148373, 1.5527445413890022, 1.5422698273172106, 1.5320334213315236, 1.5220475788565284, 1.5123019607549812, 1.5027707477696004, 1.4934525062725146, 1.4843349275629856, 1.475430928822926, 1.4667348632547774, 1.4582266937376118, 1.4470838195443778, 1.4271135771195615, 1.4121327040494893, 1.4000705373136593, 1.389868833431405, 1.380807874858299, 1.3725001098766314, 1.3647518761860755, 1.3573995105496852, 1.3503357765539525, 1.3435181522560613, 1.336921866976452, 1.3305146261059462, 1.324275711111323, 1.3181778789855503, 1.3122237882689043, 1.3063969734703198, 1.300686216427979, 1.295063866747318, 1.2895543987640459, 1.2841484268392103, 1.2788455712278162, 1.273620361013717, 1.2684921303773082, 1.263462180342867, 1.2585219803170873, 1.2536599051490525, 1.2488361398414214, 1.2440615779937056, 1.2393700994862986, 1.2347512485962633, 1.2302110597663196, 1.2257498803133682, 1.2213556957907858, 1.2170085408777256, 1.2127317219621776, 1.2084999263980765, 1.2043369418872494, 1.2002324785234346, 1.1961946836500381, 1.1922164981384709, 1.1882889245080304, 1.1844234432574259, 1.1806159585290712, 1.1768640418804297, 1.1731633031586886, 1.1695193793801522, 1.1659319423891623, 1.1623838883597652, 1.1588852811923374, 1.1554374499804272, 1.1520400394020391, 1.148690643844251, 1.1453907991240173, 1.1421393839315814, 1.1389352876261118, 1.1357774039567627, 1.125858673443777, 1.1181104651309182, 1.112263556813429, 1.1075295127568263, 1.103466151666135, 1.0998004553174068, 1.0963887090377233, 1.0931588314644893, 1.090063060215649, 1.0870700456735958, 1.0841598149242144, 1.0813268275837264, 1.078562168686273, 1.0758590225042295, 1.0732098522544224, 1.0706122096910196, 1.0680632755473278, 1.0655593841552031, 1.0630982051343023, 1.060678626414643, 1.0582993001673315, 1.0559591297317439, 1.0536525121572768, 1.0513717636928877, 1.045492067740295, 1.0407566158971617, 1.037136143139492, 1.0341153319389873, 1.031408852642113, 1.0289442202859034, 1.026635403919845, 1.024430036562605, 1.022296326040555, 1.0202194224618695, 1.0181755274184139, 1.016172541356686, 1.0142067753754946, 1.0122762656932975, 1.0103803175990438, 1.0085194156256723, 1.0066954730942423, 1.0049072912691128, 1.0012758401033772, 0.9938373274940563, 0.9897064356170145, 0.9869103755472594, 0.984655966914435, 0.9826643246688341, 0.9808084135971491, 0.9790336525116531, 0.9773031548974833, 0.975618708324504, 0.9739716291744877, 0.97235625480644, 0.9707696781760491, 0.9692094157423263, 0.9676740247062753, 0.9661618444598998, 0.9646713772474094, 0.9632013660100529, 0.9617507314037043, 0.9603185164639239, 0.958903826440412, 0.9575057381930843, 0.9538400210156233, 0.9512358148624058, 0.9495167454210779, 0.9481614041617158, 0.9469249291918289, 0.9456940005226603, 0.9444633096873899, 0.9432147230458874, 0.9419622656232006, 0.940705954240949, 0.9394382347511291, 0.9381742977807193, 0.9369172046246749, 0.9356691098425209, 0.9344314346494539, 0.9332050443260299, 0.9319903998742464, 0.9307876771107065, 0.9295968612037592, 0.9284152024892628, 0.9272437985394135, 0.9260834683546072, 0.9249280892057558, 0.9237823933298951, 0.9226450230610959, 0.9215167005446266, 0.9203960558076273, 0.9192845108078873, 0.9181815689896466, 0.9170866734053307, 0.9159875197802623, 0.914891717997116, 0.9137984953212884, 0.908655751053695, 0.9039834460182564, 0.90076443996446, 0.8983916722274602, 0.896486844203437, 0.8948555301488872, 0.8922051266000292, 0.8885275470157791, 0.886385716928661, 0.8848822233121824, 0.8836236962433751, 0.8824895222209205, 0.88141960618021, 0.8803869470896372, 0.8793757366691967, 0.8783832921500618, 0.8774061545739321, 0.8764414403278233, 0.8754886873501464, 0.874547088616822, 0.8736160730809698, 0.8726936420297067, 0.8717805046742938, 0.8708752618525297, 0.869979031100425, 0.8690915735320174, 0.8682125794087675, 0.8673417622257897, 0.8664779927446602, 0.8656213196151313, 0.862539908269672, 0.860796761504003, 0.859704597050778, 0.8588421998250693, 0.8580537163278992, 0.8572910794869193, 0.8565380973199697, 0.8557897624114956, 0.8550455348212718, 0.8543061651958395, 0.8535726055193678, 0.8528456793871666, 0.8521244817344749, 0.8514087622870228, 0.8507012203483754, 0.8500022006592654, 0.8493120585892663, 0.8486312125907037, 0.8479602047223769, 0.8472997826527977, 0.8466510264628822, 0.8460155696524881, 0.8453960470497964, 0.8442473465218785, 0.84173702215008, 0.8401590065767055, 0.8390273842768993, 0.8381303217085376, 0.8373596317454863, 0.8366439124840024, 0.83597127766179, 0.8353236999869227, 0.8346927600719715, 0.8340731557574429, 0.8334619118158076, 0.8328573450749546, 0.8322584875199238, 0.8316647789850982, 0.8310759242649399, 0.8304917599557367, 0.8299111983291079, 0.8293339970738133, 0.8287613518738901, 0.8281931208393071, 0.827628814643966, 0.8270689344319136, 0.8265133691236927, 0.8259619303129099, 0.8254142883175409, 0.824869832298907, 0.8243273179281652, 0.8229476227028641, 0.8210456727071185, 0.8202882000273753, 0.8198293767582613, 0.8194309694157266, 0.8190310260569675, 0.8186183238020676, 0.8181959499059014, 0.8177603663126157, 0.8162620189242846, 0.8157367481249584, 0.815476259136466, 0.8152525774110881, 0.8149920848049568, 0.8146831433224627, 0.8139567414481994, 0.8132797082873805, 0.8129796700755824, 0.8127170013752566, 0.812409635380599, 0.8120498243765213, 0.8116514965004277, 0.8112298385744844, 0.810796750322468, 0.8103571611379029, 0.8099218397708768, 0.8075030095768718, 0.8062179207462996, 0.8054629702316832, 0.8049332208766351, 0.8044776638796346, 0.804048072227379, 0.803629638946666, 0.8032179066616718, 0.8028116753797574, 0.8024106890679377, 0.8020150085525516, 0.8016248867718868, 0.8012407984723222, 0.800863561408592, 0.8004945994927606, 0.8001359148821253, 0.7997442044360326, 0.7986097360124433, 0.7981823571364377, 0.7975900572799438, 0.7963662240598984, 0.7958594846875476, 0.7955610124947848, 0.7953141280009912, 0.7946810085562184, 0.7927870919652121, 0.79190132349701, 0.7913586181485712, 0.7909308651905463, 0.7905353202570744, 0.790139818534359, 0.7897297137142759, 0.7889959063287469, 0.7877157722149879, 0.7869523041433543, 0.7863552399714087, 0.7859029375061722, 0.7855078024052567, 0.7851316783906366, 0.7847593138579709, 0.7848435038999587, 0.7851298480978095, 0.7853401381442976, 0.7854738302336602, 0.7855666656016016, 0.7842015565101415, 0.7826300177289368, 0.7811828251421533, 0.780490160760139, 0.7800861855230331, 0.7797742512613391, 0.7794886063402635, 0.7792079328629882, 0.7789257128928759, 0.7782732704153213, 0.7775172325253108, 0.7771570999803016, 0.7766081435437187, 0.7760718691269424, 0.775642306590487, 0.7753587277411532, 0.7754932384204919, 0.7756718702853643, 0.7756222701523009, 0.7757402328064412, 0.7758371351316766, 0.7758779780201448, 0.7758717744943661, 0.7758415311684005, 0.7756078249645585, 0.7743998334959029, 0.7739403336477344, 0.7734982932851672, 0.7729078975318238, 0.7719633794263454, 0.7713160185463472, 0.771036981025662, 0.7708758176781739, 0.7707501329147322, 0.7706469642249436, 0.7693807264115715, 0.7685081625364998, 0.7683527354518066, 0.7683332163993346, 0.7683582499328191, 0.76776787992382, 0.7676752587126533, 0.7675978411911866, 0.7677848066934524, 0.7683043753410477, 0.7686677940632126, 0.7683050163819642, 0.7677830524640818, 0.7675946992999645, 0.7674662064929861, 0.7662130073490973, 0.7645671005233311, 0.7638657712136319, 0.7637523721880852, 0.7637093909160829, 0.7635706261453938, 0.7634107089404679, 0.763484885224538, 0.7638802294920354, 0.7650545262104135, 0.765443727759993, 0.7653282514125294, 0.7653938639417636, 0.7656984369022298, 0.7650578208188983, 0.7648839089606779, 0.7648335961664827, 0.7639354056319787, 0.7633453017063472, 0.7630537994439083, 0.7629003051445149, 0.7628245787631475, 0.7626254645124775, 0.7625948586137598, 0.7624439960793884, 0.7625254166951722, 0.7628865949595475, 0.7630891186095278, 0.7623101287752143, 0.761916728399173, 0.761971931056382, 0.7622816035290738, 0.7628049057025128, 0.7633695126526644, 0.7638917018863677, 0.7645727305873709, 0.7652988876229283, 0.7654021092897608, 0.7657112143247381, 0.7660108115397436, 0.7661780560981196, 0.7657766351447626, 0.7657151547747281, 0.765898873399934, 0.7661480198507247, 0.7663328311619223, 0.7656512044220503, 0.7654441374941932, 0.765473152829529, 0.7658994996099494, 0.7670713470206683, 0.7677764309789895, 0.7686430298333656, 0.7697396680633424, 0.7705342637435854, 0.7712031941029227, 0.7720228039702389], \"yaxis\": \"y\"}, {\"hovertemplate\": \"variable=test_RMSE<br>Epoch=%{x}<br>value=%{y}<extra></extra>\", \"legendgroup\": \"test_RMSE\", \"line\": {\"color\": \"#EF553B\", \"dash\": \"solid\"}, \"mode\": \"lines\", \"name\": \"test_RMSE\", \"showlegend\": true, \"type\": \"scattergl\", \"x\": [0, 1, 2, 3, 4, 5, 6, 7, 8, 9, 10, 11, 12, 13, 14, 15, 16, 17, 18, 19, 20, 21, 22, 23, 24, 25, 26, 27, 28, 29, 30, 31, 32, 33, 34, 35, 36, 37, 38, 39, 40, 41, 42, 43, 44, 45, 46, 47, 48, 49, 50, 51, 52, 53, 54, 55, 56, 57, 58, 59, 60, 61, 62, 63, 64, 65, 66, 67, 68, 69, 70, 71, 72, 73, 74, 75, 76, 77, 78, 79, 80, 81, 82, 83, 84, 85, 86, 87, 88, 89, 90, 91, 92, 93, 94, 95, 96, 97, 98, 99, 100, 101, 102, 103, 104, 105, 106, 107, 108, 109, 110, 111, 112, 113, 114, 115, 116, 117, 118, 119, 120, 121, 122, 123, 124, 125, 126, 127, 128, 129, 130, 131, 132, 133, 134, 135, 136, 137, 138, 139, 140, 141, 142, 143, 144, 145, 146, 147, 148, 149, 150, 151, 152, 153, 154, 155, 156, 157, 158, 159, 160, 161, 162, 163, 164, 165, 166, 167, 168, 169, 170, 171, 172, 173, 174, 175, 176, 177, 178, 179, 180, 181, 182, 183, 184, 185, 186, 187, 188, 189, 190, 191, 192, 193, 194, 195, 196, 197, 198, 199, 200, 201, 202, 203, 204, 205, 206, 207, 208, 209, 210, 211, 212, 213, 214, 215, 216, 217, 218, 219, 220, 221, 222, 223, 224, 225, 226, 227, 228, 229, 230, 231, 232, 233, 234, 235, 236, 237, 238, 239, 240, 241, 242, 243, 244, 245, 246, 247, 248, 249, 250, 251, 252, 253, 254, 255, 256, 257, 258, 259, 260, 261, 262, 263, 264, 265, 266, 267, 268, 269, 270, 271, 272, 273, 274, 275, 276, 277, 278, 279, 280, 281, 282, 283, 284, 285, 286, 287, 288, 289, 290, 291, 292, 293, 294, 295, 296, 297, 298, 299, 300, 301, 302, 303, 304, 305, 306, 307, 308, 309, 310, 311, 312, 313, 314, 315, 316, 317, 318, 319, 320, 321, 322, 323, 324, 325, 326, 327, 328, 329, 330, 331, 332, 333, 334, 335, 336, 337, 338, 339, 340, 341, 342, 343, 344, 345, 346, 347, 348, 349, 350, 351, 352, 353, 354, 355, 356, 357, 358, 359, 360, 361, 362, 363, 364, 365, 366, 367, 368, 369, 370, 371, 372, 373, 374, 375, 376, 377, 378, 379, 380, 381, 382, 383, 384, 385, 386, 387, 388, 389, 390, 391, 392, 393, 394, 395, 396, 397, 398, 399, 400, 401, 402, 403, 404, 405, 406, 407, 408, 409, 410, 411, 412, 413, 414, 415, 416, 417, 418, 419, 420, 421, 422, 423, 424, 425, 426, 427, 428, 429, 430, 431, 432, 433, 434, 435, 436, 437, 438, 439, 440, 441, 442, 443, 444, 445, 446, 447, 448, 449, 450, 451, 452, 453, 454, 455, 456, 457, 458, 459, 460, 461, 462, 463, 464, 465, 466, 467, 468, 469, 470, 471, 472, 473, 474, 475, 476, 477, 478, 479, 480, 481, 482, 483, 484, 485, 486, 487, 488, 489, 490, 491, 492, 493, 494, 495, 496, 497, 498, 499], \"xaxis\": \"x\", \"y\": [2.809910134799142, 2.809910134799142, 2.809910134799142, 2.809910134799142, 2.809910134799142, 2.809910134799142, 2.809910134799142, 2.531031425969687, 2.316195685664554, 2.21285714284232, 2.150358535610721, 2.104449089261532, 2.0667227319746915, 2.033267399628443, 2.0024775766696044, 1.9734510492129351, 1.9459905097940395, 1.9198861957381272, 1.895025717992076, 1.8712353927763652, 1.848642376288098, 1.8271197665572296, 1.8064903111977955, 1.78644681508293, 1.7671352309954051, 1.7485831932922598, 1.7307990326323053, 1.7136837033698398, 1.6971606463292055, 1.6812423760267163, 1.6658079964886274, 1.6508948944644573, 1.6364816136718199, 1.6225595021826709, 1.609153680495248, 1.5961908607377329, 1.5836289771624992, 1.5714457929000476, 1.5595707616694496, 1.5480216759445788, 1.5367618118808142, 1.5258521965744432, 1.5152994043128174, 1.505002304238678, 1.4949747943546454, 1.4852195891641347, 1.475714104376121, 1.4664514316545576, 1.4574312851109008, 1.4349493855587367, 1.4066044693346262, 1.3919891661500663, 1.3820727892972584, 1.3738146092837942, 1.3662111410543438, 1.358991533998006, 1.3520855066191004, 1.345441300866533, 1.3389613850395727, 1.3326520319802164, 1.3265229039165176, 1.3205706922185014, 1.3147777277409476, 1.3091240974437526, 1.3036199014561052, 1.2982366444086844, 1.2929611981568856, 1.2878042725736538, 1.2827661673964295, 1.2778485732191276, 1.2730309616046842, 1.2683077067263389, 1.2636940571869637, 1.2591774037060335, 1.2547465031307854, 1.2503792322390985, 1.2460917066528459, 1.2418815673473902, 1.2377533766189142, 1.2337129240048224, 1.2297568705866138, 1.225875502557091, 1.222068944975084, 1.2183328476089716, 1.2146731777819604, 1.211088297051366, 1.2075705750545647, 1.2029479704228183, 1.1946185906470574, 1.1883318997862042, 1.1832457636998577, 1.1789269839270815, 1.1750778165118678, 1.1715374982802007, 1.1682259525391805, 1.1650748948242278, 1.162039490100897, 1.1591023044822495, 1.1562533749038106, 1.1534793566015589, 1.150771789327199, 1.1481192790758068, 1.1455233687135782, 1.142977241011526, 1.1404763112086016, 1.138008728765873, 1.1355854872109126, 1.133202729805753, 1.13086054455349, 1.1285478992996782, 1.1262735592995639, 1.1240383357977017, 1.1218386605555575, 1.1196695517647395, 1.1175133734508154, 1.115375083993589, 1.1132700029580869, 1.1111936143608203, 1.1091487996505787, 1.1071358906265156, 1.105149625974142, 1.103181100671021, 1.1012409917734527, 1.0993179369036405, 1.097422863752733, 1.0955512213143823, 1.0937068545318889, 1.091886669090923, 1.0900866591734946, 1.0883121993515583, 1.0865615300244489, 1.0848336471000657, 1.083126633020668, 1.0814431928585764, 1.0797832849183961, 1.0781390858139617, 1.0765153418285953, 1.0749127638931577, 1.0733312812929843, 1.0717698651502807, 1.070229320811207, 1.0687092139265861, 1.0672091114800848, 1.0657285789340374, 1.0610648771134483, 1.057407426269987, 1.0546390647104955, 1.0523922808329726, 1.0504599714725618, 1.0487137146606822, 1.0470858174179054, 1.0455423623481208, 1.0440608508203193, 1.0426265130302392, 1.0412299529518994, 1.0398686588140478, 1.0385384772295503, 1.037236242378866, 1.035958422068387, 1.034703923685911, 1.0334714681825172, 1.0322593589574294, 1.031066537685276, 1.0298925314879428, 1.0287367496922288, 1.0275987201878678, 1.026475772805806, 1.0253642102652538, 1.022493064886161, 1.0201747967368935, 1.018398813402437, 1.0169146138880036, 1.0155830112019957, 1.0143688778180764, 1.013230183087656, 1.012141312546131, 1.0110867055008463, 1.0100591183004435, 1.0090468410427802, 1.0080538385208828, 1.0070783362656028, 1.0061194092617922, 1.005176759380679, 1.0042506736993868, 1.0033421515586007, 1.0024506428094666, 1.0006377167103873, 0.9969139017458108, 0.9948399045158043, 0.9934336291606296, 0.9922983255626481, 0.9912942674447554, 0.9903577200169387, 0.9894612940947478, 0.9885864428048178, 0.9877341283586915, 0.9869000097145038, 0.9860812617662096, 0.9852764475902431, 0.9844843400188377, 0.9837042363974424, 0.9829353205882367, 0.9821768563998081, 0.9814282276407444, 0.9806889065364736, 0.9799584258854678, 0.9792363486106977, 0.9785222216143507, 0.9766473370749665, 0.9753131880900646, 0.974431498578057, 0.9737357979255542, 0.9731006778292927, 0.9724679946006759, 0.9718350218465014, 0.9711924232848439, 0.9705474051395947, 0.9698999712552574, 0.9692462198797214, 0.968593979839189, 0.9679448355276632, 0.9672999068761048, 0.9666599374389392, 0.9660253849283826, 0.9653964987890967, 0.9647733812200182, 0.964156035714012, 0.9635430465159628, 0.9629349918553243, 0.9623323066148238, 0.961731817715186, 0.9611359910698876, 0.9605441286380839, 0.9599566138865999, 0.9593727408091327, 0.9587932575940902, 0.9582179131020494, 0.9576464240027897, 0.957072369144707, 0.9564997219012225, 0.9559280806218051, 0.9532343631309642, 0.9507804404899464, 0.9490861077712918, 0.9478352558474812, 0.9468298919042623, 0.9459680386508241, 0.9445661049392092, 0.9426173916365956, 0.9414805982752172, 0.9406817864252408, 0.9400126043002696, 0.9394091346271445, 0.9388394996910867, 0.9382893727894595, 0.9377503594609797, 0.9372210476456778, 0.9366996074376951, 0.9361845119034086, 0.9356755246078345, 0.9351722240404823, 0.9346743139088448, 0.9341807330649176, 0.9336918681633111, 0.9332069769630581, 0.9327266647311124, 0.9322508104217542, 0.9317792546567923, 0.9313118501478383, 0.9308479965841148, 0.9303877254215747, 0.9287302666919346, 0.9277913351093569, 0.9272025652740494, 0.9267373952879366, 0.9263118893374408, 0.9259001455269997, 0.9254934345093808, 0.9250890564759133, 0.9246867225289178, 0.9242868414057616, 0.9238899314958291, 0.9234964425416953, 0.9231058886901734, 0.9227181380503056, 0.9223346574581134, 0.921955639203571, 0.9215812815966188, 0.9212118174397806, 0.9208475469492097, 0.9204888824167284, 0.9201364173115213, 0.9197910467342505, 0.9194542115025611, 0.9188293348178858, 0.9174622728756098, 0.9166018800857357, 0.9159843799306292, 0.9154945776510846, 0.9150735663024511, 0.9146824107218868, 0.9143146491562902, 0.9139604477147371, 0.9136152144486055, 0.9132760567087276, 0.9129413517941926, 0.9126101824300201, 0.9122820219208114, 0.9119565663917872, 0.9116336568298364, 0.9113132062884509, 0.9109946203623311, 0.9106777679694467, 0.9103633076271748, 0.9100511638580037, 0.9097410701094932, 0.9094333040041549, 0.9091278068146924, 0.9088244771752738, 0.9085231358185332, 0.9082234484414653, 0.9079247314222502, 0.907164606178429, 0.9061157060260673, 0.905697631678131, 0.905444297987602, 0.9052242647077721, 0.9050033293071178, 0.9047752891199381, 0.9045418453039645, 0.9043010374386484, 0.9034722015227058, 0.9031814591348509, 0.9030372412788223, 0.9029133831166133, 0.902769120431662, 0.9025979965203018, 0.902195511764606, 0.9018202194935421, 0.9016538526926963, 0.901508181535396, 0.9013376922000982, 0.9011380717606605, 0.9009170308637903, 0.9006829845036957, 0.9004425302719036, 0.9001984009860843, 0.8999565766029364, 0.8986117123523774, 0.8978963864201145, 0.8974758883845756, 0.8971807069239927, 0.8969267884725233, 0.8966872767176854, 0.8964539246088814, 0.8962242502084352, 0.8959975867042039, 0.8957737934701694, 0.8955529066183369, 0.8953350695532298, 0.895120549687204, 0.8949098062981499, 0.8947036378001156, 0.8945031665020116, 0.8942841855003546, 0.8936496718582978, 0.8934105199383079, 0.8930789759477847, 0.8923935365408573, 0.8921095698890062, 0.8919422697096404, 0.8918038618446273, 0.8914488255397605, 0.8903859230497819, 0.8898883769872545, 0.8895833958368216, 0.8893429401476949, 0.8891205319061496, 0.8888980923223758, 0.8886673808091956, 0.8882544153162127, 0.8875335330087466, 0.8871033221352258, 0.8867667336855892, 0.886511668003401, 0.8862887804802997, 0.8860765646323328, 0.8858664198726414, 0.8859139370728731, 0.8860755318243527, 0.8861941876046681, 0.8862696148653977, 0.8863219875426772, 0.8855515549702013, 0.8846637879606788, 0.8838454758282996, 0.8834535419364954, 0.8832248782292271, 0.8830482723279284, 0.8828865195144071, 0.8827275530213091, 0.8825676817632039, 0.8821979768823557, 0.8817693760418939, 0.8815651422216634, 0.8812537339176036, 0.8809494134891869, 0.8807055731573902, 0.8805445631773291, 0.880620939122215, 0.8807223570940869, 0.88069419786456, 0.8807611667225351, 0.8808161755620049, 0.880839359940361, 0.8808358385615143, 0.8808186709921632, 0.8806859968028097, 0.8799999053953943, 0.8797387871679493, 0.8794875174129347, 0.8791518057376801, 0.8786144657506758, 0.8782459897695789, 0.8780871147133763, 0.8779953403510601, 0.8779237625868958, 0.8778650034173499, 0.8771435038872325, 0.8766459733190473, 0.876557320117633, 0.8765461861187547, 0.8765604656455932, 0.8762236472064766, 0.8761707931177878, 0.876126612534505, 0.8762333060854582, 0.8765297344306396, 0.8767370153376739, 0.8765301001003698, 0.8762323050790137, 0.8761248194749219, 0.8760514862112764, 0.8753359397106332, 0.874395277047704, 0.8739941482719618, 0.8739292718453165, 0.8739046806809556, 0.8738252835352122, 0.8737337746364552, 0.8737762214803845, 0.87400241961452, 0.8746739542311829, 0.8748964097308852, 0.8748304129444342, 0.8748679122826277, 0.8750419629379095, 0.8746758375643506, 0.8745764168788671, 0.8745476523131731, 0.8740339842546048, 0.8736963441072345, 0.8735295069108474, 0.8734416438117173, 0.8733982933136218, 0.8732842976445171, 0.8732667740236999, 0.873180391488144, 0.8732270132646907, 0.8734337954072693, 0.8735497230321396, 0.8731037331126321, 0.8728784155878601, 0.8729100360612094, 0.8730873974173913, 0.8733870308760675, 0.8737101994669997, 0.8740089827263606, 0.8743984964461975, 0.8748136302224196, 0.8748726246087261, 0.8750492639416012, 0.8752204359701296, 0.8753159750045235, 0.8750866443642953, 0.8750515154976466, 0.8751564850927713, 0.8752988174621994, 0.8754043815071537, 0.8750149738273342, 0.8748966438924046, 0.8749132258855897, 0.875156842863009, 0.8758260940510212, 0.8762285266863831, 0.8767228922717631, 0.8773480883112144, 0.8778008109722759, 0.8781817545946412, 0.8786482822894716], \"yaxis\": \"y\"}, {\"hovertemplate\": \"variable=test_MAE<br>Epoch=%{x}<br>value=%{y}<extra></extra>\", \"legendgroup\": \"test_MAE\", \"line\": {\"color\": \"#00cc96\", \"dash\": \"solid\"}, \"mode\": \"lines\", \"name\": \"test_MAE\", \"showlegend\": true, \"type\": \"scattergl\", \"x\": [0, 1, 2, 3, 4, 5, 6, 7, 8, 9, 10, 11, 12, 13, 14, 15, 16, 17, 18, 19, 20, 21, 22, 23, 24, 25, 26, 27, 28, 29, 30, 31, 32, 33, 34, 35, 36, 37, 38, 39, 40, 41, 42, 43, 44, 45, 46, 47, 48, 49, 50, 51, 52, 53, 54, 55, 56, 57, 58, 59, 60, 61, 62, 63, 64, 65, 66, 67, 68, 69, 70, 71, 72, 73, 74, 75, 76, 77, 78, 79, 80, 81, 82, 83, 84, 85, 86, 87, 88, 89, 90, 91, 92, 93, 94, 95, 96, 97, 98, 99, 100, 101, 102, 103, 104, 105, 106, 107, 108, 109, 110, 111, 112, 113, 114, 115, 116, 117, 118, 119, 120, 121, 122, 123, 124, 125, 126, 127, 128, 129, 130, 131, 132, 133, 134, 135, 136, 137, 138, 139, 140, 141, 142, 143, 144, 145, 146, 147, 148, 149, 150, 151, 152, 153, 154, 155, 156, 157, 158, 159, 160, 161, 162, 163, 164, 165, 166, 167, 168, 169, 170, 171, 172, 173, 174, 175, 176, 177, 178, 179, 180, 181, 182, 183, 184, 185, 186, 187, 188, 189, 190, 191, 192, 193, 194, 195, 196, 197, 198, 199, 200, 201, 202, 203, 204, 205, 206, 207, 208, 209, 210, 211, 212, 213, 214, 215, 216, 217, 218, 219, 220, 221, 222, 223, 224, 225, 226, 227, 228, 229, 230, 231, 232, 233, 234, 235, 236, 237, 238, 239, 240, 241, 242, 243, 244, 245, 246, 247, 248, 249, 250, 251, 252, 253, 254, 255, 256, 257, 258, 259, 260, 261, 262, 263, 264, 265, 266, 267, 268, 269, 270, 271, 272, 273, 274, 275, 276, 277, 278, 279, 280, 281, 282, 283, 284, 285, 286, 287, 288, 289, 290, 291, 292, 293, 294, 295, 296, 297, 298, 299, 300, 301, 302, 303, 304, 305, 306, 307, 308, 309, 310, 311, 312, 313, 314, 315, 316, 317, 318, 319, 320, 321, 322, 323, 324, 325, 326, 327, 328, 329, 330, 331, 332, 333, 334, 335, 336, 337, 338, 339, 340, 341, 342, 343, 344, 345, 346, 347, 348, 349, 350, 351, 352, 353, 354, 355, 356, 357, 358, 359, 360, 361, 362, 363, 364, 365, 366, 367, 368, 369, 370, 371, 372, 373, 374, 375, 376, 377, 378, 379, 380, 381, 382, 383, 384, 385, 386, 387, 388, 389, 390, 391, 392, 393, 394, 395, 396, 397, 398, 399, 400, 401, 402, 403, 404, 405, 406, 407, 408, 409, 410, 411, 412, 413, 414, 415, 416, 417, 418, 419, 420, 421, 422, 423, 424, 425, 426, 427, 428, 429, 430, 431, 432, 433, 434, 435, 436, 437, 438, 439, 440, 441, 442, 443, 444, 445, 446, 447, 448, 449, 450, 451, 452, 453, 454, 455, 456, 457, 458, 459, 460, 461, 462, 463, 464, 465, 466, 467, 468, 469, 470, 471, 472, 473, 474, 475, 476, 477, 478, 479, 480, 481, 482, 483, 484, 485, 486, 487, 488, 489, 490, 491, 492, 493, 494, 495, 496, 497, 498, 499], \"xaxis\": \"x\", \"y\": [2.580359848893686, 2.580359848893686, 2.580359848893686, 2.580359848893686, 2.580359848893686, 2.580359848893686, 2.580359848893686, 2.2639916468481087, 2.009827807987157, 1.891212135992309, 1.8210959987158366, 1.7705451656969264, 1.7298036114405027, 1.6944821780245107, 1.6623734993764236, 1.6323708110010087, 1.6042506415849769, 1.5775669176917773, 1.5522285245305658, 1.5278381986282417, 1.5050497025461704, 1.483668176569318, 1.463494058152622, 1.4441297736804586, 1.4257229814044512, 1.4081041286619507, 1.391199658198553, 1.3749306677005242, 1.3593886915845927, 1.344588098907979, 1.3302826463843562, 1.3165735343026321, 1.303426528168872, 1.290779921020294, 1.2786155486766315, 1.2668053266549988, 1.255332779092162, 1.2442217574261227, 1.2334957800411626, 1.223103306625996, 1.2129756559789384, 1.203166557583393, 1.193702558221266, 1.184551741137754, 1.1757078738327709, 1.1670780790746091, 1.1586575061638915, 1.1505147256385897, 1.1425659602790377, 1.1204594876290062, 1.0933888403390035, 1.0782956807586013, 1.0684510874837776, 1.0607369305157435, 1.0539750271848651, 1.0477102176054929, 1.0418322182861335, 1.0363094366766654, 1.0310155537505739, 1.0258623303479832, 1.020865181881365, 1.0160233530718175, 1.0113316360194529, 1.0067962435979014, 1.0023901486493552, 0.9980696519711928, 0.9938295698325926, 0.9896759917218932, 0.9856335302891097, 0.9817113184544458, 0.9778825587529025, 0.9741751549655885, 0.9705460416155165, 0.9670830046024945, 0.963732552030527, 0.9604382182383013, 0.9571772199483399, 0.9539806092107846, 0.9508677570615699, 0.9478097496441562, 0.9448073841037884, 0.9418864285505837, 0.9390494136919147, 0.9362661688546821, 0.9335266113069316, 0.9308367439125769, 0.9281984125040453, 0.9242901001276684, 0.9162077349123244, 0.9110738242243202, 0.9074470439138557, 0.9043556201974641, 0.9017029174874981, 0.8992661970287041, 0.8969151912209244, 0.8946447903791322, 0.8924421772424139, 0.8903114681203896, 0.8882300553874811, 0.886183707957148, 0.8841997762511743, 0.8822658995862972, 0.8803830194650171, 0.8785495128952473, 0.8767453667379564, 0.8749714848913825, 0.8732323847756552, 0.871536152016154, 0.8698696163304106, 0.8682287307068344, 0.8666033384757182, 0.8650038936163579, 0.8634360131499916, 0.8618856448219867, 0.8603499815693225, 0.8588234250098121, 0.8573155596538254, 0.8558282996066475, 0.8543562974958265, 0.852902085310786, 0.8514668080971154, 0.8500651185156581, 0.8486865996044693, 0.8473338236218473, 0.8460102450741928, 0.8447002484771816, 0.8434044124858938, 0.8421272153234106, 0.8408664441812711, 0.8396168927089092, 0.8383772225293673, 0.8371549006963287, 0.8359423815157897, 0.8347496296701469, 0.833576309980117, 0.8324184122407727, 0.8312755312059662, 0.8301436779975111, 0.8290228739711692, 0.827913008638654, 0.8268178446770078, 0.8257331817068345, 0.8246637268987229, 0.8236162730668224, 0.819834653597236, 0.8169403711060425, 0.814762829214498, 0.8129749122050782, 0.8114834214471203, 0.8101918579826058, 0.80900637706436, 0.8078699809514133, 0.8067850366754539, 0.8057346394677831, 0.8047091310657659, 0.8037087166595206, 0.8027296114368915, 0.8017714298016184, 0.8008247781175197, 0.7998899045505669, 0.7989851681633117, 0.7980928791446216, 0.7972173316558575, 0.7963525327645951, 0.7954970388101392, 0.7946533646355795, 0.7938239869295468, 0.7929995965945145, 0.7909522100026662, 0.7894374197417554, 0.7882715702631978, 0.7873049312827652, 0.7864768890673751, 0.7857480971573301, 0.7850591625966143, 0.7843802826418265, 0.7837102562375754, 0.7830506646154239, 0.7823911260003906, 0.7817394410931549, 0.7810955598238714, 0.7804553328797245, 0.7798197989930522, 0.7791958119083323, 0.7785902413192828, 0.778001093007832, 0.7767319128107159, 0.7740865598751321, 0.7725680818219666, 0.7714168016472198, 0.7704899327060468, 0.7696789970665063, 0.7689371911935247, 0.7682623521581643, 0.7676197663638317, 0.7670100553945017, 0.7664261895246394, 0.7658534269038284, 0.7652924221188159, 0.7647418477119697, 0.7642019325957233, 0.7636683240464986, 0.7631399736303341, 0.7626176822637765, 0.7620998634583095, 0.7615868602216924, 0.7610776321134488, 0.7605706387361101, 0.7587461234923459, 0.7574083009349469, 0.7565088925132469, 0.7558038512535842, 0.7551873467396628, 0.7546273220850072, 0.7541332326751843, 0.7536609003741973, 0.7531874605403919, 0.7527241187046994, 0.7522586964261646, 0.7517932058972235, 0.7513254980506602, 0.7508578080830759, 0.7503966384100635, 0.7499387790072201, 0.7494845763129088, 0.7490351514550428, 0.7485938174900021, 0.7481557149609648, 0.747722401952146, 0.7472902971205003, 0.7468594448248489, 0.7464319786072274, 0.7460094667358426, 0.7455894443668076, 0.745171011947099, 0.7447530422716246, 0.7443375861744927, 0.7439255580024885, 0.7435141313157992, 0.7431014676429354, 0.7426869881401778, 0.7404671928344932, 0.7385806838736465, 0.7373381331097134, 0.736448243544976, 0.7357598124158669, 0.7351649081103466, 0.733793082204571, 0.7314988640695956, 0.7304374009336229, 0.7298266651244094, 0.7293558346101303, 0.728942656475664, 0.7285665389664463, 0.7282029685231342, 0.7278439099314015, 0.7274893382314298, 0.7271379274898125, 0.7267948611590773, 0.7264526512440138, 0.726111664242294, 0.7257698498754808, 0.7254277613464774, 0.7250870139286427, 0.7247480311300373, 0.7244235156077804, 0.7241035332046173, 0.7237854472225114, 0.7234654150718562, 0.7231421654740463, 0.7228133971338863, 0.7211309121520181, 0.7202175851508061, 0.719740880393174, 0.7193846467209012, 0.7190659942373608, 0.7187570710882865, 0.7184504846081616, 0.7181480239391875, 0.7178534635243825, 0.7175700235238591, 0.7172914827926388, 0.7170169772239673, 0.7167455351579661, 0.7164780404632176, 0.7162147583153986, 0.7159590666111249, 0.7157095767856128, 0.7154639475236799, 0.7152231883700466, 0.7149877629372592, 0.7147613445026916, 0.7145442216593312, 0.7143323705463774, 0.7138178668757997, 0.7124958990833389, 0.711691100879229, 0.7111781581708574, 0.7107702910945476, 0.710421499409936, 0.7101054155400343, 0.7098216789660999, 0.7095654558269331, 0.7093405656992949, 0.709130003435883, 0.708922649960895, 0.7087162491608643, 0.7085114608611383, 0.7083062095233212, 0.7080999222560533, 0.7078927544993004, 0.7076864722516905, 0.707480873646894, 0.7072756997771945, 0.7070719130822773, 0.7068679820395697, 0.7066645686316392, 0.7064614594275281, 0.7062609756574575, 0.7060616117933527, 0.7058628253014011, 0.7056692080918098, 0.7052075551205859, 0.7045853550598732, 0.7044246731204968, 0.7043018147994236, 0.7041961637095882, 0.7040862741687013, 0.7039611832019629, 0.7038272322293601, 0.7036897005506533, 0.7028390425223033, 0.702463022897405, 0.7022206899521896, 0.7020438706212342, 0.7019035101856856, 0.7017542962433144, 0.7013370287589793, 0.701177428829051, 0.7011236187758144, 0.7010807759704588, 0.7009973660502454, 0.7008784940988906, 0.7007331690729715, 0.7005749878363862, 0.700407101851357, 0.7002344980972431, 0.7000591189119156, 0.6985785762249317, 0.6977198529854737, 0.6971680566358249, 0.6968462497614218, 0.6966194448805721, 0.6964249382445675, 0.6962488630807938, 0.696082613203072, 0.6959200124905548, 0.6957614345964547, 0.6956053827299132, 0.6954514698113974, 0.6952983056858979, 0.6951456310274565, 0.6949935579877914, 0.6948413795828685, 0.6946732016889439, 0.6944780139708464, 0.6944466813151461, 0.6941816101862741, 0.6934088120694343, 0.6930589492634058, 0.6929058154305361, 0.6928150391358494, 0.692596669754759, 0.6921551686378015, 0.6919414834826848, 0.691812829228693, 0.6917445711228254, 0.6916706643970613, 0.6915872404329942, 0.6914910436259755, 0.6913223403324263, 0.6910541381892267, 0.6908910651250713, 0.6907451623743236, 0.6906228755594968, 0.6905141374899335, 0.6904043958905149, 0.6903161929879325, 0.6906838566306278, 0.691060342176189, 0.6913142650203389, 0.6914767886105255, 0.6916067135524024, 0.6911714889590299, 0.6905849750050311, 0.6898138004941254, 0.6894495844076779, 0.6892606192173849, 0.6891068822625199, 0.6889656366094825, 0.6888255660271759, 0.6886885763980992, 0.688406111578604, 0.6883519151608166, 0.6883512277680452, 0.6883014224404295, 0.6882048681927315, 0.6880972920406611, 0.68805700687282, 0.688252610789926, 0.6883882839673559, 0.6884695133190147, 0.6885904608598221, 0.6886545980593941, 0.6886996685489774, 0.6887239090680174, 0.6887335822988813, 0.6886718322461624, 0.688291922193919, 0.6880610767027392, 0.6877625321763053, 0.6873229037728578, 0.6867201422678888, 0.6863299205217674, 0.6861210599420874, 0.6859896278524719, 0.6859044738318718, 0.6858351234390117, 0.6853933751320801, 0.6850994925072741, 0.6850597065507301, 0.6851187614517817, 0.6851749190453925, 0.6845885156206407, 0.6842794423401056, 0.6840436493822183, 0.6839954213679238, 0.6840107603392005, 0.6840417938238724, 0.6837994733119813, 0.683591792255994, 0.6834310446821039, 0.683303989558171, 0.6827304796503584, 0.6819741957550515, 0.6813629882315089, 0.681039186260786, 0.6808802448242915, 0.6807883975330784, 0.6808520080695184, 0.6808706758966401, 0.6809079663562202, 0.6809720683000088, 0.6808990535559387, 0.6807322294227643, 0.680606152746678, 0.680366084589722, 0.6799694844089522, 0.6798088613445751, 0.6797379133228642, 0.6797496524827789, 0.6798454107267694, 0.6799509562171202, 0.6800455058020379, 0.6801150811524777, 0.6801256576682815, 0.680163045180841, 0.6802270113377448, 0.6803533382830814, 0.680460964436707, 0.6804798776696803, 0.6799036674441944, 0.6796333630553351, 0.6795418638072201, 0.679667116151621, 0.6799240688311156, 0.6800997555280933, 0.6802627569198962, 0.6803275357022927, 0.6804081195786678, 0.6804534740739313, 0.680580263960107, 0.6807057261586273, 0.6807731808287787, 0.6804814854917248, 0.680295555961037, 0.6805024437133896, 0.680747405420615, 0.6809301909387726, 0.6808008498259672, 0.6808290157234743, 0.6809841750901493, 0.6811713630602226, 0.6817825726137914, 0.682444390175242, 0.6830741826821998, 0.6836129461933356, 0.6838225104119532, 0.6836892364736304, 0.6835090855272898], \"yaxis\": \"y\"}],                        {\"font\": {\"family\": \"Courier New, monospace\", \"size\": 18}, \"hoverlabel\": {\"font\": {\"family\": \"Rockwell\", \"size\": 12}}, \"legend\": {\"title\": {\"text\": \"variable\"}, \"tracegroupgap\": 0}, \"margin\": {\"t\": 60}, \"template\": {\"data\": {\"bar\": [{\"error_x\": {\"color\": \"#2a3f5f\"}, \"error_y\": {\"color\": \"#2a3f5f\"}, \"marker\": {\"line\": {\"color\": \"#E5ECF6\", \"width\": 0.5}}, \"type\": \"bar\"}], \"barpolar\": [{\"marker\": {\"line\": {\"color\": \"#E5ECF6\", \"width\": 0.5}}, \"type\": \"barpolar\"}], \"carpet\": [{\"aaxis\": {\"endlinecolor\": \"#2a3f5f\", \"gridcolor\": \"white\", \"linecolor\": \"white\", \"minorgridcolor\": \"white\", \"startlinecolor\": \"#2a3f5f\"}, \"baxis\": {\"endlinecolor\": \"#2a3f5f\", \"gridcolor\": \"white\", \"linecolor\": \"white\", \"minorgridcolor\": \"white\", \"startlinecolor\": \"#2a3f5f\"}, \"type\": \"carpet\"}], \"choropleth\": [{\"colorbar\": {\"outlinewidth\": 0, \"ticks\": \"\"}, \"type\": \"choropleth\"}], \"contour\": [{\"colorbar\": {\"outlinewidth\": 0, \"ticks\": \"\"}, \"colorscale\": [[0.0, \"#0d0887\"], [0.1111111111111111, \"#46039f\"], [0.2222222222222222, \"#7201a8\"], [0.3333333333333333, \"#9c179e\"], [0.4444444444444444, \"#bd3786\"], [0.5555555555555556, \"#d8576b\"], [0.6666666666666666, \"#ed7953\"], [0.7777777777777778, \"#fb9f3a\"], [0.8888888888888888, \"#fdca26\"], [1.0, \"#f0f921\"]], \"type\": \"contour\"}], \"contourcarpet\": [{\"colorbar\": {\"outlinewidth\": 0, \"ticks\": \"\"}, \"type\": \"contourcarpet\"}], \"heatmap\": [{\"colorbar\": {\"outlinewidth\": 0, \"ticks\": \"\"}, \"colorscale\": [[0.0, \"#0d0887\"], [0.1111111111111111, \"#46039f\"], [0.2222222222222222, \"#7201a8\"], [0.3333333333333333, \"#9c179e\"], [0.4444444444444444, \"#bd3786\"], [0.5555555555555556, \"#d8576b\"], [0.6666666666666666, \"#ed7953\"], [0.7777777777777778, \"#fb9f3a\"], [0.8888888888888888, \"#fdca26\"], [1.0, \"#f0f921\"]], \"type\": \"heatmap\"}], \"heatmapgl\": [{\"colorbar\": {\"outlinewidth\": 0, \"ticks\": \"\"}, \"colorscale\": [[0.0, \"#0d0887\"], [0.1111111111111111, \"#46039f\"], [0.2222222222222222, \"#7201a8\"], [0.3333333333333333, \"#9c179e\"], [0.4444444444444444, \"#bd3786\"], [0.5555555555555556, \"#d8576b\"], [0.6666666666666666, \"#ed7953\"], [0.7777777777777778, \"#fb9f3a\"], [0.8888888888888888, \"#fdca26\"], [1.0, \"#f0f921\"]], \"type\": \"heatmapgl\"}], \"histogram\": [{\"marker\": {\"colorbar\": {\"outlinewidth\": 0, \"ticks\": \"\"}}, \"type\": \"histogram\"}], \"histogram2d\": [{\"colorbar\": {\"outlinewidth\": 0, \"ticks\": \"\"}, \"colorscale\": [[0.0, \"#0d0887\"], [0.1111111111111111, \"#46039f\"], [0.2222222222222222, \"#7201a8\"], [0.3333333333333333, \"#9c179e\"], [0.4444444444444444, \"#bd3786\"], [0.5555555555555556, \"#d8576b\"], [0.6666666666666666, \"#ed7953\"], [0.7777777777777778, \"#fb9f3a\"], [0.8888888888888888, \"#fdca26\"], [1.0, \"#f0f921\"]], \"type\": \"histogram2d\"}], \"histogram2dcontour\": [{\"colorbar\": {\"outlinewidth\": 0, \"ticks\": \"\"}, \"colorscale\": [[0.0, \"#0d0887\"], [0.1111111111111111, \"#46039f\"], [0.2222222222222222, \"#7201a8\"], [0.3333333333333333, \"#9c179e\"], [0.4444444444444444, \"#bd3786\"], [0.5555555555555556, \"#d8576b\"], [0.6666666666666666, \"#ed7953\"], [0.7777777777777778, \"#fb9f3a\"], [0.8888888888888888, \"#fdca26\"], [1.0, \"#f0f921\"]], \"type\": \"histogram2dcontour\"}], \"mesh3d\": [{\"colorbar\": {\"outlinewidth\": 0, \"ticks\": \"\"}, \"type\": \"mesh3d\"}], \"parcoords\": [{\"line\": {\"colorbar\": {\"outlinewidth\": 0, \"ticks\": \"\"}}, \"type\": \"parcoords\"}], \"pie\": [{\"automargin\": true, \"type\": \"pie\"}], \"scatter\": [{\"marker\": {\"colorbar\": {\"outlinewidth\": 0, \"ticks\": \"\"}}, \"type\": \"scatter\"}], \"scatter3d\": [{\"line\": {\"colorbar\": {\"outlinewidth\": 0, \"ticks\": \"\"}}, \"marker\": {\"colorbar\": {\"outlinewidth\": 0, \"ticks\": \"\"}}, \"type\": \"scatter3d\"}], \"scattercarpet\": [{\"marker\": {\"colorbar\": {\"outlinewidth\": 0, \"ticks\": \"\"}}, \"type\": \"scattercarpet\"}], \"scattergeo\": [{\"marker\": {\"colorbar\": {\"outlinewidth\": 0, \"ticks\": \"\"}}, \"type\": \"scattergeo\"}], \"scattergl\": [{\"marker\": {\"colorbar\": {\"outlinewidth\": 0, \"ticks\": \"\"}}, \"type\": \"scattergl\"}], \"scattermapbox\": [{\"marker\": {\"colorbar\": {\"outlinewidth\": 0, \"ticks\": \"\"}}, \"type\": \"scattermapbox\"}], \"scatterpolar\": [{\"marker\": {\"colorbar\": {\"outlinewidth\": 0, \"ticks\": \"\"}}, \"type\": \"scatterpolar\"}], \"scatterpolargl\": [{\"marker\": {\"colorbar\": {\"outlinewidth\": 0, \"ticks\": \"\"}}, \"type\": \"scatterpolargl\"}], \"scatterternary\": [{\"marker\": {\"colorbar\": {\"outlinewidth\": 0, \"ticks\": \"\"}}, \"type\": \"scatterternary\"}], \"surface\": [{\"colorbar\": {\"outlinewidth\": 0, \"ticks\": \"\"}, \"colorscale\": [[0.0, \"#0d0887\"], [0.1111111111111111, \"#46039f\"], [0.2222222222222222, \"#7201a8\"], [0.3333333333333333, \"#9c179e\"], [0.4444444444444444, \"#bd3786\"], [0.5555555555555556, \"#d8576b\"], [0.6666666666666666, \"#ed7953\"], [0.7777777777777778, \"#fb9f3a\"], [0.8888888888888888, \"#fdca26\"], [1.0, \"#f0f921\"]], \"type\": \"surface\"}], \"table\": [{\"cells\": {\"fill\": {\"color\": \"#EBF0F8\"}, \"line\": {\"color\": \"white\"}}, \"header\": {\"fill\": {\"color\": \"#C8D4E3\"}, \"line\": {\"color\": \"white\"}}, \"type\": \"table\"}]}, \"layout\": {\"annotationdefaults\": {\"arrowcolor\": \"#2a3f5f\", \"arrowhead\": 0, \"arrowwidth\": 1}, \"autotypenumbers\": \"strict\", \"coloraxis\": {\"colorbar\": {\"outlinewidth\": 0, \"ticks\": \"\"}}, \"colorscale\": {\"diverging\": [[0, \"#8e0152\"], [0.1, \"#c51b7d\"], [0.2, \"#de77ae\"], [0.3, \"#f1b6da\"], [0.4, \"#fde0ef\"], [0.5, \"#f7f7f7\"], [0.6, \"#e6f5d0\"], [0.7, \"#b8e186\"], [0.8, \"#7fbc41\"], [0.9, \"#4d9221\"], [1, \"#276419\"]], \"sequential\": [[0.0, \"#0d0887\"], [0.1111111111111111, \"#46039f\"], [0.2222222222222222, \"#7201a8\"], [0.3333333333333333, \"#9c179e\"], [0.4444444444444444, \"#bd3786\"], [0.5555555555555556, \"#d8576b\"], [0.6666666666666666, \"#ed7953\"], [0.7777777777777778, \"#fb9f3a\"], [0.8888888888888888, \"#fdca26\"], [1.0, \"#f0f921\"]], \"sequentialminus\": [[0.0, \"#0d0887\"], [0.1111111111111111, \"#46039f\"], [0.2222222222222222, \"#7201a8\"], [0.3333333333333333, \"#9c179e\"], [0.4444444444444444, \"#bd3786\"], [0.5555555555555556, \"#d8576b\"], [0.6666666666666666, \"#ed7953\"], [0.7777777777777778, \"#fb9f3a\"], [0.8888888888888888, \"#fdca26\"], [1.0, \"#f0f921\"]]}, \"colorway\": [\"#636efa\", \"#EF553B\", \"#00cc96\", \"#ab63fa\", \"#FFA15A\", \"#19d3f3\", \"#FF6692\", \"#B6E880\", \"#FF97FF\", \"#FECB52\"], \"font\": {\"color\": \"#2a3f5f\"}, \"geo\": {\"bgcolor\": \"white\", \"lakecolor\": \"white\", \"landcolor\": \"#E5ECF6\", \"showlakes\": true, \"showland\": true, \"subunitcolor\": \"white\"}, \"hoverlabel\": {\"align\": \"left\"}, \"hovermode\": \"closest\", \"mapbox\": {\"style\": \"light\"}, \"paper_bgcolor\": \"white\", \"plot_bgcolor\": \"#E5ECF6\", \"polar\": {\"angularaxis\": {\"gridcolor\": \"white\", \"linecolor\": \"white\", \"ticks\": \"\"}, \"bgcolor\": \"#E5ECF6\", \"radialaxis\": {\"gridcolor\": \"white\", \"linecolor\": \"white\", \"ticks\": \"\"}}, \"scene\": {\"xaxis\": {\"backgroundcolor\": \"#E5ECF6\", \"gridcolor\": \"white\", \"gridwidth\": 2, \"linecolor\": \"white\", \"showbackground\": true, \"ticks\": \"\", \"zerolinecolor\": \"white\"}, \"yaxis\": {\"backgroundcolor\": \"#E5ECF6\", \"gridcolor\": \"white\", \"gridwidth\": 2, \"linecolor\": \"white\", \"showbackground\": true, \"ticks\": \"\", \"zerolinecolor\": \"white\"}, \"zaxis\": {\"backgroundcolor\": \"#E5ECF6\", \"gridcolor\": \"white\", \"gridwidth\": 2, \"linecolor\": \"white\", \"showbackground\": true, \"ticks\": \"\", \"zerolinecolor\": \"white\"}}, \"shapedefaults\": {\"line\": {\"color\": \"#2a3f5f\"}}, \"ternary\": {\"aaxis\": {\"gridcolor\": \"white\", \"linecolor\": \"white\", \"ticks\": \"\"}, \"baxis\": {\"gridcolor\": \"white\", \"linecolor\": \"white\", \"ticks\": \"\"}, \"bgcolor\": \"#E5ECF6\", \"caxis\": {\"gridcolor\": \"white\", \"linecolor\": \"white\", \"ticks\": \"\"}}, \"title\": {\"x\": 0.05}, \"xaxis\": {\"automargin\": true, \"gridcolor\": \"white\", \"linecolor\": \"white\", \"ticks\": \"\", \"title\": {\"standoff\": 15}, \"zerolinecolor\": \"white\", \"zerolinewidth\": 2}, \"yaxis\": {\"automargin\": true, \"gridcolor\": \"white\", \"linecolor\": \"white\", \"ticks\": \"\", \"title\": {\"standoff\": 15}, \"zerolinecolor\": \"white\", \"zerolinewidth\": 2}}}, \"xaxis\": {\"anchor\": \"y\", \"domain\": [0.0, 1.0], \"showspikes\": true, \"title\": {\"text\": \"Epoch\"}}, \"yaxis\": {\"anchor\": \"x\", \"domain\": [0.0, 1.0], \"title\": {\"text\": \"value\"}}},                        {\"responsive\": true}                    ).then(function(){\n",
       "                            \n",
       "var gd = document.getElementById('c6a93183-b7fa-4d2f-8c02-88b578c3ec73');\n",
       "var x = new MutationObserver(function (mutations, observer) {{\n",
       "        var display = window.getComputedStyle(gd).display;\n",
       "        if (!display || display === 'none') {{\n",
       "            console.log([gd, 'removed!']);\n",
       "            Plotly.purge(gd);\n",
       "            observer.disconnect();\n",
       "        }}\n",
       "}});\n",
       "\n",
       "// Listen for the removal of the full notebook cells\n",
       "var notebookContainer = gd.closest('#notebook-container');\n",
       "if (notebookContainer) {{\n",
       "    x.observe(notebookContainer, {childList: true});\n",
       "}}\n",
       "\n",
       "// Listen for the clearing of the current output cell\n",
       "var outputEl = gd.closest('.output');\n",
       "if (outputEl) {{\n",
       "    x.observe(outputEl, {childList: true});\n",
       "}}\n",
       "\n",
       "                        })                };                });            </script>        </div>"
      ]
     },
     "metadata": {},
     "output_type": "display_data"
    },
    {
     "data": {
      "text/html": [
       "<style  type=\"text/css\" >\n",
       "#T_578a3_row0_col0,#T_578a3_row0_col1,#T_578a3_row0_col2,#T_578a3_row1_col0,#T_578a3_row1_col1{\n",
       "            background-color:  #9ab8d8;\n",
       "        }#T_578a3_row0_col3{\n",
       "            background-color:  #9fbad9;\n",
       "        }#T_578a3_row1_col2{\n",
       "            background-color:  #c4cbe3;\n",
       "        }#T_578a3_row1_col3{\n",
       "            background-color:  #a2bcda;\n",
       "        }#T_578a3_row2_col0{\n",
       "            background-color:  #9cb9d9;\n",
       "        }#T_578a3_row2_col1,#T_578a3_row2_col2{\n",
       "            background-color:  #fff7fb;\n",
       "        }#T_578a3_row2_col3{\n",
       "            background-color:  #b9c6e0;\n",
       "        }</style><table id=\"T_578a3_\" ><thead>    <tr>        <th class=\"index_name level0\" >deltas</th>        <th class=\"col_heading level0 col0\" >1</th>        <th class=\"col_heading level0 col1\" >2</th>        <th class=\"col_heading level0 col2\" >5</th>        <th class=\"col_heading level0 col3\" >7</th>    </tr>    <tr>        <th class=\"index_name level0\" >taus</th>        <th class=\"blank\" ></th>        <th class=\"blank\" ></th>        <th class=\"blank\" ></th>        <th class=\"blank\" ></th>    </tr></thead><tbody>\n",
       "                <tr>\n",
       "                        <th id=\"T_578a3_level0_row0\" class=\"row_heading level0 row0\" >15000</th>\n",
       "                        <td id=\"T_578a3_row0_col0\" class=\"data row0 col0\" >0.8754</td>\n",
       "                        <td id=\"T_578a3_row0_col1\" class=\"data row0 col1\" >0.8786</td>\n",
       "                        <td id=\"T_578a3_row0_col2\" class=\"data row0 col2\" >0.8783</td>\n",
       "                        <td id=\"T_578a3_row0_col3\" class=\"data row0 col3\" >0.8975</td>\n",
       "            </tr>\n",
       "            <tr>\n",
       "                        <th id=\"T_578a3_level0_row1\" class=\"row_heading level0 row1\" >20000</th>\n",
       "                        <td id=\"T_578a3_row1_col0\" class=\"data row1 col0\" >0.8786</td>\n",
       "                        <td id=\"T_578a3_row1_col1\" class=\"data row1 col1\" >0.8784</td>\n",
       "                        <td id=\"T_578a3_row1_col2\" class=\"data row1 col2\" >1.1078</td>\n",
       "                        <td id=\"T_578a3_row1_col3\" class=\"data row1 col3\" >0.9146</td>\n",
       "            </tr>\n",
       "            <tr>\n",
       "                        <th id=\"T_578a3_level0_row2\" class=\"row_heading level0 row2\" >25000</th>\n",
       "                        <td id=\"T_578a3_row2_col0\" class=\"data row2 col0\" >0.8830</td>\n",
       "                        <td id=\"T_578a3_row2_col1\" class=\"data row2 col1\" >2.4036</td>\n",
       "                        <td id=\"T_578a3_row2_col2\" class=\"data row2 col2\" >2.3189</td>\n",
       "                        <td id=\"T_578a3_row2_col3\" class=\"data row2 col3\" >1.0511</td>\n",
       "            </tr>\n",
       "    </tbody></table>"
      ],
      "text/plain": [
       "<pandas.io.formats.style.Styler at 0x230083b8888>"
      ]
     },
     "execution_count": 14,
     "metadata": {},
     "output_type": "execute_result"
    }
   ],
   "source": [
    "with open('results.json') as f:\n",
    "    hists = json.load(f)\n",
    "\n",
    "best = min(hists, key= lambda x: min(x.get('hist',{}).get('test_RMSE', [float('inf')])))\n",
    "svt_best_tau = best['tau']\n",
    "svt_best_delta = best['delta']\n",
    "svt_best_n_epochs = np.argmin(best['hist']['test_RMSE'])\n",
    "best_hist = best['hist']\n",
    "plot_experiment(best_hist)\n",
    "\n",
    "plot_color_map(hists, 'delta', 'tau')"
   ]
  },
  {
   "cell_type": "markdown",
   "metadata": {},
   "source": [
    "## Funk-SVD Grid Search"
   ]
  },
  {
   "cell_type": "code",
   "execution_count": 20,
   "metadata": {},
   "outputs": [
    {
     "name": "stderr",
     "output_type": "stream",
     "text": [
      "\r",
      "Grid Search Progress:   0%|                                                                                                                                                                                                                                                                                                                     | 0/45 [00:00<?, ?it/s]"
     ]
    },
    {
     "name": "stdout",
     "output_type": "stream",
     "text": [
      "lr: 0.005    reg: 0.02    n_epochs: 20    n_factors: 10\n"
     ]
    },
    {
     "name": "stderr",
     "output_type": "stream",
     "text": [
      "Epoch: 100%|████████████████| 20/20 [06:04<00:00, 18.24s/it, test_Loss=0.756, test_RMSE=0.869, test_MAE=0.682]\n",
      "Grid Search Progress:   2%|██████▌                                                                                                                                                                                                                                                                                                   | 1/45 [06:04<4:27:39, 364.99s/it]"
     ]
    },
    {
     "name": "stdout",
     "output_type": "stream",
     "text": [
      "lr: 0.005    reg: 0.02    n_epochs: 20    n_factors: 15\n"
     ]
    },
    {
     "name": "stderr",
     "output_type": "stream",
     "text": [
      "Epoch: 100%|████████████████| 20/20 [06:08<00:00, 18.41s/it, test_Loss=0.727, test_RMSE=0.853, test_MAE=0.667]\n",
      "Grid Search Progress:   4%|█████████████▏                                                                                                                                                                                                                                                                                            | 2/45 [12:13<4:23:01, 367.01s/it]"
     ]
    },
    {
     "name": "stdout",
     "output_type": "stream",
     "text": [
      "lr: 0.005    reg: 0.02    n_epochs: 20    n_factors: 20\n"
     ]
    },
    {
     "name": "stderr",
     "output_type": "stream",
     "text": [
      "Epoch: 100%|████████████████| 20/20 [06:16<00:00, 18.80s/it, test_Loss=0.740, test_RMSE=0.860, test_MAE=0.674]\n",
      "Grid Search Progress:   7%|███████████████████▊                                                                                                                                                                                                                                                                                      | 3/45 [18:29<4:19:52, 371.26s/it]"
     ]
    },
    {
     "name": "stdout",
     "output_type": "stream",
     "text": [
      "lr: 0.005    reg: 0.03    n_epochs: 20    n_factors: 10\n"
     ]
    },
    {
     "name": "stderr",
     "output_type": "stream",
     "text": [
      "Epoch: 100%|████████████████| 20/20 [06:06<00:00, 18.31s/it, test_Loss=0.759, test_RMSE=0.871, test_MAE=0.685]\n",
      "Grid Search Progress:   9%|██████████████████████████▍                                                                                                                                                                                                                                                                               | 4/45 [24:36<4:12:23, 369.35s/it]"
     ]
    },
    {
     "name": "stdout",
     "output_type": "stream",
     "text": [
      "lr: 0.005    reg: 0.03    n_epochs: 20    n_factors: 15\n"
     ]
    },
    {
     "name": "stderr",
     "output_type": "stream",
     "text": [
      "Epoch: 100%|████████████████| 20/20 [06:08<00:00, 18.40s/it, test_Loss=0.735, test_RMSE=0.858, test_MAE=0.673]\n",
      "Epoch:   0%|                                                                           | 0/20 [00:00<?, ?it/s]                                                                                                                                                                                                                       | 5/45 [30:44<4:05:59, 368.98s/it]"
     ]
    },
    {
     "name": "stdout",
     "output_type": "stream",
     "text": [
      "lr: 0.005    reg: 0.03    n_epochs: 20    n_factors: 20\n"
     ]
    },
    {
     "name": "stderr",
     "output_type": "stream",
     "text": [
      "Epoch: 100%|████████████████| 20/20 [06:12<00:00, 18.65s/it, test_Loss=0.743, test_RMSE=0.862, test_MAE=0.678]\n",
      "Grid Search Progress:  13%|███████████████████████████████████████▋                                                                                                                                                                                                                                                                  | 6/45 [36:57<4:00:45, 370.41s/it]"
     ]
    },
    {
     "name": "stdout",
     "output_type": "stream",
     "text": [
      "lr: 0.005    reg: 0.04    n_epochs: 20    n_factors: 10\n"
     ]
    },
    {
     "name": "stderr",
     "output_type": "stream",
     "text": [
      "Epoch: 100%|████████████████| 20/20 [06:07<00:00, 18.38s/it, test_Loss=0.765, test_RMSE=0.875, test_MAE=0.688]\n",
      "Grid Search Progress:  16%|██████████████████████████████████████████████▎                                                                                                                                                                                                                                                           | 7/45 [43:05<3:54:03, 369.57s/it]"
     ]
    },
    {
     "name": "stdout",
     "output_type": "stream",
     "text": [
      "lr: 0.005    reg: 0.04    n_epochs: 20    n_factors: 15\n"
     ]
    },
    {
     "name": "stderr",
     "output_type": "stream",
     "text": [
      "Epoch: 100%|████████████████| 20/20 [06:09<00:00, 18.49s/it, test_Loss=0.747, test_RMSE=0.864, test_MAE=0.680]\n",
      "Grid Search Progress:  18%|████████████████████████████████████████████████████▉                                                                                                                                                                                                                                                     | 8/45 [49:15<3:47:59, 369.72s/it]"
     ]
    },
    {
     "name": "stdout",
     "output_type": "stream",
     "text": [
      "lr: 0.005    reg: 0.04    n_epochs: 20    n_factors: 20\n"
     ]
    },
    {
     "name": "stderr",
     "output_type": "stream",
     "text": [
      "Epoch: 100%|████████████████| 20/20 [06:14<00:00, 18.74s/it, test_Loss=0.751, test_RMSE=0.867, test_MAE=0.683]\n",
      "Grid Search Progress:  20%|███████████████████████████████████████████████████████████▌                                                                                                                                                                                                                                              | 9/45 [55:30<3:42:50, 371.41s/it]"
     ]
    },
    {
     "name": "stdout",
     "output_type": "stream",
     "text": [
      "lr: 0.0075    reg: 0.02    n_epochs: 20    n_factors: 10\n"
     ]
    },
    {
     "name": "stderr",
     "output_type": "stream",
     "text": [
      "Epoch: 100%|████████████████| 20/20 [06:16<00:00, 18.83s/it, test_Loss=0.735, test_RMSE=0.858, test_MAE=0.670]\n",
      "Grid Search Progress:  22%|█████████████████████████████████████████████████████████████████▌                                                                                                                                                                                                                                     | 10/45 [1:01:47<3:37:37, 373.07s/it]"
     ]
    },
    {
     "name": "stdout",
     "output_type": "stream",
     "text": [
      "lr: 0.0075    reg: 0.02    n_epochs: 20    n_factors: 15\n"
     ]
    },
    {
     "name": "stderr",
     "output_type": "stream",
     "text": [
      "Epoch: 100%|████████████████| 20/20 [06:09<00:00, 18.49s/it, test_Loss=0.708, test_RMSE=0.842, test_MAE=0.657]\n",
      "Grid Search Progress:  24%|████████████████████████████████████████████████████████████████████████                                                                                                                                                                                                                               | 11/45 [1:07:57<3:30:53, 372.15s/it]"
     ]
    },
    {
     "name": "stdout",
     "output_type": "stream",
     "text": [
      "lr: 0.0075    reg: 0.02    n_epochs: 20    n_factors: 20\n"
     ]
    },
    {
     "name": "stderr",
     "output_type": "stream",
     "text": [
      "Epoch: 100%|████████████████| 20/20 [06:17<00:00, 18.85s/it, test_Loss=0.729, test_RMSE=0.854, test_MAE=0.670]\n",
      "Grid Search Progress:  27%|██████████████████████████████████████████████████████████████████████████████▋                                                                                                                                                                                                                        | 12/45 [1:14:14<3:25:33, 373.73s/it]"
     ]
    },
    {
     "name": "stdout",
     "output_type": "stream",
     "text": [
      "lr: 0.0075    reg: 0.03    n_epochs: 20    n_factors: 10\n"
     ]
    },
    {
     "name": "stderr",
     "output_type": "stream",
     "text": [
      "Epoch: 100%|████████████████| 20/20 [06:08<00:00, 18.43s/it, test_Loss=0.738, test_RMSE=0.859, test_MAE=0.673]\n",
      "Grid Search Progress:  29%|█████████████████████████████████████████████████████████████████████████████████████▏                                                                                                                                                                                                                 | 13/45 [1:20:23<3:18:32, 372.27s/it]"
     ]
    },
    {
     "name": "stdout",
     "output_type": "stream",
     "text": [
      "lr: 0.0075    reg: 0.03    n_epochs: 20    n_factors: 15\n"
     ]
    },
    {
     "name": "stderr",
     "output_type": "stream",
     "text": [
      "Epoch: 100%|████████████████| 20/20 [06:11<00:00, 18.56s/it, test_Loss=0.710, test_RMSE=0.843, test_MAE=0.660]\n",
      "Grid Search Progress:  31%|███████████████████████████████████████████████████████████████████████████████████████████▊                                                                                                                                                                                                           | 14/45 [1:26:35<3:12:13, 372.06s/it]"
     ]
    },
    {
     "name": "stdout",
     "output_type": "stream",
     "text": [
      "lr: 0.0075    reg: 0.03    n_epochs: 20    n_factors: 20\n"
     ]
    },
    {
     "name": "stderr",
     "output_type": "stream",
     "text": [
      "Epoch: 100%|████████████████| 20/20 [06:21<00:00, 19.06s/it, test_Loss=0.725, test_RMSE=0.852, test_MAE=0.669]\n",
      "Grid Search Progress:  33%|██████████████████████████████████████████████████████████████████████████████████████████████████▎                                                                                                                                                                                                    | 15/45 [1:32:56<3:07:27, 374.90s/it]"
     ]
    },
    {
     "name": "stdout",
     "output_type": "stream",
     "text": [
      "lr: 0.0075    reg: 0.04    n_epochs: 20    n_factors: 10\n"
     ]
    },
    {
     "name": "stderr",
     "output_type": "stream",
     "text": [
      "Epoch: 100%|████████████████| 20/20 [06:10<00:00, 18.50s/it, test_Loss=0.743, test_RMSE=0.862, test_MAE=0.676]\n",
      "Grid Search Progress:  36%|████████████████████████████████████████████████████████████████████████████████████████████████████████▉                                                                                                                                                                                              | 16/45 [1:39:07<3:00:31, 373.52s/it]"
     ]
    },
    {
     "name": "stdout",
     "output_type": "stream",
     "text": [
      "lr: 0.0075    reg: 0.04    n_epochs: 20    n_factors: 15\n"
     ]
    },
    {
     "name": "stderr",
     "output_type": "stream",
     "text": [
      "Epoch: 100%|████████████████| 20/20 [06:10<00:00, 18.53s/it, test_Loss=0.718, test_RMSE=0.847, test_MAE=0.665]\n",
      "Grid Search Progress:  38%|███████████████████████████████████████████████████████████████████████████████████████████████████████████████▍                                                                                                                                                                                       | 17/45 [1:45:18<2:53:56, 372.74s/it]"
     ]
    },
    {
     "name": "stdout",
     "output_type": "stream",
     "text": [
      "lr: 0.0075    reg: 0.04    n_epochs: 20    n_factors: 20\n"
     ]
    },
    {
     "name": "stderr",
     "output_type": "stream",
     "text": [
      "Epoch: 100%|████████████████| 20/20 [06:11<00:00, 18.56s/it, test_Loss=0.728, test_RMSE=0.853, test_MAE=0.671]\n",
      "Grid Search Progress:  40%|██████████████████████████████████████████████████████████████████████████████████████████████████████████████████████                                                                                                                                                                                 | 18/45 [1:51:29<2:47:33, 372.35s/it]"
     ]
    },
    {
     "name": "stdout",
     "output_type": "stream",
     "text": [
      "lr: 0.009999999999999998    reg: 0.02    n_epochs: 20    n_factors: 10\n"
     ]
    },
    {
     "name": "stderr",
     "output_type": "stream",
     "text": [
      "Epoch: 100%|████████████████| 20/20 [06:04<00:00, 18.23s/it, test_Loss=0.727, test_RMSE=0.853, test_MAE=0.666]\n",
      "Grid Search Progress:  42%|████████████████████████████████████████████████████████████████████████████████████████████████████████████████████████████▌                                                                                                                                                                          | 19/45 [1:57:34<2:40:22, 370.10s/it]"
     ]
    },
    {
     "name": "stdout",
     "output_type": "stream",
     "text": [
      "lr: 0.009999999999999998    reg: 0.02    n_epochs: 20    n_factors: 15\n"
     ]
    },
    {
     "name": "stderr",
     "output_type": "stream",
     "text": [
      "Epoch: 100%|████████████████| 20/20 [06:06<00:00, 18.32s/it, test_Loss=0.707, test_RMSE=0.841, test_MAE=0.657]\n",
      "Grid Search Progress:  44%|███████████████████████████████████████████████████████████████████████████████████████████████████████████████████████████████████                                                                                                                                                                    | 20/45 [2:03:40<2:33:46, 369.06s/it]"
     ]
    },
    {
     "name": "stdout",
     "output_type": "stream",
     "text": [
      "lr: 0.009999999999999998    reg: 0.02    n_epochs: 20    n_factors: 20\n"
     ]
    },
    {
     "name": "stderr",
     "output_type": "stream",
     "text": [
      "Epoch: 100%|████████████████| 20/20 [06:12<00:00, 18.61s/it, test_Loss=0.731, test_RMSE=0.855, test_MAE=0.672]\n",
      "Grid Search Progress:  47%|█████████████████████████████████████████████████████████████████████████████████████████████████████████████████████████████████████████▋                                                                                                                                                             | 21/45 [2:09:53<2:28:01, 370.07s/it]"
     ]
    },
    {
     "name": "stdout",
     "output_type": "stream",
     "text": [
      "lr: 0.009999999999999998    reg: 0.03    n_epochs: 20    n_factors: 10\n"
     ]
    },
    {
     "name": "stderr",
     "output_type": "stream",
     "text": [
      "Epoch: 100%|████████████████| 20/20 [06:03<00:00, 18.20s/it, test_Loss=0.728, test_RMSE=0.853, test_MAE=0.668]\n",
      "Grid Search Progress:  49%|████████████████████████████████████████████████████████████████████████████████████████████████████████████████████████████████████████████████▏                                                                                                                                                      | 22/45 [2:15:57<2:21:10, 368.30s/it]"
     ]
    },
    {
     "name": "stdout",
     "output_type": "stream",
     "text": [
      "lr: 0.009999999999999998    reg: 0.03    n_epochs: 20    n_factors: 15\n"
     ]
    },
    {
     "name": "stderr",
     "output_type": "stream",
     "text": [
      "Epoch: 100%|████████████████| 20/20 [06:07<00:00, 18.35s/it, test_Loss=0.706, test_RMSE=0.840, test_MAE=0.658]\n",
      "Grid Search Progress:  51%|██████████████████████████████████████████████████████████████████████████████████████████████████████████████████████████████████████████████████████▊                                                                                                                                                | 23/45 [2:22:04<2:14:55, 367.99s/it]"
     ]
    },
    {
     "name": "stdout",
     "output_type": "stream",
     "text": [
      "lr: 0.009999999999999998    reg: 0.03    n_epochs: 20    n_factors: 20\n"
     ]
    },
    {
     "name": "stderr",
     "output_type": "stream",
     "text": [
      "Epoch: 100%|████████████████| 20/20 [06:16<00:00, 18.80s/it, test_Loss=0.722, test_RMSE=0.850, test_MAE=0.669]\n",
      "Grid Search Progress:  53%|█████████████████████████████████████████████████████████████████████████████████████████████████████████████████████████████████████████████████████████████▎                                                                                                                                         | 24/45 [2:28:21<2:09:40, 370.49s/it]"
     ]
    },
    {
     "name": "stdout",
     "output_type": "stream",
     "text": [
      "lr: 0.009999999999999998    reg: 0.04    n_epochs: 20    n_factors: 10\n"
     ]
    },
    {
     "name": "stderr",
     "output_type": "stream",
     "text": [
      "Epoch: 100%|████████████████| 20/20 [06:02<00:00, 18.12s/it, test_Loss=0.731, test_RMSE=0.855, test_MAE=0.670]\n",
      "Grid Search Progress:  56%|███████████████████████████████████████████████████████████████████████████████████████████████████████████████████████████████████████████████████████████████████▉                                                                                                                                   | 25/45 [2:34:23<2:02:42, 368.14s/it]"
     ]
    },
    {
     "name": "stdout",
     "output_type": "stream",
     "text": [
      "lr: 0.009999999999999998    reg: 0.04    n_epochs: 20    n_factors: 15\n"
     ]
    },
    {
     "name": "stderr",
     "output_type": "stream",
     "text": [
      "Epoch: 100%|████████████████| 20/20 [06:01<00:00, 18.05s/it, test_Loss=0.709, test_RMSE=0.842, test_MAE=0.661]\n",
      "Grid Search Progress:  58%|██████████████████████████████████████████████████████████████████████████████████████████████████████████████████████████████████████████████████████████████████████████▍                                                                                                                            | 26/45 [2:40:25<1:55:55, 366.10s/it]"
     ]
    },
    {
     "name": "stdout",
     "output_type": "stream",
     "text": [
      "lr: 0.009999999999999998    reg: 0.04    n_epochs: 20    n_factors: 20\n"
     ]
    },
    {
     "name": "stderr",
     "output_type": "stream",
     "text": [
      "Epoch: 100%|████████████████| 20/20 [06:08<00:00, 18.42s/it, test_Loss=0.720, test_RMSE=0.849, test_MAE=0.668]\n",
      "Epoch:   0%|                                                                           | 0/20 [00:00<?, ?it/s]██████████████████████████████████████████████████████████████████████████████████████████████                                                                                                                      | 27/45 [2:46:33<1:50:03, 366.86s/it]"
     ]
    },
    {
     "name": "stdout",
     "output_type": "stream",
     "text": [
      "lr: 0.012499999999999999    reg: 0.02    n_epochs: 20    n_factors: 10\n"
     ]
    },
    {
     "name": "stderr",
     "output_type": "stream",
     "text": [
      "Epoch: 100%|████████████████| 20/20 [06:19<00:00, 18.96s/it, test_Loss=0.725, test_RMSE=0.851, test_MAE=0.665]\n",
      "Grid Search Progress:  62%|███████████████████████████████████████████████████████████████████████████████████████████████████████████████████████████████████████████████████████████████████████████████████████▌                                                                                                               | 28/45 [2:52:53<1:45:00, 370.63s/it]"
     ]
    },
    {
     "name": "stdout",
     "output_type": "stream",
     "text": [
      "lr: 0.012499999999999999    reg: 0.02    n_epochs: 20    n_factors: 15\n"
     ]
    },
    {
     "name": "stderr",
     "output_type": "stream",
     "text": [
      "Epoch: 100%|████████████████| 20/20 [08:08<00:00, 24.41s/it, test_Loss=0.709, test_RMSE=0.842, test_MAE=0.657]\n",
      "Grid Search Progress:  64%|██████████████████████████████████████████████████████████████████████████████████████████████████████████████████████████████████████████████████████████████████████████████████████████████                                                                                                         | 29/45 [3:01:01<1:48:15, 405.97s/it]"
     ]
    },
    {
     "name": "stdout",
     "output_type": "stream",
     "text": [
      "lr: 0.012499999999999999    reg: 0.02    n_epochs: 20    n_factors: 20\n"
     ]
    },
    {
     "name": "stderr",
     "output_type": "stream",
     "text": [
      "Epoch: 100%|████████████████| 20/20 [07:48<00:00, 23.44s/it, test_Loss=0.734, test_RMSE=0.857, test_MAE=0.673]\n",
      "Grid Search Progress:  67%|████████████████████████████████████████████████████████████████████████████████████████████████████████████████████████████████████████████████████████████████████████████████████████████████████▋                                                                                                  | 30/45 [3:08:50<1:46:14, 424.94s/it]"
     ]
    },
    {
     "name": "stdout",
     "output_type": "stream",
     "text": [
      "lr: 0.012499999999999999    reg: 0.03    n_epochs: 20    n_factors: 10\n"
     ]
    },
    {
     "name": "stderr",
     "output_type": "stream",
     "text": [
      "Epoch: 100%|████████████████| 20/20 [06:48<00:00, 20.45s/it, test_Loss=0.725, test_RMSE=0.851, test_MAE=0.666]\n",
      "Grid Search Progress:  69%|███████████████████████████████████████████████████████████████████████████████████████████████████████████████████████████████████████████████████████████████████████████████████████████████████████████▏                                                                                           | 31/45 [3:15:40<1:38:03, 420.25s/it]"
     ]
    },
    {
     "name": "stdout",
     "output_type": "stream",
     "text": [
      "lr: 0.012499999999999999    reg: 0.03    n_epochs: 20    n_factors: 15\n"
     ]
    },
    {
     "name": "stderr",
     "output_type": "stream",
     "text": [
      "Epoch: 100%|████████████████| 20/20 [06:11<00:00, 18.59s/it, test_Loss=0.707, test_RMSE=0.841, test_MAE=0.658]\n",
      "Grid Search Progress:  71%|█████████████████████████████████████████████████████████████████████████████████████████████████████████████████████████████████████████████████████████████████████████████████████████████████████████████████▊                                                                                     | 32/45 [3:21:52<1:27:55, 405.78s/it]"
     ]
    },
    {
     "name": "stdout",
     "output_type": "stream",
     "text": [
      "lr: 0.012499999999999999    reg: 0.03    n_epochs: 20    n_factors: 20\n"
     ]
    },
    {
     "name": "stderr",
     "output_type": "stream",
     "text": [
      "Epoch: 100%|████████████████| 20/20 [06:12<00:00, 18.60s/it, test_Loss=0.724, test_RMSE=0.851, test_MAE=0.670]\n",
      "Grid Search Progress:  73%|████████████████████████████████████████████████████████████████████████████████████████████████████████████████████████████████████████████████████████████████████████████████████████████████████████████████████████▎                                                                              | 33/45 [3:28:04<1:19:08, 395.73s/it]"
     ]
    },
    {
     "name": "stdout",
     "output_type": "stream",
     "text": [
      "lr: 0.012499999999999999    reg: 0.04    n_epochs: 20    n_factors: 10\n"
     ]
    },
    {
     "name": "stderr",
     "output_type": "stream",
     "text": [
      "Epoch: 100%|████████████████| 20/20 [06:06<00:00, 18.31s/it, test_Loss=0.727, test_RMSE=0.853, test_MAE=0.669]\n",
      "Grid Search Progress:  76%|██████████████████████████████████████████████████████████████████████████████████████████████████████████████████████████████████████████████████████████████████████████████████████████████████████████████████████████████▉                                                                        | 34/45 [3:34:10<1:10:56, 386.94s/it]"
     ]
    },
    {
     "name": "stdout",
     "output_type": "stream",
     "text": [
      "lr: 0.012499999999999999    reg: 0.04    n_epochs: 20    n_factors: 15\n"
     ]
    },
    {
     "name": "stderr",
     "output_type": "stream",
     "text": [
      "Epoch: 100%|████████████████| 20/20 [06:13<00:00, 18.66s/it, test_Loss=0.708, test_RMSE=0.841, test_MAE=0.661]\n",
      "Epoch:   0%|                                                                           | 0/20 [00:00<?, ?it/s]██████████████████████████████████████████████████████████████████████████████████████████████████████████████████████████████████████████████████▍                                                                 | 35/45 [3:40:24<1:03:49, 382.92s/it]"
     ]
    },
    {
     "name": "stdout",
     "output_type": "stream",
     "text": [
      "lr: 0.012499999999999999    reg: 0.04    n_epochs: 20    n_factors: 20\n"
     ]
    },
    {
     "name": "stderr",
     "output_type": "stream",
     "text": [
      "Epoch: 100%|████████████████| 20/20 [06:12<00:00, 18.61s/it, test_Loss=0.719, test_RMSE=0.848, test_MAE=0.668]\n",
      "Grid Search Progress:  80%|█████████████████████████████████████████████████████████████████████████████████████████████████████████████████████████████████████████████████████████████████████████████████████████████████████████████████████████████████████████████▌                                                           | 36/45 [3:46:36<56:57, 379.75s/it]"
     ]
    },
    {
     "name": "stdout",
     "output_type": "stream",
     "text": [
      "lr: 0.015    reg: 0.02    n_epochs: 20    n_factors: 10\n"
     ]
    },
    {
     "name": "stderr",
     "output_type": "stream",
     "text": [
      "Epoch: 100%|████████████████| 20/20 [06:03<00:00, 18.20s/it, test_Loss=0.726, test_RMSE=0.852, test_MAE=0.665]\n",
      "Grid Search Progress:  82%|████████████████████████████████████████████████████████████████████████████████████████████████████████████████████████████████████████████████████████████████████████████████████████████████████████████████████████████████████████████████████▏                                                    | 37/45 [3:52:41<50:00, 375.10s/it]"
     ]
    },
    {
     "name": "stdout",
     "output_type": "stream",
     "text": [
      "lr: 0.015    reg: 0.02    n_epochs: 20    n_factors: 15\n"
     ]
    },
    {
     "name": "stderr",
     "output_type": "stream",
     "text": [
      "Epoch: 100%|████████████████| 20/20 [06:08<00:00, 18.41s/it, test_Loss=0.713, test_RMSE=0.844, test_MAE=0.659]\n",
      "Grid Search Progress:  84%|██████████████████████████████████████████████████████████████████████████████████████████████████████████████████████████████████████████████████████████████████████████████████████████████████████████████████████████████████████████████████████████▊                                              | 38/45 [3:58:49<43:31, 373.08s/it]"
     ]
    },
    {
     "name": "stdout",
     "output_type": "stream",
     "text": [
      "lr: 0.015    reg: 0.02    n_epochs: 20    n_factors: 20\n"
     ]
    },
    {
     "name": "stderr",
     "output_type": "stream",
     "text": [
      "Epoch: 100%|████████████████| 20/20 [06:17<00:00, 18.85s/it, test_Loss=0.738, test_RMSE=0.859, test_MAE=0.673]\n",
      "Grid Search Progress:  87%|█████████████████████████████████████████████████████████████████████████████████████████████████████████████████████████████████████████████████████████████████████████████████████████████████████████████████████████████████████████████████████████████████▍                                       | 39/45 [4:05:06<37:26, 374.34s/it]"
     ]
    },
    {
     "name": "stdout",
     "output_type": "stream",
     "text": [
      "lr: 0.015    reg: 0.03    n_epochs: 20    n_factors: 10\n"
     ]
    },
    {
     "name": "stderr",
     "output_type": "stream",
     "text": [
      "Epoch: 100%|████████████████| 20/20 [06:09<00:00, 18.49s/it, test_Loss=0.725, test_RMSE=0.852, test_MAE=0.666]\n",
      "Grid Search Progress:  89%|████████████████████████████████████████████████████████████████████████████████████████████████████████████████████████████████████████████████████████████████████████████████████████████████████████████████████████████████████████████████████████████████████████                                 | 40/45 [4:11:16<31:05, 373.04s/it]"
     ]
    },
    {
     "name": "stdout",
     "output_type": "stream",
     "text": [
      "lr: 0.015    reg: 0.03    n_epochs: 20    n_factors: 15\n"
     ]
    },
    {
     "name": "stderr",
     "output_type": "stream",
     "text": [
      "Epoch: 100%|████████████████| 20/20 [06:06<00:00, 18.33s/it, test_Loss=0.709, test_RMSE=0.842, test_MAE=0.659]\n",
      "Epoch:   0%|                                                                           | 0/20 [00:00<?, ?it/s]███████████████████████████████████████████████████████████████████████████████████████████████████████████████████████████████████████████████████████████████████████████████████████████▌                          | 41/45 [4:17:23<24:44, 371.17s/it]"
     ]
    },
    {
     "name": "stdout",
     "output_type": "stream",
     "text": [
      "lr: 0.015    reg: 0.03    n_epochs: 20    n_factors: 20\n"
     ]
    },
    {
     "name": "stderr",
     "output_type": "stream",
     "text": [
      "Epoch: 100%|████████████████| 20/20 [06:13<00:00, 18.66s/it, test_Loss=0.727, test_RMSE=0.853, test_MAE=0.670]\n",
      "Grid Search Progress:  93%|█████████████████████████████████████████████████████████████████████████████████████████████████████████████████████████████████████████████████████████████████████████████████████████████████████████████████████████████████████████████████████████████████████████████████████▏                   | 42/45 [4:23:36<18:35, 371.86s/it]"
     ]
    },
    {
     "name": "stdout",
     "output_type": "stream",
     "text": [
      "lr: 0.015    reg: 0.04    n_epochs: 20    n_factors: 10\n"
     ]
    },
    {
     "name": "stderr",
     "output_type": "stream",
     "text": [
      "Epoch: 100%|████████████████| 20/20 [06:06<00:00, 18.33s/it, test_Loss=0.727, test_RMSE=0.853, test_MAE=0.669]\n",
      "Grid Search Progress:  96%|███████████████████████████████████████████████████████████████████████████████████████████████████████████████████████████████████████████████████████████████████████████████████████████████████████████████████████████████████████████████████████████████████████████████████████████▊             | 43/45 [4:29:43<12:20, 370.38s/it]"
     ]
    },
    {
     "name": "stdout",
     "output_type": "stream",
     "text": [
      "lr: 0.015    reg: 0.04    n_epochs: 20    n_factors: 15\n"
     ]
    },
    {
     "name": "stderr",
     "output_type": "stream",
     "text": [
      "Epoch: 100%|████████████████| 20/20 [06:07<00:00, 18.39s/it, test_Loss=0.710, test_RMSE=0.842, test_MAE=0.662]\n",
      "Grid Search Progress:  98%|██████████████████████████████████████████████████████████████████████████████████████████████████████████████████████████████████████████████████████████████████████████████████████████████████████████████████████████████████████████████████████████████████████████████████████████████████▍      | 44/45 [4:35:51<06:09, 369.68s/it]"
     ]
    },
    {
     "name": "stdout",
     "output_type": "stream",
     "text": [
      "lr: 0.015    reg: 0.04    n_epochs: 20    n_factors: 20\n"
     ]
    },
    {
     "name": "stderr",
     "output_type": "stream",
     "text": [
      "Epoch: 100%|████████████████| 20/20 [06:13<00:00, 18.66s/it, test_Loss=0.720, test_RMSE=0.849, test_MAE=0.669]\n",
      "Grid Search Progress: 100%|█████████████████████████████████████████████████████████████████████████████████████████████████████████████████████████████████████████████████████████████████████████████████████████████████████████████████████████████████████████████████████████████████████████████████████████████████████████| 45/45 [4:42:05<00:00, 376.12s/it]\n"
     ]
    }
   ],
   "source": [
    "lr_list = np.linspace(0.005, 0.015, 5)\n",
    "reg_list = np.linspace(0.02, 0.04, 3)\n",
    "n_epochs_list = [20]\n",
    "n_factors_list = range(10, 21, 5)\n",
    "grid_space = list(product(lr_list, reg_list, n_epochs_list, n_factors_list))\n",
    "\n",
    "hists = []\n",
    "for lr, reg, n_epochs, n_factors in tqdm(grid_space, position=0, leave=True, desc='Grid Search Progress'):\n",
    "    print(f\"lr: {lr}    reg: {reg}    n_epochs: {n_epochs}    n_factors: {n_factors}\")\n",
    "    hist, _ = run_funk(train=train_df, test=test_df, lr=lr, reg=reg,\n",
    "                     n_epochs=n_epochs, n_factors=n_factors)\n",
    "    \n",
    "    hists.append({'lr': lr, 'reg': reg, 'n_epochs': n_epochs, 'n_factors': n_factors, 'hist': hist})\n",
    "    with open('funk_results.json', 'w') as f:\n",
    "        json.dump(hists, f)"
   ]
  },
  {
   "cell_type": "markdown",
   "metadata": {},
   "source": [
    "### Funk-SVD Analysis"
   ]
  },
  {
   "cell_type": "code",
   "execution_count": 21,
   "metadata": {},
   "outputs": [
    {
     "data": {
      "application/vnd.plotly.v1+json": {
       "config": {
        "plotlyServerURL": "https://plot.ly"
       },
       "data": [
        {
         "hovertemplate": "variable=test_Loss<br>Epoch=%{x}<br>value=%{y}<extra></extra>",
         "legendgroup": "test_Loss",
         "line": {
          "color": "#636efa",
          "dash": "solid"
         },
         "mode": "lines",
         "name": "test_Loss",
         "orientation": "v",
         "showlegend": true,
         "type": "scatter",
         "x": [
          0,
          1,
          2,
          3,
          4,
          5,
          6,
          7,
          8,
          9,
          10,
          11,
          12,
          13,
          14,
          15,
          16,
          17,
          18,
          19
         ],
         "xaxis": "x",
         "y": [
          0.8469879632222787,
          0.8314655313955173,
          0.8260087154403649,
          0.8164645146734665,
          0.8019261342696166,
          0.7876677358846904,
          0.7742161415756512,
          0.7615363674654475,
          0.7501813120705125,
          0.7403117857319552,
          0.7319071651357658,
          0.7249911418259928,
          0.7195096674737937,
          0.7153054681373882,
          0.7121618870406,
          0.7098549407339592,
          0.7081890342036025,
          0.7070057006400238,
          0.7061828945449439,
          0.7056295957552483
         ],
         "yaxis": "y"
        },
        {
         "hovertemplate": "variable=test_RMSE<br>Epoch=%{x}<br>value=%{y}<extra></extra>",
         "legendgroup": "test_RMSE",
         "line": {
          "color": "#EF553B",
          "dash": "solid"
         },
         "mode": "lines",
         "name": "test_RMSE",
         "orientation": "v",
         "showlegend": true,
         "type": "scatter",
         "x": [
          0,
          1,
          2,
          3,
          4,
          5,
          6,
          7,
          8,
          9,
          10,
          11,
          12,
          13,
          14,
          15,
          16,
          17,
          18,
          19
         ],
         "xaxis": "x",
         "y": [
          0.9203194897546605,
          0.9118473180283623,
          0.9088502161744613,
          0.9035842598637199,
          0.8955032854599789,
          0.8875064708973622,
          0.8798955287848957,
          0.8726605110038196,
          0.8661300780313038,
          0.8604137293953155,
          0.8555157305016465,
          0.8514641165815461,
          0.8482391570033735,
          0.8457573340724798,
          0.8438968462084688,
          0.842528896082478,
          0.8415396807065026,
          0.8408363102530859,
          0.8403468894123092,
          0.8400176163362577
         ],
         "yaxis": "y"
        },
        {
         "hovertemplate": "variable=test_MAE<br>Epoch=%{x}<br>value=%{y}<extra></extra>",
         "legendgroup": "test_MAE",
         "line": {
          "color": "#00cc96",
          "dash": "solid"
         },
         "mode": "lines",
         "name": "test_MAE",
         "orientation": "v",
         "showlegend": true,
         "type": "scatter",
         "x": [
          0,
          1,
          2,
          3,
          4,
          5,
          6,
          7,
          8,
          9,
          10,
          11,
          12,
          13,
          14,
          15,
          16,
          17,
          18,
          19
         ],
         "xaxis": "x",
         "y": [
          0.7315838614523991,
          0.7217607567982874,
          0.7184795636965838,
          0.7136693730367176,
          0.7060237790108039,
          0.6992529663502787,
          0.6926635524371524,
          0.686519074596674,
          0.6808056787907569,
          0.6757925680495936,
          0.6713698122223897,
          0.6677215443043737,
          0.664834666307334,
          0.6625420394428759,
          0.6608612614874457,
          0.6596846238555627,
          0.6588718447299776,
          0.6584113277058946,
          0.6580791109804311,
          0.6578097725137796
         ],
         "yaxis": "y"
        }
       ],
       "layout": {
        "font": {
         "family": "Courier New, monospace",
         "size": 18
        },
        "hoverlabel": {
         "font": {
          "family": "Rockwell",
          "size": 12
         }
        },
        "legend": {
         "title": {
          "text": "variable"
         },
         "tracegroupgap": 0
        },
        "margin": {
         "t": 60
        },
        "template": {
         "data": {
          "bar": [
           {
            "error_x": {
             "color": "#2a3f5f"
            },
            "error_y": {
             "color": "#2a3f5f"
            },
            "marker": {
             "line": {
              "color": "#E5ECF6",
              "width": 0.5
             }
            },
            "type": "bar"
           }
          ],
          "barpolar": [
           {
            "marker": {
             "line": {
              "color": "#E5ECF6",
              "width": 0.5
             }
            },
            "type": "barpolar"
           }
          ],
          "carpet": [
           {
            "aaxis": {
             "endlinecolor": "#2a3f5f",
             "gridcolor": "white",
             "linecolor": "white",
             "minorgridcolor": "white",
             "startlinecolor": "#2a3f5f"
            },
            "baxis": {
             "endlinecolor": "#2a3f5f",
             "gridcolor": "white",
             "linecolor": "white",
             "minorgridcolor": "white",
             "startlinecolor": "#2a3f5f"
            },
            "type": "carpet"
           }
          ],
          "choropleth": [
           {
            "colorbar": {
             "outlinewidth": 0,
             "ticks": ""
            },
            "type": "choropleth"
           }
          ],
          "contour": [
           {
            "colorbar": {
             "outlinewidth": 0,
             "ticks": ""
            },
            "colorscale": [
             [
              0,
              "#0d0887"
             ],
             [
              0.1111111111111111,
              "#46039f"
             ],
             [
              0.2222222222222222,
              "#7201a8"
             ],
             [
              0.3333333333333333,
              "#9c179e"
             ],
             [
              0.4444444444444444,
              "#bd3786"
             ],
             [
              0.5555555555555556,
              "#d8576b"
             ],
             [
              0.6666666666666666,
              "#ed7953"
             ],
             [
              0.7777777777777778,
              "#fb9f3a"
             ],
             [
              0.8888888888888888,
              "#fdca26"
             ],
             [
              1,
              "#f0f921"
             ]
            ],
            "type": "contour"
           }
          ],
          "contourcarpet": [
           {
            "colorbar": {
             "outlinewidth": 0,
             "ticks": ""
            },
            "type": "contourcarpet"
           }
          ],
          "heatmap": [
           {
            "colorbar": {
             "outlinewidth": 0,
             "ticks": ""
            },
            "colorscale": [
             [
              0,
              "#0d0887"
             ],
             [
              0.1111111111111111,
              "#46039f"
             ],
             [
              0.2222222222222222,
              "#7201a8"
             ],
             [
              0.3333333333333333,
              "#9c179e"
             ],
             [
              0.4444444444444444,
              "#bd3786"
             ],
             [
              0.5555555555555556,
              "#d8576b"
             ],
             [
              0.6666666666666666,
              "#ed7953"
             ],
             [
              0.7777777777777778,
              "#fb9f3a"
             ],
             [
              0.8888888888888888,
              "#fdca26"
             ],
             [
              1,
              "#f0f921"
             ]
            ],
            "type": "heatmap"
           }
          ],
          "heatmapgl": [
           {
            "colorbar": {
             "outlinewidth": 0,
             "ticks": ""
            },
            "colorscale": [
             [
              0,
              "#0d0887"
             ],
             [
              0.1111111111111111,
              "#46039f"
             ],
             [
              0.2222222222222222,
              "#7201a8"
             ],
             [
              0.3333333333333333,
              "#9c179e"
             ],
             [
              0.4444444444444444,
              "#bd3786"
             ],
             [
              0.5555555555555556,
              "#d8576b"
             ],
             [
              0.6666666666666666,
              "#ed7953"
             ],
             [
              0.7777777777777778,
              "#fb9f3a"
             ],
             [
              0.8888888888888888,
              "#fdca26"
             ],
             [
              1,
              "#f0f921"
             ]
            ],
            "type": "heatmapgl"
           }
          ],
          "histogram": [
           {
            "marker": {
             "colorbar": {
              "outlinewidth": 0,
              "ticks": ""
             }
            },
            "type": "histogram"
           }
          ],
          "histogram2d": [
           {
            "colorbar": {
             "outlinewidth": 0,
             "ticks": ""
            },
            "colorscale": [
             [
              0,
              "#0d0887"
             ],
             [
              0.1111111111111111,
              "#46039f"
             ],
             [
              0.2222222222222222,
              "#7201a8"
             ],
             [
              0.3333333333333333,
              "#9c179e"
             ],
             [
              0.4444444444444444,
              "#bd3786"
             ],
             [
              0.5555555555555556,
              "#d8576b"
             ],
             [
              0.6666666666666666,
              "#ed7953"
             ],
             [
              0.7777777777777778,
              "#fb9f3a"
             ],
             [
              0.8888888888888888,
              "#fdca26"
             ],
             [
              1,
              "#f0f921"
             ]
            ],
            "type": "histogram2d"
           }
          ],
          "histogram2dcontour": [
           {
            "colorbar": {
             "outlinewidth": 0,
             "ticks": ""
            },
            "colorscale": [
             [
              0,
              "#0d0887"
             ],
             [
              0.1111111111111111,
              "#46039f"
             ],
             [
              0.2222222222222222,
              "#7201a8"
             ],
             [
              0.3333333333333333,
              "#9c179e"
             ],
             [
              0.4444444444444444,
              "#bd3786"
             ],
             [
              0.5555555555555556,
              "#d8576b"
             ],
             [
              0.6666666666666666,
              "#ed7953"
             ],
             [
              0.7777777777777778,
              "#fb9f3a"
             ],
             [
              0.8888888888888888,
              "#fdca26"
             ],
             [
              1,
              "#f0f921"
             ]
            ],
            "type": "histogram2dcontour"
           }
          ],
          "mesh3d": [
           {
            "colorbar": {
             "outlinewidth": 0,
             "ticks": ""
            },
            "type": "mesh3d"
           }
          ],
          "parcoords": [
           {
            "line": {
             "colorbar": {
              "outlinewidth": 0,
              "ticks": ""
             }
            },
            "type": "parcoords"
           }
          ],
          "pie": [
           {
            "automargin": true,
            "type": "pie"
           }
          ],
          "scatter": [
           {
            "marker": {
             "colorbar": {
              "outlinewidth": 0,
              "ticks": ""
             }
            },
            "type": "scatter"
           }
          ],
          "scatter3d": [
           {
            "line": {
             "colorbar": {
              "outlinewidth": 0,
              "ticks": ""
             }
            },
            "marker": {
             "colorbar": {
              "outlinewidth": 0,
              "ticks": ""
             }
            },
            "type": "scatter3d"
           }
          ],
          "scattercarpet": [
           {
            "marker": {
             "colorbar": {
              "outlinewidth": 0,
              "ticks": ""
             }
            },
            "type": "scattercarpet"
           }
          ],
          "scattergeo": [
           {
            "marker": {
             "colorbar": {
              "outlinewidth": 0,
              "ticks": ""
             }
            },
            "type": "scattergeo"
           }
          ],
          "scattergl": [
           {
            "marker": {
             "colorbar": {
              "outlinewidth": 0,
              "ticks": ""
             }
            },
            "type": "scattergl"
           }
          ],
          "scattermapbox": [
           {
            "marker": {
             "colorbar": {
              "outlinewidth": 0,
              "ticks": ""
             }
            },
            "type": "scattermapbox"
           }
          ],
          "scatterpolar": [
           {
            "marker": {
             "colorbar": {
              "outlinewidth": 0,
              "ticks": ""
             }
            },
            "type": "scatterpolar"
           }
          ],
          "scatterpolargl": [
           {
            "marker": {
             "colorbar": {
              "outlinewidth": 0,
              "ticks": ""
             }
            },
            "type": "scatterpolargl"
           }
          ],
          "scatterternary": [
           {
            "marker": {
             "colorbar": {
              "outlinewidth": 0,
              "ticks": ""
             }
            },
            "type": "scatterternary"
           }
          ],
          "surface": [
           {
            "colorbar": {
             "outlinewidth": 0,
             "ticks": ""
            },
            "colorscale": [
             [
              0,
              "#0d0887"
             ],
             [
              0.1111111111111111,
              "#46039f"
             ],
             [
              0.2222222222222222,
              "#7201a8"
             ],
             [
              0.3333333333333333,
              "#9c179e"
             ],
             [
              0.4444444444444444,
              "#bd3786"
             ],
             [
              0.5555555555555556,
              "#d8576b"
             ],
             [
              0.6666666666666666,
              "#ed7953"
             ],
             [
              0.7777777777777778,
              "#fb9f3a"
             ],
             [
              0.8888888888888888,
              "#fdca26"
             ],
             [
              1,
              "#f0f921"
             ]
            ],
            "type": "surface"
           }
          ],
          "table": [
           {
            "cells": {
             "fill": {
              "color": "#EBF0F8"
             },
             "line": {
              "color": "white"
             }
            },
            "header": {
             "fill": {
              "color": "#C8D4E3"
             },
             "line": {
              "color": "white"
             }
            },
            "type": "table"
           }
          ]
         },
         "layout": {
          "annotationdefaults": {
           "arrowcolor": "#2a3f5f",
           "arrowhead": 0,
           "arrowwidth": 1
          },
          "autotypenumbers": "strict",
          "coloraxis": {
           "colorbar": {
            "outlinewidth": 0,
            "ticks": ""
           }
          },
          "colorscale": {
           "diverging": [
            [
             0,
             "#8e0152"
            ],
            [
             0.1,
             "#c51b7d"
            ],
            [
             0.2,
             "#de77ae"
            ],
            [
             0.3,
             "#f1b6da"
            ],
            [
             0.4,
             "#fde0ef"
            ],
            [
             0.5,
             "#f7f7f7"
            ],
            [
             0.6,
             "#e6f5d0"
            ],
            [
             0.7,
             "#b8e186"
            ],
            [
             0.8,
             "#7fbc41"
            ],
            [
             0.9,
             "#4d9221"
            ],
            [
             1,
             "#276419"
            ]
           ],
           "sequential": [
            [
             0,
             "#0d0887"
            ],
            [
             0.1111111111111111,
             "#46039f"
            ],
            [
             0.2222222222222222,
             "#7201a8"
            ],
            [
             0.3333333333333333,
             "#9c179e"
            ],
            [
             0.4444444444444444,
             "#bd3786"
            ],
            [
             0.5555555555555556,
             "#d8576b"
            ],
            [
             0.6666666666666666,
             "#ed7953"
            ],
            [
             0.7777777777777778,
             "#fb9f3a"
            ],
            [
             0.8888888888888888,
             "#fdca26"
            ],
            [
             1,
             "#f0f921"
            ]
           ],
           "sequentialminus": [
            [
             0,
             "#0d0887"
            ],
            [
             0.1111111111111111,
             "#46039f"
            ],
            [
             0.2222222222222222,
             "#7201a8"
            ],
            [
             0.3333333333333333,
             "#9c179e"
            ],
            [
             0.4444444444444444,
             "#bd3786"
            ],
            [
             0.5555555555555556,
             "#d8576b"
            ],
            [
             0.6666666666666666,
             "#ed7953"
            ],
            [
             0.7777777777777778,
             "#fb9f3a"
            ],
            [
             0.8888888888888888,
             "#fdca26"
            ],
            [
             1,
             "#f0f921"
            ]
           ]
          },
          "colorway": [
           "#636efa",
           "#EF553B",
           "#00cc96",
           "#ab63fa",
           "#FFA15A",
           "#19d3f3",
           "#FF6692",
           "#B6E880",
           "#FF97FF",
           "#FECB52"
          ],
          "font": {
           "color": "#2a3f5f"
          },
          "geo": {
           "bgcolor": "white",
           "lakecolor": "white",
           "landcolor": "#E5ECF6",
           "showlakes": true,
           "showland": true,
           "subunitcolor": "white"
          },
          "hoverlabel": {
           "align": "left"
          },
          "hovermode": "closest",
          "mapbox": {
           "style": "light"
          },
          "paper_bgcolor": "white",
          "plot_bgcolor": "#E5ECF6",
          "polar": {
           "angularaxis": {
            "gridcolor": "white",
            "linecolor": "white",
            "ticks": ""
           },
           "bgcolor": "#E5ECF6",
           "radialaxis": {
            "gridcolor": "white",
            "linecolor": "white",
            "ticks": ""
           }
          },
          "scene": {
           "xaxis": {
            "backgroundcolor": "#E5ECF6",
            "gridcolor": "white",
            "gridwidth": 2,
            "linecolor": "white",
            "showbackground": true,
            "ticks": "",
            "zerolinecolor": "white"
           },
           "yaxis": {
            "backgroundcolor": "#E5ECF6",
            "gridcolor": "white",
            "gridwidth": 2,
            "linecolor": "white",
            "showbackground": true,
            "ticks": "",
            "zerolinecolor": "white"
           },
           "zaxis": {
            "backgroundcolor": "#E5ECF6",
            "gridcolor": "white",
            "gridwidth": 2,
            "linecolor": "white",
            "showbackground": true,
            "ticks": "",
            "zerolinecolor": "white"
           }
          },
          "shapedefaults": {
           "line": {
            "color": "#2a3f5f"
           }
          },
          "ternary": {
           "aaxis": {
            "gridcolor": "white",
            "linecolor": "white",
            "ticks": ""
           },
           "baxis": {
            "gridcolor": "white",
            "linecolor": "white",
            "ticks": ""
           },
           "bgcolor": "#E5ECF6",
           "caxis": {
            "gridcolor": "white",
            "linecolor": "white",
            "ticks": ""
           }
          },
          "title": {
           "x": 0.05
          },
          "xaxis": {
           "automargin": true,
           "gridcolor": "white",
           "linecolor": "white",
           "ticks": "",
           "title": {
            "standoff": 15
           },
           "zerolinecolor": "white",
           "zerolinewidth": 2
          },
          "yaxis": {
           "automargin": true,
           "gridcolor": "white",
           "linecolor": "white",
           "ticks": "",
           "title": {
            "standoff": 15
           },
           "zerolinecolor": "white",
           "zerolinewidth": 2
          }
         }
        },
        "xaxis": {
         "anchor": "y",
         "domain": [
          0,
          1
         ],
         "showspikes": true,
         "title": {
          "text": "Epoch"
         }
        },
        "yaxis": {
         "anchor": "x",
         "domain": [
          0,
          1
         ],
         "title": {
          "text": "value"
         }
        }
       }
      },
      "text/html": [
       "<div>                            <div id=\"a9c1a2b2-5f52-4257-9677-fd2a50a05a21\" class=\"plotly-graph-div\" style=\"height:525px; width:100%;\"></div>            <script type=\"text/javascript\">                require([\"plotly\"], function(Plotly) {                    window.PLOTLYENV=window.PLOTLYENV || {};                                    if (document.getElementById(\"a9c1a2b2-5f52-4257-9677-fd2a50a05a21\")) {                    Plotly.newPlot(                        \"a9c1a2b2-5f52-4257-9677-fd2a50a05a21\",                        [{\"hovertemplate\": \"variable=test_Loss<br>Epoch=%{x}<br>value=%{y}<extra></extra>\", \"legendgroup\": \"test_Loss\", \"line\": {\"color\": \"#636efa\", \"dash\": \"solid\"}, \"mode\": \"lines\", \"name\": \"test_Loss\", \"orientation\": \"v\", \"showlegend\": true, \"type\": \"scatter\", \"x\": [0, 1, 2, 3, 4, 5, 6, 7, 8, 9, 10, 11, 12, 13, 14, 15, 16, 17, 18, 19], \"xaxis\": \"x\", \"y\": [0.8469879632222787, 0.8314655313955173, 0.8260087154403649, 0.8164645146734665, 0.8019261342696166, 0.7876677358846904, 0.7742161415756512, 0.7615363674654475, 0.7501813120705125, 0.7403117857319552, 0.7319071651357658, 0.7249911418259928, 0.7195096674737937, 0.7153054681373882, 0.7121618870406, 0.7098549407339592, 0.7081890342036025, 0.7070057006400238, 0.7061828945449439, 0.7056295957552483], \"yaxis\": \"y\"}, {\"hovertemplate\": \"variable=test_RMSE<br>Epoch=%{x}<br>value=%{y}<extra></extra>\", \"legendgroup\": \"test_RMSE\", \"line\": {\"color\": \"#EF553B\", \"dash\": \"solid\"}, \"mode\": \"lines\", \"name\": \"test_RMSE\", \"orientation\": \"v\", \"showlegend\": true, \"type\": \"scatter\", \"x\": [0, 1, 2, 3, 4, 5, 6, 7, 8, 9, 10, 11, 12, 13, 14, 15, 16, 17, 18, 19], \"xaxis\": \"x\", \"y\": [0.9203194897546605, 0.9118473180283623, 0.9088502161744613, 0.9035842598637199, 0.8955032854599789, 0.8875064708973622, 0.8798955287848957, 0.8726605110038196, 0.8661300780313038, 0.8604137293953155, 0.8555157305016465, 0.8514641165815461, 0.8482391570033735, 0.8457573340724798, 0.8438968462084688, 0.842528896082478, 0.8415396807065026, 0.8408363102530859, 0.8403468894123092, 0.8400176163362577], \"yaxis\": \"y\"}, {\"hovertemplate\": \"variable=test_MAE<br>Epoch=%{x}<br>value=%{y}<extra></extra>\", \"legendgroup\": \"test_MAE\", \"line\": {\"color\": \"#00cc96\", \"dash\": \"solid\"}, \"mode\": \"lines\", \"name\": \"test_MAE\", \"orientation\": \"v\", \"showlegend\": true, \"type\": \"scatter\", \"x\": [0, 1, 2, 3, 4, 5, 6, 7, 8, 9, 10, 11, 12, 13, 14, 15, 16, 17, 18, 19], \"xaxis\": \"x\", \"y\": [0.7315838614523991, 0.7217607567982874, 0.7184795636965838, 0.7136693730367176, 0.7060237790108039, 0.6992529663502787, 0.6926635524371524, 0.686519074596674, 0.6808056787907569, 0.6757925680495936, 0.6713698122223897, 0.6677215443043737, 0.664834666307334, 0.6625420394428759, 0.6608612614874457, 0.6596846238555627, 0.6588718447299776, 0.6584113277058946, 0.6580791109804311, 0.6578097725137796], \"yaxis\": \"y\"}],                        {\"font\": {\"family\": \"Courier New, monospace\", \"size\": 18}, \"hoverlabel\": {\"font\": {\"family\": \"Rockwell\", \"size\": 12}}, \"legend\": {\"title\": {\"text\": \"variable\"}, \"tracegroupgap\": 0}, \"margin\": {\"t\": 60}, \"template\": {\"data\": {\"bar\": [{\"error_x\": {\"color\": \"#2a3f5f\"}, \"error_y\": {\"color\": \"#2a3f5f\"}, \"marker\": {\"line\": {\"color\": \"#E5ECF6\", \"width\": 0.5}}, \"type\": \"bar\"}], \"barpolar\": [{\"marker\": {\"line\": {\"color\": \"#E5ECF6\", \"width\": 0.5}}, \"type\": \"barpolar\"}], \"carpet\": [{\"aaxis\": {\"endlinecolor\": \"#2a3f5f\", \"gridcolor\": \"white\", \"linecolor\": \"white\", \"minorgridcolor\": \"white\", \"startlinecolor\": \"#2a3f5f\"}, \"baxis\": {\"endlinecolor\": \"#2a3f5f\", \"gridcolor\": \"white\", \"linecolor\": \"white\", \"minorgridcolor\": \"white\", \"startlinecolor\": \"#2a3f5f\"}, \"type\": \"carpet\"}], \"choropleth\": [{\"colorbar\": {\"outlinewidth\": 0, \"ticks\": \"\"}, \"type\": \"choropleth\"}], \"contour\": [{\"colorbar\": {\"outlinewidth\": 0, \"ticks\": \"\"}, \"colorscale\": [[0.0, \"#0d0887\"], [0.1111111111111111, \"#46039f\"], [0.2222222222222222, \"#7201a8\"], [0.3333333333333333, \"#9c179e\"], [0.4444444444444444, \"#bd3786\"], [0.5555555555555556, \"#d8576b\"], [0.6666666666666666, \"#ed7953\"], [0.7777777777777778, \"#fb9f3a\"], [0.8888888888888888, \"#fdca26\"], [1.0, \"#f0f921\"]], \"type\": \"contour\"}], \"contourcarpet\": [{\"colorbar\": {\"outlinewidth\": 0, \"ticks\": \"\"}, \"type\": \"contourcarpet\"}], \"heatmap\": [{\"colorbar\": {\"outlinewidth\": 0, \"ticks\": \"\"}, \"colorscale\": [[0.0, \"#0d0887\"], [0.1111111111111111, \"#46039f\"], [0.2222222222222222, \"#7201a8\"], [0.3333333333333333, \"#9c179e\"], [0.4444444444444444, \"#bd3786\"], [0.5555555555555556, \"#d8576b\"], [0.6666666666666666, \"#ed7953\"], [0.7777777777777778, \"#fb9f3a\"], [0.8888888888888888, \"#fdca26\"], [1.0, \"#f0f921\"]], \"type\": \"heatmap\"}], \"heatmapgl\": [{\"colorbar\": {\"outlinewidth\": 0, \"ticks\": \"\"}, \"colorscale\": [[0.0, \"#0d0887\"], [0.1111111111111111, \"#46039f\"], [0.2222222222222222, \"#7201a8\"], [0.3333333333333333, \"#9c179e\"], [0.4444444444444444, \"#bd3786\"], [0.5555555555555556, \"#d8576b\"], [0.6666666666666666, \"#ed7953\"], [0.7777777777777778, \"#fb9f3a\"], [0.8888888888888888, \"#fdca26\"], [1.0, \"#f0f921\"]], \"type\": \"heatmapgl\"}], \"histogram\": [{\"marker\": {\"colorbar\": {\"outlinewidth\": 0, \"ticks\": \"\"}}, \"type\": \"histogram\"}], \"histogram2d\": [{\"colorbar\": {\"outlinewidth\": 0, \"ticks\": \"\"}, \"colorscale\": [[0.0, \"#0d0887\"], [0.1111111111111111, \"#46039f\"], [0.2222222222222222, \"#7201a8\"], [0.3333333333333333, \"#9c179e\"], [0.4444444444444444, \"#bd3786\"], [0.5555555555555556, \"#d8576b\"], [0.6666666666666666, \"#ed7953\"], [0.7777777777777778, \"#fb9f3a\"], [0.8888888888888888, \"#fdca26\"], [1.0, \"#f0f921\"]], \"type\": \"histogram2d\"}], \"histogram2dcontour\": [{\"colorbar\": {\"outlinewidth\": 0, \"ticks\": \"\"}, \"colorscale\": [[0.0, \"#0d0887\"], [0.1111111111111111, \"#46039f\"], [0.2222222222222222, \"#7201a8\"], [0.3333333333333333, \"#9c179e\"], [0.4444444444444444, \"#bd3786\"], [0.5555555555555556, \"#d8576b\"], [0.6666666666666666, \"#ed7953\"], [0.7777777777777778, \"#fb9f3a\"], [0.8888888888888888, \"#fdca26\"], [1.0, \"#f0f921\"]], \"type\": \"histogram2dcontour\"}], \"mesh3d\": [{\"colorbar\": {\"outlinewidth\": 0, \"ticks\": \"\"}, \"type\": \"mesh3d\"}], \"parcoords\": [{\"line\": {\"colorbar\": {\"outlinewidth\": 0, \"ticks\": \"\"}}, \"type\": \"parcoords\"}], \"pie\": [{\"automargin\": true, \"type\": \"pie\"}], \"scatter\": [{\"marker\": {\"colorbar\": {\"outlinewidth\": 0, \"ticks\": \"\"}}, \"type\": \"scatter\"}], \"scatter3d\": [{\"line\": {\"colorbar\": {\"outlinewidth\": 0, \"ticks\": \"\"}}, \"marker\": {\"colorbar\": {\"outlinewidth\": 0, \"ticks\": \"\"}}, \"type\": \"scatter3d\"}], \"scattercarpet\": [{\"marker\": {\"colorbar\": {\"outlinewidth\": 0, \"ticks\": \"\"}}, \"type\": \"scattercarpet\"}], \"scattergeo\": [{\"marker\": {\"colorbar\": {\"outlinewidth\": 0, \"ticks\": \"\"}}, \"type\": \"scattergeo\"}], \"scattergl\": [{\"marker\": {\"colorbar\": {\"outlinewidth\": 0, \"ticks\": \"\"}}, \"type\": \"scattergl\"}], \"scattermapbox\": [{\"marker\": {\"colorbar\": {\"outlinewidth\": 0, \"ticks\": \"\"}}, \"type\": \"scattermapbox\"}], \"scatterpolar\": [{\"marker\": {\"colorbar\": {\"outlinewidth\": 0, \"ticks\": \"\"}}, \"type\": \"scatterpolar\"}], \"scatterpolargl\": [{\"marker\": {\"colorbar\": {\"outlinewidth\": 0, \"ticks\": \"\"}}, \"type\": \"scatterpolargl\"}], \"scatterternary\": [{\"marker\": {\"colorbar\": {\"outlinewidth\": 0, \"ticks\": \"\"}}, \"type\": \"scatterternary\"}], \"surface\": [{\"colorbar\": {\"outlinewidth\": 0, \"ticks\": \"\"}, \"colorscale\": [[0.0, \"#0d0887\"], [0.1111111111111111, \"#46039f\"], [0.2222222222222222, \"#7201a8\"], [0.3333333333333333, \"#9c179e\"], [0.4444444444444444, \"#bd3786\"], [0.5555555555555556, \"#d8576b\"], [0.6666666666666666, \"#ed7953\"], [0.7777777777777778, \"#fb9f3a\"], [0.8888888888888888, \"#fdca26\"], [1.0, \"#f0f921\"]], \"type\": \"surface\"}], \"table\": [{\"cells\": {\"fill\": {\"color\": \"#EBF0F8\"}, \"line\": {\"color\": \"white\"}}, \"header\": {\"fill\": {\"color\": \"#C8D4E3\"}, \"line\": {\"color\": \"white\"}}, \"type\": \"table\"}]}, \"layout\": {\"annotationdefaults\": {\"arrowcolor\": \"#2a3f5f\", \"arrowhead\": 0, \"arrowwidth\": 1}, \"autotypenumbers\": \"strict\", \"coloraxis\": {\"colorbar\": {\"outlinewidth\": 0, \"ticks\": \"\"}}, \"colorscale\": {\"diverging\": [[0, \"#8e0152\"], [0.1, \"#c51b7d\"], [0.2, \"#de77ae\"], [0.3, \"#f1b6da\"], [0.4, \"#fde0ef\"], [0.5, \"#f7f7f7\"], [0.6, \"#e6f5d0\"], [0.7, \"#b8e186\"], [0.8, \"#7fbc41\"], [0.9, \"#4d9221\"], [1, \"#276419\"]], \"sequential\": [[0.0, \"#0d0887\"], [0.1111111111111111, \"#46039f\"], [0.2222222222222222, \"#7201a8\"], [0.3333333333333333, \"#9c179e\"], [0.4444444444444444, \"#bd3786\"], [0.5555555555555556, \"#d8576b\"], [0.6666666666666666, \"#ed7953\"], [0.7777777777777778, \"#fb9f3a\"], [0.8888888888888888, \"#fdca26\"], [1.0, \"#f0f921\"]], \"sequentialminus\": [[0.0, \"#0d0887\"], [0.1111111111111111, \"#46039f\"], [0.2222222222222222, \"#7201a8\"], [0.3333333333333333, \"#9c179e\"], [0.4444444444444444, \"#bd3786\"], [0.5555555555555556, \"#d8576b\"], [0.6666666666666666, \"#ed7953\"], [0.7777777777777778, \"#fb9f3a\"], [0.8888888888888888, \"#fdca26\"], [1.0, \"#f0f921\"]]}, \"colorway\": [\"#636efa\", \"#EF553B\", \"#00cc96\", \"#ab63fa\", \"#FFA15A\", \"#19d3f3\", \"#FF6692\", \"#B6E880\", \"#FF97FF\", \"#FECB52\"], \"font\": {\"color\": \"#2a3f5f\"}, \"geo\": {\"bgcolor\": \"white\", \"lakecolor\": \"white\", \"landcolor\": \"#E5ECF6\", \"showlakes\": true, \"showland\": true, \"subunitcolor\": \"white\"}, \"hoverlabel\": {\"align\": \"left\"}, \"hovermode\": \"closest\", \"mapbox\": {\"style\": \"light\"}, \"paper_bgcolor\": \"white\", \"plot_bgcolor\": \"#E5ECF6\", \"polar\": {\"angularaxis\": {\"gridcolor\": \"white\", \"linecolor\": \"white\", \"ticks\": \"\"}, \"bgcolor\": \"#E5ECF6\", \"radialaxis\": {\"gridcolor\": \"white\", \"linecolor\": \"white\", \"ticks\": \"\"}}, \"scene\": {\"xaxis\": {\"backgroundcolor\": \"#E5ECF6\", \"gridcolor\": \"white\", \"gridwidth\": 2, \"linecolor\": \"white\", \"showbackground\": true, \"ticks\": \"\", \"zerolinecolor\": \"white\"}, \"yaxis\": {\"backgroundcolor\": \"#E5ECF6\", \"gridcolor\": \"white\", \"gridwidth\": 2, \"linecolor\": \"white\", \"showbackground\": true, \"ticks\": \"\", \"zerolinecolor\": \"white\"}, \"zaxis\": {\"backgroundcolor\": \"#E5ECF6\", \"gridcolor\": \"white\", \"gridwidth\": 2, \"linecolor\": \"white\", \"showbackground\": true, \"ticks\": \"\", \"zerolinecolor\": \"white\"}}, \"shapedefaults\": {\"line\": {\"color\": \"#2a3f5f\"}}, \"ternary\": {\"aaxis\": {\"gridcolor\": \"white\", \"linecolor\": \"white\", \"ticks\": \"\"}, \"baxis\": {\"gridcolor\": \"white\", \"linecolor\": \"white\", \"ticks\": \"\"}, \"bgcolor\": \"#E5ECF6\", \"caxis\": {\"gridcolor\": \"white\", \"linecolor\": \"white\", \"ticks\": \"\"}}, \"title\": {\"x\": 0.05}, \"xaxis\": {\"automargin\": true, \"gridcolor\": \"white\", \"linecolor\": \"white\", \"ticks\": \"\", \"title\": {\"standoff\": 15}, \"zerolinecolor\": \"white\", \"zerolinewidth\": 2}, \"yaxis\": {\"automargin\": true, \"gridcolor\": \"white\", \"linecolor\": \"white\", \"ticks\": \"\", \"title\": {\"standoff\": 15}, \"zerolinecolor\": \"white\", \"zerolinewidth\": 2}}}, \"xaxis\": {\"anchor\": \"y\", \"domain\": [0.0, 1.0], \"showspikes\": true, \"title\": {\"text\": \"Epoch\"}}, \"yaxis\": {\"anchor\": \"x\", \"domain\": [0.0, 1.0], \"title\": {\"text\": \"value\"}}},                        {\"responsive\": true}                    ).then(function(){\n",
       "                            \n",
       "var gd = document.getElementById('a9c1a2b2-5f52-4257-9677-fd2a50a05a21');\n",
       "var x = new MutationObserver(function (mutations, observer) {{\n",
       "        var display = window.getComputedStyle(gd).display;\n",
       "        if (!display || display === 'none') {{\n",
       "            console.log([gd, 'removed!']);\n",
       "            Plotly.purge(gd);\n",
       "            observer.disconnect();\n",
       "        }}\n",
       "}});\n",
       "\n",
       "// Listen for the removal of the full notebook cells\n",
       "var notebookContainer = gd.closest('#notebook-container');\n",
       "if (notebookContainer) {{\n",
       "    x.observe(notebookContainer, {childList: true});\n",
       "}}\n",
       "\n",
       "// Listen for the clearing of the current output cell\n",
       "var outputEl = gd.closest('.output');\n",
       "if (outputEl) {{\n",
       "    x.observe(outputEl, {childList: true});\n",
       "}}\n",
       "\n",
       "                        })                };                });            </script>        </div>"
      ]
     },
     "metadata": {},
     "output_type": "display_data"
    },
    {
     "data": {
      "text/html": [
       "<style  type=\"text/css\" >\n",
       "#T_d3543_row0_col0,#T_d3543_row0_col1,#T_d3543_row0_col2,#T_d3543_row1_col0,#T_d3543_row1_col1,#T_d3543_row1_col2,#T_d3543_row2_col0,#T_d3543_row2_col1,#T_d3543_row2_col2,#T_d3543_row3_col0,#T_d3543_row3_col1,#T_d3543_row3_col2,#T_d3543_row4_col0,#T_d3543_row4_col1,#T_d3543_row4_col2{\n",
       "            background-color:  #fff7fb;\n",
       "        }</style><table id=\"T_d3543_\" ><thead>    <tr>        <th class=\"index_name level0\" >n_factorss</th>        <th class=\"col_heading level0 col0\" >10</th>        <th class=\"col_heading level0 col1\" >15</th>        <th class=\"col_heading level0 col2\" >20</th>    </tr>    <tr>        <th class=\"index_name level0\" >lrs</th>        <th class=\"blank\" ></th>        <th class=\"blank\" ></th>        <th class=\"blank\" ></th>    </tr></thead><tbody>\n",
       "                <tr>\n",
       "                        <th id=\"T_d3543_level0_row0\" class=\"row_heading level0 row0\" >0.005</th>\n",
       "                        <td id=\"T_d3543_row0_col0\" class=\"data row0 col0\" >0.8692</td>\n",
       "                        <td id=\"T_d3543_row0_col1\" class=\"data row0 col1\" >0.8576</td>\n",
       "                        <td id=\"T_d3543_row0_col2\" class=\"data row0 col2\" >0.8527</td>\n",
       "            </tr>\n",
       "            <tr>\n",
       "                        <th id=\"T_d3543_level0_row1\" class=\"row_heading level0 row1\" >0.0075</th>\n",
       "                        <td id=\"T_d3543_row1_col0\" class=\"data row1 col0\" >0.8514</td>\n",
       "                        <td id=\"T_d3543_row1_col1\" class=\"data row1 col1\" >0.8520</td>\n",
       "                        <td id=\"T_d3543_row1_col2\" class=\"data row1 col2\" >0.8525</td>\n",
       "            </tr>\n",
       "            <tr>\n",
       "                        <th id=\"T_d3543_level0_row2\" class=\"row_heading level0 row2\" >0.01</th>\n",
       "                        <td id=\"T_d3543_row2_col0\" class=\"data row2 col0\" >0.8416</td>\n",
       "                        <td id=\"T_d3543_row2_col1\" class=\"data row2 col1\" >0.8406</td>\n",
       "                        <td id=\"T_d3543_row2_col2\" class=\"data row2 col2\" >0.8421</td>\n",
       "            </tr>\n",
       "            <tr>\n",
       "                        <th id=\"T_d3543_level0_row3\" class=\"row_heading level0 row3\" >0.0125</th>\n",
       "                        <td id=\"T_d3543_row3_col0\" class=\"data row3 col0\" >0.8444</td>\n",
       "                        <td id=\"T_d3543_row3_col1\" class=\"data row3 col1\" >0.8601</td>\n",
       "                        <td id=\"T_d3543_row3_col2\" class=\"data row3 col2\" >0.8540</td>\n",
       "            </tr>\n",
       "            <tr>\n",
       "                        <th id=\"T_d3543_level0_row4\" class=\"row_heading level0 row4\" >0.015</th>\n",
       "                        <td id=\"T_d3543_row4_col0\" class=\"data row4 col0\" >0.8549</td>\n",
       "                        <td id=\"T_d3543_row4_col1\" class=\"data row4 col1\" >0.8570</td>\n",
       "                        <td id=\"T_d3543_row4_col2\" class=\"data row4 col2\" >0.8591</td>\n",
       "            </tr>\n",
       "    </tbody></table>"
      ],
      "text/plain": [
       "<pandas.io.formats.style.Styler at 0x23008528248>"
      ]
     },
     "execution_count": 21,
     "metadata": {},
     "output_type": "execute_result"
    }
   ],
   "source": [
    "with open('funk_results.json') as f:\n",
    "    hists = json.load(f)\n",
    "\n",
    "best = min(hists, key= lambda x: min(x.get('hist', {}).get('test_RMSE', [float('inf')])))\n",
    "funk_best_lr = best['lr']\n",
    "funk_best_reg = best['reg']\n",
    "funk_best_n_factors = best['n_factors']\n",
    "funk_best_n_epochs = np.argmin(best['hist']['test_RMSE'])\n",
    "best_hist = best['hist']\n",
    "plot_experiment(best_hist)\n",
    "\n",
    "plot_color_map(hists, 'n_factors', 'lr')"
   ]
  },
  {
   "cell_type": "code",
   "execution_count": 22,
   "metadata": {},
   "outputs": [
    {
     "data": {
      "text/html": [
       "<style  type=\"text/css\" >\n",
       "#T_16746_row0_col0,#T_16746_row0_col1,#T_16746_row0_col2,#T_16746_row1_col0,#T_16746_row1_col1,#T_16746_row1_col2,#T_16746_row2_col0,#T_16746_row2_col1,#T_16746_row2_col2{\n",
       "            background-color:  #fff7fb;\n",
       "        }</style><table id=\"T_16746_\" ><thead>    <tr>        <th class=\"index_name level0\" >n_factorss</th>        <th class=\"col_heading level0 col0\" >10</th>        <th class=\"col_heading level0 col1\" >15</th>        <th class=\"col_heading level0 col2\" >20</th>    </tr>    <tr>        <th class=\"index_name level0\" >regs</th>        <th class=\"blank\" ></th>        <th class=\"blank\" ></th>        <th class=\"blank\" ></th>    </tr></thead><tbody>\n",
       "                <tr>\n",
       "                        <th id=\"T_16746_level0_row0\" class=\"row_heading level0 row0\" >0.02</th>\n",
       "                        <td id=\"T_16746_row0_col0\" class=\"data row0 col0\" >0.8692</td>\n",
       "                        <td id=\"T_16746_row0_col1\" class=\"data row0 col1\" >0.8714</td>\n",
       "                        <td id=\"T_16746_row0_col2\" class=\"data row0 col2\" >0.8747</td>\n",
       "            </tr>\n",
       "            <tr>\n",
       "                        <th id=\"T_16746_level0_row1\" class=\"row_heading level0 row1\" >0.03</th>\n",
       "                        <td id=\"T_16746_row1_col0\" class=\"data row1 col0\" >0.8525</td>\n",
       "                        <td id=\"T_16746_row1_col1\" class=\"data row1 col1\" >0.8576</td>\n",
       "                        <td id=\"T_16746_row1_col2\" class=\"data row1 col2\" >0.8643</td>\n",
       "            </tr>\n",
       "            <tr>\n",
       "                        <th id=\"T_16746_level0_row2\" class=\"row_heading level0 row2\" >0.04</th>\n",
       "                        <td id=\"T_16746_row2_col0\" class=\"data row2 col0\" >0.8601</td>\n",
       "                        <td id=\"T_16746_row2_col1\" class=\"data row2 col1\" >0.8621</td>\n",
       "                        <td id=\"T_16746_row2_col2\" class=\"data row2 col2\" >0.8666</td>\n",
       "            </tr>\n",
       "    </tbody></table>"
      ],
      "text/plain": [
       "<pandas.io.formats.style.Styler at 0x230084428c8>"
      ]
     },
     "execution_count": 22,
     "metadata": {},
     "output_type": "execute_result"
    }
   ],
   "source": [
    "plot_color_map(hists, 'n_factors', 'reg')"
   ]
  },
  {
   "cell_type": "markdown",
   "metadata": {},
   "source": [
    "## Run Ensemble"
   ]
  },
  {
   "cell_type": "code",
   "execution_count": 24,
   "metadata": {
    "colab": {
     "base_uri": "https://localhost:8080/"
    },
    "id": "mSqEPw0RvulF",
    "outputId": "cb835b42-7cbc-4d3e-c6e0-9fff95753014"
   },
   "outputs": [
    {
     "name": "stdout",
     "output_type": "stream",
     "text": [
      "Running SVT with best found parameters...\n"
     ]
    },
    {
     "name": "stderr",
     "output_type": "stream",
     "text": [
      "Iteration: 100%|██████████| 472/472 [38:57<00:00,  4.95s/it, test_Loss=0.762, test_RMSE=0.873, test_MAE=0.680]\n"
     ]
    }
   ],
   "source": [
    "print(f\"Running SVT with best found parameters...\")\n",
    "hist, model1 = run_svt(train=M_train_df, test=M_test_df,\n",
    "                tau=svt_best_tau,\n",
    "                delta=svt_best_delta,\n",
    "                n_epochs=svt_best_n_epochs)"
   ]
  },
  {
   "cell_type": "code",
   "execution_count": 25,
   "metadata": {},
   "outputs": [
    {
     "name": "stdout",
     "output_type": "stream",
     "text": [
      "Running Funk-SVD with best found parameters...\n"
     ]
    },
    {
     "name": "stderr",
     "output_type": "stream",
     "text": [
      "Epoch: 100%|████████████████| 19/19 [15:25<00:00, 48.72s/it, test_Loss=0.706, test_RMSE=0.840, test_MAE=0.658]\n"
     ]
    }
   ],
   "source": [
    "print(f\"Running Funk-SVD with best found parameters...\")\n",
    "hist, model2 = run_funk(train=train_df, test=test_df,\n",
    "\t\tlr=funk_best_lr,\n",
    "\t\treg=funk_best_reg,\n",
    "\t\tn_epochs=funk_best_n_epochs,\n",
    "\t\tn_factors=funk_best_n_factors)"
   ]
  },
  {
   "cell_type": "code",
   "execution_count": 26,
   "metadata": {
    "colab": {
     "base_uri": "https://localhost:8080/",
     "height": 996
    },
    "id": "v6tkVLuYdfw6",
    "outputId": "c04a53fb-c2e0-4cab-c192-a13ba991cd9c"
   },
   "outputs": [
    {
     "name": "stdout",
     "output_type": "stream",
     "text": [
      "Best ensemble weights: (0.31999999999999995, 0.68)\n"
     ]
    }
   ],
   "source": [
    "params = [(1-x, x) for x in [0.01*i for i in range(101)]]\n",
    "validation_true = validation_df['Rating'].values.ravel()\n",
    "\n",
    "best_score = float('inf')\n",
    "best_weight=None\n",
    "best_ensemble = None\n",
    "for weight in params:\n",
    "    ensemble = Ensemble(models=[model1, model2], weights=weight)    \n",
    "    ensemble_validation_pred = np.array(ensemble.predict(validation_df)).ravel()\n",
    "    score = rmse(ensemble_validation_pred,validation_true)\n",
    "    if score < best_score:\n",
    "        best_score = score\n",
    "        best_weight = weight\n",
    "        best_ensemble = ensemble\n",
    "\n",
    "print(f\"Best ensemble weights: {best_weight}\")"
   ]
  },
  {
   "cell_type": "code",
   "execution_count": 27,
   "metadata": {},
   "outputs": [
    {
     "name": "stdout",
     "output_type": "stream",
     "text": [
      "Test RMSE with SVT: 0.873\n",
      "Test RMSE with FunkSVD: 0.840\n",
      "Test RMSE with Ensemble: 0.828\n"
     ]
    }
   ],
   "source": [
    "model1_test_pred = model1.predict(test_df)\n",
    "model2_test_pred = model2.predict(test_df)\n",
    "\n",
    "ensemble_test_pred = best_ensemble.predict(test_df)\n",
    "test_true = test_df['Rating'].values.ravel()\n",
    "\n",
    "print(f\"Test RMSE with SVT: {rmse(model1_test_pred,test_true):.3f}\")\n",
    "print(f\"Test RMSE with FunkSVD: {rmse(model2_test_pred,test_true):.3f}\")\n",
    "print(f\"Test RMSE with Ensemble: {rmse(ensemble_test_pred,test_true):.3f}\")"
   ]
  },
  {
   "cell_type": "code",
   "execution_count": 28,
   "metadata": {},
   "outputs": [
    {
     "data": {
      "text/html": [
       "<style  type=\"text/css\" >\n",
       "</style><table id=\"T_4c08a_\" ><thead>    <tr>        <th class=\"blank level0\" ></th>        <th class=\"col_heading level0 col0\" >RMSE_SVT</th>        <th class=\"col_heading level0 col1\" >RMSE_FUNK</th>        <th class=\"col_heading level0 col2\" >RMSE_ENSEMBLE</th>    </tr></thead><tbody>\n",
       "                <tr>\n",
       "                        <th id=\"T_4c08a_level0_row0\" class=\"row_heading level0 row0\" >mean</th>\n",
       "                        <td id=\"T_4c08a_row0_col0\" class=\"data row0 col0\" >0.7144</td>\n",
       "                        <td id=\"T_4c08a_row0_col1\" class=\"data row0 col1\" >0.6885</td>\n",
       "                        <td id=\"T_4c08a_row0_col2\" class=\"data row0 col2\" >0.6813</td>\n",
       "            </tr>\n",
       "            <tr>\n",
       "                        <th id=\"T_4c08a_level0_row1\" class=\"row_heading level0 row1\" >std</th>\n",
       "                        <td id=\"T_4c08a_row1_col0\" class=\"data row1 col0\" >0.5126</td>\n",
       "                        <td id=\"T_4c08a_row1_col1\" class=\"data row1 col1\" >0.4861</td>\n",
       "                        <td id=\"T_4c08a_row1_col2\" class=\"data row1 col2\" >0.4776</td>\n",
       "            </tr>\n",
       "            <tr>\n",
       "                        <th id=\"T_4c08a_level0_row2\" class=\"row_heading level0 row2\" >25%</th>\n",
       "                        <td id=\"T_4c08a_row2_col0\" class=\"data row2 col0\" >0.3357</td>\n",
       "                        <td id=\"T_4c08a_row2_col1\" class=\"data row2 col1\" >0.3205</td>\n",
       "                        <td id=\"T_4c08a_row2_col2\" class=\"data row2 col2\" >0.3216</td>\n",
       "            </tr>\n",
       "            <tr>\n",
       "                        <th id=\"T_4c08a_level0_row3\" class=\"row_heading level0 row3\" >50%</th>\n",
       "                        <td id=\"T_4c08a_row3_col0\" class=\"data row3 col0\" >0.6144</td>\n",
       "                        <td id=\"T_4c08a_row3_col1\" class=\"data row3 col1\" >0.6128</td>\n",
       "                        <td id=\"T_4c08a_row3_col2\" class=\"data row3 col2\" >0.5980</td>\n",
       "            </tr>\n",
       "            <tr>\n",
       "                        <th id=\"T_4c08a_level0_row4\" class=\"row_heading level0 row4\" >75%</th>\n",
       "                        <td id=\"T_4c08a_row4_col0\" class=\"data row4 col0\" >0.9913</td>\n",
       "                        <td id=\"T_4c08a_row4_col1\" class=\"data row4 col1\" >0.9478</td>\n",
       "                        <td id=\"T_4c08a_row4_col2\" class=\"data row4 col2\" >0.9300</td>\n",
       "            </tr>\n",
       "    </tbody></table>"
      ],
      "text/plain": [
       "<pandas.io.formats.style.Styler at 0x230084adbc8>"
      ]
     },
     "metadata": {},
     "output_type": "display_data"
    },
    {
     "name": "stdout",
     "output_type": "stream",
     "text": [
      "\n"
     ]
    },
    {
     "data": {
      "text/html": [
       "<style  type=\"text/css\" >\n",
       "</style><table id=\"T_85d6e_\" ><thead>    <tr>        <th class=\"blank level0\" ></th>        <th class=\"col_heading level0 col0\" >RMSE_SVT</th>        <th class=\"col_heading level0 col1\" >RMSE_FUNK</th>        <th class=\"col_heading level0 col2\" >RMSE_ENSEMBLE</th>    </tr></thead><tbody>\n",
       "                <tr>\n",
       "                        <th id=\"T_85d6e_level0_row0\" class=\"row_heading level0 row0\" >mean</th>\n",
       "                        <td id=\"T_85d6e_row0_col0\" class=\"data row0 col0\" >0.7489</td>\n",
       "                        <td id=\"T_85d6e_row0_col1\" class=\"data row0 col1\" >0.7102</td>\n",
       "                        <td id=\"T_85d6e_row0_col2\" class=\"data row0 col2\" >0.7045</td>\n",
       "            </tr>\n",
       "            <tr>\n",
       "                        <th id=\"T_85d6e_level0_row1\" class=\"row_heading level0 row1\" >std</th>\n",
       "                        <td id=\"T_85d6e_row1_col0\" class=\"data row1 col0\" >0.4860</td>\n",
       "                        <td id=\"T_85d6e_row1_col1\" class=\"data row1 col1\" >0.4628</td>\n",
       "                        <td id=\"T_85d6e_row1_col2\" class=\"data row1 col2\" >0.4525</td>\n",
       "            </tr>\n",
       "            <tr>\n",
       "                        <th id=\"T_85d6e_level0_row2\" class=\"row_heading level0 row2\" >25%</th>\n",
       "                        <td id=\"T_85d6e_row2_col0\" class=\"data row2 col0\" >0.4002</td>\n",
       "                        <td id=\"T_85d6e_row2_col1\" class=\"data row2 col1\" >0.3779</td>\n",
       "                        <td id=\"T_85d6e_row2_col2\" class=\"data row2 col2\" >0.3838</td>\n",
       "            </tr>\n",
       "            <tr>\n",
       "                        <th id=\"T_85d6e_level0_row3\" class=\"row_heading level0 row3\" >50%</th>\n",
       "                        <td id=\"T_85d6e_row3_col0\" class=\"data row3 col0\" >0.6663</td>\n",
       "                        <td id=\"T_85d6e_row3_col1\" class=\"data row3 col1\" >0.6355</td>\n",
       "                        <td id=\"T_85d6e_row3_col2\" class=\"data row3 col2\" >0.6320</td>\n",
       "            </tr>\n",
       "            <tr>\n",
       "                        <th id=\"T_85d6e_level0_row4\" class=\"row_heading level0 row4\" >75%</th>\n",
       "                        <td id=\"T_85d6e_row4_col0\" class=\"data row4 col0\" >1.0021</td>\n",
       "                        <td id=\"T_85d6e_row4_col1\" class=\"data row4 col1\" >0.9660</td>\n",
       "                        <td id=\"T_85d6e_row4_col2\" class=\"data row4 col2\" >0.9353</td>\n",
       "            </tr>\n",
       "    </tbody></table>"
      ],
      "text/plain": [
       "<pandas.io.formats.style.Styler at 0x230085a5bc8>"
      ]
     },
     "metadata": {},
     "output_type": "display_data"
    },
    {
     "name": "stdout",
     "output_type": "stream",
     "text": [
      "\n"
     ]
    },
    {
     "data": {
      "image/png": "[encoded data removed]",
      "text/plain": [
       "<Figure size 432x288 with 1 Axes>"
      ]
     },
     "metadata": {
      "needs_background": "light"
     },
     "output_type": "display_data"
    },
    {
     "data": {
      "image/png": "[encoded data removed]",
      "text/plain": [
       "<Figure size 432x288 with 1 Axes>"
      ]
     },
     "metadata": {
      "needs_background": "light"
     },
     "output_type": "display_data"
    },
    {
     "data": {
      "image/png": "[encoded data removed]",
      "text/plain": [
       "<Figure size 432x288 with 1 Axes>"
      ]
     },
     "metadata": {
      "needs_background": "light"
     },
     "output_type": "display_data"
    },
    {
     "data": {
      "image/png": "[encoded data removed]",
      "text/plain": [
       "<Figure size 432x288 with 1 Axes>"
      ]
     },
     "metadata": {
      "needs_background": "light"
     },
     "output_type": "display_data"
    },
    {
     "data": {
      "image/png": "[encoded data removed]",
      "text/plain": [
       "<Figure size 432x288 with 1 Axes>"
      ]
     },
     "metadata": {
      "needs_background": "light"
     },
     "output_type": "display_data"
    },
    {
     "data": {
      "image/png": "[encoded data removed]",
      "text/plain": [
       "<Figure size 432x288 with 1 Axes>"
      ]
     },
     "metadata": {
      "needs_background": "light"
     },
     "output_type": "display_data"
    }
   ],
   "source": [
    "test_df['Pred_SVT'] = np.array(model1_test_pred)\n",
    "test_df['Pred_FUNK'] = np.array(model2_test_pred)\n",
    "test_df['Pred_ENSEMBLE'] = np.array(ensemble_test_pred)\n",
    "\n",
    "def analyze_final(test_df, by_col):\n",
    "    dic = {by_col:[], 'RMSE_SVT':[], 'RMSE_FUNK':[], 'RMSE_ENSEMBLE':[]}\n",
    "    for u_id in np.unique(test_df[by_col]):\n",
    "        by_df = test_df.loc[(test_df[by_col] == u_id)]\n",
    "        pred1 = rmse(by_df['Rating'], by_df['Pred_SVT'])\n",
    "        pred2 = rmse(by_df['Rating'], by_df['Pred_FUNK'])\n",
    "        pred3 = rmse(by_df['Rating'], by_df['Pred_ENSEMBLE'])\n",
    "        dic[by_col].append(u_id)\n",
    "        dic['RMSE_SVT'].append(pred1)\n",
    "        dic['RMSE_FUNK'].append(pred2)\n",
    "        dic['RMSE_ENSEMBLE'].append(pred3)\n",
    "\n",
    "    df = pd.DataFrame(dic)\n",
    "    table= df.describe()\n",
    "    table.drop(['count', 'min', 'max'], axis=0, inplace=True)\n",
    "    table.drop([by_col], axis=1, inplace=True)\n",
    "    display(table.style.format(\"{:.4f}\"))\n",
    "    print()\n",
    "\n",
    "    df.plot(kind='scatter', x=by_col, y='RMSE_SVT', alpha=.3)\n",
    "    df.plot(kind='scatter', x=by_col, y='RMSE_FUNK', alpha=.3)\n",
    "    df.plot(kind='scatter', x=by_col, y='RMSE_ENSEMBLE', alpha=.3)\n",
    "\n",
    "    \n",
    "analyze_final(test_df, 'UserID')\n",
    "analyze_final(test_df, 'MovieID')"
   ]
  }
 ],
 "metadata": {
  "accelerator": "GPU",
  "colab": {
   "collapsed_sections": [],
   "name": "Ex3.ipynb",
   "provenance": []
  },
  "kernelspec": {
   "display_name": "Python 3",
   "language": "python",
   "name": "python3"
  },
  "language_info": {
   "codemirror_mode": {
    "name": "ipython",
    "version": 3
   },
   "file_extension": ".py",
   "mimetype": "text/x-python",
   "name": "python",
   "nbconvert_exporter": "python",
   "pygments_lexer": "ipython3",
   "version": "3.7.5"
  }
 },
 "nbformat": 4,
 "nbformat_minor": 1
}
