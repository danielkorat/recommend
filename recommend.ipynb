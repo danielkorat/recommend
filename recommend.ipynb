{
 "cells": [
  {
   "cell_type": "code",
   "execution_count": 1,
   "metadata": {},
   "outputs": [],
   "source": [
    "# import sys\n",
    "# !{sys.executable} -m pip install -U matplotlib"
   ]
  },
  {
   "cell_type": "code",
   "execution_count": 2,
   "metadata": {},
   "outputs": [],
   "source": [
    "import datetime, os, random, shutil, urllib.request, zipfile, time, warnings\n",
    "warnings.filterwarnings('ignore')\n",
    "from functools import wraps\n",
    "from math import trunc\n",
    "import numpy as np\n",
    "import pandas as pd\n",
    "from pathlib import Path\n",
    "from urllib.request import urlopen\n",
    "from zipfile import ZipFile\n",
    "from scipy.sparse.linalg import norm\n",
    "import scipy.sparse as ss\n",
    "from scipy.sparse.linalg import svds\n",
    "from tqdm import tqdm\n",
    "from numba import njit\n",
    "from sklearn.metrics import mean_squared_error as mse\n",
    "\n",
    "SEED = 123\n",
    "def seed_everything(seed=SEED):\n",
    "    random.seed(seed)\n",
    "    os.environ['PYTHONHASHSEED'] = str(seed)\n",
    "    np.random.seed(seed)\n",
    "#     torch.manual_seed(seed)\n",
    "#     torch.cuda.manual_seed(seed)\n",
    "#     torch.backends.cudnn.deterministic = True\n",
    "seed_everything()"
   ]
  },
  {
   "cell_type": "markdown",
   "metadata": {
    "id": "8mktkcXOFQrw"
   },
   "source": [
    "# Preprocessing"
   ]
  },
  {
   "cell_type": "code",
   "execution_count": 3,
   "metadata": {
    "id": "te-qO_lGEkBr"
   },
   "outputs": [],
   "source": [
    "def rmse(y_true, y_pred):\n",
    "    return mse(y_true, y_pred, squared=False)"
   ]
  },
  {
   "cell_type": "code",
   "execution_count": 4,
   "metadata": {
    "id": "lj_Na91f60Vw"
   },
   "outputs": [
    {
     "data": {
      "text/html": [
       "<div>\n",
       "<style scoped>\n",
       "    .dataframe tbody tr th:only-of-type {\n",
       "        vertical-align: middle;\n",
       "    }\n",
       "\n",
       "    .dataframe tbody tr th {\n",
       "        vertical-align: top;\n",
       "    }\n",
       "\n",
       "    .dataframe thead th {\n",
       "        text-align: right;\n",
       "    }\n",
       "</style>\n",
       "<table border=\"1\" class=\"dataframe\">\n",
       "  <thead>\n",
       "    <tr style=\"text-align: right;\">\n",
       "      <th></th>\n",
       "      <th>UserID</th>\n",
       "      <th>MovieID</th>\n",
       "      <th>Rating</th>\n",
       "      <th>Timestamp</th>\n",
       "    </tr>\n",
       "  </thead>\n",
       "  <tbody>\n",
       "    <tr>\n",
       "      <th>0</th>\n",
       "      <td>1</td>\n",
       "      <td>1193</td>\n",
       "      <td>5</td>\n",
       "      <td>978300760</td>\n",
       "    </tr>\n",
       "    <tr>\n",
       "      <th>1</th>\n",
       "      <td>1</td>\n",
       "      <td>661</td>\n",
       "      <td>3</td>\n",
       "      <td>978302109</td>\n",
       "    </tr>\n",
       "    <tr>\n",
       "      <th>2</th>\n",
       "      <td>1</td>\n",
       "      <td>914</td>\n",
       "      <td>3</td>\n",
       "      <td>978301968</td>\n",
       "    </tr>\n",
       "    <tr>\n",
       "      <th>3</th>\n",
       "      <td>1</td>\n",
       "      <td>3408</td>\n",
       "      <td>4</td>\n",
       "      <td>978300275</td>\n",
       "    </tr>\n",
       "    <tr>\n",
       "      <th>4</th>\n",
       "      <td>1</td>\n",
       "      <td>2355</td>\n",
       "      <td>5</td>\n",
       "      <td>978824291</td>\n",
       "    </tr>\n",
       "  </tbody>\n",
       "</table>\n",
       "</div>"
      ],
      "text/plain": [
       "  UserID MovieID  Rating  Timestamp\n",
       "0      1    1193       5  978300760\n",
       "1      1     661       3  978302109\n",
       "2      1     914       3  978301968\n",
       "3      1    3408       4  978300275\n",
       "4      1    2355       5  978824291"
      ]
     },
     "execution_count": 4,
     "metadata": {},
     "output_type": "execute_result"
    }
   ],
   "source": [
    "def get_dataset():\n",
    "    path = Path(\"m1.zip\")\n",
    "    if not path.exists():\n",
    "        with path.open(\"wb\") as f:\n",
    "            print(\"Downloading dataset...\")\n",
    "            f.write(urlopen(\"http://files.grouplens.org/datasets/movielens/ml-1m.zip\").read())\n",
    "    if not Path(\"ml-1m\").is_dir():\n",
    "        with ZipFile(\"m1.zip\") as zf:\n",
    "            zf.extractall()\n",
    "    ratings_list = [i.strip().split(\"::\") for i in open('ml-1m/ratings.dat', 'r').readlines()]\n",
    "    ratings_df = pd.DataFrame(ratings_list, columns = ['UserID', 'MovieID', 'Rating', 'Timestamp'], dtype = int)\n",
    "    ratings_df['Rating'] = ratings_df['Rating'].apply(pd.to_numeric)    \n",
    "    return ratings_df\n",
    "\n",
    "ratings_df = get_dataset()\n",
    "ratings_df.head()"
   ]
  },
  {
   "cell_type": "code",
   "execution_count": 5,
   "metadata": {
    "id": "f3AqkXX3FQrx"
   },
   "outputs": [],
   "source": [
    "SEED = 123\n",
    "random.seed(SEED)"
   ]
  },
  {
   "cell_type": "code",
   "execution_count": 6,
   "metadata": {
    "colab": {
     "base_uri": "https://localhost:8080/"
    },
    "id": "Qr7qX59TFQry",
    "outputId": "8672f760-275e-4f71-ade7-d0b4d9b8f5bd"
   },
   "outputs": [
    {
     "name": "stdout",
     "output_type": "stream",
     "text": [
      "#users: 6040\n",
      "#movies: 3706\n",
      "#ratings %: 4.468362562231285\n"
     ]
    }
   ],
   "source": [
    "print(\"#users: \" + str(ratings_df.UserID.nunique()))\n",
    "print(\"#movies: \" + str(ratings_df.MovieID.nunique()))\n",
    "print(\"#ratings %: \"+ str(ratings_df.shape[0] /\\\n",
    "                          (ratings_df.UserID.nunique()*ratings_df.MovieID.nunique()) * 100))"
   ]
  },
  {
   "cell_type": "code",
   "execution_count": 7,
   "metadata": {
    "colab": {
     "base_uri": "https://localhost:8080/"
    },
    "id": "AiaxYxepFQrz",
    "outputId": "4c4916ee-3258-4424-ebab-ab32aaf19e58"
   },
   "outputs": [
    {
     "data": {
      "text/plain": [
       "count    1.000209e+06\n",
       "mean     3.581564e+00\n",
       "std      1.117102e+00\n",
       "min      1.000000e+00\n",
       "25%      3.000000e+00\n",
       "50%      4.000000e+00\n",
       "75%      4.000000e+00\n",
       "max      5.000000e+00\n",
       "Name: Rating, dtype: float64"
      ]
     },
     "execution_count": 7,
     "metadata": {},
     "output_type": "execute_result"
    }
   ],
   "source": [
    "ratings_df.Rating.describe()"
   ]
  },
  {
   "cell_type": "markdown",
   "metadata": {
    "id": "DGGKzJMNFQrz"
   },
   "source": [
    "pivot ratings_df to get user-rating matrix format"
   ]
  },
  {
   "cell_type": "code",
   "execution_count": 8,
   "metadata": {
    "colab": {
     "base_uri": "https://localhost:8080/",
     "height": 284
    },
    "id": "eEDlGk_9FQrz",
    "outputId": "c8bf3ac1-d557-4adb-9fd4-09fbe957ecb0"
   },
   "outputs": [
    {
     "data": {
      "text/html": [
       "<div>\n",
       "<style scoped>\n",
       "    .dataframe tbody tr th:only-of-type {\n",
       "        vertical-align: middle;\n",
       "    }\n",
       "\n",
       "    .dataframe tbody tr th {\n",
       "        vertical-align: top;\n",
       "    }\n",
       "\n",
       "    .dataframe thead th {\n",
       "        text-align: right;\n",
       "    }\n",
       "</style>\n",
       "<table border=\"1\" class=\"dataframe\">\n",
       "  <thead>\n",
       "    <tr style=\"text-align: right;\">\n",
       "      <th>MovieID</th>\n",
       "      <th>1</th>\n",
       "      <th>10</th>\n",
       "      <th>100</th>\n",
       "      <th>1000</th>\n",
       "      <th>1002</th>\n",
       "      <th>1003</th>\n",
       "      <th>1004</th>\n",
       "      <th>1005</th>\n",
       "      <th>1006</th>\n",
       "      <th>1007</th>\n",
       "      <th>...</th>\n",
       "      <th>99</th>\n",
       "      <th>990</th>\n",
       "      <th>991</th>\n",
       "      <th>992</th>\n",
       "      <th>993</th>\n",
       "      <th>994</th>\n",
       "      <th>996</th>\n",
       "      <th>997</th>\n",
       "      <th>998</th>\n",
       "      <th>999</th>\n",
       "    </tr>\n",
       "    <tr>\n",
       "      <th>UserID</th>\n",
       "      <th></th>\n",
       "      <th></th>\n",
       "      <th></th>\n",
       "      <th></th>\n",
       "      <th></th>\n",
       "      <th></th>\n",
       "      <th></th>\n",
       "      <th></th>\n",
       "      <th></th>\n",
       "      <th></th>\n",
       "      <th></th>\n",
       "      <th></th>\n",
       "      <th></th>\n",
       "      <th></th>\n",
       "      <th></th>\n",
       "      <th></th>\n",
       "      <th></th>\n",
       "      <th></th>\n",
       "      <th></th>\n",
       "      <th></th>\n",
       "      <th></th>\n",
       "    </tr>\n",
       "  </thead>\n",
       "  <tbody>\n",
       "    <tr>\n",
       "      <th>1</th>\n",
       "      <td>5.0</td>\n",
       "      <td>0.0</td>\n",
       "      <td>0.0</td>\n",
       "      <td>0.0</td>\n",
       "      <td>0.0</td>\n",
       "      <td>0.0</td>\n",
       "      <td>0.0</td>\n",
       "      <td>0.0</td>\n",
       "      <td>0.0</td>\n",
       "      <td>0.0</td>\n",
       "      <td>...</td>\n",
       "      <td>0.0</td>\n",
       "      <td>0.0</td>\n",
       "      <td>0.0</td>\n",
       "      <td>0.0</td>\n",
       "      <td>0.0</td>\n",
       "      <td>0.0</td>\n",
       "      <td>0.0</td>\n",
       "      <td>0.0</td>\n",
       "      <td>0.0</td>\n",
       "      <td>0.0</td>\n",
       "    </tr>\n",
       "    <tr>\n",
       "      <th>10</th>\n",
       "      <td>5.0</td>\n",
       "      <td>0.0</td>\n",
       "      <td>0.0</td>\n",
       "      <td>0.0</td>\n",
       "      <td>0.0</td>\n",
       "      <td>0.0</td>\n",
       "      <td>0.0</td>\n",
       "      <td>0.0</td>\n",
       "      <td>0.0</td>\n",
       "      <td>0.0</td>\n",
       "      <td>...</td>\n",
       "      <td>0.0</td>\n",
       "      <td>0.0</td>\n",
       "      <td>0.0</td>\n",
       "      <td>0.0</td>\n",
       "      <td>0.0</td>\n",
       "      <td>0.0</td>\n",
       "      <td>0.0</td>\n",
       "      <td>0.0</td>\n",
       "      <td>0.0</td>\n",
       "      <td>0.0</td>\n",
       "    </tr>\n",
       "    <tr>\n",
       "      <th>100</th>\n",
       "      <td>0.0</td>\n",
       "      <td>0.0</td>\n",
       "      <td>0.0</td>\n",
       "      <td>0.0</td>\n",
       "      <td>0.0</td>\n",
       "      <td>0.0</td>\n",
       "      <td>0.0</td>\n",
       "      <td>0.0</td>\n",
       "      <td>0.0</td>\n",
       "      <td>0.0</td>\n",
       "      <td>...</td>\n",
       "      <td>0.0</td>\n",
       "      <td>0.0</td>\n",
       "      <td>0.0</td>\n",
       "      <td>0.0</td>\n",
       "      <td>0.0</td>\n",
       "      <td>0.0</td>\n",
       "      <td>0.0</td>\n",
       "      <td>0.0</td>\n",
       "      <td>0.0</td>\n",
       "      <td>0.0</td>\n",
       "    </tr>\n",
       "    <tr>\n",
       "      <th>1000</th>\n",
       "      <td>5.0</td>\n",
       "      <td>0.0</td>\n",
       "      <td>0.0</td>\n",
       "      <td>0.0</td>\n",
       "      <td>0.0</td>\n",
       "      <td>0.0</td>\n",
       "      <td>0.0</td>\n",
       "      <td>0.0</td>\n",
       "      <td>0.0</td>\n",
       "      <td>0.0</td>\n",
       "      <td>...</td>\n",
       "      <td>0.0</td>\n",
       "      <td>0.0</td>\n",
       "      <td>0.0</td>\n",
       "      <td>0.0</td>\n",
       "      <td>0.0</td>\n",
       "      <td>0.0</td>\n",
       "      <td>0.0</td>\n",
       "      <td>0.0</td>\n",
       "      <td>0.0</td>\n",
       "      <td>0.0</td>\n",
       "    </tr>\n",
       "    <tr>\n",
       "      <th>1001</th>\n",
       "      <td>4.0</td>\n",
       "      <td>0.0</td>\n",
       "      <td>0.0</td>\n",
       "      <td>0.0</td>\n",
       "      <td>0.0</td>\n",
       "      <td>0.0</td>\n",
       "      <td>0.0</td>\n",
       "      <td>0.0</td>\n",
       "      <td>0.0</td>\n",
       "      <td>0.0</td>\n",
       "      <td>...</td>\n",
       "      <td>0.0</td>\n",
       "      <td>0.0</td>\n",
       "      <td>0.0</td>\n",
       "      <td>0.0</td>\n",
       "      <td>0.0</td>\n",
       "      <td>0.0</td>\n",
       "      <td>0.0</td>\n",
       "      <td>0.0</td>\n",
       "      <td>0.0</td>\n",
       "      <td>0.0</td>\n",
       "    </tr>\n",
       "  </tbody>\n",
       "</table>\n",
       "<p>5 rows × 3706 columns</p>\n",
       "</div>"
      ],
      "text/plain": [
       "MovieID    1   10  100  1000  1002  1003  1004  1005  1006  1007  ...   99  \\\n",
       "UserID                                                            ...        \n",
       "1        5.0  0.0  0.0   0.0   0.0   0.0   0.0   0.0   0.0   0.0  ...  0.0   \n",
       "10       5.0  0.0  0.0   0.0   0.0   0.0   0.0   0.0   0.0   0.0  ...  0.0   \n",
       "100      0.0  0.0  0.0   0.0   0.0   0.0   0.0   0.0   0.0   0.0  ...  0.0   \n",
       "1000     5.0  0.0  0.0   0.0   0.0   0.0   0.0   0.0   0.0   0.0  ...  0.0   \n",
       "1001     4.0  0.0  0.0   0.0   0.0   0.0   0.0   0.0   0.0   0.0  ...  0.0   \n",
       "\n",
       "MovieID  990  991  992  993  994  996  997  998  999  \n",
       "UserID                                                \n",
       "1        0.0  0.0  0.0  0.0  0.0  0.0  0.0  0.0  0.0  \n",
       "10       0.0  0.0  0.0  0.0  0.0  0.0  0.0  0.0  0.0  \n",
       "100      0.0  0.0  0.0  0.0  0.0  0.0  0.0  0.0  0.0  \n",
       "1000     0.0  0.0  0.0  0.0  0.0  0.0  0.0  0.0  0.0  \n",
       "1001     0.0  0.0  0.0  0.0  0.0  0.0  0.0  0.0  0.0  \n",
       "\n",
       "[5 rows x 3706 columns]"
      ]
     },
     "execution_count": 8,
     "metadata": {},
     "output_type": "execute_result"
    }
   ],
   "source": [
    "R_df = ratings_df.pivot(index = 'UserID', columns ='MovieID', values = 'Rating').fillna(0)\n",
    "R_df.head()"
   ]
  },
  {
   "cell_type": "markdown",
   "metadata": {
    "id": "x7IOkmaUFQr0"
   },
   "source": [
    "de-mean the data (normalize by each users mean) and convert it from a dataframe to a numpy array."
   ]
  },
  {
   "cell_type": "code",
   "execution_count": 9,
   "metadata": {
    "id": "pzlSaEyvFQr0"
   },
   "outputs": [],
   "source": [
    "#R = R_df.as_matrix()\n",
    "R = R_df.values\n",
    "user_ratings_mean = np.mean(R, axis = 1)\n",
    "R_demeaned = R - user_ratings_mean.reshape(-1, 1)"
   ]
  },
  {
   "cell_type": "markdown",
   "metadata": {
    "id": "T5na50XJFQr0"
   },
   "source": [
    "# Sample test data"
   ]
  },
  {
   "cell_type": "markdown",
   "metadata": {
    "id": "J4Xtx-9lFQr0"
   },
   "source": [
    "create test data by sampling (and removing) 2,500 ratings"
   ]
  },
  {
   "cell_type": "code",
   "execution_count": 10,
   "metadata": {
    "id": "8EByQnk4FQr1"
   },
   "outputs": [],
   "source": [
    "rated_indices = np.argwhere(R_demeaned>0)"
   ]
  },
  {
   "cell_type": "code",
   "execution_count": 11,
   "metadata": {
    "id": "vT2KD9EhFQr1"
   },
   "outputs": [],
   "source": [
    "test_set = random.sample(list(rated_indices), 2500)"
   ]
  },
  {
   "cell_type": "code",
   "execution_count": 12,
   "metadata": {
    "colab": {
     "base_uri": "https://localhost:8080/"
    },
    "id": "CMRKm9stFQr1",
    "outputId": "6da578c5-6a68-4aea-d92c-3a4390ce65ac"
   },
   "outputs": [
    {
     "name": "stdout",
     "output_type": "stream",
     "text": [
      "1st index is [ 296 3087] and its rating is 4.705342687533729\n"
     ]
    }
   ],
   "source": [
    "print(\"1st index is \"+str(test_set[0])+ \" and its rating is \"+str(R_demeaned[test_set[0][0], test_set[0][1]]))"
   ]
  },
  {
   "cell_type": "code",
   "execution_count": 13,
   "metadata": {
    "id": "Gh5rIYMEFQr1"
   },
   "outputs": [],
   "source": [
    "test_ratings = []\n",
    "for i in range(len(test_set)):\n",
    "    test_ratings.append(R_demeaned[test_set[i][0],test_set[i][1]])\n",
    "    R_demeaned[test_set[i][0], test_set[i][1]] = 0"
   ]
  },
  {
   "cell_type": "code",
   "execution_count": 14,
   "metadata": {
    "colab": {
     "base_uri": "https://localhost:8080/"
    },
    "id": "_NjPJAAoFQr2",
    "outputId": "d7d8b100-c904-4d71-d8c2-675850d01671"
   },
   "outputs": [
    {
     "name": "stdout",
     "output_type": "stream",
     "text": [
      "1st index is [ 296 3087] and its rating is 0.0\n"
     ]
    }
   ],
   "source": [
    "print(\"1st index is \" + str(test_set[0]) + \" and its rating is \" + str(R_demeaned[test_set[0][0], test_set[0][1]]))"
   ]
  },
  {
   "cell_type": "markdown",
   "metadata": {
    "id": "5n354RGTFQr2"
   },
   "source": [
    "# Singular Value Decomposition"
   ]
  },
  {
   "cell_type": "markdown",
   "metadata": {
    "id": "xwEz2Y80FQr2"
   },
   "source": [
    "Scipy function svds allow to choose the number of latent factors"
   ]
  },
  {
   "cell_type": "code",
   "execution_count": 15,
   "metadata": {
    "id": "bBi4rdTaFQr2"
   },
   "outputs": [],
   "source": [
    "U, sigma, Vt = svds(R_demeaned, k = 50)"
   ]
  },
  {
   "cell_type": "markdown",
   "metadata": {
    "id": "FtSNnwDhFQr2"
   },
   "source": [
    "convert it to the diagonal matrix form."
   ]
  },
  {
   "cell_type": "code",
   "execution_count": 16,
   "metadata": {
    "id": "s38Vyz21FQr3"
   },
   "outputs": [],
   "source": [
    "sigma = np.diag(sigma)"
   ]
  },
  {
   "cell_type": "markdown",
   "metadata": {
    "id": "XxWBzp30FQr3"
   },
   "source": [
    "# Making Predictions from the Decomposed Matrices"
   ]
  },
  {
   "cell_type": "markdown",
   "metadata": {
    "id": "-6ghmKr1FQr3"
   },
   "source": [
    "can predict by simply multiplying the matrices to get the rank k=50 approximation of the ratings matrix.\n",
    "(also need to add the user means back)"
   ]
  },
  {
   "cell_type": "code",
   "execution_count": 17,
   "metadata": {
    "id": "ACI5H95uFQr3"
   },
   "outputs": [],
   "source": [
    "predicted_ratings = np.dot(np.dot(U, sigma), Vt) + user_ratings_mean.reshape(-1, 1)\n",
    "preds_df = pd.DataFrame(predicted_ratings, columns = R_df.columns)"
   ]
  },
  {
   "cell_type": "code",
   "execution_count": 18,
   "metadata": {
    "id": "Nx9_jc3MFQr3"
   },
   "outputs": [],
   "source": [
    "pred_set = [max(predicted_ratings[x[0], x[1]],0) for x in test_set]"
   ]
  },
  {
   "cell_type": "code",
   "execution_count": 19,
   "metadata": {
    "colab": {
     "base_uri": "https://localhost:8080/",
     "height": 359
    },
    "id": "NmKmN97GFQr4",
    "outputId": "f9076ba2-4488-402c-e2b1-a54d90992be6"
   },
   "outputs": [
    {
     "data": {
      "text/html": [
       "<div>\n",
       "<style scoped>\n",
       "    .dataframe tbody tr th:only-of-type {\n",
       "        vertical-align: middle;\n",
       "    }\n",
       "\n",
       "    .dataframe tbody tr th {\n",
       "        vertical-align: top;\n",
       "    }\n",
       "\n",
       "    .dataframe thead th {\n",
       "        text-align: right;\n",
       "    }\n",
       "</style>\n",
       "<table border=\"1\" class=\"dataframe\">\n",
       "  <thead>\n",
       "    <tr style=\"text-align: right;\">\n",
       "      <th></th>\n",
       "      <th>act</th>\n",
       "      <th>pred</th>\n",
       "    </tr>\n",
       "  </thead>\n",
       "  <tbody>\n",
       "    <tr>\n",
       "      <th>0</th>\n",
       "      <td>4.705343</td>\n",
       "      <td>2.292930</td>\n",
       "    </tr>\n",
       "    <tr>\n",
       "      <th>1</th>\n",
       "      <td>2.844307</td>\n",
       "      <td>1.660000</td>\n",
       "    </tr>\n",
       "    <tr>\n",
       "      <th>2</th>\n",
       "      <td>0.058824</td>\n",
       "      <td>0.720654</td>\n",
       "    </tr>\n",
       "    <tr>\n",
       "      <th>3</th>\n",
       "      <td>4.817323</td>\n",
       "      <td>1.135902</td>\n",
       "    </tr>\n",
       "    <tr>\n",
       "      <th>4</th>\n",
       "      <td>1.869401</td>\n",
       "      <td>0.222807</td>\n",
       "    </tr>\n",
       "    <tr>\n",
       "      <th>5</th>\n",
       "      <td>3.722612</td>\n",
       "      <td>2.738209</td>\n",
       "    </tr>\n",
       "    <tr>\n",
       "      <th>6</th>\n",
       "      <td>1.586346</td>\n",
       "      <td>1.827266</td>\n",
       "    </tr>\n",
       "    <tr>\n",
       "      <th>7</th>\n",
       "      <td>4.871560</td>\n",
       "      <td>1.795515</td>\n",
       "    </tr>\n",
       "    <tr>\n",
       "      <th>8</th>\n",
       "      <td>2.588505</td>\n",
       "      <td>2.599185</td>\n",
       "    </tr>\n",
       "    <tr>\n",
       "      <th>9</th>\n",
       "      <td>0.942256</td>\n",
       "      <td>0.350657</td>\n",
       "    </tr>\n",
       "  </tbody>\n",
       "</table>\n",
       "</div>"
      ],
      "text/plain": [
       "        act      pred\n",
       "0  4.705343  2.292930\n",
       "1  2.844307  1.660000\n",
       "2  0.058824  0.720654\n",
       "3  4.817323  1.135902\n",
       "4  1.869401  0.222807\n",
       "5  3.722612  2.738209\n",
       "6  1.586346  1.827266\n",
       "7  4.871560  1.795515\n",
       "8  2.588505  2.599185\n",
       "9  0.942256  0.350657"
      ]
     },
     "execution_count": 19,
     "metadata": {},
     "output_type": "execute_result"
    }
   ],
   "source": [
    "res_df = pd.DataFrame()\n",
    "\n",
    "res_df[\"act\"]=test_ratings\n",
    "res_df[\"pred\"]=pred_set\n",
    "res_df.head(10)"
   ]
  },
  {
   "cell_type": "markdown",
   "metadata": {
    "id": "8G6m24E0FQr4"
   },
   "source": [
    "finally, let's evaluate the RMSE:"
   ]
  },
  {
   "cell_type": "code",
   "execution_count": 20,
   "metadata": {
    "colab": {
     "base_uri": "https://localhost:8080/"
    },
    "id": "DTD1vmFVFQr4",
    "outputId": "e82e0880-200c-44f0-ef70-78dab3c01d73"
   },
   "outputs": [
    {
     "data": {
      "text/plain": [
       "2.196816569497359"
      ]
     },
     "execution_count": 20,
     "metadata": {},
     "output_type": "execute_result"
    }
   ],
   "source": [
    "np.sqrt(mse(test_ratings, pred_set))"
   ]
  },
  {
   "cell_type": "markdown",
   "metadata": {
    "id": "3yWb6ZT_Ur74"
   },
   "source": [
    "# SVT"
   ]
  },
  {
   "cell_type": "code",
   "execution_count": 21,
   "metadata": {},
   "outputs": [],
   "source": [
    "def get_train_set(data, indices):\n",
    "    data = data.copy()\n",
    "    data[indices[:,0],indices[:,1]] = 0\n",
    "    return data\n",
    "\n",
    "def normalize(data, mean):\n",
    "    return data\n",
    "\n",
    "def denormalize(data, mean):\n",
    "    return data\n",
    "\n",
    "def rmse(y_pred, y_true):\n",
    "    return np.sqrt(np.mean((y_pred-y_true)**2))"
   ]
  },
  {
   "cell_type": "code",
   "execution_count": 22,
   "metadata": {
    "id": "LDbTBKVquNCl"
   },
   "outputs": [],
   "source": [
    "# def SVT(M, iterations, func, tau, delta, debug=True):\n",
    "#     Omega = M.nonzero()\n",
    "#     tol = 0.001\n",
    "#     incre = 5\n",
    "    \n",
    "#     # SVT\n",
    "#     r = 0\n",
    "#     P_Omega_M = ss.csr_matrix((np.ravel(M[Omega]), Omega), shape=M.shape)\n",
    "#     normProjM = norm(P_Omega_M)\n",
    "#     k0 = np.ceil(tau / (delta * normProjM))\n",
    "#     Y = k0 * delta * P_Omega_M\n",
    "    \n",
    "#     bar = tqdm(range(iterations))\n",
    "    \n",
    "#     rmses = []\n",
    "#     for k in bar:\n",
    "#         s = r + 1\n",
    "#         sparse_Y = ss.csc_matrix(Y)\n",
    "#         u1, s1, v1 = sparsesvd(sparse_Y, s)\n",
    "#         while np.min(s1) > tau and s >= min(*M.shape):\n",
    "#             u1, s1, v1 = sparsesvd(sparse_Y, s)\n",
    "#             s+=incre\n",
    "        \n",
    "#         r = np.sum(s1 > tau)\n",
    "#         U = u1.T[:, :r]\n",
    "#         V = v1[:r, :]\n",
    "#         S = s1[:r] - tau\n",
    "#         x = (U * S).dot(V)\n",
    "        \n",
    "#         x_omega = ss.csr_matrix((x[Omega], Omega), shape=M.shape)\n",
    "\n",
    "#         reconstrcution_loss = norm(x_omega - P_Omega_M) / norm(P_Omega_M)\n",
    "#         if reconstrcution_loss < tol:\n",
    "#             break\n",
    "\n",
    "#         diff = P_Omega_M - x_omega\n",
    "#         Y += delta * diff\n",
    "\n",
    "#         if k%5==0:\n",
    "#             rmse_current = rmse(M[Omega], x[Omega])\n",
    "#             test_rmse = func(x)\n",
    "#             print('Iter %d , RMSE %.3f RMSE %.3f on test' % (k, rmse_current, test_rmse))\n",
    "#             rmses.append(rmses)\n",
    "#     return x, rmses\n",
    "\n",
    "# test_true = R_df.values[test_indices[:,0],test_indices[:,1]]\n",
    "# func = lambda X: rmse(np.clip(denormalize(X, user_ratings_mean)[test_indices[:,0],test_indices[:,1]], 1, 5), test_true)\n",
    "\n",
    "# taus = [20000, 15000, 23000]\n",
    "# deltas = [1.8, 2, 5]\n",
    "\n",
    "\n",
    "# best = float('inf')\n",
    "# best_model= None\n",
    "# best_rmses = []\n",
    "\n",
    "# results = []\n",
    "# for tau, delta in itertools.product(taus,deltas):\n",
    "#     print(tau, delta)\n",
    "#     M, rmses  = SVT(train_set, 250, func, tau, delta), user_ratings_mean\n",
    "#     model = np.clip(denormalize(M), 1,5)\n",
    "#     test_pred = model[test_indices[:,0],test_indices[:,1]]\n",
    "#     score = rmse(test_pred, test_true)\n",
    "#     if score<best:\n",
    "#         best = score\n",
    "#         best_model = model\n",
    "#         best_rmses = rmses\n",
    "#     results.append({'tau': tau, 'delta': delta, 'rmse_test':score})\n",
    "#     print(results[-1])\n",
    "\n",
    "# test_pred = best_model[test_indices[:,0],test_indices[:,1]]\n",
    "\n",
    "# sample_pred_df = pd.DataFrame({'test_pred': test_pred.ravel(), 'test_true': test_true.ravel()})\n",
    "# print(sample_pred_df.head(10))"
   ]
  },
  {
   "cell_type": "code",
   "execution_count": 23,
   "metadata": {
    "id": "McRTHEUCug55"
   },
   "outputs": [],
   "source": [
    "# PREPARE DATA FOR FUNK\n",
    "\n",
    "user_ratings_mean = np.mean(R_df.values, axis = 1).reshape(-1,1)\n",
    "R_demeaned = normalize(R_df.values, user_ratings_mean)\n",
    "\n",
    "#split\n",
    "np.random.seed(SEED)\n",
    "random.seed(SEED)\n",
    "test_indices = np.array(random.sample(list(np.argwhere(R_df.values>0)), 2500))\n",
    "train_set = get_train_set(R_demeaned, test_indices)\n",
    "train_set[R_df.values == 0] = 0"
   ]
  },
  {
   "cell_type": "markdown",
   "metadata": {
    "id": "oQh7Ixoyycky"
   },
   "source": [
    "# Funk-SVD"
   ]
  },
  {
   "cell_type": "markdown",
   "metadata": {},
   "source": [
    "# Funk Preprocessing"
   ]
  },
  {
   "cell_type": "code",
   "execution_count": 24,
   "metadata": {},
   "outputs": [],
   "source": [
    "def fetch_ml_ratings(data_dir_path=None, verbose=False):\n",
    "    if data_dir_path is None:\n",
    "        data_dir_path = _get_data_dir_path(data_dir_path)\n",
    "        dirname = 'ml-1m'\n",
    "        filename = 'ratings.dat'\n",
    "        csv_path = os.path.join(data_dir_path, dirname, filename)\n",
    "        zip_path = os.path.join(data_dir_path, dirname) + '.zip'\n",
    "        url = 'http://files.grouplens.org/datasets/movielens/ml-1m.zip'\n",
    "    else:\n",
    "        csv_path = data_dir_path\n",
    "\n",
    "    if os.path.exists(csv_path):\n",
    "        # Return data loaded into a DataFrame\n",
    "        df = _ml_ratings_csv_to_df(csv_path)\n",
    "        return df\n",
    "\n",
    "    elif os.path.exists(zip_path):\n",
    "        # Unzip file before calling back itself\n",
    "        if verbose:\n",
    "            print('Unzipping data...')\n",
    "        with zipfile.ZipFile(zip_path, 'r') as zf:\n",
    "            zf.extractall(data_dir_path)\n",
    "        os.remove(zip_path)\n",
    "        return fetch_ml_ratings(verbose=verbose)\n",
    "\n",
    "    else:\n",
    "        # Download the ZIP file before calling back itself\n",
    "        if verbose:\n",
    "            print('Downloading data...')\n",
    "\n",
    "        with urllib.request.urlopen(url) as r, open(zip_path, 'wb') as f:\n",
    "            shutil.copyfileobj(r, f)\n",
    "        return fetch_ml_ratings(verbose=verbose)\n",
    "\n",
    "def _get_data_dir_path(data_dir_path=None):\n",
    "    if data_dir_path is None:\n",
    "        default = os.path.join('~', 'funk_svd_data')\n",
    "        data_dir_path = os.environ.get('FUNK_SVD_DATA', default=default)\n",
    "        data_dir_path = os.path.expanduser(data_dir_path)\n",
    "    if not os.path.exists(data_dir_path):\n",
    "        os.makedirs(data_dir_path)\n",
    "    return data_dir_path\n",
    "\n",
    "def _ml_ratings_csv_to_df(csv_path):\n",
    "    names = ['u_id', 'i_id', 'rating', 'timestamp']\n",
    "    dtype = {'u_id': np.uint32, 'i_id': np.uint32, 'rating': np.float64}\n",
    "    def date_parser(time):\n",
    "        return datetime.datetime.fromtimestamp(float(time))\n",
    "    df = pd.read_csv(csv_path, names=names, dtype=dtype, header=0,\n",
    "                     sep=r'::', parse_dates=['timestamp'],\n",
    "                     date_parser=date_parser, engine='python')\n",
    "    df.sort_values(by='timestamp', inplace=True)\n",
    "    df.reset_index(drop=True, inplace=True)\n",
    "    return df"
   ]
  },
  {
   "cell_type": "markdown",
   "metadata": {},
   "source": [
    "# Numba Methods"
   ]
  },
  {
   "cell_type": "code",
   "execution_count": 25,
   "metadata": {},
   "outputs": [],
   "source": [
    "@njit\n",
    "def _shuffle(X):\n",
    "    np.random.shuffle(X)\n",
    "    return X\n",
    "\n",
    "@njit\n",
    "def _initialization(n_users, n_items, n_factors):\n",
    "    bu = np.zeros(n_users)\n",
    "    bi = np.zeros(n_items)\n",
    "    pu = np.random.normal(0, .1, (n_users, n_factors))\n",
    "    qi = np.random.normal(0, .1, (n_items, n_factors))\n",
    "    return bu, bi, pu, qi\n",
    "\n",
    "@njit\n",
    "def _run_epoch(X, bu, bi, pu, qi, global_mean, n_factors, lr, reg):\n",
    "    for i in range(X.shape[0]):\n",
    "        user, item, rating = int(X[i, 0]), int(X[i, 1]), X[i, 2]\n",
    "\n",
    "        # Predict current rating\n",
    "        pred = global_mean + bu[user] + bi[item]\n",
    "\n",
    "        for factor in range(n_factors):\n",
    "            pred += pu[user, factor] * qi[item, factor]\n",
    "        err = rating - pred\n",
    "\n",
    "        # Update biases\n",
    "        bu[user] += lr * (err - reg * bu[user])\n",
    "        bi[item] += lr * (err - reg * bi[item])\n",
    "\n",
    "        # Update latent factors\n",
    "        for factor in range(n_factors):\n",
    "            puf = pu[user, factor]\n",
    "            qif = qi[item, factor]\n",
    "            pu[user, factor] += lr * (err * qif - reg * puf)\n",
    "            qi[item, factor] += lr * (err * puf - reg * qif)\n",
    "    return bu, bi, pu, qi\n",
    "\n",
    "@njit\n",
    "def _compute_val_metrics(X_val, bu, bi, pu, qi, global_mean, n_factors):\n",
    "    residuals = []\n",
    "    for i in range(X_val.shape[0]):\n",
    "        user, item, rating = int(X_val[i, 0]), int(X_val[i, 1]), X_val[i, 2]\n",
    "        pred = global_mean\n",
    "        if user > -1:\n",
    "            pred += bu[user]\n",
    "        if item > -1:\n",
    "            pred += bi[item]\n",
    "        if (user > -1) and (item > -1):\n",
    "            for factor in range(n_factors):\n",
    "                pred += pu[user, factor] * qi[item, factor]\n",
    "        residuals.append(rating - pred)\n",
    "    residuals = np.array(residuals)\n",
    "    loss = np.square(residuals).mean()\n",
    "    rmse = np.sqrt(loss)\n",
    "    mae = np.absolute(residuals).mean()\n",
    "    return loss, rmse, mae"
   ]
  },
  {
   "cell_type": "markdown",
   "metadata": {},
   "source": [
    "# Funk SVD Class"
   ]
  },
  {
   "cell_type": "code",
   "execution_count": 26,
   "metadata": {},
   "outputs": [],
   "source": [
    "class SVD:\n",
    "    def __init__(self, lr=.005, reg=.02, n_epochs=20, n_factors=100,\n",
    "                 early_stopping=False, shuffle=False, min_delta=.001,\n",
    "                 min_rating=1, max_rating=5):\n",
    "\n",
    "        self.lr = lr\n",
    "        self.reg = reg\n",
    "        self.n_epochs = n_epochs\n",
    "        self.n_factors = n_factors\n",
    "        self.early_stopping = early_stopping\n",
    "        self.shuffle = shuffle\n",
    "        self.min_delta = min_delta\n",
    "        self.min_rating = min_rating\n",
    "        self.max_rating = max_rating\n",
    "\n",
    "    def fit(self, X, X_val=None):\n",
    "        X = self._preprocess_data(X)\n",
    "\n",
    "        if X_val is not None:\n",
    "            X_val = self._preprocess_data(X_val, train=False, verbose=False)\n",
    "            self._init_metrics()\n",
    "        self.global_mean_ = np.mean(X[:, 2])\n",
    "        self._run_sgd(X, X_val)\n",
    "        return self\n",
    "\n",
    "    def _preprocess_data(self, X, train=True, verbose=True):\n",
    "#         print('Preprocessing data...\\n')\n",
    "        X = X.copy()\n",
    "\n",
    "        if train:  # Mappings have to be created\n",
    "            user_ids = X['u_id'].unique().tolist()\n",
    "            item_ids = X['i_id'].unique().tolist()\n",
    "            n_users = len(user_ids)\n",
    "            n_items = len(item_ids)\n",
    "            user_idx = range(n_users)\n",
    "            item_idx = range(n_items)\n",
    "            self.user_mapping_ = dict(zip(user_ids, user_idx))\n",
    "            self.item_mapping_ = dict(zip(item_ids, item_idx))\n",
    "        X['u_id'] = X['u_id'].map(self.user_mapping_)\n",
    "        X['i_id'] = X['i_id'].map(self.item_mapping_)\n",
    "\n",
    "        # Tag validation set unknown users/items with -1 (enables\n",
    "        # `fast_methods._compute_val_metrics` detecting them)\n",
    "        X.fillna(-1, inplace=True)\n",
    "        \n",
    "        X['u_id'] = X['u_id'].astype(np.int32)\n",
    "        X['i_id'] = X['i_id'].astype(np.int32)\n",
    "        return X[['u_id', 'i_id', 'rating']].values\n",
    "\n",
    "    def _init_metrics(self):\n",
    "        metrics = np.zeros((self.n_epochs, 3), dtype=np.float)\n",
    "        self.metrics_ = pd.DataFrame(metrics, columns=['Loss', 'RMSE', 'MAE'])\n",
    "\n",
    "    def _run_sgd(self, X, X_val):\n",
    "        n_users = len(np.unique(X[:, 0]))\n",
    "        n_items = len(np.unique(X[:, 1]))\n",
    "        val_loss, val_rmse = '', ''\n",
    "        bu, bi, pu, qi = _initialization(n_users, n_items, self.n_factors)\n",
    "\n",
    "        # Run SGD\n",
    "        pbar = tqdm(range(self.n_epochs), desc='Epoch',\n",
    "                             ncols=110)\n",
    "        for epoch_ix in pbar:\n",
    "            pbar.set_postfix({'val_loss': val_loss, 'val_rmse': val_rmse})\n",
    "            start = self._on_epoch_begin(epoch_ix)\n",
    "\n",
    "            if self.shuffle:\n",
    "                X = _shuffle(X)\n",
    "\n",
    "            bu, bi, pu, qi = _run_epoch(X, bu, bi, pu, qi, self.global_mean_,\n",
    "                                        self.n_factors, self.lr, self.reg)\n",
    "\n",
    "            if X_val is not None:\n",
    "                self.metrics_.loc[epoch_ix, :] = _compute_val_metrics(\n",
    "                                                     X_val, bu, bi, pu, qi,\n",
    "                                                     self.global_mean_,\n",
    "                                                     self.n_factors)\n",
    "                val_loss, val_rmse = self._on_epoch_end(start,\n",
    "                                   self.metrics_.loc[epoch_ix, 'Loss'],\n",
    "                                   self.metrics_.loc[epoch_ix, 'RMSE'],\n",
    "                                   self.metrics_.loc[epoch_ix, 'MAE'])\n",
    "\n",
    "                if self.early_stopping:\n",
    "                    val_rmse = self.metrics_['RMSE'].tolist()\n",
    "                    if self._early_stopping(val_rmse, epoch_ix,\n",
    "                                            self.min_delta):\n",
    "                        break\n",
    "            else:\n",
    "                val_loss, val_rmse = self._on_epoch_end(start)\n",
    "\n",
    "        self.bu_ = bu\n",
    "        self.bi_ = bi\n",
    "        self.pu_ = pu\n",
    "        self.qi_ = qi\n",
    "\n",
    "    def predict(self, X, clip=True):\n",
    "        return [\n",
    "            self.predict_pair(u_id, i_id, clip)\n",
    "            for u_id, i_id in zip(X['u_id'], X['i_id'])\n",
    "        ]\n",
    "\n",
    "    def predict_pair(self, u_id, i_id, clip=True):\n",
    "        user_known, item_known = False, False\n",
    "        pred = self.global_mean_\n",
    "\n",
    "        if u_id in self.user_mapping_:\n",
    "            user_known = True\n",
    "            u_ix = self.user_mapping_[u_id]\n",
    "            pred += self.bu_[u_ix]\n",
    "\n",
    "        if i_id in self.item_mapping_:\n",
    "            item_known = True\n",
    "            i_ix = self.item_mapping_[i_id]\n",
    "            pred += self.bi_[i_ix]\n",
    "\n",
    "        if user_known and item_known:\n",
    "            pred += np.dot(self.pu_[u_ix], self.qi_[i_ix])\n",
    "\n",
    "        if clip:\n",
    "            pred = self.max_rating if pred > self.max_rating else pred\n",
    "            pred = self.min_rating if pred < self.min_rating else pred\n",
    "\n",
    "        return pred\n",
    "\n",
    "    def _early_stopping(self, val_rmse, epoch_idx, min_delta):\n",
    "        if epoch_idx > 0:\n",
    "            if val_rmse[epoch_idx] + min_delta > val_rmse[epoch_idx-1]:\n",
    "                self.metrics_ = self.metrics_.loc[:(epoch_idx+1), :]\n",
    "                return True\n",
    "        return False\n",
    "\n",
    "    def _on_epoch_begin(self, epoch_ix):\n",
    "        start = time.time()\n",
    "        end = '  | ' if epoch_ix < 9 else ' | '\n",
    "#         print('Epoch {}/{}'.format(epoch_ix + 1, self.n_epochs), end=end)\n",
    "\n",
    "        return start\n",
    "\n",
    "    def _on_epoch_end(self, start, val_loss=None, val_rmse=None, val_mae=None):\n",
    "        end = time.time()\n",
    "        return f'{val_loss:.3f}', f'{val_rmse:.3f}'\n",
    "#         print(f'took {end - start:.1f} sec')"
   ]
  },
  {
   "cell_type": "code",
   "execution_count": 27,
   "metadata": {
    "id": "iI9441n7DltF"
   },
   "outputs": [],
   "source": [
    "ratings_df = get_dataset()\n",
    "R_df = ratings_df.pivot(index = 'UserID', columns ='MovieID', values = 'Rating').fillna(0)"
   ]
  },
  {
   "cell_type": "code",
   "execution_count": 28,
   "metadata": {
    "id": "LVakVYG0rT_C"
   },
   "outputs": [],
   "source": [
    "seed_everything()\n",
    "test_indices = np.array(random.sample(list(np.argwhere(R_df.values>0)), 2500))"
   ]
  },
  {
   "cell_type": "code",
   "execution_count": 29,
   "metadata": {
    "colab": {
     "base_uri": "https://localhost:8080/",
     "height": 204
    },
    "id": "-6PSReAzrbvQ",
    "outputId": "539848f5-c47e-4a7d-8558-02545f03bbc0"
   },
   "outputs": [
    {
     "data": {
      "text/html": [
       "<div>\n",
       "<style scoped>\n",
       "    .dataframe tbody tr th:only-of-type {\n",
       "        vertical-align: middle;\n",
       "    }\n",
       "\n",
       "    .dataframe tbody tr th {\n",
       "        vertical-align: top;\n",
       "    }\n",
       "\n",
       "    .dataframe thead th {\n",
       "        text-align: right;\n",
       "    }\n",
       "</style>\n",
       "<table border=\"1\" class=\"dataframe\">\n",
       "  <thead>\n",
       "    <tr style=\"text-align: right;\">\n",
       "      <th></th>\n",
       "      <th>u_id</th>\n",
       "      <th>i_id</th>\n",
       "      <th>rating</th>\n",
       "    </tr>\n",
       "  </thead>\n",
       "  <tbody>\n",
       "    <tr>\n",
       "      <th>974970</th>\n",
       "      <td>1265</td>\n",
       "      <td>1732</td>\n",
       "      <td>4.0</td>\n",
       "    </tr>\n",
       "    <tr>\n",
       "      <th>540199</th>\n",
       "      <td>2456</td>\n",
       "      <td>2105</td>\n",
       "      <td>3.0</td>\n",
       "    </tr>\n",
       "    <tr>\n",
       "      <th>843159</th>\n",
       "      <td>1449</td>\n",
       "      <td>2959</td>\n",
       "      <td>4.0</td>\n",
       "    </tr>\n",
       "    <tr>\n",
       "      <th>98506</th>\n",
       "      <td>5350</td>\n",
       "      <td>2640</td>\n",
       "      <td>2.0</td>\n",
       "    </tr>\n",
       "    <tr>\n",
       "      <th>440052</th>\n",
       "      <td>3323</td>\n",
       "      <td>3468</td>\n",
       "      <td>4.0</td>\n",
       "    </tr>\n",
       "  </tbody>\n",
       "</table>\n",
       "</div>"
      ],
      "text/plain": [
       "        u_id  i_id  rating\n",
       "974970  1265  1732     4.0\n",
       "540199  2456  2105     3.0\n",
       "843159  1449  2959     4.0\n",
       "98506   5350  2640     2.0\n",
       "440052  3323  3468     4.0"
      ]
     },
     "execution_count": 29,
     "metadata": {},
     "output_type": "execute_result"
    }
   ],
   "source": [
    "df = fetch_ml_ratings().drop(columns=['timestamp'])\n",
    "\n",
    "def split(df, R_df, test_indices):\n",
    "    x_indices = test_indices[:,0]\n",
    "    y_indices = test_indices[:,1]\n",
    "    u_ids = R_df.index[x_indices].astype(int)\n",
    "    i_ids = R_df.columns[y_indices].astype(int)\n",
    "\n",
    "    test = []\n",
    "    for u_id, i_id in zip(u_ids, i_ids):\n",
    "        test.append(df.loc[(df['u_id'] == u_id) & (df['i_id'] == i_id)])\n",
    "    test_df = pd.concat(test)\n",
    "    train_df= df.drop(test_df.index.tolist())\n",
    "\n",
    "    return train_df, test_df\n",
    "\n",
    "train_df, test_df = split(df, R_df, test_indices)\n",
    "test_df.head()"
   ]
  },
  {
   "cell_type": "code",
   "execution_count": 30,
   "metadata": {
    "cellView": "code",
    "id": "vfXchdoCr7Z5"
   },
   "outputs": [
    {
     "name": "stderr",
     "output_type": "stream",
     "text": [
      "Epoch: 100%|████████████████████████████████| 100/100 [00:07<00:00, 12.51it/s, val_loss=0.747, val_rmse=0.864]"
     ]
    },
    {
     "name": "stdout",
     "output_type": "stream",
     "text": [
      "Test RMSE: 0.8627\n",
      "\n",
      "Hyperparams: \n",
      "('shuffle', False)\n",
      "('min_rating', 1)\n",
      "('max_rating', 5)\n",
      "('early_stopping', False)\n",
      "('min_delta', 1e-05)\n",
      "('lr', 0.001)\n",
      "('reg', 0.002)\n",
      "('n_epochs', 100)\n",
      "('n_factors', 20)\n"
     ]
    },
    {
     "name": "stderr",
     "output_type": "stream",
     "text": [
      "\n"
     ]
    }
   ],
   "source": [
    "def funk(train, test, **kw):\n",
    "    hparams = '\\n'.join(map(str, kw.items()))\n",
    "    seed_everything()\n",
    "    svd = SVD(**kw)\n",
    "    svd.fit(X=train, X_val=test)\n",
    "    y_true, y_pred = test['rating'], svd.predict(test)\n",
    "    print(f\"Test RMSE: {rmse(y_true, y_pred):.4f}\\n\\nHyperparams: \\n{hparams}\")\n",
    "\n",
    "funk(train=train_df, test=test_df,\n",
    "                shuffle=False, min_rating=1, max_rating=5, early_stopping=False,\n",
    "                min_delta=.00001,\n",
    "                lr=.001,\n",
    "                reg=.002,\n",
    "                n_epochs=100,\n",
    "                n_factors=20)"
   ]
  },
  {
   "cell_type": "code",
   "execution_count": 31,
   "metadata": {},
   "outputs": [],
   "source": [
    "# Training took 16 sec\n",
    "# Test RMSE: 0.8416\n",
    "\n",
    "# Hyperparams: \n",
    "# ('shuffle', False)\n",
    "# ('min_rating', 1)\n",
    "# ('max_rating', 5)\n",
    "# ('early_stopping', False)\n",
    "# ('min_delta', 1e-05)\n",
    "# ('lr', 0.0007)\n",
    "# ('reg', 0.02)\n",
    "# ('n_epochs', 300)\n",
    "# ('n_factors', 20)\n",
    "\n",
    "# Training took 20 sec\n",
    "# Test RMSE: 0.8412\n",
    "\n",
    "# Hyperparams: \n",
    "# ('shuffle', False)\n",
    "# ('min_rating', 1)\n",
    "# ('max_rating', 5)\n",
    "# ('early_stopping', True)\n",
    "# ('min_delta', 1e-05)\n",
    "# ('lr', 0.0006)\n",
    "# ('reg', 0.015)\n",
    "# ('n_epochs', 1000)\n",
    "# ('n_factors', 25)"
   ]
  }
 ],
 "metadata": {
  "colab": {
   "collapsed_sections": [],
   "name": "Ex3.ipynb",
   "provenance": [],
   "toc_visible": true
  },
  "kernelspec": {
   "display_name": "mf",
   "language": "python",
   "name": "mf"
  },
  "language_info": {
   "codemirror_mode": {
    "name": "ipython",
    "version": 3
   },
   "file_extension": ".py",
   "mimetype": "text/x-python",
   "name": "python",
   "nbconvert_exporter": "python",
   "pygments_lexer": "ipython3",
   "version": "3.6.8"
  }
 },
 "nbformat": 4,
 "nbformat_minor": 1
}
